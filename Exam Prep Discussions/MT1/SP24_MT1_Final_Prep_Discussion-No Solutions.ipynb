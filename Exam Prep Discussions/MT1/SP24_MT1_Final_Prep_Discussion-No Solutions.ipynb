{
  "cells": [
    {
      "cell_type": "markdown",
      "metadata": {
        "id": "view-in-github",
        "colab_type": "text"
      },
      "source": [
        "<a href=\"https://colab.research.google.com/github/gt-cse-6040/bootcamp/blob/main/Exam%20Prep%20Discussions/MT1/SP24_MT1_Final_Prep_Discussion-No%20Solutions.ipynb\" target=\"_parent\"><img src=\"https://colab.research.google.com/assets/colab-badge.svg\" alt=\"Open In Colab\"/></a>"
      ]
    },
    {
      "cell_type": "markdown",
      "id": "34748d0e",
      "metadata": {
        "id": "34748d0e"
      },
      "source": [
        "# Spring 2024 MT1 Final Bootcamp Prep"
      ]
    },
    {
      "cell_type": "markdown",
      "id": "64d3b4d0",
      "metadata": {
        "id": "64d3b4d0"
      },
      "source": [
        "\n",
        "#### The following four exercises focus on determining the strength of passwords! We will use the following nested dictionary `ranking_dict` to determine the strength of using certain characters in a password. The higher the score, the better.\n",
        "\n",
        "#### **Hint:**  For our purposes, all passwords should be converted to uppercase letters before computing their score."
      ]
    },
    {
      "cell_type": "code",
      "execution_count": null,
      "id": "3112b564",
      "metadata": {
        "id": "3112b564"
      },
      "outputs": [],
      "source": [
        "ranking_dict = {\n",
        "    \"LETTER\": {\n",
        "        \"Z\": 10,\n",
        "        \"Y\": 20,\n",
        "        \"X\": 20,\n",
        "        \"W\": 15,\n",
        "        \"V\": 10,\n",
        "        \"U\": 8,\n",
        "        \"T\": 1,\n",
        "        \"S\": 1,\n",
        "        \"R\": 1,\n",
        "        \"Q\": 20,\n",
        "        \"P\": 4,\n",
        "        \"O\": 2,\n",
        "        \"N\": 1,\n",
        "        \"M\": 2,\n",
        "        \"L\": 2,\n",
        "        \"K\": 3,\n",
        "        \"J\": 4,\n",
        "        \"I\": 2,\n",
        "        \"H\": 5,\n",
        "        \"G\": 6,\n",
        "        \"F\": 6,\n",
        "        \"E\": 1,\n",
        "        \"D\": 2,\n",
        "        \"C\": 4,\n",
        "        \"B\": 5,\n",
        "        \"A\": 1,\n",
        "    },\n",
        "    \"NUMBER\": {\n",
        "        \"0\": 1,\n",
        "        \"1\": 1,\n",
        "        \"2\": 2,\n",
        "        \"3\": 5,\n",
        "        \"4\": 2,\n",
        "        \"5\": 1,\n",
        "        \"6\": 3,\n",
        "        \"7\": 8,\n",
        "        \"8\": 5,\n",
        "        \"9\": 4\n",
        "    },\n",
        "    \"SPECIAL CHARACTER\": {\n",
        "        \"!\": 1,\n",
        "        \"@\": 1,\n",
        "        \"#\": 5,\n",
        "        \"$\": 1,\n",
        "        \"%\": 9,\n",
        "        \"&\": 5,\n",
        "        \"*\": 2,\n",
        "        \"?\": 1\n",
        "    }\n",
        "}"
      ]
    },
    {
      "cell_type": "markdown",
      "id": "579d867a",
      "metadata": {
        "id": "579d867a"
      },
      "source": [
        "### **Exercise 0:**\n",
        "\n",
        "Let us first find the relative strength of a character within a password using both `ranking_dict` and the number of times that character appears in the password. The more times a character appears in a password, the less strong the password is. Complete the function `find_relative_strength` as follows:\n",
        "\n",
        "**Input:**\n",
        "1. `password` is a string.\n",
        "2. `character` is a string. It is the character within the password that we want to determine the relative strength of.\n",
        "3. `char_type` is a string. This is type of `character` - either 'LETTER', 'NUMBER', or 'SPECIAL CHARACTER'\n",
        "   \n",
        "**Behavior:**\n",
        "- Count the number of times `character` appears in `password`.\n",
        "- If `character` exists within `ranking_dict`, find its score. If it does not, raise a ValueError with message 'Does Not Exist!'\n",
        "- If you were able to find a score, compute the relative strength of the character as: **score / number of times character appeared in password**\n",
        "\n",
        "*Hint:*  If the character has the type 'LETTER', convert the password to uppercase before counting the number of times the character appears in the password.\n",
        "\n",
        "**Output:**\n",
        "\n",
        "Return the relative strength as a float value."
      ]
    },
    {
      "cell_type": "code",
      "execution_count": null,
      "id": "21c7e215-6e8d-48c9-b3dd-621c8ea12cc8",
      "metadata": {
        "id": "21c7e215-6e8d-48c9-b3dd-621c8ea12cc8"
      },
      "outputs": [],
      "source": [
        "## Exercise 0: Demo Data\n",
        "demo_password_0 = 'iLOVEcse6040'\n",
        "demo_character_0 = '0'\n",
        "demo_type_0 = 'NUMBER'"
      ]
    },
    {
      "cell_type": "markdown",
      "id": "5282b466-1b49-48ff-8db0-fc67d6779f7f",
      "metadata": {
        "id": "5282b466-1b49-48ff-8db0-fc67d6779f7f"
      },
      "source": [
        "A correct solution to the demo input should produce a score of **0.5** as `0` appears twice in the password."
      ]
    },
    {
      "cell_type": "code",
      "execution_count": null,
      "id": "afc3e251",
      "metadata": {
        "id": "afc3e251",
        "outputId": "44447b0a-5155-4d27-9b67-e2a2f75aff8e"
      },
      "outputs": [
        {
          "data": {
            "text/plain": [
              "0.5"
            ]
          },
          "execution_count": 9,
          "metadata": {},
          "output_type": "execute_result"
        }
      ],
      "source": [
        "## Exercise 0 Solution:\n",
        "\n",
        "def find_relative_strength(password: str, character: str, char_type: str) -> float:\n",
        "    '''\n",
        "    INPUT:\n",
        "\n",
        "    GOAL:\n",
        "\n",
        "    STRATEGY:\n",
        "    1.\n",
        "    '''\n",
        "\n",
        "    # SOLUTION:\n",
        "\n",
        "\n",
        "\n",
        "find_relative_strength(demo_password_0, demo_character_0, demo_type_0)"
      ]
    },
    {
      "cell_type": "code",
      "execution_count": null,
      "id": "41ccb7e1-07eb-43a0-a7dc-398344f87ff9",
      "metadata": {
        "id": "41ccb7e1-07eb-43a0-a7dc-398344f87ff9",
        "outputId": "85edc818-3afa-44bd-e8a8-fb61f04b5579"
      },
      "outputs": [
        {
          "name": "stdout",
          "output_type": "stream",
          "text": [
            "Passed!\n"
          ]
        }
      ],
      "source": [
        "## Exercise 0 Test Cell:\n",
        "\n",
        "def catch_exception(password, char, char_type):\n",
        "    try:\n",
        "        find_relative_strength(password, char, char_type)\n",
        "    except Exception as e:\n",
        "        return e.__class__\n",
        "\n",
        "assert isinstance(find_relative_strength(demo_password_0, demo_character_0, demo_type_0), float), 'Sorry, your result is not a float!'\n",
        "assert find_relative_strength(demo_password_0, demo_character_0, demo_type_0) == 0.5, 'Sorry, your relative strength is not correct!'\n",
        "assert catch_exception('passw0rd^^', '^', 'SPECIAL CHARACTER') is ValueError\n",
        "assert find_relative_strength('123abc', '2', 'NUMBER') == 2, 'Sorry, your relative strength is not correct!'\n",
        "assert find_relative_strength('!!!!!!!!!!', '!', 'SPECIAL CHARACTER') == 0.1, 'Sorry, your relative strength is not correct!'\n",
        "\n",
        "print('Passed!')\n"
      ]
    },
    {
      "cell_type": "markdown",
      "id": "4cca1cee",
      "metadata": {
        "id": "4cca1cee"
      },
      "source": [
        "### **Exercise 1:**\n",
        "\n",
        "We have now been provided a dictionary of sets of prior passwords used, where the key is the website where the password was used, and the value is a set of the historical passwords used. We want to invert this dictionary, so the keys become the values, and the values become the keys. Complete the function `invert_dict` as follows:\n",
        "\n",
        "**Input:**\n",
        "`hist_password_dict` is a dictionary of sets. The keys are the website names where the passwords were used, and the values are sets of the historical passwords.\n",
        "   \n",
        "**Behavior:**\n",
        "- Invert the dictionary, so that the historical passwords become keys, and their values are the set of websites on which the password was used.\n",
        "- Do NOT use a default dictionary to solve this exercise.\n",
        "\n",
        "**Output:**\n",
        "\n",
        "Return a dictionary."
      ]
    },
    {
      "cell_type": "code",
      "execution_count": null,
      "id": "ab7a84a0",
      "metadata": {
        "id": "ab7a84a0"
      },
      "outputs": [],
      "source": [
        "## Exercise 1: Demo Data\n",
        "demo_hist_password_dict = {\n",
        "    'Amazon': {'iLoveDogs', 'iLoveCSE6040'},\n",
        "    'Google': {'iLoveDogs', 'password1'},\n",
        "    'Instagram': {'abc123', 'password1', 'temp_password', 'iLoveDogs'}\n",
        "}"
      ]
    },
    {
      "cell_type": "markdown",
      "id": "5aeb7722-78e5-4b97-9bbc-153b3c606100",
      "metadata": {
        "id": "5aeb7722-78e5-4b97-9bbc-153b3c606100"
      },
      "source": [
        "A correct solution to the demo input above should produce the dictionary:\n",
        "\n",
        "```python\n",
        "{'iLoveDogs': {'Amazon', 'Google', 'Instagram'},\n",
        " 'iLoveCSE6040': {'Amazon'},\n",
        " 'password1': {'Google', 'Instagram'},\n",
        " 'abc123': {'Instagram'},\n",
        " 'temp_password': {'Instagram'}}\n",
        " ```\n"
      ]
    },
    {
      "cell_type": "code",
      "execution_count": null,
      "id": "fd8edf12",
      "metadata": {
        "id": "fd8edf12",
        "outputId": "c8b8ec04-4a21-4c8f-ca93-27fcc39b2b1b"
      },
      "outputs": [
        {
          "data": {
            "text/plain": [
              "{'iLoveCSE6040': {'Amazon'},\n",
              " 'iLoveDogs': {'Amazon', 'Google', 'Instagram'},\n",
              " 'password1': {'Google', 'Instagram'},\n",
              " 'temp_password': {'Instagram'},\n",
              " 'abc123': {'Instagram'}}"
            ]
          },
          "execution_count": 12,
          "metadata": {},
          "output_type": "execute_result"
        }
      ],
      "source": [
        "## Exercise 1 Solution:\n",
        "\n",
        "def invert_dict(hist_password_dict: dict) -> dict:\n",
        "    '''\n",
        "    INPUT:\n",
        "\n",
        "    GOAL:\n",
        "\n",
        "    STRATEGY:\n",
        "    1.\n",
        "    '''\n",
        "\n",
        "    # SOLUTION:\n",
        "\n",
        "\n",
        "invert_dict(demo_hist_password_dict)"
      ]
    },
    {
      "cell_type": "code",
      "execution_count": null,
      "id": "726d73dc-5fb1-44eb-afbd-bbf16c195ad2",
      "metadata": {
        "id": "726d73dc-5fb1-44eb-afbd-bbf16c195ad2",
        "outputId": "4abb8c24-a76b-4af1-f61c-19fe23740205"
      },
      "outputs": [
        {
          "name": "stdout",
          "output_type": "stream",
          "text": [
            "Passed!\n"
          ]
        }
      ],
      "source": [
        "## Exercise 1 Test Cell:\n",
        "\n",
        "assert isinstance(invert_dict(demo_hist_password_dict), dict), 'Sorry, your result is not a dictionary!'\n",
        "assert invert_dict(demo_hist_password_dict) == {'iLoveDogs': {'Amazon', 'Google', 'Instagram'},'iLoveCSE6040': {'Amazon'},'password1': {'Google', 'Instagram'},'abc123': {'Instagram'},'temp_password': {'Instagram'}}, 'Sorry, your dictionary is not correct!'\n",
        "\n",
        "hist_password_dict_2 = {\n",
        "    'Facebook': {'thisIsApassw0rd'},\n",
        "    'Snapchat': {'thisIsApassw0rd'},\n",
        "    'Zoom': {'thisIsApassw0rd'},\n",
        "    'X': {'thisIsApassw0rd'}\n",
        "}\n",
        "assert invert_dict(hist_password_dict_2) == {'thisIsApassw0rd': {'Facebook', 'Snapchat', 'Zoom', 'X'}}, 'Sorry, your dictionary is not correct!'\n",
        "\n",
        "print('Passed!')"
      ]
    },
    {
      "cell_type": "markdown",
      "id": "25fe405d",
      "metadata": {
        "id": "25fe405d"
      },
      "source": [
        "### **Exercise 2:**\n",
        "\n",
        "Some people suggest creating passwords as an acronym from a phrase you'll remember. For example, 'I Go To The Park Every Day' would become the password 'IGTTPED'. We now want to be able to turn phrases into passwords, and then compute the relative strength of that password using the function you wrote in Exercise 0. Complete the function `rank_phrase` as follows:\n",
        "\n",
        "**Input:**\n",
        "`phrase` is a string containing a phrase.\n",
        "   \n",
        "**Behavior:**\n",
        "- Convert the phrase into its corresponding password.\n",
        "- Call the function you wrote in Exercise 0 to compute the relative strength of each character in our password. All types should be 'LETTER'.\n",
        "- Return the total score of the password by summing up the scores for every character.\n",
        "\n",
        "**Output:**\n",
        "\n",
        "Return a float value.\n",
        "\n"
      ]
    },
    {
      "cell_type": "code",
      "execution_count": null,
      "id": "a6ae609a-027c-494a-bd80-afc611a0e8a9",
      "metadata": {
        "id": "a6ae609a-027c-494a-bd80-afc611a0e8a9"
      },
      "outputs": [],
      "source": [
        "## Exercise 2: Demo Data\n",
        "\n",
        "demo_phrase_2 = 'I Go To The Park Every Day'"
      ]
    },
    {
      "cell_type": "markdown",
      "id": "1baf5019-b2f5-4286-835a-a4b1aabf648a",
      "metadata": {
        "id": "1baf5019-b2f5-4286-835a-a4b1aabf648a"
      },
      "source": [
        "A correct solution to the demo input above should produce the total score: `16.0`"
      ]
    },
    {
      "cell_type": "code",
      "execution_count": null,
      "id": "61c14d3e",
      "metadata": {
        "id": "61c14d3e",
        "outputId": "f1604484-469e-4f53-b689-63b5559779d3"
      },
      "outputs": [
        {
          "data": {
            "text/plain": [
              "16.0"
            ]
          },
          "execution_count": 15,
          "metadata": {},
          "output_type": "execute_result"
        }
      ],
      "source": [
        "## Exercise 2 Solution:\n",
        "\n",
        "def rank_phrase(phrase: str) -> float:\n",
        "    '''\n",
        "    INPUT:\n",
        "\n",
        "    GOAL:\n",
        "\n",
        "    STRATEGY:\n",
        "    1.\n",
        "    '''\n",
        "\n",
        "    # SOLUTION:\n",
        "\n",
        "\n",
        "rank_phrase(demo_phrase_2)"
      ]
    },
    {
      "cell_type": "code",
      "execution_count": null,
      "id": "4e2df2a9-f4f5-4eb5-915a-f76ec6036641",
      "metadata": {
        "id": "4e2df2a9-f4f5-4eb5-915a-f76ec6036641",
        "outputId": "c54557cd-1ddd-4e18-dc44-c3d8a2cdbdab"
      },
      "outputs": [
        {
          "name": "stdout",
          "output_type": "stream",
          "text": [
            "Passed!\n"
          ]
        }
      ],
      "source": [
        "## Exercise 2 Test Cell:\n",
        "\n",
        "assert isinstance(rank_phrase(demo_phrase_2), float), 'Sorry, your result is not a float!'\n",
        "assert rank_phrase(demo_phrase_2) == 16.0, 'Sorry, your total score is not correct!'\n",
        "assert rank_phrase('I Cannot Wait To Take This Exam') == 22.999999999999996, 'Sorry, your total score is not correct!'\n",
        "assert rank_phrase('Wild Zebras Are Very Weird') == 36.0, 'Sorry, your total score is not correct!'\n",
        "\n",
        "print('Passed!')\n"
      ]
    },
    {
      "cell_type": "markdown",
      "id": "eda0c024-8015-4fdf-a498-8aba682ed502",
      "metadata": {
        "id": "eda0c024-8015-4fdf-a498-8aba682ed502"
      },
      "source": [
        "### **Exercise 3:**\n",
        "\n",
        "It is recommended to add numbers to a password for additional strength, but many people add easily discoverable information like their birth year or age to their passwords. We now want to create a new integer using the user's birth year and age that will provide better password security for them. Complete the function `enhance_password` as follows:\n",
        "\n",
        "**Input:**\n",
        "1. `birth_year` is the binary string representation of the user's birth year, preceded by 'yr:'\n",
        "2. `age` is the binary string representation of the user's age, preceded by 'age:'\n",
        "   \n",
        "**Behavior:**\n",
        "- Remove the tags 'yr:' and 'age:' at the beginning of the strings\n",
        "- Pad the beginning of the shorter string with 0s, so they become strings of the same length\n",
        "- Concatenate the strings so that age comes before the birth year\n",
        "- Convert the string back to an integer and return\n",
        "\n",
        "*Hint:*  When you convert to an integer, what base should you use? Remember that binary numbers use only two values.\n",
        "\n",
        "**Output:**\n",
        "\n",
        "Return an integer."
      ]
    },
    {
      "cell_type": "code",
      "execution_count": null,
      "id": "14446e37-8b9e-4e32-8df8-6c0fa9244079",
      "metadata": {
        "id": "14446e37-8b9e-4e32-8df8-6c0fa9244079"
      },
      "outputs": [],
      "source": [
        "## Exercise 3: Demo Data\n",
        "\n",
        "demo_birth_year = 'yr:11111010000'\n",
        "demo_age = 'age:11000'\n"
      ]
    },
    {
      "cell_type": "markdown",
      "id": "e5e44372-841c-456d-9581-a4b64050815b",
      "metadata": {
        "id": "e5e44372-841c-456d-9581-a4b64050815b"
      },
      "source": [
        "A correct solution to the demo input above should produce the integer: `51152`"
      ]
    },
    {
      "cell_type": "code",
      "execution_count": null,
      "id": "59ff01e4-4451-4a08-b886-612964abbfa4",
      "metadata": {
        "id": "59ff01e4-4451-4a08-b886-612964abbfa4",
        "outputId": "baa056a3-a089-46f6-bd61-fca5d314253f"
      },
      "outputs": [
        {
          "data": {
            "text/plain": [
              "51152"
            ]
          },
          "execution_count": 19,
          "metadata": {},
          "output_type": "execute_result"
        }
      ],
      "source": [
        "## Exercise 3 Solution:\n",
        "\n",
        "def enhance_password(birth_year: str, age: str) -> int:\n",
        "    '''\n",
        "    INPUT:\n",
        "\n",
        "    GOAL:\n",
        "\n",
        "    STRATEGY:\n",
        "    1.\n",
        "    '''\n",
        "\n",
        "    # SOLUTION:\n",
        "\n",
        "\n",
        "\n",
        "enhance_password(demo_birth_year, demo_age)"
      ]
    },
    {
      "cell_type": "code",
      "execution_count": null,
      "id": "d7762d32-36e5-4cbd-8c44-914e55e9f38e",
      "metadata": {
        "id": "d7762d32-36e5-4cbd-8c44-914e55e9f38e",
        "outputId": "94f36ed1-6f9f-482f-f8f7-37d86c614a73"
      },
      "outputs": [
        {
          "name": "stdout",
          "output_type": "stream",
          "text": [
            "Passed!\n"
          ]
        }
      ],
      "source": [
        "## Exercise 3 Test Cell:\n",
        "\n",
        "assert isinstance(enhance_password(demo_birth_year, demo_age), int), 'Sorry, your result is not an integer!'\n",
        "assert enhance_password(demo_birth_year, demo_age) == 51152, 'Sorry, your new integer is not correct!'\n",
        "assert enhance_password('yr:11101101100', 'age:1111100') == 255852, 'Sorry, your new integer is not correct!'\n",
        "assert enhance_password('yr:11110111100', 'age:101100') == 92092, 'Sorry, your new integer is not correct!'\n",
        "\n",
        "print('Passed!')"
      ]
    }
  ],
  "metadata": {
    "kernelspec": {
      "display_name": "Python 3 (ipykernel)",
      "language": "python",
      "name": "python3"
    },
    "language_info": {
      "codemirror_mode": {
        "name": "ipython",
        "version": 3
      },
      "file_extension": ".py",
      "mimetype": "text/x-python",
      "name": "python",
      "nbconvert_exporter": "python",
      "pygments_lexer": "ipython3",
      "version": "3.8.7"
    },
    "colab": {
      "provenance": [],
      "include_colab_link": true
    }
  },
  "nbformat": 4,
  "nbformat_minor": 5
}