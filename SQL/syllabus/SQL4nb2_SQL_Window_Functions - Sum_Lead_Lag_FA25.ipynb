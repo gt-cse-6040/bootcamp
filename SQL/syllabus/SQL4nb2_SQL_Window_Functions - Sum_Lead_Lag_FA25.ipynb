{
 "cells": [
  {
   "cell_type": "markdown",
   "metadata": {
    "id": "7NiYdOyC-R8Z"
   },
   "source": [
    "# SQL Window Functions (AGGREGATIONS and LEAD/LAG)"
   ]
  },
  {
   "cell_type": "code",
   "execution_count": null,
   "metadata": {},
   "outputs": [],
   "source": [
    "!wget https://github.com/gt-cse-6040/bootcamp/raw/main/SQL/syllabus/university.db"
   ]
  },
  {
   "cell_type": "code",
   "execution_count": null,
   "metadata": {
    "id": "CHbBg4266FnD"
   },
   "outputs": [],
   "source": [
    "import pandas as pd\n",
    "from pprint import pprint, pformat\n",
    "\n",
    "import sqlite3\n",
    "conn=sqlite3.connect('university.db')\n"
   ]
  },
  {
   "cell_type": "markdown",
   "metadata": {},
   "source": [
    "# Aggregations\n",
    "\n",
    "The <b>SUM()</b> aggregation can be used both with and without the window option. \n",
    "\n",
    "If you include the `OVER()` function, it allows you to create subtotals and running summaries based on the definition of your window. `SUM()` and `SUM() OVER()` is functionally the same query, so really we've been using a window function this whole time, but just for one extremely large window."
   ]
  },
  {
   "cell_type": "markdown",
   "metadata": {},
   "source": [
    "#### If we wanted to see a running total of scholarships earned by a student, or the running total of the semester hours earned by a student if the cumulative hours column didn't exist, you can calculate those with applying a sum with a window function parameter."
   ]
  },
  {
   "cell_type": "code",
   "execution_count": null,
   "metadata": {},
   "outputs": [],
   "source": [
    "#scholarships by student\n",
    "def RunningSum() -> str:\n",
    "  return f\"\"\"\n",
    "            SELECT\n",
    "                sm.student_id,\n",
    "                ss.scholarship_term,\n",
    "                ss.scholarship_code,\n",
    "                ss.scholarship_total,\n",
    "                \n",
    "                SUM(ss.scholarship_total) OVER \n",
    "                                            (\n",
    "                                                PARTITION BY sm.student_id\n",
    "                                                ORDER BY ss.scholarship_term\n",
    "                                            ) AS running_total\n",
    "            FROM student_main sm\n",
    "                INNER JOIN student_key sk \n",
    "                    ON sm.student_id = sk.student_id\n",
    "                INNER JOIN student_scholarship ss \n",
    "                    ON sk.finance_id = ss.finance_id\n",
    "                INNER JOIN scholarship_crosswalk sc \n",
    "                    ON sc.scholarship_code = ss.scholarship_code\n",
    "            --Included because the data includes financial transactions and we just want the scholarship totals\n",
    "            WHERE scholarship_refund = 0\n",
    "        \"\"\"\n",
    "display(pd.read_sql(RunningSum(),conn))\n"
   ]
  },
  {
   "cell_type": "code",
   "execution_count": null,
   "metadata": {},
   "outputs": [],
   "source": [
    "#cum semester hours earned\n",
    "def RunningSum() -> str:\n",
    "  return f\"\"\"\n",
    "            SELECT\n",
    "                sm.student_id,\n",
    "                se.term,\n",
    "                se.semester_hours_earned,\n",
    "                \n",
    "                SUM(se.semester_hours_earned) OVER (\n",
    "                                                        PARTITION BY sm.student_id\n",
    "                                                        ORDER BY se.term\n",
    "                                                    ) AS running_total_hours\n",
    "                \n",
    "            FROM student_main sm\n",
    "            INNER JOIN student_enrollment se \n",
    "                ON sm.student_id = se.student_id\n",
    "            ORDER BY sm.student_id, se.term\n",
    "        \"\"\"\n",
    "display(pd.read_sql(RunningSum(),conn))"
   ]
  },
  {
   "cell_type": "markdown",
   "metadata": {},
   "source": [
    "### While we only showed `SUM()` here, the above principles can be applied to all of the SQL Aggregate functions referenced previously, in the first Bootcamp SQL session.\n",
    "\n",
    "We leave the application of these additional aggregate functions as an exercise for the students."
   ]
  },
  {
   "cell_type": "markdown",
   "metadata": {},
   "source": [
    "# LEAD / LAG\n",
    "\n",
    "Our final example will be the `LEAD()` and `LAG()` functions.\n",
    "\n",
    "They allow you to look `ahead (LEAD)` or `behind (LAG)` the current row to make comparisions between the two rows. \n",
    "\n",
    "This is very helpful for `time series analysis` and `change detection`.\n",
    "\n",
    "https://sqlite.org/windowfunctions.html\n"
   ]
  },
  {
   "cell_type": "markdown",
   "metadata": {},
   "source": [
    "## Let's say that the administration is looking to find out which students are taking semester (or more) breaks.\n",
    "\n",
    "#### Additionally, if the student has not been enrolled at all after that semester, the administration also wants to know that.\n",
    "\n",
    "We can use the `julianday()` (also known as `datediff` in most other SQL versions) function and the `LEAD()` window function to see which students have a gap of more than one semester by comparing the current row's semester start date against the next row's semester start date.\n"
   ]
  },
  {
   "cell_type": "markdown",
   "metadata": {},
   "source": [
    "### While what we are about to do may seem like a contrived example, it illustrates `TWO KEY FACTORS` that you will face in a Data Analytics role.\n",
    "\n",
    "1. Data that needs to be analyzed **may not** be in a format that allows for direct analysis. As a result, `YOU, as the DA/DS` may have to make data assumptions and do data conversions in order to perform the required analysis.\n",
    "\n",
    "    -- Any data assumptions you make MUST BE confirmed with the customers of your analysis, before performing them.\n",
    "\n",
    "2. The tools that you are working with (in this case SQLITE) may not have direct functions to make the conversions you need. So you may need to put together sequences of operations, using the available functions."
   ]
  },
  {
   "cell_type": "markdown",
   "metadata": {},
   "source": [
    "### What we are about to do is one way to solve the requirement. There are many ways to do this, and this is simply to show one method.\n",
    "\n",
    "### Finally, it is not unreasonable that a question such as this might be on an exam. The assumptions we are about to make would be provided, along with some form of hint to use the functions discussed below. This would be a 3-point question, for sure."
   ]
  },
  {
   "cell_type": "markdown",
   "metadata": {},
   "source": [
    "### So let's look at our data. \n",
    "\n",
    "#### What we need to figure out is how to compute if a term has been skipped."
   ]
  },
  {
   "cell_type": "code",
   "execution_count": null,
   "metadata": {},
   "outputs": [],
   "source": [
    "#LEAD Example\n",
    "def terms() -> str:\n",
    "  return f\"\"\"\n",
    "            SELECT DISTINCT se.term\n",
    "            FROM student_enrollment se\n",
    "            ORDER BY se.term\n",
    "            LIMIT 6\n",
    "        \"\"\"\n",
    "display(pd.read_sql(terms(),conn))"
   ]
  },
  {
   "cell_type": "markdown",
   "metadata": {},
   "source": [
    "#### We can see that the terms are defined as a STRING format, as YYYYMM. As there is no DATE format in SQLite, we are going to have to do some work.\n",
    "\n",
    "We also see that there are 3 terms in a year, starting in January, May, and August.\n",
    "\n",
    "Because we don't have the actual start dates for each term, **we will make the assumption that each term starts on the first of that month.** \n",
    "\n",
    "While this may not be realistic for New Year's Day, we will go with it, for ease of computations."
   ]
  },
  {
   "cell_type": "markdown",
   "metadata": {},
   "source": [
    "#### From this assumption, we can formulate a rule to compute if a student is registered in consecutive semesters (or not).\n",
    "\n",
    "We can see that the semester start dates are all less than 6 months apart, so we can know that, if the date difference between consecutive semester start dates is greater than 180 days (approximately 6 months), then the student has skipped a sememster."
   ]
  },
  {
   "cell_type": "markdown",
   "metadata": {},
   "source": [
    "### What we want to do is use the `julianday()` function to determine if the student enrollments are greater than 180 days apart.\n",
    "\n",
    "Top do this, we subtract the `julianday()` of the later semester from the `julianday()` of the prior semester, to return the number of days between the semester start dates. If this number is greater than 180, then we know that the student skipped a semester.\n",
    "\n",
    "We can see from the below link that this function takes a date in the form of `yyyy-mm-dd` to return the julian day.\n",
    "\n",
    "https://www.sqlitetutorial.net/sqlite-date-functions/sqlite-julianday-function/"
   ]
  },
  {
   "cell_type": "markdown",
   "metadata": {},
   "source": [
    "### So we must convert the term, in the format `yyyymm` to the format `yyyy-mm-dd`, with the day being `01`.\n",
    "\n",
    "We must then use that conversion in our date difference calculations."
   ]
  },
  {
   "cell_type": "markdown",
   "metadata": {},
   "source": [
    "### The SQL to do this conversion uses the SUBST and CONCAT functions, as follows:\n",
    "\n",
    "`CONCAT(SUBSTR(se.term,1,4),'-',SUBSTR(se.term,5,2),'-01')`\n",
    "\n",
    "This will return a STRING, such as `2015-01-01`, which will allow us to pass it to the `julianday` function."
   ]
  },
  {
   "cell_type": "markdown",
   "metadata": {},
   "source": [
    "### First, we will create a CTE in which we will compute three data points for the current and next terms, and make our calculations from them.\n",
    "\n",
    "1. Term acronym, as defined in the `student_enrollment` table.\n",
    "2. Term start date, in the form `yyyy-mm-dd`, using the SUBSTR and CONCAT functions.\n",
    "3. Julianday for each term start date."
   ]
  },
  {
   "cell_type": "markdown",
   "metadata": {},
   "source": [
    "### Finally, our query will use the CTE to compute the date difference and return a string that tells if the student has skipped a semester, or if they have not enrolled at all, after that semester."
   ]
  },
  {
   "cell_type": "code",
   "execution_count": null,
   "metadata": {},
   "outputs": [],
   "source": [
    "#LEAD Example\n",
    "def LeadExampleLRH() -> str:\n",
    "  return f\"\"\"\n",
    "            WITH CTE_JULIAN_DAYS AS (\n",
    "                            SELECT\n",
    "                                sm.student_id,\n",
    "                                --compute three pieces of information for current term\n",
    "                                se.term\n",
    "                                ,CONCAT(SUBSTR(se.term,1,4),'-',SUBSTR(se.term,5,2),'-01') as \"term_start_date\"\n",
    "                                ,julianday(CONCAT(SUBSTR(se.term,1,4),'-',SUBSTR(se.term,5,2),'-01'))  as\"term_julianday\"\n",
    "\n",
    "                                --compute three pieces of information for next term\n",
    "                                ,LEAD(se.term) OVER (\n",
    "                                                    PARTITION BY sm.student_id\n",
    "                                                    ORDER BY se.term\n",
    "                                                ) AS next_term\n",
    "                                ,LEAD(CONCAT(SUBSTR(se.term,1,4),'-',SUBSTR(se.term,5,2),'-01')) OVER (\n",
    "                                                    PARTITION BY sm.student_id\n",
    "                                                    ORDER BY se.term\n",
    "                                                ) AS next_term_start_date\n",
    "                                ,LEAD(julianday(CONCAT(SUBSTR(se.term,1,4),'-',SUBSTR(se.term,5,2),'-01'))) OVER (\n",
    "                                                    PARTITION BY sm.student_id\n",
    "                                                    ORDER BY se.term\n",
    "                                                ) AS next_term_julianday\n",
    "                                                \n",
    "                            FROM student_main sm\n",
    "                            INNER JOIN student_enrollment se \n",
    "                                ON sm.student_id = se.student_id\n",
    "                            --ORDER BY sm.student_id, se.term;\n",
    "                )\n",
    "                SELECT student_id\n",
    "                        ,term\n",
    "                        ,term_start_date\n",
    "                        ,term_julianday \n",
    "                        ,next_term\n",
    "                        ,next_term_start_date\n",
    "                        ,next_term_julianday\n",
    "                        ,CASE \n",
    "                            WHEN next_term_start_date IS NULL THEN 'Not enrolled after this term'\n",
    "                            WHEN (next_term_julianday - term_julianday) > 180 THEN 'GAP > 6 months'\n",
    "                            ELSE 'No significant gap'\n",
    "                        END AS gap_flag\n",
    "                FROM CTE_JULIAN_DAYS\n",
    "        \n",
    "        \"\"\"\n",
    "display(pd.read_sql(LeadExampleLRH(),conn))"
   ]
  },
  {
   "cell_type": "markdown",
   "metadata": {},
   "source": [
    "## Now let's say that the advisors want to reach out to students who have had their GPA drop in consecutive semesters."
   ]
  },
  {
   "cell_type": "markdown",
   "metadata": {},
   "source": [
    "### We can use the LAG() function, in a more straightforward manner, do compute this.\n",
    "\n",
    "`LAG()` will give us the previous value (in this case, the term), and we can do our computations based on that."
   ]
  },
  {
   "cell_type": "code",
   "execution_count": null,
   "metadata": {},
   "outputs": [],
   "source": [
    "#LAG Example\n",
    "def LagExample() -> str:\n",
    "  return f\"\"\"\n",
    "            SELECT\n",
    "                sm.student_id,\n",
    "                LAG(se.term) OVER (\n",
    "                                    PARTITION BY sm.student_id\n",
    "                                    ORDER BY se.term\n",
    "                                ) AS previous_term,\n",
    "                se.term,\n",
    "                LAG(se.semester_gpa) OVER (\n",
    "                                            PARTITION BY sm.student_id\n",
    "                                            ORDER BY se.term\n",
    "                                        ) AS prev_semester_gpa,\n",
    "                                        \n",
    "                se.semester_gpa,\n",
    "                se.semester_gpa - (LAG(se.semester_gpa) OVER (\n",
    "                                            PARTITION BY sm.student_id\n",
    "                                            ORDER BY se.term\n",
    "                                            ) \n",
    "                                    ) AS gpa_raise_drop\n",
    "            \n",
    "            FROM student_main sm\n",
    "            INNER JOIN student_enrollment se \n",
    "                ON sm.student_id = se.student_id\n",
    "            ORDER BY sm.student_id, se.term\n",
    "        \"\"\"\n",
    "display(pd.read_sql(LagExample(),conn))"
   ]
  },
  {
   "cell_type": "markdown",
   "metadata": {},
   "source": [
    "## The below example will not be covered in the live session. It is included for additional knowledge on the use of these functions."
   ]
  },
  {
   "cell_type": "markdown",
   "metadata": {},
   "source": [
    "**_Extra Data Engineering Example_** <br>\n",
    "While this class will not test you on data engineering coding, this is included as an additional example of a common use case of the <b>ROW_NUMBER()</b> window function:<br>\n",
    "\n",
    "Row numbers can be super useful if you need an unique identifier in tables where you have duplicates. For instance, say your data engineering pipeline springs a leak and student scholarship information is duplicated or even triplicated. Rather than having to manually go through the table and delete the rows one by one, you can query the table using the row number function partioned by ID so the row number resets after each person and then delete where row_number > 1."
   ]
  },
  {
   "cell_type": "code",
   "execution_count": null,
   "metadata": {},
   "outputs": [],
   "source": [
    "#code to populate table\n",
    "def DEExample():\n",
    "    return \"\"\"\n",
    "    --Pretend table creation\n",
    " WITH example(id, name) AS (\n",
    "    VALUES\n",
    "        (1, 'Alice'),\n",
    "        (1, 'Alice'),\n",
    "        (2, 'Bob'),\n",
    "        (2, 'Bob'),\n",
    "        (3, 'Charlie'),\n",
    "        (3, 'Charlie'),\n",
    "        (4, 'Diana'),\n",
    "        (4, 'Diana'),\n",
    "        (5, 'Eve'),\n",
    "        (5, 'Eve')\n",
    ")\n",
    "SELECT \n",
    "    id,\n",
    "    name,\n",
    "    ROW_NUMBER() OVER (PARTITION BY id ORDER BY id) AS row_num\n",
    "FROM example;\n",
    "\n",
    "    \"\"\"\n",
    "display(pd.read_sql(DEExample(), conn))"
   ]
  },
  {
   "cell_type": "markdown",
   "metadata": {},
   "source": [
    "If this was a real situation, you could then write a delete statement to delete from table where row_num = 2 and fix the data."
   ]
  },
  {
   "cell_type": "markdown",
   "metadata": {},
   "source": [
    "**ADDITIONAL READING**<br>\n",
    "_This book is focused specifically on Microsoft SQL / T-SQL, but the book goes into great detail about the history and philosophy behind SQL itself and window functions. The syntax between T-SQL and SQLite is almost identical in this case._ <br>\n",
    "T-SQL Window Functions: For data analysis and beyond, 2nd Edition <br>\n",
    "https://learning.oreilly.com/library/view/t-sql-window-functions/9780135861554/\n",
    "<br><br>\n",
    "_His book_ T-SQL Fundamentals, 4th Edition _also goes into great detail about all things SQL._ <br>\n",
    "https://learning.oreilly.com/library/view/t-sql-fundamentals-4th/9780138101930/ <br><br>\n",
    "\n",
    "DataLemur is also an excellent resource for learning PostgreSQL, which is what SQLite is modeled on.<br>\n",
    "https://datalemur.com/sql-tutorial/sql-aggregate-window-functions <br>\n",
    "https://datalemur.com/sql-tutorial/query-order-of-execution\n"
   ]
  }
 ],
 "metadata": {
  "colab": {
   "collapsed_sections": [
    "PWImU2THShuH",
    "d7zHxya1aUgw",
    "Mhn-d4lm2wwR",
    "7kqw577W26lp",
    "PVsl_6v33exL",
    "tkRUmfN655gH"
   ],
   "provenance": []
  },
  "kernelspec": {
   "display_name": "Python 3 (ipykernel)",
   "language": "python",
   "name": "python3"
  },
  "language_info": {
   "codemirror_mode": {
    "name": "ipython",
    "version": 3
   },
   "file_extension": ".py",
   "mimetype": "text/x-python",
   "name": "python",
   "nbconvert_exporter": "python",
   "pygments_lexer": "ipython3",
   "version": "3.12.7"
  }
 },
 "nbformat": 4,
 "nbformat_minor": 4
}
