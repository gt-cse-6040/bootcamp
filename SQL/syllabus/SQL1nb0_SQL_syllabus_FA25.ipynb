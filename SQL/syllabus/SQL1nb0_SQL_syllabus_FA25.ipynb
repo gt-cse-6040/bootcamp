{
 "cells": [
  {
   "cell_type": "markdown",
   "id": "79eacee9",
   "metadata": {},
   "source": [
    "# SQL Bootcamp Introduction and Syllabus"
   ]
  },
  {
   "cell_type": "markdown",
   "id": "ef69d674",
   "metadata": {},
   "source": [
    "**************************************************************************************"
   ]
  },
  {
   "cell_type": "markdown",
   "id": "baf579cc",
   "metadata": {},
   "source": [
    "## Why are we covering SQL in the bootcamp? Prior course iterations dealt with SQL very lightly.\n",
    "\n",
    "### The ability to query databases using SQL is a VERY IMPORTANT SKILL for data analysts and data scientists. Most all data that DA's/DS's need is in some form of a database. \n",
    "\n",
    "*****************************************************************************************************\n",
    "\n",
    "#### Being able to query/get one's own data makes one much more efficient, meaning that you can get down to your required analysis much quicker and more efficiently, rather than having to wait one someone else to provide you the data.\n",
    "\n",
    "#### The experience of the course staff bears out this scenario, and we feel that it is incumbent on us to (at least) provide a more comprehensive SQL overview for the students, than we did in the past."
   ]
  },
  {
   "cell_type": "markdown",
   "id": "ec797757",
   "metadata": {},
   "source": [
    "**********************************************************************************"
   ]
  },
  {
   "cell_type": "markdown",
   "id": "ddc6c3e7",
   "metadata": {},
   "source": [
    "## So what is different in the course overall, starting in the Fall 2024 semester?\n",
    "\n",
    "#### We have added a Part 2 to Homework NB9, with some of the additional SQL skills that we feel are important for the students to learn.\n",
    "\n",
    "#### The MT2 and Final Exams have specific SQL questions, that can only solved using SQL. Point values on the exams are such that, while students can pass the exams without doing an SQL question, they will not be able to achieve 100% on the exam without successfully completing at least one SQL question.\n",
    "\n",
    "#### The format of exam SQL questions is introduced in Homework Notebook 9. SQL exercises in the Bootcamp will follow this format."
   ]
  },
  {
   "cell_type": "markdown",
   "id": "bac251ad",
   "metadata": {},
   "source": [
    "*************************************************************************"
   ]
  },
  {
   "cell_type": "markdown",
   "id": "b4c28e34",
   "metadata": {},
   "source": [
    "## Bootcamp SQL Syllabus"
   ]
  },
  {
   "cell_type": "markdown",
   "id": "af1b2f33",
   "metadata": {},
   "source": [
    "************************************************************************************"
   ]
  },
  {
   "cell_type": "markdown",
   "id": "467ea962",
   "metadata": {},
   "source": [
    "## Introduction Videos -- Linked to on the bootcamp schedule page. \n",
    "\n",
    "### Students should watch these on their own, as the content therein will not be covered live. The videos show the following:\n",
    "\n",
    "1. Format of SQL questions on the exams.\n",
    "\n",
    "2. Solving SQL exercises on the exams.\n",
    "\n",
    "3. Troubleshooting SQL queries on the exams."
   ]
  },
  {
   "cell_type": "markdown",
   "id": "abd34364",
   "metadata": {},
   "source": [
    "## Bootcamp Live Sessions\n",
    "\n",
    "**We will be conducting 4 live sessions, for the topics below.**\n",
    "\n",
    "**Please see the Bootcamp Schedule for specific dates and associated Colab notebooks.**"
   ]
  },
  {
   "cell_type": "markdown",
   "id": "1d8793b3",
   "metadata": {},
   "source": [
    "### Session 1 -- Database Information and Discovery Skills, Simple Aggregates, Handling NULL values.\n",
    "\n",
    "1. Get schema and table information.\n",
    "\n",
    "\n",
    "2. Get specific table information using PRAGMA.\n",
    "\n",
    "3. Basic aggregations and strings in aggregations.\n",
    "\n",
    "4. Handling NULL values with IFNULL() and COALESCE()."
   ]
  },
  {
   "cell_type": "markdown",
   "id": "fe774830",
   "metadata": {},
   "source": [
    "### Session 2 -- SQL string functions, CASE statements\n",
    "\n",
    "1. String functions -- SUBSTR(), INSTR(), REPLACE(), TRIM(), CAST().\n",
    "\n",
    "2. CASE statements.\n",
    "\n",
    "3. Basic DATE functions.\n",
    "\n",
    "4. Example using STRING and CASE functions."
   ]
  },
  {
   "cell_type": "markdown",
   "id": "30d86bea",
   "metadata": {},
   "source": [
    "### Session 3 -- Subqueries, Common Table Expressions (CTEs) and Temp Tables\n",
    "\n",
    "1. Subqueries\n",
    "2. CTEs\n",
    "3. Temp Tables.\n",
    "\n",
    "    -- Considerations for using each.\n",
    "\n",
    "    -- Syntax for each\n",
    "\n",
    "    -- Examples "
   ]
  },
  {
   "cell_type": "markdown",
   "id": "b49e4e20",
   "metadata": {},
   "source": [
    "### Session 4 -- SELECT order of execution, WINDOW functions\n",
    "\n",
    "1. Order of execution of the clauses in the SELECT statment (expanding on NB9 Part 2 content).\n",
    "\n",
    "2. WINDOW functions. (SUM, LEAD/LAG)"
   ]
  },
  {
   "cell_type": "code",
   "execution_count": null,
   "id": "955794fa-413b-40ea-950d-43c5963345f5",
   "metadata": {},
   "outputs": [],
   "source": []
  }
 ],
 "metadata": {
  "kernelspec": {
   "display_name": "Python 3 (ipykernel)",
   "language": "python",
   "name": "python3"
  },
  "language_info": {
   "codemirror_mode": {
    "name": "ipython",
    "version": 3
   },
   "file_extension": ".py",
   "mimetype": "text/x-python",
   "name": "python",
   "nbconvert_exporter": "python",
   "pygments_lexer": "ipython3",
   "version": "3.12.7"
  }
 },
 "nbformat": 4,
 "nbformat_minor": 5
}
