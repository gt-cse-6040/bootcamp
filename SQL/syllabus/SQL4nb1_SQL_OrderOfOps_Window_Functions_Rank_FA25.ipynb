{
  "cells": [
    {
      "cell_type": "markdown",
      "metadata": {
        "id": "view-in-github",
        "colab_type": "text"
      },
      "source": [
        "<a href=\"https://colab.research.google.com/github/gt-cse-6040/bootcamp/blob/main/SQL/syllabus/SQL4nb1_SQL_OrderOfOps_Window_Functions_Rank_FA25.ipynb\" target=\"_parent\"><img src=\"https://colab.research.google.com/assets/colab-badge.svg\" alt=\"Open In Colab\"/></a>"
      ]
    },
    {
      "cell_type": "markdown",
      "metadata": {
        "id": "7NiYdOyC-R8Z"
      },
      "source": [
        "# SQL Order of Operations, Window Functions (RANK and DENSE_RANK)"
      ]
    },
    {
      "cell_type": "code",
      "execution_count": null,
      "metadata": {
        "id": "f7c57UsrCc54"
      },
      "outputs": [],
      "source": [
        "!wget https://github.com/gt-cse-6040/bootcamp/raw/main/SQL/syllabus/university.db"
      ]
    },
    {
      "cell_type": "code",
      "execution_count": null,
      "metadata": {
        "id": "CHbBg4266FnD"
      },
      "outputs": [],
      "source": [
        "import pandas as pd\n",
        "from pprint import pprint, pformat\n",
        "\n",
        "import sqlite3\n",
        "conn=sqlite3.connect('university.db')\n"
      ]
    },
    {
      "cell_type": "markdown",
      "metadata": {
        "id": "kc0ynD0nCc55"
      },
      "source": [
        "<u>**Order of Operations**</u>\n",
        "\n",
        "The SQL query engine executes a query differently than we write it.\n",
        "\n",
        "We write it more like a sentence / how we'd describe what we want.\n",
        "\n",
        "**Select** _columns_ <br>\n",
        "**From** _table_ <br>\n",
        "**Where** _condition_ <br>\n",
        "**Group by**  _column(s)_ <br>\n",
        "**Having** _condition_<br>\n",
        "**Order by**  _column(s)_<br>\n",
        "**Limit** _condition(s)_"
      ]
    },
    {
      "cell_type": "markdown",
      "metadata": {
        "id": "3ZezL_IpCc56"
      },
      "source": [
        "### The SQL query engine on the other hand builds it from the inside out.\n",
        "\n",
        "It starts with **FROM** table(s) and **JOIN**(s) and assembles the **base/starting** dataset.\n",
        "\n",
        "&nbsp;&nbsp;&nbsp;&nbsp; Then it filters out rows as requested in the **WHERE** clause,\n",
        "    \n",
        "&nbsp;&nbsp;&nbsp;&nbsp; Puts them in buckets according to the **GROUP BY** clause,\n",
        "    \n",
        "&nbsp;&nbsp;&nbsp;&nbsp; Filters the groups according to the **HAVING** clause,\n",
        "    \n",
        "&nbsp;&nbsp;&nbsp;&nbsp; Picks the fields in the **SELECT** statement,\n",
        "    \n",
        "&nbsp;&nbsp;&nbsp;&nbsp; Gets them all in order with the **ORDER BY** clause,\n",
        "    \n",
        "&nbsp;&nbsp;&nbsp;&nbsp; And then applies any **LIMIT**s to the number of rows returned."
      ]
    },
    {
      "cell_type": "markdown",
      "metadata": {
        "id": "_AUjdiadCc56"
      },
      "source": [
        "![image-1-order-blog.jpg](attachment:image-1-order-blog.jpg)<br>https://www.sisense.com/blog/sql-query-order-of-operations/"
      ]
    },
    {
      "cell_type": "markdown",
      "metadata": {
        "id": "3n94Khj5Cc56"
      },
      "source": [
        "<u>_Side note_ <br></u>\n",
        "In most SQL languages, this order of operations is why you can't reference an alias in the **WHERE** clause that you wrote in the select statement because to the query engine, it hasn't gotten to the select statement yet to know you renamed a column. <br><br>\n",
        "SQLite allows the use of aliases not following the order of operations in a way that other SQL languages do not.<br><br>\n",
        "Also, SQLite does not care about white space in any way, unlike Python. It is completely up to you on what format is easiest to you."
      ]
    },
    {
      "cell_type": "markdown",
      "metadata": {
        "id": "9OKhfUnmCc57"
      },
      "source": [
        "# Window functions\n",
        "\n",
        "SQLite window functions are based on what PostgreSQL offers. Other SQL languages have additional functions and / or can be implemented slightly differently.\n",
        "<br><br>Overall, they can be grouped into these domains:<br><br>\n",
        "**Ranking Functions:** ROW_NUMBER(), RANK(), DENSE_RANK(), NTILE()\n",
        "\n",
        "**Aggregate Functions:** SUM(), AVG(), MIN(), MAX(), COUNT()\n",
        "\n",
        "**Value Functions:** LEAD(), LAG(), FIRST_VALUE(), LAST_VALUE(), NTH_VALUE()\n",
        "\n",
        "**Windowing Functions:** ROWS BETWEEN, RANGE BETWEEN\n",
        "\n",
        "**Statistical Functions:** PERCENT_RANK(), CUME_DIST()"
      ]
    },
    {
      "cell_type": "markdown",
      "metadata": {
        "id": "EiapiSeq61sA"
      },
      "source": [
        "*    https://www.sqlite.org/windowfunctions.html\n",
        "\n",
        "## SQL works in `set-based` approach.\n",
        "\n",
        "You group / aggregate over all of the data in a table, or set.\n",
        "\n",
        "Sometimes you need SQL to manipulate the data into smaller sets than the entire query results.\n",
        "\n",
        "`Window functions` allow you to achieve that by creating `_windows_` of data by defining partitions to break up the query results in one step, rather than using an iterative approach and reading the query results row by agonizing row, which is usually terribly inefficient.\n",
        "\n"
      ]
    },
    {
      "cell_type": "markdown",
      "metadata": {
        "id": "miKt1gS_Cc57"
      },
      "source": [
        "## Suppose we wanted to return the top 5 scholarships by term.\n",
        "\n",
        "If we didn't have windows functions, we would have to self join using sub queries and that would not be efficient in a computational aspect because it would have to scan each row individually and compare it to the other rows."
      ]
    },
    {
      "cell_type": "markdown",
      "metadata": {
        "id": "dZx4UXQVCc57"
      },
      "source": [
        "## Note that we are including the below query simply to show the complexity.\n",
        "\n",
        "## We are NOT working through it in detail, and we leave this for students to do, if they are so inclined."
      ]
    },
    {
      "cell_type": "code",
      "execution_count": null,
      "metadata": {
        "id": "BHBifKk-Cc57"
      },
      "outputs": [],
      "source": [
        "#self join example\n",
        "def SelfJoinSubQueries() -> str:\n",
        "  return f\"\"\"\n",
        "            SELECT sc1.scholarship_term, sc1.scholarship_code, sc1.scholarship_count\n",
        "            FROM (\n",
        "                    SELECT\n",
        "                        ss.scholarship_term,\n",
        "                        ss.scholarship_code,\n",
        "                        COUNT(*) AS scholarship_count\n",
        "                    FROM student_main sm\n",
        "                        INNER JOIN student_key sk\n",
        "                                ON sm.student_id = sk.student_id\n",
        "                        INNER JOIN student_scholarship ss\n",
        "                                ON sk.finance_id = ss.finance_id\n",
        "                        INNER JOIN scholarship_crosswalk sc\n",
        "                                ON sc.scholarship_code = ss.scholarship_code\n",
        "                    GROUP BY ss.scholarship_term, ss.scholarship_code\n",
        "                ) sc1\n",
        "            WHERE\n",
        "                (\n",
        "                SELECT COUNT(*)\n",
        "                FROM (\n",
        "                        SELECT\n",
        "                            ss.scholarship_code,\n",
        "                            COUNT(*) AS scholarship_count\n",
        "                        FROM student_main sm\n",
        "                            INNER JOIN student_key sk\n",
        "                                    ON sm.student_id = sk.student_id\n",
        "                            INNER JOIN student_scholarship ss\n",
        "                                    ON sk.finance_id = ss.finance_id\n",
        "                        WHERE ss.scholarship_term = sc1.scholarship_term\n",
        "                        GROUP BY ss.scholarship_code\n",
        "                      ) sc2\n",
        "                WHERE sc2.scholarship_count > sc1.scholarship_count\n",
        "                ) < 5\n",
        "            order by scholarship_term, scholarship_count desc;\n",
        "\"\"\"\n",
        "display(pd.read_sql(SelfJoinSubQueries(),conn))"
      ]
    },
    {
      "cell_type": "markdown",
      "metadata": {
        "id": "K1f9m693Cc58"
      },
      "source": [
        "### If we use a window function, it allows SQLite to run one query, and then displays the results for us in the way we requested.\n",
        "\n",
        "Our query counts the number of scholarships each term and then shows the top five most popular ones."
      ]
    },
    {
      "cell_type": "markdown",
      "metadata": {
        "id": "n-Yj7gErCc58"
      },
      "source": [
        "#### We can achieve that by using the **RANK()** window function.\n",
        "\n",
        "&nbsp;&nbsp;&nbsp;&nbsp; It adds a rank, or something analogous to a dataframe index, that we can now reference in the query for filtering.\n",
        "\n",
        "&nbsp;&nbsp;&nbsp;&nbsp; In the case of ties, **RANK()** skips the next number (or numbers if there are multiple ties) and continues with numbering."
      ]
    },
    {
      "cell_type": "markdown",
      "metadata": {
        "id": "kVi2eaxGCc58"
      },
      "source": [
        "#### The **OVER** keyword is where we define our _window_ for the data.\n",
        "\n",
        "&nbsp;&nbsp;&nbsp;&nbsp; If the **OVER()** parameter is left blank, it assumes the window is the entire dataset.\n",
        "\n",
        "&nbsp;&nbsp;&nbsp;&nbsp; In this case we're wanting to break down the data by scholarship_term, so we have **OVER(PARITION BY scholarship_term ORDER BY Count(*) DESC)** so we sort our count from most to least."
      ]
    },
    {
      "cell_type": "markdown",
      "metadata": {
        "id": "QOQUjPoKCc58"
      },
      "source": [
        "### We will show how to do this in 2 steps.\n",
        "\n",
        "&nbsp;&nbsp;&nbsp;&nbsp; First we will show the **WINDOW()** function, and how it works.\n",
        "\n",
        "&nbsp;&nbsp;&nbsp;&nbsp; Then we will use our **WINDOW()** function within a query, to meet the exercise requirements."
      ]
    },
    {
      "cell_type": "code",
      "execution_count": null,
      "metadata": {
        "id": "bC8Ha17fCc58"
      },
      "outputs": [],
      "source": [
        "def windowfunction() -> str:\n",
        "  return f\"\"\"\n",
        "    SELECT\n",
        "        ss.scholarship_term,\n",
        "        ss.scholarship_code,\n",
        "        COUNT(*) AS scholarship_count,\n",
        "\n",
        "        RANK() OVER (PARTITION BY ss.scholarship_term ORDER BY COUNT(*) DESC) AS rnk\n",
        "\n",
        "    FROM student_main sm\n",
        "        INNER JOIN student_key sk\n",
        "                    ON sm.student_id = sk.student_id\n",
        "        INNER JOIN student_scholarship ss\n",
        "                    ON sk.finance_id = ss.finance_id\n",
        "        INNER JOIN scholarship_crosswalk sc\n",
        "                    ON sc.scholarship_code = ss.scholarship_code\n",
        "    GROUP BY ss.scholarship_term, ss.scholarship_code\n",
        "  \"\"\"\n",
        "display(pd.read_sql(windowfunction(),conn))"
      ]
    },
    {
      "cell_type": "markdown",
      "metadata": {
        "id": "j9tBR2kDCc58"
      },
      "source": [
        "#### We then encapsulate that entire query into a SUBQUERY, and filter the top five through the WHERE clause on the outside."
      ]
    },
    {
      "cell_type": "code",
      "execution_count": null,
      "metadata": {
        "id": "CRhWA1BdW9T4"
      },
      "outputs": [],
      "source": [
        "def windowfunctionexample() -> str:\n",
        "  return f\"\"\"\n",
        "SELECT *\n",
        "FROM (\n",
        "        SELECT\n",
        "            ss.scholarship_term,\n",
        "            ss.scholarship_code,\n",
        "            COUNT(*) AS scholarship_count,\n",
        "\n",
        "            RANK() OVER (PARTITION BY ss.scholarship_term ORDER BY COUNT(*) DESC) AS Rank\n",
        "\n",
        "        FROM student_main sm\n",
        "            INNER JOIN student_key sk\n",
        "                    ON sm.student_id = sk.student_id\n",
        "            INNER JOIN student_scholarship ss\n",
        "                    ON sk.finance_id = ss.finance_id\n",
        "            INNER JOIN scholarship_crosswalk sc\n",
        "                    ON sc.scholarship_code = ss.scholarship_code\n",
        "        GROUP BY ss.scholarship_term, ss.scholarship_code\n",
        "    ) ranked\n",
        "WHERE ranked.Rank <= 5;\n",
        "  \"\"\"\n",
        "display(pd.read_sql(windowfunctionexample(),conn))"
      ]
    },
    {
      "cell_type": "markdown",
      "metadata": {
        "id": "-DLpXoxfCc58"
      },
      "source": [
        "#### Note that in the above results, the last two rows, for the `scholarship_term` `202408`, have the same `COUNT`, so their `RANK` is the same."
      ]
    },
    {
      "cell_type": "markdown",
      "metadata": {
        "id": "OHEgw5O1Cc58"
      },
      "source": [
        "#### What happens to rows `AFTER` rows that are tied?"
      ]
    },
    {
      "cell_type": "markdown",
      "metadata": {
        "id": "q5JYy7CMCc58"
      },
      "source": [
        "#### The answer to this question illustrates the difference between `RANK` and `DENSERANK`."
      ]
    },
    {
      "cell_type": "markdown",
      "metadata": {
        "id": "BDST0Y91Cc58"
      },
      "source": [
        "The `RANK()` function will return the next available number, after the ties are accounted for.\n",
        "\n",
        "See the example below."
      ]
    },
    {
      "cell_type": "code",
      "execution_count": null,
      "metadata": {
        "id": "MW08h7-ACc59"
      },
      "outputs": [],
      "source": [
        "#Rank where it shows that two is skipped\n",
        "def Rank() -> str:\n",
        "  return f\"\"\"\n",
        "            SELECT\n",
        "                ss.Scholarship_term,\n",
        "                ss.Scholarship_code,\n",
        "                COUNT(*) AS Scholarship_count,\n",
        "\n",
        "                RANK() OVER (PARTITION BY ss.scholarship_term ORDER BY COUNT(*) DESC) AS Rank\n",
        "\n",
        "            FROM student_main sm\n",
        "                INNER JOIN student_key sk\n",
        "                        ON sm.student_id = sk.student_id\n",
        "                INNER JOIN student_scholarship ss\n",
        "                        ON sk.finance_id = ss.finance_id\n",
        "                INNER JOIN scholarship_crosswalk sc\n",
        "                        ON sc.scholarship_code = ss.scholarship_code\n",
        "            WHERE scholarship_term = '201605'\n",
        "            GROUP BY ss.scholarship_term, ss.scholarship_code\n",
        "  \"\"\"\n",
        "display(pd.read_sql(Rank(),conn))"
      ]
    },
    {
      "cell_type": "markdown",
      "metadata": {
        "id": "0nMi4Jv3Cc59"
      },
      "source": [
        "The `DenseRank()` function on the other hand, does not skip any numbers, after the ties are accounted for.\n",
        "\n",
        "See the example below."
      ]
    },
    {
      "cell_type": "code",
      "execution_count": null,
      "metadata": {
        "id": "aMApgiFJCc59"
      },
      "outputs": [],
      "source": [
        "#Dense Rank where two is not skipped\n",
        "def DenseRank() -> str:\n",
        "  return f\"\"\"\n",
        "    SELECT\n",
        "        ss.scholarship_term,\n",
        "        ss.scholarship_code,\n",
        "        COUNT(*) AS scholarship_count,\n",
        "\n",
        "        DENSE_RANK() OVER (PARTITION BY ss.scholarship_term ORDER BY COUNT(*) DESC) AS DenseRank\n",
        "\n",
        "    FROM student_main sm\n",
        "        INNER JOIN student_key sk\n",
        "            ON sm.student_id = sk.student_id\n",
        "        INNER JOIN student_scholarship ss\n",
        "            ON sk.finance_id = ss.finance_id\n",
        "        INNER JOIN scholarship_crosswalk sc\n",
        "            ON sc.scholarship_code = ss.scholarship_code\n",
        "    WHERE scholarship_term = '201605'\n",
        "    GROUP BY ss.scholarship_term, ss.scholarship_code\n",
        "  \"\"\"\n",
        "display(pd.read_sql(DenseRank(),conn))"
      ]
    },
    {
      "cell_type": "markdown",
      "metadata": {
        "id": "KcL0UxVYCc59"
      },
      "source": [
        "### Something similar to the rank / dense rank is the <b>ROW_NUMBER()</b> window function.\n",
        "\n",
        "It too adds an incremented column, but in the case of <b>ROW_NUMBER()</b> it just adds a sequential row number based on the position of the record in the dataset rather than a ranking tied to a specific value.\n",
        "\n",
        "You could use <b>ROW_NUMBER()</b> to achieve the previous query and filter by that instead of the ranking.\n",
        "\n",
        "The downside to using row number is if there are ties, and you ask for the top 3 things, but there's four rows with the top 3 numbers, you will lose the 4th row."
      ]
    },
    {
      "cell_type": "code",
      "execution_count": null,
      "metadata": {
        "id": "qer3YLU4Cc59"
      },
      "outputs": [],
      "source": [
        "#RowNumber\n",
        "def RowNumber() -> str:\n",
        "  return f\"\"\"\n",
        "            SELECT\n",
        "                    ss.scholarship_term,\n",
        "                    ss.scholarship_code,\n",
        "                    COUNT(*) AS scholarship_count,\n",
        "\n",
        "                    ROW_NUMBER() OVER (\n",
        "                        PARTITION BY ss.scholarship_term\n",
        "                        ORDER BY COUNT(*) DESC\n",
        "                    ) AS RowNum\n",
        "\n",
        "                FROM student_main sm\n",
        "                    INNER JOIN student_key sk\n",
        "                        ON sm.student_id = sk.student_id\n",
        "                    INNER JOIN student_scholarship ss\n",
        "                        ON sk.finance_id = ss.finance_id\n",
        "                    INNER JOIN scholarship_crosswalk sc\n",
        "                        ON sc.scholarship_code = ss.scholarship_code\n",
        "                WHERE scholarship_term = '201605'\n",
        "                GROUP BY ss.scholarship_term, ss.scholarship_code\n",
        "  \"\"\"\n",
        "display(pd.read_sql(RowNumber(),conn))"
      ]
    },
    {
      "cell_type": "code",
      "execution_count": null,
      "metadata": {
        "id": "40H6PK-9Cc59"
      },
      "outputs": [],
      "source": [
        "#Row Number to give the top three rows, but it only returns the top TWO values\n",
        "def RowNumber() -> str:\n",
        "  return f\"\"\"\n",
        "            SELECT *\n",
        "            FROM (\n",
        "                    SELECT\n",
        "                            ss.scholarship_term,\n",
        "                            ss.scholarship_code,\n",
        "                            COUNT(*) AS scholarship_count,\n",
        "\n",
        "                            ROW_NUMBER() OVER (\n",
        "                                PARTITION BY ss.scholarship_term\n",
        "                                ORDER BY COUNT(*) DESC\n",
        "                            ) AS RowNum\n",
        "\n",
        "                        FROM student_main sm\n",
        "                            INNER JOIN student_key sk\n",
        "                                ON sm.student_id = sk.student_id\n",
        "                            INNER JOIN student_scholarship ss\n",
        "                                ON sk.finance_id = ss.finance_id\n",
        "                            INNER JOIN scholarship_crosswalk sc\n",
        "                                ON sc.scholarship_code = ss.scholarship_code\n",
        "                        WHERE scholarship_term = '201605'\n",
        "                        GROUP BY ss.scholarship_term, ss.scholarship_code\n",
        "                    ) ranked\n",
        "            WHERE RowNum <= 3;\n",
        "  \"\"\"\n",
        "display(pd.read_sql(RowNumber(),conn))"
      ]
    },
    {
      "cell_type": "markdown",
      "metadata": {
        "id": "GjayzDszCc59"
      },
      "source": [
        "**ADDITIONAL READING**<br>\n",
        "_This book is focused specifically on Microsoft SQL / T-SQL, but the book goes into great detail about the history and philosophy behind SQL itself and window functions. The syntax between T-SQL and SQLite is almost identical in this case._ <br>\n",
        "T-SQL Window Functions: For data analysis and beyond, 2nd Edition <br>\n",
        "https://learning.oreilly.com/library/view/t-sql-window-functions/9780135861554/\n",
        "<br><br>\n",
        "_His book_ T-SQL Fundamentals, 4th Edition _also goes into great detail about all things SQL._ <br>\n",
        "https://learning.oreilly.com/library/view/t-sql-fundamentals-4th/9780138101930/ <br><br>\n",
        "\n",
        "DataLemur is also an excellent resource for learning PostgreSQL, which is what SQLite is modeled on.<br>\n",
        "https://datalemur.com/sql-tutorial/sql-aggregate-window-functions <br>\n",
        "https://datalemur.com/sql-tutorial/query-order-of-execution\n"
      ]
    }
  ],
  "metadata": {
    "colab": {
      "collapsed_sections": [
        "PWImU2THShuH",
        "d7zHxya1aUgw",
        "Mhn-d4lm2wwR",
        "7kqw577W26lp",
        "PVsl_6v33exL",
        "tkRUmfN655gH"
      ],
      "provenance": [],
      "include_colab_link": true
    },
    "kernelspec": {
      "display_name": "Python 3 (ipykernel)",
      "language": "python",
      "name": "python3"
    },
    "language_info": {
      "codemirror_mode": {
        "name": "ipython",
        "version": 3
      },
      "file_extension": ".py",
      "mimetype": "text/x-python",
      "name": "python",
      "nbconvert_exporter": "python",
      "pygments_lexer": "ipython3",
      "version": "3.12.7"
    }
  },
  "nbformat": 4,
  "nbformat_minor": 0
}