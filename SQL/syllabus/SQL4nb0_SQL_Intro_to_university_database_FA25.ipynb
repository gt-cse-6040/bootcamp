{
 "cells": [
  {
   "cell_type": "markdown",
   "metadata": {
    "id": "7NiYdOyC-R8Z"
   },
   "source": [
    "# Introduction to the University Database"
   ]
  },
  {
   "cell_type": "code",
   "execution_count": null,
   "metadata": {},
   "outputs": [],
   "source": [
    "!wget https://github.com/gt-cse-6040/bootcamp/raw/main/SQL/syllabus/university.db"
   ]
  },
  {
   "cell_type": "code",
   "execution_count": null,
   "metadata": {
    "id": "CHbBg4266FnD"
   },
   "outputs": [],
   "source": [
    "import pandas as pd\n",
    "from pprint import pprint, pformat\n",
    "\n",
    "import sqlite3\n",
    "conn=sqlite3.connect('university.db')\n"
   ]
  },
  {
   "cell_type": "markdown",
   "metadata": {},
   "source": [
    "## In this notebook, we are going to introduce the `university` database, which we will be using in today's session.\n",
    "\n",
    "#### This database was used in the Spring 2025 MT2, and it is the database used in the videos for the SQL Student Review Content.\n",
    "\n",
    "The main difference between this database, and the `NYC calls` database, that we have been using in the sessions up to now, is that it contains multiple tables that contain specific data, versus a single table with everything in it."
   ]
  },
  {
   "cell_type": "markdown",
   "metadata": {},
   "source": [
    "### Everything we are doing below was covered in the first Bootcamp SQL session, so if you have questions on what we are doing, please go back and review the notebooks from that session."
   ]
  },
  {
   "cell_type": "markdown",
   "metadata": {
    "id": "pTuU2KYV-aKw"
   },
   "source": [
    "### Database and table metadata"
   ]
  },
  {
   "cell_type": "markdown",
   "metadata": {
    "id": "kh5wot4k_ULP"
   },
   "source": [
    "*    https://www.sqlite.org/schematab.html\n",
    "*    https://www.sqlite.org/pragma.html"
   ]
  },
  {
   "cell_type": "code",
   "execution_count": null,
   "metadata": {
    "colab": {
     "base_uri": "https://localhost:8080/",
     "height": 143
    },
    "id": "KKF528P-7SVY",
    "outputId": "1385fc2b-7293-432b-e6d7-9838f55c3d65"
   },
   "outputs": [],
   "source": [
    "def gettablescema() -> str:\n",
    "  return \"\"\"\n",
    "    SELECT *\n",
    "    FROM sqlite_master\n",
    "    WHERE type='table'\n",
    "  \"\"\"\n",
    "pd.read_sql(gettablescema(),conn)\n"
   ]
  },
  {
   "cell_type": "code",
   "execution_count": null,
   "metadata": {
    "colab": {
     "base_uri": "https://localhost:8080/",
     "height": 688
    },
    "id": "NzUytTcf9jko",
    "outputId": "7b9f0235-08f3-48aa-d981-72f6c3053a01"
   },
   "outputs": [],
   "source": [
    "def tablemetadata(tablename: str) -> str:\n",
    "  return f\"\"\"\n",
    "    PRAGMA table_info('{tablename}')\n",
    "  \"\"\"\n",
    "\n",
    "for tablename in ['student_main','student_scholarship']:\n",
    "  print(f'tablename: {tablename}')\n",
    "  display(pd.read_sql(tablemetadata(tablename),conn))\n",
    "  print('=================')"
   ]
  },
  {
   "cell_type": "code",
   "execution_count": null,
   "metadata": {
    "colab": {
     "base_uri": "https://localhost:8080/",
     "height": 782
    },
    "id": "n1zeK98a8F0w",
    "outputId": "01dd3dab-d3be-401f-c507-088d490b9064"
   },
   "outputs": [],
   "source": [
    "def querytables(tablename: str,limit:int=10) -> str:\n",
    "  return f\"\"\"\n",
    "    SELECT *\n",
    "    FROM {tablename}\n",
    "    LIMIT {limit}\n",
    "  \"\"\"\n",
    "\n",
    "for tablename in ['student_main','student_scholarship']:\n",
    "  print(f'tablename: {tablename}')\n",
    "  display(pd.read_sql(querytables(tablename),conn))\n",
    "  print('=================')"
   ]
  },
  {
   "cell_type": "markdown",
   "metadata": {},
   "source": [
    "We then encapsulate that entire query as a derived table, and filter the top five through the where clause on the outside. "
   ]
  }
 ],
 "metadata": {
  "colab": {
   "collapsed_sections": [
    "PWImU2THShuH",
    "d7zHxya1aUgw",
    "Mhn-d4lm2wwR",
    "7kqw577W26lp",
    "PVsl_6v33exL",
    "tkRUmfN655gH"
   ],
   "provenance": []
  },
  "kernelspec": {
   "display_name": "Python 3 (ipykernel)",
   "language": "python",
   "name": "python3"
  },
  "language_info": {
   "codemirror_mode": {
    "name": "ipython",
    "version": 3
   },
   "file_extension": ".py",
   "mimetype": "text/x-python",
   "name": "python",
   "nbconvert_exporter": "python",
   "pygments_lexer": "ipython3",
   "version": "3.12.7"
  }
 },
 "nbformat": 4,
 "nbformat_minor": 4
}
