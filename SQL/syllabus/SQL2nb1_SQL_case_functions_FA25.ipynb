{
 "cells": [
  {
   "cell_type": "markdown",
   "metadata": {},
   "source": [
    "# SQL Working with CASEs"
   ]
  },
  {
   "cell_type": "code",
   "execution_count": null,
   "metadata": {},
   "outputs": [],
   "source": [
    "!wget https://github.com/gt-cse-6040/bootcamp/raw/main/SQL/syllabus/NYC-311-2M_small.db"
   ]
  },
  {
   "cell_type": "code",
   "execution_count": null,
   "metadata": {},
   "outputs": [],
   "source": [
    "# create a connection to the database\n",
    "import sqlite3 as db\n",
    "import pandas as pd\n",
    "\n",
    "# Connect to a database (or create one if it doesn't exist)\n",
    "conn_nyc = db.connect('NYC-311-2M_small.db')"
   ]
  },
  {
   "cell_type": "markdown",
   "metadata": {},
   "source": [
    "## CASEs\n",
    "*    https://www.sqlite.org/lang_expr.html#the_case_expression\n",
    "\n",
    "In SQLite, the CASE statement is a powerful tool that allows you to recode variables based on specific conditions. It works similarly to an IF-THEN-ELSE structure in programming languages. By using CASE, you can create new columns, transform existing values, or recategorize data based on conditional logic directly within your SQL queries.\n",
    "\n",
    "Some use-cases include:\n",
    "*  Conditional formatting to display different outputs based on conditions, like categorizing employees into different bonus tiers.\n",
    "*  Data transformation such as transforming or mapping data into different formats or categories, like converting numeric status codes into human-readable text.\n",
    "*  Complex filtering such as performing complex conditional checks and/or manipulate data accordingly.\n"
   ]
  },
  {
   "cell_type": "markdown",
   "metadata": {},
   "source": [
    "Syntax:\n",
    "1. Simple CASE expression:\n",
    "\n",
    "```sql \n",
    "CASE expression\n",
    "    WHEN value1 THEN result1\n",
    "    WHEN value2 THEN result2\n",
    "    ...\n",
    "    ELSE resultN\n",
    "END\n",
    "```\n",
    "*  expression: The value or expression that is compared with each WHEN value.\n",
    "*  value1, value2, ...: The values to compare against the expression.\n",
    "*  result1, result2, ...: The corresponding result to return when a match is found.\n",
    "*  ELSE resultN: The value returned if no WHEN conditions match (optional).\n",
    "*  If no ELSE clause is specified and no conditions match, the result is NULL.\n"
   ]
  },
  {
   "cell_type": "markdown",
   "metadata": {},
   "source": [
    "2. Searched CASE expression (more flexible):\n",
    "\n",
    "```sql \n",
    "CASE\n",
    "    WHEN condition1 THEN result1\n",
    "    WHEN condition2 THEN result2\n",
    "    ...\n",
    "    ELSE resultN\n",
    "END\n",
    "```\n",
    "*  condition1, condition2, ...: The conditions to check.\n",
    "*  result1, result2, ...: The corresponding results for each condition.\n",
    "*  ELSE resultN: The value returned if no condition is met (optional).\n",
    "*  If no conditions match and no ELSE clause is provided, it returns NULL."
   ]
  },
  {
   "cell_type": "markdown",
   "metadata": {},
   "source": [
    "### Examples\n",
    "1.  Simple CASE expression:"
   ]
  },
  {
   "cell_type": "code",
   "execution_count": null,
   "metadata": {},
   "outputs": [],
   "source": [
    "def case1_example() ->str:\n",
    "    query = '''\n",
    "                SELECT Agency\n",
    "                , CASE Agency\n",
    "                    WHEN 'HPD' THEN 1\n",
    "                    WHEN 'NYPD' THEN 2\n",
    "                    WHEN 'DOT' THEN 3\n",
    "                    ELSE 0 \n",
    "                  END top3\n",
    "                FROM data\n",
    "                LIMIT 20\n",
    "                '''\n",
    "    return query\n",
    "\n",
    "case1_example = pd.read_sql(case1_example(),conn_nyc)\n",
    "display(case1_example)"
   ]
  },
  {
   "cell_type": "markdown",
   "metadata": {},
   "source": [
    "2. Searched CASE expression: You can test more complex conditions, not just equality."
   ]
  },
  {
   "cell_type": "code",
   "execution_count": null,
   "metadata": {},
   "outputs": [],
   "source": [
    "def case2_example() ->str:\n",
    "    query = '''\n",
    "                SELECT Agency\n",
    "                , CASE\n",
    "                    WHEN Agency='HPD' THEN 1\n",
    "                    WHEN Agency='NYPD' THEN 2\n",
    "                    WHEN Agency='DOT' THEN 3\n",
    "                    ELSE 0 \n",
    "                  END top3\n",
    "                FROM data\n",
    "                LIMIT 20\n",
    "                '''\n",
    "    return query\n",
    "\n",
    "case2_example = pd.read_sql(case2_example(),conn_nyc)\n",
    "display(case2_example)"
   ]
  },
  {
   "cell_type": "markdown",
   "metadata": {},
   "source": [
    "3. Nested CASE: You can nest `CASE` expressions for more complex logic"
   ]
  },
  {
   "cell_type": "code",
   "execution_count": null,
   "metadata": {},
   "outputs": [],
   "source": [
    "def case3_example() ->str:\n",
    "    query = '''\n",
    "                SELECT Agency\n",
    "                , CASE\n",
    "                    WHEN Agency LIKE '%PD' THEN\n",
    "                        CASE\n",
    "                            WHEN Agency='HPD' THEN 1\n",
    "                            WHEN Agency='NYPD' THEN 2\n",
    "                            ELSE 0\n",
    "                        END\n",
    "                    WHEN Agency='DOT' THEN 3\n",
    "                    ELSE 0 \n",
    "                    END top3\n",
    "                FROM data\n",
    "                LIMIT 20\n",
    "                '''\n",
    "    return query\n",
    "\n",
    "case3_example = pd.read_sql(case3_example(),conn_nyc)\n",
    "display(case3_example)"
   ]
  },
  {
   "cell_type": "markdown",
   "metadata": {},
   "source": [
    "4. CASE without ELSE: If you omit `ELSE`, the query will return `NULL` when no conditions match"
   ]
  },
  {
   "cell_type": "code",
   "execution_count": null,
   "metadata": {},
   "outputs": [],
   "source": [
    "def case4_example() ->str:\n",
    "    query = '''\n",
    "                SELECT Agency\n",
    "                , CASE\n",
    "                    WHEN Agency='HPD' THEN 1\n",
    "                    WHEN Agency='NYPD' THEN 2\n",
    "                    WHEN Agency='DOT' THEN 3\n",
    "                    -- ELSE 0 \n",
    "                    END top3\n",
    "                FROM data\n",
    "                LIMIT 20\n",
    "                '''\n",
    "    return query\n",
    "\n",
    "case4_example = pd.read_sql(case4_example(),conn_nyc)\n",
    "display(case4_example)"
   ]
  },
  {
   "cell_type": "markdown",
   "metadata": {},
   "source": [
    "## Aggregating CASEs\n",
    "You can also use any of the aggregating functions e.g. `SUM()`, `MAX()`, `MIN()`, etc; along with `CASE()` to perform conditional aggregations. This is helpful when you want to aggregate values that meet specific functions or criteria within your data.\n",
    "\n",
    "Some use-cases include:\n",
    "*  Conditional aggegation to sum values based on conditions, making it ideal for generating reports and performing complex aggegations.\n",
    "*  Handling multiple conditions in one query, which would otherwise require multiple `SELECT` statements or complicated joins\n",
    "*  Flexibility in that you can use `SUM(CASE())` for various operations like summing based on date ranges, specific categories, thresholds, etc.\n",
    "\n",
    "Syntax:\n",
    "\n",
    "```sql \n",
    "SUM(\n",
    "    CASE\n",
    "    WHEN condition1 THEN result1\n",
    "    WHEN condition2 THEN result2\n",
    "    ...\n",
    "    ELSE resultN\n",
    "    END\n",
    ")\n",
    "```\n",
    "*  condition1, condition2, ...: The conditions to check for each row.\n",
    "*  result1, result2, ...: The corresponding results to sum for each condition.\n",
    "*  ELSE resultN: The value returned if no condition is met (optional); usually 0."
   ]
  },
  {
   "cell_type": "markdown",
   "metadata": {},
   "source": [
    "1. Conditional Sum: Count the number of times a particular occurence happens. It can also be used to calculate a [Probability Mass Function](https://en.wikipedia.org/wiki/Probability_mass_function) "
   ]
  },
  {
   "cell_type": "code",
   "execution_count": null,
   "metadata": {},
   "outputs": [],
   "source": [
    "def case5_example() ->str:\n",
    "    query = '''\n",
    "                SELECT\n",
    "                    SUM(\n",
    "                        CASE\n",
    "                        WHEN Agency='HPD' THEN 1\n",
    "                        ELSE 0\n",
    "                        END\n",
    "                        ) countHPD\n",
    "                    , COUNT(*) total_count\n",
    "                FROM data\n",
    "                '''\n",
    "    return query\n",
    "\n",
    "case5_example = pd.read_sql(case5_example(),conn_nyc)\n",
    "display(case5_example)"
   ]
  },
  {
   "cell_type": "markdown",
   "metadata": {},
   "source": [
    "2. Conditional Max: Determine if something exists for a particular group"
   ]
  },
  {
   "cell_type": "code",
   "execution_count": null,
   "metadata": {},
   "outputs": [],
   "source": [
    "def case6_example() ->str:\n",
    "    query = '''\n",
    "                SELECT\n",
    "                City\n",
    "                ,MAX(\n",
    "                    CASE\n",
    "                        WHEN Agency='HPD' THEN 1\n",
    "                        ELSE 0\n",
    "                    END\n",
    "                    ) HPDexists\n",
    "                FROM data\n",
    "                GROUP BY City\n",
    "                ORDER BY 2 DESC\n",
    "                '''\n",
    "    return query\n",
    "\n",
    "case6_example = pd.read_sql(case6_example(),conn_nyc)\n",
    "display(case6_example)"
   ]
  },
  {
   "cell_type": "markdown",
   "metadata": {},
   "source": [
    "### Example Exercise\n",
    "From the `data` table for `Agency='NYPD'`, use the column `CompliantType` to count the number of times that:\n",
    "*  Columns\n",
    "    *  `ComplaintType`\n",
    "    *  `noiseParkComplaint`:\n",
    "        *  if 'Noise\" is present in `ComplaintType`, then `Noise`\n",
    "        *  elif \"Park\" is present in `ComplainType`, then `Park`\n",
    "        *  else `NULL`\n",
    "    *  `countoccur`: count of occurrences\n",
    "*  Sort\n",
    "    *  `countoccur` in descending order"
   ]
  },
  {
   "cell_type": "code",
   "execution_count": null,
   "metadata": {},
   "outputs": [],
   "source": [
    "def casecomplaints() -> str:\n",
    "  return f\"\"\"\n",
    "  SELECT ComplaintType\n",
    "          ,CASE\n",
    "                WHEN ComplaintType LIKE 'Noise%' THEN 'Noise'\n",
    "                WHEN ComplaintType LIKE '%Park%' THEN 'Park'\n",
    "                ELSE NULL\n",
    "            END noiseParkComplaint\n",
    "          ,COUNT(*) countoccur\n",
    "  FROM data\n",
    "  WHERE Agency='NYPD'\n",
    "  GROUP BY 1,2\n",
    "  ORDER BY 3 DESC\n",
    "  \"\"\"\n",
    "casecomplaints=pd.read_sql(casecomplaints(),conn_nyc)\n",
    "display(casecomplaints)"
   ]
  }
 ],
 "metadata": {
  "kernelspec": {
   "display_name": "Python 3 (ipykernel)",
   "language": "python",
   "name": "python3"
  },
  "language_info": {
   "codemirror_mode": {
    "name": "ipython",
    "version": 3
   },
   "file_extension": ".py",
   "mimetype": "text/x-python",
   "name": "python",
   "nbconvert_exporter": "python",
   "pygments_lexer": "ipython3",
   "version": "3.12.7"
  }
 },
 "nbformat": 4,
 "nbformat_minor": 4
}
