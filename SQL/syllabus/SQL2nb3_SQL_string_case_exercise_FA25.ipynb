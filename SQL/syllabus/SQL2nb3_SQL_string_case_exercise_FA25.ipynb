{
  "cells": [
    {
      "cell_type": "markdown",
      "metadata": {
        "id": "view-in-github",
        "colab_type": "text"
      },
      "source": [
        "<a href=\"https://colab.research.google.com/github/gt-cse-6040/bootcamp/blob/main/SQL/syllabus/SQL2nb3_SQL_string_case_exercise_FA25.ipynb\" target=\"_parent\"><img src=\"https://colab.research.google.com/assets/colab-badge.svg\" alt=\"Open In Colab\"/></a>"
      ]
    },
    {
      "cell_type": "markdown",
      "metadata": {
        "id": "M10G-E0iHYrK"
      },
      "source": [
        "# SQL Example with STRINGs and CASEs"
      ]
    },
    {
      "cell_type": "code",
      "execution_count": null,
      "metadata": {
        "id": "iv3i9TkOHYrN"
      },
      "outputs": [],
      "source": [
        "!wget https://github.com/gt-cse-6040/bootcamp/raw/main/SQL/syllabus/NYC-311-2M_small.db"
      ]
    },
    {
      "cell_type": "code",
      "execution_count": null,
      "metadata": {
        "id": "GEW5nIo5HYrO"
      },
      "outputs": [],
      "source": [
        "# create a connection to the database\n",
        "import sqlite3 as db\n",
        "import pandas as pd\n",
        "\n",
        "# Connect to a database (or create one if it doesn't exist)\n",
        "conn_nyc = db.connect('NYC-311-2M_small.db')"
      ]
    },
    {
      "cell_type": "markdown",
      "metadata": {
        "id": "jHuM1T2CHYrO"
      },
      "source": [
        "## EX0 Example\n",
        "From the `data` table for `Agency='NYPD'`, use the column `CompliantType` to extract \"`primaryComplaint` - `secondaryComplaint`\":\n",
        "*  Columns\n",
        "   *  `ComplaintType`\n",
        "   *  `primaryComplaint`:\n",
        "      *  This is everything **before** a `-`\n",
        "      *  If there is no `-`, this should be the same as `ComplaintType`\n",
        "   *  `secondaryComplaint`:\n",
        "      *  This is everything **after** a `-`\n",
        "      *  If there is no `-`, this should return NULL or None"
      ]
    },
    {
      "cell_type": "code",
      "execution_count": null,
      "metadata": {
        "id": "7ap4m2l-HYrP"
      },
      "outputs": [],
      "source": [
        "def extractcomplaints() -> str:\n",
        "  return f\"\"\"\n",
        "  SELECT ComplaintType\n",
        "          ,CASE\n",
        "              WHEN ComplaintType LIKE '% - %'\n",
        "                    THEN SUBSTR(ComplaintType,1,INSTR(ComplaintType,' - ')-1)\n",
        "              ELSE ComplaintType\n",
        "           END primaryComplaint\n",
        "          ,CASE\n",
        "              WHEN ComplaintType LIKE '% - %'\n",
        "                    THEN SUBSTR(ComplaintType,INSTR(ComplaintType,' - ')+3)\n",
        "              ELSE NULL\n",
        "           END secondaryComplaint\n",
        "  FROM data\n",
        "  WHERE Agency='NYPD'\n",
        "  \"\"\"\n",
        "d=pd.read_sql(extractcomplaints(),conn_nyc)\n",
        "display(d)\n",
        "# d.dtypes"
      ]
    }
  ],
  "metadata": {
    "kernelspec": {
      "display_name": "Python 3 (ipykernel)",
      "language": "python",
      "name": "python3"
    },
    "language_info": {
      "codemirror_mode": {
        "name": "ipython",
        "version": 3
      },
      "file_extension": ".py",
      "mimetype": "text/x-python",
      "name": "python",
      "nbconvert_exporter": "python",
      "pygments_lexer": "ipython3",
      "version": "3.12.7"
    },
    "colab": {
      "provenance": [],
      "include_colab_link": true
    }
  },
  "nbformat": 4,
  "nbformat_minor": 0
}