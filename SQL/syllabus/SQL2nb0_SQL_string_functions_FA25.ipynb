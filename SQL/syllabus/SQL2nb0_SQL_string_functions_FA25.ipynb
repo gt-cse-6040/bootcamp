{
 "cells": [
  {
   "cell_type": "markdown",
   "id": "b7866d34",
   "metadata": {
    "id": "b7866d34"
   },
   "source": [
    "# SQL Working with STRINGs"
   ]
  },
  {
   "cell_type": "code",
   "execution_count": null,
   "id": "XxMG5XfT-NHD",
   "metadata": {
    "id": "XxMG5XfT-NHD"
   },
   "outputs": [],
   "source": [
    "!wget https://github.com/gt-cse-6040/bootcamp/raw/main/SQL/syllabus/NYC-311-2M_small.db"
   ]
  },
  {
   "cell_type": "code",
   "execution_count": null,
   "id": "c40719ef",
   "metadata": {
    "id": "c40719ef"
   },
   "outputs": [],
   "source": [
    "# create a connection to the database\n",
    "import sqlite3 as db\n",
    "import pandas as pd\n",
    "\n",
    "# Connect to a database (or create one if it doesn't exist)\n",
    "conn_nyc = db.connect('NYC-311-2M_small.db')"
   ]
  },
  {
   "cell_type": "markdown",
   "id": "c2cfd3e4",
   "metadata": {},
   "source": [
    "## STRINGs\n",
    "\n",
    "*   https://www.sqlitetutorial.net/sqlite-functions/sqlite-substr/\n",
    "*   https://www.sqlitetutorial.net/sqlite-functions/sqlite-instr/\n",
    "\n",
    "SQLite offers a basic set of string functions, which can make complex string operations challenging. These functions allow you to perform operations like concatenating, trimming, searching, replacing, or changing the case of strings.\n",
    "\n",
    "Notably, SQLite lacks:\n",
    "\n",
    "*    Built-in support for regular expressions\n",
    "*    Advanced string to datetime parsing functionailty\n",
    "\n",
    "These limitations can force you to implement more creative solutions, often involving combinations of functions like TRIM, SUBSTR, INSTR, and REPLACE to achieve results that would be straightforward in other environments.\n",
    "\n",
    "Common SQLite string functions:\n",
    "\n",
    "| Function | Description |\n",
    "| ---- | ---- |\n",
    "| LENGTH(str) | Returns the length of a string. |\n",
    "| LOWER(str) | Converts a string to lowercase. |\n",
    "| UPPER(str) | Converts a string to uppercase. |\n",
    "| SUBSTR(str, start, length) | Extracts a substring from a string. |\n",
    "| TRIM(str) | Removes leading and trailing spaces from a string. |\n",
    "| LTRIM(str) | Removes leading spaces from a string. |\n",
    "| RTRIM(str) | Removes trailing spaces from a string. |\n",
    "| REPLACE(str, old, new) | Replaces occurrences of a substring with a new one. |\n",
    "| INSTR(str, substr) | Returns the position of the first occurrence of a substring. |\n",
    "| CONCAT(str1, str2, ...) | Concatenates strings. |\n",
    "| LIKE | Performs pattern matching in strings. |\n",
    "| GROUP_CONCAT(str) | Concatenates multiple rows into one string with a delimiter. |"
   ]
  },
  {
   "cell_type": "markdown",
   "id": "dca10ac8",
   "metadata": {},
   "source": [
    "### SUBSTR() in SQLite\n",
    "\n",
    "In SQLite, the `substr()` function is used to extract a substring from a given string. It is helpful to get a part of a string, starting from a specific position and optionally specifying the length of the substring. It is useful for the following usecases:\n",
    "*  Extracting parts of text from a database column (e.g., a part of a name or address).\n",
    "*  Trimming or formatting data during queries.\n",
    "*  Handling and manipulating text data more efficiently.\n",
    "\n",
    "The function uses the following syntax and parameters:\n",
    "```sql\n",
    "SUBSTR(string, start_position, [length])\n",
    "```\n",
    "\n",
    "*  string: The input string from which you want to extract a substring.\n",
    "*  start_position: The position in the string where the substring starts. The index is 1-based, meaning the first character in the string is at position 1. If the position is negative, it starts counting from the end of the string (i.e., position -1 is the last character).\n",
    "* length (optional): The number of characters to extract from the string. If not specified, the substring will go from the start position to the end of the string."
   ]
  },
  {
   "cell_type": "markdown",
   "id": "cb770536-eac7-4366-b6ef-f6cd3ac3b78d",
   "metadata": {},
   "source": [
    "#### Some basic examples showcasing usage.\n",
    "\n",
    "1.  Basic Usage: Extract a substring from a specific position"
   ]
  },
  {
   "cell_type": "code",
   "execution_count": null,
   "id": "36386feb",
   "metadata": {},
   "outputs": [],
   "source": [
    "def substr1_example() ->str:\n",
    "    query = '''\n",
    "                SELECT substr('Hello, World!', 1, 5)\n",
    "                '''\n",
    "    return query\n",
    "\n",
    "substr1_example = pd.read_sql(substr1_example(),conn_nyc)\n",
    "display(substr1_example)"
   ]
  },
  {
   "cell_type": "markdown",
   "id": "fd7b6f76",
   "metadata": {},
   "source": [
    "This starts at position 1 (the letter 'H') and extracts 5 characters, giving 'Hello'.\n",
    "\n",
    "2. Negative start_position: Start counting from the end of the string."
   ]
  },
  {
   "cell_type": "code",
   "execution_count": null,
   "id": "33f4e930",
   "metadata": {},
   "outputs": [],
   "source": [
    "def substr2_example() ->str:\n",
    "    query = '''\n",
    "                SELECT substr('Hello, World!', -6, 5)\n",
    "                '''\n",
    "    return query\n",
    "\n",
    "substr2_example = pd.read_sql(substr2_example(),conn_nyc)\n",
    "display(substr2_example)"
   ]
  },
  {
   "cell_type": "markdown",
   "id": "0d5c8dc5",
   "metadata": {},
   "source": [
    "This starts at the 6th character from the end, which is 'W', and extracts 5 characters, giving 'World'.\n",
    "\n",
    "3. Substring until the end: If you don’t specify a length, the substring will go to the end of the string."
   ]
  },
  {
   "cell_type": "code",
   "execution_count": null,
   "id": "be67907d",
   "metadata": {},
   "outputs": [],
   "source": [
    "def substr3_example() ->str:\n",
    "    query = '''\n",
    "                SELECT substr('Hello, World!', 8)\n",
    "                '''\n",
    "    return query\n",
    "\n",
    "substr3_example = pd.read_sql(substr3_example(),conn_nyc)\n",
    "display(substr3_example)"
   ]
  },
  {
   "cell_type": "markdown",
   "id": "c0b8e0f1",
   "metadata": {},
   "source": [
    "This starts at position 8 ('W') and continues to the end of the string.\n",
    "\n",
    "4. Substring with a large length: If the specified length is larger than the remaining characters in the string, SQLite will just return the substring until the end of the string."
   ]
  },
  {
   "cell_type": "code",
   "execution_count": null,
   "id": "4e2605f1",
   "metadata": {},
   "outputs": [],
   "source": [
    "def substr4_example() ->str:\n",
    "    query = '''\n",
    "                SELECT substr('Hello', 3, 10)\n",
    "                '''\n",
    "    return query\n",
    "\n",
    "substr4_example = pd.read_sql(substr4_example(),conn_nyc)\n",
    "display(substr4_example)"
   ]
  },
  {
   "cell_type": "markdown",
   "id": "2844475a",
   "metadata": {},
   "source": [
    "Since there are only three characters starting from position 3, it will return 'llo'."
   ]
  },
  {
   "cell_type": "markdown",
   "id": "34795870",
   "metadata": {},
   "source": [
    "### INSTR() in SQLite\n",
    "\n",
    "In SQLite, the `intsr()` function is used to find the position of the first occurrence of a substring within a string. It returns the 1-based index of the first occurrence of the substring. If the substring is not found, it returns 0. It is useful for the following usecases:\n",
    "*  Locating substrings and the position of text in a column, which is useful when processing or extracting parts of data.\n",
    "*  Data validation to check if a certain substring exists in a column.\n",
    "*  Text matching for pattern matching, such as identifying if a string contains certain keywords of markers.\n",
    "\n",
    "The function uses the following syntax and parameters:\n",
    "```sql\n",
    "INSTR(string, substring)\n",
    "```\n",
    "\n",
    "*  string: The input string in which you are looking for the substring.\n",
    "*  substring: The substring whose position you want to find in the string.\n",
    "\n",
    "Some basic examples showcasing usage.\n",
    "\n",
    "1.  Basic Usage: Find the position of a substring"
   ]
  },
  {
   "cell_type": "code",
   "execution_count": null,
   "id": "a791ed2f",
   "metadata": {},
   "outputs": [],
   "source": [
    "def instr1_example() ->str:\n",
    "    query = '''\n",
    "                SELECT instr('Hello, World!', 'World')\n",
    "                '''\n",
    "    return query\n",
    "\n",
    "instr1_example = pd.read_sql(instr1_example(),conn_nyc)\n",
    "display(instr1_example)"
   ]
  },
  {
   "cell_type": "markdown",
   "id": "87c893a6",
   "metadata": {},
   "source": [
    "This returns `8` because the substring `World` starts at position 8 in the string `Hello, World!`\n",
    "\n",
    "2. Substring not found: If a substring is not present, it returns 0"
   ]
  },
  {
   "cell_type": "code",
   "execution_count": null,
   "id": "5b948abd",
   "metadata": {},
   "outputs": [],
   "source": [
    "def instr2_example() ->str:\n",
    "    query = '''\n",
    "                SELECT instr('Hello, World!', 'SQLite')\n",
    "                '''\n",
    "    return query\n",
    "\n",
    "instr2_example = pd.read_sql(instr2_example(),conn_nyc)\n",
    "display(instr2_example)"
   ]
  },
  {
   "cell_type": "markdown",
   "id": "941e141a",
   "metadata": {},
   "source": [
    "The substring `SQLite` is not found in `Hello, World!`, so it returns `0`.\n",
    "\n",
    "3. Case-sensitive search: The search is case-sensitive."
   ]
  },
  {
   "cell_type": "code",
   "execution_count": null,
   "id": "b1a7d58a",
   "metadata": {},
   "outputs": [],
   "source": [
    "def instr3_example() ->str:\n",
    "    query = '''\n",
    "                SELECT instr('Hello, World!', 'hello')\n",
    "                '''\n",
    "    return query\n",
    "\n",
    "instr3_example = pd.read_sql(instr3_example(),conn_nyc)\n",
    "display(instr3_example)"
   ]
  },
  {
   "cell_type": "markdown",
   "id": "a1c70525",
   "metadata": {},
   "source": [
    "Since `hello` is lowercase and the string `Hello, World!` has an uppercase `H`, the function returns `0`."
   ]
  },
  {
   "cell_type": "markdown",
   "id": "19a1aabb",
   "metadata": {},
   "source": [
    "### REPLACE() in SQLite\n",
    "\n",
    "In SQLite, the `replace()` function is used to replace all occurrences of a specified substring within a string with another substring. This function is helpful for text manipulation when you need to make substitutions or clean up data in your database. It is useful for the following usecases:\n",
    "*  Data cleaning to remove or change certain characters or words in your data. For example, replacing unwanted characters in phone numbers or email addresses.\n",
    "*  Text formatting including adjusting the formatting of text, such as replacing delimiters (commas with semicolons) or correcting typos in strings.\n",
    "*  Dynamic text replacements including replacing dynamic content in strings, such as template variables in emails or reports.\n",
    "\n",
    "The function uses the following syntax and parameters:\n",
    "```sql\n",
    "REPLACE(string, search, replace_with)\n",
    "```\n",
    "\n",
    "*  string: The input string in which you want to perform the replacement.\n",
    "*  search: The substring that you want to find in the string.\n",
    "*  replace_with: The substring that will replace every occurrence of the search substring.\n",
    "\n",
    "Some basic examples showcasing usage.\n",
    "\n",
    "1.  Basic usage: Replace a substring with another substring."
   ]
  },
  {
   "cell_type": "code",
   "execution_count": null,
   "id": "96ca43d2",
   "metadata": {},
   "outputs": [],
   "source": [
    "def replace1_example() ->str:\n",
    "    query = '''\n",
    "                SELECT replace('Hello, World!', 'World', 'SQLite')\n",
    "                '''\n",
    "    return query\n",
    "\n",
    "replace1_example = pd.read_sql(replace1_example(),conn_nyc)\n",
    "display(replace1_example)"
   ]
  },
  {
   "cell_type": "markdown",
   "id": "4314b741",
   "metadata": {},
   "source": [
    "In this example, the substring `World` is replaced by `SQLite`, so the result is `Hello, SQLite!`.\n",
    "\n",
    "2. Replacing multiple occurrences: If the substring appears more than once, all occurrences will be replaced."
   ]
  },
  {
   "cell_type": "code",
   "execution_count": null,
   "id": "8d3929c9",
   "metadata": {},
   "outputs": [],
   "source": [
    "def replace2_example() ->str:\n",
    "    query = '''\n",
    "                SELECT replace('abc abc abc', 'abc', '123')\n",
    "                '''\n",
    "    return query\n",
    "\n",
    "replace2_example = pd.read_sql(replace2_example(),conn_nyc)\n",
    "display(replace2_example)"
   ]
  },
  {
   "cell_type": "markdown",
   "id": "d3769c5e",
   "metadata": {},
   "source": [
    "Every occurrence of `abc` is replaced with `123`, so the result is `123 123 123`.\n",
    "\n",
    "3. No match found: If the search substring is not found in the string, the original string is returned."
   ]
  },
  {
   "cell_type": "code",
   "execution_count": null,
   "id": "696bbdc9",
   "metadata": {},
   "outputs": [],
   "source": [
    "def replace3_example() ->str:\n",
    "    query = '''\n",
    "                SELECT replace('Hello, World!', 'abc', 'XYZ')\n",
    "                '''\n",
    "    return query\n",
    "\n",
    "replace3_example = pd.read_sql(replace3_example(),conn_nyc)\n",
    "display(replace3_example)"
   ]
  },
  {
   "cell_type": "markdown",
   "id": "d944be49",
   "metadata": {},
   "source": [
    "Since `abc` is not found, the string is returned as it is.\n",
    "\n",
    "4. Case-sensitive replacement: The search is case-sensitive."
   ]
  },
  {
   "cell_type": "code",
   "execution_count": null,
   "id": "f0fdfda0",
   "metadata": {},
   "outputs": [],
   "source": [
    "def replace4_example() ->str:\n",
    "    query = '''\n",
    "                SELECT replace('Hello, World!', 'world', 'SQLite')\n",
    "                '''\n",
    "    return query\n",
    "\n",
    "replace4_example = pd.read_sql(replace4_example(),conn_nyc)\n",
    "display(replace4_example)"
   ]
  },
  {
   "cell_type": "markdown",
   "id": "e20fe051",
   "metadata": {},
   "source": [
    "### TRIM() in SQLite\n",
    "\n",
    "In SQLite, the `trim()` function is used to remove specified characters from the beginning and end of a string. By default, it removes spaces (whitespace characters) from both ends of the string, but you can also specify a set of characters to remove. It is useful for the following usecases:\n",
    "*  Data cleaning to remove unwanted leading or trailing spaces from strings, especially when importing data.\n",
    "*  Text formatting to clean up user input or other text fields to ensure consistent formatting before performing comparisons or storing the data in a database.\n",
    "*  Removing unwanted characters by specifying any set of characters to be trimmed, not just spaces. For example, removing unwanted punctuation or padding from strings.\n",
    "\n",
    "The function uses the following syntax and parameters:\n",
    "```sql\n",
    "TRIM(string, [trim_chars])\n",
    "```\n",
    "\n",
    "*  string: The string from which you want to remove the characters.\n",
    "*  trim_chars (optional): A string containing characters to remove from the beginning and end of the string. If not provided, spaces (whitespaces) will be removed by default.\n",
    "\n",
    "Some basic examples showcasing usage.\n",
    "\n",
    "1.  Trim spaces (default behavior):"
   ]
  },
  {
   "cell_type": "code",
   "execution_count": null,
   "id": "dec04231",
   "metadata": {},
   "outputs": [],
   "source": [
    "def trim1_example() ->str:\n",
    "    query = '''\n",
    "                SELECT trim('   Hello, World!   ')\n",
    "                '''\n",
    "    return query\n",
    "\n",
    "trim1_example = pd.read_sql(trim1_example(),conn_nyc)\n",
    "display(trim1_example)"
   ]
  },
  {
   "cell_type": "markdown",
   "id": "5ef229d2",
   "metadata": {},
   "source": [
    "In this example, the leading and trailing spaces are removed, leaving 'Hello, World!'.\n",
    "\n",
    "2. Trim specific characters: Remove characters specified in the trim_chars argument."
   ]
  },
  {
   "cell_type": "code",
   "execution_count": null,
   "id": "b821e551",
   "metadata": {},
   "outputs": [],
   "source": [
    "def trim2_example() ->str:\n",
    "    query = '''\n",
    "                SELECT trim('000Hello, World!000','0')\n",
    "                '''\n",
    "    return query\n",
    "\n",
    "trim2_example = pd.read_sql(trim2_example(),conn_nyc)\n",
    "display(trim2_example)"
   ]
  },
  {
   "cell_type": "markdown",
   "id": "1525aa05",
   "metadata": {},
   "source": [
    "Here, the function removes the leading and trailing '0's from the string.\n",
    "\n",
    "3. No characters to remove: If there are no characters to remove, the original string is returned."
   ]
  },
  {
   "cell_type": "code",
   "execution_count": null,
   "id": "0420e772",
   "metadata": {},
   "outputs": [],
   "source": [
    "def trim3_example() ->str:\n",
    "    query = '''\n",
    "                SELECT trim('Hello, World!','a')\n",
    "                '''\n",
    "    return query\n",
    "\n",
    "trim3_example = pd.read_sql(trim3_example(),conn_nyc)\n",
    "display(trim3_example)"
   ]
  },
  {
   "cell_type": "markdown",
   "id": "465905f3",
   "metadata": {},
   "source": [
    "Since there are no leading or trailing 'a' characters, the string remains unchanged."
   ]
  },
  {
   "cell_type": "markdown",
   "id": "d3033d87",
   "metadata": {},
   "source": [
    "### CAST() in SQLite\n",
    "\n",
    "In SQLite, the `cast()` function is used to convert a value from one data type to another. This is useful when you need to explicitly change the type of a value, such as converting a string to an integer or a floating-point number to a text representation. It is useful for the following usecases:\n",
    "*  Data conversion to convert data from one type to another (e.g., from text to numeric).\n",
    "*  Ensuring correct type such as converting a value of a certain type to another type for calculations or comparisons. For example, casting a STRING to INTEGER for numeric operations.\n",
    "*  Cleaning data with inconsistent types (such as numeric values stored as text).\n",
    "\n",
    "The function uses the following syntax and parameters:\n",
    "```sql\n",
    "CAST(expression AS target_type)\n",
    "```\n",
    "\n",
    "*  expression: The value (or column) you want to convert.\n",
    "*  target_type: The type you want to convert the expression into. This can be one of the following data types:\n",
    "   *  INTEGER: Used for integer values.\n",
    "   *  REAL: Used for floating-point values.\n",
    "   *  TEXT: Used for text (string) values.\n",
    "   *  BLOB: Used for binary data.\n",
    "\n",
    "Some basic examples showcasing usage.\n",
    "\n",
    "1.  Converting a string to an integer:"
   ]
  },
  {
   "cell_type": "code",
   "execution_count": null,
   "id": "1dab2c33",
   "metadata": {},
   "outputs": [],
   "source": [
    "def cast1_example() ->str:\n",
    "    query = '''\n",
    "                SELECT CAST('123' AS INTEGER)\n",
    "                '''\n",
    "    return query\n",
    "\n",
    "cast1_example = pd.read_sql(cast1_example(),conn_nyc)\n",
    "display(cast1_example)"
   ]
  },
  {
   "cell_type": "markdown",
   "id": "ba11a0e2",
   "metadata": {},
   "source": [
    "This converts the string `'123'` into the integer `123`.\n",
    "\n",
    "2. Converting a string to a real number:"
   ]
  },
  {
   "cell_type": "code",
   "execution_count": null,
   "id": "a45268d0",
   "metadata": {},
   "outputs": [],
   "source": [
    "def cast2_example() ->str:\n",
    "    query = '''\n",
    "                SELECT CAST('123.45' AS REAL)\n",
    "                '''\n",
    "    return query\n",
    "\n",
    "cast2_example = pd.read_sql(cast2_example(),conn_nyc)\n",
    "display(cast2_example)"
   ]
  },
  {
   "cell_type": "markdown",
   "id": "a4152fa0",
   "metadata": {},
   "source": [
    "The string `'123.45'` is successfully converted into a floating-point number `123.45`.\n",
    "\n",
    "3. Converting a number to text:"
   ]
  },
  {
   "cell_type": "code",
   "execution_count": null,
   "id": "54560960",
   "metadata": {},
   "outputs": [],
   "source": [
    "def cast3_example() ->str:\n",
    "    query = '''\n",
    "                SELECT CAST(123 AS TEXT)\n",
    "                '''\n",
    "    return query\n",
    "\n",
    "cast3_example = pd.read_sql(cast3_example(),conn_nyc)\n",
    "display(cast3_example)"
   ]
  },
  {
   "cell_type": "markdown",
   "id": "a936439f",
   "metadata": {},
   "source": [
    "The integer `123` is converted into the string `'123'`.\n",
    "\n",
    "4. Invalid conversion (returns 0):"
   ]
  },
  {
   "cell_type": "code",
   "execution_count": null,
   "id": "7fb6e06f",
   "metadata": {},
   "outputs": [],
   "source": [
    "def cast4_example() ->str:\n",
    "    query = '''\n",
    "                SELECT CAST('abc' AS INTEGER)\n",
    "                '''\n",
    "    return query\n",
    "\n",
    "cast4_example = pd.read_sql(cast4_example(),conn_nyc)\n",
    "display(cast4_example)"
   ]
  },
  {
   "cell_type": "markdown",
   "id": "0582b9d0",
   "metadata": {},
   "source": [
    "Since `'abc'` cannot be converted to an integer, SQLite returns `0`."
   ]
  },
  {
   "cell_type": "markdown",
   "id": "c4d806eb",
   "metadata": {},
   "source": [
    "### CONCAT() in SQLite\n",
    "\n",
    "In SQLite, `CONCAT()` function **IS NOT** directly supported. However you can achieve string concatenation using the `||` operator, which is the standard way to concatenate strings in SQLite. You can concatenate literal strings, columns, or a combination of both.\n",
    "\n",
    "Syntax:\n",
    "```sql\n",
    "string1 || string2 || ... || stringN\n",
    "```\n",
    "\n",
    "Use-cases include:\n",
    "*  Combining data such as creating full names, addresses, or any combined data from multiple columns\n",
    "*  Formatting output into specific layouts e.g. combining first and last names\n",
    "*  Dynamic data manipulation allowing you to modify and create dynamic content directly in your queries e.g. generating URLs or constructing dynamic reports."
   ]
  },
  {
   "cell_type": "markdown",
   "id": "99715087",
   "metadata": {},
   "source": [
    "1. Concatenating Two Strings"
   ]
  },
  {
   "cell_type": "code",
   "execution_count": null,
   "id": "89abd2a6",
   "metadata": {},
   "outputs": [],
   "source": [
    "def concat1_example() ->str:\n",
    "    query = '''\n",
    "                SELECT Agency || ':' || City\n",
    "                FROM data\n",
    "                LIMIT 10\n",
    "                '''\n",
    "    return query\n",
    "\n",
    "concat1_example = pd.read_sql(concat1_example(),conn_nyc)\n",
    "display(concat1_example)"
   ]
  },
  {
   "cell_type": "markdown",
   "id": "37ac93f3",
   "metadata": {},
   "source": [
    "The result shows the `Agency`:`City`.\n",
    "\n",
    "2. Concatenating Strings with Literals"
   ]
  },
  {
   "cell_type": "code",
   "execution_count": null,
   "id": "f56392a0",
   "metadata": {},
   "outputs": [],
   "source": [
    "def concat2_example() ->str:\n",
    "    query = '''\n",
    "                SELECT Agency || ':' || City || ',NY'\n",
    "                FROM data\n",
    "                LIMIT 10\n",
    "                '''\n",
    "    return query\n",
    "\n",
    "concat2_example = pd.read_sql(concat2_example(),conn_nyc)\n",
    "display(concat2_example)"
   ]
  },
  {
   "cell_type": "markdown",
   "id": "e47a9c65",
   "metadata": {},
   "source": [
    "The query added the suffix `,NY` to represent the state of the New York."
   ]
  }
 ],
 "metadata": {
  "colab": {
   "provenance": []
  },
  "kernelspec": {
   "display_name": "Python 3 (ipykernel)",
   "language": "python",
   "name": "python3"
  },
  "language_info": {
   "codemirror_mode": {
    "name": "ipython",
    "version": 3
   },
   "file_extension": ".py",
   "mimetype": "text/x-python",
   "name": "python",
   "nbconvert_exporter": "python",
   "pygments_lexer": "ipython3",
   "version": "3.12.7"
  }
 },
 "nbformat": 4,
 "nbformat_minor": 5
}
