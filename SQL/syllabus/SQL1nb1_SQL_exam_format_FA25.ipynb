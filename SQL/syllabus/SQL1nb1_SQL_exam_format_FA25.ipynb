{
 "cells": [
  {
   "cell_type": "markdown",
   "id": "b7866d34",
   "metadata": {
    "id": "b7866d34"
   },
   "source": [
    "# Intro to SQL -- \n",
    "\n",
    "## Running SQL in Jupyter Notebooks on exams"
   ]
  },
  {
   "cell_type": "code",
   "execution_count": null,
   "id": "9j-7hlsitvkZ",
   "metadata": {
    "id": "9j-7hlsitvkZ"
   },
   "outputs": [],
   "source": [
    "# !wget https://github.com/gt-cse-6040/bootcamp/raw/main/SQL/complete/example.db"
   ]
  },
  {
   "cell_type": "markdown",
   "id": "e9b555cb",
   "metadata": {
    "id": "e9b555cb"
   },
   "source": [
    "### Homework Notebook 9 introduces the methodology that this class uses, for running SQL from Jupyter notebooks.\n",
    "\n",
    "1. Create a database connection.\n",
    "\n",
    "    -- In this class, we will not ask you to create database connections for a grade. We will provide the database connections, and in most cases we will also provide queries that give you an initial view of the tables in the database.\n",
    "\n",
    "\n",
    "2. Write the query.\n",
    "\n",
    "    --**Homework NBs and Exams will ask you to put the query into a string variable**, and then the test cell will use the string in the query execution step.\n",
    "\n",
    "\n",
    "3. Execute the query and return the results.\n",
    "\n",
    "    --You will always return the results into a pandas dataframe, and the test case variables will be comparing your pandas dataframe output to the solution/true pandas dataframe output. This class will typically use the pandas function **read_sql_query()** for this step.\n",
    "\n",
    "\n",
    "4. For this class, because you will always return your query results to a pandas dataframe, you can use the function **assert_frame_equal()** to test and troubleshoot your query results. More on this in subsequent notebooks."
   ]
  },
  {
   "cell_type": "markdown",
   "id": "4fefccbb",
   "metadata": {},
   "source": [
    "### In this class, Step 1 will already be done for you, in a cell that the exam tells you to run.\n",
    "\n",
    "### Then, for the exercise requirement, you will write the Step 2 query, in a function."
   ]
  },
  {
   "cell_type": "markdown",
   "id": "cae87a87",
   "metadata": {},
   "source": [
    "### SQLite exercise format, Step 2\n",
    "\n",
    "For these exercises we will ask you to complete a function that returns a string. That string is a SQLite query. In the most basic case the function will take no parameters and you can just return a static string. Since you're returning a query, there isn't a feasible option to solve this type of exercise with Pandas.\n",
    "\n",
    "#### Possible variations\n",
    "\n",
    "    Inputs to customize the query\n",
    "\n",
    "    Input validation (i.e. raise an error if a given input doesn't meet a condition)\n",
    "\n",
    "\n",
    "#### You will not see\n",
    "\n",
    "    A connection as an input\n",
    "\n",
    "    Table creation\n",
    "\n",
    "    Data inserts/deletes/updates\n",
    "\n",
    "\n",
    "You're free to work with connections and Pandas to debug. The demos are set up to execute your query. You can use the same pattern for checking against the test data. \n",
    "\n",
    "\n",
    "#### You don't need to include any of the following in your solution.\n",
    "\n",
    "Anything related to a connection.\n",
    "    \n",
    "    i.e. execute, fetch, fetchall, close, commit, etc.\n",
    "\n",
    "Reading into Pandas\n",
    "    \n",
    "    i.e. pd.read_sql"
   ]
  },
  {
   "cell_type": "markdown",
   "id": "5269321f",
   "metadata": {},
   "source": [
    "### For Step 3, the exam will provide sample code which calls your function, executes your SQL, and returns a pandas dataframe of sample data. There will be a cell below that provides the sample data results, for students to compare to.\n",
    "\n",
    "### For Step 4, the exam will run a normal test cell, with the normal test case variables."
   ]
  },
  {
   "cell_type": "markdown",
   "id": "9dbb4fb0",
   "metadata": {},
   "source": [
    "## Let's see how this will look."
   ]
  },
  {
   "cell_type": "code",
   "execution_count": null,
   "id": "9f72a0cb",
   "metadata": {},
   "outputs": [],
   "source": [
    "import pandas as pd"
   ]
  },
  {
   "cell_type": "markdown",
   "id": "81dd3c2b",
   "metadata": {},
   "source": [
    "## This is the cell that sets up the database connection. The exam will simply tell you to run it."
   ]
  },
  {
   "cell_type": "code",
   "execution_count": null,
   "id": "2c6bb5ee",
   "metadata": {
    "id": "2c6bb5ee"
   },
   "outputs": [],
   "source": [
    "# create a connection to the database\n",
    "import sqlite3 as db\n",
    "\n",
    "# This is the example database, from Part 0 of NB 9.\n",
    "# Connect to a database (or create one if it doesn't exist)\n",
    "conn = db.connect('example.db')"
   ]
  },
  {
   "cell_type": "markdown",
   "id": "701808cd",
   "metadata": {},
   "source": [
    "## Next will be the exercise requirements, in the below format. \n",
    "\n",
    "#### The student output will be defined as in Step 2 above."
   ]
  },
  {
   "cell_type": "markdown",
   "id": "332cc849",
   "metadata": {
    "id": "332cc849"
   },
   "source": [
    "### Exercise 1: (1 points)\n",
    "\n",
    "**grade_output** -- This is the function name.\n",
    "\n",
    "**Your task:** define `grade_output` as follows:\n",
    "\n",
    "Return a SQL query to calculate the grade for each student in each course they have taken: --defines the columns required\n",
    "-  `name`\n",
    "-  `course`\n",
    "-  `grade`\n",
    "\n",
    "Some text here that provides any clarifying text, if necessary.\n",
    "\n",
    "**Inputs**: None  -- Note that this example has no inputs for the function, but we will show examples later on of how this could be required.\n",
    "\n",
    "**Return**: `query`: a Python string, containing a SQLite query. It should query the database to obtain a table with 3 columns:\n",
    "- `name`: a string column holding the names of each student\n",
    "- `course`: a string column holding the course name\n",
    "- `grade`: a float column holding the grade achieved.\n",
    "\n",
    "**Requirements/steps**:  -- any additional information required. If there are to be HINTs, they will be here.\n",
    "\n",
    "- The database tables you will need are named `Students` and `Takes`.\n"
   ]
  },
  {
   "cell_type": "code",
   "execution_count": null,
   "id": "7778f615",
   "metadata": {
    "id": "7778f615"
   },
   "outputs": [],
   "source": [
    "def grade_output():\n",
    "    ### BEGIN SOLUTION \n",
    "    query = '''\n",
    "        SELECT Students.name,\n",
    "                Takes.course,\n",
    "               Takes.grade\n",
    "\n",
    "        FROM Students, Takes\n",
    "\n",
    "        WHERE Students.gtid = Takes.gtid\n",
    "              \n",
    "    '''\n",
    "    return query\n",
    "    ### END SOLUTION\n",
    "\n",
    "### Demo function call\n",
    "grade_output_query = grade_output()\n",
    "grade_output_df = pd.read_sql(grade_output_query, conn)\n",
    "print(grade_output_df)  #.head())"
   ]
  },
  {
   "cell_type": "markdown",
   "id": "5cc6ce76",
   "metadata": {},
   "source": [
    "### Note for the format of the demo function call above.\n",
    "\n",
    "1. Put your query into a string variable. You can print/display this variable, if you want to see what is going into the database.\n",
    "\n",
    "2. Send your query to the database and return a pandas dataframe.\n",
    "\n",
    "3. Print/display some portion of your returned dataframe."
   ]
  },
  {
   "cell_type": "markdown",
   "id": "012c7a4a",
   "metadata": {},
   "source": [
    "### The next cell in the exam (below) will give you what the demo data should return, for you to compare your demo results to."
   ]
  },
  {
   "cell_type": "markdown",
   "id": "a1ef9492",
   "metadata": {
    "id": "6d30abcc"
   },
   "source": [
    "**The demo should display this printed output.**\n",
    "```\n",
    "   name     course  grade\n",
    "0  Vuduc   CSE 6040    4.0\n",
    "1  Vuduc  ISYE 6644    3.0\n",
    "2  Vuduc  MGMT 8803    1.0\n",
    "3   Chau   CSE 6040    4.0\n",
    "4   Chau  ISYE 6740    2.0\n",
    "5   Chau  MGMT 8803    3.0\n",
    "6  Sokol   CSE 6040    4.0\n",
    "7  Sokol  ISYE 6740    4.0\n",
    "\n",
    "[8 rows x 3 columns]\n",
    "```\n",
    "\n",
    "\n",
    " ---\n",
    " <!-- Test Cell Boilerplate -->  \n",
    "The cell below will test your solution for grade_output (exercise 1). The testing variables will be available for debugging under the following names in a dictionary format.  \n",
    "- `input_vars` - Input variables for your solution.   \n",
    "- `original_input_vars` - Copy of input variables from prior to running your solution. Any `key:value` pair in `original_input_vars` should also exist in `input_vars` - otherwise the inputs were modified by your solution.  \n",
    "- `returned_output_vars` - Outputs returned by your solution.  \n",
    "- `true_output_vars` - The expected output. This _should_ \"match\" `returned_output_vars` based on the question requirements - otherwise, your solution is not returning the correct output. "
   ]
  },
  {
   "cell_type": "markdown",
   "id": "f34a7664",
   "metadata": {},
   "source": [
    "### The actual test cell will be here. Not included for this example notebook."
   ]
  },
  {
   "cell_type": "markdown",
   "id": "77ccde1f",
   "metadata": {},
   "source": [
    "## What questions do you all have on the exam format of SQL exercises?"
   ]
  },
  {
   "cell_type": "code",
   "execution_count": null,
   "id": "99508099",
   "metadata": {},
   "outputs": [],
   "source": []
  }
 ],
 "metadata": {
  "colab": {
   "provenance": []
  },
  "kernelspec": {
   "display_name": "Python 3 (ipykernel)",
   "language": "python",
   "name": "python3"
  },
  "language_info": {
   "codemirror_mode": {
    "name": "ipython",
    "version": 3
   },
   "file_extension": ".py",
   "mimetype": "text/x-python",
   "name": "python",
   "nbconvert_exporter": "python",
   "pygments_lexer": "ipython3",
   "version": "3.12.7"
  }
 },
 "nbformat": 4,
 "nbformat_minor": 5
}
