{
 "cells": [
  {
   "cell_type": "markdown",
   "metadata": {},
   "source": [
    "# SQL Working with DATEs"
   ]
  },
  {
   "cell_type": "code",
   "execution_count": null,
   "metadata": {},
   "outputs": [],
   "source": [
    "!wget https://github.com/gt-cse-6040/bootcamp/raw/main/SQL/syllabus/NYC-311-2M_small.db"
   ]
  },
  {
   "cell_type": "code",
   "execution_count": null,
   "metadata": {},
   "outputs": [],
   "source": [
    "# create a connection to the database\n",
    "import sqlite3 as db\n",
    "import pandas as pd\n",
    "\n",
    "# Connect to a database (or create one if it doesn't exist)\n",
    "conn_nyc = db.connect('NYC-311-2M_small.db')"
   ]
  },
  {
   "cell_type": "markdown",
   "metadata": {},
   "source": [
    "## DATEs\n",
    "*    https://www.sqlite.org/lang_datefunc.html\n",
    "\n",
    "SQLite provides a set of functions for working with date and time values, even though it does not have a dedicated DATE or TIME data type. Instead, SQLite stores dates and times as TEXT, REAL, or INTEGER values. These date functions allow you to perform various date and time manipulations and calculations, such as formatting, comparing, and extracting specific components like year, month, day, etc.\n",
    "\n",
    "| Function | Description |\n",
    "| ---- | ---- |\n",
    "| JULIANDAY() | Returns the Julian day number (days since 4713 BC). |\n",
    "| STRFTIME() | Formats a date or time according to a given format string. |\n",
    "\n",
    "Date and Time Format Specifiers for STRFTIME:\n",
    "\n",
    "| Format Specifier | Description | Example for `2025-02-18 14:25:30` |\n",
    "| ---- | ---- | ---- |\n",
    "| %Y | Four-digit year | 2025 |\n",
    "| %m | Two-digit month (01-12) | 02 |\n",
    "| %d | Two-digit day of the month (01-31) | 18 |\n",
    "| %H | Two-digit hour (00-23) | 14 |\n",
    "| %M | Two-digit minute (00-59) | 25 |\n",
    "| %S | Two-digit second (00-59) | 30 |\n",
    "| %w | Day of the week (0=Sunday, 6=Saturday) | 2 |\n",
    "| %A | Full weekday name | Tuesday |\n",
    "| %B | Full month name | February |\n",
    "| %C | Century (year divided by 100) | 20 |\n",
    "| %d | Day of the month (01-31) | 18 |\n",
    "| %e | Day of the month (1-31, no leading zero) | 18 |\n",
    "| %f | Milliseconds (000-999) | 000 |\n",
    "| %H | Hour in 24-hour format (00-23) | 14 |\n",
    "| %I | Hour in 12-hour format (01-12) | 02 |\n",
    "| %j | Day of the year (001-366) | 049 |\n",
    "| %k | Hour (1-24, no leading zero) | 14 |\n",
    "| %l | Hour (1-12, no leading zero) | 2 |\n",
    "| %m | Month (01-12) | 02 |\n",
    "| %M | Minute (00-59) | 25 |\n",
    "| %p | AM/PM indicator | PM |\n",
    "| %r | 12-hour time format (hh:mm:ss AM/PM) | 02:25:30 PM |\n",
    "| %s | Unix timestamp (seconds since 1970-01-01 00:00:00) | 1613652330 |\n",
    "| %T | Time in 24-hour format (HH:MM:SS) | 14:25:30 |\n",
    "| %U | Week number of the year (00-53), Sunday as first day | 07 |\n",
    "| %V | ISO 8601 week number (01-53), Monday as first day | 08 |\n",
    "| %W | Week number of the year (00-53), Monday as first day | 08 |\n",
    "| %x | Date in the format MM/DD/YY | 02/18/25 |\n",
    "| %X | Time in the format HH:MM:SS | 14:25:30 |\n",
    "| %Y | Four-digit year | 2025 |\n",
    "| %z | UTC offset (e.g., +02:00) | +00:00 |\n",
    "| %Z | Time zone name | UTC |"
   ]
  },
  {
   "cell_type": "markdown",
   "metadata": {},
   "source": [
    "### Example\n",
    "From the `data` table for `Agency='NYPD'`, extract the createdDate year, createdDate epoch, and duration to close the ticket:\n",
    "*  Columns\n",
    "   *  `ComplaintType`\n",
    "   *  `createdDate`\n",
    "   *  `closedDate`\n",
    "   *  `createdYear`: year extracted from `createdDate`\n",
    "   *  `createdEpoch`: Epoch (or seconds since Jan 1, 1970) extracted from `createdDate`\n",
    "   *  `deltadays`: Difference in days between the `closedDate` and `createdDate` using `julianday`"
   ]
  },
  {
   "cell_type": "code",
   "execution_count": null,
   "metadata": {},
   "outputs": [],
   "source": [
    "def strftimeexample() -> str:\n",
    "  return f\"\"\"\n",
    "  SELECT ComplaintType\n",
    "          ,createdDate\n",
    "          ,closedDate\n",
    "          ,strftime('%Y',createdDate) createdyear\n",
    "          ,strftime('%s',createdDate) createdepoch\n",
    "          ,julianday(closedDate) - julianday(createdDate) deltadays\n",
    "  FROM data\n",
    "  WHERE Agency='NYPD'\n",
    "  \"\"\"\n",
    "d=pd.read_sql(strftimeexample(),conn_nyc)\n",
    "display(d)"
   ]
  }
 ],
 "metadata": {
  "kernelspec": {
   "display_name": "Python 3 (ipykernel)",
   "language": "python",
   "name": "python3"
  },
  "language_info": {
   "codemirror_mode": {
    "name": "ipython",
    "version": 3
   },
   "file_extension": ".py",
   "mimetype": "text/x-python",
   "name": "python",
   "nbconvert_exporter": "python",
   "pygments_lexer": "ipython3",
   "version": "3.12.7"
  }
 },
 "nbformat": 4,
 "nbformat_minor": 4
}
