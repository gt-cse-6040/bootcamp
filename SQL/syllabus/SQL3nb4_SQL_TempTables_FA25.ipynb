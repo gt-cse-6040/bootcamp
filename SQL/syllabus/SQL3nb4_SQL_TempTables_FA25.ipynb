{
  "cells": [
    {
      "cell_type": "markdown",
      "metadata": {
        "id": "view-in-github",
        "colab_type": "text"
      },
      "source": [
        "<a href=\"https://colab.research.google.com/github/gt-cse-6040/bootcamp/blob/main/SQL/syllabus/SQL3nb4_SQL_TempTables_FA25.ipynb\" target=\"_parent\"><img src=\"https://colab.research.google.com/assets/colab-badge.svg\" alt=\"Open In Colab\"/></a>"
      ]
    },
    {
      "cell_type": "markdown",
      "id": "b7866d34",
      "metadata": {
        "id": "b7866d34"
      },
      "source": [
        "# SQL Temp Tables"
      ]
    },
    {
      "cell_type": "code",
      "execution_count": null,
      "id": "XxMG5XfT-NHD",
      "metadata": {
        "id": "XxMG5XfT-NHD"
      },
      "outputs": [],
      "source": [
        "!wget https://github.com/gt-cse-6040/bootcamp/raw/main/SQL/syllabus/NYC-311-2M_small.db"
      ]
    },
    {
      "cell_type": "code",
      "execution_count": null,
      "id": "c40719ef",
      "metadata": {
        "id": "c40719ef"
      },
      "outputs": [],
      "source": [
        "# create a connection to the database\n",
        "import sqlite3 as db\n",
        "import pandas as pd\n",
        "\n",
        "# Connect to a database (or create one if it doesn't exist)\n",
        "conn_nyc = db.connect('NYC-311-2M_small.db')"
      ]
    },
    {
      "cell_type": "markdown",
      "id": "d822d279",
      "metadata": {
        "id": "d822d279"
      },
      "source": [
        "## Temp Tables -- Quick Review\n",
        "\n",
        "In SQLite, temporary tables (or temp tables) are used to store data temporarily during the course of a session.\n",
        "\n",
        "These tables are very useful for intermediate results, complex queries, or storing temporary data without affecting the main schema of the database.\n",
        "\n",
        "The the temporary table, and the data in the temporary table, is automatically deleted when the session ends or when the database connection is closed.\n",
        "\n",
        "Temporary Tables Features:\n",
        "\n",
        "*    `Temporary Scope`: Temporary tables only exist for the duration of the database session. Once the connection is closed, the temporary tables are dropped automatically.\n",
        "\n",
        "*    `Session-Specific`: They are available only to the database connection that created them. Other connections cannot access the temporary tables.\n",
        "\n",
        "*    `Prefix`: Temporary tables are created with the keyword TEMP or TEMPORARY, but TEMP is optional in SQLite. They are stored in memory by default, but you can configure them to be stored on disk.\n",
        "\n",
        "*    `No Impact on Schema`: Temporary tables are separate from the permanent database schema, so they do not affect the structure or data of the main tables."
      ]
    },
    {
      "cell_type": "markdown",
      "id": "cd2b8155",
      "metadata": {
        "id": "cd2b8155"
      },
      "source": [
        "## Temp Tables\n",
        "\n",
        "- Are created/defined at the `top` of the SQL statement.\n",
        "\n",
        "\n",
        "- The temp table is created and written to memory when defined, and subsequent joins to the temp table are to the table structure in memory.\n",
        "\n",
        "\n",
        "- Temp tables can be very efficient, when your query is either complex, or you must call it several/many times in your SQL program, because it is only created once, then referenced as any other table.\n",
        "\n",
        "\n",
        "- Temp tables can be memory-intensive, particularly if it holds a lot of data (either rows or columns, or both).\n",
        "\n",
        "https://w3schools.tech/tutorial/sql/sql-temporary-tables"
      ]
    },
    {
      "cell_type": "markdown",
      "id": "bdd73e9a",
      "metadata": {
        "id": "bdd73e9a"
      },
      "source": [
        "### EXAMPLE -- INNER JOIN WITH Temp Table (similar to before, with a subquery/CTE)\n",
        "\n",
        "**Requirement**\n",
        "\n",
        "From the `data` table, for each `city`, return counts or a distribution of tickets per `hour` on the biggest day (by events) by `createdDate`.\n",
        "\n",
        "Hint, it's `2014-11-18` (8466 events) but how do we put this into code dynamically?\n",
        "\n",
        "*    Columns\n",
        "    *    `City`\n",
        "    *    `createdHour`\n",
        "    *    `countoccur`: the count of events\n",
        "\n",
        "*    Exclude NULL cities i.e. `WHERE city IS NOT NULL`\n",
        "\n",
        "*    Sort\n",
        "    *   `City` in ascending order\n",
        "    *   `createdHour` in ascending order"
      ]
    },
    {
      "cell_type": "markdown",
      "id": "27773a01-98cc-42d1-b8c1-857520ad4a84",
      "metadata": {
        "id": "27773a01-98cc-42d1-b8c1-857520ad4a84"
      },
      "source": [
        "**Pseudocode:**\n",
        "*    Need to find the biggest day. Store as TEMP TABLE `temptopymd`\n",
        "*    JOIN `temptopymd` to the `data` table\n",
        "*    produce `SELECT` statement\n",
        "*    include `WHERE` statement\n",
        "*    `GROUP BY`\n",
        "*    `ORDER BY`"
      ]
    },
    {
      "cell_type": "code",
      "execution_count": null,
      "id": "699cf969",
      "metadata": {
        "id": "699cf969"
      },
      "outputs": [],
      "source": [
        "def inner_join_example():\n",
        "\n",
        "    def drop_table():\n",
        "        drop_table_query = '''\n",
        "                    DROP TABLE IF EXISTS temptopymd;\n",
        "                    '''\n",
        "        return drop_table_query\n",
        "\n",
        "    def create_table():\n",
        "        create_table_query = '''\n",
        "                    CREATE TEMP TABLE temptopymd AS\n",
        "                              SELECT strftime('%Y-%m-%d',CreatedDate) createdymd\n",
        "                                      ,count(*) totalymd\n",
        "                              FROM data\n",
        "                              group by 1\n",
        "                              order by 2 desc\n",
        "                              limit 1;\n",
        "                    '''\n",
        "        return create_table_query\n",
        "#     create the cursor and drop/create the temp table\n",
        "    cursor=conn_nyc.cursor()\n",
        "    cursor.execute(drop_table())\n",
        "    cursor.execute(create_table())\n",
        "\n",
        "\n",
        "#     # display the list of cities\n",
        "    query_inner_join = '''\n",
        "                        SELECT a.city\n",
        "                                    ,strftime('%H',CreatedDate) createdhour\n",
        "                                    ,count(*) countoccur\n",
        "                                FROM data a\n",
        "                                --this join gets the date with the most events from temptable\n",
        "                                INNER JOIN temptopymd b\n",
        "                                    on strftime('%Y-%m-%d',a.CreatedDate)=b.createdymd\n",
        "                                WHERE a.city IS NOT NULL\n",
        "                                GROUP BY 1,2\n",
        "                                ORDER BY 1,2\n",
        "                '''\n",
        "\n",
        "\n",
        "    return query_inner_join\n",
        "\n",
        "df_inner_join_example = pd.read_sql(inner_join_example(),conn_nyc)\n",
        "display(df_inner_join_example)"
      ]
    },
    {
      "cell_type": "markdown",
      "id": "4935c733",
      "metadata": {
        "id": "4935c733"
      },
      "source": [
        "### So what did we do here?\n",
        "\n",
        "#### For the temp table itself:\n",
        "\n",
        "1. We ensured that the temp table did not already exist in memory.\n",
        "\n",
        "#### We then created the temp table:\n",
        "\n",
        "2. The query counted the number of rows (complaints) for each data.\n",
        "\n",
        "3. The query sorted by the number in descending order.\n",
        "\n",
        "4. The temp table was created one row, which is the date with the most complaints."
      ]
    },
    {
      "cell_type": "markdown",
      "id": "de22eef5",
      "metadata": {
        "id": "de22eef5"
      },
      "source": [
        "#### Next, in the main query:\n",
        "\n",
        "1. The temp table inner joined to the main query on the date.\n",
        "\n",
        "2. Because the join to the temp table is an inner join, it ensures that the only rows included/returned are those with that date."
      ]
    },
    {
      "cell_type": "markdown",
      "id": "9e3bdb39",
      "metadata": {
        "id": "9e3bdb39"
      },
      "source": [
        "### As discussed before, a temp table is also very good if it is to be called multiple times in the session, and/or it has a lot of data in it.\n",
        "\n",
        "#### Same as subqueries and CTEs, troubleshooting temp tables is fairly straightforward.\n",
        "\n",
        "#### For example, to ensure that the temp table is returning the correct date, all we have to do is call it in its own query.\n",
        "\n",
        "Let's see how this is done."
      ]
    },
    {
      "cell_type": "code",
      "execution_count": null,
      "id": "27ff7889",
      "metadata": {
        "id": "27ff7889"
      },
      "outputs": [],
      "source": [
        "def temptableexample():\n",
        "\n",
        "    query_temp_table = '''\n",
        "                SELECT * FROM temptopymd LIMIT 10\n",
        "                '''\n",
        "\n",
        "    return query_temp_table\n",
        "\n",
        "d=pd.read_sql(temptableexample(),conn_nyc)\n",
        "display(d)"
      ]
    },
    {
      "cell_type": "markdown",
      "id": "e3c5d167",
      "metadata": {
        "id": "e3c5d167"
      },
      "source": [
        "## Remember:  \n",
        "\n",
        "#### Temporary tables `only` exist for the duration of the database session.\n",
        "\n",
        "#### Once the connection is closed, the temporary tables are dropped automatically.\n",
        "\n",
        "### In this case, we have not closed the connection (by closing the notebook), so we can call the temporary table in its own query."
      ]
    },
    {
      "cell_type": "markdown",
      "id": "a8939b00",
      "metadata": {
        "id": "a8939b00"
      },
      "source": [
        "## Because of the complexity in creating temporary tables for the LEFT JOIN example, we will not be showing it with Temporary Tables.\n",
        "\n",
        "#### You will not be asked to execute a query that complex, using temp tables, in this class."
      ]
    },
    {
      "cell_type": "markdown",
      "id": "a5969ea3",
      "metadata": {
        "id": "a5969ea3"
      },
      "source": [
        "## What questions do you have on Temporary Tables?"
      ]
    },
    {
      "cell_type": "code",
      "execution_count": null,
      "id": "d89dcc85",
      "metadata": {
        "id": "d89dcc85"
      },
      "outputs": [],
      "source": []
    }
  ],
  "metadata": {
    "colab": {
      "provenance": [],
      "include_colab_link": true
    },
    "kernelspec": {
      "display_name": "Python 3 (ipykernel)",
      "language": "python",
      "name": "python3"
    },
    "language_info": {
      "codemirror_mode": {
        "name": "ipython",
        "version": 3
      },
      "file_extension": ".py",
      "mimetype": "text/x-python",
      "name": "python",
      "nbconvert_exporter": "python",
      "pygments_lexer": "ipython3",
      "version": "3.12.7"
    }
  },
  "nbformat": 4,
  "nbformat_minor": 5
}