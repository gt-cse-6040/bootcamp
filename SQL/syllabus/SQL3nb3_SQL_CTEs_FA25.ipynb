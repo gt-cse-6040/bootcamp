{
 "cells": [
  {
   "cell_type": "markdown",
   "id": "b7866d34",
   "metadata": {
    "id": "b7866d34"
   },
   "source": [
    "# SQL Common Table Expressions (CTE)"
   ]
  },
  {
   "cell_type": "code",
   "execution_count": null,
   "id": "XxMG5XfT-NHD",
   "metadata": {
    "id": "XxMG5XfT-NHD"
   },
   "outputs": [],
   "source": [
    "!wget https://github.com/gt-cse-6040/bootcamp/raw/main/SQL/syllabus/NYC-311-2M_small.db"
   ]
  },
  {
   "cell_type": "code",
   "execution_count": null,
   "id": "c40719ef",
   "metadata": {
    "id": "c40719ef"
   },
   "outputs": [],
   "source": [
    "# create a connection to the database\n",
    "import sqlite3 as db\n",
    "import pandas as pd\n",
    "\n",
    "# Connect to a database (or create one if it doesn't exist)\n",
    "conn_nyc = db.connect('NYC-311-2M_small.db')"
   ]
  },
  {
   "cell_type": "markdown",
   "id": "d822d279",
   "metadata": {},
   "source": [
    "## Common Table Expressions (CTEs) -- Quick Review\n",
    "\n",
    "A Common Table Expression (CTE), introduced by the WITH clause, is a named temporary result set that you can reference within your main query. \n",
    "\n",
    "CTEs improve the readability and maintainability of SQL code, especially for complex queries, by allowing you to break down operations into logical steps.\n",
    "\n",
    "CTEs are often preferred for their clarity and efficiency, particularly when the same calculation or transformation needs to be referenced multiple times within a query. \n",
    "\n",
    "Visit the [SQLite Documentation's CTE page](https://www.sqlite.org/lang_with.html) to learn more."
   ]
  },
  {
   "cell_type": "markdown",
   "id": "cd2b8155",
   "metadata": {},
   "source": [
    "## CTEs\n",
    "\n",
    "- Are created/defined at the `top` of the SQL statement.\n",
    "\n",
    "- Are called, as a separate operation, each time that they are referenced.\n",
    "\n",
    "- As such, are reusable.\n",
    "\n",
    "- What this means, practically, is that if you are joining to a CTE multiple times in your SQL, it is separately called and executed each time you reference it."
   ]
  },
  {
   "cell_type": "markdown",
   "id": "bdd73e9a",
   "metadata": {},
   "source": [
    "### EXAMPLE -- INNER JOIN WITH CTE (same as before, with a subquery)\n",
    "\n",
    "**Requirement**\n",
    "\n",
    "From the `data` table, for each `city`, return counts or a distribution of tickets per `hour` on the biggest day (by events) by `createdDate`. \n",
    "\n",
    "Hint, it's `2014-11-18` (8466 events) but how do we put this into code dynamically?\n",
    "\n",
    "*    Columns\n",
    "    *    `City`\n",
    "    *    `createdHour`\n",
    "    *    `countoccur`: the count of events\n",
    "\n",
    "*    Exclude NULL cities i.e. `WHERE city IS NOT NULL`\n",
    "\n",
    "*    Sort\n",
    "    *   `City` in ascending order\n",
    "    *   `createdHour` in ascending order\n",
    "\n",
    "**Pseudocode:**\n",
    "*    Need to find the biggest day\n",
    "*    JOIN to the `data` table\n",
    "*    produce `SELECT` statement\n",
    "*    include `WHERE` statement\n",
    "*    `GROUP BY`\n",
    "*    `ORDER BY`"
   ]
  },
  {
   "cell_type": "code",
   "execution_count": null,
   "id": "699cf969",
   "metadata": {},
   "outputs": [],
   "source": [
    "def inner_join_example():\n",
    "\n",
    "#     # display the list of cities\n",
    "    query_inner_join = '''\n",
    "                WITH topymd AS (\n",
    "                                  SELECT strftime('%Y-%m-%d',CreatedDate) createdymd\n",
    "                                          ,count(*) totalymd\n",
    "                                  FROM data\n",
    "                                  GROUP BY 1\n",
    "                                  ORDER BY 2 DESC\n",
    "                                  LIMIT 1\n",
    "                                )\n",
    "                SELECT a.city\n",
    "                        ,strftime('%H',CreatedDate) createdhour\n",
    "                        ,count(*) countoccur\n",
    "                FROM data a\n",
    "                    --this join gets the date with the most events from CTE\n",
    "                    INNER JOIN topymd b \n",
    "                                on strftime('%Y-%m-%d',a.CreatedDate) = b.createdymd\n",
    "                \n",
    "                WHERE a.city IS NOT NULL\n",
    "                GROUP BY 1,2\n",
    "                ORDER BY 1,2\n",
    "                '''\n",
    "#     troubleshooting query\n",
    "    # query_inner_join = '''\n",
    "    #             --WITH topymd AS (\n",
    "    #                               SELECT strftime('%Y-%m-%d',CreatedDate) createdymd\n",
    "    #                                       ,count(*) totalymd\n",
    "    #                               FROM data\n",
    "    #                               GROUP BY 1\n",
    "    #                               ORDER BY 2 DESC\n",
    "    #                               LIMIT 1\n",
    "    #             --                )\n",
    "    #             /*\n",
    "    #             SELECT a.city\n",
    "    #                     ,strftime('%H',CreatedDate) createdhour\n",
    "    #                     ,count(*) countoccur\n",
    "    #             FROM data a\n",
    "    #                 --this join gets the date with the most events from CTE\n",
    "    #                 INNER JOIN topymd b \n",
    "    #                             on strftime('%Y-%m-%d',a.CreatedDate) = b.createdymd\n",
    "                \n",
    "    #             WHERE a.city IS NOT NULL\n",
    "    #             GROUP BY 1,2\n",
    "    #             ORDER BY 1,2\n",
    "    #             */\n",
    "    #             '''\n",
    "    \n",
    "    return query_inner_join\n",
    "\n",
    "df_inner_join_example = pd.read_sql(inner_join_example(),conn_nyc)\n",
    "display(df_inner_join_example)"
   ]
  },
  {
   "cell_type": "markdown",
   "id": "4935c733",
   "metadata": {
    "id": "4935c733"
   },
   "source": [
    "### So what did we do here?\n",
    "\n",
    "#### First the cte itself:\n",
    "\n",
    "1. The CTE counted the number of rows (complaints) for each data.\n",
    "\n",
    "2. The CTE sorted by the number in descending order.\n",
    "\n",
    "3. The CTE returned one row, which is the date with the most complaints."
   ]
  },
  {
   "cell_type": "markdown",
   "id": "de22eef5",
   "metadata": {
    "id": "abfdef2a"
   },
   "source": [
    "#### Next, in the main query:\n",
    "\n",
    "1. The CTE inner joined to the main query on the date.\n",
    "\n",
    "2. Because the join to the CTE is an inner join, it ensures that the only rows included/returned are those with that date."
   ]
  },
  {
   "cell_type": "markdown",
   "id": "9e3bdb39",
   "metadata": {},
   "source": [
    "### CTEs are fairly straightforward to troubleshoot.\n",
    "\n",
    "For example, to ensure that the CTE is returning the correct date, all we have to do is comment out the non-CTE lines, and then execute the query.\n",
    "\n",
    "Let's see how this is done. We will uncomment the troubleshooting query and discuss what we did."
   ]
  },
  {
   "cell_type": "markdown",
   "id": "a8939b00",
   "metadata": {},
   "source": [
    "### What are your questions so far?"
   ]
  },
  {
   "cell_type": "markdown",
   "id": "1bd7ef64",
   "metadata": {},
   "source": [
    "### LEFT JOIN WITH SUBQUERY AND MULTIPLE CTEs\n",
    "\n",
    "From the `data` table, for each `city`, return counts or a distribution of tickets per `hour` on the biggest day (by events) by `createdDate`. \n",
    "\n",
    "Hint, it's `2014-11-18` (8466 events) but how do we put this into code dynamically?\n",
    "\n",
    "But this time, **only include `City` if they have an event on that day**. \n",
    "\n",
    "Additionally, `City` with `Hour` without events on that day should be included but should have a 0 for `countoccur`.\n",
    "\n",
    "*    Columns\n",
    "    *    `City`\n",
    "    *    `createdHour`\n",
    "    *    `countoccur`: the count of events. **REMEMBER: This should be 0 if there aren't any events for that city/hour**\n",
    "\n",
    "\n",
    "*    Exclude NULL cities i.e. `WHERE city IS NOT NULL`\n",
    "\n",
    "\n",
    "*    Sort\n",
    "    *   `City` in ascending order\n",
    "    *   `createdHour` in ascending order\n",
    "\n",
    "**Pseudocode:**\n",
    "\n",
    "*    Need to find the biggest day. This is query `b` below.\n",
    "\n",
    "*    Need to get all the hours that occur on the biggest day. This is query `c` below.\n",
    "\n",
    "*    Need to get all the cities/hour combinations possible for the biggest day. This is query `aa` below.\n",
    "\n",
    "*    Need to get the counts for each city/hour on the biggest day, This is query `bb` below.\n",
    "\n",
    "*    Need to join query `aa` with qery `bb` to retain all of query `aa`. This is this overall query, `a`.\n",
    "\n",
    "*    produce `SELECT` statement\n",
    "\n",
    "*    `GROUP BY`\n",
    "*    `ORDER BY`"
   ]
  },
  {
   "cell_type": "markdown",
   "id": "03fa89d3",
   "metadata": {},
   "source": [
    "### Note that there are 5 distinct queries/subqueries:\n",
    "\n",
    "a.  The base `data` table, or the main table the all of the other queries rely on.\n",
    "\n",
    "b.  Gets the date with the most events. This CTE is written once and executed in multiple places. This is `CTE_topymd`.\n",
    "\n",
    "c.  Gets the distinct hours on the date with the most events. This is `CTE_hours`. Depends on the date in `CTE_topymd`.\n",
    "\n",
    "aa.  Gets a distinct list of city/createdhour for the date with the most events. This is `CTE_cityhours`. Depends on the date in `CTE_topymd`.\n",
    "\n",
    "bb.  Gets the number of events for city/hour. SAME AS INNER JOIN EXAMPLE ABOVE. This is `CTE_cityhourcounts`. Depends on the date in `CTE_topymd`."
   ]
  },
  {
   "cell_type": "markdown",
   "id": "fcceb711",
   "metadata": {},
   "source": [
    "### CTE_topymd is defined once, and it is executed twice:\n",
    "\n",
    " - Once in the query CTE_city_hours\n",
    " \n",
    " - Once in the query CTE_cityhourcounts\n",
    " \n",
    "### CTE_hours is defined once and it is executed \n",
    "\n",
    "- Once in the query CTE_cityhours\n",
    "\n",
    "### CTE_cityhours is defined once and it is executed\n",
    "\n",
    "- Once in the main query\n",
    "\n",
    "### CTE_cityhourcounts is defined once and it is executed\n",
    "\n",
    "- Once in the main query"
   ]
  },
  {
   "cell_type": "code",
   "execution_count": null,
   "id": "dfd98647",
   "metadata": {},
   "outputs": [],
   "source": [
    "def left_join_example():\n",
    "\n",
    "    # display the list of cities\n",
    "    query_left_join = '''\n",
    "                         WITH CTE_topymd AS ( --this gets the date with the most events\n",
    "                                          SELECT strftime('%Y-%m-%d',CreatedDate) createdymd\n",
    "                                                  ,count(*) totalymd\n",
    "                                          FROM data\n",
    "                                          GROUP BY 1\n",
    "                                          ORDER BY 2 desc\n",
    "                                          LIMIT 1\n",
    "                                        ),\n",
    "                           --independent query, does not rely on the one above\n",
    "                           CTE_hours AS ( --this gets the distinct hours on the date with the most events\n",
    "                                          SELECT distinct strftime('%Y-%m-%d',CreatedDate) createdymd\n",
    "                                                          ,strftime('%H',CreatedDate) createdhour\n",
    "                                          FROM data\n",
    "                                        ),\n",
    "                           --depends on the two CTEs above\n",
    "                           CTE_cityhours AS ( --this gets a distinct list of city/createdhour for the date with the most events\n",
    "                                          SELECT DISTINCT a.city\n",
    "                                                          ,c.createdhour\n",
    "                                          FROM data a\n",
    "                                          INNER JOIN CTE_topymd b \n",
    "                                                      on strftime('%Y-%m-%d',a.CreatedDate) = b.createdymd\n",
    "                                          LEFT JOIN CTE_hours c \n",
    "                                                      on strftime('%Y-%m-%d',a.CreatedDate) = c.createdymd\n",
    "                                          WHERE a.city IS NOT NULL\n",
    "                                        ),\n",
    "                           --depends on the CTE_topymd above\n",
    "                           CTE_cityhourcounts AS ( --this gets the number of events for city/hour. SAME AS JOIN EXAMPLE ABOVE\n",
    "                                              SELECT a.city\n",
    "                                                      ,strftime('%H',CreatedDate) createdhour\n",
    "                                                      ,count(*) countoccur\n",
    "                                              FROM data a\n",
    "                                              INNER JOIN CTE_topymd b \n",
    "                                                      on strftime('%Y-%m-%d',a.CreatedDate) = b.createdymd\n",
    "                                              WHERE a.city IS NOT NULL\n",
    "                                              GROUP BY 1,2\n",
    "                                        )\n",
    "            --this is the main query\n",
    "            SELECT \n",
    "                aa.city\n",
    "                ,aa.createdhour\n",
    "                ,COALESCE(bb.countoccur,0) countoccur\n",
    "            \n",
    "            FROM CTE_cityhours aa\n",
    "                LEFT JOIN CTE_cityhourcounts bb \n",
    "                            ON aa.city=bb.city \n",
    "                            AND aa.createdhour=bb.createdhour\n",
    "            ORDER BY 1,2\n",
    "                '''\n",
    "    return query_left_join\n",
    "\n",
    "df_left_join_example = pd.read_sql(left_join_example(),conn_nyc)\n",
    "display(df_left_join_example)"
   ]
  },
  {
   "cell_type": "markdown",
   "id": "b64af15b",
   "metadata": {},
   "source": [
    "## Troubleshooting this query would be the same as above, and we leave the execution as an exercise for students."
   ]
  },
  {
   "cell_type": "markdown",
   "id": "a5969ea3",
   "metadata": {},
   "source": [
    "## What questions do you have on CTEs?"
   ]
  },
  {
   "cell_type": "code",
   "execution_count": null,
   "id": "d89dcc85",
   "metadata": {},
   "outputs": [],
   "source": []
  }
 ],
 "metadata": {
  "colab": {
   "provenance": []
  },
  "kernelspec": {
   "display_name": "Python 3 (ipykernel)",
   "language": "python",
   "name": "python3"
  },
  "language_info": {
   "codemirror_mode": {
    "name": "ipython",
    "version": 3
   },
   "file_extension": ".py",
   "mimetype": "text/x-python",
   "name": "python",
   "nbconvert_exporter": "python",
   "pygments_lexer": "ipython3",
   "version": "3.12.7"
  }
 },
 "nbformat": 4,
 "nbformat_minor": 5
}
