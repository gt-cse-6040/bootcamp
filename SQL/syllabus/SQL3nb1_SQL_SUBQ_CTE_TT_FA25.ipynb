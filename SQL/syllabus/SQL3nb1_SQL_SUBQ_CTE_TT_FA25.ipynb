{
 "cells": [
  {
   "cell_type": "markdown",
   "id": "b7866d34",
   "metadata": {
    "id": "b7866d34"
   },
   "source": [
    "# SQL Sub Queries, Common Table Expressions (CTE), Temp Tables"
   ]
  },
  {
   "cell_type": "markdown",
   "id": "c2cfd3e4",
   "metadata": {},
   "source": [
    "# Complex Logic in SQL\n",
    "\n",
    "1. Subqueries.\n",
    "\n",
    "2. Common Table Expressions (CTE).\n",
    "\n",
    "3. Temporary Tables in SQLite (Temp Tables)."
   ]
  },
  {
   "cell_type": "markdown",
   "id": "5399f1f8",
   "metadata": {},
   "source": [
    "## When working with SQL, it's common to encounter situations where you need to perform calculations or data transformations based on grouped or filtered data. \n",
    "\n",
    "#### Three powerful tools for handling such scenarios are: \n",
    "\n",
    "* Inline Subqueries\n",
    "\n",
    "* Common Table Expressions (CTEs)\n",
    "\n",
    "* Temporary (Temp) Tables\n",
    "\n",
    "All of these approaches allow you to structure your queries in a way that breaks down complex operations into manageable steps, but they do so in slightly different ways."
   ]
  },
  {
   "cell_type": "markdown",
   "id": "53701ff2-6f13-4fae-bb64-f679d44f674a",
   "metadata": {},
   "source": [
    "#### Subqueries/CTEs/temp tables are typically utilized by joining them to tables in your main query in various ways.\n",
    "\n",
    "We will show various ways of doing this, in the remainder of today's notebooks."
   ]
  },
  {
   "cell_type": "markdown",
   "id": "2541246d",
   "metadata": {},
   "source": [
    "## Subqueries \n",
    "\n",
    "An inline subquery is a query nested within another SQL query, typically within the SELECT, WHERE, or FROM clause. \n",
    "\n",
    "Inline subqueries allow you to perform calculations or filtering within the context of the outer query. \n",
    "\n",
    "They are particularly useful when you need to filter results based on aggregated values like maximum, minimum, or average.\n",
    "\n",
    "Inline subqueries are powerful, but they can become less efficient when the same calculation needs to be repeated multiple times, as each repetition can slow down the query execution.\n",
    "\n",
    "Visit the [w3resource's SQLite Subqueries page](https://www.w3resource.com/sqlite/sqlite-subqueries.php) to learn more.\n",
    "\n"
   ]
  },
  {
   "cell_type": "markdown",
   "id": "28cae73c",
   "metadata": {},
   "source": [
    "## Common Table Expressions (CTEs)\n",
    "\n",
    "A Common Table Expression (CTE), introduced by the WITH clause, is a named temporary result set that you can reference within your main query. \n",
    "\n",
    "CTEs improve the readability and maintainability of SQL code, especially for complex queries, by allowing you to break down operations into logical steps.\n",
    "\n",
    "CTEs are often preferred for their clarity and efficiency, particularly when the same calculation or transformation needs to be referenced multiple times within a query. \n",
    "\n",
    "Visit the [SQLite Documentation's CTE page](https://www.sqlite.org/lang_with.html) to learn more."
   ]
  },
  {
   "cell_type": "markdown",
   "id": "907e3f98",
   "metadata": {},
   "source": [
    "## Temp Tables\n",
    "\n",
    "In SQLite, temporary tables (or temp tables) are used to store data temporarily during the course of a session. \n",
    "\n",
    "These tables are very useful for intermediate results, complex queries, or storing temporary data without affecting the main schema of the database. \n",
    "\n",
    "The data in a temporary table is automatically deleted when the session ends or when the database connection is closed.\n",
    "\n",
    "Temporary Tables Features:\n",
    "\n",
    "\n",
    "*    `Temporary Scope`: Temporary tables only exist for the duration of the database session. Once the connection is closed, the temporary tables are dropped automatically.\n",
    "\n",
    "\n",
    "*    `Session-Specific`: They are available only to the database connection that created them. Other connections cannot access the temporary tables.\n",
    "\n",
    "\n",
    "*    `Prefix`: Temporary tables are created with the keyword TEMP or TEMPORARY, but TEMP is optional in SQLite. They are stored in memory by default, but you can configure them to be stored on disk.\n",
    "\n",
    "\n",
    "*    `No Impact on Schema`: Temporary tables are separate from the permanent database schema, so they do not affect the structure or data of the main tables.\n",
    "\n",
    "https://w3schools.tech/tutorial/sql/sql-temporary-tables"
   ]
  },
  {
   "cell_type": "markdown",
   "id": "ee55e4cb",
   "metadata": {},
   "source": [
    "### All 3 of these features create temporary, \"table-like\" structures that can be referenced (and joined to) in your queries.\n",
    "\n",
    "### Aside from the differences in `how` they are created, their main difference in execution is in the timing of their creation."
   ]
  },
  {
   "cell_type": "markdown",
   "id": "92f55bad",
   "metadata": {},
   "source": [
    "### Subqueries\n",
    "\n",
    "- Are created/defined and executed in the same statement.\n",
    "\n",
    "- Are defined `inline`, within your main query, and as part of that main query.\n",
    "\n",
    "- Are only executed where defined, not reusable.\n",
    "\n",
    "### CTEs\n",
    "\n",
    "- Are created/defined at the `top` of the SQL statement.\n",
    "\n",
    "- Are called, as a separate operation, each time that they are referenced.\n",
    "\n",
    "- As such, are reusable.\n",
    "\n",
    "- What this means, practically, is that if you are joining to a CTE multiple times in your SQL, it is separately called and executed each time you reference it.\n",
    "\n",
    "### Temp Tables\n",
    "\n",
    "- Are created/defined at the `top` of the SQL statement. \n",
    "\n",
    "- The temp table is created and written to memory when defined, and subsequent joins to the temp table are to the table structure in memory. \n",
    "\n",
    "- Temp tables can be very efficient, when your query is either complex, or you must call it several/many times in your SQL program, because it is only created once, then referenced as any other table.\n",
    "\n",
    "- Temp tables can be memory-intensive, particularly if it holds a lot of data (either rows or columns, or both)."
   ]
  },
  {
   "cell_type": "markdown",
   "id": "38478aa6",
   "metadata": {},
   "source": [
    "## Let's look at each one of these in detail. \n",
    "\n",
    "## Each will have their own Jupyter notebook.\n",
    "\n",
    "## In order to show the differences between the three, we will execute the exact same queries with each."
   ]
  },
  {
   "cell_type": "markdown",
   "id": "78c50ce3",
   "metadata": {},
   "source": [
    "#### We will be working with our abbreviated NYC Calls database, from Homework NB9, for each of the example notebooks."
   ]
  },
  {
   "cell_type": "code",
   "execution_count": null,
   "id": "97506931",
   "metadata": {},
   "outputs": [],
   "source": []
  }
 ],
 "metadata": {
  "colab": {
   "provenance": []
  },
  "kernelspec": {
   "display_name": "Python 3 (ipykernel)",
   "language": "python",
   "name": "python3"
  },
  "language_info": {
   "codemirror_mode": {
    "name": "ipython",
    "version": 3
   },
   "file_extension": ".py",
   "mimetype": "text/x-python",
   "name": "python",
   "nbconvert_exporter": "python",
   "pygments_lexer": "ipython3",
   "version": "3.12.7"
  }
 },
 "nbformat": 4,
 "nbformat_minor": 5
}
