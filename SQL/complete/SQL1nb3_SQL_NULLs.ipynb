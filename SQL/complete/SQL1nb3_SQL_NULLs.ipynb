{
 "cells": [
  {
   "cell_type": "markdown",
   "id": "b7866d34",
   "metadata": {
    "id": "b7866d34"
   },
   "source": [
    "# SQL Working with NULLs"
   ]
  },
  {
   "cell_type": "code",
   "execution_count": null,
   "id": "XxMG5XfT-NHD",
   "metadata": {
    "id": "XxMG5XfT-NHD"
   },
   "outputs": [],
   "source": [
    "# !wget https://github.com/gt-cse-6040/bootcamp/raw/main/Module%201/Session%204/NYC-311-2M_small.db"
   ]
  },
  {
   "cell_type": "code",
   "execution_count": null,
   "id": "c40719ef",
   "metadata": {
    "id": "c40719ef"
   },
   "outputs": [],
   "source": [
    "# create a connection to the database\n",
    "import sqlite3 as db\n",
    "import pandas as pd\n",
    "\n",
    "# Connect to a database (or create one if it doesn't exist)\n",
    "conn_nyc = db.connect('NYC-311-2M_small.db')"
   ]
  },
  {
   "cell_type": "markdown",
   "id": "c2cfd3e4",
   "metadata": {},
   "source": [
    "## NULL Values\n",
    "\n",
    "### In many reporting applications, users will not want to have NULL values in their data sets. \n",
    "\n",
    "### What they ask for is that NULL values be detected and filled in with some discrete value.\n",
    "\n",
    "### SQLite (and SQL vendors in general) provides two good functions that perform this activity:  IFNULL() and COALESCE()."
   ]
  },
  {
   "cell_type": "markdown",
   "id": "7af040c6",
   "metadata": {},
   "source": [
    "\n",
    "**Keep in mind that aggregate functions (typically) ignore NULL values.**\n",
    "\n",
    "**This treatment of NULL values is important for students to understand, and it is the reason for many student questions and issues.**\n",
    "\n",
    "**It is this NULL value treatment that we focus on here.**\n"
   ]
  },
  {
   "cell_type": "markdown",
   "id": "8d3334b3",
   "metadata": {
    "id": "8d3334b3"
   },
   "source": [
    "### While many SQL developers use the two functions interchangeably, they operate a bit differently, so what we want to do is ensure that students understand how they differ."
   ]
  },
  {
   "cell_type": "markdown",
   "id": "dca10ac8",
   "metadata": {},
   "source": [
    "## IFNULL() in SQLite"
   ]
  },
  {
   "cell_type": "markdown",
   "id": "e9365284",
   "metadata": {},
   "source": [
    "### The purpose of this function is to evaluate a single value to determine if it is NULL or not.\n",
    "\n",
    "### If the value is not NULL, then the function returns the value as its result.\n",
    "\n",
    "### If the value is NULL, it returns a designated result, substituting it for the NULL value.\n",
    "\n",
    "Databases provide this functionality with slightly different syntax. Developers using SQL should be aware of the syntax that their database instance uses.\n",
    "\n",
    "See this link for an overview of different sytaxes:  https://www.w3schools.com/sql/sql_isnull.asp"
   ]
  },
  {
   "cell_type": "markdown",
   "id": "5c08d1ae",
   "metadata": {},
   "source": [
    "### Usage of IFNULL():\n",
    "\n",
    "#### The IFNULL syntax is as follows:  IFNULL(value to evaluate, value to return if evaluated one is NULL)\n",
    "\n",
    "The function evaluates the first value to determine whether it is NULL. If this value is not NULL, then it returns the value itself.\n",
    "\n",
    "If the evaluated value is NULL, then it returns the second value."
   ]
  },
  {
   "cell_type": "markdown",
   "id": "4935c733",
   "metadata": {
    "id": "4935c733"
   },
   "source": [
    "#### Let's look at a simple example from the NYC 311 Calls database in Notebook 9.\n",
    "\n",
    "For this exercise we have the subset of data, consisting of one month from 2014.\n",
    "\n",
    "Recall that not all of the rows have the CITY field filled in."
   ]
  },
  {
   "cell_type": "code",
   "execution_count": null,
   "id": "abfdef2a",
   "metadata": {
    "id": "abfdef2a"
   },
   "outputs": [],
   "source": [
    "def ifnull_example():\n",
    "\n",
    "    # display the list of cities\n",
    "    query_nulls = '''\n",
    "                SELECT DISTINCT CITY, COUNT(*)\n",
    "                FROM DATA\n",
    "                GROUP BY CITY\n",
    "                ORDER BY COUNT(*) DESC\n",
    "                '''\n",
    "    return query_nulls\n",
    "\n",
    "df_ifnull_example = pd.read_sql(ifnull_example(),conn_nyc)\n",
    "display(df_ifnull_example)"
   ]
  },
  {
   "cell_type": "markdown",
   "id": "677e4d7c",
   "metadata": {},
   "source": [
    "We can see that there are over 9,000 rows in which the CITY field is NULL.\n",
    "\n",
    "Remember how aggregates work, and compare the query result above with this one."
   ]
  },
  {
   "cell_type": "code",
   "execution_count": null,
   "id": "51bf63c7",
   "metadata": {},
   "outputs": [],
   "source": [
    "def ifnull_example2():\n",
    "\n",
    "    # display the list of cities\n",
    "    query_nulls2 = '''\n",
    "                SELECT DISTINCT CITY, COUNT(CITY)\n",
    "                FROM DATA\n",
    "                GROUP BY CITY\n",
    "                ORDER BY COUNT(CITY) DESC\n",
    "                '''\n",
    "    return query_nulls2\n",
    "\n",
    "df_ifnull_example2 = pd.read_sql(ifnull_example2(),conn_nyc)\n",
    "display(df_ifnull_example2)"
   ]
  },
  {
   "cell_type": "markdown",
   "id": "307dee33",
   "metadata": {},
   "source": [
    "#### So let's say that we want all of the rows in our result, and if the CITY field is NULL, then designate it as \"No City\".\n",
    "\n",
    "#### We can use IFNULL() for this purpose.\n",
    "\n",
    "The syntax here is straightforward: Evaluat the CITY field, and if it is NULL, return the value \"No City\"."
   ]
  },
  {
   "cell_type": "code",
   "execution_count": null,
   "id": "0df52764",
   "metadata": {},
   "outputs": [],
   "source": [
    "def ifnull_example3():\n",
    "\n",
    "    # display the list of cities\n",
    "    query_nulls3 = '''\n",
    "                SELECT DISTINCT IFNULL(CITY,\"No City\") as FULL_CITY, COUNT(IFNULL(CITY,\"No City\"))\n",
    "                FROM DATA\n",
    "                GROUP BY FULL_CITY\n",
    "                ORDER BY COUNT(FULL_CITY) DESC\n",
    "                '''\n",
    "    return query_nulls3\n",
    "\n",
    "df_ifnull_example3 = pd.read_sql(ifnull_example3(),conn_nyc)\n",
    "display(df_ifnull_example3)"
   ]
  },
  {
   "cell_type": "code",
   "execution_count": null,
   "id": "f80a2c29",
   "metadata": {},
   "outputs": [],
   "source": [
    "# def ifnull_example3a():  # this does not work, why?\n",
    "\n",
    "#     # display the list of cities\n",
    "#     query_nulls3a = '''\n",
    "#                 SELECT DISTINCT IFNULL(CITY,\"No City\") as FULL_CITY, COUNT(FULL_CITY)\n",
    "#                 FROM DATA\n",
    "#                 GROUP BY FULL_CITY\n",
    "#                 ORDER BY COUNT(FULL_CITY) DESC\n",
    "#                 '''\n",
    "#     return query_nulls3a\n",
    "\n",
    "# df_ifnull_example3a = pd.read_sql(ifnull_example3a(),conn_nyc)\n",
    "# display(df_ifnull_example3a)"
   ]
  },
  {
   "cell_type": "markdown",
   "id": "2416ede9",
   "metadata": {},
   "source": [
    "The above query does not work, because the \"FULL_CITY\" column is the alias that is returned from the SELECT. It does not already exist in the database, so it cannot be **COUNTED** in the SELECT."
   ]
  },
  {
   "cell_type": "markdown",
   "id": "a3507d9b",
   "metadata": {},
   "source": [
    "Note that in our COUNT(), we counted the value that IFNULL returns.\n",
    "\n",
    "What if we did not, and only put CITY there?\n",
    "\n",
    "Recall how aggregates work. "
   ]
  },
  {
   "cell_type": "code",
   "execution_count": null,
   "id": "7f7f42ac",
   "metadata": {},
   "outputs": [],
   "source": [
    "def ifnull_example4():\n",
    "\n",
    "    # display the list of cities\n",
    "    query_nulls4 = '''\n",
    "                SELECT DISTINCT IFNULL(CITY,\"No City\") as FULL_CITY, COUNT(CITY)\n",
    "                FROM DATA\n",
    "                GROUP BY FULL_CITY\n",
    "                ORDER BY COUNT(FULL_CITY) DESC\n",
    "                '''\n",
    "    return query_nulls4\n",
    "\n",
    "df_ifnull_example4 = pd.read_sql(ifnull_example4(),conn_nyc)\n",
    "display(df_ifnull_example4)"
   ]
  },
  {
   "cell_type": "markdown",
   "id": "1c833769",
   "metadata": {},
   "source": [
    "Again, recalling how aggregates work."
   ]
  },
  {
   "cell_type": "code",
   "execution_count": null,
   "id": "a3702336",
   "metadata": {},
   "outputs": [],
   "source": [
    "def ifnull_example5():\n",
    "\n",
    "    # display the list of cities\n",
    "    query_nulls5 = '''\n",
    "                SELECT DISTINCT IFNULL(CITY,\"No City\") as FULL_CITY, COUNT(*)\n",
    "                FROM DATA\n",
    "                GROUP BY FULL_CITY\n",
    "                ORDER BY COUNT(FULL_CITY) DESC\n",
    "                '''\n",
    "    return query_nulls5\n",
    "\n",
    "df_ifnull_example5 = pd.read_sql(ifnull_example5(),conn_nyc)\n",
    "display(df_ifnull_example5)"
   ]
  },
  {
   "cell_type": "markdown",
   "id": "7beade9c",
   "metadata": {},
   "source": [
    "We can see from the two queries that the COUNT( * ) counted all of them, while COUNT(CITY) only counted the non_NULL values, even though we had used the ISNULL function.\n",
    "\n",
    "**This illustrates the difference in how aggregations in SQL treat NULL values.**\n",
    "\n",
    "**Students must remember this difference when writing their queries that use aggregations.**"
   ]
  },
  {
   "cell_type": "markdown",
   "id": "33c50fdc",
   "metadata": {},
   "source": [
    "### What are your questions on IFNULL()?"
   ]
  },
  {
   "cell_type": "markdown",
   "id": "9266115c",
   "metadata": {},
   "source": [
    "## COALESCE() Function in SQLite"
   ]
  },
  {
   "cell_type": "markdown",
   "id": "5d91b29a",
   "metadata": {},
   "source": [
    "### Many SQL developers use COALESCE and IFNULL interchangeably, and in its most basic form, COALESCE does the same thing as IFNULL()."
   ]
  },
  {
   "cell_type": "code",
   "execution_count": null,
   "id": "44ec122e",
   "metadata": {},
   "outputs": [],
   "source": [
    "def ifnull_example6():\n",
    "\n",
    "    # display the list of cities\n",
    "    query_nulls6 = '''\n",
    "                SELECT DISTINCT COALESCE(CITY,\"No City\") as FULL_CITY, COUNT(*)\n",
    "                FROM DATA\n",
    "                GROUP BY FULL_CITY\n",
    "                ORDER BY COUNT(FULL_CITY) DESC\n",
    "                '''\n",
    "    return query_nulls6\n",
    "\n",
    "df_ifnull_example6 = pd.read_sql(ifnull_example6(),conn_nyc)\n",
    "display(df_ifnull_example6)"
   ]
  },
  {
   "cell_type": "markdown",
   "id": "9a0e711c",
   "metadata": {},
   "source": [
    "#### In the example above, COALESCE evaluated the CITY field and returned \"No City\" when it was NULL.\n",
    "\n",
    "#### But COALESCE operates with a bit more functionality."
   ]
  },
  {
   "cell_type": "markdown",
   "id": "5c41c022",
   "metadata": {},
   "source": [
    "### We can pass in multiple values to COALESCE, and it will return the FIRST NON-NULL value."
   ]
  },
  {
   "cell_type": "code",
   "execution_count": null,
   "id": "ccda3dd1",
   "metadata": {
    "id": "ccda3dd1"
   },
   "outputs": [],
   "source": [
    "def ifnull_example7():\n",
    "\n",
    "    # display the list of cities\n",
    "    query_nulls7 = '''\n",
    "                SELECT DISTINCT COALESCE(NULL,CITY,\"No City\") as FULL_CITY, COUNT(*)\n",
    "                FROM DATA\n",
    "                GROUP BY FULL_CITY\n",
    "                ORDER BY COUNT(FULL_CITY) DESC\n",
    "                '''\n",
    "    return query_nulls7\n",
    "\n",
    "df_ifnull_example7 = pd.read_sql(ifnull_example7(),conn_nyc)\n",
    "display(df_ifnull_example7)"
   ]
  },
  {
   "cell_type": "markdown",
   "id": "e2c930f5",
   "metadata": {
    "id": "e2c930f5"
   },
   "source": [
    "#### While this example is a bit contrived, we can see that we passed in 3 parameters to COALESCE, and it returned the first one that was NOT NULL.\n",
    "\n",
    "#### This is the advantage of COALESCE() over IFNULL() in that it allows a bit more complex logic in determining what it will return."
   ]
  },
  {
   "cell_type": "markdown",
   "id": "29a94f1f",
   "metadata": {},
   "source": [
    "### When would we use one versus the other? The easiest way to think is that IFNULL() is your solution for simple evaluations and substitutions, and you should use COALESCE() when you have more complex logic in the substitution you need to do."
   ]
  },
  {
   "cell_type": "markdown",
   "id": "a8939b00",
   "metadata": {},
   "source": [
    "## What are your questions on these functions?"
   ]
  },
  {
   "cell_type": "code",
   "execution_count": null,
   "id": "f9975825",
   "metadata": {},
   "outputs": [],
   "source": []
  }
 ],
 "metadata": {
  "colab": {
   "provenance": []
  },
  "kernelspec": {
   "display_name": "Python 3 (ipykernel)",
   "language": "python",
   "name": "python3"
  },
  "language_info": {
   "codemirror_mode": {
    "name": "ipython",
    "version": 3
   },
   "file_extension": ".py",
   "mimetype": "text/x-python",
   "name": "python",
   "nbconvert_exporter": "python",
   "pygments_lexer": "ipython3",
   "version": "3.9.13"
  }
 },
 "nbformat": 4,
 "nbformat_minor": 5
}
