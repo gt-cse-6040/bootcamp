{
 "cells": [
  {
   "cell_type": "markdown",
   "id": "b7866d34",
   "metadata": {
    "id": "b7866d34"
   },
   "source": [
    "# Intro to SQL -- \n",
    "\n",
    "## Troubleshooting SQL on exams"
   ]
  },
  {
   "cell_type": "code",
   "execution_count": null,
   "id": "9j-7hlsitvkZ",
   "metadata": {
    "id": "9j-7hlsitvkZ"
   },
   "outputs": [],
   "source": [
    "# !wget https://github.com/gt-cse-6040/bootcamp/raw/main/Module%201/Session%204/example.db"
   ]
  },
  {
   "cell_type": "markdown",
   "id": "9dbb4fb0",
   "metadata": {},
   "source": [
    "## This is to run through a simple troubleshooting example, in the exam format."
   ]
  },
  {
   "cell_type": "code",
   "execution_count": null,
   "id": "9f72a0cb",
   "metadata": {},
   "outputs": [],
   "source": [
    "import pandas as pd"
   ]
  },
  {
   "cell_type": "code",
   "execution_count": null,
   "id": "2c6bb5ee",
   "metadata": {
    "id": "2c6bb5ee"
   },
   "outputs": [],
   "source": [
    "# create a connection to the database\n",
    "import sqlite3 as db\n",
    "\n",
    "# This is the example database, from Part 0 of NB 9.\n",
    "# Connect to a database (or create one if it doesn't exist)\n",
    "conn = db.connect('example.db')"
   ]
  },
  {
   "cell_type": "markdown",
   "id": "332cc849",
   "metadata": {
    "id": "332cc849"
   },
   "source": [
    "### Exercise 1: (1 points)\n",
    "\n",
    "**grade_output** -- This is the function name.\n",
    "\n",
    "**Your task:** define `grade_output` as follows:\n",
    "\n",
    "Return a SQL query to calculate the grade for each student in each course they have taken and earned an A: \n",
    "-  `name`\n",
    "-  `course`\n",
    "-  `grade`\n",
    "\n",
    "**Inputs**: None  \n",
    "\n",
    "**Return**: `query`: a Python string, containing a SQLite query. It should query the database to obtain a table with 3 columns:\n",
    "- `name`: a string column holding the names of each student\n",
    "- `course`: a string column holding the course name\n",
    "- `grade`: a float column holding the grade achieved.\n",
    "\n",
    "**Requirements/steps**:  -- any additional information required. If there are to be HINTs, they will be here.\n",
    "\n",
    "- The database tables you will need are named `Students` and `Takes`.\n",
    "\n",
    "- An `A` grade is defined as achieving a 4.0 grade.\n"
   ]
  },
  {
   "cell_type": "code",
   "execution_count": null,
   "id": "7778f615",
   "metadata": {
    "id": "7778f615"
   },
   "outputs": [],
   "source": [
    "def grade_output():\n",
    "    ### BEGIN SOLUTION \n",
    "    \n",
    "    # deliberately writing incorrect query\n",
    "    query = '''\n",
    "        SELECT Students.name,\n",
    "                Takes.course,\n",
    "               Takes.grade\n",
    "\n",
    "        FROM Students, Takes\n",
    "\n",
    "        WHERE Students.gtid = Takes.gtid\n",
    "              AND Takes.grade >= 3.0\n",
    "              \n",
    "    '''\n",
    "    return query\n",
    "    ### END SOLUTION\n",
    "\n",
    "### Demo function call\n",
    "grade_output_query = grade_output()\n",
    "grade_output_df = pd.read_sql(grade_output_query, conn)\n",
    "print(grade_output_df)   #_df.head())"
   ]
  },
  {
   "cell_type": "markdown",
   "id": "a1ef9492",
   "metadata": {
    "id": "6d30abcc"
   },
   "source": [
    "**The demo should display this printed output.**\n",
    "```\n",
    "    name     course  grade\n",
    "0  Vuduc   CSE 6040    4.0\n",
    "1  Sokol   CSE 6040    4.0\n",
    "2  Sokol  ISYE 6740    4.0\n",
    "3   Chau   CSE 6040    4.0\n",
    "\n",
    "[4 rows x 3 columns]\n",
    "```\n",
    "\n",
    "\n",
    " ---\n",
    " <!-- Test Cell Boilerplate -->  \n",
    "The cell below will test your solution for grade_output (exercise 1). The testing variables will be available for debugging under the following names in a dictionary format.  \n",
    "- `input_vars` - Input variables for your solution.   \n",
    "- `original_input_vars` - Copy of input variables from prior to running your solution. Any `key:value` pair in `original_input_vars` should also exist in `input_vars` - otherwise the inputs were modified by your solution.  \n",
    "- `returned_output_vars` - Outputs returned by your solution.  \n",
    "- `true_output_vars` - The expected output. This _should_ \"match\" `returned_output_vars` based on the question requirements - otherwise, your solution is not returning the correct output. "
   ]
  },
  {
   "cell_type": "markdown",
   "id": "f34a7664",
   "metadata": {},
   "source": [
    "### The actual test cell will be here. The below cell simulates the output variables and testing, so that we can show how to troubleshoot."
   ]
  },
  {
   "cell_type": "code",
   "execution_count": null,
   "id": "01b3c974",
   "metadata": {},
   "outputs": [],
   "source": [
    "# DO NOT EDIT THIS CELL!!!\n",
    "from pandas.testing import assert_frame_equal\n",
    "true_output_vars = dict()\n",
    "returned_output_vars = dict()\n",
    "grade_output_query_correct = 'SELECT Students.name,Takes.course,Takes.grade FROM Students, Takes WHERE Students.gtid = Takes.gtid AND Takes.grade = 4.0'\n",
    "true_output_vars['output_0'] = pd.read_sql(grade_output_query_correct, conn)\n",
    "grade_output_query = grade_output()\n",
    "returned_output_vars['output_0'] = pd.read_sql(grade_output_query, conn)\n",
    "if true_output_vars['output_0'].shape[0]==returned_output_vars['output_0'].shape[0]:\n",
    "    print(\"Passed. Please submit.\")\n",
    "else:\n",
    "    print(\"Test Case Failed\")"
   ]
  },
  {
   "cell_type": "markdown",
   "id": "16a6fb3c",
   "metadata": {},
   "source": [
    "## When the test fails, because we are returning a pandas dataframe, we should use the pandas function `assert_frame_equal()` to troubleshoot."
   ]
  },
  {
   "cell_type": "code",
   "execution_count": null,
   "id": "f9d8692a",
   "metadata": {},
   "outputs": [],
   "source": [
    "assert_frame_equal(true_output_vars['output_0'],returned_output_vars['output_0'])"
   ]
  },
  {
   "cell_type": "code",
   "execution_count": null,
   "id": "ae63780a",
   "metadata": {},
   "outputs": [],
   "source": [
    "display(true_output_vars['output_0'])\n",
    "display(returned_output_vars['output_0'])"
   ]
  },
  {
   "cell_type": "markdown",
   "id": "77ccde1f",
   "metadata": {},
   "source": [
    "## What questions do you all have on troubleshooting SQL exercises?"
   ]
  },
  {
   "cell_type": "code",
   "execution_count": null,
   "id": "99508099",
   "metadata": {},
   "outputs": [],
   "source": []
  }
 ],
 "metadata": {
  "colab": {
   "provenance": []
  },
  "kernelspec": {
   "display_name": "Python 3 (ipykernel)",
   "language": "python",
   "name": "python3"
  },
  "language_info": {
   "codemirror_mode": {
    "name": "ipython",
    "version": 3
   },
   "file_extension": ".py",
   "mimetype": "text/x-python",
   "name": "python",
   "nbconvert_exporter": "python",
   "pygments_lexer": "ipython3",
   "version": "3.9.13"
  }
 },
 "nbformat": 4,
 "nbformat_minor": 5
}
