{
 "cells": [
  {
   "cell_type": "markdown",
   "id": "b7866d34",
   "metadata": {
    "id": "b7866d34"
   },
   "source": [
    "# SQL Aggregate Functions"
   ]
  },
  {
   "cell_type": "code",
   "execution_count": null,
   "id": "XxMG5XfT-NHD",
   "metadata": {
    "id": "XxMG5XfT-NHD"
   },
   "outputs": [],
   "source": [
    "# !wget https://github.com/gt-cse-6040/bootcamp/raw/main/Module%201/Session%204/NYC-311-2M_small.db"
   ]
  },
  {
   "cell_type": "code",
   "execution_count": null,
   "id": "c40719ef",
   "metadata": {
    "id": "c40719ef"
   },
   "outputs": [],
   "source": [
    "# create a connection to the database\n",
    "import sqlite3 as db\n",
    "import pandas as pd\n",
    "\n",
    "# Connect to a database (or create one if it doesn't exist)\n",
    "conn_nyc = db.connect('NYC-311-2M_small.db')"
   ]
  },
  {
   "cell_type": "markdown",
   "id": "2d7ca447",
   "metadata": {},
   "source": [
    "## In Homework NB9, Part 1, we introduce the following SQL topics:\n",
    "\n",
    "**In the bootcamp, we will not have any additional coverage of these topics.**\n",
    "\n",
    "- Character Case and COLLATE NOCASE\n",
    "\n",
    "- HAVING clause\n",
    "\n",
    "- Renaming columns with AS\n",
    "\n",
    "- ORDER BY\n",
    "\n",
    "- IN clause for membership\n",
    "\n",
    "- LIKE clause for finding strings (regex-similar functionality)\n",
    "\n",
    "- DATE/TIME manipulation using SQLITE function STRFTIME\n",
    "\n",
    "**In this bootcamp notebook, we look at the below in additional detail, focusing on a couple of `gotchas` for students to be aware of.**\n",
    "\n",
    "- Group by, Aggregations\n",
    "\n",
    "**Finally, while NB9 Part 1 introduces Nested Queries, the bootcamp will add Common Table Expressions, CTEs, as another methodology for doing similar functionality.**\n",
    "\n",
    "- Nested Queries "
   ]
  },
  {
   "cell_type": "markdown",
   "id": "c2cfd3e4",
   "metadata": {},
   "source": [
    "## Aggregate Functions\n",
    "\n",
    "### Recall that aggregate functions perform a specific operations over all of the rows in a group (group by clause). \n",
    "\n",
    "### Aggregate functions differ from other functions in that they take many rows of input and return a single row of output."
   ]
  },
  {
   "cell_type": "markdown",
   "id": "7af040c6",
   "metadata": {},
   "source": [
    "\n",
    "**Keep in mind that aggregate functions (typically) ignore NULL values.**\n",
    "\n",
    "**This treatment of NULL values is important for students to understand, and it is the reason for many student questions and issues.**\n",
    "\n",
    "**It is this NULL value treatment that we focus on here.**\n"
   ]
  },
  {
   "cell_type": "markdown",
   "id": "066065cc",
   "metadata": {
    "id": "066065cc"
   },
   "source": [
    "The following table summarizes some useful SQL aggregations:\n",
    "\n",
    "| Aggregate Function       | Description                       |\n",
    "|--------------------------|-----------------------------------|\n",
    "| ``COUNT( * )``           | total number (count) of all rows  |\n",
    "| ``COUNT( value )``       | counts all non-NULL rows          |\n",
    "| ``AVG( value )``         | averages all non-NULL values      |\n",
    "| ``MIN( value )``         | returns the lowest value          |\n",
    "| ``MAX( value )``         | returns the highest value         |\n",
    "| ``TOTAL( value )``       | returns sum of all non-NULL values|\n",
    "| ``SUM (value )``         | returns sum of all non-NULL values|\n",
    "\n"
   ]
  },
  {
   "cell_type": "markdown",
   "id": "8d3334b3",
   "metadata": {
    "id": "8d3334b3"
   },
   "source": [
    "**A few notes about COUNT(), SUM() and TOTAL() concerning NULLs:**\n",
    "\n",
    "The count(X) function returns a count of the number of times that X is not NULL in a group. The count(*) function (with no arguments) returns the total number of rows in the group.\n",
    "\n",
    "The sum() and total() aggregate functions return the sum of all non-NULL values in the group. If there are no non-NULL input rows then sum() returns NULL but total() returns 0.0.\n",
    "\n",
    "The result of total() is always a floating point value.\n",
    "\n",
    "The result of sum() is an integer value if all non-NULL inputs are integers. If any input to sum() is neither an integer nor a NULL, then sum() returns a floating point value which is an approximation of the mathematical sum.\n",
    "\n",
    "https://www.sqlite.org/lang_aggfunc.html"
   ]
  },
  {
   "cell_type": "markdown",
   "id": "4935c733",
   "metadata": {
    "id": "4935c733"
   },
   "source": [
    "#### SQLite does not include a whole lot of aggregate functions, as you can see.\n",
    "\n",
    "Let's look at some examples from the NYC 311 Calls database in Notebook 9.\n",
    "\n",
    "For this exercise we have a subset of data, consisting of one month from 2014."
   ]
  },
  {
   "cell_type": "code",
   "execution_count": null,
   "id": "abfdef2a",
   "metadata": {
    "id": "abfdef2a"
   },
   "outputs": [],
   "source": [
    "def count_all_rows():\n",
    "\n",
    "    # count(*) returns all rows, including NULLS\n",
    "    query_nulls = '''\n",
    "                SELECT COUNT(*)\n",
    "                FROM DATA\n",
    "                '''\n",
    "    return query_nulls\n",
    "\n",
    "df_count_all_rows = pd.read_sql(count_all_rows(),conn_nyc)\n",
    "display(df_count_all_rows)"
   ]
  },
  {
   "cell_type": "code",
   "execution_count": null,
   "id": "ccda3dd1",
   "metadata": {
    "id": "ccda3dd1"
   },
   "outputs": [],
   "source": [
    "def count_non_null_rows():\n",
    "\n",
    "    # count(*) returns all rows, including NULLS\n",
    "    # count only the non-NULL rows\n",
    "    query_City = '''\n",
    "                        SELECT COUNT(City)\n",
    "                        FROM DATA\n",
    "                        '''\n",
    "    return query_City\n",
    "\n",
    "df_count_non_null_rows = pd.read_sql(count_non_null_rows(),conn_nyc)\n",
    "display(df_count_non_null_rows)"
   ]
  },
  {
   "cell_type": "markdown",
   "id": "e2c930f5",
   "metadata": {
    "id": "e2c930f5"
   },
   "source": [
    "We can see from the two queries that there are 154,374 rows in the database, and the COUNT( * ) included all of them, while there are NULL values in the City column, so the COUNT of those values is somewhat less.\n",
    "\n",
    "**This illustrates the difference in how aggregations in SQL treat NULL values.**\n",
    "\n",
    "**Students must remember this difference when writing their queries that use aggregations.**"
   ]
  },
  {
   "cell_type": "markdown",
   "id": "a89b47ec",
   "metadata": {},
   "source": [
    "## Aggregations and String Case"
   ]
  },
  {
   "cell_type": "markdown",
   "id": "bf60dcf2",
   "metadata": {},
   "source": [
    "### The other `gotcha` that students must be aware of is that, like Python, SQLite is case-sensitive in its treatment of comparing string/varchar data.\n",
    "\n",
    "#### Not every database makes this UPPER/LOWER case distinction, and it is usually a setting on the database instance itself that controls this behavior.\n",
    "\n",
    "What this means is that, in SQLite and for this class, students need to be aware that any string functionality will treat a letter in UPPER case as different from the same letter in LOWER case.\n",
    "\n",
    "This is important for aggregations, as the below examples demonstrate."
   ]
  },
  {
   "cell_type": "markdown",
   "id": "a56279a5",
   "metadata": {
    "id": "a56279a5"
   },
   "source": [
    "Now let's look at a simple GROUP BY (again from NB 9 Part 1)."
   ]
  },
  {
   "cell_type": "code",
   "execution_count": null,
   "id": "7d81e7ab",
   "metadata": {
    "id": "7d81e7ab"
   },
   "outputs": [],
   "source": [
    "def simple_group_by():\n",
    "    query_group = '''\n",
    "                    SELECT City, COUNT(*)\n",
    "                    FROM DATA\n",
    "                    GROUP BY City\n",
    "                    ORDER BY COUNT(*) DESC\n",
    "                    LIMIT 5\n",
    "                    '''\n",
    "    return query_group\n",
    "\n",
    "df_simple_group = pd.read_sql(simple_group_by(),conn_nyc)\n",
    "display(df_simple_group)"
   ]
  },
  {
   "cell_type": "markdown",
   "id": "2a1111c2",
   "metadata": {},
   "source": [
    "As we can see, we simply returned the number of rows for each of the TOP 5 values in the `City` column.\n",
    "\n",
    "Note that the `None` value is returned for `NULL` values in the `City` column."
   ]
  },
  {
   "cell_type": "markdown",
   "id": "1154aef1",
   "metadata": {
    "id": "1154aef1"
   },
   "source": [
    "#### Now let's look at string manipulation functions in SQL.\n",
    "\n",
    "https://www.sqlitetutorial.net/sqlite-string-functions/\n",
    "\n",
    "Some of the ones that we will use in this class are UPPER, LOWER, and SUBSTR.\n",
    "\n",
    "The string functions generally work in the same manner as their Python equivalents, just check the documentation for the specific syntax.\n",
    "\n",
    "Let's look at the UPPER function for some specific things that you should know."
   ]
  },
  {
   "cell_type": "code",
   "execution_count": null,
   "id": "02e82fe6",
   "metadata": {},
   "outputs": [],
   "source": [
    "def upper_group_by():\n",
    "    query_upper = '''\n",
    "                    SELECT DISTINCT City, UPPER(City) as UPPER_CASE\n",
    "                    FROM data\n",
    "                    WHERE City != UPPER(City)\n",
    "                    ORDER BY City\n",
    "                    LIMIT 10\n",
    "                    '''\n",
    "    return query_upper\n",
    "\n",
    "df_upper_group = pd.read_sql(upper_group_by(),conn_nyc)\n",
    "display(df_upper_group)"
   ]
  },
  {
   "cell_type": "code",
   "execution_count": null,
   "id": "d9fd8d3a",
   "metadata": {},
   "outputs": [],
   "source": [
    "def upper_group_by_2():\n",
    "    query_upper2 = '''\n",
    "                    SELECT DISTINCT City, UPPER(City) as UPPER_CASE\n",
    "                    FROM data\n",
    "                    WHERE City = UPPER(City)\n",
    "                    ORDER BY City\n",
    "                    LIMIT 10\n",
    "                    '''\n",
    "    return query_upper2\n",
    "\n",
    "df_upper_group2 = pd.read_sql(upper_group_by_2(),conn_nyc)\n",
    "display(df_upper_group2)"
   ]
  },
  {
   "cell_type": "markdown",
   "id": "c1a63fc5",
   "metadata": {
    "id": "c1a63fc5"
   },
   "source": [
    "Seems simple, yes?\n",
    "\n",
    "But the string functions take on a bit more complexity when you are doing aggregations.\n",
    "\n",
    "Let's look at a another example."
   ]
  },
  {
   "cell_type": "code",
   "execution_count": null,
   "id": "c26f6d35",
   "metadata": {
    "id": "c4d325c6"
   },
   "outputs": [],
   "source": [
    "def upper_compare():\n",
    "    query_upper_compare = '''\n",
    "                    SELECT distinct City, COUNT(*)\n",
    "                    FROM DATA\n",
    "                    WHERE UPPER(City) = 'ASTORIA'\n",
    "                    GROUP BY City\n",
    "                    ORDER BY City\n",
    "                    '''\n",
    "    return query_upper_compare\n",
    "\n",
    "df_upper_compare = pd.read_sql(upper_compare(),conn_nyc)\n",
    "display(df_upper_compare)"
   ]
  },
  {
   "cell_type": "markdown",
   "id": "4288ab62",
   "metadata": {},
   "source": [
    "We can see that there are two possible spellings for this city, and SQLite considers them to be different.\n",
    "\n",
    "Let's extend the CITY query from above, to include more than 5 rows."
   ]
  },
  {
   "cell_type": "code",
   "execution_count": null,
   "id": "3b110c07",
   "metadata": {},
   "outputs": [],
   "source": [
    "def simple_group_by_2():\n",
    "    query_group_2 = '''\n",
    "                    SELECT City, COUNT(*)\n",
    "                    FROM DATA\n",
    "                    GROUP BY City\n",
    "                    ORDER BY COUNT(*) DESC\n",
    "                    LIMIT 15\n",
    "                    '''\n",
    "    return query_group_2\n",
    "\n",
    "df_simple_group_2 = pd.read_sql(simple_group_by_2(),conn_nyc)\n",
    "display(df_simple_group_2)"
   ]
  },
  {
   "cell_type": "markdown",
   "id": "b2a9d71e",
   "metadata": {},
   "source": [
    "### Note that the cities `Astoria`, `Jamaica`, and `Flushing` all have two different entries in the `City` column.\n",
    "\n",
    "#### Students need to understand this behavior when grouping aggregations, and account for it.\n",
    "\n",
    "#### The best way is to use a STRING MANIPULATION function, such as UPPER(), LOWER(), or COLLATE NOCASE.\n",
    "\n",
    "Let's look at the two examples below."
   ]
  },
  {
   "cell_type": "markdown",
   "id": "e464853e",
   "metadata": {},
   "source": [
    "In this first example:\n",
    "\n",
    "See the two ways of handling the case-sensitive grouping. The first query uses the column aliases and the second uses the actual `UPPER()` function.\n",
    "\n",
    "Either method is fine, and neither is better than the other."
   ]
  },
  {
   "cell_type": "code",
   "execution_count": null,
   "id": "e0753d32",
   "metadata": {},
   "outputs": [],
   "source": [
    "def upper_group_by():\n",
    "# group by the column alias\n",
    "    query_upper_group = '''\n",
    "                    SELECT UPPER(City) AS CITY, COUNT(*)\n",
    "                    FROM DATA\n",
    "                    GROUP BY CITY\n",
    "                    ORDER BY COUNT(*) DESC\n",
    "                    LIMIT 10\n",
    "                    '''\n",
    "# group by the UPPER function    \n",
    "#     query_upper_group = '''\n",
    "#                 SELECT UPPER(City) AS CITY, COUNT(*)\n",
    "#                 FROM DATA\n",
    "#                 GROUP BY UPPER(City)\n",
    "#                 ORDER BY COUNT(*) DESC\n",
    "#                 LIMIT 10\n",
    "#                 '''\n",
    "    \n",
    "    return query_upper_group\n",
    "\n",
    "df_upper_group = pd.read_sql(upper_group_by(),conn_nyc)\n",
    "display(df_upper_group)"
   ]
  },
  {
   "cell_type": "markdown",
   "id": "e88785fa",
   "metadata": {
    "id": "e88785fa"
   },
   "source": [
    "**Case-insensitive grouping: `COLLATE NOCASE`.** Another way to carry out the preceding query in a case-insensitive way is to add a `COLLATE NOCASE` qualifier to the `GROUP BY` clause.\n",
    "\n",
    "The next example demonstrates this clause. \n",
    "\n",
    "Note that the two query versions return slightly different results.\n",
    "\n",
    "Take the city `Jamaica` for example. While each query returns 3,260 rows with this city, note that the two queries return different CityName values. There is not a rule for which it will return, in the second query, so students must be aware and understand how they want the data to appear in their results.\n",
    "\n",
    "> Finally, the `COLLATE NOCASE` clause modifies the column next to which it appears. So if you are grouping by more than one key and want to be case-insensitive, you need to write, `... GROUP BY ColumnA COLLATE NOCASE, ColumnB COLLATE NOCASE ...`."
   ]
  },
  {
   "cell_type": "code",
   "execution_count": null,
   "id": "c58f2701",
   "metadata": {},
   "outputs": [],
   "source": [
    "def collate_group_by():\n",
    "# group by the column alias\n",
    "    query_collate_group = '''\n",
    "                    SELECT UPPER(City) AS CityName, COUNT(*)\n",
    "                    FROM DATA\n",
    "                    GROUP BY City COLLATE NOCASE\n",
    "                    ORDER BY COUNT(*) DESC\n",
    "                    LIMIT 10\n",
    "                    '''\n",
    "    \n",
    "#     query_collate_group = '''\n",
    "#                 SELECT City AS CityName, COUNT(*)\n",
    "#                 FROM DATA\n",
    "#                 GROUP BY City COLLATE NOCASE\n",
    "#                 ORDER BY COUNT(*) DESC\n",
    "#                 LIMIT 10\n",
    "#                 '''\n",
    "    \n",
    "    return query_collate_group\n",
    "\n",
    "df_collate_group = pd.read_sql(collate_group_by(),conn_nyc)\n",
    "display(df_collate_group)"
   ]
  },
  {
   "cell_type": "markdown",
   "id": "0edca20f",
   "metadata": {
    "id": "0edca20f"
   },
   "source": [
    "### So what happens if we don't handle the case-sensitivity?"
   ]
  },
  {
   "cell_type": "markdown",
   "id": "f85e54ee",
   "metadata": {
    "id": "f85e54ee"
   },
   "source": [
    "#### We can see from the examples that the City  differences give different results."
   ]
  },
  {
   "cell_type": "markdown",
   "id": "3363ff58",
   "metadata": {
    "id": "3363ff58"
   },
   "source": [
    "**So the takeaway is that we must ensure that we are correctly accounting for the data differences.**\n",
    "\n",
    "Grouping in SQL is case-sensitive, so we must ensure that our code recognizes and deals with this."
   ]
  },
  {
   "cell_type": "markdown",
   "id": "1a5beb7f",
   "metadata": {
    "id": "84a111fd"
   },
   "source": [
    "## **This is a simple example of 'dirty data', which is something that you will need to deal with throughout your Analytics career.**"
   ]
  },
  {
   "cell_type": "markdown",
   "id": "f3cb80b7",
   "metadata": {},
   "source": [
    "### What are your questions on aggregations and groupings?"
   ]
  },
  {
   "cell_type": "code",
   "execution_count": null,
   "id": "15804b46",
   "metadata": {},
   "outputs": [],
   "source": []
  }
 ],
 "metadata": {
  "colab": {
   "provenance": []
  },
  "kernelspec": {
   "display_name": "Python 3 (ipykernel)",
   "language": "python",
   "name": "python3"
  },
  "language_info": {
   "codemirror_mode": {
    "name": "ipython",
    "version": 3
   },
   "file_extension": ".py",
   "mimetype": "text/x-python",
   "name": "python",
   "nbconvert_exporter": "python",
   "pygments_lexer": "ipython3",
   "version": "3.9.13"
  }
 },
 "nbformat": 4,
 "nbformat_minor": 5
}
