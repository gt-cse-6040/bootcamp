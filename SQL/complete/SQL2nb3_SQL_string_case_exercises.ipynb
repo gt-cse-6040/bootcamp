{
 "cells": [
  {
   "cell_type": "markdown",
   "metadata": {},
   "source": [
    "# SQL Examples with STRINGs and CASEs"
   ]
  },
  {
   "cell_type": "code",
   "execution_count": null,
   "metadata": {},
   "outputs": [],
   "source": [
    "# !wget https://github.com/gt-cse-6040/bootcamp/raw/main/Module%201/Session%204/NYC-311-2M_small.db"
   ]
  },
  {
   "cell_type": "code",
   "execution_count": 1,
   "metadata": {},
   "outputs": [],
   "source": [
    "# create a connection to the database\n",
    "import sqlite3 as db\n",
    "import pandas as pd\n",
    "\n",
    "# Connect to a database (or create one if it doesn't exist)\n",
    "conn_nyc = db.connect('NYC-311-2M_small.db')"
   ]
  },
  {
   "cell_type": "markdown",
   "metadata": {},
   "source": [
    "## EX0 Example\n",
    "From the `data` table for `Agency='NYPD'`, use the column `CompliantType` to extract \"`primaryComplaint` - `secondaryComplaint`\":\n",
    "*  Columns\n",
    "   *  `ComplaintType`\n",
    "   *  `primaryComplaint`:\n",
    "      *  This is everything **before** a `-`\n",
    "      *  If there is no `-`, this should be the same as `ComplaintType`\n",
    "   *  `secondaryComplaint`:\n",
    "      *  This is everything **after** a `-`\n",
    "      *  If there is no `-`, this should return NULL or None"
   ]
  },
  {
   "cell_type": "code",
   "execution_count": 2,
   "metadata": {},
   "outputs": [
    {
     "data": {
      "text/html": [
       "<div>\n",
       "<style scoped>\n",
       "    .dataframe tbody tr th:only-of-type {\n",
       "        vertical-align: middle;\n",
       "    }\n",
       "\n",
       "    .dataframe tbody tr th {\n",
       "        vertical-align: top;\n",
       "    }\n",
       "\n",
       "    .dataframe thead th {\n",
       "        text-align: right;\n",
       "    }\n",
       "</style>\n",
       "<table border=\"1\" class=\"dataframe\">\n",
       "  <thead>\n",
       "    <tr style=\"text-align: right;\">\n",
       "      <th></th>\n",
       "      <th>ComplaintType</th>\n",
       "      <th>primaryComplaint</th>\n",
       "      <th>secondaryComplaint</th>\n",
       "    </tr>\n",
       "  </thead>\n",
       "  <tbody>\n",
       "    <tr>\n",
       "      <th>0</th>\n",
       "      <td>Noise - Street/Sidewalk</td>\n",
       "      <td>Noise</td>\n",
       "      <td>Street/Sidewalk</td>\n",
       "    </tr>\n",
       "    <tr>\n",
       "      <th>1</th>\n",
       "      <td>Noise - Street/Sidewalk</td>\n",
       "      <td>Noise</td>\n",
       "      <td>Street/Sidewalk</td>\n",
       "    </tr>\n",
       "    <tr>\n",
       "      <th>2</th>\n",
       "      <td>Blocked Driveway</td>\n",
       "      <td>Blocked Driveway</td>\n",
       "      <td>None</td>\n",
       "    </tr>\n",
       "    <tr>\n",
       "      <th>3</th>\n",
       "      <td>Noise - Vehicle</td>\n",
       "      <td>Noise</td>\n",
       "      <td>Vehicle</td>\n",
       "    </tr>\n",
       "    <tr>\n",
       "      <th>4</th>\n",
       "      <td>Noise - Park</td>\n",
       "      <td>Noise</td>\n",
       "      <td>Park</td>\n",
       "    </tr>\n",
       "    <tr>\n",
       "      <th>...</th>\n",
       "      <td>...</td>\n",
       "      <td>...</td>\n",
       "      <td>...</td>\n",
       "    </tr>\n",
       "    <tr>\n",
       "      <th>21975</th>\n",
       "      <td>Illegal Parking</td>\n",
       "      <td>Illegal Parking</td>\n",
       "      <td>None</td>\n",
       "    </tr>\n",
       "    <tr>\n",
       "      <th>21976</th>\n",
       "      <td>Noise - Commercial</td>\n",
       "      <td>Noise</td>\n",
       "      <td>Commercial</td>\n",
       "    </tr>\n",
       "    <tr>\n",
       "      <th>21977</th>\n",
       "      <td>Noise - Commercial</td>\n",
       "      <td>Noise</td>\n",
       "      <td>Commercial</td>\n",
       "    </tr>\n",
       "    <tr>\n",
       "      <th>21978</th>\n",
       "      <td>Noise - Commercial</td>\n",
       "      <td>Noise</td>\n",
       "      <td>Commercial</td>\n",
       "    </tr>\n",
       "    <tr>\n",
       "      <th>21979</th>\n",
       "      <td>Illegal Parking</td>\n",
       "      <td>Illegal Parking</td>\n",
       "      <td>None</td>\n",
       "    </tr>\n",
       "  </tbody>\n",
       "</table>\n",
       "<p>21980 rows × 3 columns</p>\n",
       "</div>"
      ],
      "text/plain": [
       "                 ComplaintType  primaryComplaint secondaryComplaint\n",
       "0      Noise - Street/Sidewalk             Noise    Street/Sidewalk\n",
       "1      Noise - Street/Sidewalk             Noise    Street/Sidewalk\n",
       "2             Blocked Driveway  Blocked Driveway               None\n",
       "3              Noise - Vehicle             Noise            Vehicle\n",
       "4                 Noise - Park             Noise               Park\n",
       "...                        ...               ...                ...\n",
       "21975          Illegal Parking   Illegal Parking               None\n",
       "21976       Noise - Commercial             Noise         Commercial\n",
       "21977       Noise - Commercial             Noise         Commercial\n",
       "21978       Noise - Commercial             Noise         Commercial\n",
       "21979          Illegal Parking   Illegal Parking               None\n",
       "\n",
       "[21980 rows x 3 columns]"
      ]
     },
     "metadata": {},
     "output_type": "display_data"
    }
   ],
   "source": [
    "def extractcomplaints() -> str:\n",
    "  return f\"\"\"\n",
    "  SELECT ComplaintType\n",
    "  ,CASE WHEN ComplaintType LIKE '% - %'\n",
    "    THEN SUBSTR(ComplaintType,1,INSTR(ComplaintType,' - ')-1)\n",
    "    ELSE ComplaintType\n",
    "    END primaryComplaint\n",
    "  ,CASE WHEN ComplaintType LIKE '% - %'\n",
    "    THEN SUBSTR(ComplaintType,INSTR(ComplaintType,' - ')+3)\n",
    "    ELSE NULL\n",
    "    END secondaryComplaint\n",
    "  FROM data\n",
    "  WHERE Agency='NYPD'\n",
    "  \"\"\"\n",
    "d=pd.read_sql(extractcomplaints(),conn_nyc)\n",
    "display(d)\n",
    "# d.dtypes"
   ]
  }
 ],
 "metadata": {
  "kernelspec": {
   "display_name": "Python 3",
   "language": "python",
   "name": "python3"
  },
  "language_info": {
   "codemirror_mode": {
    "name": "ipython",
    "version": 3
   },
   "file_extension": ".py",
   "mimetype": "text/x-python",
   "name": "python",
   "nbconvert_exporter": "python",
   "pygments_lexer": "ipython3",
   "version": "3.8.10"
  }
 },
 "nbformat": 4,
 "nbformat_minor": 2
}
