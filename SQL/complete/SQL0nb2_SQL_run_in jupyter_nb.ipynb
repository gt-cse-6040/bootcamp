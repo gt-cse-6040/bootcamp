{
 "cells": [
  {
   "cell_type": "markdown",
   "id": "b7866d34",
   "metadata": {
    "id": "b7866d34"
   },
   "source": [
    "# Intro to SQL -- \n",
    "\n",
    "## Running SQL in Jupyter Notebooks (all steps, more detail than you will see on homeworks and exams)\n"
   ]
  },
  {
   "cell_type": "code",
   "execution_count": 5,
   "id": "9j-7hlsitvkZ",
   "metadata": {
    "id": "9j-7hlsitvkZ"
   },
   "outputs": [],
   "source": [
    "# !wget https://github.com/gt-cse-6040/bootcamp/raw/main/Module%201/Session%204/example.db"
   ]
  },
  {
   "cell_type": "markdown",
   "id": "e9b555cb",
   "metadata": {
    "id": "e9b555cb"
   },
   "source": [
    "### Running SQL from Jupyter notebooks.\n",
    "\n",
    "In general, there are three steps to running SQL queries, and a fourth step, specific to this class:\n",
    "\n",
    "1. Create a database connection. In this class, we will not ask you to create database connections for a grade. We will provide the database connections, and in most cases we will also provide queries that give you an initial view of the tables in the database.\n",
    "\n",
    "\n",
    "2. Write the query. **Homework NBs and Exams will ask you to put the query into a string variable**, and then the test cell will use the variable name in the query execution step.\n",
    "\n",
    "\n",
    "3. Execute the query and return the results. You will always return the results into a pandas dataframe, and the test case variables will be comparing your pandas dataframe output to the solution/true pandas dataframe output. This class will typically use the pandas function **read_sql_query()** for this step.\n",
    "\n",
    "\n",
    "4. For this class, because you will always return your query results to a pandas dataframe, you can use the function **assert_frame_equal()** to test and troubleshoot your query results. More on this in subsequent notebooks."
   ]
  },
  {
   "cell_type": "code",
   "execution_count": 6,
   "id": "9f72a0cb",
   "metadata": {},
   "outputs": [],
   "source": [
    "import pandas as pd"
   ]
  },
  {
   "cell_type": "code",
   "execution_count": 7,
   "id": "2c6bb5ee",
   "metadata": {
    "id": "2c6bb5ee"
   },
   "outputs": [],
   "source": [
    "# create a connection to the database\n",
    "import sqlite3 as db\n",
    "\n",
    "# This is the example database, from Part 0 of NB 9.\n",
    "# Connect to a database (or create one if it doesn't exist)\n",
    "conn = db.connect('example.db')"
   ]
  },
  {
   "cell_type": "markdown",
   "id": "332cc849",
   "metadata": {
    "id": "332cc849"
   },
   "source": [
    "We recommend using the three single quotes paradigm for strings in Python, allowing you to include any characters you need within the query, and not having to worry about escape characters.\n",
    "\n",
    "We also recommend starting with some form of query template, as below.\n",
    "\n",
    "Such a template separates (and organizes) the various clauses, allowing you to visually see and understand what you are doing."
   ]
  },
  {
   "cell_type": "code",
   "execution_count": 8,
   "id": "7bd6e258",
   "metadata": {
    "id": "7bd6e258"
   },
   "outputs": [],
   "source": [
    "# showing query template\n",
    "# note the we are putting the query string into the variable 'query'.\n",
    "\n",
    "query = '''\n",
    "SELECT\n",
    "\n",
    "FROM\n",
    "\n",
    "WHERE\n",
    "\n",
    "GROUP BY\n",
    "\n",
    "HAVING\n",
    "\n",
    "ORDER BY\n",
    "\n",
    "LIMIT\n",
    "\n",
    "'''"
   ]
  },
  {
   "cell_type": "code",
   "execution_count": 9,
   "id": "fe2cd2ed",
   "metadata": {
    "id": "fe2cd2ed"
   },
   "outputs": [],
   "source": [
    "# example query\n",
    "query1 = '''\n",
    "\n",
    "SELECT *\n",
    "\n",
    "FROM Students\n",
    "\n",
    "LIMIT 5\n",
    "\n",
    "'''"
   ]
  },
  {
   "cell_type": "code",
   "execution_count": 10,
   "id": "2df3f57c",
   "metadata": {
    "id": "2df3f57c"
   },
   "outputs": [
    {
     "data": {
      "text/html": [
       "<div>\n",
       "<style scoped>\n",
       "    .dataframe tbody tr th:only-of-type {\n",
       "        vertical-align: middle;\n",
       "    }\n",
       "\n",
       "    .dataframe tbody tr th {\n",
       "        vertical-align: top;\n",
       "    }\n",
       "\n",
       "    .dataframe thead th {\n",
       "        text-align: right;\n",
       "    }\n",
       "</style>\n",
       "<table border=\"1\" class=\"dataframe\">\n",
       "  <thead>\n",
       "    <tr style=\"text-align: right;\">\n",
       "      <th></th>\n",
       "      <th>gtid</th>\n",
       "      <th>name</th>\n",
       "    </tr>\n",
       "  </thead>\n",
       "  <tbody>\n",
       "    <tr>\n",
       "      <th>0</th>\n",
       "      <td>123</td>\n",
       "      <td>Vuduc</td>\n",
       "    </tr>\n",
       "    <tr>\n",
       "      <th>1</th>\n",
       "      <td>456</td>\n",
       "      <td>Chau</td>\n",
       "    </tr>\n",
       "    <tr>\n",
       "      <th>2</th>\n",
       "      <td>381</td>\n",
       "      <td>Bader</td>\n",
       "    </tr>\n",
       "    <tr>\n",
       "      <th>3</th>\n",
       "      <td>991</td>\n",
       "      <td>Sokol</td>\n",
       "    </tr>\n",
       "    <tr>\n",
       "      <th>4</th>\n",
       "      <td>723</td>\n",
       "      <td>Rozga</td>\n",
       "    </tr>\n",
       "  </tbody>\n",
       "</table>\n",
       "</div>"
      ],
      "text/plain": [
       "   gtid   name\n",
       "0   123  Vuduc\n",
       "1   456   Chau\n",
       "2   381  Bader\n",
       "3   991  Sokol\n",
       "4   723  Rozga"
      ]
     },
     "execution_count": 10,
     "metadata": {},
     "output_type": "execute_result"
    }
   ],
   "source": [
    "result = pd.read_sql_query(query1, conn)\n",
    "result"
   ]
  },
  {
   "cell_type": "code",
   "execution_count": 12,
   "id": "7778f615",
   "metadata": {
    "id": "7778f615"
   },
   "outputs": [],
   "source": [
    "# another query\n",
    "# note the indentations and single line item paradigm\n",
    "query2 = '''\n",
    "\n",
    "SELECT Students.name,\n",
    "       Takes.grade\n",
    "\n",
    "FROM Students, Takes\n",
    "\n",
    "WHERE Students.gtid = Takes.gtid\n",
    "      AND Takes.course = 'CSE 6040'\n",
    "\n",
    "'''\n"
   ]
  },
  {
   "cell_type": "code",
   "execution_count": 13,
   "id": "d6d68b42",
   "metadata": {
    "id": "d6d68b42"
   },
   "outputs": [
    {
     "data": {
      "text/html": [
       "<div>\n",
       "<style scoped>\n",
       "    .dataframe tbody tr th:only-of-type {\n",
       "        vertical-align: middle;\n",
       "    }\n",
       "\n",
       "    .dataframe tbody tr th {\n",
       "        vertical-align: top;\n",
       "    }\n",
       "\n",
       "    .dataframe thead th {\n",
       "        text-align: right;\n",
       "    }\n",
       "</style>\n",
       "<table border=\"1\" class=\"dataframe\">\n",
       "  <thead>\n",
       "    <tr style=\"text-align: right;\">\n",
       "      <th></th>\n",
       "      <th>name</th>\n",
       "      <th>grade</th>\n",
       "    </tr>\n",
       "  </thead>\n",
       "  <tbody>\n",
       "    <tr>\n",
       "      <th>0</th>\n",
       "      <td>Vuduc</td>\n",
       "      <td>4.0</td>\n",
       "    </tr>\n",
       "    <tr>\n",
       "      <th>1</th>\n",
       "      <td>Sokol</td>\n",
       "      <td>4.0</td>\n",
       "    </tr>\n",
       "    <tr>\n",
       "      <th>2</th>\n",
       "      <td>Chau</td>\n",
       "      <td>4.0</td>\n",
       "    </tr>\n",
       "  </tbody>\n",
       "</table>\n",
       "</div>"
      ],
      "text/plain": [
       "    name  grade\n",
       "0  Vuduc    4.0\n",
       "1  Sokol    4.0\n",
       "2   Chau    4.0"
      ]
     },
     "execution_count": 13,
     "metadata": {},
     "output_type": "execute_result"
    }
   ],
   "source": [
    "# execute the query\n",
    "result2 = pd.read_sql_query(query2, conn)\n",
    "result2"
   ]
  },
  {
   "cell_type": "markdown",
   "id": "19815fba",
   "metadata": {
    "id": "19815fba"
   },
   "source": [
    "### Both of these queries return a pandas dataframe, and this is the methodology, albeit in two VERY SIMPLE examples, that you will see throughout the course.\n",
    "\n",
    "### Our next notebooks will expand on this methodology, and how students will operate in the course."
   ]
  },
  {
   "cell_type": "markdown",
   "id": "64681be8",
   "metadata": {
    "id": "64681be8"
   },
   "source": [
    "### DB Browser for SQLite"
   ]
  },
  {
   "cell_type": "markdown",
   "id": "28ef6286",
   "metadata": {
    "id": "28ef6286"
   },
   "source": [
    "#### SQLite has a database IDE tool, DB Browser, which allows you to connect to the database and write queries directly.\n",
    "\n",
    "While you may or may not find it useful in this class, it is a very good tool to use in other classes in this program. Most classes (with the exception of CSE 6242 -- DVA) that utilize databases use SQLite, so having this \"tool in your toolbox\" will be valuable to you in those classes.\n",
    "\n",
    "You will not be able to easily use DB Browser in this class, as the databases are stored on Vocareum and are not accessible to students outside of Vocareum. There are ways to download the databases and work with them, but we don't encourage or support them, so if you want to try, you are on your own. Please don't ask for help with doing this on Piazza, as the TAs will not be able to assist.\n",
    "\n",
    "You can download DB Browser from the following link: https://sqlitebrowser.org/\n",
    "\n"
   ]
  },
  {
   "cell_type": "code",
   "execution_count": null,
   "id": "6d30abcc",
   "metadata": {
    "id": "6d30abcc"
   },
   "outputs": [],
   "source": []
  }
 ],
 "metadata": {
  "colab": {
   "provenance": []
  },
  "kernelspec": {
   "display_name": "Python 3 (ipykernel)",
   "language": "python",
   "name": "python3"
  },
  "language_info": {
   "codemirror_mode": {
    "name": "ipython",
    "version": 3
   },
   "file_extension": ".py",
   "mimetype": "text/x-python",
   "name": "python",
   "nbconvert_exporter": "python",
   "pygments_lexer": "ipython3",
   "version": "3.9.13"
  }
 },
 "nbformat": 4,
 "nbformat_minor": 5
}
