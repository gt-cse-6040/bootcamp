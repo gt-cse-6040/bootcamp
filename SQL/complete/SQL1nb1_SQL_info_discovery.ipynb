{
 "cells": [
  {
   "cell_type": "markdown",
   "id": "b7866d34",
   "metadata": {
    "id": "b7866d34"
   },
   "source": [
    "# SQL Table Information and Discovery"
   ]
  },
  {
   "cell_type": "markdown",
   "id": "ea5d8b7b",
   "metadata": {
    "id": "ea5d8b7b"
   },
   "source": [
    "## This NB covers Database Information and Discovery Skills. \n",
    "\n",
    "1. Get schema and table information.\n",
    "\n",
    "2. Get specific table information using PRAGMA.\n",
    "\n",
    "3. Display sample data from each table."
   ]
  },
  {
   "cell_type": "markdown",
   "id": "e56494a9",
   "metadata": {},
   "source": [
    "## We are using a small version of the NYC 311 database that is used in Homework NB9. \n",
    "\n",
    "All of the columns from the database will be available, but we have restricted the date range to be a single month of data, in order to be able to reduce the database file size, enabling us to host on Github and manipulate using Google Colab. Note that this database has only a single table.\n",
    "\n",
    "## We are also using the `university.db` database, which was the data source for the Spring 2025 MT2 exam.\n",
    "\n",
    "This database has more tables, so it provides additional examples for students to see."
   ]
  },
  {
   "cell_type": "markdown",
   "id": "79c893d3",
   "metadata": {},
   "source": [
    "#### The next code cell loads the database into memory. On homework notebooks and exams, you will not have to do this yourself, as the code to load the database will be provided, as we showed in the previous notebooks.\n",
    "\n",
    "#### Also, the code to load the database below is specific to Google Colab. It is different for notebooks hosted on Vocareum. And again, to reiterate, students WILL NOT be required to write code to load any databases."
   ]
  },
  {
   "cell_type": "code",
   "execution_count": null,
   "id": "c40719ef",
   "metadata": {
    "id": "c40719ef"
   },
   "outputs": [],
   "source": [
    "# !wget https://github.com/gt-cse-6040/bootcamp/raw/main/Module%201/Session%204/NYC-311-2M_small.db\n",
    "# !wget https://github.com/gt-cse-6040/bootcamp/raw/main/Module%201/Session%204/university.db\n",
    "\n",
    "# create a connection to the database\n",
    "import sqlite3 as db\n",
    "import pandas as pd\n",
    "\n",
    "# Connect to a database (or create one if it doesn't exist)\n",
    "conn_nyc = db.connect('NYC-311-2M_small.db')\n",
    "conn_univ = db.connect('university.db')"
   ]
  },
  {
   "cell_type": "markdown",
   "id": "7d69db4f",
   "metadata": {},
   "source": [
    "## What information do we want to know about the database?\n",
    "\n",
    "1. What tables are in the database?\n",
    "\n",
    "2. What is the structure of each table (columns and data types)?\n",
    "\n",
    "3. What does the data look like in each table (data sample)?\n",
    "\n",
    "*    https://www.sqlite.org/schematab.html"
   ]
  },
  {
   "cell_type": "markdown",
   "id": "37bdcce6",
   "metadata": {},
   "source": [
    "### In SQLite, the table `sqlite_master` contains the metadata about every table in the database.\n",
    "\n",
    "In SQLite, the sqlite_master table is a system table that contains metadata about the database schema, such as information about tables, indexes, views, and triggers. It's an internal table that SQLite uses to keep track of the structure of the database.\n",
    "\n",
    "You can query the sqlite_master table to retrieve information about the database schema, including details about the tables in the database, the columns in those tables, and other objects.\n",
    "\n",
    "Structure of sqlite_master:\n",
    "The sqlite_master table has the following columns:\n",
    "*    type: The type of the object (e.g., table, index, view, or trigger).\n",
    "*    name: The name of the object (e.g., the name of a table, index, or view).\n",
    "*    tbl_name: The name of the table to which the object belongs (relevant for indexes, views, and triggers).\n",
    "*    rootpage: The page number of the root b-tree page for the object (relevant for tables and indexes).\n",
    "*    sql: The SQL statement that was used to create the object (e.g., the CREATE TABLE or CREATE INDEX statement).\n",
    "\n",
    "**Note that we are using the paradigm that the exams use for exercises.**"
   ]
  },
  {
   "cell_type": "code",
   "execution_count": null,
   "id": "cf5eac1e",
   "metadata": {},
   "outputs": [],
   "source": [
    "def gettablescema() -> str:\n",
    "    query = \"\"\"\n",
    "            SELECT *\n",
    "            FROM sqlite_master\n",
    "            WHERE type='table'\n",
    "            \"\"\"\n",
    "    return query\n",
    "\n",
    "df_schema_nyc = pd.read_sql(gettablescema(),conn_nyc)\n",
    "display(df_schema_nyc)\n",
    "\n",
    "df_schema_univ = pd.read_sql(gettablescema(),conn_univ)\n",
    "display(df_schema_univ)"
   ]
  },
  {
   "cell_type": "markdown",
   "id": "aba43df6",
   "metadata": {},
   "source": [
    "### In SQL, the `PRAGMA` statement has many functions (see the documentation).\n",
    "\n",
    "*    https://www.sqlite.org/pragma.html\n",
    "\n",
    "In SQLite, `PRAGMA` statements are used to query or modify database settings and retrieve metadata. To get metadata about tables, columns, indexes, and other database objects, SQLite provides specific PRAGMA commands that allow you to extract detailed information about the database schema.\n",
    "\n",
    "### Here, we are using the `table_info` function, which returns the table structure and column information about the table whose name is passed to it.\n",
    "\n",
    "This will return the following:\n",
    "*    cid: Column ID (an integer representing the column's index).\n",
    "*    name: The name of the column.\n",
    "*    type: The data type of the column (e.g., INTEGER, TEXT, REAL).\n",
    "*    notnull: A flag indicating whether the column has a NOT NULL constraint (1 if NOT NULL, 0 if not).\n",
    "*    dflt_value: The default value for the column (if any).\n",
    "*    pk: Indicates whether the column is part of the primary key (1 if yes, 0 if no)."
   ]
  },
  {
   "cell_type": "markdown",
   "id": "4f9d7ef4",
   "metadata": {},
   "source": [
    "#### Note in the function below, we are passing in the table name to send to `PRAGMA table_info()`.\n",
    "\n",
    "The methodology you see here is how you will want to pass in parameters to your SQL function, that you will include in your query."
   ]
  },
  {
   "cell_type": "code",
   "execution_count": null,
   "id": "fcc5c3e2",
   "metadata": {},
   "outputs": [],
   "source": [
    "def tablemetadata(tablename: str) -> str:\n",
    "    \n",
    "    query = f\"\"\"\n",
    "            PRAGMA table_info('{tablename}')\n",
    "          \"\"\"\n",
    "\n",
    "    return query\n",
    "\n",
    "# simple example, for the NYC database\n",
    "df_pragma_nyc = pd.read_sql(tablemetadata('data'),conn_nyc)\n",
    "display(df_pragma_nyc)"
   ]
  },
  {
   "cell_type": "code",
   "execution_count": null,
   "id": "83c55294",
   "metadata": {},
   "outputs": [],
   "source": [
    "# more complex example, for multiple tables from the university database\n",
    "\n",
    "lst_univ_tables = ['student_main','major_crosswalk','scholarship_crosswalk']\n",
    "\n",
    "for tablename in lst_univ_tables:\n",
    "    print(f'tablename: {tablename}')\n",
    "    \n",
    "    display(pd.read_sql(tablemetadata(tablename),conn_univ))\n",
    "    \n",
    "    print('=================')"
   ]
  },
  {
   "cell_type": "markdown",
   "id": "1fa0993e",
   "metadata": {},
   "source": [
    "#### If we did not have the table names, remember that the call to `sqlite_master` returns all of the table names in the database.\n",
    "\n",
    "So we could loop over the `schema_univ` dataframe, put all of the table names into a list, and call PRAGMA for each. Or just loop over the table names and pass each to PRAGMA."
   ]
  },
  {
   "cell_type": "code",
   "execution_count": null,
   "id": "1cf0398b",
   "metadata": {},
   "outputs": [],
   "source": [
    "lst_univ_tables_full = []\n",
    "\n",
    "for index, row in df_schema_univ.iterrows():\n",
    "    lst_univ_tables_full.append(row['tbl_name'])\n",
    "    \n",
    "lst_univ_tables_full"
   ]
  },
  {
   "cell_type": "code",
   "execution_count": null,
   "id": "fc0c3c8a",
   "metadata": {},
   "outputs": [],
   "source": [
    "# commented out, to reduce output volume.\n",
    "# for tablename in lst_univ_tables_full:\n",
    "#     print(f'tablename: {tablename}')\n",
    "    \n",
    "#     display(pd.read_sql(tablemetadata(tablename),conn_univ))\n",
    "    \n",
    "#     print('=================')"
   ]
  },
  {
   "cell_type": "markdown",
   "id": "dc11d9eb",
   "metadata": {},
   "source": [
    "### Finally, we can do a simple `SELECT * from Table LIMIT #` to get a view on the data itself.\n",
    "\n",
    "#### Note again that, in the function below, we are passing in the table name and how many row to return."
   ]
  },
  {
   "cell_type": "code",
   "execution_count": null,
   "id": "67d49afe",
   "metadata": {},
   "outputs": [],
   "source": [
    "def querytables(tablename: str,limit:int=10) -> str:\n",
    "    query = f\"\"\"\n",
    "            SELECT *\n",
    "            FROM {tablename}\n",
    "            LIMIT {limit}\n",
    "          \"\"\"\n",
    "    return query\n",
    "\n",
    "# simple example, for the NYC database\n",
    "df_table_nyc = pd.read_sql(querytables('data',5),conn_nyc)\n",
    "display(df_table_nyc)"
   ]
  },
  {
   "cell_type": "code",
   "execution_count": null,
   "id": "a23dc245",
   "metadata": {},
   "outputs": [],
   "source": [
    "# commented out, to reduce output volume.\n",
    "# for tablename in lst_univ_tables_full:\n",
    "#     print(f'tablename: {tablename}')\n",
    "    \n",
    "#     display(pd.read_sql(querytables(tablename,5),conn_univ))\n",
    "    \n",
    "#     print('=================')"
   ]
  },
  {
   "cell_type": "markdown",
   "id": "86d78008",
   "metadata": {},
   "source": [
    "## What are your questions about database discovery?"
   ]
  }
 ],
 "metadata": {
  "colab": {
   "provenance": []
  },
  "kernelspec": {
   "display_name": "Python 3 (ipykernel)",
   "language": "python",
   "name": "python3"
  },
  "language_info": {
   "codemirror_mode": {
    "name": "ipython",
    "version": 3
   },
   "file_extension": ".py",
   "mimetype": "text/x-python",
   "name": "python",
   "nbconvert_exporter": "python",
   "pygments_lexer": "ipython3",
   "version": "3.9.13"
  }
 },
 "nbformat": 4,
 "nbformat_minor": 5
}
