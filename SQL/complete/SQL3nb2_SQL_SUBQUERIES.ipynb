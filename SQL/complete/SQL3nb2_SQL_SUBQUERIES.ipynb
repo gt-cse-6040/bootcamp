{
 "cells": [
  {
   "cell_type": "markdown",
   "id": "b7866d34",
   "metadata": {
    "id": "b7866d34"
   },
   "source": [
    "# SQL Sub Queries"
   ]
  },
  {
   "cell_type": "code",
   "execution_count": null,
   "id": "XxMG5XfT-NHD",
   "metadata": {
    "id": "XxMG5XfT-NHD"
   },
   "outputs": [],
   "source": [
    "# !wget https://github.com/gt-cse-6040/bootcamp/raw/main/Module%201/Session%204/NYC-311-2M_small.db"
   ]
  },
  {
   "cell_type": "code",
   "execution_count": null,
   "id": "c40719ef",
   "metadata": {
    "id": "c40719ef"
   },
   "outputs": [],
   "source": [
    "# create a connection to the database\n",
    "import sqlite3 as db\n",
    "import pandas as pd\n",
    "\n",
    "# Connect to a database (or create one if it doesn't exist)\n",
    "conn_nyc = db.connect('NYC-311-2M_small.db')"
   ]
  },
  {
   "cell_type": "markdown",
   "id": "d822d279",
   "metadata": {},
   "source": [
    "## Subqueries -- Quick Review\n",
    "\n",
    "An inline subquery is a query nested within another SQL query, typically within the SELECT, WHERE, or FROM clause. \n",
    "\n",
    "Inline subqueries allow you to perform calculations or filtering within the context of the outer query. \n",
    "\n",
    "They are particularly useful when you need to filter results based on aggregated values like maximum, minimum, or average.\n",
    "\n",
    "Inline subqueries are powerful, but they can become less efficient when the same calculation needs to be repeated multiple times, as each repetition can slow down the query execution. \n",
    "\n",
    "Visit the [w3resource's SQLite Subqueries page](https://www.w3resource.com/sqlite/sqlite-subqueries.php) to learn more.\n",
    "\n"
   ]
  },
  {
   "cell_type": "markdown",
   "id": "dd48de1b",
   "metadata": {},
   "source": [
    "## Subqueries\n",
    "\n",
    "- Are created/defined and executed in the same statement.\n",
    "\n",
    "- Are defined `inline`, within your main query, and as part of that main query.\n",
    "\n",
    "- Are only executed where defined, not reusable."
   ]
  },
  {
   "cell_type": "markdown",
   "id": "615505e5",
   "metadata": {},
   "source": [
    "### EXAMPLE -- INNER JOIN WITH SUBQUERY\n",
    "\n",
    "**Requirement**\n",
    "\n",
    "From the `data` table, for each `city`, return counts or a distribution of tickets per `hour` on the biggest day (by events) by `createdDate`. \n",
    "\n",
    "Hint, it's `2014-11-18` (8466 events) but how do we put this into code dynamically?\n",
    "\n",
    "*    Columns\n",
    "    *    `City`\n",
    "    *    `createdHour`\n",
    "    *    `countoccur`: the count of events\n",
    "\n",
    "*    Exclude NULL cities i.e. `WHERE city IS NOT NULL`\n",
    "\n",
    "*    Sort\n",
    "    *   `City` in ascending order\n",
    "    *   `createdHour` in ascending order\n",
    "\n",
    "**Pseudocode:**\n",
    "*    Need to find the biggest day\n",
    "*    JOIN to the `data` table\n",
    "*    produce `SELECT` statement\n",
    "*    include `WHERE` statement\n",
    "*    `GROUP BY`\n",
    "*    `ORDER BY`"
   ]
  },
  {
   "cell_type": "code",
   "execution_count": null,
   "id": "9a3d2a7b",
   "metadata": {},
   "outputs": [],
   "source": [
    "def inner_join_example():\n",
    "\n",
    "    # display the list of cities\n",
    "    query_inner_join = '''\n",
    "                SELECT a.city\n",
    "                        ,sq.createdymd\n",
    "                        ,strftime('%H',CreatedDate) createdhour\n",
    "                        ,count(*) countoccur\n",
    "                FROM data a\n",
    "                \n",
    "                -- SUBQUERY BELOW\n",
    "                INNER JOIN ( --this join gets the date with the most events\n",
    "                              SELECT strftime('%Y-%m-%d',CreatedDate) createdymd\n",
    "                                      ,count(*) totalymd\n",
    "                              FROM data\n",
    "                              GROUP BY 1\n",
    "                              ORDER BY 2 desc\n",
    "                              LIMIT 1\n",
    "                            ) SQ \n",
    "                        on strftime('%Y-%m-%d',a.CreatedDate) = sq.createdymd\n",
    "                -- END OF SUBQUERY\n",
    "                \n",
    "                WHERE a.city IS NOT NULL\n",
    "                GROUP BY 1,2,3\n",
    "                ORDER BY 1,2,3\n",
    "                '''\n",
    "    return query_inner_join\n",
    "\n",
    "df_inner_join_example = pd.read_sql(inner_join_example(),conn_nyc)\n",
    "display(df_inner_join_example)"
   ]
  },
  {
   "cell_type": "markdown",
   "id": "4935c733",
   "metadata": {
    "id": "4935c733"
   },
   "source": [
    "### So what did we do here?\n",
    "\n",
    "#### First the subquery itself:\n",
    "\n",
    "1. The subquery counted the number of rows (complaints) for each data.\n",
    "\n",
    "2. The subquery sorted by the number in descending order.\n",
    "\n",
    "3. The subquery returned one row, which is the date with the most complaints."
   ]
  },
  {
   "cell_type": "markdown",
   "id": "e44842c6",
   "metadata": {
    "id": "abfdef2a"
   },
   "source": [
    "#### Next, in the main query:\n",
    "\n",
    "1. The subquery inner joined to the main query on the date.\n",
    "\n",
    "2. Because the join to the subquery is an inner join, it ensures that the only rows included/returned are those with that date."
   ]
  },
  {
   "cell_type": "markdown",
   "id": "a8939b00",
   "metadata": {},
   "source": [
    "### What are your questions so far?"
   ]
  },
  {
   "cell_type": "markdown",
   "id": "1be0b551",
   "metadata": {},
   "source": [
    "### LEFT JOIN WITH SUBQUERY AND MULTIPLE SUBQUERIES\n",
    "\n",
    "From the `data` table, for each `city`, return counts or a distribution of tickets per `hour` on the biggest day (by events) by `createdDate`. \n",
    "\n",
    "Hint, it's `2014-11-18` (8466 events) but how do we put this into code dynamically?\n",
    "\n",
    "But this time, **only include `City` if they have an event on that day**. \n",
    "\n",
    "Additionally, `City` with `Hour` without events on that day should be included but should have a 0 for `countoccur`.\n",
    "\n",
    "*    Columns\n",
    "    *    `City`\n",
    "    *    `createdHour`\n",
    "    *    `countoccur`: the count of events. **REMEMBER: This should be 0 if there aren't any events for that city/hour**\n",
    "\n",
    "\n",
    "*    Exclude NULL cities i.e. `WHERE city IS NOT NULL`\n",
    "\n",
    "\n",
    "*    Sort\n",
    "    *   `City` in ascending order\n",
    "    *   `createdHour` in ascending order\n",
    "\n",
    "**Pseudocode:**\n",
    "\n",
    "*    Need to find the biggest day. This is query `b` below.\n",
    "\n",
    "*    Need to get all the hours that occur on the biggest day. This is query `c` below.\n",
    "\n",
    "*    Need to get all the cities/hour combinations possible for the biggest day. This is query `aa` below.\n",
    "\n",
    "*    Need to get the counts for each city/hour on the biggest day, This is query `bb` below.\n",
    "\n",
    "*    Need to join query `aa` with qery `bb` to retain all of query `aa`. This is this overall query, `a`.\n",
    "\n",
    "*    produce `SELECT` statement\n",
    "\n",
    "*    `GROUP BY`\n",
    "*    `ORDER BY`"
   ]
  },
  {
   "cell_type": "markdown",
   "id": "5658dcd1",
   "metadata": {},
   "source": [
    "### Note that there are 5 distinct queries/subqueries:\n",
    "\n",
    "a.  The base `data` table, or the main table in the query.\n",
    "\n",
    "b.  Gets the date with the most events. This subquery is written and executed in multiple places.\n",
    "\n",
    "c.  Gets the distinct hours on the date with the most events. Depends on the date in `b`.\n",
    "\n",
    "aa.  Gets a distinct list of city/createdhour for the date with the most events. Depends on the date in `b`.\n",
    "\n",
    "bb.  Gets the number of events for city/hour. SAME AS INNER JOIN EXAMPLE ABOVE. Depends on the date in `b`."
   ]
  },
  {
   "cell_type": "code",
   "execution_count": null,
   "id": "f4aa432f",
   "metadata": {},
   "outputs": [],
   "source": [
    "def left_join_example():\n",
    "\n",
    "    # display the list of cities\n",
    "    query_left_join = '''\n",
    "                SELECT aa.city\n",
    "                        ,aa.createdhour\n",
    "                        ,COALESCE(bb.countoccur,0) countoccur\n",
    "\n",
    "                FROM ( --this gets a distinct list of city/createdhour for the date with the most events\n",
    "                          SELECT DISTINCT a.city,c.createdhour\n",
    "                          FROM data a\n",
    "                          INNER JOIN \n",
    "                              ( --this join gets the date with the most events\n",
    "                                SELECT strftime('%Y-%m-%d',CreatedDate) createdymd\n",
    "                                        ,count(*) totalymd\n",
    "                                FROM data\n",
    "                                GROUP BY 1\n",
    "                                ORDER BY 2 DESC\n",
    "                                LIMIT 1\n",
    "                              ) b on strftime('%Y-%m-%d',a.CreatedDate)=b.createdymd\n",
    "                  \n",
    "                          LEFT JOIN \n",
    "                                      ( --this join gets the distinct hours on the date with the most events\n",
    "                                        SELECT distinct strftime('%Y-%m-%d',CreatedDate) createdymd\n",
    "                                                        ,strftime('%H',CreatedDate) createdhour\n",
    "                                        FROM data\n",
    "\n",
    "                                      ) c on strftime('%Y-%m-%d',a.CreatedDate)=c.createdymd\n",
    "                          WHERE a.city IS NOT NULL\n",
    "                        ) aa\n",
    "\n",
    "                    LEFT JOIN ( --this join gets the number of events for city/hour. SAME AS JOIN EXAMPLE ABOVE\n",
    "                                  SELECT a.city\n",
    "                                          ,strftime('%H',CreatedDate) createdhour\n",
    "                                          ,count(*) countoccur\n",
    "                                  FROM data a\n",
    "                                  INNER JOIN ( --this join gets the date with the most events\n",
    "                                                SELECT strftime('%Y-%m-%d',CreatedDate) createdymd\n",
    "                                                        ,count(*) totalymd\n",
    "                                                FROM data\n",
    "                                                GROUP BY 1\n",
    "                                                ORDER BY 2 DESC\n",
    "                                                LIMIT 1\n",
    "                                              ) b on strftime('%Y-%m-%d',a.CreatedDate)=b.createdymd\n",
    "                                  WHERE a.city IS NOT NULL\n",
    "                                  GROUP BY 1,2\n",
    "                               ) bb \n",
    "                ON aa.city = bb.city \n",
    "                AND aa.createdhour = bb.createdhour\n",
    "\n",
    "                ORDER BY 1,2\n",
    "                '''\n",
    "    return query_left_join\n",
    "\n",
    "df_left_join_example = pd.read_sql(left_join_example(),conn_nyc)\n",
    "display(df_left_join_example)"
   ]
  },
  {
   "cell_type": "markdown",
   "id": "f1900706",
   "metadata": {},
   "source": [
    "## What questions do you have on subqueries?"
   ]
  },
  {
   "cell_type": "code",
   "execution_count": null,
   "id": "a217ed4b",
   "metadata": {},
   "outputs": [],
   "source": []
  }
 ],
 "metadata": {
  "colab": {
   "provenance": []
  },
  "kernelspec": {
   "display_name": "Python 3 (ipykernel)",
   "language": "python",
   "name": "python3"
  },
  "language_info": {
   "codemirror_mode": {
    "name": "ipython",
    "version": 3
   },
   "file_extension": ".py",
   "mimetype": "text/x-python",
   "name": "python",
   "nbconvert_exporter": "python",
   "pygments_lexer": "ipython3",
   "version": "3.9.13"
  }
 },
 "nbformat": 4,
 "nbformat_minor": 5
}
