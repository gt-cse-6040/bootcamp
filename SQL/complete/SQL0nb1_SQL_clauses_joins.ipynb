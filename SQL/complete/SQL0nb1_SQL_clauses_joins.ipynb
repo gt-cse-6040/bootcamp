{
 "cells": [
  {
   "cell_type": "markdown",
   "id": "b7866d34",
   "metadata": {
    "id": "b7866d34"
   },
   "source": [
    "# Intro to SQL -- Clauses and Joins"
   ]
  },
  {
   "cell_type": "code",
   "execution_count": null,
   "id": "9j-7hlsitvkZ",
   "metadata": {
    "id": "9j-7hlsitvkZ"
   },
   "outputs": [],
   "source": [
    "!wget https://github.com/gt-cse-6040/bootcamp/raw/main/Module%201/Session%204/example.db"
   ]
  },
  {
   "cell_type": "markdown",
   "id": "ea5d8b7b",
   "metadata": {
    "id": "ea5d8b7b"
   },
   "source": [
    "## We're going to do a high level introduction to SQL.\n",
    "\n",
    "#### This is not intended to be a comprehensive introduction, but we instead will be covering topics that students have historically had issues with in the class."
   ]
  },
  {
   "cell_type": "markdown",
   "id": "066065cc",
   "metadata": {
    "id": "066065cc"
   },
   "source": [
    "### First, just a little bit about SQL and relational databases.\n",
    "\n",
    "SQL stands for Structured Query language. It is generally pronounced \"es-queue-el\" or \"see-kwell\". SQL is the industry standard for communicating with relational databases.\n",
    "\n",
    "And while the Web is a great source of \"new\" data, most real-world business data appears, arguably, in more traditional relational database systems. These databases are \"tuned\" for the task of managing tabular data (e.g. tibbles) with complex relationships.\n",
    "\n",
    "Data is stored in tables, which is made up of rows and columns. Each row represents a different entity (of whatever is in that table) and each column represents a different attribute about that entity.\n",
    "\n",
    "For a good visual, think of an Excel spreadsheet, with rows and columns."
   ]
  },
  {
   "cell_type": "markdown",
   "id": "4935c733",
   "metadata": {
    "id": "4935c733"
   },
   "source": [
    "#### So what do we do with relational databases?\n",
    "\n",
    "Our task in relational database reporting is to take a requirement for information and translate that into a/an SQL query that returns the requested data.\n",
    "\n",
    "1. Which tables do we need?\n",
    "\n",
    "2. Which columns do we need?\n",
    "\n",
    "3. How will we use the columns to get the information requested?"
   ]
  },
  {
   "cell_type": "markdown",
   "id": "1fcca140",
   "metadata": {},
   "source": [
    "## Be patient on the below, we need to introduce the terminology and concepts.\n",
    "\n",
    "## We will show examples of everything in subsequent notebooks."
   ]
  },
  {
   "cell_type": "markdown",
   "id": "d4cbb2a3",
   "metadata": {
    "id": "d4cbb2a3"
   },
   "source": [
    "### What makes up an SQL query?\n",
    "\n",
    "**SQL query clauses -- Order of appearance in the query**\n",
    "\n",
    "#### Homework NB9, Part 2 has a more in-depth discussion of the order of execution, so we refer the students to review there for more detail on this topic.\n",
    "\n",
    "There are 6 possible clauses in an SQL query.\n",
    "\n",
    "They must appear in the query in the following order:\n",
    "\n",
    "1. ***SELECT*** -- Which columns/data elements are to be included in the result set.\n",
    "\n",
    "\n",
    "2. ***FROM*** -- The tables which are the source of the data to be returned\n",
    "\n",
    "\n",
    "3. ***WHERE***\n",
    "    \n",
    "    a. The columns from different tables that are equivalent and define how the tables are joined together.\n",
    "    \n",
    "    b. Any filtering criteria for the query, to return a subset of the data. Note that this filtering is done PRIOR to any aggregations.\n",
    "\n",
    "\n",
    "4. ***GROUP BY*** -- If aggregating, these are the columns that the aggregations are based on.\n",
    "\n",
    "\n",
    "5. ***HAVING*** -- Filtering on data after aggregations have been performed.\n",
    "\n",
    "\n",
    "6. ***ORDER BY*** -- Sorting the data.\n",
    "\n",
    "\n",
    "There is a 7th clause, **which is not universal to all databases,** but it is available in SQLite. It is the **LIMIT** clause, which tells the database how many rows to return. It would be last in the order of the query, and would also execute last."
   ]
  },
  {
   "cell_type": "markdown",
   "id": "cb4efee5",
   "metadata": {
    "id": "cb4efee5"
   },
   "source": [
    "**SQL query clauses -- Order of execution**\n",
    "\n",
    "The 6 clauses execute in the following order:\n",
    "\n",
    "1. ***FROM*** -- Which tables are in scope for where the data will come from.\n",
    "\n",
    "\n",
    "2. ***WHERE*** -- How are the tables related to each other (joins), and any filtering that is to be done. At the conclusion of this step, all of the detail rows that make up the dataset to be returned will be in memory.\n",
    "    \n",
    "      a. The result set will include all eligible rows to be returned, from all tables. It does not include any aggregating or filtering of aggregates.\n",
    "        \n",
    "      b. The result set includes all of the columns in all of the tables at this point.\n",
    "\n",
    "\n",
    "3. ***GROUP BY*** -- Perform any groupings that need to be done for the aggregations. Each grouping represents a separate entity at this point in the process. Remember \"split-apply-combine\" from the pandas groupby() function last week? This is the \"split\" step.\n",
    "\n",
    "\n",
    "4. ***HAVING*** -- Filter the groupings from the last step, keeping only those that meet the criteria.\n",
    "\n",
    "\n",
    "5. ***SELECT*** -- Choose only the columns that are required to be returned. Also perform and data manipulations (string manipulation, for example) that are required.\n",
    "\n",
    "\n",
    "6. ***ORDER BY*** -- When the final set of rows to be returned remain, they are sorted in whatever order is specified."
   ]
  },
  {
   "cell_type": "markdown",
   "id": "fae717a3",
   "metadata": {
    "id": "fae717a3"
   },
   "source": [
    "### Now let's look at joins\n",
    "\n",
    "Notebook 9, Part 0 contains the link to an outstanding resource for visualizing joins, which are typically represented by various Venn diagrams.\n",
    "\n",
    "https://www.codeproject.com/Articles/33052/Visual-Representation-of-SQL-Joins\n",
    "\n",
    "The joins we will deal with in this class are inner, outer, left and right (these are the same as the pandas merge \"how\" parameter\", from last week).\n",
    "\n",
    "Also, remember in Pandas how we discussed the \"left\" and \"right\" tables? Well the same applies here. The first listed table is the \"left\" table and the second listed is the \"right\" table."
   ]
  },
  {
   "cell_type": "markdown",
   "id": "720cc6a5",
   "metadata": {
    "id": "720cc6a5"
   },
   "source": [
    "**Inner join**\n",
    "\n",
    "This is the most common join, and the easiest to understand. The query using this join will return only the rows that are in both tables.\n",
    "\n",
    "Additionally, this is the default join in SQL, so if a join is not specified (as above), then the INNER JOIN is assumed.\n",
    "\n",
    "![inner%20join.png](https://github.com/gt-cse-6040/bootcamp/blob/main/Module%201/Session%204/inner%20join.png?raw=1)"
   ]
  },
  {
   "cell_type": "markdown",
   "id": "ec391056",
   "metadata": {
    "id": "ec391056"
   },
   "source": [
    "**Outer join**\n",
    "\n",
    "This is also known as FULL OUTER JOIN or FULL JOIN. The query will return all of the rows from both tables, whether or not there is a match in the other table. All columns will be populated for the rows that have a match, and for those rows from either table that do not have a match, a NULL value will be returned for the non-matching columns.\n",
    "\n",
    "![outer%20join.png](https://github.com/gt-cse-6040/bootcamp/blob/main/Module%201/Session%204/outer%20join.png?raw=1)"
   ]
  },
  {
   "cell_type": "markdown",
   "id": "37d4cfd6",
   "metadata": {
    "id": "37d4cfd6"
   },
   "source": [
    "**Left join**\n",
    "\n",
    "This join will return all of the rows from the left table, whether or not there is a match from the right table. Any records that match from the right table will also be included, and for those left table rows that do not have a match, the right table columns in the SELECT statement will return a NULL value.\n",
    "\n",
    "![left%20join.png](https://github.com/gt-cse-6040/bootcamp/blob/main/Module%201/Session%204/left%20join.png?raw=1)"
   ]
  },
  {
   "cell_type": "markdown",
   "id": "f2026c3d",
   "metadata": {
    "id": "f2026c3d"
   },
   "source": [
    "**Right join**\n",
    "\n",
    "Opposite of the Left join.\n",
    "\n",
    "This join will return all of the rows from the right table, whether or not there is a match from the left table. Any records that match from the left table will also be included, and for those right table rows that do not have a match, the left table columns in the SELECT statement will return a NULL value.\n",
    "\n",
    "![right%20join.png](https://github.com/gt-cse-6040/bootcamp/blob/main/Module%201/Session%204/right%20join.png?raw=1)"
   ]
  },
  {
   "cell_type": "markdown",
   "id": "914c3afe",
   "metadata": {
    "id": "6d30abcc"
   },
   "source": [
    "## What are your questions on SQL clauses and joins?"
   ]
  },
  {
   "cell_type": "code",
   "execution_count": null,
   "id": "9a460f4c",
   "metadata": {},
   "outputs": [],
   "source": []
  }
 ],
 "metadata": {
  "colab": {
   "provenance": []
  },
  "kernelspec": {
   "display_name": "Python 3 (ipykernel)",
   "language": "python",
   "name": "python3"
  },
  "language_info": {
   "codemirror_mode": {
    "name": "ipython",
    "version": 3
   },
   "file_extension": ".py",
   "mimetype": "text/x-python",
   "name": "python",
   "nbconvert_exporter": "python",
   "pygments_lexer": "ipython3",
   "version": "3.9.13"
  }
 },
 "nbformat": 4,
 "nbformat_minor": 5
}
