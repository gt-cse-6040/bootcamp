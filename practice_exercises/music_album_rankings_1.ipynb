{
 "cells": [
  {
   "cell_type": "markdown",
   "id": "5dda78ce",
   "metadata": {
    "nbgrader": {
     "grade": false,
     "locked": true,
     "solution": false
    },
    "tags": [
     "notebook_header"
    ]
   },
   "source": [
    "# Bootcamp Practice Notebooks:  Music Album Rankings Analysis\n",
    "\n",
    "## Notebook 1:  Introduction to the Topic and Data Sets\n",
    "\n",
    "### This series of notebooks is provided for the students with three purposes in mind:\n",
    "\n",
    "1. Give students some practice problems that are put together in a similar manner to what they will encounter on MidTerm 1. While the notebooks are hosted on Colab and do not contain the \"test case variables\", the exercises are laid out in a manner the copies how the MidTerm exercises are constructed. Each exercise in notebooks 2-5 is set up to show a suggested exercise at that point value.\n",
    "\n",
    "2. Provide the students with some additional exercises for the students to practice concepts that are typically tested on the first MidTerm.\n",
    "\n",
    "3. Provide the students with opportunities to build on their knowledge of basic Python data structures, nested data structures, implementing mathematics, and string manipulation.\n",
    "\n",
    "### There are 5 sets of notebooks in the series.\n",
    "\n",
    "#### The first notebook (this one) provides an introduction to the topic and the datasets that the students will be working with.\n",
    "\n",
    "#### The other 4 notebooks are each provided as a 2-notebook set:\n",
    "\n",
    "1. The student working notebook, with the code cells for students to solve the exercises.\n",
    "2. The solution notebook, with code provided, for students to see one way of solving each exercise.\n",
    "\n",
    "### The library of notebooks is as follows:\n",
    "\n",
    "- NB 1:  Introduction to the Topic and Data Sets (This notebook).\n",
    "- NB2:  Example 1-point exercises (3 exercises).\n",
    "- NB3:  Example 2-point exercises (2 exercises).\n",
    "- NB4:  Example 2-point exercises (2 exercises).\n",
    "- NB5:  Example 3-point exercises (2 exercises).\n",
    "\n",
    "### Links to all of the notebooks are provided on the Bootcamp Schedule page."
   ]
  },
  {
   "cell_type": "markdown",
   "id": "4d58b4a0",
   "metadata": {
    "nbgrader": {
     "grade": false,
     "locked": true,
     "solution": false
    },
    "tags": [
     "topic_intro"
    ]
   },
   "source": [
    " # Overview: Music Album Rankings #\n",
    "\n",
    "`Rolling Stone` magazine is an American monthly magazine that focuses on music, politics, and popular culture. It was founded in San Francisco, California in 1967 and still publishes monthly to this day. The magazine is known for its coverage of music, entertainment, and politics.\n",
    "\n",
    "In 2003, the magazine released its `“500 Greatest Albums of All Time,”` placing the Beatles’ “Sgt. Pepper’s Lonely Hearts Club Band” in the top slot. It has since released two additional `\"500 Greatest\"` lists, in 2012 and 2020. While not necessary for this analysis, to gain a full understanding of these rankings, see this Wikipedia article:  https://en.wikipedia.org/wiki/Rolling_Stone%27s_500_Greatest_Albums_of_All_Time\n",
    "\n"
   ]
  },
  {
   "cell_type": "markdown",
   "id": "0eb8cd0f-69d4-4c5c-8ff4-f15b49b3a479",
   "metadata": {},
   "source": [
    "#### Our analysis will focus on the changes in the three lists over time.\n",
    "\n",
    "- The `2003` list was heavily criticized for being male-dominated, outmoded, and almost entirely Anglo-American in focus.\n",
    "\n",
    "- The `2012` list was also heavily critcised in a similar manner, with one music critic noting that the only one album in the top 10 was less than 40 years old.\n",
    "\n",
    "- The `2020` list was much more diverse in its representation of different music genres, musicians, and time periods. Music critics were much more positive in their reviews of the list, noting the lesser representation of white male rock musicians, and the move to recognize more contemporary albums and a wider range of tastes.\n"
   ]
  },
  {
   "cell_type": "markdown",
   "id": "eaa4a58c-ef49-4985-9dc8-c6cec1302224",
   "metadata": {},
   "source": [
    "#### The dataset itself has **two** main parts:\n",
    "- The **voters data**, which shows the persons who voted for the 2003 and 2020 lists, along with some of their demographic data. The voter list for 2012 is not publicly available in a format for us to work with.\n",
    "- The **albums data**, which shows the albums themselves, along with ranking, artist, demographic, and other metadata about each album. An album will be listed in the dataset once, with columns designating which list(s) it appeared in."
   ]
  },
  {
   "cell_type": "markdown",
   "id": "ed6fa0d8",
   "metadata": {},
   "source": [
    "**Your overall task in the notebook series:** \n",
    "\n",
    "You will help clean up and analyze this data, culminating in an a series of assessments, to understand the data behind the list commentary and criticisms. \n",
    "\n",
    "**From this data and your calculations, you can ascertain if the criticisms are valid.**\n",
    "\n",
    "**Here is your overall workflow for this problem:**\n",
    "- **NB 2**: Data understanding, simple Exploratory Data Analysis (EDA)\n",
    "- **NB 3**: Data understanding, complex Exploratory Data Analysis (EDA)\n",
    "- **NB 4**: Data cleaning, initial/simple analysis\n",
    "- **NB 5**: Complex analysis (these are difficult exercises)"
   ]
  },
  {
   "cell_type": "markdown",
   "id": "438ee3df",
   "metadata": {
    "nbgrader": {
     "grade": false,
     "locked": true,
     "solution": false
    }
   },
   "source": [
    "# Setup and Data Load\n",
    "\n",
    "To get started, run the following code cell. This will populate the `voters` and `albums` datasets that you will be working with."
   ]
  },
  {
   "cell_type": "code",
   "execution_count": null,
   "id": "fec8e785-f22b-4679-bf40-fc42f124f995",
   "metadata": {},
   "outputs": [],
   "source": [
    "!wget https://github.com/gt-cse-6040/bootcamp/raw/main/practice_exercises/voters.json\n",
    "!wget https://github.com/gt-cse-6040/bootcamp/raw/main/practice_exercises/Rolling_Stone_500_public.json"
   ]
  },
  {
   "cell_type": "code",
   "execution_count": null,
   "id": "13a71351",
   "metadata": {},
   "outputs": [],
   "source": [
    "import json\n",
    "\n",
    "with open(\"voters.json\", \"r\") as read_file:\n",
    "    voters = json.load(read_file)\n",
    "read_file.close()\n",
    "\n",
    "with open(\"Rolling_Stone_500_public.json\", \"r\") as read_file:\n",
    "    albums = json.load(read_file)\n",
    "read_file.close()"
   ]
  },
  {
   "cell_type": "markdown",
   "id": "094da762",
   "metadata": {
    "nbgrader": {
     "grade": false,
     "locked": true,
     "solution": false
    }
   },
   "source": [
    "# About the voters data\n",
    "\n",
    "The global variable `voters` is a list of dictionaries. \n",
    "\n",
    "Each dictionary represents an individual voter, with information about that voter.\n",
    "\n",
    "Let's take a look at the dataset in detail."
   ]
  },
  {
   "cell_type": "code",
   "execution_count": null,
   "id": "e6f6835e",
   "metadata": {},
   "outputs": [],
   "source": [
    "display(list(voters[0].keys()))"
   ]
  },
  {
   "cell_type": "markdown",
   "id": "8d967de7",
   "metadata": {},
   "source": [
    "The voters dictionary keys are defined as follows:\n",
    "\n",
    "- `Year`:  The year that this person voted for the list.\n",
    "- `ID`:  The unique ID for that year and voter.\n",
    "- `General_Category`:  General categorization of the voter's role in the music industry.\n",
    "- `Specific_Category`:  Voter's specific role, if known.\n",
    "- `Voter`:   Name of the voter\n",
    "- `Additional_Info`:  Other information about the voter, if known.\n",
    "- `Pronouns/Gender`:  Voter gender\n",
    "- `Image`:  URL of voter picture, if known\n",
    "- `Estimated_Birthyear`:  Voter's estimated birth year, when known\n",
    "- `Age_at_Vote`:  Voter age at time of vote. This is the difference of the vote year and birth year.\n",
    "- `Teenage_Decade`:  Decade that the voter was a teenager, with emphasis on the latter teen years. For many persons, the teenage years represent the most formative years for the development of their music tastes. One supposition might be that albums released during voters’ teenage years would have an outsized impact on their choices, and we will use this information to validate/refute that supposition."
   ]
  },
  {
   "cell_type": "markdown",
   "id": "1d61d0af",
   "metadata": {},
   "source": [
    "The primary key of the dataset is `ID`, which represents the unique combination of `Voter` and `Year`, which is the **year that they voted in**.\n",
    "\n",
    "Let's take a look at an example below. We can see that **Ms. Lucinda Williams** voted in both 2003 and 2020, so she is represented by two rows, with the `ID` numbers **599** and **171**."
   ]
  },
  {
   "cell_type": "code",
   "execution_count": null,
   "id": "8c0413db",
   "metadata": {},
   "outputs": [],
   "source": [
    "display(voters[409])\n",
    "display(voters[410])"
   ]
  },
  {
   "cell_type": "markdown",
   "id": "731b282f",
   "metadata": {
    "nbgrader": {
     "grade": false,
     "locked": true,
     "solution": false
    }
   },
   "source": [
    "Relevant observations about Ms. Williams are as follows:\n",
    "\n",
    "- She is an `Artist, Songwriter, Producer`\n",
    "- She is a `woman`\n",
    "- She was born in the year `1953`\n",
    "- She was `50` years old when she voted in 2003, and she was `67` years old when she voted in 2020.\n",
    "- Her (latter) teen years are the decade of the `1970s`.\n",
    "\n",
    "### All values in the dictionary are STRING values.\n",
    "\n",
    "#### Finally, note that not all information is populated. We will be cleaning the data, based on that which may be missing, or populated with non-useful data, in certain fields."
   ]
  },
  {
   "cell_type": "markdown",
   "id": "e4d78f7d",
   "metadata": {},
   "source": [
    "# Understanding the **`albums`** dataframe #\n",
    "\n",
    "This exercise involves looking at the albums data; you don't need to write any code. However, you **do** need to run the test cell **and** submit to get the free point(s)."
   ]
  },
  {
   "cell_type": "markdown",
   "id": "46b705c3",
   "metadata": {},
   "source": [
    "## About the albums data\n",
    "\n",
    "The global variable `albums` is a list of dictionaries. \n",
    "\n",
    "Each dictionary represents an individual album, with information about that album.\n",
    "\n",
    "Each album was voted intp the **Top 500 List** in one (or more) of the lists in 2003, 2012, or 2020.\n",
    "\n",
    "Let's take a look at the dataset in detail."
   ]
  },
  {
   "cell_type": "code",
   "execution_count": null,
   "id": "e4b9ee1e",
   "metadata": {},
   "outputs": [],
   "source": [
    "display(list(albums[0].keys()))"
   ]
  },
  {
   "cell_type": "markdown",
   "id": "2f94a5a0",
   "metadata": {},
   "source": [
    "The `albums` dictionary keys are defined as follows:\n",
    "\n",
    "- `Sort_Name`:  Last name, first name of the artist. This value may differ from year to year, for the same artist.\n",
    "- `Clean_Name`:  First name and last name of the artist. This will be the same from year to year, for the same artist.\n",
    "- `Album`:  Album name.\n",
    "- `2003_Rank_Old`:  NOT USED IN THIS ANALYSIS.\n",
    "- `2003_Rank`:   Rank in the Top 500 list for 2003, if in the list for that year.\n",
    "- `2012_Rank`:   Rank in the Top 500 list for 2012, if in the list for that year.\n",
    "- `2020_Rank`:   Rank in the Top 500 list for 2020, if in the list for that year.\n",
    "- `2020_2003_Differential`:  NOT USED IN THIS ANALYSIS.\n",
    "- `Release_Year`:  Year that the album was initially released.\n",
    "- `Album_Genre`:   Music genre of the album.\n",
    "- `Album_Type`:   NOT USED IN THIS ANALYSIS.\n",
    "- `Weeks_on_Billboard`:  NOT USED IN THIS ANALYSIS.\n",
    "- `Peak_Billboard_Position`:  Highest position that the album achieved in the Billboard Top Albums listing.\n",
    "- `Spotify_Popularity`:  NOT USED IN THIS ANALYSIS.\n",
    "- `Spotify_URI`:  NOT USED IN THIS ANALYSIS.\n",
    "- `Chartmetric_Link`:  NOT USED IN THIS ANALYSIS.\n",
    "- `Artist_Member_Count`:  Number of members that the artist has. For individual artists, this number will be 1, and for artists with more than one member (groups), it will be the number of members in the group.\n",
    "- `Artist_Gender`:  Gender of the artist. \n",
    "- `Artist_Birth_Year_Sum`:  The sum of all of the birth years of the artist. For a single artist, this is the artist's birth year. For groups, this is the sum of the birth years of all of the artists in the group.\n",
    "- `Debut_Album_Release_Year`:  NOT USED IN THIS ANALYSIS.\n",
    "- `Avg._Age_at_Top_500_Album`:  NOT USED IN THIS ANALYSIS.\n",
    "- `Years_Between_Debut_and_Top_500_Album`:  NOT USED IN THIS ANALYSIS.\n",
    "- `Album_ID`:  NOT USED IN THIS ANALYSIS.\n",
    "- `Album_ID_Quoted`:   NOT USED IN THIS ANALYSIS."
   ]
  },
  {
   "cell_type": "markdown",
   "id": "e4b2df95",
   "metadata": {},
   "source": [
    "Let's take a look at an example below. We can see that this album is from the artist `Taylor Swift`, and the album name is `1989`."
   ]
  },
  {
   "cell_type": "code",
   "execution_count": null,
   "id": "93dc53bb",
   "metadata": {},
   "outputs": [],
   "source": [
    "display(list(albums[16].items()))"
   ]
  },
  {
   "cell_type": "markdown",
   "id": "29127349",
   "metadata": {},
   "source": [
    "Some relevant observations about this album are as follows:\n",
    "\n",
    "- The album was not ranked in the 2003 list.\n",
    "- The album was not ranked in the 2012 list.\n",
    "- The album ranked `99` in the 2020 list.\n",
    "- The album's genre is `Country/Folk/Country Rock/Folk Rock`.\n",
    "- The album was released in the year `2012`.\n",
    "- The album peaked at `#1` on the Billboard Album popularity list.\n",
    "- Taylor Swift was born in `1989`.\n",
    "- Taylor Swift is of the `female` gender.\n",
    "- Taylor Swift is a solo artist -- (`Artist_Member_Count` is **1**).\n",
    "\n",
    "### All values in the dictionary are STRING values.\n",
    "\n",
    "#### Finally, note that not all information is populated, or it may be populated with values that are not useful for the analysis. We will be cleaning the data, based on that which may be missing, or populated with non-useful data, in certain fields."
   ]
  },
  {
   "cell_type": "markdown",
   "id": "0776c5b6-5f9a-4d64-8a6f-1f85ed22505b",
   "metadata": {},
   "source": [
    "## That concludes our introduction to the data sets. \n",
    "\n",
    "## Follow on notebooks will contain exercises using the data sets.\n",
    "\n",
    "## Students can refer back to this notebook if they need to review the data elements."
   ]
  }
 ],
 "metadata": {
  "celltoolbar": "Edit Metadata",
  "hide_input": false,
  "interpreter": {
   "hash": "f2b38b6e01547e8f771d473ea2b8718fd0728eea782e4c924ed8783f739d4a6c"
  },
  "kernelspec": {
   "display_name": "Python 3 (ipykernel)",
   "language": "python",
   "name": "python3"
  },
  "language_info": {
   "codemirror_mode": {
    "name": "ipython",
    "version": 3
   },
   "file_extension": ".py",
   "mimetype": "text/x-python",
   "name": "python",
   "nbconvert_exporter": "python",
   "pygments_lexer": "ipython3",
   "version": "3.12.7"
  },
  "toc": {
   "base_numbering": 1,
   "nav_menu": {},
   "number_sections": false,
   "sideBar": true,
   "skip_h1_title": false,
   "title_cell": "Table of Contents",
   "title_sidebar": "Contents",
   "toc_cell": false,
   "toc_position": {
    "height": "calc(100% - 180px)",
    "left": "10px",
    "top": "150px",
    "width": "247px"
   },
   "toc_section_display": true,
   "toc_window_display": true
  }
 },
 "nbformat": 4,
 "nbformat_minor": 5
}
