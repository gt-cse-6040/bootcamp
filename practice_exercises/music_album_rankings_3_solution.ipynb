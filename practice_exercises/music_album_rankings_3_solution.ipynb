{
  "cells": [
    {
      "cell_type": "markdown",
      "metadata": {
        "id": "view-in-github",
        "colab_type": "text"
      },
      "source": [
        "<a href=\"https://colab.research.google.com/github/gt-cse-6040/bootcamp/blob/main/practice_exercises/music_album_rankings_3_solution.ipynb\" target=\"_parent\"><img src=\"https://colab.research.google.com/assets/colab-badge.svg\" alt=\"Open In Colab\"/></a>"
      ]
    },
    {
      "cell_type": "markdown",
      "id": "5dda78ce",
      "metadata": {
        "nbgrader": {
          "grade": false,
          "locked": true,
          "solution": false
        },
        "tags": [
          "notebook_header"
        ],
        "id": "5dda78ce"
      },
      "source": [
        "# Bootcamp Practice Notebooks:  Music Album Rankings Analysis\n",
        "\n",
        "## Notebook 3:  Advanced Exploratory Data Analysis, 2-Point exercises"
      ]
    },
    {
      "cell_type": "markdown",
      "id": "e14d672f-7b70-43e6-a254-59ce973a41a5",
      "metadata": {
        "id": "e14d672f-7b70-43e6-a254-59ce973a41a5"
      },
      "source": [
        " # Overview: Music Album Rankings #\n",
        "\n",
        "`Rolling Stone` magazine is an American monthly magazine that focuses on music, politics, and popular culture. It was founded in San Francisco, California in 1967 and still publishes monthly to this day. The magazine is known for its coverage of music, entertainment, and politics.\n",
        "\n",
        "In 2003, the magazine released its `“500 Greatest Albums of All Time,”` placing the Beatles’ “Sgt. Pepper’s Lonely Hearts Club Band” in the top slot. It has since released two additional `\"500 Greatest\"` lists, in 2012 and 2020. While not necessary for this analysis, to gain a full understanding of these rankings, see this Wikipedia article:  https://en.wikipedia.org/wiki/Rolling_Stone%27s_500_Greatest_Albums_of_All_Time"
      ]
    },
    {
      "cell_type": "markdown",
      "id": "438ee3df",
      "metadata": {
        "nbgrader": {
          "grade": false,
          "locked": true,
          "solution": false
        },
        "id": "438ee3df"
      },
      "source": [
        "# Setup and Data Load\n",
        "\n",
        "To get started, run the following code cells. They will load the data files and populate the `voters` and `albums` datasets that you will be working with."
      ]
    },
    {
      "cell_type": "code",
      "execution_count": null,
      "id": "62a78034-ec4e-46e6-9b7b-e4952c2239fa",
      "metadata": {
        "id": "62a78034-ec4e-46e6-9b7b-e4952c2239fa"
      },
      "outputs": [],
      "source": [
        "!wget https://github.com/gt-cse-6040/bootcamp/raw/main/practice_exercises/voters.json\n",
        "!wget https://github.com/gt-cse-6040/bootcamp/raw/main/practice_exercises/Rolling_Stone_500_public.json"
      ]
    },
    {
      "cell_type": "code",
      "execution_count": null,
      "id": "13a71351",
      "metadata": {
        "id": "13a71351"
      },
      "outputs": [],
      "source": [
        "import json\n",
        "\n",
        "with open(\"voters.json\", \"r\") as read_file:\n",
        "    voters = json.load(read_file)\n",
        "read_file.close()\n",
        "\n",
        "with open(\"Rolling_Stone_500_public.json\", \"r\") as read_file:\n",
        "    albums = json.load(read_file)\n",
        "read_file.close()"
      ]
    },
    {
      "cell_type": "markdown",
      "id": "094da762",
      "metadata": {
        "nbgrader": {
          "grade": false,
          "locked": true,
          "solution": false
        },
        "id": "094da762"
      },
      "source": [
        "# Ex. 3 (**2 points**): `oldest_and_youngest_voter` #\n",
        "\n",
        "Given a list of dictionaries, `voters_list`, complete the function,\n",
        "```python\n",
        "def oldest_and_youngest_voter(voters_list):\n",
        "    ...\n",
        "```\n",
        "so that it returns the oldest and youngest voters in the `voters_list` variable that is passed in.\n",
        "\n",
        "**Input:**\n",
        "- A list of dictionaries, `voters_list`. It will have the same format as the `voters` variable above. For testing, it may or may not contain all of the values in the variable, so your code must account for a different number of voters to be in your input.\n",
        "\n",
        "**Your task:** Copy this list and output the oldest and youngest voters in the variable:\n",
        "\n",
        "**Output:** Return a list of twp tuples, without modifying the input `voters_list`. Each tuple will be for an individual voter. The first tuple will be for the older voter, and the second tuple will be for the youngest voter.\n",
        "\n",
        "Each tuple should contain the the following values:\n",
        "- `'VOTER'` --  String. This is the voter's name.\n",
        "- `'YEAR'` --  String. This is the year that they voted.  \n",
        "- `'AGE_AT_VOTE'` -- String. This is the voter's age at the time that they voted.\n",
        "\n",
        "**Caveat(s)/comment(s)/hint(s):**\n",
        "1. The list of dictionaries passed into the function may have voters from multiple years, but the function should only return the oldest and youngest voters overall.\n",
        "\n",
        "2. Ensure that your data types are correct, as the data types input may not always be the same as what you need to output.\n",
        "\n"
      ]
    },
    {
      "cell_type": "code",
      "execution_count": null,
      "id": "1e033e43-3aba-4301-93c0-d68ffadca394",
      "metadata": {
        "id": "1e033e43-3aba-4301-93c0-d68ffadca394"
      },
      "outputs": [],
      "source": [
        "# Run this cell, to populate the demo data for the student to work with\n",
        "voters_list = voters\n",
        "voters_list_ex3_demo = voters[0:100]"
      ]
    },
    {
      "cell_type": "markdown",
      "id": "6cea9c4b-5511-45c9-a865-3445ea525bbf",
      "metadata": {
        "id": "6cea9c4b-5511-45c9-a865-3445ea525bbf"
      },
      "source": [
        "#### A properly-coded function will return the following tuple, for the demo data:\n",
        "\n",
        "[('Herbie Hancock', '2020', '80'), ('Britney Spears', '2003', '22')]"
      ]
    },
    {
      "cell_type": "markdown",
      "id": "d2ed2c0a-84b7-4c1f-ac5b-43c0bfe0de3a",
      "metadata": {
        "id": "d2ed2c0a-84b7-4c1f-ac5b-43c0bfe0de3a"
      },
      "source": [
        "#### For the entire list,  a properly-coded function would return the following list:\n",
        "\n",
        "[('Pete Seeger', '2003', '84'), ('Billie Eilish', '2020', '19')]"
      ]
    },
    {
      "cell_type": "code",
      "execution_count": null,
      "id": "1b279658",
      "metadata": {
        "id": "1b279658"
      },
      "outputs": [],
      "source": [
        "### Exercise 3 solution -- 2 points ###\n",
        "def oldest_and_youngest_voter(voters_list):\n",
        "    # provide staring variable values for min and max ages\n",
        "    min_age = 100\n",
        "    max_age = 0\n",
        "    ### BEGIN SOLUTION\n",
        "    for voter in voters_list:\n",
        "#         print(voter)\n",
        "        if voter['Age_at_Vote'] != 'N/A':\n",
        "            if int(voter['Age_at_Vote']) < min_age:\n",
        "                min_tuple = (voter['Voter'],voter['Year'],voter['Age_at_Vote'])\n",
        "                min_age = int(voter['Age_at_Vote'])\n",
        "            if int(voter['Age_at_Vote']) > max_age:\n",
        "                max_tuple = (voter['Voter'],voter['Year'],voter['Age_at_Vote'])\n",
        "                max_age = int(voter['Age_at_Vote'])\n",
        "\n",
        "    return [max_tuple,min_tuple]\n",
        "    ### END SOLUTION\n",
        "\n",
        "### demo function call ###\n",
        "# result_full = oldest_and_youngest_voter(voters)\n",
        "# display(result_full)\n",
        "### demo function call ###\n",
        "result_demo3 = oldest_and_youngest_voter(voters_list_ex3_demo)\n",
        "display(result_demo3)"
      ]
    },
    {
      "cell_type": "code",
      "execution_count": null,
      "id": "15177255-43e8-4306-b885-46782fc5bf12",
      "metadata": {
        "id": "15177255-43e8-4306-b885-46782fc5bf12"
      },
      "outputs": [],
      "source": [
        "# test cell\n",
        "# Run this cell to test if your code is correct\n",
        "voters_list_3a = voters_list[50:150]\n",
        "assert oldest_and_youngest_voter(voters_list_3a) == [('Herbie Hancock', '2020', '80'), ('Lindsey Jordan', '2020', '21')], \"Your function does not return the correct voters in the first test data set.\"\n",
        "voters_list_3b = voters_list[151:250]\n",
        "assert oldest_and_youngest_voter(voters_list_3b) == [('Eric Burdon', '2020', '79'), ('Faye Webster', '2020', '23')], \"Your function does not return the correct voters in the second test data set.\"\n",
        "voters_list_3c = voters_list[251:350]\n",
        "assert oldest_and_youngest_voter(voters_list_3c) == [('Adam White', '2020', '72'), ('Suzy Exposito', '2020', '20')], \"Your function does not return the correct voters in the third test data set.\"\n",
        "print(\"Passed\")"
      ]
    },
    {
      "cell_type": "markdown",
      "id": "95f3ff65-2f6d-462e-851c-18c90512c4c6",
      "metadata": {
        "id": "95f3ff65-2f6d-462e-851c-18c90512c4c6"
      },
      "source": [
        "### One of the criticisms of the first two lists is that they were limited in their selections of artists and albums.\n",
        "\n",
        "One method of validating/refuting this criticism is to determine how many albums were in the 2020 list, that were not in the 2003 list, but were release prior to 2003. That is what the below exercise will determine.\n",
        "\n",
        "A further analysis of this exercise might be to do a gender/race/album genre analysis to determine if there are patterns to the previously excluded albums. We will not do that here, but that would be the next logical extension of this exercise."
      ]
    },
    {
      "cell_type": "markdown",
      "id": "271f9875-a126-4e43-866c-bf7e486f18c2",
      "metadata": {
        "id": "271f9875-a126-4e43-866c-bf7e486f18c2"
      },
      "source": [
        "# Ex. 4 (**2 points**): `albums_2020_released_before_2003` #\n",
        "\n",
        "Given a list of dictionaries, `albums_2020_released_before_2003`, complete the function,\n",
        "```python\n",
        "def albums_2020_released_before_2003(voters_list):\n",
        "    ...\n",
        "```\n",
        "so that it returns a tuple:\n",
        "\n",
        "- the first element of the tuple is the number of albums that meet the criteria,\n",
        "- and the second element of the tuple is a list of dictionaries, with each dictionary being an album in the `albums_list` variable that is passed in, that were released prior to 2003, were not in the 2003 list, and were in the 2020 list.\n",
        "- Each dictionary will have 3 key-value pairs:  `Artist Clean Name`, `Album Name`, `Year Released`, in that order within the dictionary.\n",
        "\n",
        "**Input:**\n",
        "- A list of dictionaries, `albums_list`. It will have the same format as the `albums` variable above. For testing, it may or may not contain all of the values in the variable, so your code must account for a different number of albums to be in your input.\n",
        "\n",
        "**Your task:** Copy this list and output the number of albums, and the list of them in the variable.\n",
        "\n",
        "**Output:** Return a tuple, without modifying the input `albums_list`. The first element in the tuple will be the number of albums, and the second element of the tuple will be the list of dictionaries containing the album information.\n",
        "\n",
        "The list of dictionaries must be sorted as follows, all in ascending order:  \n",
        "- `Artist Clean Name`\n",
        "- Break any ties using `Year Released`\n",
        "- Break any further ties using `Album Name`\n",
        "\n",
        "\n",
        "Each dictionary should contain the the following values:\n",
        "- `'Artist Clean Name'` --  String. This is the artist's name, from the `Clean_Name` key.\n",
        "- `'Album Name'` --  String. This is name of the album, from the `Album` key.  \n",
        "- `'Year Released'` -- String. This is the year that the album was released, from the `Release_Year` key.\n",
        "\n",
        "**Caveat(s)/comment(s)/hint(s):**\n",
        "1. The list of dictionaries passed into the function may have albums from multiple years, but you only want the ones relevant to the `2003` and `2020` criteria.\n",
        "\n",
        "2. Ensure that your data types are correct, as the data types input may not always be the same as what you need to output.\n",
        "\n",
        "3. For the entire list of albums, there are `107` which meet this criteria."
      ]
    },
    {
      "cell_type": "code",
      "execution_count": null,
      "id": "fa0c6473-41d5-4b8c-b3a7-5b57ff7649bd",
      "metadata": {
        "id": "fa0c6473-41d5-4b8c-b3a7-5b57ff7649bd"
      },
      "outputs": [],
      "source": [
        "# Run this cell, to populate the demo data for the student to work with\n",
        "albums_list = albums\n",
        "albums_list_ex4_demo = albums[15:20]"
      ]
    },
    {
      "cell_type": "markdown",
      "id": "889f354c-4c1f-4efe-8d6c-e7348330547a",
      "metadata": {
        "id": "889f354c-4c1f-4efe-8d6c-e7348330547a"
      },
      "source": [
        "#### A properly-coded function will return the following tuple, for the demo data:\n",
        "\n",
        "(2,\n",
        "\n",
        " [\n",
        "  {'Artist Clean Name': 'Fiona Apple',\n",
        "   'Album Name': 'When the Pawn...',\n",
        "   'Year Released': '1999'},\n",
        "\n",
        "  {'Artist Clean Name': 'Janet Jackson',\n",
        "   'Album Name': 'Control',\n",
        "   'Year Released': '1986'}\n",
        "   ]\n",
        "   \n",
        "   )"
      ]
    },
    {
      "cell_type": "code",
      "execution_count": null,
      "id": "4a7c7b24",
      "metadata": {
        "id": "4a7c7b24"
      },
      "outputs": [],
      "source": [
        "### Exercise 4 solution -- 2 points ###\n",
        "def albums_2020_released_before_2003(albums_list):\n",
        "    ### BEGIN SOLUTION\n",
        "    album_count = 0\n",
        "    working_dict = {}\n",
        "    ret_list = []\n",
        "    for album in albums_list:\n",
        "#         print(album)\n",
        "        if album['2020_Rank'] != '': # is the album in the 2020 list?\n",
        "            if album['2003_Rank'] == '': # the album is not in the 2003 list\n",
        "                if int(album['Release_Year']) < 2003:  # released before 2003\n",
        "                    album_count += 1\n",
        "                    working_dict['Artist Clean Name'] = album['Clean_Name']\n",
        "                    working_dict['Album Name'] = album['Album']\n",
        "                    working_dict['Year Released'] = album['Release_Year']\n",
        "                    ret_list.append(working_dict)\n",
        "                    working_dict = dict()\n",
        "\n",
        "    ret_list = sorted(ret_list, key=lambda x: (x['Artist Clean Name'],x['Year Released'],x['Album Name']))\n",
        "\n",
        "    ret_tuple = (album_count,ret_list)\n",
        "    return ret_tuple\n",
        "    ### END SOLUTION\n",
        "\n",
        "### demo function call ###\n",
        "# result_full = albums_2020_released_before_2003(albums)\n",
        "# display(result_full)\n",
        "### demo function call ###\n",
        "result = albums_2020_released_before_2003(albums_list_ex4_demo)\n",
        "display(result)"
      ]
    },
    {
      "cell_type": "code",
      "execution_count": null,
      "id": "82125eaa-4d91-495d-be66-989701b0bb36",
      "metadata": {
        "id": "82125eaa-4d91-495d-be66-989701b0bb36"
      },
      "outputs": [],
      "source": [
        "# test cell\n",
        "# Run this cell to test if your code is correct\n",
        "albums_list_4a = albums_list[11:28]\n",
        "assert albums_2020_released_before_2003(albums_list_4a) == (7, [{'Artist Clean Name': 'Aretha Franklin', 'Album Name': 'Amazing Grace', 'Year Released': '1972'}, {'Artist Clean Name': 'Erykah Badu', 'Album Name': 'Baduizm', 'Year Released': '1997'}, {'Artist Clean Name': 'Erykah Badu', 'Album Name': \"Mama's Gun\", 'Year Released': '2000'}, {'Artist Clean Name': 'Fiona Apple', 'Album Name': 'When the Pawn...', 'Year Released': '1999'}, {'Artist Clean Name': 'Janet Jackson', 'Album Name': 'Control', 'Year Released': '1986'}, {'Artist Clean Name': 'Joni Mitchell', 'Album Name': 'Hejira', 'Year Released': '1976'}, {'Artist Clean Name': 'Missy Elliott', 'Album Name': 'Supa Dupa Fly', 'Year Released': '1997'}]), \"Your function does not return the correct voters in the first test data set.\"\n",
        "albums_list_4b = albums_list[151:250]\n",
        "assert albums_2020_released_before_2003(albums_list_4b) == (4, [{'Artist Clean Name': 'A Tribe Called Quest', 'Album Name': 'Midnight Marauders', 'Year Released': '1993'}, {'Artist Clean Name': \"D'Angelo\", 'Album Name': 'Brown Sugar', 'Year Released': '1995'}, {'Artist Clean Name': 'Ice Cube', 'Album Name': \"AmeriKKKa's Most Wanted\", 'Year Released': '1990'}, {'Artist Clean Name': 'Leonard Cohen', 'Album Name': 'Songs of Love and Hate', 'Year Released': '1970'}]), \"Your function does not return the correct voters in the second test data set.\"\n",
        "albums_list_4c = albums_list[351:375]\n",
        "assert albums_2020_released_before_2003(albums_list_4c) == (5, [{'Artist Clean Name': 'Isaac Hayes', 'Album Name': 'Hot Buttered Soul', 'Year Released': '1969'}, {'Artist Clean Name': 'Luther Vandross', 'Album Name': 'Never Too Much', 'Year Released': '1981'}, {'Artist Clean Name': 'Mobb Deep', 'Album Name': 'The Infamous', 'Year Released': '1995'}, {'Artist Clean Name': 'Neutral Milk Hotel', 'Album Name': 'In the Aeroplane Over the Sea', 'Year Released': '1998'}, {'Artist Clean Name': 'Rush', 'Album Name': 'Moving Pictures', 'Year Released': '1981'}]), \"Your function does not return the correct voters in the third test data set.\"\n",
        "print(\"Passed\")"
      ]
    },
    {
      "cell_type": "code",
      "execution_count": null,
      "id": "bc8b08ad-203b-464f-861d-b60798d65870",
      "metadata": {
        "id": "bc8b08ad-203b-464f-861d-b60798d65870"
      },
      "outputs": [],
      "source": []
    }
  ],
  "metadata": {
    "celltoolbar": "Edit Metadata",
    "hide_input": false,
    "interpreter": {
      "hash": "f2b38b6e01547e8f771d473ea2b8718fd0728eea782e4c924ed8783f739d4a6c"
    },
    "kernelspec": {
      "display_name": "Python 3 (ipykernel)",
      "language": "python",
      "name": "python3"
    },
    "language_info": {
      "codemirror_mode": {
        "name": "ipython",
        "version": 3
      },
      "file_extension": ".py",
      "mimetype": "text/x-python",
      "name": "python",
      "nbconvert_exporter": "python",
      "pygments_lexer": "ipython3",
      "version": "3.12.7"
    },
    "toc": {
      "base_numbering": 1,
      "nav_menu": {},
      "number_sections": false,
      "sideBar": true,
      "skip_h1_title": false,
      "title_cell": "Table of Contents",
      "title_sidebar": "Contents",
      "toc_cell": false,
      "toc_position": {
        "height": "calc(100% - 180px)",
        "left": "10px",
        "top": "150px",
        "width": "247px"
      },
      "toc_section_display": true,
      "toc_window_display": true
    },
    "colab": {
      "provenance": [],
      "include_colab_link": true
    }
  },
  "nbformat": 4,
  "nbformat_minor": 5
}