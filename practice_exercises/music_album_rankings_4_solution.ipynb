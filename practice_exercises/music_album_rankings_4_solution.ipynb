{
 "cells": [
  {
   "cell_type": "markdown",
   "id": "5dda78ce",
   "metadata": {
    "nbgrader": {
     "grade": false,
     "locked": true,
     "solution": false
    },
    "tags": [
     "notebook_header"
    ]
   },
   "source": [
    "# Bootcamp Practice Notebooks:  Music Album Rankings Analysis\n",
    "\n",
    "## Notebook 4:  Data Cleaning and Initial Analysis"
   ]
  },
  {
   "cell_type": "markdown",
   "id": "4d58b4a0",
   "metadata": {
    "nbgrader": {
     "grade": false,
     "locked": true,
     "solution": false
    },
    "tags": [
     "topic_intro"
    ]
   },
   "source": [
    " # Overview: Music Album Rankings #\n",
    "\n",
    "`Rolling Stone` magazine is an American monthly magazine that focuses on music, politics, and popular culture. It was founded in San Francisco, California in 1967 and still publishes monthly to this day. The magazine is known for its coverage of music, entertainment, and politics.\n",
    "\n",
    "In 2003, the magazine released its `“500 Greatest Albums of All Time,”` placing the Beatles’ “Sgt. Pepper’s Lonely Hearts Club Band” in the top slot. It has since released two additional `\"500 Greatest\"` lists, in 2012 and 2020. While not necessary for this analysis, to gain a full understanding of these rankings, see this Wikipedia article:  https://en.wikipedia.org/wiki/Rolling_Stone%27s_500_Greatest_Albums_of_All_Time\n",
    "\n"
   ]
  },
  {
   "cell_type": "markdown",
   "id": "438ee3df",
   "metadata": {
    "nbgrader": {
     "grade": false,
     "locked": true,
     "solution": false
    }
   },
   "source": [
    "# Setup and Data Load\n",
    "\n",
    "To get started, run the following code cells. They will load the data files and populate the `voters` and `albums` datasets that you will be working with."
   ]
  },
  {
   "cell_type": "code",
   "execution_count": null,
   "id": "343c2fad-cad9-4010-9b51-9011056783b8",
   "metadata": {},
   "outputs": [],
   "source": [
    "!wget https://github.com/gt-cse-6040/bootcamp/raw/main/practice_exercises/voters.json\n",
    "!wget https://github.com/gt-cse-6040/bootcamp/raw/main/practice_exercises/Rolling_Stone_500_public.json"
   ]
  },
  {
   "cell_type": "code",
   "execution_count": null,
   "id": "13a71351",
   "metadata": {},
   "outputs": [],
   "source": [
    "import json\n",
    "\n",
    "with open(\"voters.json\", \"r\") as read_file:\n",
    "    voters = json.load(read_file)\n",
    "read_file.close()\n",
    "\n",
    "with open(\"Rolling_Stone_500_public.json\", \"r\") as read_file:\n",
    "    albums = json.load(read_file)\n",
    "read_file.close()"
   ]
  },
  {
   "cell_type": "markdown",
   "id": "592b5ac7-6669-4d98-9d2d-7f74edfb75b0",
   "metadata": {},
   "source": [
    "# Ex. 5 (**2 points**): `genre_mix_by_year` #\n",
    "\n",
    "Given a list of dictionaries, `albums_list`, complete the function,\n",
    "```python\n",
    "def genre_mix_by_year(albums_list):\n",
    "    ...\n",
    "```\n",
    "so that it returns a dictionary of sorted dictionaries of the music genres for the albums in the `albums_list` variable that is passed in. \n",
    "\n",
    "The key of the main dictionary is the year, and the value of each year is a sorted dictionary in which the key is the genre and the value is the number of albums of that genre for that year. \n",
    "\n",
    "The genre/values dictionary is to be sorted in descending order by value, with ties broken by genre in ascending order.\n",
    "\n",
    "**Input:** \n",
    "- A list of dictionaries, `albums_list`. It will have the same format as the `albums` variable above. For testing, it may or may not contain all of the values in the variable, so your code must account for a different number of albums to be in your input.\n",
    "\n",
    "**Your task:** Copy this list and output the dictionary of sorted dictionaries.\n",
    "\n",
    "**Output:** Return a dictionary of sorted dictionaries of the music genres for the albums in the `albums_list` variable that is passed in, without modifying the input `albums_list`. \n",
    "\n",
    "Each entry of the main/outer dictionary should contain the the following key-value pairs:\n",
    "- Key = `'Year'`. String. There will be up to 3 keys in the main dictionary, one for each year. Depending on the data, there may not be any albums for a particular year.\n",
    "- Value = Sorted dictionary as defined below.\n",
    "\n",
    "Each entry of the sorted dictionary should contain the the following key-value pairs:\n",
    "- Key = `'Album_Genre'`. String. The genre name should be converted to lower case before being counted.\n",
    "- Value = Integer. Count of the number of albums of that (all lower case) genre.\n",
    "- This dictionary should be sorted by the value (count) in descending order, with ties broken by the key (lower case genre) in ascending order.\n",
    "\n",
    "**Caveat(s)/comment(s)/hint(s):**\n",
    "1. The list of dictionaries passed into the function will be smaller than the entire list of albums.\n",
    "\n",
    "2. Ensure that your data types are correct, as the data types input may not always be the same as what you need to output.\n",
    "\n",
    "3. For some albums, the `Album_Genre` value is an empty string. For these, substitute the value `unknown`.\n",
    "\n",
    "4. Note that many albums appear in the list for multiple years. So while the demo data may only have 10 unique albums, the total count of all of the years (summed together) may exceed 10, as the album genres are counted in those multiple years.\n",
    "\n",
    "5. Using the defaultdict function is one possible way to solve the exercise."
   ]
  },
  {
   "cell_type": "code",
   "execution_count": null,
   "id": "e8c0e98d-939d-4d22-b947-47a49dc38aad",
   "metadata": {},
   "outputs": [],
   "source": [
    "# Run this cell, to populate the demo data for the student to work with\n",
    "albums_list = albums\n",
    "albums_list_ex5_demo = albums[10:20]"
   ]
  },
  {
   "cell_type": "markdown",
   "id": "bacb3003-0e7c-4948-8fea-b39bd4804927",
   "metadata": {},
   "source": [
    "#### A properly-coded function will return the following dictionary, for the demo data:\n",
    "\n",
    "{'2003': {'big band/jazz': 2, 'blues/blues rock': 1, 'unknown': 1},\n",
    " \n",
    " '2012': {'big band/jazz': 2, 'blues/blues rock': 1, 'unknown': 1},\n",
    " \n",
    " '2020': {'big band/jazz': 2,\n",
    "  'soul/gospel/r&b': 2,\n",
    "  'blues/blues rock': 1,\n",
    "  'country/folk/country rock/folk rock': 1,\n",
    "  'hip-hop/rap': 1,\n",
    "  'indie/alternative rock': 1,\n",
    "  'unknown': 1}}"
   ]
  },
  {
   "cell_type": "markdown",
   "id": "e8979c60-c81c-4776-8fc8-1f5acbaf9984",
   "metadata": {},
   "source": [
    "#### For the entire albums data set, the largest genre in each year is `unknown`, with 125 in 2003, 117 in 2010 and 110 in 2020.\n",
    "\n",
    "#### The second most genre is the same in 2003/2010, with `punk/post-punk/new wave/power pop` having 71 in 2003 and 70 in 2010.\n",
    "\n",
    "#### The second most genre in 2020 is `soul/gospel/r&b`, with 65."
   ]
  },
  {
   "cell_type": "code",
   "execution_count": null,
   "id": "9db30365",
   "metadata": {},
   "outputs": [],
   "source": [
    "### Exercise 5 solution -- 2 points ###\n",
    "def genre_mix_by_year(albums_list):\n",
    "    ### BEGIN SOLUTION\n",
    "    from collections import defaultdict\n",
    "    dict_2003 = defaultdict(int)\n",
    "    dict_2012 = defaultdict(int)\n",
    "    dict_2020 = defaultdict(int)\n",
    "    ret_dict = dict()\n",
    "    \n",
    "    for album in albums_list:\n",
    "#         print(album)\n",
    "        if album['Album_Genre'] == '':\n",
    "            album['Album_Genre'] = 'unknown'\n",
    "        if album['2003_Rank'] != '': # is the album in the 2003 list?\n",
    "            dict_2003[album['Album_Genre'].lower()] += 1\n",
    "        if album['2012_Rank'] != '': # is the album in the 2012 list?\n",
    "            dict_2012[album['Album_Genre'].lower()] += 1\n",
    "        if album['2020_Rank'] != '': # is the album in the 2020 list?\n",
    "            dict_2020[album['Album_Genre'].lower()] += 1\n",
    "    \n",
    "    ret_dict['2003'] = dict(sorted(dict_2003.items(), key = lambda x: (-x[1], x[0])))\n",
    "    ret_dict['2012'] = dict(sorted(dict_2012.items(), key = lambda x: (-x[1], x[0])))\n",
    "    ret_dict['2020'] = dict(sorted(dict_2020.items(), key = lambda x: (-x[1], x[0])))\n",
    "    return ret_dict\n",
    "    ### END SOLUTION\n",
    "\n",
    "### demo function call ###\n",
    "# result_full_5 = genre_mix_by_year(albums)\n",
    "# display(result_full_5)\n",
    "### demo function call ###\n",
    "result5 = genre_mix_by_year(albums_list_ex5_demo)\n",
    "display(result5)\n",
    "assert result5 == {'2003': {'big band/jazz': 2, 'blues/blues rock': 1, 'unknown': 1},\n",
    " '2012': {'big band/jazz': 2, 'blues/blues rock': 1, 'unknown': 1},\n",
    " '2020': {'big band/jazz': 2,\n",
    "  'soul/gospel/r&b': 2,\n",
    "  'blues/blues rock': 1,\n",
    "  'country/folk/country rock/folk rock': 1,\n",
    "  'hip-hop/rap': 1,\n",
    "  'indie/alternative rock': 1,\n",
    "  'unknown': 1}}, 'Demo data does not pass.'\n",
    "print('passed demo data')"
   ]
  },
  {
   "cell_type": "code",
   "execution_count": null,
   "id": "2ba3b23c-de00-4854-abec-b8b18b18a97c",
   "metadata": {},
   "outputs": [],
   "source": [
    "# test cell\n",
    "# Run this cell to test if your code is correct\n",
    "albums_list_5a = albums_list[1:100]\n",
    "assert genre_mix_by_year(albums_list_5a) == {'2003': {'blues/blues rock': 10, 'unknown': 8, 'big band/jazz': 7, \"rock n' roll/rhythm & blues\": 5, 'soul/gospel/r&b': 5, 'country/folk/country rock/folk rock': 3, 'funk/disco': 1}, '2012': {'blues/blues rock': 9, 'big band/jazz': 7, 'unknown': 7, 'soul/gospel/r&b': 6, \"rock n' roll/rhythm & blues\": 5, 'country/folk/country rock/folk rock': 3, 'funk/disco': 1, 'indie/alternative rock': 1, 'punk/post-punk/new wave/power pop': 1}, '2020': {'soul/gospel/r&b': 22, 'unknown': 21, 'country/folk/country rock/folk rock': 11, 'big band/jazz': 6, 'indie/alternative rock': 5, \"rock n' roll/rhythm & blues\": 4, 'blues/blues rock': 3, 'electronic': 3, 'funk/disco': 3, 'latin': 3, 'punk/post-punk/new wave/power pop': 2, 'hip-hop/rap': 1}}, \"Your function does not return the correct voters in the first test data set.\"\n",
    "albums_list_5b = albums_list[151:250]\n",
    "assert genre_mix_by_year(albums_list_5b) == {'2003': {'unknown': 25, 'blues/blues rock': 21, 'country/folk/country rock/folk rock': 10, 'hard rock/metal': 7, 'punk/post-punk/new wave/power pop': 7, 'soul/gospel/r&b': 5, 'funk/disco': 4, 'singer-songwriter/heartland rock': 4, 'big band/jazz': 1, \"rock n' roll/rhythm & blues\": 1}, '2012': {'unknown': 21, 'blues/blues rock': 19, 'country/folk/country rock/folk rock': 11, 'hard rock/metal': 7, 'punk/post-punk/new wave/power pop': 7, 'soul/gospel/r&b': 5, 'funk/disco': 4, 'hip-hop/rap': 4, 'singer-songwriter/heartland rock': 3, 'big band/jazz': 1, \"rock n' roll/rhythm & blues\": 1}, '2020': {'unknown': 14, 'blues/blues rock': 13, 'country/folk/country rock/folk rock': 10, 'hip-hop/rap': 10, 'hard rock/metal': 6, 'punk/post-punk/new wave/power pop': 6, 'soul/gospel/r&b': 6, 'funk/disco': 4, 'singer-songwriter/heartland rock': 2, 'big band/jazz': 1, \"rock n' roll/rhythm & blues\": 1}}, \"Your function does not return the correct voters in the second test data set.\"\n",
    "albums_list_5c = albums_list[251:375]\n",
    "assert genre_mix_by_year(albums_list_5c) == {'2003': {'unknown': 31, 'soul/gospel/r&b': 11, 'singer-songwriter/heartland rock': 10, 'country/folk/country rock/folk rock': 7, 'punk/post-punk/new wave/power pop': 7, 'funk/disco': 5, 'reggae': 5, 'hard rock/metal': 4, 'blues/blues rock': 3}, '2012': {'unknown': 30, 'soul/gospel/r&b': 11, 'singer-songwriter/heartland rock': 9, 'country/folk/country rock/folk rock': 8, 'punk/post-punk/new wave/power pop': 7, 'funk/disco': 5, 'reggae': 5, 'hard rock/metal': 4, 'blues/blues rock': 3, 'hip-hop/rap': 1, 'indie/alternative rock': 1}, '2020': {'unknown': 23, 'hip-hop/rap': 14, 'soul/gospel/r&b': 12, 'punk/post-punk/new wave/power pop': 8, 'country/folk/country rock/folk rock': 7, 'indie/alternative rock': 6, 'singer-songwriter/heartland rock': 6, 'funk/disco': 4, 'hard rock/metal': 4, 'reggae': 3, 'electronic': 2, 'big band/jazz': 1}}, \"Your function does not return the correct voters in the third test data set.\"\n",
    "print(\"Passed\")"
   ]
  },
  {
   "cell_type": "markdown",
   "id": "a13a3f11-5d74-4cb3-b6b1-276fe407de35",
   "metadata": {},
   "source": [
    "# Ex. 6 (**2 points**): `voter_gender_metrics` #\n",
    "\n",
    "Given a list of dictionaries, `voters_list`, complete the function,\n",
    "```python\n",
    "def voter_gender_metrics(voters_list, year):\n",
    "    ...\n",
    "```\n",
    "so that it returns a list of sorted dictionaries of the gender mix of the `voters_list` variable that is passed in, for that year. \n",
    "\n",
    "The genre/values dictionary is to be sorted in descending order by `COUNT`, which is the integer count of the number of each gender.\n",
    "\n",
    "**Input:** \n",
    "- A list of dictionaries, `voters_list`. It will have the same format as the `albums` variable above. For testing, it may or may not contain all of the values in the variable, so your code must account for a different number of albumss to be in your input.\n",
    "\n",
    "**Your task:** Copy this list and output the list of sorted dictionaries.\n",
    "\n",
    "**Output:** Return a list of sorted dictionaries of the voter genders in the `voters_list` variable that is passed in, without modifying the input `voters_list`. \n",
    "\n",
    "Each entry of the sorted dictionary should contain the the following key-value pairs:\n",
    "- `'YEAR'`. String. The year that the voter participated in the list.\n",
    "- `'GENDER'`. String. The gender of the voters who participated in the list.\n",
    "- `'COUNT'`. Integer. The count of that gender.\n",
    "- `'PERCENT'`. Float. The percent of the total voters for that year for that gender. Round to one decimal place (for example `65.6`)\n",
    "\n",
    "- This list of dictionaries should be sorted by `COUNT` in descending order.\n",
    "\n",
    "**Caveat(s)/comment(s)/hint(s):**\n",
    "1. The list of dictionaries passed into the function will be the entire list of voters, for the both the demo and test cases.\n",
    "\n",
    "2. Ensure that your data types are correct, as the data types input may not always be the same as what you need to output.\n",
    "\n",
    "3. For some voters, they chose not to disclose their gender, or their gender was in transition at the vote time.  For these, the first 3 characters of the `'Pronouns/Gender'` value is `n/a`. Do not count these voters.\n",
    "\n",
    "4. Note that the `voters` data set only has a listing of the voters for 2003 and 2020. The voters were not tabulated in this manner for 2012. As such, your test data will be the data from 2003, and the test will be on the 2020 list of voters.\n",
    "\n",
    "5. Using the Counter function may be helpful in solving the exercise."
   ]
  },
  {
   "cell_type": "code",
   "execution_count": null,
   "id": "fb937bda-f5b8-4759-8a1c-1c5093b1de14",
   "metadata": {},
   "outputs": [],
   "source": [
    "# Run this cell, to populate the demo data for the student to work with\n",
    "voters_list = voters\n",
    "voters_list_ex6_demo = voters_list"
   ]
  },
  {
   "cell_type": "markdown",
   "id": "8c03a94d-97ee-4f70-9193-ffc1c8eaa709",
   "metadata": {},
   "source": [
    "### The demo data will use the entire voters list, for the year `2003`.\n",
    "\n",
    "#### A properly-coded function will return the following dictionary, for the demo data:\n",
    "\n",
    "[{'YEAR': '2003', 'GENDER': 'man', 'COUNT': 242, 'PERCENT': 90.3},\n",
    "\n",
    " {'YEAR': '2003', 'GENDER': 'woman', 'COUNT': 26, 'PERCENT': 9.7}]"
   ]
  },
  {
   "cell_type": "code",
   "execution_count": null,
   "id": "ac652fcb",
   "metadata": {},
   "outputs": [],
   "source": [
    "### Exercise 6 solution -- harder 2 points, could be an easier 3 point exercise ###\n",
    "def voter_gender_metrics(voter_list,year):\n",
    "    '''\n",
    "    Compute:\n",
    "        0. Year\n",
    "        1. Count of gender\n",
    "        2. Gender percent of total\n",
    "        3. Sort the genders\n",
    "    ''' \n",
    "    \n",
    "    ##BEGIN SOLUTION\n",
    "    from collections import Counter\n",
    "    # initialize return and working variables\n",
    "    return_list = []\n",
    "    working_dict = dict()\n",
    "    count = []\n",
    "    gender = []\n",
    "    working_list = []\n",
    "    \n",
    "    # working copies of the input variables\n",
    "    working_list = voter_list\n",
    "    str_year = str(year) # note the conversion from integer to string\n",
    "    \n",
    "    # clean the data, remove 'n/a'\n",
    "    working_list = [ele for ele in working_list if ele['Pronouns/Gender'][0:3] != 'n/a']\n",
    "    \n",
    "    # get total count and gender count\n",
    "    for sub in working_list:\n",
    "        if sub['Year'] == str_year:\n",
    "            gender.append(sub['Pronouns/Gender'])\n",
    "            count.append(sub['Year'])\n",
    "                \n",
    "    count = dict(Counter(count))\n",
    "    gender = dict(Counter(gender))\n",
    "    \n",
    "#     put each dict to return together\n",
    "    for key, value in gender.items():\n",
    "        working_dict['YEAR'] = str_year\n",
    "        working_dict['GENDER'] = key\n",
    "        working_dict['COUNT'] = int(value)\n",
    "        working_dict['PERCENT'] = round((100* value / count[str_year]),1)\n",
    "        # append the dict to the return list\n",
    "        return_list.append(working_dict)\n",
    "        # initialize/clear out the working dict again\n",
    "        working_dict = dict()\n",
    "        \n",
    "    # sort the list\n",
    "    return_list = sorted(return_list, key = lambda x: x['COUNT'], reverse=True) \n",
    "    \n",
    "    return return_list\n",
    "\n",
    "# test with full data set for 2003\n",
    "result6 = voter_gender_metrics(voters_list_ex6_demo,2003)\n",
    "display(result6)\n",
    "assert result6 == [{'YEAR': '2003', 'GENDER': 'man', 'COUNT': 242, 'PERCENT': 90.3},\n",
    " {'YEAR': '2003', 'GENDER': 'woman', 'COUNT': 26, 'PERCENT': 9.7}], 'Demo data does not pass.'\n",
    "print('passed demo data')"
   ]
  },
  {
   "cell_type": "code",
   "execution_count": null,
   "id": "545444e8-e945-4340-a20f-bfeca8afeb5e",
   "metadata": {},
   "outputs": [],
   "source": [
    "# test cell\n",
    "# Run this cell to test if your code is correct\n",
    "voters_list_6a = voters_list\n",
    "assert voter_gender_metrics(voters_list_6a,2020) == [{'YEAR': '2020', 'GENDER': 'man', 'COUNT': 256, 'PERCENT': 76.2}, {'YEAR': '2020', 'GENDER': 'woman', 'COUNT': 73, 'PERCENT': 21.7}, {'YEAR': '2020', 'GENDER': 'mixed gender group', 'COUNT': 4, 'PERCENT': 1.2}, {'YEAR': '2020', 'GENDER': 'non-binary', 'COUNT': 3, 'PERCENT': 0.9}], \"Your function does not return the correct voters in the 2020 data set.\"\n",
    "print(\"Passed\")"
   ]
  },
  {
   "cell_type": "code",
   "execution_count": null,
   "id": "a1067b87-d262-47e1-a7fe-24e9286f16ee",
   "metadata": {},
   "outputs": [],
   "source": []
  }
 ],
 "metadata": {
  "celltoolbar": "Edit Metadata",
  "hide_input": false,
  "interpreter": {
   "hash": "f2b38b6e01547e8f771d473ea2b8718fd0728eea782e4c924ed8783f739d4a6c"
  },
  "kernelspec": {
   "display_name": "Python 3 (ipykernel)",
   "language": "python",
   "name": "python3"
  },
  "language_info": {
   "codemirror_mode": {
    "name": "ipython",
    "version": 3
   },
   "file_extension": ".py",
   "mimetype": "text/x-python",
   "name": "python",
   "nbconvert_exporter": "python",
   "pygments_lexer": "ipython3",
   "version": "3.12.7"
  },
  "toc": {
   "base_numbering": 1,
   "nav_menu": {},
   "number_sections": false,
   "sideBar": true,
   "skip_h1_title": false,
   "title_cell": "Table of Contents",
   "title_sidebar": "Contents",
   "toc_cell": false,
   "toc_position": {
    "height": "calc(100% - 180px)",
    "left": "10px",
    "top": "150px",
    "width": "247px"
   },
   "toc_section_display": true,
   "toc_window_display": true
  }
 },
 "nbformat": 4,
 "nbformat_minor": 5
}
