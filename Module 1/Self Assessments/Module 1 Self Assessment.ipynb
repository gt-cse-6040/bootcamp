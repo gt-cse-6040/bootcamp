{
  "cells": [
    {
      "cell_type": "markdown",
      "metadata": {
        "id": "view-in-github",
        "colab_type": "text"
      },
      "source": [
        "<a href=\"https://colab.research.google.com/github/gt-cse-6040/bootcamp/blob/main/Module%201/Self%20Assessments/Module%201%20Self%20Assessment.ipynb\" target=\"_parent\"><img src=\"https://colab.research.google.com/assets/colab-badge.svg\" alt=\"Open In Colab\"/></a>"
      ]
    },
    {
      "cell_type": "markdown",
      "id": "669a3dc4",
      "metadata": {
        "nbgrader": {
          "grade": false,
          "locked": true,
          "solution": false
        },
        "tags": [
          "notebook_header"
        ],
        "id": "669a3dc4"
      },
      "source": [
        "# Self-Assessment for Module 1\n",
        "Module 1 in this course focuses on your ability to manipulate and analyze data using Pandas, SQL, and Numpy. Use this assessment to test your existing knowledge. You should be able to complete all five exercises within 90 minutes.\n",
        "\n",
        "If you are unable to complete the exercises within 90 minutes, strongly consider attending the Module 1 Bootcamp sessions we offer. They will build the skills necessary to succeed within the second half of the course.\n",
        "\n",
        "When you are ready, start a [countdown timer](https://www.youtube.com/watch?v=IG9o_I96Y78). Let's get to coding!\n"
      ]
    },
    {
      "cell_type": "markdown",
      "id": "c95b9643",
      "metadata": {
        "nbgrader": {
          "grade": false,
          "locked": true,
          "solution": false
        },
        "tags": [
          "topic_intro"
        ],
        "id": "c95b9643"
      },
      "source": [
        "# Overview: Exam Analysis #\n",
        "\n",
        "An instructor for another course has asked you to help analyze some of their exam data. The exams were completed electronically, in a format somewhat similar to our class's:\n",
        "\n",
        "- The class has multiple exams, named `'exam1'`, `'exam2'`, and so on. Exams were timed, but with different time limits for each exam.\n",
        "- Each exam consisted of multiple \"milestones\" (or \"problems\"). There were different numbers of problems for each exam, and different problems can be worth different numbers of points. (Thus, the total points on different exams could also differ.)\n",
        "- Students were allowed to work on the problems in any order and submit in any order, similar to our exams.\n",
        "\n",
        "The dataset itself has **two** main parts:\n",
        "- The **grades data**, which shows, for each student, exam, and problem, how many points they scored.\n",
        "- The **timing data**, which shows, for each student and problem, when (i.e., at what date and time) the student started the problem and made their last submission thereof.\n"
      ]
    },
    {
      "cell_type": "markdown",
      "id": "fa7ac5b1",
      "metadata": {
        "nbgrader": {
          "grade": false,
          "locked": true,
          "solution": false
        },
        "id": "fa7ac5b1"
      },
      "source": [
        "# Setup #\n",
        "\n",
        "To get started, run the following code cells:"
      ]
    },
    {
      "cell_type": "code",
      "source": [
        "!pip install dill\n",
        "import dill\n",
        "!pip install cryptography\n",
        "!pip install "pandas<2.0.0""
      ],
      "metadata": {
        "colab": {
          "base_uri": "https://localhost:8080/"
        },
        "id": "9RC9UjmvQR0W",
        "outputId": "d22ab365-bc5f-4e28-f4c9-a5b86cf15aa3"
      },
      "id": "9RC9UjmvQR0W",
      "execution_count": 1,
      "outputs": [
        {
          "output_type": "stream",
          "name": "stdout",
          "text": [
            "Collecting dill\n",
            "  Downloading dill-0.3.7-py3-none-any.whl (115 kB)\n",
            "\u001b[2K     \u001b[90m━━━━━━━━━━━━━━━━━━━━━━━━━━━━━━━━━━━━━━━━\u001b[0m \u001b[32m115.3/115.3 kB\u001b[0m \u001b[31m1.1 MB/s\u001b[0m eta \u001b[36m0:00:00\u001b[0m\n",
            "\u001b[?25hInstalling collected packages: dill\n",
            "Successfully installed dill-0.3.7\n",
            "Requirement already satisfied: cryptography in /usr/local/lib/python3.10/dist-packages (41.0.7)\n",
            "Requirement already satisfied: cffi>=1.12 in /usr/local/lib/python3.10/dist-packages (from cryptography) (1.16.0)\n",
            "Requirement already satisfied: pycparser in /usr/local/lib/python3.10/dist-packages (from cffi>=1.12->cryptography) (2.21)\n"
          ]
        }
      ]
    },
    {
      "cell_type": "code",
      "source": [
        "### Import Files\n",
        "\n",
        "!wget https://raw.githubusercontent.com/gt-cse-6040/bootcamp/main/Module%201/Self%20Assessments/resource/asnlib/publicdata/tc_2\n",
        "!wget https://raw.githubusercontent.com/gt-cse-6040/bootcamp/main/Module%201/Self%20Assessments/resource/asnlib/publicdata/tc_5\n",
        "!wget https://raw.githubusercontent.com/gt-cse-6040/bootcamp/main/Module%201/Self%20Assessments/resource/asnlib/publicdata/tc_4\n",
        "\n",
        "!wget https://raw.githubusercontent.com/gt-cse-6040/bootcamp/main/Module%201/Self%20Assessments/resource/asnlib/publicdata/encrypted/tc_2_encrypted\n",
        "!wget https://raw.githubusercontent.com/gt-cse-6040/bootcamp/main/Module%201/Self%20Assessments/resource/asnlib/publicdata/encrypted/tc_5_encrypted\n",
        "!wget https://raw.githubusercontent.com/gt-cse-6040/bootcamp/main/Module%201/Self%20Assessments/resource/asnlib/publicdata/encrypted/tc_4_encrypted\n",
        "\n",
        "!mkdir tester_fw\n",
        "%cd tester_fw\n",
        "\n",
        "!wget https://raw.githubusercontent.com/gt-cse-6040/bootcamp/main/Module%201/Self%20Assessments/tester_fw/__init__.py\n",
        "!wget https://raw.githubusercontent.com/gt-cse-6040/bootcamp/main/Module%201/Self%20Assessments/tester_fw/test_utils.py\n",
        "!wget https://raw.githubusercontent.com/gt-cse-6040/bootcamp/main/Module%201/Self%20Assessments/tester_fw/testers.py\n",
        "\n",
        "%cd ..\n"
      ],
      "metadata": {
        "colab": {
          "base_uri": "https://localhost:8080/"
        },
        "id": "4a7xzwihQaX8",
        "outputId": "6d62cd9c-8fd3-4adf-f9b1-4b5e796120aa"
      },
      "id": "4a7xzwihQaX8",
      "execution_count": 2,
      "outputs": [
        {
          "output_type": "stream",
          "name": "stdout",
          "text": [
            "--2024-01-08 02:00:05--  https://raw.githubusercontent.com/gt-cse-6040/bootcamp/main/Module%201/Self%20Assessments/resource/asnlib/publicdata/tc_2\n",
            "Resolving raw.githubusercontent.com (raw.githubusercontent.com)... 185.199.108.133, 185.199.109.133, 185.199.110.133, ...\n",
            "Connecting to raw.githubusercontent.com (raw.githubusercontent.com)|185.199.108.133|:443... connected.\n",
            "HTTP request sent, awaiting response... 200 OK\n",
            "Length: 246776 (241K) [text/plain]\n",
            "Saving to: ‘tc_2’\n",
            "\n",
            "\rtc_2                  0%[                    ]       0  --.-KB/s               \rtc_2                100%[===================>] 240.99K  --.-KB/s    in 0.03s   \n",
            "\n",
            "2024-01-08 02:00:06 (8.78 MB/s) - ‘tc_2’ saved [246776/246776]\n",
            "\n",
            "--2024-01-08 02:00:06--  https://raw.githubusercontent.com/gt-cse-6040/bootcamp/main/Module%201/Self%20Assessments/resource/asnlib/publicdata/tc_5\n",
            "Resolving raw.githubusercontent.com (raw.githubusercontent.com)... 185.199.108.133, 185.199.109.133, 185.199.111.133, ...\n",
            "Connecting to raw.githubusercontent.com (raw.githubusercontent.com)|185.199.108.133|:443... connected.\n",
            "HTTP request sent, awaiting response... 200 OK\n",
            "Length: 164472 (161K) [text/plain]\n",
            "Saving to: ‘tc_5’\n",
            "\n",
            "tc_5                100%[===================>] 160.62K  --.-KB/s    in 0.02s   \n",
            "\n",
            "2024-01-08 02:00:06 (6.94 MB/s) - ‘tc_5’ saved [164472/164472]\n",
            "\n",
            "--2024-01-08 02:00:06--  https://raw.githubusercontent.com/gt-cse-6040/bootcamp/main/Module%201/Self%20Assessments/resource/asnlib/publicdata/tc_4\n",
            "Resolving raw.githubusercontent.com (raw.githubusercontent.com)... 185.199.108.133, 185.199.109.133, 185.199.110.133, ...\n",
            "Connecting to raw.githubusercontent.com (raw.githubusercontent.com)|185.199.108.133|:443... connected.\n",
            "HTTP request sent, awaiting response... 200 OK\n",
            "Length: 185400 (181K) [text/plain]\n",
            "Saving to: ‘tc_4’\n",
            "\n",
            "tc_4                100%[===================>] 181.05K  --.-KB/s    in 0.02s   \n",
            "\n",
            "2024-01-08 02:00:06 (7.59 MB/s) - ‘tc_4’ saved [185400/185400]\n",
            "\n",
            "--2024-01-08 02:00:06--  https://raw.githubusercontent.com/gt-cse-6040/bootcamp/main/Module%201/Self%20Assessments/resource/asnlib/publicdata/encrypted/tc_2_encrypted\n",
            "Resolving raw.githubusercontent.com (raw.githubusercontent.com)... 185.199.109.133, 185.199.111.133, 185.199.110.133, ...\n",
            "Connecting to raw.githubusercontent.com (raw.githubusercontent.com)|185.199.109.133|:443... connected.\n",
            "HTTP request sent, awaiting response... 200 OK\n",
            "Length: 213324 (208K) [text/plain]\n",
            "Saving to: ‘tc_2_encrypted’\n",
            "\n",
            "tc_2_encrypted      100%[===================>] 208.32K  --.-KB/s    in 0.03s   \n",
            "\n",
            "2024-01-08 02:00:06 (7.98 MB/s) - ‘tc_2_encrypted’ saved [213324/213324]\n",
            "\n",
            "--2024-01-08 02:00:07--  https://raw.githubusercontent.com/gt-cse-6040/bootcamp/main/Module%201/Self%20Assessments/resource/asnlib/publicdata/encrypted/tc_5_encrypted\n",
            "Resolving raw.githubusercontent.com (raw.githubusercontent.com)... 185.199.108.133, 185.199.109.133, 185.199.110.133, ...\n",
            "Connecting to raw.githubusercontent.com (raw.githubusercontent.com)|185.199.108.133|:443... connected.\n",
            "HTTP request sent, awaiting response... 200 OK\n",
            "Length: 158604 (155K) [text/plain]\n",
            "Saving to: ‘tc_5_encrypted’\n",
            "\n",
            "tc_5_encrypted      100%[===================>] 154.89K  --.-KB/s    in 0.02s   \n",
            "\n",
            "2024-01-08 02:00:07 (6.78 MB/s) - ‘tc_5_encrypted’ saved [158604/158604]\n",
            "\n",
            "--2024-01-08 02:00:07--  https://raw.githubusercontent.com/gt-cse-6040/bootcamp/main/Module%201/Self%20Assessments/resource/asnlib/publicdata/encrypted/tc_4_encrypted\n",
            "Resolving raw.githubusercontent.com (raw.githubusercontent.com)... 185.199.108.133, 185.199.109.133, 185.199.110.133, ...\n",
            "Connecting to raw.githubusercontent.com (raw.githubusercontent.com)|185.199.108.133|:443... connected.\n",
            "HTTP request sent, awaiting response... 200 OK\n",
            "Length: 178444 (174K) [text/plain]\n",
            "Saving to: ‘tc_4_encrypted’\n",
            "\n",
            "tc_4_encrypted      100%[===================>] 174.26K  --.-KB/s    in 0.02s   \n",
            "\n",
            "2024-01-08 02:00:07 (7.36 MB/s) - ‘tc_4_encrypted’ saved [178444/178444]\n",
            "\n",
            "/content/tester_fw\n",
            "--2024-01-08 02:00:07--  https://raw.githubusercontent.com/gt-cse-6040/bootcamp/main/Module%201/Self%20Assessments/tester_fw/__init__.py\n",
            "Resolving raw.githubusercontent.com (raw.githubusercontent.com)... 185.199.108.133, 185.199.111.133, 185.199.109.133, ...\n",
            "Connecting to raw.githubusercontent.com (raw.githubusercontent.com)|185.199.108.133|:443... connected.\n",
            "HTTP request sent, awaiting response... 200 OK\n",
            "Length: 4701 (4.6K) [text/plain]\n",
            "Saving to: ‘__init__.py’\n",
            "\n",
            "__init__.py         100%[===================>]   4.59K  --.-KB/s    in 0s      \n",
            "\n",
            "2024-01-08 02:00:08 (55.4 MB/s) - ‘__init__.py’ saved [4701/4701]\n",
            "\n",
            "--2024-01-08 02:00:08--  https://raw.githubusercontent.com/gt-cse-6040/bootcamp/main/Module%201/Self%20Assessments/tester_fw/test_utils.py\n",
            "Resolving raw.githubusercontent.com (raw.githubusercontent.com)... 185.199.108.133, 185.199.109.133, 185.199.110.133, ...\n",
            "Connecting to raw.githubusercontent.com (raw.githubusercontent.com)|185.199.108.133|:443... connected.\n",
            "HTTP request sent, awaiting response... 200 OK\n",
            "Length: 4159 (4.1K) [text/plain]\n",
            "Saving to: ‘test_utils.py’\n",
            "\n",
            "test_utils.py       100%[===================>]   4.06K  --.-KB/s    in 0s      \n",
            "\n",
            "2024-01-08 02:00:08 (42.6 MB/s) - ‘test_utils.py’ saved [4159/4159]\n",
            "\n",
            "--2024-01-08 02:00:08--  https://raw.githubusercontent.com/gt-cse-6040/bootcamp/main/Module%201/Self%20Assessments/tester_fw/testers.py\n",
            "Resolving raw.githubusercontent.com (raw.githubusercontent.com)... 185.199.108.133, 185.199.109.133, 185.199.110.133, ...\n",
            "Connecting to raw.githubusercontent.com (raw.githubusercontent.com)|185.199.108.133|:443... connected.\n",
            "HTTP request sent, awaiting response... 200 OK\n",
            "Length: 4468 (4.4K) [text/plain]\n",
            "Saving to: ‘testers.py’\n",
            "\n",
            "testers.py          100%[===================>]   4.36K  --.-KB/s    in 0s      \n",
            "\n",
            "2024-01-08 02:00:08 (52.1 MB/s) - ‘testers.py’ saved [4468/4468]\n",
            "\n",
            "/content\n"
          ]
        }
      ]
    },
    {
      "cell_type": "code",
      "execution_count": 3,
      "id": "df6e513a",
      "metadata": {
        "ExecuteTime": {
          "end_time": "2023-12-07T06:32:57.738910Z",
          "start_time": "2023-12-07T06:32:55.282275Z"
        },
        "nbgrader": {
          "grade": false,
          "locked": true,
          "solution": false
        },
        "tags": [
          "global_imports"
        ],
        "id": "df6e513a",
        "outputId": "b0a82736-7d4c-4bb2-f087-0f8f71890009",
        "colab": {
          "base_uri": "https://localhost:8080/"
        }
      },
      "outputs": [
        {
          "output_type": "stream",
          "name": "stdout",
          "text": [
            "\n",
            "==> Loading the dataset...\n",
            "\n",
            "==> Done executing the setup and ready for take-off!\n"
          ]
        }
      ],
      "source": [
        "### Global Imports\n",
        "%load_ext autoreload\n",
        "%autoreload 2\n",
        "\n",
        "# Modules you may find useful:\n",
        "import pandas as pd\n",
        "import numpy as np\n",
        "\n",
        "# Some extra functions that this notebook needs:\n",
        "from pprint import pprint # Pretty-printer\n",
        "\n",
        "import time\n",
        "overall_start = time.time()\n",
        "\n",
        "def dfs_to_conn(conn_dfs, index=False):\n",
        "    import sqlite3\n",
        "    conn = sqlite3.connect(':memory:')\n",
        "    for table_name, df in conn_dfs.items():\n",
        "        df.to_sql(table_name, conn, if_exists='replace', index=index)\n",
        "    return conn\n",
        "\n",
        "# Load the dataset:\n",
        "print(\"\\n==> Loading the dataset...\")\n",
        "grades_exam1 = pd.read_csv(\"https://raw.githubusercontent.com/gt-cse-6040/bootcamp/main/Module%201/Self%20Assessments/resource/asnlib/publicdata/grades_exam1.csv\")\n",
        "grades_exam2 = pd.read_csv(\"https://raw.githubusercontent.com/gt-cse-6040/bootcamp/main/Module%201/Self%20Assessments/resource/asnlib/publicdata/grades_exam2.csv\")\n",
        "grades_exam3 = pd.read_csv(\"https://raw.githubusercontent.com/gt-cse-6040/bootcamp/main/Module%201/Self%20Assessments/resource/asnlib/publicdata/grades_exam3.csv\")\n",
        "\n",
        "times_exam1 = pd.read_csv(\"https://raw.githubusercontent.com/gt-cse-6040/bootcamp/main/Module%201/Self%20Assessments/resource/asnlib/publicdata/timings_exam1.csv\")\n",
        "times_exam2 = pd.read_csv(\"https://raw.githubusercontent.com/gt-cse-6040/bootcamp/main/Module%201/Self%20Assessments/resource/asnlib/publicdata/timings_exam2.csv\")\n",
        "times_exam3 = pd.read_csv(\"https://raw.githubusercontent.com/gt-cse-6040/bootcamp/main/Module%201/Self%20Assessments/resource/asnlib/publicdata/timings_exam3.csv\")\n",
        "\n",
        "grades_by_exid = {'exam1': grades_exam1, 'exam2': grades_exam2, 'exam3': grades_exam3}\n",
        "times_by_exid = {'exam1': times_exam1, 'exam2': times_exam2, 'exam3': times_exam3}\n",
        "\n",
        "print(\"\\n==> Done executing the setup and ready for take-off!\")"
      ]
    },
    {
      "cell_type": "markdown",
      "id": "95333282",
      "metadata": {
        "nbgrader": {
          "grade": false,
          "locked": true,
          "solution": false
        },
        "tags": [
          "exercise_text"
        ],
        "id": "95333282"
      },
      "source": [
        "# Exercise 0: `calc_earned_points` #\n",
        "\n",
        "Suppose you have a grades dataframe, `valid_gdf`. Complete the function,\n",
        "```python\n",
        "def calc_earned_points(valid_gdf):\n",
        "    ...\n",
        "```\n",
        "so that it returns a new copy of `valid_gdf` with an additional column holding the total points earned.\n",
        "\n",
        "**Input:** A dataframe called `valid_gdf` containing the grades by student for each problem on an exam.\n",
        "\n",
        "**Your task:** Create a copy and sum the points earned by each student.\n",
        "\n",
        "**Output:** Return a new dataframe with the same columns as `valid_gdf` _plus_ an additional column, `'Earned'`, of `.dtype` `float`. This column should contain the student's total score, that is, the sum of points on their problems. Any NaN values should be ignored. You should not modify the input `valid_gdf`."
      ]
    },
    {
      "cell_type": "markdown",
      "id": "088d700f",
      "metadata": {
        "nbgrader": {
          "grade": false,
          "locked": true,
          "solution": false
        },
        "id": "088d700f"
      },
      "source": [
        "## Exercise 0 demo input ##"
      ]
    },
    {
      "cell_type": "code",
      "execution_count": null,
      "id": "3a81ad82",
      "metadata": {
        "ExecuteTime": {
          "end_time": "2023-12-07T06:33:00.749349Z",
          "start_time": "2023-12-07T06:33:00.732439Z"
        },
        "nbgrader": {
          "grade": false,
          "locked": true,
          "solution": false
        },
        "tags": [
          "demo_data"
        ],
        "id": "3a81ad82"
      },
      "outputs": [],
      "source": [
        "### Define demo inputs ###\n",
        "grades_by_exid_1 = pd.read_csv(\"https://raw.githubusercontent.com/gt-cse-6040/bootcamp/main/Module%201/Self%20Assessments/resource/asnlib/publicdata/valid_grades_exam1.csv\")\n",
        "demo_gdf_ex0 = grades_by_exid_1.sample(6, random_state=3_456_789_012).reset_index(drop=True)\n",
        "demo_gdf_ex0"
      ]
    },
    {
      "cell_type": "markdown",
      "id": "a2232fc4",
      "metadata": {
        "nbgrader": {
          "grade": false,
          "locked": true,
          "solution": false
        },
        "tags": [
          "demo_output_md"
        ],
        "id": "a2232fc4"
      },
      "source": [
        "The demo included in the solution cell below should display the following output:\n",
        "\n",
        "|    | Email                    |   problem0 |   problem1 |   problem2 |   problem3 |   problem4 |   Earned |\n",
        "|---:|:-------------------------|-----------:|-----------:|-----------:|-----------:|-----------:|---------:|\n",
        "|  0 | rene.amritpal@gmail.com  |         10 |         10 |       10   |         10 |         10 |     50   |\n",
        "|  1 | albert.averley@gmail.com |         10 |          2 |        8   |         10 |         10 |     40   |\n",
        "|  2 | mary.yahshua@gatech.edu  |          7 |          2 |        6.5 |          5 |        nan |     20.5 |\n",
        "|  3 | jillian.myler@gmail.com  |         10 |         10 |       10   |         10 |          1 |     41   |\n",
        "|  4 | raina.sheehan@gmail.com  |         10 |         10 |       10   |          5 |         10 |     45   |\n",
        "|  5 | allison.link@yahoo.com   |          7 |          2 |      nan   |        nan |        nan |      9   |\n",
        "\n",
        "> **Note:** Although the values appear to include integers, in fact, the `.dtype` of the columns should be `float`."
      ]
    },
    {
      "cell_type": "markdown",
      "id": "2f89f61e",
      "metadata": {
        "nbgrader": {
          "grade": false,
          "locked": true,
          "solution": false
        },
        "id": "2f89f61e"
      },
      "source": [
        "## Exercise 0 your code ##"
      ]
    },
    {
      "cell_type": "code",
      "execution_count": null,
      "id": "76799048",
      "metadata": {
        "ExecuteTime": {
          "end_time": "2023-12-07T06:33:00.772309Z",
          "start_time": "2023-12-07T06:33:00.750829Z"
        },
        "tags": [
          "exercise_solution"
        ],
        "id": "76799048"
      },
      "outputs": [],
      "source": [
        "### Exercise 0 solution ###\n",
        "def calc_earned_points(valid_gdf):\n",
        "    ### BEGIN SOLUTION\n",
        "\n",
        "    ### END SOLUTION\n",
        "\n",
        "### demo function call ###\n",
        "calc_earned_points(demo_gdf_ex0)"
      ]
    },
    {
      "cell_type": "markdown",
      "id": "08e38ce9",
      "metadata": {
        "nbgrader": {
          "grade": false,
          "locked": true,
          "solution": false
        },
        "tags": [
          "test_data_boilerplate"
        ],
        "id": "08e38ce9"
      },
      "source": [
        "<!-- Test Cell Boilerplate -->\n",
        "## Exercise 0 test ##\n",
        "The cell below will test your solution for Exercise 0. The testing variables will be available for debugging under the following names in a dictionary format.\n",
        "- `input_vars` - Input variables for your solution.\n",
        "- `original_input_vars` - Copy of input variables from prior to running your solution. These _should_ be the same as `input_vars` - otherwise the inputs were modified by your solution.\n",
        "- `returned_output_vars` - Outputs returned by your solution.\n",
        "- `true_output_vars` - The expected output. This _should_ \"match\" `returned_output_vars` based on the question requirements - otherwise, your solution is not returning the correct output."
      ]
    },
    {
      "cell_type": "code",
      "execution_count": null,
      "id": "14570c3c",
      "metadata": {
        "ExecuteTime": {
          "end_time": "2023-12-07T06:33:01.400103Z",
          "start_time": "2023-12-07T06:33:01.010175Z"
        },
        "nbgrader": {
          "grade": true,
          "grade_id": "ex2",
          "locked": true,
          "points": "1",
          "solution": false
        },
        "tags": [],
        "id": "14570c3c"
      },
      "outputs": [],
      "source": [
        "### test_cell_ex0 ###\n",
        "from tester_fw.testers import Tester\n",
        "\n",
        "conf = {\n",
        "    'case_file':'tc_2',\n",
        "    'func': calc_earned_points, # replace this with the function defined above\n",
        "    'inputs':{ # input config dict. keys are parameter names\n",
        "        'valid_gdf':{\n",
        "            'dtype':'df', # data type of param.\n",
        "            'check_modified':True,\n",
        "        }\n",
        "    },\n",
        "    'outputs':{\n",
        "        'output_0':{\n",
        "            'index':0,\n",
        "            'dtype':'df',\n",
        "            'check_dtype': True,\n",
        "            'check_col_dtypes': True, # Ignored if dtype is not df\n",
        "            'check_col_order': False, # Ignored if dtype is not df\n",
        "            'check_row_order': False, # Ignored if dtype is not df\n",
        "            'check_column_type': True, # Ignored if dtype is not df\n",
        "            'float_tolerance': 10 ** (-6)\n",
        "        }\n",
        "    }\n",
        "}\n",
        "\n",
        "conf_encrypted = {\n",
        "    'case_file':'tc_2_encrypted',\n",
        "    'func': calc_earned_points, # replace this with the function defined above\n",
        "    'inputs':{ # input config dict. keys are parameter names\n",
        "        'valid_gdf':{\n",
        "            'dtype':'df', # data type of param.\n",
        "            'check_modified':True,\n",
        "        }\n",
        "    },\n",
        "    'outputs':{\n",
        "        'output_0':{\n",
        "            'index':0,\n",
        "            'dtype':'df',\n",
        "            'check_dtype': True,\n",
        "            'check_col_dtypes': True, # Ignored if dtype is not df\n",
        "            'check_col_order': False, # Ignored if dtype is not df\n",
        "            'check_row_order': False, # Ignored if dtype is not df\n",
        "            'check_column_type': True, # Ignored if dtype is not df\n",
        "            'float_tolerance': 10 ** (-6)\n",
        "        }\n",
        "    }\n",
        "}\n",
        "tester = Tester(conf, key=b'It2jBzT52UbvyXCvc19bZBXTaLtU-OurcEtWwuHet8M=', path='')\n",
        "for _ in range(70):\n",
        "    try:\n",
        "        tester.run_test()\n",
        "        (input_vars, original_input_vars, returned_output_vars, true_output_vars) = tester.get_test_vars()\n",
        "    except:\n",
        "        (input_vars, original_input_vars, returned_output_vars, true_output_vars) = tester.get_test_vars()\n",
        "        raise\n",
        "\n",
        "### BEGIN HIDDEN TESTS\n",
        "tester = Tester(conf_encrypted, key=b'dRaQLzH9Dx27yR5MBt5Iy3HBuRaSpg1bXvN8NFqZ8j4=', path='')\n",
        "for _ in range(20):\n",
        "    try:\n",
        "        tester.run_test()\n",
        "        (input_vars, original_input_vars, returned_output_vars, true_output_vars) = tester.get_test_vars()\n",
        "    except:\n",
        "        (input_vars, original_input_vars, returned_output_vars, true_output_vars) = tester.get_test_vars()\n",
        "        raise\n",
        "### END HIDDEN TESTS\n",
        "print('Passed! Please continue.')"
      ]
    },
    {
      "cell_type": "markdown",
      "id": "380a89c2",
      "metadata": {
        "nbgrader": {
          "grade": false,
          "locked": true,
          "solution": false
        },
        "id": "380a89c2"
      },
      "source": [
        "## Exercise 0 RUNME (precomputed solutions) ##\n",
        "\n",
        "The cell below creates a precomputed object, `earned_by_exid`. It is the result of a correct implementation of `calc_earned_grades` when run on the full dataset. Subsequent cells use it, so please run this cell regardless of whether you completed this exercise."
      ]
    },
    {
      "cell_type": "code",
      "execution_count": null,
      "id": "179484e3",
      "metadata": {
        "ExecuteTime": {
          "end_time": "2023-12-07T06:33:01.435159Z",
          "start_time": "2023-12-07T06:33:01.401545Z"
        },
        "nbgrader": {
          "grade": false,
          "locked": true,
          "solution": false
        },
        "id": "179484e3"
      },
      "outputs": [],
      "source": [
        "# Precomputed solutions\n",
        "earned_by_exid_1 = pd.read_csv(\"https://raw.githubusercontent.com/gt-cse-6040/bootcamp/main/Module%201/Self%20Assessments/resource/asnlib/publicdata/earned_grades_exam1.csv\")\n",
        "earned_by_exid_2 = pd.read_csv(\"https://raw.githubusercontent.com/gt-cse-6040/bootcamp/main/Module%201/Self%20Assessments/resource/asnlib/publicdata/earned_grades_exam2.csv\")\n",
        "earned_by_exid_3 = pd.read_csv(\"https://raw.githubusercontent.com/gt-cse-6040/bootcamp/main/Module%201/Self%20Assessments/resource/asnlib/publicdata/earned_grades_exam3.csv\")\n",
        "earned_by_exid = {'exam1': earned_by_exid_1, 'exam2': earned_by_exid_2, 'exam3': earned_by_exid_3}\n",
        "\n",
        "# Example:\n",
        "display(earned_by_exid_1.iloc[:4])\n",
        "earned_by_exid_1.info()"
      ]
    },
    {
      "cell_type": "markdown",
      "id": "8943f2b6",
      "metadata": {
        "nbgrader": {
          "grade": false,
          "locked": true,
          "solution": false
        },
        "id": "8943f2b6"
      },
      "source": [
        "Similar to the grades dataset, each exam has a **timings** dataset.\n",
        "\n",
        "**Observations:**\n",
        "- Each row is for a student and a problem (\"milestone\" column). There may be multiple rows for the same student, but a (student, problem) pair appears _at most_ once.\n",
        "- The `'start date-time'` and `'submit date-time'` columns hold timestamps, and their `.dtypes` are special pandas [`Timestamp`](https://pandas.pydata.org/docs/reference/api/pandas.Timestamp.html#pandas.Timestamp) objects.\n",
        "- The `'start date-time'` value is when the student began the exam. It will have the same value for all rows of a given student.\n",
        "- The `'submit date-time'` value is the timestamp of the student's _last_ submission for that problem. That is, only one submission is recorded per student and problem.\n",
        "\n",
        "Here's what it looks like for `'exam3'`:"
      ]
    },
    {
      "cell_type": "code",
      "execution_count": null,
      "id": "c0293c37",
      "metadata": {
        "ExecuteTime": {
          "end_time": "2023-12-07T06:33:01.459525Z",
          "start_time": "2023-12-07T06:33:01.437018Z"
        },
        "nbgrader": {
          "grade": false,
          "locked": true,
          "solution": false
        },
        "tags": [
          "demo_data"
        ],
        "id": "c0293c37"
      },
      "outputs": [],
      "source": [
        "demo_times_exam3 = times_by_exid['exam3']\n",
        "demo_times_exam3"
      ]
    },
    {
      "cell_type": "markdown",
      "id": "d6ab25ef",
      "metadata": {
        "nbgrader": {
          "grade": false,
          "locked": true,
          "solution": false
        },
        "id": "d6ab25ef"
      },
      "source": [
        "# Exercise 1: `clean_times_colnames` #\n",
        "\n",
        "Let's tidy up the column names for the timings dataframe. Complete the function,\n",
        "```python\n",
        "def clean_times_colnames(tdf):\n",
        "    ...\n",
        "```\n",
        "to return a new dataframe from `tdf` with columns renamed as follows.\n",
        "\n",
        "* `'email'` => `'Email'`\n",
        "* `'milestone'` => `'Milestone'`\n",
        "* `'start date-time'` => `'Start'`\n",
        "* `'submit date-time'` => `'Submit'`\n",
        "\n",
        "Element types for the columns (`.dtype`) should be preserved, and the input dataframe should not be modified."
      ]
    },
    {
      "cell_type": "markdown",
      "id": "23d25d7e",
      "metadata": {
        "nbgrader": {
          "grade": false,
          "locked": true,
          "solution": false
        },
        "id": "23d25d7e"
      },
      "source": [
        "## Exercise 1 demo input ##"
      ]
    },
    {
      "cell_type": "code",
      "execution_count": null,
      "id": "696c0bd3",
      "metadata": {
        "id": "696c0bd3"
      },
      "outputs": [],
      "source": [
        "### define demo inputs ###\n",
        "valid_times_by_exid_2 = pd.read_csv(\"https://raw.githubusercontent.com/gt-cse-6040/bootcamp/main/Module%201/Self%20Assessments/resource/asnlib/publicdata/valid_times_exam2.csv\")\n",
        "demo_tdf_ex1 = valid_times_by_exid_2.sample(5, random_state=567_890_123, replace=False).reset_index(drop=True)\n",
        "demo_tdf_ex1"
      ]
    },
    {
      "cell_type": "markdown",
      "id": "f28d2b81",
      "metadata": {
        "id": "f28d2b81"
      },
      "source": [
        "The demo included in the solution cell below should display the following output:\n",
        "\n",
        "|    | Email                       | Milestone   | Start               | Submit              |\n",
        "|---:|:----------------------------|:------------|:--------------------|:--------------------|\n",
        "|  0 | jazlyn.florin@gmail.com     | problem4    | 2018-11-04 12:45:10 | 2018-11-05 20:50:41 |\n",
        "|  1 | christian.miyisha@yahoo.com | problem2    | 2018-11-03 07:38:00 | 2018-11-04 12:21:12 |\n",
        "|  2 | taryn.raneshia@yahoo.co.id  | problem0    | 2018-11-04 08:25:24 | 2018-11-05 17:59:02 |\n",
        "|  3 | joseph.sherburne@gmail.com  | problem1    | 2018-11-02 16:45:06 | 2018-11-03 01:47:58 |\n",
        "|  4 | thomas.dyanni@gmail.com     | problem3    | 2018-11-03 14:20:56 | 2018-11-04 23:31:18 |"
      ]
    },
    {
      "cell_type": "markdown",
      "id": "73b5aa10",
      "metadata": {
        "id": "73b5aa10"
      },
      "source": [
        "## Exercise 1 your code ##"
      ]
    },
    {
      "cell_type": "code",
      "execution_count": null,
      "id": "4d4e0b06",
      "metadata": {
        "id": "4d4e0b06"
      },
      "outputs": [],
      "source": [
        "### Exercise 1 solution\n",
        "def clean_times_colnames(tdf):\n",
        "    ### BEGIN SOLUTION\n",
        "\n",
        "    ### END SOLUTION\n",
        "\n",
        "### demo function call ###\n",
        "clean_times_colnames(demo_tdf_ex1)"
      ]
    },
    {
      "cell_type": "markdown",
      "id": "0c856151",
      "metadata": {
        "id": "0c856151"
      },
      "source": [
        "## Exercise 1 test ##\n",
        "The cell below will test your solution for Exercise 1. The testing variables will be available for debugging under the following names in a dictionary format.\n",
        "- `input_vars` - Input variables for your solution.\n",
        "- `original_input_vars` - Copy of input variables from prior to running your solution. These _should_ be the same as `input_vars` - otherwise the inputs were modified by your solution.\n",
        "- `returned_output_vars` - Outputs returned by your solution.\n",
        "- `true_output_vars` - The expected output. This _should_ \"match\" `returned_output_vars` based on the question requirements - otherwise, your solution is not returning the correct output."
      ]
    },
    {
      "cell_type": "code",
      "execution_count": null,
      "id": "0c7404f9",
      "metadata": {
        "id": "0c7404f9"
      },
      "outputs": [],
      "source": [
        "### test_cell_ex1\n",
        "from tester_fw.testers import Tester\n",
        "\n",
        "conf = {\n",
        "    'case_file':'tc_5',\n",
        "    'func': clean_times_colnames, # replace this with the function defined above\n",
        "    'inputs':{ # input config dict. keys are parameter names\n",
        "        'tdf':{\n",
        "            'dtype':'df', # data type of param.\n",
        "            'check_modified':True,\n",
        "        }\n",
        "    },\n",
        "    'outputs':{\n",
        "        'output_0':{\n",
        "            'index':0,\n",
        "            'dtype':'df',\n",
        "            'check_dtype': True,\n",
        "            'check_col_dtypes': True, # Ignored if dtype is not df\n",
        "            'check_col_order': False, # Ignored if dtype is not df\n",
        "            'check_row_order': False, # Ignored if dtype is not df\n",
        "            'check_column_type': True, # Ignored if dtype is not df\n",
        "            'float_tolerance': 10 ** (-6)\n",
        "        }\n",
        "    }\n",
        "}\n",
        "conf_encrypted = {\n",
        "    'case_file':'tc_5_encrypted',\n",
        "    'func': clean_times_colnames, # replace this with the function defined above\n",
        "    'inputs':{ # input config dict. keys are parameter names\n",
        "        'tdf':{\n",
        "            'dtype':'df', # data type of param.\n",
        "            'check_modified':True,\n",
        "        }\n",
        "    },\n",
        "    'outputs':{\n",
        "        'output_0':{\n",
        "            'index':0,\n",
        "            'dtype':'df',\n",
        "            'check_dtype': True,\n",
        "            'check_col_dtypes': True, # Ignored if dtype is not df\n",
        "            'check_col_order': False, # Ignored if dtype is not df\n",
        "            'check_row_order': False, # Ignored if dtype is not df\n",
        "            'check_column_type': True, # Ignored if dtype is not df\n",
        "            'float_tolerance': 10 ** (-6)\n",
        "        }\n",
        "    }\n",
        "}\n",
        "tester = Tester(conf, key=b'It2jBzT52UbvyXCvc19bZBXTaLtU-OurcEtWwuHet8M=', path='')\n",
        "for _ in range(70):\n",
        "    try:\n",
        "        tester.run_test()\n",
        "        (input_vars, original_input_vars, returned_output_vars, true_output_vars) = tester.get_test_vars()\n",
        "    except:\n",
        "        (input_vars, original_input_vars, returned_output_vars, true_output_vars) = tester.get_test_vars()\n",
        "        raise\n",
        "\n",
        "### BEGIN HIDDEN TESTS\n",
        "tester = Tester(conf_encrypted, key=b'dRaQLzH9Dx27yR5MBt5Iy3HBuRaSpg1bXvN8NFqZ8j4=', path='')\n",
        "for _ in range(20):\n",
        "    try:\n",
        "        tester.run_test()\n",
        "        (input_vars, original_input_vars, returned_output_vars, true_output_vars) = tester.get_test_vars()\n",
        "    except:\n",
        "        (input_vars, original_input_vars, returned_output_vars, true_output_vars) = tester.get_test_vars()\n",
        "        raise\n",
        "### END HIDDEN TESTS\n",
        "print('Passed! Please continue.')"
      ]
    },
    {
      "cell_type": "markdown",
      "id": "23150308",
      "metadata": {
        "nbgrader": {
          "grade": false,
          "locked": true,
          "solution": false
        },
        "id": "23150308"
      },
      "source": [
        "**Timestamps:** The timestamps in the timings dataset have the following form:\n",
        "\n",
        "```2018-12-07 18:35:23```\n",
        "\n",
        "That corresponds to December 7, 2018, at 6:35 pm (and 23 seconds).\n",
        "\n",
        "Luckily, you don't need to parse timestamps! These objects make it easy to sort and calculate time differences, which is what we'll need. For instance, we can check if one date is larger than another using the usual comparison-operators, like `>` or `<=`:"
      ]
    },
    {
      "cell_type": "code",
      "execution_count": null,
      "id": "738f2548",
      "metadata": {
        "ExecuteTime": {
          "end_time": "2023-12-07T06:33:01.477865Z",
          "start_time": "2023-12-07T06:33:01.461059Z"
        },
        "nbgrader": {
          "grade": false,
          "locked": true,
          "solution": false
        },
        "id": "738f2548"
      },
      "outputs": [],
      "source": [
        "(demo_times_exam3['submit date-time'] > demo_times_exam3['start date-time']).head()"
      ]
    },
    {
      "cell_type": "markdown",
      "id": "45b04869",
      "metadata": {
        "nbgrader": {
          "grade": false,
          "locked": true,
          "solution": false
        },
        "id": "45b04869"
      },
      "source": [
        "**Some messiness:** The timings dataset has some \"impurities.\" In particular, check out the data for `'kenneth.bryland@gatech.edu'`:"
      ]
    },
    {
      "cell_type": "code",
      "execution_count": null,
      "id": "24b3d17b",
      "metadata": {
        "ExecuteTime": {
          "end_time": "2023-12-07T06:33:01.538205Z",
          "start_time": "2023-12-07T06:33:01.514499Z"
        },
        "nbgrader": {
          "grade": false,
          "locked": true,
          "solution": false
        },
        "id": "24b3d17b"
      },
      "outputs": [],
      "source": [
        "demo_times_exam3_messy = demo_times_exam3.loc[[206, 1111, 1780, 2511, 3375]]\n",
        "demo_times_exam3_messy"
      ]
    },
    {
      "cell_type": "markdown",
      "id": "71be4fa6",
      "metadata": {
        "nbgrader": {
          "grade": false,
          "locked": true,
          "solution": false
        },
        "id": "71be4fa6"
      },
      "source": [
        "Observe that their `'problem0'` and `'problem1'` submission times occur **before** their start times. While it turns out there is a reason for that, we want to identify all instances where this problem occurs."
      ]
    },
    {
      "cell_type": "markdown",
      "id": "11da8561",
      "metadata": {
        "nbgrader": {
          "grade": false,
          "locked": true,
          "solution": false
        },
        "tags": [
          "exercise_text"
        ],
        "id": "11da8561"
      },
      "source": [
        "# Exercise 2: `remove_causality_violators` #\n",
        "\n",
        "Suppose you are given a timings dataframe, `tdf`, per Exercise 1. Complete the function,\n",
        "```python\n",
        "def remove_causality_violators(tdf):\n",
        "    ...\n",
        "```\n",
        "so that it returns a new, cleaned copy that omits records for any student who has timestamps that \"violate causality.\" A causality violation means that their submission time is **strictly less** than their start time.\n",
        "\n",
        "**Input:** A timings dataframe, `tdf`, with the columns `'email'`, `'milestone'`, `'start date-time'`, and `'submit date-time'`.\n",
        "\n",
        "**Your task:** Identify all students who have any causality violations and omit their rows from the output dataframe.\n",
        "\n",
        "**Output:** Return a new tibble that includes only rows from `tdf` for students whose problem-records do not violate causality. The output column `.dtypes` should match those of the input. You should not modify the input, `tdf`.\n",
        "\n",
        "**Comment(s):** If a student has even one problem that violates causality, you should omit _all_ of their rows. That is, we will consider their entire exam data invalid for the purpose of our subsequent analysis.\n",
        "\n",
        "**Hint:** The dataframe method [isin()](https://pandas.pydata.org/docs/reference/api/pandas.DataFrame.isin.html) and the ~ operator may be useful for this exercise."
      ]
    },
    {
      "cell_type": "markdown",
      "id": "fff6eded",
      "metadata": {
        "nbgrader": {
          "grade": false,
          "locked": true,
          "solution": false
        },
        "id": "fff6eded"
      },
      "source": [
        "## Exercise 2 demo input ##"
      ]
    },
    {
      "cell_type": "code",
      "execution_count": null,
      "id": "a3bd5caa",
      "metadata": {
        "ExecuteTime": {
          "end_time": "2023-12-07T06:33:01.591166Z",
          "start_time": "2023-12-07T06:33:01.574752Z"
        },
        "nbgrader": {
          "grade": false,
          "locked": true,
          "solution": false
        },
        "tags": [
          "demo_data"
        ],
        "id": "a3bd5caa"
      },
      "outputs": [],
      "source": [
        "### Define demo inputs ###\n",
        "demo_tdf_ex2 = times_by_exid['exam3'].loc[[206, 279, 439, 1111, 1344, 1780, 2511, 3224, 3375]].reset_index(drop=True)\n",
        "demo_tdf_ex2"
      ]
    },
    {
      "cell_type": "markdown",
      "id": "20a51ca1",
      "metadata": {
        "nbgrader": {
          "grade": false,
          "locked": true,
          "solution": false
        },
        "tags": [
          "demo_output_md"
        ],
        "id": "20a51ca1"
      },
      "source": [
        "The demo included in the solution cell below should display the following output:\n",
        "\n",
        "|    | email                        | milestone   | start date-time     | submit date-time    |\n",
        "|---:|:-----------------------------|:------------|:--------------------|:--------------------|\n",
        "|  0 | daniel.tashera@gmail.com     | problem0    | 2018-12-09 01:12:56 | 2018-12-09 02:29:33 |\n",
        "|  1 | barbara.wilhemina@gatech.edu | problem0    | 2018-12-10 02:43:28 | 2018-12-10 06:21:30 |\n",
        "|  2 | barbara.wilhemina@gatech.edu | problem2    | 2018-12-10 02:43:28 | 2018-12-10 09:09:43 |\n",
        "|  3 | barbara.wilhemina@gatech.edu | problem5    | 2018-12-10 02:43:28 | 2018-12-10 09:04:35 |\n",
        "\n",
        "Observe that `kenneth.bryland@gatech.edu` is omitted from this output because their `'problem0'` and `'problem1'` records violate causality. (Even though their remaining problems _obey_ causality, we still drop them because of the problematic rows.)"
      ]
    },
    {
      "cell_type": "markdown",
      "id": "7590836b",
      "metadata": {
        "nbgrader": {
          "grade": false,
          "locked": true,
          "solution": false
        },
        "id": "7590836b"
      },
      "source": [
        "## Exercise 2 your code ##"
      ]
    },
    {
      "cell_type": "code",
      "execution_count": null,
      "id": "60274ff8",
      "metadata": {
        "ExecuteTime": {
          "end_time": "2023-12-07T06:33:01.608040Z",
          "start_time": "2023-12-07T06:33:01.592046Z"
        },
        "tags": [
          "exercise_solution"
        ],
        "id": "60274ff8"
      },
      "outputs": [],
      "source": [
        "### Exercise 2 solution ###\n",
        "def remove_causality_violators(tdf):\n",
        "    ### BEGIN SOLUTION\n",
        "\n",
        "    ### END SOLUTION\n",
        "\n",
        "### demo function call ###\n",
        "remove_causality_violators(demo_tdf_ex2)"
      ]
    },
    {
      "cell_type": "markdown",
      "id": "85e2c716",
      "metadata": {
        "nbgrader": {
          "grade": false,
          "locked": true,
          "solution": false
        },
        "tags": [
          "test_data_boilerplate"
        ],
        "id": "85e2c716"
      },
      "source": [
        "<!-- Test Cell Boilerplate -->\n",
        "## Exercise 2 test ##\n",
        "The cell below will test your solution for Exercise 2."
      ]
    },
    {
      "cell_type": "code",
      "execution_count": null,
      "id": "b2de0b43",
      "metadata": {
        "ExecuteTime": {
          "end_time": "2023-12-07T06:33:02.348914Z",
          "start_time": "2023-12-07T06:33:01.963875Z"
        },
        "nbgrader": {
          "grade": true,
          "grade_id": "ex4",
          "locked": true,
          "points": "2",
          "solution": false
        },
        "tags": [],
        "id": "b2de0b43"
      },
      "outputs": [],
      "source": [
        "### test_cell_ex2\n",
        "from tester_fw.testers import Tester\n",
        "\n",
        "conf = {\n",
        "    'case_file':'tc_4',\n",
        "    'func': remove_causality_violators, # replace this with the function defined above\n",
        "    'inputs':{ # input config dict. keys are parameter names\n",
        "        'tdf':{\n",
        "            'dtype':'df', # data type of param.\n",
        "            'check_modified':True,\n",
        "        }\n",
        "    },\n",
        "    'outputs':{\n",
        "        'output_0':{\n",
        "            'index':0,\n",
        "            'dtype':'df',\n",
        "            'check_dtype': True,\n",
        "            'check_col_dtypes': True, # Ignored if dtype is not df\n",
        "            'check_col_order': False, # Ignored if dtype is not df\n",
        "            'check_row_order': False, # Ignored if dtype is not df\n",
        "            'check_column_type': True, # Ignored if dtype is not df\n",
        "            'float_tolerance': 10 ** (-6)\n",
        "        }\n",
        "    }\n",
        "}\n",
        "conf_encrypted = {\n",
        "    'case_file':'tc_4_encrypted',\n",
        "    'func': remove_causality_violators, # replace this with the function defined above\n",
        "    'inputs':{ # input config dict. keys are parameter names\n",
        "        'tdf':{\n",
        "            'dtype':'df', # data type of param.\n",
        "            'check_modified':True,\n",
        "        }\n",
        "    },\n",
        "    'outputs':{\n",
        "        'output_0':{\n",
        "            'index':0,\n",
        "            'dtype':'df',\n",
        "            'check_dtype': True,\n",
        "            'check_col_dtypes': True, # Ignored if dtype is not df\n",
        "            'check_col_order': False, # Ignored if dtype is not df\n",
        "            'check_row_order': False, # Ignored if dtype is not df\n",
        "            'check_column_type': True, # Ignored if dtype is not df\n",
        "            'float_tolerance': 10 ** (-6)\n",
        "        }\n",
        "    }\n",
        "}\n",
        "tester = Tester(conf, key=b'It2jBzT52UbvyXCvc19bZBXTaLtU-OurcEtWwuHet8M=', path='')\n",
        "for _ in range(70):\n",
        "    try:\n",
        "        tester.run_test()\n",
        "        (input_vars, original_input_vars, returned_output_vars, true_output_vars) = tester.get_test_vars()\n",
        "    except:\n",
        "        (input_vars, original_input_vars, returned_output_vars, true_output_vars) = tester.get_test_vars()\n",
        "        raise\n",
        "\n",
        "### BEGIN HIDDEN TESTS\n",
        "tester = Tester(conf_encrypted, key=b'dRaQLzH9Dx27yR5MBt5Iy3HBuRaSpg1bXvN8NFqZ8j4=', path='')\n",
        "for _ in range(20):\n",
        "    try:\n",
        "        tester.run_test()\n",
        "        (input_vars, original_input_vars, returned_output_vars, true_output_vars) = tester.get_test_vars()\n",
        "    except:\n",
        "        (input_vars, original_input_vars, returned_output_vars, true_output_vars) = tester.get_test_vars()\n",
        "        raise\n",
        "### END HIDDEN TESTS\n",
        "print('Passed! Please continue.')"
      ]
    },
    {
      "cell_type": "markdown",
      "id": "948ad265",
      "metadata": {
        "nbgrader": {
          "grade": false,
          "locked": true,
          "solution": false
        },
        "tags": [
          "exercise_text"
        ],
        "id": "948ad265"
      },
      "source": [
        "# Exercise 3: `compute_percentage_earned` #\n",
        "\n",
        "Given a database connection `conn`, an email address `email`, a table name `exam_table`, and the maximum possible score `max_score`, complete the function,\n",
        "```python\n",
        "def compute_percentage_earned(conn, email, exam_table, max_score):\n",
        "    ...\n",
        "```\n",
        "so that it returns a dataframe containing a student's exam percentage earned as described below.\n",
        "\n",
        "**Inputs:**\n",
        "- `conn`: A database connection.\n",
        "- `email`: A string containing a student email address.\n",
        "- `exam_table`: A string containing the name of the exam table to query. All exam tables contain the following columns: `'Email'`, `'Earned'`, and one or more `'problem..'` columns.\n",
        "- `max_score`: A float containing the maximum number of points possible a student could achieve on the exam.\n",
        "\n",
        "**Your tasks:**\n",
        "Write a query that returns a dataframe with the following columns:\n",
        "- `'Email'`: the student's email address\n",
        "- `'Percentage Earned'`: The percentage the student earned on that exam, computed as `'Earned'` / `max_score` * 100.0\n",
        "\n",
        "**Output:** Return the result as a dataframe with the columns `'Email'` and `'Percentage Earned'`.\n",
        "\n",
        "**Hint:** [F-strings](https://www.geeksforgeeks.org/formatted-string-literals-f-strings-python/) may be useful for formatting your query in this exercise."
      ]
    },
    {
      "cell_type": "markdown",
      "id": "91e3885e",
      "metadata": {
        "nbgrader": {
          "grade": false,
          "locked": true,
          "solution": false
        },
        "id": "91e3885e"
      },
      "source": [
        "## Exercise 3 demo input ##"
      ]
    },
    {
      "cell_type": "code",
      "execution_count": null,
      "id": "545829c1",
      "metadata": {
        "id": "545829c1"
      },
      "outputs": [],
      "source": [
        "### Define demo inputs ###\n",
        "conn = dfs_to_conn({'earned_exam1': earned_by_exid['exam1'], 'earned_exam2': earned_by_exid['exam2'],\n",
        "                    'earned_exam3': earned_by_exid['exam3']})\n",
        "\n",
        "### Select first five rows from exam table 'earned_exam1', order by email alphabetically in ascending order:\n",
        "query = '''\n",
        "SELECT\n",
        "*\n",
        "FROM earned_exam1\n",
        "ORDER BY email\n",
        "LIMIT 5\n",
        "'''\n",
        "\n",
        "df = pd.read_sql_query(query, conn)\n",
        "print(\"From table 'earned_exam1':\")\n",
        "display(df)"
      ]
    },
    {
      "cell_type": "markdown",
      "id": "28eeb74e",
      "metadata": {
        "id": "28eeb74e"
      },
      "source": [
        "If the email specified is `'aaliyah.tayviona@gatech.edu'`, the exam_table is `'earned_exam1'`, and the max_score is `50.0`, then the demo included in the solution cell below should display the following output, as `(23.0 / 50.0 * 100.0) = 46.0`:\n",
        "\n",
        "|    | Email                           | Percentage Earned  |\n",
        "|---:|:--------------------------------|:------------|\n",
        "|  0 | aaliyah.tayviona@gatech.edu     | 46.0    |\n",
        "\n"
      ]
    },
    {
      "cell_type": "markdown",
      "id": "a87459e6-2e56-45a3-be49-1039b7b10f59",
      "metadata": {
        "id": "a87459e6-2e56-45a3-be49-1039b7b10f59"
      },
      "source": [
        "## Exercise 3 your code ##"
      ]
    },
    {
      "cell_type": "code",
      "execution_count": null,
      "id": "a3877085",
      "metadata": {
        "id": "a3877085"
      },
      "outputs": [],
      "source": [
        "### Exercise 3 solution\n",
        "def compute_percentage_earned(conn, email, exam_table, max_score):\n",
        "    ### BEGIN SOLUTION\n",
        "    query = '''\n",
        "\n",
        "    '''\n",
        "    ### END SOLUTION\n",
        "\n",
        "    df = pd.read_sql_query(query, conn)\n",
        "    return df\n"
      ]
    },
    {
      "cell_type": "markdown",
      "id": "6ebfe698",
      "metadata": {
        "id": "6ebfe698"
      },
      "source": [
        "<!-- Test Cell Boilerplate -->\n",
        "## Exercise 3 test ##\n",
        "The cell below will test your solution for Exercise 3."
      ]
    },
    {
      "cell_type": "code",
      "execution_count": null,
      "id": "6c7ff57c",
      "metadata": {
        "id": "6c7ff57c"
      },
      "outputs": [],
      "source": [
        "### test_cell_ex3\n",
        "from pandas.testing import assert_frame_equal\n",
        "\n",
        "assert isinstance(compute_percentage_earned(conn, 'aaliyah.tayviona@gatech.edu', 'earned_exam1', 50.0), pd.DataFrame), 'Sorry, your result is not a dataframe!'\n",
        "\n",
        "test_df0 = pd.DataFrame({'Email': 'aaliyah.tayviona@gatech.edu', 'Percentage Earned': 46.0}, index=[0])\n",
        "assert_frame_equal(compute_percentage_earned(conn, 'aaliyah.tayviona@gatech.edu', 'earned_exam1', 50.0), test_df0)\n",
        "\n",
        "test_df1 = pd.DataFrame({'Email': 'zuri.eilleen@gatech.edu', 'Percentage Earned': 75.0}, index=[0])\n",
        "assert_frame_equal(compute_percentage_earned(conn, 'zuri.eilleen@gatech.edu', 'earned_exam3', 60.0), test_df1)\n",
        "\n",
        "test_df2 = pd.DataFrame({'Email': 'sharon.syniya@gmail.com', 'Percentage Earned': 100.0}, index=[0])\n",
        "assert_frame_equal(compute_percentage_earned(conn, 'sharon.syniya@gmail.com', 'earned_exam2', 50.0), test_df2)\n",
        "\n",
        "test_df3 = pd.DataFrame({'Email': 'dennis.nolin@gmail.com', 'Percentage Earned': 8.0}, index=[0])\n",
        "assert_frame_equal(compute_percentage_earned(conn, 'dennis.nolin@gmail.com', 'earned_exam2', 50.0), test_df3)\n",
        "\n",
        "test_df4 = pd.DataFrame({'Email': 'joseph.sherburne@gmail.com', 'Percentage Earned': 45.833333}, index=[0])\n",
        "assert_frame_equal(compute_percentage_earned(conn, 'joseph.sherburne@gmail.com', 'earned_exam3', 60.0), test_df4)\n",
        "\n",
        "print('Passed! Please continue.')"
      ]
    },
    {
      "cell_type": "markdown",
      "id": "9314ba60",
      "metadata": {
        "id": "9314ba60"
      },
      "source": [
        "# Exercise 4: `compute_matrix_product` #\n",
        "\n",
        "Given two 2-D Numpy arrays, complete the function,\n",
        "```python\n",
        "def compute_matrix_product(arr1, arr2):\n",
        "    ...\n",
        "```\n",
        "so that it replaces any values greater than `10` with `10` in either array. Then, if it is possible, compute the matrix product of the two arrays, and return the result. If they cannot be multiplied, your function should return the string `'Cannot be multiplied'`\n",
        "\n",
        "**Inputs:**\n",
        "- `arr1`: A Numpy 2-D array\n",
        "- `arr2`: A Numpy 2-D array\n",
        "\n",
        "**Your tasks:**\n",
        "- Determine if the two arrays can be multiplied by comparing their shapes. If they cannot be multiplied, return `'Cannot be multiplied'`\n",
        "- Replace any values greater than `10` in each array with the value `10`\n",
        "- Find the matrix product of the two arrays, and return the result.\n",
        "\n",
        "**Output:** A Numpy array.\n",
        "\n",
        "**Hint:** Check out the documentation [here](https://numpy.org/doc/stable/reference/generated/numpy.matmul.html) for more information on matrix multiplication.\n",
        "    "
      ]
    },
    {
      "cell_type": "markdown",
      "id": "e1c5a86f",
      "metadata": {
        "id": "e1c5a86f"
      },
      "source": [
        "## Exercise 4 demo input ##"
      ]
    },
    {
      "cell_type": "code",
      "execution_count": null,
      "id": "9ed489fd",
      "metadata": {
        "id": "9ed489fd"
      },
      "outputs": [],
      "source": [
        "### Define demo inputs ###\n",
        "\n",
        "### Array 1:\n",
        "demo_arr1_ex4 = np.array([[10, 11], [8, 6]])\n",
        "print('Array 1:')\n",
        "print(demo_arr1_ex4)\n",
        "print()\n",
        "\n",
        "### Array 2:\n",
        "demo_arr2_ex4 = np.array([[4, 1], [2, 2]])\n",
        "print('Array 2:')\n",
        "print(demo_arr2_ex4)"
      ]
    },
    {
      "cell_type": "markdown",
      "id": "b88429b7",
      "metadata": {
        "id": "b88429b7"
      },
      "source": [
        "The demo included in the solution cell below should display the following output:\n",
        "```python\n",
        "array([[60, 30],\n",
        "       [44, 20]])\n",
        "```"
      ]
    },
    {
      "cell_type": "markdown",
      "id": "23f43ec4",
      "metadata": {
        "nbgrader": {
          "grade": false,
          "locked": true,
          "solution": false
        },
        "id": "23f43ec4"
      },
      "source": [
        "## Exercise 4 your code ##"
      ]
    },
    {
      "cell_type": "code",
      "execution_count": null,
      "id": "81831ac3",
      "metadata": {
        "ExecuteTime": {
          "end_time": "2023-12-07T06:33:05.454225Z",
          "start_time": "2023-12-07T06:33:05.429144Z"
        },
        "tags": [
          "exercise_solution"
        ],
        "id": "81831ac3"
      },
      "outputs": [],
      "source": [
        "### Exercise 4 solution\n",
        "def compute_matrix_product(arr1, arr2):\n",
        "    ### BEGIN SOLUTION\n",
        "\n",
        "    ### END SOLUTION\n",
        "\n",
        "### demo function call ###\n",
        "compute_matrix_product(demo_arr1_ex4, demo_arr2_ex4)"
      ]
    },
    {
      "cell_type": "markdown",
      "id": "8db23196",
      "metadata": {
        "nbgrader": {
          "grade": false,
          "locked": true,
          "solution": false
        },
        "tags": [
          "test_data_boilerplate"
        ],
        "id": "8db23196"
      },
      "source": [
        "<!-- Test Cell Boilerplate -->\n",
        "## Exercise 4 test ##\n",
        "The cell below will test your solution for Exercise 4."
      ]
    },
    {
      "cell_type": "code",
      "execution_count": null,
      "id": "6229c33b",
      "metadata": {
        "id": "6229c33b"
      },
      "outputs": [],
      "source": [
        "### test_cell_ex4\n",
        "from numpy.testing import assert_array_equal\n",
        "\n",
        "assert isinstance(compute_matrix_product(demo_arr1_ex4, demo_arr2_ex4), np.ndarray), 'Sorry, your result is not an array!'\n",
        "\n",
        "assert_array_equal(compute_matrix_product(demo_arr1_ex4, demo_arr2_ex4), np.array([[60, 30],[44, 20]]))\n",
        "\n",
        "assert_array_equal(compute_matrix_product(np.array([[20, 20], [20, 20]]), np.array([[11, 11], [11, 11]])),\n",
        "                   np.array([[200, 200],[200, 200]]))\n",
        "\n",
        "assert_array_equal(compute_matrix_product(np.array([[1, 1], [1, 1]]), np.array([[0, 1], [1, 1]])),\n",
        "                   np.array([[1, 2],[1, 2]]))\n",
        "\n",
        "assert compute_matrix_product(np.array([[1, 1], [1, 1]]), np.array([[0, 1], [1, 1], [10, 12]])) == 'Cannot be multiplied', 'Sorry, these arrays cannot be multiplied!'\n",
        "\n",
        "assert_array_equal(compute_matrix_product(np.array([[1, 1, 2], [1, 1, 4], [100, 3, 5]]), np.array([[0, 1], [1, 1], [10, 12]])),\n",
        "                   np.array([[21, 22],[41, 42],[53, 63]]))\n",
        "\n",
        "print('Passed! Congratulations!')"
      ]
    }
  ],
  "metadata": {
    "celltoolbar": "Edit Metadata",
    "hide_input": false,
    "interpreter": {
      "hash": "f2b38b6e01547e8f771d473ea2b8718fd0728eea782e4c924ed8783f739d4a6c"
    },
    "kernelspec": {
      "display_name": "Python 3 (ipykernel)",
      "language": "python",
      "name": "python3"
    },
    "language_info": {
      "codemirror_mode": {
        "name": "ipython",
        "version": 3
      },
      "file_extension": ".py",
      "mimetype": "text/x-python",
      "name": "python",
      "nbconvert_exporter": "python",
      "pygments_lexer": "ipython3",
      "version": "3.8.7"
    },
    "toc": {
      "base_numbering": 1,
      "nav_menu": {},
      "number_sections": true,
      "sideBar": true,
      "skip_h1_title": false,
      "title_cell": "Table of Contents",
      "title_sidebar": "Contents",
      "toc_cell": false,
      "toc_position": {
        "height": "calc(100% - 180px)",
        "left": "10px",
        "top": "150px",
        "width": "247px"
      },
      "toc_section_display": true,
      "toc_window_display": true
    },
    "colab": {
      "provenance": [],
      "include_colab_link": true
    }
  },
  "nbformat": 4,
  "nbformat_minor": 5
}
