{
  "cells": [
    {
      "cell_type": "markdown",
      "metadata": {
        "id": "view-in-github",
        "colab_type": "text"
      },
      "source": [
        "<a href=\"https://colab.research.google.com/github/gt-cse-6040/bootcamp/blob/main/Module%201/Session%2023/s23nb1_numpy_boolean_mask_FA25.ipynb\" target=\"_parent\"><img src=\"https://colab.research.google.com/assets/colab-badge.svg\" alt=\"Open In Colab\"/></a>"
      ]
    },
    {
      "cell_type": "markdown",
      "id": "0acde91d",
      "metadata": {
        "id": "0acde91d"
      },
      "source": [
        "# Numpy Boolean Masks"
      ]
    },
    {
      "cell_type": "code",
      "execution_count": null,
      "id": "1c9e9523",
      "metadata": {
        "id": "1c9e9523"
      },
      "outputs": [],
      "source": [
        "import numpy as np\n",
        "import random"
      ]
    },
    {
      "cell_type": "markdown",
      "id": "9f991718",
      "metadata": {
        "id": "9f991718"
      },
      "source": [
        "### Why are we covering this topic?\n",
        "\n",
        "#### Historically, students have had difficulty understanding the boolean mask concept when asked to use it in homework and exam exercises. So we introduce it here, to help with that understanding. We will not be doing complex exercises here, but simply introducing the concept.\n",
        "\n",
        "Additionally, there are many instances in real world data analysis in which we want to only return the data elements the meet (or don't meet) some condition. So understanding what these masks are and how they are used is a necessary skill for DA/DS roles.\n",
        "\n",
        "Finally, students will see that most of the previous MT2 and Final Exams (though not all) asked the students to do some form of selection, from either a pandas dataframe or numpy array, and the application of a boolean mask to the data structure would be the most appropriate manner of solving the requirement."
      ]
    },
    {
      "cell_type": "markdown",
      "id": "079ca192",
      "metadata": {
        "id": "079ca192"
      },
      "source": [
        "# Numpy boolean masks"
      ]
    },
    {
      "cell_type": "markdown",
      "id": "e74cb74e",
      "metadata": {
        "id": "e74cb74e"
      },
      "source": [
        "### What is a boolean mask?\n",
        "\n",
        "**In pandas, as we saw earlier, a mask is used filter and return only the rows that meet a certain condition.**\n",
        "\n",
        "What is returned is only the rows that meet the masking condition.\n",
        "\n",
        "For a good example and review, see this link, down toward the bottom, where it discusses Boolean Masks:  https://www.geeksforgeeks.org/boolean-indexing-in-pandas/"
      ]
    },
    {
      "cell_type": "markdown",
      "id": "d274dc42-3cda-4c3a-a4cb-27e1e21fc82e",
      "metadata": {
        "id": "d274dc42-3cda-4c3a-a4cb-27e1e21fc82e"
      },
      "source": [
        "**In numpy however, a mask creates a \"truth array\" of the same shape as the source array being compared.**\n",
        "\n",
        "Each element in the \"truth array\" will have a value of either `True` or `False`, depending on the result of the comparison on that element in the source array.\n",
        "\n",
        "You can then use the truth array to filter/select only the source array elements that you need in your exercise."
      ]
    },
    {
      "cell_type": "code",
      "execution_count": null,
      "id": "8e615152",
      "metadata": {
        "id": "8e615152"
      },
      "outputs": [],
      "source": [
        "# create two 2x2 numpy arrays\n",
        "a = np.random.randint(0,10,(3,3))\n",
        "display(a)"
      ]
    },
    {
      "cell_type": "code",
      "execution_count": null,
      "id": "679ed47a",
      "metadata": {
        "id": "679ed47a"
      },
      "outputs": [],
      "source": [
        "a < 5"
      ]
    },
    {
      "cell_type": "code",
      "execution_count": null,
      "id": "91d147c7",
      "metadata": {
        "id": "91d147c7"
      },
      "outputs": [],
      "source": [
        "# using parentheses for readability\n",
        "truth_less_than_five = (a < 5)\n",
        "display(truth_less_than_five)\n",
        "display(truth_less_than_five.dtype)"
      ]
    },
    {
      "cell_type": "code",
      "execution_count": null,
      "id": "31eebe75",
      "metadata": {
        "id": "31eebe75"
      },
      "outputs": [],
      "source": [
        "# using parentheses for readability\n",
        "truth_greater_equal_five = (a >= 5)\n",
        "display(truth_greater_equal_five)\n",
        "display(truth_greater_equal_five.dtype)"
      ]
    },
    {
      "cell_type": "markdown",
      "id": "d490c108-20ad-4394-807f-54c3c1a9ccd6",
      "metadata": {
        "id": "d490c108-20ad-4394-807f-54c3c1a9ccd6"
      },
      "source": [
        "### So now that we have the truth array, what can we do with it?\n",
        "\n",
        "1. We can return the values in the source array that meet (or do not meet) the truth condition. We do this by addressing the source array directly, with the truth condition itself.\n",
        "\n",
        "    -- To select these values from the array, we simply index on the Boolean array; this is known as a masking operation.\n",
        "\n",
        "2. We can return the (row,column) locations within the source array that meet (or do not meet) the truth condition. We do this using the numpy function np.where().\n",
        "\n",
        "#### Let's look at an example, first scenario."
      ]
    },
    {
      "cell_type": "code",
      "execution_count": null,
      "id": "7dad4519-f2c0-4413-bf28-6b0778eeb4f3",
      "metadata": {
        "id": "7dad4519-f2c0-4413-bf28-6b0778eeb4f3"
      },
      "outputs": [],
      "source": [
        "a"
      ]
    },
    {
      "cell_type": "code",
      "execution_count": null,
      "id": "b2354ed8-8cee-46c6-b368-87f43227b295",
      "metadata": {
        "id": "b2354ed8-8cee-46c6-b368-87f43227b295"
      },
      "outputs": [],
      "source": [
        "# select the values in the array that meet the condition.\n",
        "a[a < 5]"
      ]
    },
    {
      "cell_type": "code",
      "execution_count": null,
      "id": "1d759761-9bf2-4b69-bfd6-b51a924513e5",
      "metadata": {
        "id": "1d759761-9bf2-4b69-bfd6-b51a924513e5"
      },
      "outputs": [],
      "source": [
        "# select the values in the array that meet the condition.\n",
        "a[truth_less_than_five]"
      ]
    },
    {
      "cell_type": "markdown",
      "id": "90f52d9e-8445-40a6-afef-4adfce252d64",
      "metadata": {
        "id": "90f52d9e-8445-40a6-afef-4adfce252d64"
      },
      "source": [
        "What is returned is a one-dimensional array filled with all the values that meet this condition; in other words, all the values in positions at which the mask array is `True`.\n",
        "\n",
        "**We can then use these values as required in the exercise. This is the key takeaway here. When we want to filter/return only the values that meet some criteria, we want to use a Boolean Mask to do so.**"
      ]
    },
    {
      "cell_type": "markdown",
      "id": "6e3286c9-a4ce-436c-8720-7a0bcf3062cb",
      "metadata": {
        "id": "6e3286c9-a4ce-436c-8720-7a0bcf3062cb"
      },
      "source": [
        "#### What about the second scenario, in which we want to return the (row,column) locations of the data elements that meet (or do not meet) the condition?\n",
        "\n",
        "We can use `np.where()` for this.\n",
        "\n",
        "This function can take 3 parameters, and it has many uses. For our purposes, we are going to show a very simple way to use it. Students should review the below links for additional usages.\n",
        "\n",
        "https://numpy.org/doc/2.2/reference/generated/numpy.where.html\n",
        "\n",
        "https://www.geeksforgeeks.org/numpy-where-in-python/#using-numpywhere-with-x-and-y"
      ]
    },
    {
      "cell_type": "markdown",
      "id": "5b22920f-7f4e-40b7-9308-fbde3ea3f9cb",
      "metadata": {
        "id": "5b22920f-7f4e-40b7-9308-fbde3ea3f9cb"
      },
      "source": [
        "#### When you use np.where() with a 2D array and a condition, it returns a tuple of arrays.\n",
        "\n",
        "#### The first array in the tuple contains the row indices where the condition is true, and the second array in the tuple contains the corresponding column indices."
      ]
    },
    {
      "cell_type": "code",
      "execution_count": null,
      "id": "252be0d8-3e6d-49f4-8908-b7883af40c7c",
      "metadata": {
        "id": "252be0d8-3e6d-49f4-8908-b7883af40c7c"
      },
      "outputs": [],
      "source": [
        "a"
      ]
    },
    {
      "cell_type": "code",
      "execution_count": null,
      "id": "de816259-6f6c-438b-b2cf-7d587b74f4da",
      "metadata": {
        "id": "de816259-6f6c-438b-b2cf-7d587b74f4da"
      },
      "outputs": [],
      "source": [
        "# show the tuple\n",
        "return_tuple = np.where(a<5)\n",
        "return_tuple"
      ]
    },
    {
      "cell_type": "markdown",
      "id": "a8ced382-9b7c-42aa-b6a3-620331cda41d",
      "metadata": {
        "id": "a8ced382-9b7c-42aa-b6a3-620331cda41d"
      },
      "source": [
        "#### We know that the tuple returns rows and columns, so we can put them in their own variables."
      ]
    },
    {
      "cell_type": "code",
      "execution_count": null,
      "id": "cadad3ea-6442-4b54-885f-7206023b4a65",
      "metadata": {
        "id": "cadad3ea-6442-4b54-885f-7206023b4a65"
      },
      "outputs": [],
      "source": [
        "rows, columns = np.where(a<5)\n",
        "print(\"Row indices:\", rows)\n",
        "print(\"Column indices:\", columns)"
      ]
    },
    {
      "cell_type": "markdown",
      "id": "5669a6ea-5a0b-4d7a-9f16-f6af2eb5b711",
      "metadata": {
        "id": "5669a6ea-5a0b-4d7a-9f16-f6af2eb5b711"
      },
      "source": [
        "#### To return the values, address the array with the row and column indices."
      ]
    },
    {
      "cell_type": "code",
      "execution_count": null,
      "id": "3a080810-101d-4443-90d9-dbf2b9ab2c50",
      "metadata": {
        "id": "3a080810-101d-4443-90d9-dbf2b9ab2c50"
      },
      "outputs": [],
      "source": [
        "selected_elements = a[rows,columns]\n",
        "print(\"Selected elements:\", selected_elements)"
      ]
    },
    {
      "cell_type": "markdown",
      "id": "32d0ee13-7957-41c8-9bb6-3417feb397ed",
      "metadata": {
        "id": "32d0ee13-7957-41c8-9bb6-3417feb397ed"
      },
      "source": [
        "#### Using the truth array from above."
      ]
    },
    {
      "cell_type": "code",
      "execution_count": null,
      "id": "a0dcb151-0eba-4abb-8884-1c72e4b5d575",
      "metadata": {
        "id": "a0dcb151-0eba-4abb-8884-1c72e4b5d575"
      },
      "outputs": [],
      "source": [
        "truth_less_than_five"
      ]
    },
    {
      "cell_type": "code",
      "execution_count": null,
      "id": "563d11ea-9749-4a64-baca-ea2535a1e76f",
      "metadata": {
        "id": "563d11ea-9749-4a64-baca-ea2535a1e76f"
      },
      "outputs": [],
      "source": [
        "rows1, columns1 = np.where(truth_less_than_five)\n",
        "print(\"Row indices:\", rows1)\n",
        "print(\"Column indices:\", columns1)"
      ]
    },
    {
      "cell_type": "code",
      "execution_count": null,
      "id": "41840a04-5e57-401a-96db-1b4d792cf55f",
      "metadata": {
        "id": "41840a04-5e57-401a-96db-1b4d792cf55f"
      },
      "outputs": [],
      "source": [
        "selected_elements1 = a[rows1,columns1]\n",
        "print(\"Selected elements1:\", selected_elements1)"
      ]
    },
    {
      "cell_type": "markdown",
      "id": "235d9092",
      "metadata": {
        "id": "235d9092"
      },
      "source": [
        "**You will see applications of these ideas in the homework notebooks and sample/practice midterm and final exam notebooks.**"
      ]
    },
    {
      "cell_type": "markdown",
      "id": "ffd98d10",
      "metadata": {
        "id": "ffd98d10"
      },
      "source": [
        "The numpy documentation has an excellent reference on the logic and functions you can use when applying Boolean Masks:  https://numpy.org/doc/stable/reference/routines.logic.html\n",
        "\n",
        "As noted previously, Vanderplas has a good introduction to Boolean Masks in his book:  https://jakevdp.github.io/PythonDataScienceHandbook/02.06-boolean-arrays-and-masks.html"
      ]
    },
    {
      "cell_type": "markdown",
      "id": "aa86e53c",
      "metadata": {
        "id": "aa86e53c"
      },
      "source": [
        "### What are your questions on Boolean Masks in Numpy?"
      ]
    },
    {
      "cell_type": "code",
      "execution_count": null,
      "id": "5801c701-3a67-48c6-815b-9bdb1c7b845c",
      "metadata": {
        "id": "5801c701-3a67-48c6-815b-9bdb1c7b845c"
      },
      "outputs": [],
      "source": []
    }
  ],
  "metadata": {
    "colab": {
      "provenance": [],
      "include_colab_link": true
    },
    "kernelspec": {
      "display_name": "Python 3 (ipykernel)",
      "language": "python",
      "name": "python3"
    },
    "language_info": {
      "codemirror_mode": {
        "name": "ipython",
        "version": 3
      },
      "file_extension": ".py",
      "mimetype": "text/x-python",
      "name": "python",
      "nbconvert_exporter": "python",
      "pygments_lexer": "ipython3",
      "version": "3.12.7"
    }
  },
  "nbformat": 4,
  "nbformat_minor": 5
}