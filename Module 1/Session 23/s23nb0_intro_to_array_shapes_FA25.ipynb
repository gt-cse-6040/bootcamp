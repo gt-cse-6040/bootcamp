{
  "cells": [
    {
      "cell_type": "markdown",
      "metadata": {
        "id": "view-in-github",
        "colab_type": "text"
      },
      "source": [
        "<a href=\"https://colab.research.google.com/github/gt-cse-6040/bootcamp/blob/main/Module%201/Session%2023/s23nb0_intro_to_array_shapes_FA25.ipynb\" target=\"_parent\"><img src=\"https://colab.research.google.com/assets/colab-badge.svg\" alt=\"Open In Colab\"/></a>"
      ]
    },
    {
      "cell_type": "markdown",
      "id": "4fcbf6dc",
      "metadata": {
        "id": "4fcbf6dc"
      },
      "source": [
        "# Intro to Array Shapes\n"
      ]
    },
    {
      "cell_type": "markdown",
      "id": "5ded647b",
      "metadata": {
        "id": "5ded647b"
      },
      "source": [
        "#### What you are going to see in the rest of the class is a focus on actual data analysis.\n",
        "\n",
        "**You have already been introduced to Pandas, and now to Numpy basics, and in the remaining notebooks we will be working through different analysis scenarios, along with developing the underlying mathematics of 4 popular statistical algorithms, which will be in the last module (after MT2).**\n",
        "\n",
        "Our objective is to take the tools that you have been learning how to use and apply them.\n",
        "\n",
        "For the statistical algorigthms that we will be developing by hand have Python packages (and in R and MatLab, for those languages) that can be called directly, without the need to really understand what is going on \"under the hood\".\n",
        "\n",
        "It is the philosophy of the MSA program that this is NOT an applied degree. You will find in just about every class in the program, you will be learning, understanding, and developing the linear algebra, calculus, and other mathematics that make up the foundations of whatever that class is covering.\n",
        "\n",
        "**This is just the beginning, and that is how this program operates. These upcoming notebooks are typical of the kind of work that you will be doing throughout the program.**"
      ]
    },
    {
      "cell_type": "markdown",
      "id": "db6aafe1",
      "metadata": {
        "id": "db6aafe1"
      },
      "source": [
        "#### We will be going over fundamentals of numpy that are important in data analysis.\n",
        "\n",
        "**In this introduction, we are going to do a review the data types of scalars, vectors, and matrices. We are then going to look at some of the properties of those.**"
      ]
    },
    {
      "cell_type": "markdown",
      "id": "d737fdb3",
      "metadata": {
        "id": "d737fdb3"
      },
      "source": [
        "### First, let's understand what a scalar variable is."
      ]
    },
    {
      "cell_type": "markdown",
      "id": "19b3ef14",
      "metadata": {
        "id": "19b3ef14"
      },
      "source": [
        "### What is a Scalar Variable?\n",
        "\n",
        "A scalar variable is a variable that contains a singular piece of data/information at a time. These variables are mostly immutable meaning you can not change the object once it has been created. A non-scalar variable like a list or array would connect one variable to many pieces of data/information and these types are mutable meaning we can change the data inside."
      ]
    },
    {
      "cell_type": "markdown",
      "id": "14f82bfa",
      "metadata": {
        "id": "14f82bfa"
      },
      "source": [
        "### The Main Scalar Variable Types:\n",
        "#### Python supports type inferencing. This means you do not have to declare variable types. It is still important, however, to know and understand the different of scalar variables. In Python there are 6 main scalar variable types:\n",
        "##### Integer, Float, String, Boolean, Complex, None\n",
        "\n",
        "In the class, you have dealt with all of these data types except Complex, which we do not cover.\n",
        "\n",
        "The key takeaway for this discussion is that Scalar Variables contain a singular piece of data/information at a time."
      ]
    },
    {
      "cell_type": "markdown",
      "id": "90f3dc7f",
      "metadata": {
        "id": "90f3dc7f"
      },
      "source": [
        "### What is a vector (variable)?\n",
        "\n",
        "A vector is built from components, which are ordinary numbers. We can think of a vector as a list of numbers, and vector algebra as operations performed on the numbers in the list.\n",
        "\n",
        "#### In other words vector is the numpy 1-D array.\n",
        "\n",
        "#### Exercise 0 of NB12 part2-algs makes a significant distinction about vectors, and we are going to review it here."
      ]
    },
    {
      "cell_type": "markdown",
      "id": "129c37bd",
      "metadata": {
        "id": "129c37bd"
      },
      "source": [
        "**Exercise 0** (ungraded). Inspect the following code cell and make sure you understand the difference between two conventions for storing a vector, namely, as a one-dimensional array versus as a two-dimensional array (matrix) where the number of columns equals one (1). When you are asked to produce a vector, we will generally ask you to follow the second convention (`z_colvec`)."
      ]
    },
    {
      "cell_type": "markdown",
      "id": "9117608f",
      "metadata": {
        "id": "9117608f"
      },
      "source": [
        "### The below cell creates two vectors as one-dimensional arrays.\n",
        "#### Note that the array shape has only one number, as it is a 1-D array.\n",
        "#### As the comment below says, by default, Numpy vectors constructed from a list are 1-D and have neither a row nor a column orientation."
      ]
    },
    {
      "cell_type": "code",
      "execution_count": null,
      "id": "326f90fa",
      "metadata": {
        "id": "326f90fa"
      },
      "outputs": [],
      "source": [
        "import numpy as np\n",
        "\n",
        "# By default, Numpy vectors constructed from a list are 1-D\n",
        "# and have neither a row nor a column orientation.\n",
        "z_array = np.array([1.0, 2.0, 3.0])\n",
        "print(\"`z_array`:\\n\\n\", z_array, \"\\n\\n==> shape:\", z_array.shape)\n",
        "\n",
        "# Create a length-10 integer array filled with zeros\n",
        "zeros_array = np.zeros(10, dtype=int)\n",
        "print(\"`zeros_array`:\\n\\n\", zeros_array, \"\\n\\n==> shape:\", zeros_array.shape)"
      ]
    },
    {
      "cell_type": "markdown",
      "id": "d21a79c5",
      "metadata": {
        "id": "d21a79c5"
      },
      "source": [
        "### In general, for this class, we will not be working with vectors as 1-D arrays. You will see that,when we want to work with a vector, we will do so in the form of a 2-D matrix with the number of columns equal to one.\n",
        "\n",
        "### While all of the statistical algorithms can be n-dimensional, this class will stay in the 2-D realm, so that you can focus on understanding the basics of each. This is why it is important for you to understand 2-D matrices, their properties, and how to operate on them.\n",
        "\n",
        "#### So let's look at matrices, starting with a basic 2-D structure.\n",
        "\n",
        "Think of an Excel spreadsheet, with rows and columns, and that is your basic 2-D matrix. The rows and columns are indexed starting at 0, and each individual element is addressed as (row, column). In the Numpy matrix, each individual element is of the same data type."
      ]
    },
    {
      "cell_type": "code",
      "execution_count": null,
      "id": "e8756a38",
      "metadata": {
        "id": "e8756a38"
      },
      "outputs": [],
      "source": [
        "import numpy as np\n",
        "np.random.seed(0)  # seed for reproducibility\n",
        "two_d = np.random.randint(10, size=(4, 5))  # Two-dimensional array with 4 rows and 5 columns"
      ]
    },
    {
      "cell_type": "code",
      "execution_count": null,
      "id": "57de4989",
      "metadata": {
        "id": "57de4989"
      },
      "outputs": [],
      "source": [
        "print(\"two_d data type: \", two_d.dtype)\n",
        "print(\"two_d shape:\", two_d.shape)\n",
        "print(\"two_d size: \", two_d.size)\n",
        "print(\"two_d # of dimensions: \", two_d.ndim)\n",
        "two_d"
      ]
    },
    {
      "cell_type": "markdown",
      "id": "6831ba1e",
      "metadata": {
        "id": "6831ba1e"
      },
      "source": [
        "#### Note that we have 4 rows and 5 columns in this matrix.\n",
        "#### So what is the value of the data element in the 3rd row and 4th column?"
      ]
    },
    {
      "cell_type": "code",
      "execution_count": null,
      "id": "b9a49f4a",
      "metadata": {
        "id": "b9a49f4a"
      },
      "outputs": [],
      "source": [
        "two_d[2,3]  # note the use of the zero indexing in referencing the data element"
      ]
    },
    {
      "cell_type": "markdown",
      "id": "313f2cba",
      "metadata": {
        "id": "313f2cba"
      },
      "source": [
        "### Now let's go back to that vector. Remember that, for this class, a vector is a 2-D matrix in which one of the dimensions is equal to 1.\n",
        "#### Vectors can either be row-vectors or column-vectors. Let's take a look at each."
      ]
    },
    {
      "cell_type": "code",
      "execution_count": null,
      "id": "31ed9162",
      "metadata": {
        "id": "31ed9162"
      },
      "outputs": [],
      "source": [
        "row_vect = np.random.randint(10, size=(1, 5))  # Two-dimensional array with 1 row and 5 columns"
      ]
    },
    {
      "cell_type": "code",
      "execution_count": null,
      "id": "c73232ee",
      "metadata": {
        "id": "c73232ee"
      },
      "outputs": [],
      "source": [
        "print(\"row_vect data type: \", row_vect.dtype)\n",
        "print(\"row_vect shape:\", row_vect.shape)\n",
        "print(\"row_vect size: \", row_vect.size)\n",
        "print(\"row_vect # of dimensions: \", row_vect.ndim)\n",
        "row_vect  #note the notation when output, and show same as above"
      ]
    },
    {
      "cell_type": "code",
      "execution_count": null,
      "id": "c0ee3c3b",
      "metadata": {
        "id": "c0ee3c3b"
      },
      "outputs": [],
      "source": [
        "col_vect = np.random.randint(10, size=(5, 1))  # Two-dimensional array with 5 rows and 1 column"
      ]
    },
    {
      "cell_type": "code",
      "execution_count": null,
      "id": "ac111d59",
      "metadata": {
        "id": "ac111d59"
      },
      "outputs": [],
      "source": [
        "print(\"col_vect data type: \", col_vect.dtype)\n",
        "print(\"col_vect shape:\", col_vect.shape)\n",
        "print(\"col_vect size: \", col_vect.size)\n",
        "print(\"col_vect # of dimensions: \", col_vect.ndim)\n",
        "col_vect  #note the notation when output, and show same as above, and the commas after each row"
      ]
    },
    {
      "cell_type": "markdown",
      "id": "025b073f",
      "metadata": {
        "id": "025b073f"
      },
      "source": [
        "#### Note that we have 5 rows and 1 column in this matrix.\n",
        "#### So what is the value of the data element in the 3rd row?\n",
        "Remember that this is a 2-D matrix, so in asking for the 3rd row value, we must address it as the value in the 3rd row and 1st column."
      ]
    },
    {
      "cell_type": "code",
      "execution_count": null,
      "id": "c4f29a9a",
      "metadata": {
        "id": "c4f29a9a"
      },
      "outputs": [],
      "source": [
        "col_vect[2,0]  # note the use of the zero indexing in referencing the data element"
      ]
    },
    {
      "cell_type": "markdown",
      "id": "4db0abf5",
      "metadata": {
        "id": "4db0abf5"
      },
      "source": [
        "## For this class, when we are working with vectors, we will generally be using column vectors, in which each data element is in its own row, and a single column."
      ]
    },
    {
      "cell_type": "markdown",
      "id": "e42a232c",
      "metadata": {
        "id": "e42a232c"
      },
      "source": [
        "### Understanding the shapes of the matrices you are working with is the key to knowing what operations you need to perform on them. Each operation has its own requirement for the relative shapes of each matrix in the equation, and you must ensure that your matrix shapes comply with those requirements.\n",
        "\n",
        "We are not going to delve into all of those requirements here, as you as getting exposure to those in the homework notebooks."
      ]
    },
    {
      "cell_type": "markdown",
      "id": "d0eb0c09",
      "metadata": {
        "id": "d0eb0c09"
      },
      "source": [
        "### The one operation that we want to show here is transpose.\n",
        "\n",
        "#### Numpy’s transpose() function is used to reverse the dimensions of the given array. It changes the row elements to column elements and column to row elements. Recall our 2-D array above, with 4 rows and 5 columns."
      ]
    },
    {
      "cell_type": "code",
      "execution_count": null,
      "id": "86e05e94",
      "metadata": {
        "id": "86e05e94"
      },
      "outputs": [],
      "source": [
        "np.random.seed(0)  # seed for reproducibility\n",
        "two_d = np.random.randint(10, size=(4, 5))  # Two-dimensional array with 4 rows and 5 columns\n",
        "print(\"two_d data type: \", two_d.dtype)\n",
        "print(\"two_d shape:\", two_d.shape)\n",
        "print(\"two_d size: \", two_d.size)\n",
        "print(\"two_d # of dimensions: \", two_d.ndim)\n",
        "two_d"
      ]
    },
    {
      "cell_type": "markdown",
      "id": "ca597250",
      "metadata": {
        "id": "ca597250"
      },
      "source": [
        "#### Now let's transpose the array, so that it has 5 rows and 4 columns."
      ]
    },
    {
      "cell_type": "code",
      "execution_count": null,
      "id": "837e55d8",
      "metadata": {
        "id": "837e55d8"
      },
      "outputs": [],
      "source": [
        "two_d_trans = two_d.transpose()\n",
        "print(\"two_d_trans data type: \", two_d_trans.dtype)\n",
        "print(\"two_d_trans shape:\", two_d_trans.shape)\n",
        "print(\"two_d_trans size: \", two_d_trans.size)\n",
        "print(\"two_d_trans # of dimensions: \", two_d_trans.ndim)\n",
        "two_d_trans"
      ]
    },
    {
      "cell_type": "markdown",
      "id": "f2f2f1ea",
      "metadata": {
        "id": "f2f2f1ea"
      },
      "source": [
        "#### See how the transpose function works. The first row in the 4x5 matrix becomes the first column in the 5x4 matrix, and so on.\n",
        "\n",
        "#### You can also use the \".T\" notation to perform your transposition, which works well in the equations that you will be working on.\n"
      ]
    },
    {
      "cell_type": "code",
      "execution_count": null,
      "id": "199b6e73",
      "metadata": {
        "id": "199b6e73"
      },
      "outputs": [],
      "source": [
        "two_d_T = two_d.T\n",
        "two_d_T"
      ]
    },
    {
      "cell_type": "markdown",
      "id": "ea4075ff",
      "metadata": {
        "id": "ea4075ff"
      },
      "source": [
        "**We will be covering Numpy operations over the next few weeks, as you encounter them in the algorithms and homework notebooks.**\n",
        "\n",
        "This notebook hopefully provides you with an understanding of array shapes and how to manipulate them, so that you can successfully execute the equations in the upcoming notebooks."
      ]
    },
    {
      "cell_type": "markdown",
      "id": "69678f60",
      "metadata": {
        "id": "69678f60"
      },
      "source": [
        "## A note from a program graduate to current students.\n",
        "\n",
        "## You might have the thought of taking the class ISYE6740, Computational Data Analysis, as part of your program. Highly recommended, by the CSE6040 TA Staff.\n",
        "\n",
        "## You will want to save NB's 12, 13, 14 and 15 from this class, as they can be very helpful on some of homework assignments in ISYE6740."
      ]
    },
    {
      "cell_type": "code",
      "execution_count": null,
      "id": "518d7f20",
      "metadata": {
        "id": "518d7f20"
      },
      "outputs": [],
      "source": []
    }
  ],
  "metadata": {
    "colab": {
      "provenance": [],
      "include_colab_link": true
    },
    "kernelspec": {
      "display_name": "Python 3 (ipykernel)",
      "language": "python",
      "name": "python3"
    },
    "language_info": {
      "codemirror_mode": {
        "name": "ipython",
        "version": 3
      },
      "file_extension": ".py",
      "mimetype": "text/x-python",
      "name": "python",
      "nbconvert_exporter": "python",
      "pygments_lexer": "ipython3",
      "version": "3.12.7"
    }
  },
  "nbformat": 4,
  "nbformat_minor": 5
}