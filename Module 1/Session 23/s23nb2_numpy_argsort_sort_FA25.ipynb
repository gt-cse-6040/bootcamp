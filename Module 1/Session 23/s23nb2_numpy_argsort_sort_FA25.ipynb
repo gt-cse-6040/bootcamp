{
 "cells": [
  {
   "cell_type": "markdown",
   "id": "0acde91d",
   "metadata": {
    "id": "0acde91d"
   },
   "source": [
    "# Numpy argsort() and Numpy sort()"
   ]
  },
  {
   "cell_type": "code",
   "execution_count": null,
   "id": "1c9e9523",
   "metadata": {
    "id": "1c9e9523"
   },
   "outputs": [],
   "source": [
    "import numpy as np\n",
    "import random\n",
    "import pandas as pd"
   ]
  },
  {
   "cell_type": "markdown",
   "id": "9f991718",
   "metadata": {
    "id": "9f991718"
   },
   "source": [
    "### Why are we covering this topic?\n",
    "\n",
    "#### Historically, students have had difficulty understanding what argsort() does and how to apply it.\n",
    "\n",
    "So we introduce it here, to help with that understanding. \n",
    "\n",
    "We will not be doing complex exercises here, but simply introducing the concept."
   ]
  },
  {
   "cell_type": "markdown",
   "id": "4dcaec59",
   "metadata": {
    "id": "4dcaec59"
   },
   "source": [
    "# argsort() function\n",
    "\n",
    "Documentation link:  https://numpy.org/doc/stable/reference/generated/numpy.argsort.html"
   ]
  },
  {
   "cell_type": "markdown",
   "id": "d0c76ab3",
   "metadata": {
    "id": "d0c76ab3"
   },
   "source": [
    "### The np.argsort() function is used to return the indices that would sort an array.\n",
    "\n",
    "#### So the function returns an array of indexes of the same shape as `a` that index data along the given axis in sorted order (from the documentation)."
   ]
  },
  {
   "cell_type": "markdown",
   "id": "cd738c57",
   "metadata": {
    "id": "cd738c57"
   },
   "source": [
    "OK, so what does this mean, in practice?\n",
    "\n",
    "The function will return an integer array, with the same shape as the source array, with the values being the index locations of the sorted source array values. The returned array does not sort the values themselves, but it gives us what the order of the sorted values would be."
   ]
  },
  {
   "cell_type": "markdown",
   "id": "0e829828-20db-419d-8b88-3f895f0d5f8b",
   "metadata": {},
   "source": [
    "### Admittedly, the use of argsort() is contained in very specific use cases, and it is not one that students will often encounter.\n",
    "\n",
    "However, in those use cases, it is absolutely the right function/method to use.\n",
    "\n",
    "Students will encounter a couple of use cases in Homework Notebook 11, and we encourage students to understand what those use cases are, and why argsort() is best for them.\n",
    "\n",
    "Additionally, there are a few previous exams (Exam Practice Notebooks) which present scenarios in which argsort() is a good solution. The function is not the only one that can solve the exam exercise, but its use could be good in a solution for the exercise."
   ]
  },
  {
   "cell_type": "markdown",
   "id": "02bf9e44-f660-4493-bab1-f9cafb7c90cd",
   "metadata": {},
   "source": [
    "### A simple example of when argsort() is most appropriate would be when there are two same-sized arrays, call them `A` and `B`, in which the value at each location in `A` matches directly to the value at the corresponding location in `B`. The values themselves in `A` and `B` would have different meanings, in the context of the exercise. \n",
    "\n",
    "#### In this class, we will generally go from a numpy array to be sorted to a pandas dataframe with the corresponding values.\n",
    "\n",
    "An example might be `average income` in array `A` and corresponding `zip code` in dataframe `B`.\n",
    "\n",
    "#### The requirement for the exercise might be to provide the zip code value(s) from dataframe `B` that correspond to the `x` number of highest/lowest income values in array `A`. \n",
    "\n",
    "To meet this requirement, we would want to extract the index values of the `x` highest/lowest values in array `A` and apply those indices to dataframe `B`, to return the values from dataframe `B`.\n",
    "\n",
    "There is an example of this in Homework NB11, Exercises 2 and 4. The example code below would be similar to steps in solving those exercises."
   ]
  },
  {
   "cell_type": "markdown",
   "id": "a65aa2ea-60ca-4027-8d70-c76e3f5fe1dd",
   "metadata": {},
   "source": [
    "### Let's look at a few simple examples for understanding how argsort() functions."
   ]
  },
  {
   "cell_type": "code",
   "execution_count": null,
   "id": "6fc6d43c",
   "metadata": {
    "id": "6fc6d43c"
   },
   "outputs": [],
   "source": [
    "a = np.array([5, 3, 2, 0, 1, 4])\n",
    "np.argsort(a)"
   ]
  },
  {
   "cell_type": "markdown",
   "id": "d1e894fe",
   "metadata": {
    "id": "d1e894fe"
   },
   "source": [
    "OK, so what is this array telling us?\n",
    "\n",
    "1. The element at index = 3 is the first element in the sorted order (0 is the lowest value).\n",
    "2. The element at index = 4 is the second element in the sorted order (1 is the next lowest value).\n",
    "3. The element at index = 2 is the third element in the sorted order (2 is the next lowest value).\n",
    ".......\n",
    "4. The element at index = 0 is the largest element in the sorted order (5 is the highest value)."
   ]
  },
  {
   "cell_type": "markdown",
   "id": "03a73098",
   "metadata": {
    "id": "03a73098"
   },
   "source": [
    "Does it sort float values in the same manner?"
   ]
  },
  {
   "cell_type": "code",
   "execution_count": null,
   "id": "7032437c",
   "metadata": {
    "id": "7032437c"
   },
   "outputs": [],
   "source": [
    "b = np.array([5.0, 3.0, 2.0, 0.0, 1.0, 4.0])\n",
    "np.argsort(b)"
   ]
  },
  {
   "cell_type": "markdown",
   "id": "0a833cf4",
   "metadata": {
    "id": "0a833cf4"
   },
   "source": [
    "What about strings?"
   ]
  },
  {
   "cell_type": "code",
   "execution_count": null,
   "id": "039ca3fa",
   "metadata": {
    "id": "039ca3fa"
   },
   "outputs": [],
   "source": [
    "c = np.array(['p','m','x','h','a','t'])\n",
    "np.argsort(c)"
   ]
  },
  {
   "cell_type": "markdown",
   "id": "1f72a3e4",
   "metadata": {
    "id": "1f72a3e4"
   },
   "source": [
    "Now let's look at a simple example. While this may seem fairly straightforward, conceptually, this is the types of exercise that you will see in the homework notebooks and on the exams."
   ]
  },
  {
   "cell_type": "markdown",
   "id": "adb2b4c7",
   "metadata": {
    "id": "adb2b4c7"
   },
   "source": [
    "**Requirement:**\n",
    "\n",
    "What are the three largest values in an array?\n",
    "\n",
    "Return a numpy array with these three values."
   ]
  },
  {
   "cell_type": "code",
   "execution_count": null,
   "id": "f054ff23",
   "metadata": {
    "id": "f054ff23"
   },
   "outputs": [],
   "source": [
    "# intialize an array\n",
    "incomes = np.array([68000,43000,21000,10000,54000,50000,120000,76000,23000,37000])\n",
    "incomes"
   ]
  },
  {
   "cell_type": "markdown",
   "id": "a4a554bd",
   "metadata": {
    "id": "a4a554bd"
   },
   "source": [
    "Using visual inspection, what are the three largest values?\n",
    "\n",
    "1. Value = 100, at index 3.\n",
    "2. Value = 76, at index 7.\n",
    "3. Value = 68, at index 0."
   ]
  },
  {
   "cell_type": "code",
   "execution_count": null,
   "id": "17919a52",
   "metadata": {
    "id": "17919a52"
   },
   "outputs": [],
   "source": [
    "# using argsort, get indices of the values, arranged in ascending order\n",
    "np.argsort(incomes)"
   ]
  },
  {
   "cell_type": "markdown",
   "id": "700e0d42",
   "metadata": {
    "id": "700e0d42"
   },
   "source": [
    "#### Recall slicing of arrays, for the cells below.\n",
    "\n",
    "We use square brackets to access subarrays with the slice notation, marked by the colon (:) character. The NumPy slicing syntax follows that of the standard Python list; to access a slice of an array x, use this:\n",
    "\n",
    "**x[start:stop:step]**\n",
    "\n",
    "If any of these are unspecified, they default to the values `start=0`, `stop=size of dimension`, `step=1`.\n",
    "\n",
    "\n",
    "Good reference, go down about 1/3rd of the page:  https://jakevdp.github.io/PythonDataScienceHandbook/02.02-the-basics-of-numpy-arrays.html"
   ]
  },
  {
   "cell_type": "markdown",
   "id": "1a4eb8cf-9fad-41f2-8b16-27944f946264",
   "metadata": {},
   "source": [
    "#### Below are three ways of using slicing notation to return the index values of the three largest values in the array.\n",
    "\n",
    "None of the three are inherently better than the others, just three different ways of doing it, with one key difference.\n",
    "\n",
    "The difference is that the **first method** returns the index values in the order that they appear in the array. Because the array is sorted from smallest to largest (value at that index location), it returns the indices from smallest value to largest, of the three in question.\n",
    "\n",
    "In the **second and third methods**, they return the indices in the value-sorted order."
   ]
  },
  {
   "cell_type": "code",
   "execution_count": null,
   "id": "6c95376f",
   "metadata": {
    "id": "6c95376f"
   },
   "outputs": [],
   "source": [
    "# return three highest value index of array\n",
    "# In the slice notation, we are telling it to return the last three values of the sort array,\n",
    "# which are the indexes of the three largest values in the original array.\n",
    "np.argsort(incomes)[-3::]"
   ]
  },
  {
   "cell_type": "code",
   "execution_count": null,
   "id": "1cf1db5a-f5bf-413a-ae8f-73d255a5348d",
   "metadata": {},
   "outputs": [],
   "source": [
    "np.argsort(incomes)[-1:-4:-1] "
   ]
  },
  {
   "cell_type": "code",
   "execution_count": null,
   "id": "a92735c3-36bf-4b15-98f2-c6b1d487fc5f",
   "metadata": {},
   "outputs": [],
   "source": [
    "np.argsort(incomes)[::-1][:3:] "
   ]
  },
  {
   "cell_type": "markdown",
   "id": "b5578c9c-6810-4fa8-8871-88cbec84859d",
   "metadata": {},
   "source": [
    "### Now let's arrange the sort array in ascending order of index, for the top three.\n",
    "\n",
    "We are taking the array from the previous cell and using slice notation to sort the indexes in reverse order (step = -1).\n",
    "\n",
    "Note that we are still returning the indexes from the original array.\n",
    "\n",
    "#### Also note that we don't need to change the second or third code, because they already return the indices in the value-sorted order."
   ]
  },
  {
   "cell_type": "code",
   "execution_count": null,
   "id": "8cc6e939",
   "metadata": {
    "id": "8cc6e939"
   },
   "outputs": [],
   "source": [
    "np.argsort(incomes)[-3::][::-1]"
   ]
  },
  {
   "cell_type": "code",
   "execution_count": null,
   "id": "6971a958-6019-4607-aaa3-5a35d4a901c9",
   "metadata": {},
   "outputs": [],
   "source": [
    "np.argsort(incomes)[-1:-4:-1]"
   ]
  },
  {
   "cell_type": "code",
   "execution_count": null,
   "id": "44b2586c-f728-4a7b-a1aa-f7442724cbd1",
   "metadata": {},
   "outputs": [],
   "source": [
    "np.argsort(incomes)[::-1][:3:]"
   ]
  },
  {
   "cell_type": "markdown",
   "id": "029a718b-ad55-44bd-b4c8-29a761643599",
   "metadata": {},
   "source": [
    "#### Finally, let's return the 3 highest values from the original array\n",
    "\n",
    "Remember from the last step the we are returning, in sorted order, the indexes of the top three values.\n",
    "\n",
    "So all we are doing now is returning the values at those indexes."
   ]
  },
  {
   "cell_type": "code",
   "execution_count": null,
   "id": "86e42dcc",
   "metadata": {
    "id": "86e42dcc"
   },
   "outputs": [],
   "source": [
    "incomes[np.argsort(incomes)[-3::][::-1]]"
   ]
  },
  {
   "cell_type": "code",
   "execution_count": null,
   "id": "525e62f2-d9dd-4a27-b55e-d77a481ac6c9",
   "metadata": {},
   "outputs": [],
   "source": [
    "incomes[np.argsort(incomes)[-1:-4:-1]]"
   ]
  },
  {
   "cell_type": "code",
   "execution_count": null,
   "id": "83317952-fc82-4bff-92dd-e8be37854b7f",
   "metadata": {},
   "outputs": [],
   "source": [
    "incomes[np.argsort(incomes)[::-1][:3:]]"
   ]
  },
  {
   "cell_type": "code",
   "execution_count": null,
   "id": "b0891722",
   "metadata": {
    "id": "b0891722"
   },
   "outputs": [],
   "source": [
    "# All of these are the same as:\n",
    "incomes[[3,7,0]]"
   ]
  },
  {
   "cell_type": "markdown",
   "id": "954bd4b6-cfad-450f-a8d2-948ad26b8f9a",
   "metadata": {},
   "source": [
    "## So how would we map these index locations to a array or dataframe?\n",
    "\n",
    "Let's say that we have an array called `zip_array`, with a series of zip codes.\n",
    "\n",
    "Our array `incomes` represents the the average income in each zip code area.\n",
    "\n",
    "We want to know the three zip codes with the highest average incomes."
   ]
  },
  {
   "cell_type": "code",
   "execution_count": null,
   "id": "8fad48e8-d4a0-4fc8-990f-8550d245fe94",
   "metadata": {},
   "outputs": [],
   "source": [
    "zip_array = ['12345','23456','34567','45678','56789','67890','78901','89012','90123','01234']\n",
    "column = ['zip_code']\n",
    "zip_df = pd.DataFrame(data = zip_array, \n",
    "                  columns = column)"
   ]
  },
  {
   "cell_type": "code",
   "execution_count": null,
   "id": "741594a3-7df5-4614-a4b4-3f08179720c5",
   "metadata": {},
   "outputs": [],
   "source": [
    "zip_df"
   ]
  },
  {
   "cell_type": "code",
   "execution_count": null,
   "id": "dc7455f4-f003-4862-ba03-b25b7715842a",
   "metadata": {},
   "outputs": [],
   "source": [
    "positions = np.argsort(incomes)[-1:-4:-1]\n",
    "positions"
   ]
  },
  {
   "cell_type": "code",
   "execution_count": null,
   "id": "10861303-0f14-4662-a6aa-9e4f583557f7",
   "metadata": {},
   "outputs": [],
   "source": [
    "top_3_zips = zip_df.iloc[positions] \n",
    "top_3_zips"
   ]
  },
  {
   "cell_type": "markdown",
   "id": "e07726a0",
   "metadata": {
    "id": "e07726a0"
   },
   "source": [
    "### What are your questions on argsort()?"
   ]
  },
  {
   "cell_type": "markdown",
   "id": "3e13e2ea-260c-4c9e-8798-671a488649ec",
   "metadata": {},
   "source": [
    "## So what if all you want to do is return the three highest values in an array, and you don't care about their index location, or you don't need to map their index locations to the values in another array?\n",
    "\n",
    "### Use the Numpy function `sort()` directly on the array, along with the appropriate slicing notation, to return an array of the selected values.\n",
    "\n",
    "https://numpy.org/doc/2.1/reference/generated/numpy.sort.html\n",
    "\n",
    "https://www.w3schools.com/python/numpy/numpy_array_sort.asp"
   ]
  },
  {
   "cell_type": "markdown",
   "id": "bdb264a3-d67c-41cd-b563-51108a02c37c",
   "metadata": {},
   "source": [
    "#### What are the three largest values in the array, sorted in order from highest to lowest?"
   ]
  },
  {
   "cell_type": "code",
   "execution_count": null,
   "id": "c4369418-3f85-44d4-8853-fc92794f80a6",
   "metadata": {},
   "outputs": [],
   "source": [
    "np.sort(incomes)[-3::][::-1]"
   ]
  },
  {
   "cell_type": "code",
   "execution_count": null,
   "id": "cb6f8fa7-0ce1-4351-a4a8-a44fa744625d",
   "metadata": {},
   "outputs": [],
   "source": [
    "np.sort(incomes)[-1:-4:-1]"
   ]
  },
  {
   "cell_type": "code",
   "execution_count": null,
   "id": "c81eac85-fd21-4c8d-b773-5ee7b76d1a83",
   "metadata": {},
   "outputs": [],
   "source": [
    "np.sort(incomes)[::-1][:3:]"
   ]
  },
  {
   "cell_type": "markdown",
   "id": "526854fc-1470-4e04-bded-eae523c815d8",
   "metadata": {},
   "source": [
    "## What are your questions on argsort() and sort()?"
   ]
  },
  {
   "cell_type": "code",
   "execution_count": null,
   "id": "f71c2706-e857-4331-bbcc-b5c79215d9ce",
   "metadata": {},
   "outputs": [],
   "source": []
  }
 ],
 "metadata": {
  "colab": {
   "include_colab_link": true,
   "provenance": []
  },
  "kernelspec": {
   "display_name": "Python 3 (ipykernel)",
   "language": "python",
   "name": "python3"
  },
  "language_info": {
   "codemirror_mode": {
    "name": "ipython",
    "version": 3
   },
   "file_extension": ".py",
   "mimetype": "text/x-python",
   "name": "python",
   "nbconvert_exporter": "python",
   "pygments_lexer": "ipython3",
   "version": "3.12.7"
  }
 },
 "nbformat": 4,
 "nbformat_minor": 5
}
