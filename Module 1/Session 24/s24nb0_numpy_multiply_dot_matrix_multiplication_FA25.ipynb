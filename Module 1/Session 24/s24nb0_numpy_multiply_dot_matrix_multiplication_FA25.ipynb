{
  "cells": [
    {
      "cell_type": "markdown",
      "metadata": {
        "id": "view-in-github",
        "colab_type": "text"
      },
      "source": [
        "<a href=\"https://colab.research.google.com/github/gt-cse-6040/bootcamp/blob/main/Module%201/Session%2024/s24nb0_numpy_multiply_dot_matrix_multiplication_FA25.ipynb\" target=\"_parent\"><img src=\"https://colab.research.google.com/assets/colab-badge.svg\" alt=\"Open In Colab\"/></a>"
      ]
    },
    {
      "cell_type": "markdown",
      "id": "94d48612",
      "metadata": {
        "id": "94d48612"
      },
      "source": [
        "# Numpy multiply and matrix multiplication\n",
        "\n",
        "## When to use np.dot(), np.matmul(), np.multiply()"
      ]
    },
    {
      "cell_type": "markdown",
      "id": "3abd0f91",
      "metadata": {
        "id": "3abd0f91"
      },
      "source": [
        "## Today we are covering the three above functions for numpy, what they do, and when you should use each. In general, each of these functions does some form of matrix multiplication.\n",
        "\n",
        "We will focus on 2D arrays in this discussion, as most of what we will be working with is 2D.\n",
        "\n",
        "There are significant differences between np.dot() and np.matmul() in higher than 2-D space, so while the `rules` below can be considered `guidelines` for 2-D and below, they are `unbreakable rules` in 3-D and higher spaces.\n",
        "\n",
        "We recommend, therefore, that you apply the rules in all dimensions, so that you never run into issues."
      ]
    },
    {
      "cell_type": "code",
      "execution_count": null,
      "id": "cb792fa1",
      "metadata": {
        "id": "cb792fa1"
      },
      "outputs": [],
      "source": [
        "import numpy as np"
      ]
    },
    {
      "cell_type": "markdown",
      "id": "9d145dd8",
      "metadata": {
        "id": "9d145dd8"
      },
      "source": [
        "### np.multiply() function\n",
        "\n",
        "Use this function to return the element-wise multiplication of two arrays.\n",
        "\n",
        "The arrays must be identical in their shapes (same number of rows and columns in each).\n",
        "\n",
        "If you have not yet watched the Understanding Array Shapes video in the Topic 10 Module on Canvas/edX, please do so. It provides foundational material required for this discussion.\n",
        "\n",
        "Documentation link:  https://numpy.org/doc/stable/reference/generated/numpy.multiply.html\n",
        "\n",
        "Good detailed explanation of the multiply() function:  https://www.sharpsightlabs.com/blog/numpy-multiply/\n"
      ]
    },
    {
      "cell_type": "markdown",
      "id": "1f669290",
      "metadata": {
        "id": "1f669290"
      },
      "source": [
        "**If you are going to be required to do an element-wise multiplication of two (or more) matrices in the class, you will be told that this is what you want to do, either directly or via a hint.**"
      ]
    },
    {
      "cell_type": "markdown",
      "id": "c05f3422",
      "metadata": {
        "id": "c05f3422"
      },
      "source": [
        "![np_multiply.png](https://github.com/gt-cse-6040/bootcamp/blob/main/Module%201/Session%206/np_multiply.png?raw=1)"
      ]
    },
    {
      "cell_type": "code",
      "execution_count": null,
      "id": "b38e4e00",
      "metadata": {
        "id": "b38e4e00"
      },
      "outputs": [],
      "source": [
        "# let's look at an example\n",
        "A = np.array([[1,2,3], [4,5,6]])\n",
        "B = np.array([[1,2,3], [4,5,6]])\n",
        "\n",
        "print(\"Matrix A is:\\n\",A)\n",
        "print(\"Matrix B is:\\n\",B)\n",
        "\n",
        "C = np.multiply(A,B)\n",
        "print(\"Matrix multiplication of matrix A and B is:\\n\",C)"
      ]
    },
    {
      "cell_type": "markdown",
      "id": "7da3beaf",
      "metadata": {
        "id": "7da3beaf"
      },
      "source": [
        "#### Questions on np.multiply()?"
      ]
    },
    {
      "cell_type": "markdown",
      "id": "cbbfd059",
      "metadata": {
        "id": "cbbfd059"
      },
      "source": [
        "## Now let's look at matrix multiplication conceptually."
      ]
    },
    {
      "cell_type": "markdown",
      "id": "b8efbf3a",
      "metadata": {
        "id": "b8efbf3a"
      },
      "source": [
        "### Matrix multiplication returns the \"matrix product\" of two given arrays.\n",
        "\n",
        "### What is the definition of the \"matrix product\"?"
      ]
    },
    {
      "cell_type": "markdown",
      "id": "d172abf1",
      "metadata": {
        "id": "d172abf1"
      },
      "source": [
        "Fundamentally, it is a binary operation that produces a matrix from two matrices. For matrix multiplication, the number of columns in the first matrix must be equal to the number of rows in the second matrix. The resulting matrix, known as the matrix product, has the number of rows of the first and the number of columns of the second matrix.\n",
        "\n",
        "If `a` is an `*m × n*` matrix and `b` is an `*n × p*` matrix, then the matrix product\n",
        "\n",
        "**c = ab**\n",
        "\n",
        "is defined to be the *m × p* matrix such that:"
      ]
    },
    {
      "cell_type": "markdown",
      "id": "5a4cb578",
      "metadata": {
        "id": "5a4cb578"
      },
      "source": [
        "![case_1_summation.png](https://github.com/gt-cse-6040/bootcamp/blob/main/Module%201/Session%206/case_1_summation.png?raw=1)"
      ]
    },
    {
      "cell_type": "markdown",
      "id": "0320c3c9",
      "metadata": {
        "id": "0320c3c9"
      },
      "source": [
        "Each value of the resulting matrix, `c`, is the `dot product` of the `*i*th` row of `a` and the `*j*th` column of `b`.\n",
        "\n",
        "The matrix itself is called the **dot product matrix**."
      ]
    },
    {
      "cell_type": "markdown",
      "id": "89c2d2e1",
      "metadata": {
        "id": "89c2d2e1"
      },
      "source": [
        "**`Why is dot product useful?`**\n",
        "\n",
        "What the dot product formula is really saying is that take two vectors of equal length (each dimension is 1, n). We multiply each term in list A by the corresponding term in list B and then add all n terms together.\n",
        "\n",
        "Dot product is the basis of matrix multiplication and if you understand dot product well, it becomes easier to understand the intent behind the way two matrices are multiplied together"
      ]
    },
    {
      "cell_type": "markdown",
      "id": "cd712969",
      "metadata": {
        "id": "cd712969"
      },
      "source": [
        "![dot_useful.png](https://github.com/gt-cse-6040/bootcamp/blob/main/Module%201/Session%206/dot_useful.png?raw=1)"
      ]
    },
    {
      "cell_type": "markdown",
      "id": "ff158f9d",
      "metadata": {
        "id": "ff158f9d"
      },
      "source": [
        "**`Matrix Multiplication`**\n",
        "\n",
        "As we noted above in our definition, for matrix multiplication to work, the columns of the second matrix must have the same number of entries as do the rows of the first matrix."
      ]
    },
    {
      "cell_type": "markdown",
      "id": "69b93b8b",
      "metadata": {
        "id": "69b93b8b"
      },
      "source": [
        "![matrix_mult.png](https://github.com/gt-cse-6040/bootcamp/blob/main/Module%201/Session%206/matrix_mult.png?raw=1)"
      ]
    },
    {
      "cell_type": "markdown",
      "id": "8639d662",
      "metadata": {
        "id": "8639d662"
      },
      "source": [
        "**There are just 3 simple rules to help you remember how to do the calculations.**\n",
        "\n",
        "`1. Rows come first, so first matrix provides row numbers.`\n",
        "\n",
        "\n",
        "`2. Columns come second, so second matrix provide column numbers.`\n",
        "\n",
        "\n",
        "`3. The 'inner' values must be equal to each other.`\n",
        "\n",
        "\n",
        "`Matrix multiplication is just a way of organizing vectors we want to find the dot product of.`"
      ]
    },
    {
      "cell_type": "markdown",
      "id": "8f040519",
      "metadata": {
        "id": "8f040519"
      },
      "source": [
        "**`row x column vs. column x row`**"
      ]
    },
    {
      "cell_type": "markdown",
      "id": "04213d36",
      "metadata": {
        "id": "04213d36"
      },
      "source": [
        "![row_x_column.png](https://github.com/gt-cse-6040/bootcamp/blob/main/Module%201/Session%206/row_x_column.png?raw=1)"
      ]
    },
    {
      "cell_type": "markdown",
      "id": "acf888c0",
      "metadata": {
        "id": "acf888c0"
      },
      "source": [
        "In the picture above, the left matrix is [1,3], while the right matrix is [3,1]\n",
        "\n",
        "In the two rules, the left matrix provides the rows, so there will be 1 row in the result.\n",
        "\n",
        "The right matrix provides the columns, so there will be 1 column in the result.\n",
        "\n",
        "The inner values are both 3, so they equal each other.\n",
        "\n",
        "**Note that in the below examples we are using np.dot(), for simplicity.**"
      ]
    },
    {
      "cell_type": "code",
      "execution_count": null,
      "id": "d6907720",
      "metadata": {
        "id": "d6907720"
      },
      "outputs": [],
      "source": [
        "a = np.array([[2,3,4]])\n",
        "b = np.array([[6],\n",
        "              [4],\n",
        "              [3]])\n",
        "print(\"array shapes\")\n",
        "display(a.shape)\n",
        "display(b.shape)\n",
        "\n",
        "c = np.dot(a,b)\n",
        "print(\"shape of c\")\n",
        "display(c.shape)\n",
        "\n",
        "display(c)"
      ]
    },
    {
      "cell_type": "markdown",
      "id": "e4195a67",
      "metadata": {
        "id": "e4195a67"
      },
      "source": [
        "![column_x_row.png](https://github.com/gt-cse-6040/bootcamp/blob/main/Module%201/Session%206/column_x_row.png?raw=1)"
      ]
    },
    {
      "cell_type": "markdown",
      "id": "ca229bb3",
      "metadata": {
        "id": "ca229bb3"
      },
      "source": [
        "In the picture above, the left matrix is [3,1], while the right matrix is [1,3]\n",
        "\n",
        "In the two rules, the left matrix provides the rows, so there will be 3 rows in the result.\n",
        "\n",
        "The right matrix provides the columns, so there will be 3 columns in the result.\n",
        "\n",
        "The inner values are both 1, so they equal each other."
      ]
    },
    {
      "cell_type": "code",
      "execution_count": null,
      "id": "2179da59",
      "metadata": {
        "id": "2179da59"
      },
      "outputs": [],
      "source": [
        "a = np.array([[2],\n",
        "              [3],\n",
        "              [4]])\n",
        "b = np.array([[6,4,3]])\n",
        "\n",
        "display(a.shape)\n",
        "display(b.shape)\n",
        "\n",
        "c = np.dot(a,b)\n",
        "display(c.shape)\n",
        "c"
      ]
    },
    {
      "cell_type": "markdown",
      "id": "70d59b23",
      "metadata": {
        "id": "70d59b23"
      },
      "source": [
        "**`Two ways of looking at a matrix multiplication`**"
      ]
    },
    {
      "cell_type": "markdown",
      "id": "d69b398d",
      "metadata": {
        "id": "d69b398d"
      },
      "source": [
        "![two_ways_1.png](https://github.com/gt-cse-6040/bootcamp/blob/main/Module%201/Session%206/two_ways_1.png?raw=1)"
      ]
    },
    {
      "cell_type": "markdown",
      "id": "700cd3ab",
      "metadata": {
        "id": "700cd3ab"
      },
      "source": [
        "![two_ways_2.png](https://github.com/gt-cse-6040/bootcamp/blob/main/Module%201/Session%206/two_ways_2.png?raw=1)"
      ]
    },
    {
      "cell_type": "markdown",
      "id": "eeaaf7df",
      "metadata": {
        "id": "eeaaf7df"
      },
      "source": [
        "**`So what do you do when the two array shapes do not correspond to the rules?`**\n",
        "\n",
        "Remember the transpose function, from the video on array shapes?\n",
        "\n",
        "#### Numpy’s transpose() function is used to reverse the dimensions of the given array. It changes the row elements to column elements and column to row elements."
      ]
    },
    {
      "cell_type": "code",
      "execution_count": null,
      "id": "bbd30507",
      "metadata": {
        "id": "bbd30507"
      },
      "outputs": [],
      "source": [
        "a = np.array([[2,3,4]])\n",
        "b = np.array([[6,4,3]])\n",
        "\n",
        "display(a.shape)\n",
        "display(b.shape)\n",
        "\n",
        "# c = np.dot(a,b)  # errors out"
      ]
    },
    {
      "cell_type": "code",
      "execution_count": null,
      "id": "335e7d4e",
      "metadata": {
        "id": "335e7d4e"
      },
      "outputs": [],
      "source": [
        "display(a.T.shape)\n",
        "display(b.shape)\n",
        "\n",
        "c = np.dot(a.T,b)  # this is good, as we are transposing a\n",
        "display(c.shape)\n",
        "c"
      ]
    },
    {
      "cell_type": "markdown",
      "id": "8ab6141f",
      "metadata": {
        "id": "8ab6141f"
      },
      "source": [
        "#### As a final note, the Wikipedia page for matrix multiplication is a decent starting reference.\n",
        "\n",
        "https://en.wikipedia.org/wiki/Matrix_multiplication"
      ]
    },
    {
      "cell_type": "markdown",
      "id": "74bd96db",
      "metadata": {
        "id": "74bd96db"
      },
      "source": [
        "### There are two functions in numpy to do matrix multiplication (and therefore return a dot product):\n",
        "\n",
        "#### 1. np.matmul() (also using `@` notation)\n",
        "\n",
        "#### 2. np.dot().\n",
        "\n",
        "Both functions generally perform the same operations, but which function to use depends on the shapes of the two arrays (also scalar values) that you are using."
      ]
    },
    {
      "cell_type": "markdown",
      "id": "5b148328",
      "metadata": {
        "id": "5b148328"
      },
      "source": [
        "**`So why not just use loops?`**\n",
        "\n",
        "1. Loops are slow in real life, when you have millions of rows.\n",
        "\n",
        "2. Matrix multiplication can quickly change numbers using optimized math in the back end (and some of the fastest frameworks are built with C++ to speed them up even further).\n",
        "\n",
        "Here is what such a loop would look like:\n",
        "\n",
        "![def_dot.png](https://github.com/gt-cse-6040/bootcamp/blob/main/Module%201/Session%206/def_dot.png?raw=1)"
      ]
    },
    {
      "cell_type": "markdown",
      "id": "db982386",
      "metadata": {
        "id": "db982386"
      },
      "source": [
        "It should be very easy to see that this is a very inefficient way of computing the dot product."
      ]
    },
    {
      "cell_type": "markdown",
      "id": "33f8fa0b",
      "metadata": {
        "id": "33f8fa0b"
      },
      "source": [
        "### What are your questions on the matrix multiplication (in general)?"
      ]
    },
    {
      "cell_type": "markdown",
      "id": "c3e4e032",
      "metadata": {
        "id": "c3e4e032"
      },
      "source": [
        "## Now let's look at when to use np.dot() and np.matmul() (AKA @)."
      ]
    },
    {
      "cell_type": "markdown",
      "id": "0a3d2101",
      "metadata": {
        "id": "0a3d2101"
      },
      "source": [
        "### Here are the rules for when to use each:\n",
        "\n",
        "Please hold your questions on these until we have a chance to go through the examples below, then ask in chat.\n",
        "\n",
        "#### Use np.matmul() (or `@`) in the following scenario:\n",
        "\n",
        "1. **If both `a` and `b` are 2-D arrays**, it is matrix multiplication, and use matmul or a @ b.\n",
        "\n",
        "2. **If `a` is a 2-D (or higher) array and `b` is a 3-D (or higher) array** you **MUST USE** matmul or a @ b.\n",
        "\n",
        "#### Use np.dot() (or `.`) in the following scenarios:\n",
        "\n",
        "1. **If both `a` and `b` are 1-D arrays**, it is inner product of vectors (without complex conjugation).\n",
        "\n",
        "2. **If `a` is an N-D array and `b` is a 1-D array**, it is a sum product over the last axis of a and b.\n",
        "\n",
        "#### Finally, use np.multiply() (or `*`) in the following scenario:\n",
        "\n",
        "3. **If either `a` or `b` is 0-D (scalar)**, it is equivalent to multiply and using numpy.multiply(a, b) or a * b is preferred."
      ]
    },
    {
      "cell_type": "markdown",
      "id": "5a00f8e0",
      "metadata": {
        "id": "5a00f8e0"
      },
      "source": [
        "One last note:  When working with nothing higher than 2-D arrays, np.dot() will generally work in all of the above scenarios. This is NOT PREFERRED, and your code will certainly be less efficient, but you will get the correct answer to the exercise, when your arrays are 2-D or lower.\n",
        "\n",
        "Additionally, in the case that both are 1-D arrays, np.matmul() will return the same as np.dot(). Again, not preferred, but this will return the correct result."
      ]
    },
    {
      "cell_type": "markdown",
      "id": "47a210a7",
      "metadata": {
        "id": "47a210a7"
      },
      "source": [
        "**From the documentation:**\n",
        "\n",
        "np.matmul() differs from np.dot() in two important ways:\n",
        "\n",
        "1. Multiplication by scalars is not allowed in np.matmul().\n",
        "\n",
        "2. Stacks of matrices are broadcast together as if the matrices were elements.\n",
        "\n",
        "The last point makes it clear that np.dot() and np.matmul() methods behave differently when passed 3D (or higher dimensional) arrays.\n",
        "\n",
        "Documentation link for np.matmul():  https://numpy.org/doc/stable/reference/generated/numpy.matmul.html\n",
        "\n",
        "Documentation linkf for np.dot():  https://numpy.org/doc/stable/reference/generated/numpy.dot.html"
      ]
    },
    {
      "cell_type": "markdown",
      "id": "80ce1299",
      "metadata": {
        "id": "80ce1299"
      },
      "source": [
        "### And as we noted above, our guidance is to learn and apply the rules in all cases, so that you are consistent, and you never run into problems in your exercises."
      ]
    },
    {
      "cell_type": "markdown",
      "id": "eb04dc20",
      "metadata": {
        "id": "eb04dc20"
      },
      "source": [
        "**The syntax for the two functions is similar:**\n",
        "\n",
        "`numpy.matmul (a, b, out=None)`\n",
        "\n",
        "`a @ b`\n",
        "\n",
        "`numpy.dot (a, b, out=None)`\n",
        "\n",
        "In the parameters:\n",
        "\n",
        "a is the left array\n",
        "\n",
        "b is the right array\n",
        "\n",
        "ndarray, which is optional. This is mostly not used."
      ]
    },
    {
      "cell_type": "markdown",
      "id": "f6eae0f5",
      "metadata": {
        "id": "f6eae0f5"
      },
      "source": [
        "### Both `a` and `b` are 2-D arrays:\n",
        "\n",
        "![both%202%20D%20arrays.png](https://github.com/gt-cse-6040/bootcamp/blob/main/Module%201/Session%206/both%202%20D%20arrays.png?raw=1)"
      ]
    },
    {
      "cell_type": "markdown",
      "id": "d5024800",
      "metadata": {
        "id": "d5024800"
      },
      "source": [
        "![case_2_summation.png](https://github.com/gt-cse-6040/bootcamp/blob/main/Module%201/Session%206/case_2_summation.png?raw=1)"
      ]
    },
    {
      "cell_type": "code",
      "execution_count": null,
      "id": "358a0ef2",
      "metadata": {
        "id": "358a0ef2"
      },
      "outputs": [],
      "source": [
        "a = np.array([[3,4,5],\n",
        "              [6,7,8]])\n",
        "b = np.array([[10,11],\n",
        "             [12,13],\n",
        "             [14,15]])\n",
        "\n",
        "display(a.shape)\n",
        "display(b.shape)"
      ]
    },
    {
      "cell_type": "code",
      "execution_count": null,
      "id": "e50c5ebf",
      "metadata": {
        "id": "e50c5ebf"
      },
      "outputs": [],
      "source": [
        "np.matmul(a,b)"
      ]
    },
    {
      "cell_type": "code",
      "execution_count": null,
      "id": "fef2a860",
      "metadata": {
        "id": "fef2a860"
      },
      "outputs": [],
      "source": [
        "a@b"
      ]
    },
    {
      "cell_type": "code",
      "execution_count": null,
      "id": "303a10ee",
      "metadata": {
        "id": "303a10ee"
      },
      "outputs": [],
      "source": [
        "np.dot(a,b)"
      ]
    },
    {
      "cell_type": "markdown",
      "id": "d4f767a9",
      "metadata": {
        "id": "d4f767a9"
      },
      "source": [
        "As we can see, both functions return the same result for 2-D arrays."
      ]
    },
    {
      "cell_type": "markdown",
      "id": "6e834b0d",
      "metadata": {
        "id": "6e834b0d"
      },
      "source": [
        "### Both `a` and `b` are 1-D arrays:"
      ]
    },
    {
      "cell_type": "markdown",
      "id": "5fe31ed0",
      "metadata": {
        "id": "5fe31ed0"
      },
      "source": [
        "![both%201%20D%20arrays.png](https://github.com/gt-cse-6040/bootcamp/blob/main/Module%201/Session%206/both%201%20D%20arrays.png?raw=1)"
      ]
    },
    {
      "cell_type": "code",
      "execution_count": null,
      "id": "fc72d9a2",
      "metadata": {
        "id": "fc72d9a2"
      },
      "outputs": [],
      "source": [
        "a = np.array([3,4,5])\n",
        "b = np.array([7,8,9])\n",
        "\n",
        "display(a.shape)\n",
        "display(b.shape)"
      ]
    },
    {
      "cell_type": "code",
      "execution_count": null,
      "id": "11b22aeb",
      "metadata": {
        "id": "11b22aeb"
      },
      "outputs": [],
      "source": [
        "np.dot(a,b)"
      ]
    },
    {
      "cell_type": "code",
      "execution_count": null,
      "id": "5a521acb",
      "metadata": {
        "id": "5a521acb"
      },
      "outputs": [],
      "source": [
        "np.matmul(a,b)"
      ]
    },
    {
      "cell_type": "markdown",
      "id": "380804b3",
      "metadata": {
        "id": "380804b3"
      },
      "source": [
        "Again, we see in this case that both functions return the same result."
      ]
    },
    {
      "cell_type": "markdown",
      "id": "3f4c77cc",
      "metadata": {
        "id": "3f4c77cc"
      },
      "source": [
        "### `a` is an N-D array and `b` is a 1-D array."
      ]
    },
    {
      "cell_type": "markdown",
      "id": "c5fbffad",
      "metadata": {
        "id": "c5fbffad"
      },
      "source": [
        "![A%201D%20B%202D%20array.png](https://github.com/gt-cse-6040/bootcamp/blob/main/Module%201/Session%206/A%201D%20B%202D%20array.png?raw=1)"
      ]
    },
    {
      "cell_type": "code",
      "execution_count": null,
      "id": "040ea095",
      "metadata": {
        "id": "040ea095"
      },
      "outputs": [],
      "source": [
        "a = np.array([[1,2,3],[1,2,1]])\n",
        "# b is a list, which is the same as a 1-D array\n",
        "b = [2,3,4]\n",
        "\n",
        "display(a.shape)\n",
        "# display(b.shape)  # errors out, why?\n",
        "# display(len(b))"
      ]
    },
    {
      "cell_type": "code",
      "execution_count": null,
      "id": "eb94e4f8",
      "metadata": {
        "id": "eb94e4f8"
      },
      "outputs": [],
      "source": [
        "np.dot(a,b)"
      ]
    },
    {
      "cell_type": "code",
      "execution_count": null,
      "id": "3963746f",
      "metadata": {
        "id": "3963746f"
      },
      "outputs": [],
      "source": [
        "np.matmul(a,b)"
      ]
    },
    {
      "cell_type": "code",
      "execution_count": null,
      "id": "7323c510",
      "metadata": {
        "id": "7323c510"
      },
      "outputs": [],
      "source": [
        "a @ b"
      ]
    },
    {
      "cell_type": "markdown",
      "id": "9c21b460",
      "metadata": {
        "id": "9c21b460"
      },
      "source": [
        "### Either `a` or `b` is scalar."
      ]
    },
    {
      "cell_type": "markdown",
      "id": "0c009ce9",
      "metadata": {
        "id": "0c009ce9"
      },
      "source": [
        "#### From the rules above:\n",
        "\n",
        "**If either a or b is 0-D (scalar)**, it is equivalent to multiply and using numpy.multiply(a, b) or a * b is preferred.\n",
        "\n",
        "We prefer using np.multiply() in this case, although np.dot() will also work."
      ]
    },
    {
      "cell_type": "code",
      "execution_count": null,
      "id": "8276097b",
      "metadata": {
        "id": "8276097b"
      },
      "outputs": [],
      "source": [
        "a = np.array([3,4,5])\n",
        "b = 5\n",
        "\n",
        "display(a.shape)\n",
        "#  display(b.shape) # error, because a scalar does not have a shape"
      ]
    },
    {
      "cell_type": "code",
      "execution_count": null,
      "id": "213a6ac8",
      "metadata": {
        "id": "213a6ac8"
      },
      "outputs": [],
      "source": [
        "np.multiply(a,b)"
      ]
    },
    {
      "cell_type": "code",
      "execution_count": null,
      "id": "5cabc966",
      "metadata": {
        "id": "5cabc966"
      },
      "outputs": [],
      "source": [
        "a * b"
      ]
    },
    {
      "cell_type": "code",
      "execution_count": null,
      "id": "6bcc5e8a",
      "metadata": {
        "id": "6bcc5e8a"
      },
      "outputs": [],
      "source": [
        "np.dot(a,b)"
      ]
    },
    {
      "cell_type": "code",
      "execution_count": null,
      "id": "f1845c40",
      "metadata": {
        "id": "f1845c40"
      },
      "outputs": [],
      "source": [
        "# a @ b  # errors out, why?"
      ]
    },
    {
      "cell_type": "markdown",
      "id": "dde06010",
      "metadata": {
        "id": "dde06010"
      },
      "source": [
        "### Finally, let's look at a pair of 3-D arrays, and why understanding and applying the above rules are important.\n",
        "\n",
        "With 3-D arrays, the best way to visualize them is as **CUBES.**"
      ]
    },
    {
      "cell_type": "code",
      "execution_count": null,
      "id": "40baa4f4",
      "metadata": {
        "id": "40baa4f4"
      },
      "outputs": [],
      "source": [
        "# create two 3x3 numpy arrays\n",
        "a = np.random.randint(0,10,(3,3,3))\n",
        "b = np.random.randint(0,10,(3,3,3))\n",
        "print('Shape of a')\n",
        "display(a.shape)\n",
        "print('Shape of b')\n",
        "display(b.shape)"
      ]
    },
    {
      "cell_type": "code",
      "execution_count": null,
      "id": "d03bb3b5",
      "metadata": {
        "id": "d03bb3b5"
      },
      "outputs": [],
      "source": [
        "display(a)\n",
        "display(b)"
      ]
    },
    {
      "cell_type": "code",
      "execution_count": null,
      "id": "8cc5e147",
      "metadata": {
        "id": "8cc5e147"
      },
      "outputs": [],
      "source": [
        "# So now perform matrix multiplication on them.\n",
        "c = np.dot(a,b)\n",
        "display(c.shape)"
      ]
    },
    {
      "cell_type": "code",
      "execution_count": null,
      "id": "a242f2d6",
      "metadata": {
        "id": "a242f2d6"
      },
      "outputs": [],
      "source": [
        "d = np.matmul(a,b)\n",
        "display(d.shape)"
      ]
    },
    {
      "cell_type": "code",
      "execution_count": null,
      "id": "d0831859",
      "metadata": {
        "id": "d0831859"
      },
      "outputs": [],
      "source": [
        "e = a @ b\n",
        "display(e.shape)"
      ]
    },
    {
      "cell_type": "markdown",
      "id": "6b40ac5a",
      "metadata": {
        "id": "6b40ac5a"
      },
      "source": [
        "We can see that using np.dot() (incorrectly) adds a 4th dimension to the result, whereas using np.matmul() (or a@b) keeps the correct dimensions of 3-D.\n",
        "\n",
        "So this is why understanding and correctly applying the rules above is so important.\n",
        "\n",
        "Here is a good (simple) article with an explanation:  https://www.geeksforgeeks.org/numpy-3d-matrix-multiplication/"
      ]
    },
    {
      "cell_type": "markdown",
      "id": "b963910a",
      "metadata": {
        "id": "b963910a"
      },
      "source": [
        "## What are your questions?"
      ]
    },
    {
      "cell_type": "code",
      "execution_count": null,
      "id": "975615d8",
      "metadata": {
        "id": "975615d8"
      },
      "outputs": [],
      "source": []
    }
  ],
  "metadata": {
    "colab": {
      "provenance": [],
      "include_colab_link": true
    },
    "kernelspec": {
      "display_name": "Python 3 (ipykernel)",
      "language": "python",
      "name": "python3"
    },
    "language_info": {
      "codemirror_mode": {
        "name": "ipython",
        "version": 3
      },
      "file_extension": ".py",
      "mimetype": "text/x-python",
      "name": "python",
      "nbconvert_exporter": "python",
      "pygments_lexer": "ipython3",
      "version": "3.12.7"
    }
  },
  "nbformat": 4,
  "nbformat_minor": 5
}