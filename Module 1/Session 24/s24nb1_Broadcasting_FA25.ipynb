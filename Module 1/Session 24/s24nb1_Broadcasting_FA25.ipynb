{
  "cells": [
    {
      "cell_type": "markdown",
      "metadata": {
        "id": "view-in-github",
        "colab_type": "text"
      },
      "source": [
        "<a href=\"https://colab.research.google.com/github/gt-cse-6040/bootcamp/blob/main/Module%201/Session%2024/s24nb1_Broadcasting_FA25.ipynb\" target=\"_parent\"><img src=\"https://colab.research.google.com/assets/colab-badge.svg\" alt=\"Open In Colab\"/></a>"
      ]
    },
    {
      "cell_type": "markdown",
      "id": "f94cf4ad",
      "metadata": {
        "id": "f94cf4ad"
      },
      "source": [
        "# Introduction to Broadcasting"
      ]
    },
    {
      "cell_type": "markdown",
      "id": "9db25aa9",
      "metadata": {
        "id": "9db25aa9"
      },
      "source": [
        "Broadcasting is introduced in the supplemental notebook that was part of Notebook 10.\n",
        "\n",
        "Additionally, broadcasting is used in the Setup cells of Notebook 13 (Logistic Regression), referencing back to Notebook 10.\n",
        "\n",
        "The purpose here is to do a bit of a deeper introduction to how broadcasting works."
      ]
    },
    {
      "cell_type": "markdown",
      "id": "58e1e5ca",
      "metadata": {
        "id": "58e1e5ca"
      },
      "source": [
        "## Before we get to broadcasting, however, we will take a small detour, to review Universal Functions (unfunc's) in Numpy, which we introduced in the Student Review Content video."
      ]
    },
    {
      "cell_type": "markdown",
      "id": "3e9e9312",
      "metadata": {
        "id": "3e9e9312"
      },
      "source": [
        "From the documentation:  A universal function (or ufunc for short) is a function that operates on ndarrays\n",
        "    in an element-by-element fashion, supporting array broadcasting, type casting, and several other standard features.\n",
        "    That is, a ufunc is a “vectorized” wrapper for a function that takes a fixed number of specific inputs\n",
        "    and produces a fixed number of specific outputs.\n",
        "    \n",
        "The key thing to remember is that these are functions that operate **element by element** on whole arrays. We are doing the same operation to every element in the array."
      ]
    },
    {
      "cell_type": "markdown",
      "id": "062fa17f",
      "metadata": {
        "id": "062fa17f"
      },
      "source": [
        "#### Here is the link to the documentation of the available ufuncs:\n",
        "\n",
        "https://numpy.org/doc/stable/reference/ufuncs.html#available-ufuncs\n",
        "\n",
        "The ufuncs are classified as mathematical, trigonometric, bitwise, comparison, and floating functions.\n",
        "\n",
        "And you should see from the functions themselves that they will be operating individually on each element of an array."
      ]
    },
    {
      "cell_type": "code",
      "execution_count": null,
      "id": "efc791c2",
      "metadata": {
        "id": "efc791c2"
      },
      "outputs": [],
      "source": [
        "# an example of ufunc\n",
        "import numpy as np"
      ]
    },
    {
      "cell_type": "code",
      "execution_count": null,
      "id": "f968d3ec",
      "metadata": {
        "id": "f968d3ec"
      },
      "outputs": [],
      "source": [
        "a = np.array([0, 1, 2])\n",
        "b = np.array([5, 5, 5])\n",
        "display(a + b)\n",
        "display(np.add(a,b))"
      ]
    },
    {
      "cell_type": "code",
      "execution_count": null,
      "id": "4c9961b3",
      "metadata": {
        "id": "4c9961b3"
      },
      "outputs": [],
      "source": [
        "# from the supplemental notebook\n",
        "from numpy.random import default_rng\n",
        "rng = default_rng()\n",
        "\n",
        "A = rng.integers(-10, 10, size=(4, 3)) # return random integers from -10 (inclusive) to 10 (exclusive)\n",
        "print(A, \"\\n==>\\n\", np.abs(A))"
      ]
    },
    {
      "cell_type": "code",
      "execution_count": null,
      "id": "9a80f2fa",
      "metadata": {
        "id": "9a80f2fa"
      },
      "outputs": [],
      "source": [
        "B = rng.integers(-10, 10, size=A.shape)\n",
        "print(B)\n",
        "C = np.maximum(A, B) # elementwise comparison\n",
        "print(\"\\n==>\\n\", C)"
      ]
    },
    {
      "cell_type": "markdown",
      "id": "527b6822",
      "metadata": {
        "id": "527b6822"
      },
      "source": [
        "### Now that we see how these element-wise operations function, let's see how broadcasting works."
      ]
    },
    {
      "cell_type": "markdown",
      "id": "ebb4218c",
      "metadata": {
        "id": "ebb4218c"
      },
      "source": [
        " Broadcasting is simply a set of rules for applying binary\n",
        "    ufuncs (e.g., addition, subtraction, multiplication, etc.) on **arrays of different sizes.**\n",
        "    \n",
        "https://numpy.org/doc/stable/user/basics.broadcasting.html#general-broadcasting-rules\n",
        "\n",
        "From the documentation:\n",
        "\n",
        "The term broadcasting describes how NumPy treats arrays with different shapes during arithmetic operations. **Subject to certain constraints, the smaller array is “broadcast” across the larger array so that they have compatible shapes.** Broadcasting provides a means of vectorizing array operations so that looping occurs in C instead of Python. It does this without making needless copies of data and usually leads to efficient algorithm implementations."
      ]
    },
    {
      "cell_type": "markdown",
      "id": "ff8ef447",
      "metadata": {
        "id": "ff8ef447"
      },
      "source": [
        "#### Recall the arrays a and b from above."
      ]
    },
    {
      "cell_type": "code",
      "execution_count": null,
      "id": "bd442d0b",
      "metadata": {
        "id": "bd442d0b"
      },
      "outputs": [],
      "source": [
        "a = np.array([1, 2, 3])\n",
        "b = np.array([2, 2, 2])\n",
        "display(a * b)\n",
        "display(np.multiply(a,b))"
      ]
    },
    {
      "cell_type": "code",
      "execution_count": null,
      "id": "a02cef61",
      "metadata": {
        "id": "a02cef61"
      },
      "outputs": [],
      "source": [
        "# now use broadcasting\n",
        "display(a * 2)"
      ]
    },
    {
      "cell_type": "markdown",
      "id": "14ba2d5e",
      "metadata": {
        "id": "14ba2d5e"
      },
      "source": [
        "So what happened here? The array shapes are different, but we are able to apply the element-wise function of\n",
        "multiply, because we have met (one of) the rules of broadcasting."
      ]
    },
    {
      "cell_type": "markdown",
      "id": "b4887423",
      "metadata": {
        "id": "b4887423"
      },
      "source": [
        "### General Broadcasting Rules\n",
        "(again, from the documentation):\n",
        "\n",
        "When operating on two arrays, NumPy compares their shapes element-wise. It starts with the trailing (i.e. rightmost) dimension and works its way left. Two dimensions are compatible when\n",
        "\n",
        "   **they are equal, or**\n",
        "\n",
        "   **one of them is 1.**\n",
        "\n",
        "If these conditions are not met, a \"ValueError: operands could not be broadcast together\" exception is thrown, indicating that the arrays have incompatible shapes.\n",
        "\n",
        "Input arrays do not need to have the same number of dimensions. The resulting array will have the same number of dimensions as the input array with the greatest number of dimensions, where the size of each dimension is the largest size of the corresponding dimension among the input arrays.\n",
        "\n",
        "Note that missing dimensions are assumed to have size one (scalars)."
      ]
    },
    {
      "cell_type": "markdown",
      "id": "d536d0b0",
      "metadata": {
        "id": "d536d0b0"
      },
      "source": [
        "#### Let's see how these rules were applied in the above example.\n",
        "\n",
        "The variable \"a\" is an ndarray of size [3,1].\n",
        "\n",
        "The variable \"b\" is a scalar, which is assumed to have a size of 1.\n",
        "\n",
        "So the second rule above applies. Technically, a and b have different shapes: the former is a  3x1 matrix, while the latter is a scalar (1×1). However, they are compatible because Numpy knows how to extend---or broadcast---the value 2 into an equivalent matrix object of the same shape in order to combine them.\n",
        "\n",
        "This is the simplest example of broadcasting, in that the scalar \"b\" is stretched to become an array of same shape as \"a\" so the shapes are compatible for element-by-element multiplication."
      ]
    },
    {
      "cell_type": "markdown",
      "id": "75a8870e",
      "metadata": {
        "id": "75a8870e"
      },
      "source": [
        "![scalar_stretch.png](https://github.com/gt-cse-6040/bootcamp/blob/main/Module%201/Session%207/scalar_stretch.png?raw=1)"
      ]
    },
    {
      "cell_type": "markdown",
      "id": "84e2a40a",
      "metadata": {
        "id": "84e2a40a"
      },
      "source": [
        "Here is another way of understanding the two rules (from VanderPlas):\n",
        "\n",
        "Rule 1: If the two arrays differ in their number of dimensions, the shape of the one with fewer dimensions is padded with ones on its leading (left) side.\n",
        "\n",
        "Rule 2: If the shape of the two arrays does not match in any dimension, the array with shape equal to 1 in that dimension is stretched to match the other shape.\n",
        "\n",
        "Rule 3: If in any dimension the sizes disagree and neither is equal to 1, an error is raised."
      ]
    },
    {
      "cell_type": "code",
      "execution_count": null,
      "id": "b563b7c5",
      "metadata": {
        "id": "b563b7c5"
      },
      "outputs": [],
      "source": [
        "c = np.arange(3)\n",
        "d = np.arange(3)[:, np.newaxis]\n",
        "\n",
        "print(c)\n",
        "print(d)\n",
        "\n",
        "print(c.shape)\n",
        "print(d.shape)"
      ]
    },
    {
      "cell_type": "code",
      "execution_count": null,
      "id": "53966a2b",
      "metadata": {
        "id": "53966a2b"
      },
      "outputs": [],
      "source": [
        "c + d"
      ]
    },
    {
      "cell_type": "markdown",
      "id": "47620924",
      "metadata": {
        "id": "47620924"
      },
      "source": [
        "\"a\" is an array of size 3, and \"b\" is a 3x1 array. We start with the trailing/rightmost dimension of each array, which is 1 for array \"d\". The dimension second dimension of \"b\" then matches the dimension of \"a\", so they are compatible.\n",
        "\n",
        "Just as before we stretched or broadcasted one value to match the shape of the other, here we've stretched both a and b to match a common shape, and the result is a two-dimensional array. See the graphic below to represent what occurred."
      ]
    },
    {
      "cell_type": "markdown",
      "id": "e778bd66",
      "metadata": {
        "id": "e778bd66"
      },
      "source": [
        "![3_by_1_stretch.png](https://github.com/gt-cse-6040/bootcamp/blob/main/Module%201/Session%207/3_by_1_stretch.png?raw=1)"
      ]
    },
    {
      "cell_type": "markdown",
      "id": "082af4b0",
      "metadata": {
        "id": "082af4b0"
      },
      "source": [
        "The light boxes represent the broadcasted values. This extra memory is not actually allocated in the course of the operation, but it can be useful conceptually to imagine that it is."
      ]
    },
    {
      "cell_type": "markdown",
      "id": "c87c593c",
      "metadata": {
        "id": "c87c593c"
      },
      "source": [
        "Recall in our introduction to numpy and pandas, we discussed that, in this class, we will always use arrays of at least two dimensions, and that a single row or column array would be size (m x n), where either m or n is equal to 1.\n",
        "\n",
        "So we will not be using an array such as \"a\" as in the example above. The example above was to allow you to visualize the dimension stretching.\n",
        "\n",
        "So let's look at a few other examples, using (m x n) arrays."
      ]
    },
    {
      "cell_type": "code",
      "execution_count": null,
      "id": "a0d73e7d",
      "metadata": {
        "id": "a0d73e7d"
      },
      "outputs": [],
      "source": [
        "e = np.ones((3,2))\n",
        "f = np.ones((3,1))\n",
        "\n",
        "print(e.shape)\n",
        "print(f.shape)"
      ]
    },
    {
      "cell_type": "code",
      "execution_count": null,
      "id": "4b217081",
      "metadata": {
        "id": "4b217081"
      },
      "outputs": [],
      "source": [
        "g = e + f\n",
        "print(g)\n",
        "print(g.shape)\n"
      ]
    },
    {
      "cell_type": "markdown",
      "id": "5b052228",
      "metadata": {
        "id": "5b052228"
      },
      "source": [
        "#### In this example, Rule 2 applied, because the array \"f\" has the size of 1 in its second dimension, so it is stretched to be the same size as array \"e\"."
      ]
    },
    {
      "cell_type": "code",
      "execution_count": null,
      "id": "3cea1148",
      "metadata": {
        "id": "3cea1148"
      },
      "outputs": [],
      "source": [
        "h = np.ones((3,2))\n",
        "i = np.ones((1,2))\n",
        "\n",
        "print(h.shape)\n",
        "print(i.shape)"
      ]
    },
    {
      "cell_type": "code",
      "execution_count": null,
      "id": "72642ee8",
      "metadata": {
        "id": "72642ee8"
      },
      "outputs": [],
      "source": [
        "j = h + i\n",
        "print(j)\n",
        "print(j.shape)"
      ]
    },
    {
      "cell_type": "markdown",
      "id": "52768f1a",
      "metadata": {
        "id": "52768f1a"
      },
      "source": [
        "#### So what happened here? Recall from the documentation and above:\n",
        "\n",
        "When operating on two arrays, NumPy compares their shapes element-wise. It starts with the trailing (i.e. rightmost) dimension and works its way left. Two dimensions are compatible when\n",
        "\n",
        "**they are equal, or**\n",
        "\n",
        "**one of them is 1.**\n",
        "\n",
        "So we started from the right and compared dimensions. Both of them are of size 2 in the second dimension, so we can continue our right-to-left comparison. In the first dimension, \"i\" is of size 1, so both rules are met and the smaller array is \"stretched\", or broadcast, across the larger array for the element by element operation (addition, in this case)."
      ]
    },
    {
      "cell_type": "markdown",
      "id": "7c5651b8",
      "metadata": {
        "id": "7c5651b8"
      },
      "source": [
        "#### Now let's look at an example in which both arrays must be broadcast:"
      ]
    },
    {
      "cell_type": "code",
      "execution_count": null,
      "id": "e936c3f7",
      "metadata": {
        "id": "e936c3f7"
      },
      "outputs": [],
      "source": [
        "x = np.ones((3,1))\n",
        "y = np.ones((1,3))\n",
        "\n",
        "display(x)\n",
        "display(y)\n",
        "\n",
        "print(x.shape)\n",
        "print(y.shape)"
      ]
    },
    {
      "cell_type": "code",
      "execution_count": null,
      "id": "19e1632c",
      "metadata": {
        "id": "19e1632c"
      },
      "outputs": [],
      "source": [
        "z = x + y\n",
        "print(z)\n",
        "print(z.shape)"
      ]
    },
    {
      "cell_type": "markdown",
      "id": "db6120b5",
      "metadata": {
        "id": "db6120b5"
      },
      "source": [
        "### Now let's look at a bit more sophisticated example, from our broadcasting section in NB 10:"
      ]
    },
    {
      "cell_type": "code",
      "execution_count": null,
      "id": "a0ae5a94",
      "metadata": {
        "id": "a0ae5a94"
      },
      "outputs": [],
      "source": [
        "from numpy.random import default_rng\n",
        "rng = default_rng()\n",
        "\n",
        "A = rng.integers(-10, 10, size=(4, 3)) # return random integers from -10 (inclusive) to 10 (exclusive)\n",
        "print(A)"
      ]
    },
    {
      "cell_type": "markdown",
      "id": "228966d2",
      "metadata": {
        "id": "228966d2"
      },
      "source": [
        "Suppose each row `A[i, :]` are the coordinates of a data point, and we want to compute the centroid of all the data points (or center-of-mass, if we imagine each point is a unit mass). That's the same as computing the mean coordinate for each column:"
      ]
    },
    {
      "cell_type": "code",
      "execution_count": null,
      "id": "4c56e324",
      "metadata": {
        "id": "4c56e324"
      },
      "outputs": [],
      "source": [
        "A_row_means = np.mean(A, axis=0)\n",
        "\n",
        "print(A, \"\\n=>\\n\", A_row_means)"
      ]
    },
    {
      "cell_type": "markdown",
      "id": "3d225fa5",
      "metadata": {
        "id": "3d225fa5"
      },
      "source": [
        "### Centering an Array"
      ]
    },
    {
      "cell_type": "markdown",
      "id": "ddbc7495",
      "metadata": {
        "id": "ddbc7495"
      },
      "source": [
        "Now, suppose you want to shift the points so that their mean is zero. This operation is called centering the array.\n",
        "\n",
        "Even though they don't have the same shape, Numpy will interpret A - A_row_means as precisely this operation, effectively extending or \"replicating\" A_row_means into rows of a matrix of the same shape as A, in order to then perform elementwise subtraction."
      ]
    },
    {
      "cell_type": "code",
      "execution_count": null,
      "id": "b1632325",
      "metadata": {
        "id": "b1632325"
      },
      "outputs": [],
      "source": [
        "display(A.shape)\n",
        "display(A_row_means.shape)\n",
        "\n",
        "A_row_centered = A - A_row_means\n",
        "A_row_centered"
      ]
    },
    {
      "cell_type": "markdown",
      "id": "c1df871d",
      "metadata": {
        "id": "c1df871d"
      },
      "source": [
        "To double-check that we've done this correctly, we can check that the centered array has near zero mean:"
      ]
    },
    {
      "cell_type": "code",
      "execution_count": null,
      "id": "c6178dd0",
      "metadata": {
        "id": "c6178dd0"
      },
      "outputs": [],
      "source": [
        "A_row_centered.mean()  # mean of the entire array"
      ]
    },
    {
      "cell_type": "code",
      "execution_count": null,
      "id": "d9f790d3",
      "metadata": {
        "id": "d9f790d3"
      },
      "outputs": [],
      "source": [
        "A_row_centered.mean(0) # row-centered mean"
      ]
    },
    {
      "cell_type": "markdown",
      "id": "bcc57a6f",
      "metadata": {
        "id": "bcc57a6f"
      },
      "source": [
        "Now, suppose you instead want to mean-center the _columns_ instead of the rows. You could start by computing column means:"
      ]
    },
    {
      "cell_type": "code",
      "execution_count": null,
      "id": "8555c6bf",
      "metadata": {
        "id": "8555c6bf"
      },
      "outputs": [],
      "source": [
        "A_col_means = np.mean(A, axis=1)\n",
        "\n",
        "print(A, \"\\n=>\\n\", A_col_means)"
      ]
    },
    {
      "cell_type": "markdown",
      "id": "f5fe5a0e",
      "metadata": {
        "id": "f5fe5a0e"
      },
      "source": [
        "But the same operation will fail!"
      ]
    },
    {
      "cell_type": "code",
      "execution_count": null,
      "id": "bbf174b1",
      "metadata": {
        "id": "bbf174b1"
      },
      "outputs": [],
      "source": [
        "# A - A_col_means # Fails!"
      ]
    },
    {
      "cell_type": "markdown",
      "id": "5cae39e4",
      "metadata": {
        "id": "5cae39e4"
      },
      "source": [
        "The error reports that these shapes are not compatible. So how can you fix it?\n",
        "\n",
        "**Broadcasting rule.** One way is to learn Numpy's convention for **[broadcasting](https://docs.scipy.org/doc/numpy/reference/ufuncs.html#broadcasting)**. Numpy starts by looking at the shapes of the objects:"
      ]
    },
    {
      "cell_type": "code",
      "execution_count": null,
      "id": "2ce2d577",
      "metadata": {
        "id": "2ce2d577"
      },
      "outputs": [],
      "source": [
        "print(A.shape, A_row_means.shape)"
      ]
    },
    {
      "cell_type": "markdown",
      "id": "b09e1edd",
      "metadata": {
        "id": "b09e1edd"
      },
      "source": [
        "These are compatible if, starting from _right_ to _left_, the dimensions match **or** one of the dimensions is 1. This convention of moving from right to left is referred to as matching the _trailing dimensions_. In this example, the rightmost dimensions of each object are both 3, so they match. Since `A_row_means` has no more dimensions, it can be replicated to match the remaining dimensions of `A`."
      ]
    },
    {
      "cell_type": "markdown",
      "id": "e3d85c3a",
      "metadata": {
        "id": "e3d85c3a"
      },
      "source": [
        "By contrast, consider the shapes of `A` and `A_col_means`:"
      ]
    },
    {
      "cell_type": "code",
      "execution_count": null,
      "id": "06ac4653",
      "metadata": {
        "id": "06ac4653"
      },
      "outputs": [],
      "source": [
        "print(A.shape, A_col_means.shape)"
      ]
    },
    {
      "cell_type": "markdown",
      "id": "b74632f0",
      "metadata": {
        "id": "b74632f0"
      },
      "source": [
        "In this case, per the broadcasting rule, the trailing dimensions of 3 and 4 do not match. Therefore, the broadcast rule fails. To make it work, we need to modify `A_col_means` to have a unit trailing dimension. Use Numpy's [`reshape()`](https://docs.scipy.org/doc/numpy/reference/generated/numpy.reshape.html) to convert `A_col_means` into a shape that has an explicit trailing dimension of size 1."
      ]
    },
    {
      "cell_type": "code",
      "execution_count": null,
      "id": "2db77a51",
      "metadata": {
        "id": "2db77a51"
      },
      "outputs": [],
      "source": [
        "A_col_means2 = np.reshape(A_col_means, (len(A_col_means), 1))\n",
        "print(A_col_means2, \"=>\", A_col_means2.shape)"
      ]
    },
    {
      "cell_type": "markdown",
      "id": "2f31a843",
      "metadata": {
        "id": "2f31a843"
      },
      "source": [
        "Now the trailing dimension equals 1, so it can be matched against the trailing dimension of `A`. The next dimension is the same between the two objects, so Numpy knows it can replicate accordingly."
      ]
    },
    {
      "cell_type": "code",
      "execution_count": null,
      "id": "3bb6a335",
      "metadata": {
        "id": "3bb6a335"
      },
      "outputs": [],
      "source": [
        "print(\"A - A_col_means2\\n\\n\", A, \"\\n-\", A_col_means2)\n",
        "print(\"\\n=>\\n\", A - A_col_means2)"
      ]
    },
    {
      "cell_type": "markdown",
      "id": "328fa8da",
      "metadata": {
        "id": "328fa8da"
      },
      "source": [
        "Recall when we introduced Numpy in Week 9, we spoke about the importance of understanding array shapes. Here is another example of why this understanding is so important."
      ]
    },
    {
      "cell_type": "markdown",
      "id": "24ee5551",
      "metadata": {
        "id": "24ee5551"
      },
      "source": [
        "Notebook 14 in particular provides opportunities to use broadcasting functionality (see Exercise 2, for example)."
      ]
    },
    {
      "cell_type": "code",
      "execution_count": null,
      "id": "2d352283",
      "metadata": {
        "id": "2d352283"
      },
      "outputs": [],
      "source": []
    }
  ],
  "metadata": {
    "colab": {
      "provenance": [],
      "include_colab_link": true
    },
    "kernelspec": {
      "display_name": "Python 3 (ipykernel)",
      "language": "python",
      "name": "python3"
    },
    "language_info": {
      "codemirror_mode": {
        "name": "ipython",
        "version": 3
      },
      "file_extension": ".py",
      "mimetype": "text/x-python",
      "name": "python",
      "nbconvert_exporter": "python",
      "pygments_lexer": "ipython3",
      "version": "3.12.7"
    }
  },
  "nbformat": 4,
  "nbformat_minor": 5
}