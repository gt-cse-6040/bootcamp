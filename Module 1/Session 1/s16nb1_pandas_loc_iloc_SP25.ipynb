{
  "cells": [
    {
      "cell_type": "markdown",
      "metadata": {
        "id": "view-in-github",
        "colab_type": "text"
      },
      "source": [
        "<a href=\"https://colab.research.google.com/github/gt-cse-6040/bootcamp/blob/main/Module%201/Session%201/s16nb1_pandas_loc_iloc_SP25.ipynb\" target=\"_parent\"><img src=\"https://colab.research.google.com/assets/colab-badge.svg\" alt=\"Open In Colab\"/></a>"
      ]
    },
    {
      "cell_type": "markdown",
      "metadata": {
        "id": "zxT-4Efmoeh0"
      },
      "source": [
        "# Pandas Selection on DataFrames using .loc[ ] and .iloc[ ]"
      ]
    },
    {
      "cell_type": "markdown",
      "metadata": {
        "id": "rsW_RtO1-zrH"
      },
      "source": [
        "#### Historically, significant numbers of students have struggled with the concept of the these two Pandas DataFrame attributes.\n",
        "\n",
        "#### Specifically, when to use which one.\n",
        "\n",
        "#### This is to present an introduction to the two attributes, along with some general guidance on when to use each."
      ]
    },
    {
      "cell_type": "markdown",
      "metadata": {
        "id": "a-BmzcuYSdRq"
      },
      "source": [
        "Pandas DataFrames have the special attributes `loc` and `iloc` for label-based and integer-based indexing, respectively.\n",
        "\n",
        "Since the DataFrame is two-dimensional, you can select a subset of the rows and columns with NumPy-like notation using either `axis labels (loc)` or `integers (iloc)`."
      ]
    },
    {
      "cell_type": "markdown",
      "metadata": {
        "id": "snP6N-Lloeh2"
      },
      "source": [
        "**The below cell simply loads the required modules into the notebook.**"
      ]
    },
    {
      "cell_type": "code",
      "execution_count": null,
      "metadata": {
        "id": "7Cfc-dSSoeh3"
      },
      "outputs": [],
      "source": [
        "import pandas as pd  # Standard idiom for loading pandas\n",
        "from pandas import DataFrame, Series\n",
        "import numpy as np"
      ]
    },
    {
      "cell_type": "markdown",
      "metadata": {
        "id": "6pu0CcAn-zrJ"
      },
      "source": [
        "### Create a dataframe to work with."
      ]
    },
    {
      "cell_type": "code",
      "execution_count": null,
      "metadata": {
        "id": "VTu7dFd-oeh3"
      },
      "outputs": [],
      "source": [
        "# create a DataFrame\n",
        "courses = DataFrame({'course': ['ISYE6501', 'CSE6040', 'MGT6203', 'ISYE6740', 'ISYE6644', 'CSE6242'],\n",
        "                   'students': [1200, 1400, 1000, 400, 700, 900],\n",
        "                   'instructor': ['Sokol', 'Vuduc', 'Bien', 'Xie', 'Goldsman', 'Chau'],\n",
        "                    'credit_hours': ['3','3','3','3','3','3']})"
      ]
    },
    {
      "cell_type": "markdown",
      "metadata": {
        "id": "5e3Bqqcv-zrJ"
      },
      "source": [
        "### Now let's look at four ways of indexing rows in the dataframe.\n",
        "\n",
        "There are other methods, but these are the main four that you will see, both in this course and \"in the wild\"."
      ]
    },
    {
      "cell_type": "markdown",
      "metadata": {
        "id": "0wLIc0DV-zrK"
      },
      "source": [
        "#### First is the default method.\n",
        "\n",
        "The index is integer-based, with the first row being index `0`, and the indexes running up to the length of the dataframe -1. Students should be familiar with this indexing scheme, as it is the same as used by Python lists.\n",
        "\n",
        "Notice in the view below, there is no column name above the index, and the indices are numbered 0-5, for the 6 rows."
      ]
    },
    {
      "cell_type": "code",
      "execution_count": null,
      "metadata": {
        "id": "GybEar_d-zrK"
      },
      "outputs": [],
      "source": [
        "courses"
      ]
    },
    {
      "cell_type": "markdown",
      "metadata": {
        "id": "QyBaalOG-zrK"
      },
      "source": [
        "#### The second method is when the index is the same as one of the columns. The index has the same name as the column, from which it is derived.\n",
        "\n",
        "The column is still a part of the dataframe, which means the index is duplicated by the column. See the first example below."
      ]
    },
    {
      "cell_type": "code",
      "execution_count": null,
      "metadata": {
        "id": "8TgPqLiA-zrK"
      },
      "outputs": [],
      "source": [
        "courses_name_index_1 = courses.copy()\n",
        "courses_name_index_1.index = courses_name_index_1['course']\n",
        "courses_name_index_1"
      ]
    },
    {
      "cell_type": "markdown",
      "metadata": {
        "id": "pWih-kGz-zrK"
      },
      "source": [
        "#### The third method is when the index is the same as one of the columns, but it does not have a name.\n",
        "\n",
        "The column is still a part of the dataframe, which means the index is duplicated by the column, but without the column name. See the example below."
      ]
    },
    {
      "cell_type": "code",
      "execution_count": null,
      "metadata": {
        "id": "TZ2Xntec-zrK"
      },
      "outputs": [],
      "source": [
        "courses_name_index_2 = courses.copy()\n",
        "courses_name_index_2.index = courses_name_index_2['course']\n",
        "\n",
        "# remove the index name\n",
        "courses_name_index_2.index.name = None\n",
        "courses_name_index_2"
      ]
    },
    {
      "cell_type": "markdown",
      "metadata": {
        "id": "O0wi1pt4-zrK"
      },
      "source": [
        "#### The final method is when the index retains the column name from which it is derived, and the column itself is removed.\n",
        "\n",
        "See the example below."
      ]
    },
    {
      "cell_type": "code",
      "execution_count": null,
      "metadata": {
        "id": "59uclfnO-zrK"
      },
      "outputs": [],
      "source": [
        "courses_name_index_3 = courses.copy()\n",
        "courses_name_index_3.index = courses_name_index_3['course']\n",
        "courses_name_index_3 = courses_name_index_3.drop('course', axis=1)\n",
        "courses_name_index_3"
      ]
    },
    {
      "cell_type": "markdown",
      "metadata": {
        "id": "Tb4VMWjf-zrL"
      },
      "source": [
        "## Let's look at how .loc[ ] and .iloc[ ] work with the first two of these scenarios.\n",
        "\n",
        "## The third and fourth scenarios are not materially different, so we leave those for the students to work through on their own."
      ]
    },
    {
      "cell_type": "markdown",
      "metadata": {
        "id": "mSjuSfoF-zrL"
      },
      "source": [
        "### From above, we know that `.loc[ ]` selects rows (and colums) using the `axis labels`.\n",
        "\n",
        "### Also from above, we know that `.iloc[ ]` selects rows (and colums) using the `integers`, which are the `index positions` of the row or column."
      ]
    },
    {
      "cell_type": "markdown",
      "metadata": {
        "id": "6lRl7BPN-zrL"
      },
      "source": [
        "#### When the index is the default (integers with no column name), `.loc[ ]` and `.iloc[ ]` operate in the same manner.\n",
        "\n",
        "This is because the integer index is the same as the row index label.\n",
        "\n",
        "The result of selecting a single row is a Series with an index that contains the DataFrame's column labels."
      ]
    },
    {
      "cell_type": "code",
      "execution_count": null,
      "metadata": {
        "id": "QIYpRckI-zrL"
      },
      "outputs": [],
      "source": [
        "courses"
      ]
    },
    {
      "cell_type": "code",
      "execution_count": null,
      "metadata": {
        "id": "xw69OpzW-zrL"
      },
      "outputs": [],
      "source": [
        "courses.loc[0]"
      ]
    },
    {
      "cell_type": "code",
      "execution_count": null,
      "metadata": {
        "id": "_OacMUEV-zrL"
      },
      "outputs": [],
      "source": [
        "courses.iloc[0]"
      ]
    },
    {
      "cell_type": "markdown",
      "metadata": {
        "id": "tQqFE3Ja-zrL"
      },
      "source": [
        "#### To select multiple roles, creating a new DataFrame, pass a sequence of labels.\n",
        "\n",
        "Notice that the sequence of labels is enclosed in its own set of brackets."
      ]
    },
    {
      "cell_type": "code",
      "execution_count": null,
      "metadata": {
        "id": "vHM4WsXb-zrL"
      },
      "outputs": [],
      "source": [
        "courses.loc[[0,1]]"
      ]
    },
    {
      "cell_type": "code",
      "execution_count": null,
      "metadata": {
        "id": "iqaLNBts-zrL"
      },
      "outputs": [],
      "source": [
        "courses.iloc[[0,1]]"
      ]
    },
    {
      "cell_type": "markdown",
      "metadata": {
        "id": "prGmiRnt-zrL"
      },
      "source": [
        "### Now let's look at the second scenario."
      ]
    },
    {
      "cell_type": "code",
      "execution_count": null,
      "metadata": {
        "id": "Se53dc-B-zrL"
      },
      "outputs": [],
      "source": [
        "courses_name_index_2"
      ]
    },
    {
      "cell_type": "code",
      "execution_count": null,
      "metadata": {
        "id": "uBy9-qWZ-zrL"
      },
      "outputs": [],
      "source": [
        "# errors out, uncomment to see why\n",
        "# courses_name_index_2.loc[0]"
      ]
    },
    {
      "cell_type": "code",
      "execution_count": null,
      "metadata": {
        "id": "Lp9EJZJ8-zrL"
      },
      "outputs": [],
      "source": [
        "courses_name_index_2.iloc[0]"
      ]
    },
    {
      "cell_type": "markdown",
      "metadata": {
        "id": "DYWOKMob-zrL"
      },
      "source": [
        "#### As we can see in this scenario, `.iloc[ ]` returns the correct row, even though the index does not have the name of `0`.\n",
        "\n",
        "#### This is because `iloc[ ]` is based on the position of the row in the dataframe. So we are calling the first row (index 0), and it returns the first row.\n",
        "\n",
        "#### What is the takeaway?\n",
        "\n",
        "### Using `.iloc[ ]` will always return the row at that position in the dataframe, no matter what the index is, or what the index is named. (0-based position)."
      ]
    },
    {
      "cell_type": "markdown",
      "metadata": {
        "id": "4C9Jwrj--zrL"
      },
      "source": [
        "### To use `.loc[ ]`, we have to address the row by the `index name` for that row."
      ]
    },
    {
      "cell_type": "code",
      "execution_count": null,
      "metadata": {
        "id": "KdZd6kHV-zrL"
      },
      "outputs": [],
      "source": [
        "courses_name_index_2.loc['ISYE6501']"
      ]
    },
    {
      "cell_type": "markdown",
      "metadata": {
        "id": "-YS_bexy-zrM"
      },
      "source": [
        "### Calling multiple rows in each scenario is the same, creating a list sequence, enclosed in brackets."
      ]
    },
    {
      "cell_type": "code",
      "execution_count": null,
      "metadata": {
        "id": "UNrdRc3l-zrM"
      },
      "outputs": [],
      "source": [
        "courses_name_index_2.iloc[[0,1,2]]"
      ]
    },
    {
      "cell_type": "code",
      "execution_count": null,
      "metadata": {
        "id": "saZ5JQfG-zrM"
      },
      "outputs": [],
      "source": [
        "courses_name_index_2.loc[['ISYE6501','CSE6040','MGT6203']]"
      ]
    },
    {
      "cell_type": "markdown",
      "metadata": {
        "id": "OFsvx4t7-zrM"
      },
      "source": [
        "### What if we want to return a subset of rows and a subset of columns?\n",
        "\n",
        "#### You can combine both row and column selection in loc by separating the selections with a comma."
      ]
    },
    {
      "cell_type": "code",
      "execution_count": null,
      "metadata": {
        "id": "pVOl2jQh-zrM"
      },
      "outputs": [],
      "source": [
        "courses_name_index_2.iloc[[0,1,2],[0,2]]"
      ]
    },
    {
      "cell_type": "code",
      "execution_count": null,
      "metadata": {
        "id": "93k05bW7-zrM"
      },
      "outputs": [],
      "source": [
        "courses_name_index_2.loc[['ISYE6501','CSE6040','MGT6203'],['course','instructor']]"
      ]
    },
    {
      "cell_type": "markdown",
      "metadata": {
        "id": "urGG0h18-zrM"
      },
      "source": [
        "### You can use slicing notation with both methods.\n",
        "\n",
        "#### Note that with the slicing notation, you have both the rows and columns within the same/single set of brackets, separated by the comma."
      ]
    },
    {
      "cell_type": "code",
      "execution_count": null,
      "metadata": {
        "id": "U1YjvUU5-zrP"
      },
      "outputs": [],
      "source": [
        "# return the first 3 rows and the first 3 columns\n",
        "courses_name_index_2.iloc[0:3,0:3]"
      ]
    },
    {
      "cell_type": "code",
      "execution_count": null,
      "metadata": {
        "id": "rvUtbUs6-zrP"
      },
      "outputs": [],
      "source": [
        "# return all of the rows and the first 3 columns\n",
        "courses_name_index_2.iloc[:,0:3]"
      ]
    },
    {
      "cell_type": "code",
      "execution_count": null,
      "metadata": {
        "id": "xBGTCyF--zrP"
      },
      "outputs": [],
      "source": [
        "# return the first 3 rows and the first 3 columns\n",
        "courses_name_index_2.loc['ISYE6501':'MGT6203','course':'instructor']"
      ]
    },
    {
      "cell_type": "code",
      "execution_count": null,
      "metadata": {
        "id": "zsaUtBuX-zrP"
      },
      "outputs": [],
      "source": [
        "# return all of the rows and the first 3 columns\n",
        "courses_name_index_2.loc[:,'course':'instructor']"
      ]
    },
    {
      "cell_type": "markdown",
      "metadata": {
        "id": "FpBgYlA8-zrP"
      },
      "source": [
        "### The decision of when to use one or the other is completely up to the student.\n",
        "\n",
        "#### -- If you are selecting columns, `.loc[ ]` is almost universally preferred, because you are going to be selecting the columns you want by their name.\n",
        "\n",
        "#### -- In general, if you are selecting rows, and the row indexes are strings), then `.loc[ ]` is generally going to be better, because you are referencing the rows by their names.\n",
        "\n",
        "#### -- If the rows are indexed by the default integer method, then either is fine, as they will return the same result.\n",
        "\n",
        "#### -- Finally, if you want to select some count/subset of rows, then using `.iloc[ ]` is probably the best. For example, if you want the first 500 rows, then you can use slicing with the integer indexes -- `df.iloc[0:501]` or `df.iloc[0:501,:]`\n",
        "\n"
      ]
    },
    {
      "cell_type": "markdown",
      "metadata": {
        "id": "mw1TCXjg-zrP"
      },
      "source": [
        "## What are your questions concerning `.loc[ ]` and `.iloc[ ]`?"
      ]
    },
    {
      "cell_type": "code",
      "execution_count": null,
      "metadata": {
        "id": "bmzomkcD-zrP"
      },
      "outputs": [],
      "source": []
    }
  ],
  "metadata": {
    "colab": {
      "provenance": [],
      "include_colab_link": true
    },
    "kernel_info": {
      "name": "python3"
    },
    "kernelspec": {
      "display_name": "Python 3 (ipykernel)",
      "language": "python",
      "name": "python3"
    },
    "language_info": {
      "codemirror_mode": {
        "name": "ipython",
        "version": 3
      },
      "file_extension": ".py",
      "mimetype": "text/x-python",
      "name": "python",
      "nbconvert_exporter": "python",
      "pygments_lexer": "ipython3",
      "version": "3.9.13"
    },
    "nteract": {
      "version": "0.11.7"
    }
  },
  "nbformat": 4,
  "nbformat_minor": 0
}