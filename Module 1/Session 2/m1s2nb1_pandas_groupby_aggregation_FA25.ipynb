{
  "cells": [
    {
      "cell_type": "markdown",
      "metadata": {
        "id": "zxT-4Efmoeh0"
      },
      "source": [
        "# Pandas groupby() and Basic Aggregation"
      ]
    },
    {
      "cell_type": "markdown",
      "metadata": {
        "id": "gPVF8WfSoeh8"
      },
      "source": [
        "## This is a short (and basic) introduction to groupby() and basic aggregation in pandas."
      ]
    },
    {
      "cell_type": "code",
      "execution_count": null,
      "metadata": {
        "id": "k1iHa6BlYn5c"
      },
      "outputs": [],
      "source": [
        "# some modules we will need\n",
        "import pandas as pd\n",
        "import numpy as np"
      ]
    },
    {
      "cell_type": "markdown",
      "metadata": {
        "id": "8C0U4sxfYn5d"
      },
      "source": [
        "## Let's do a quick introduction of the groupby() function\n",
        "\n",
        "The pandas `groupby()` function allows you to perform aggregations on groups of your data. The function is typically used to aggregate conditionally on some row label or index. The function is (again) similar in usage to the SQL command `'group by'`.\n",
        "\n",
        "A `groupby()` operation involves some combination of splitting the object, applying a function, and combining the results. This can be used to group large amounts of data and compute operations on these groups."
      ]
    },
    {
      "cell_type": "markdown",
      "metadata": {
        "id": "6dEfmdTyYn5d"
      },
      "source": [
        "#### The basic way to use the function is:\n",
        "\n",
        "`out = dataframe.groupby(by=columnname).function()`\n",
        "\n",
        "For example:\n",
        "\n",
        "`df.groupby(by=[\"b\"]).sum()`\n",
        "\n",
        "https://pandas.pydata.org/pandas-docs/stable/reference/api/pandas.DataFrame.groupby.html"
      ]
    },
    {
      "cell_type": "markdown",
      "metadata": {
        "id": "5LD1pEpGYn5d"
      },
      "source": [
        "The syntax for the groupby function is fairly straightforward, as most usages simply use the 'by' parameter to designate which column values the data will be grouped on. The function takes the values within the designated column(s) and performs the grouping (and subsequent aggregation).\n",
        "\n",
        "Under the covers, you can understand the groupby operation as on of split-apply-combine:\n",
        "\n",
        "1. Split the data into the groups, depending on the specified key value,\n",
        "\n",
        "2. Apply the aggregation function to each group,\n",
        "\n",
        "3. Combine the groups back together into a single dataframe."
      ]
    },
    {
      "cell_type": "markdown",
      "metadata": {
        "id": "PJmT6rdKYn5d"
      },
      "source": [
        "What `groupby()` on its own does is a dataframe-wide grouping of every APPLICABLE column of the passed-in function, using the \"by\" parameter that we set."
      ]
    },
    {
      "cell_type": "markdown",
      "metadata": {
        "id": "MbAypxIKYn5e"
      },
      "source": [
        "![split-apply-combine.png](https://github.com/gt-cse-6040/bootcamp/blob/main/Module%201/Session%202/split-apply-combine.png?raw=1)"
      ]
    },
    {
      "cell_type": "markdown",
      "metadata": {
        "id": "oFltcpByYn5e"
      },
      "source": [
        "#### Because `groupby()` is commonly used in conjunction with aggregate functions, we will show examples below."
      ]
    },
    {
      "cell_type": "markdown",
      "metadata": {
        "id": "BipKN_f2Yn5e"
      },
      "source": [
        "**VanderPlas has an excellent introduction to groupby in Chapter 3 of his book, available at the below links:**\n",
        "\n",
        "https://jakevdp.github.io/PythonDataScienceHandbook/03.08-aggregation-and-grouping.html\n",
        "\n",
        "https://colab.research.google.com/github/jakevdp/PythonDataScienceHandbook/blob/master/notebooks/03.08-Aggregation-and-Grouping.ipynb\n",
        "\n",
        "We are only touching on the most basic topics, and VanderPlas goes into great detail through the remainder of this notebook from his book. We encourage you to use this supplemental material in your studies to learn about this function in greater detail."
      ]
    },
    {
      "cell_type": "markdown",
      "metadata": {
        "id": "_jd_dgklYn5e"
      },
      "source": [
        "## Aggregations in Pandas"
      ]
    },
    {
      "cell_type": "markdown",
      "metadata": {
        "id": "x1XlKiJnoeh8"
      },
      "source": [
        "Pandas supports the normal aggregate functions, such as min, max, mean, median, sum, etc.\n",
        "\n",
        "By default, aggregation and aggregate functions operate on the columns of the dataframe, or on the series.\n",
        "\n",
        "https://pandas.pydata.org/pandas-docs/stable/reference/api/pandas.DataFrame.sum.html"
      ]
    },
    {
      "cell_type": "markdown",
      "metadata": {
        "id": "VKqhmJFuYn5e"
      },
      "source": [
        "#### Let's look at some basic examples, performing aggregations on Series objects, which are columns in dataframes."
      ]
    },
    {
      "cell_type": "code",
      "execution_count": null,
      "metadata": {
        "id": "a64nJOT0Yn5e"
      },
      "outputs": [],
      "source": [
        "# for a series\n",
        "rng = np.random.RandomState(42)  # set a random starting point\n",
        "agg_series = pd.Series(rng.rand(5))\n",
        "display(agg_series)"
      ]
    },
    {
      "cell_type": "code",
      "execution_count": null,
      "metadata": {
        "id": "Aio2uos-Yn5f"
      },
      "outputs": [],
      "source": [
        "# aggregate the entire column\n",
        "display(agg_series.sum())\n",
        "display(agg_series.mean())"
      ]
    },
    {
      "cell_type": "markdown",
      "metadata": {
        "id": "acfM66puYn5f"
      },
      "source": [
        "#### Now let's look at aggregations on dataframes."
      ]
    },
    {
      "cell_type": "code",
      "execution_count": null,
      "metadata": {
        "id": "yiAmhlqWYn5f"
      },
      "outputs": [],
      "source": [
        "# for a dataframe\n",
        "df = pd.DataFrame({'A': rng.rand(5),\n",
        "                   'B': rng.rand(5)})\n",
        "df"
      ]
    },
    {
      "cell_type": "markdown",
      "metadata": {
        "id": "Sba2H6JgYn5f"
      },
      "source": [
        "If we don't specify an axis argument, the default is to perform the aggregation over the columns."
      ]
    },
    {
      "cell_type": "code",
      "execution_count": null,
      "metadata": {
        "id": "52ZbnLlCoeh8"
      },
      "outputs": [],
      "source": [
        "# aggregate the entire column\n",
        "df.mean()"
      ]
    },
    {
      "cell_type": "markdown",
      "metadata": {
        "id": "Zur6pS6Yoeh8"
      },
      "source": [
        "By specifying the axis argument, you can instead aggregate within each row:"
      ]
    },
    {
      "cell_type": "code",
      "execution_count": null,
      "metadata": {
        "id": "gIStVWaToeh8"
      },
      "outputs": [],
      "source": [
        "display(df.sum(axis='columns'))\n",
        "display(df.mean(axis='columns'))"
      ]
    },
    {
      "cell_type": "markdown",
      "metadata": {
        "id": "Kj8lRwH0oeh8"
      },
      "source": [
        "Here is a listing of aggregates, and all of these operate on both dataframes and series objects. It would be good for you to remember these, and what each of them does.\n",
        "\n",
        "You can count on most of these appearing on exams in the course.\n",
        "\n",
        "The following table summarizes some other built-in Pandas aggregations:\n",
        "\n",
        "| Aggregation              | Description                     |\n",
        "|--------------------------|---------------------------------|\n",
        "| ``count()``              | Total number of items           |\n",
        "| ``first()``, ``last()``  | First and last item             |\n",
        "| ``mean()``, ``median()`` | Mean and median                 |\n",
        "| ``min()``, ``max()``     | Minimum and maximum             |\n",
        "| ``std()``, ``var()``     | Standard deviation and variance |\n",
        "| ``mad()``                | Mean absolute deviation         |\n",
        "| ``prod()``               | Product of all items            |\n",
        "| ``sum()``                | Sum of all items                |"
      ]
    },
    {
      "cell_type": "markdown",
      "metadata": {
        "id": "mT-ydMCyoeh9"
      },
      "source": [
        "### In general, and in this class, we do aggregate functions on groupings of values within a column, using the `groupby()` function."
      ]
    },
    {
      "cell_type": "markdown",
      "metadata": {
        "id": "x9adkxJCYn5f"
      },
      "source": [
        "Here is a visual example, using `groupby()` and `mean`.\n",
        "\n",
        "![groupby_1.png](https://github.com/gt-cse-6040/bootcamp/blob/main/Module%201/Session%202/groupby_1.png?raw=1)"
      ]
    },
    {
      "cell_type": "code",
      "execution_count": null,
      "metadata": {
        "id": "0atb65iKoeh9"
      },
      "outputs": [],
      "source": [
        "df = pd.DataFrame({'key': ['A', 'B', 'C', 'A', 'B', 'C'],\n",
        "                   'data': range(6)}, columns=['key', 'data'])\n",
        "df"
      ]
    },
    {
      "cell_type": "code",
      "execution_count": null,
      "metadata": {
        "id": "NVLGN3rvoeh9"
      },
      "outputs": [],
      "source": [
        "# groupby and aggregate by a single column\n",
        "display(df.groupby('key').sum())\n",
        "display(df.groupby('key').mean())"
      ]
    },
    {
      "cell_type": "markdown",
      "metadata": {
        "id": "2fjywYnYYn5f"
      },
      "source": [
        "#### What if we want to aggregate by multiple columns?\n",
        "\n",
        "We can pass a `list` of the columns (that we want to aggregate by) to `groupby()`."
      ]
    },
    {
      "cell_type": "code",
      "execution_count": null,
      "metadata": {
        "id": "6UNKRuRCYn5f"
      },
      "outputs": [],
      "source": [
        "df2 = pd.DataFrame({'key1': ['A', 'B', 'C', 'A', 'B', 'C','A', 'B', 'C', 'A', 'B', 'C'],\n",
        "                    'key2': ['far', 'far', 'far', 'near', 'near', 'near','far', 'far', 'far', 'near', 'near', 'near'],\n",
        "                   'data': range(12)}, columns=['key1', 'key2', 'data'])\n",
        "df2"
      ]
    },
    {
      "cell_type": "code",
      "execution_count": null,
      "metadata": {
        "id": "qLO7UgpSYn5g"
      },
      "outputs": [],
      "source": [
        "# groupby and aggregate by multiple columns\n",
        "display(df2.groupby(['key1','key2']).sum())\n",
        "display(df2.groupby(['key1','key2']).sum())"
      ]
    },
    {
      "cell_type": "markdown",
      "metadata": {
        "id": "3c65B4Ypoeh9"
      },
      "source": [
        "#### Finally, there is a convenience method, describe(), that computes several common aggregates for each column and returns the result. This is good function when you are performing exploratory data analysis (EDA)."
      ]
    },
    {
      "cell_type": "code",
      "execution_count": null,
      "metadata": {
        "id": "pmGT0F4ZYn5g"
      },
      "outputs": [],
      "source": [
        "df5 = pd.DataFrame({'A': rng.rand(10),\n",
        "                   'B': rng.rand(10),\n",
        "                   'C': rng.rand(10),\n",
        "                   'D': rng.rand(10)})\n",
        "df5"
      ]
    },
    {
      "cell_type": "code",
      "execution_count": null,
      "metadata": {
        "id": "DVEvcYbEYn5g"
      },
      "outputs": [],
      "source": [
        "df5.describe()"
      ]
    },
    {
      "cell_type": "markdown",
      "metadata": {
        "id": "2uCNaKohoeh9"
      },
      "source": [
        "**This concludes our (basic) introduction to `groupby()` and `aggregation` in pandas.**\n",
        "\n",
        "**We encourage you to delve deeper into them, as you will be using all of these throughout this class and professionally in working with Python for Analytics.**\n",
        "\n",
        "**We also highly encourage you to work through NB7 Part1, the FEC Dataset notebook, as is does a full analysis of 'real life' data from the Federal Election Commission, including application of most of the above functions that we have covered here.**"
      ]
    },
    {
      "cell_type": "code",
      "execution_count": null,
      "metadata": {
        "id": "iMrMVANfoeh9"
      },
      "outputs": [],
      "source": []
    }
  ],
  "metadata": {
    "colab": {
      "provenance": []
    },
    "kernel_info": {
      "name": "python3"
    },
    "kernelspec": {
      "display_name": "Python 3 (ipykernel)",
      "language": "python",
      "name": "python3"
    },
    "language_info": {
      "codemirror_mode": {
        "name": "ipython",
        "version": 3
      },
      "file_extension": ".py",
      "mimetype": "text/x-python",
      "name": "python",
      "nbconvert_exporter": "python",
      "pygments_lexer": "ipython3",
      "version": "3.9.13"
    },
    "nteract": {
      "version": "0.11.7"
    }
  },
  "nbformat": 4,
  "nbformat_minor": 0
}