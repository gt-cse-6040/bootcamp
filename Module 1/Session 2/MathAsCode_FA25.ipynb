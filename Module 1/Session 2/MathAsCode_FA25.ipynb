{
  "nbformat": 4,
  "nbformat_minor": 0,
  "metadata": {
    "colab": {
      "provenance": []
    },
    "kernelspec": {
      "name": "python3",
      "display_name": "Python 3"
    },
    "language_info": {
      "name": "python"
    }
  },
  "cells": [
    {
      "cell_type": "markdown",
      "source": [
        "# **MATH AS CODE**"
      ],
      "metadata": {
        "id": "XPByMtm0sLdx"
      }
    },
    {
      "cell_type": "markdown",
      "source": [
        "**What's Included:**\n",
        "\n",
        "\n",
        "*   Basics [Notations and Symbols]\n",
        "*   Functions\n",
        "*   Series\n",
        "*   An Example\n",
        "\n"
      ],
      "metadata": {
        "id": "PTDWnl3krslC"
      }
    },
    {
      "cell_type": "markdown",
      "source": [
        "## **Math As Code: Basics**"
      ],
      "metadata": {
        "id": "HS65UyjSsHBI"
      }
    },
    {
      "cell_type": "markdown",
      "source": [
        "**Why are we covering this topic?**\n",
        "\n",
        "For the rest of the course, you'll be developing algorithms for data analysis, including linear regression, classification, k-means, KNN, and PCA. While Python libraries simplify these tasks, the goal is to understand the computational methods behind them.\n",
        "\n",
        "We will focus on understanding the logic behind functions and translating them into mathematical algorithms, which we'll then implement in Python.\n",
        "\n",
        "Additionally, in homework notebooks and exams, you may be asked to create code for a given analysis scenario and equation—such as the correlation function from Practice Midterm 1, Problem 26.\n",
        "\n",
        "Throughout this program, you will need to derive algorithms and implement them in code, building a strong foundation for practical data science applications."
      ],
      "metadata": {
        "id": "8FnyHXSqs33n"
      }
    },
    {
      "cell_type": "markdown",
      "source": [
        "**Notation and Symbols**\n",
        "\n",
        "In Python, you can perform many basic operations, such as addition and multiplication, as well as more complex operations like matrix multiplication. For detailed syntax on these operations, refer to [this](https://docs.python.org/3/library/operator.html#mapping-operators-to-functions) this documentation. We recommend you verify your understanding of the following operations:\n",
        "\n",
        "* Addition (+)\n",
        "* Subtraction (-)\n",
        "* Multiplication (*)\n",
        "* Division (/)\n",
        " * Floor division (//)\n",
        " * Modulo, or remainder (%)\n",
        "* Exponentiation (**)\n",
        "* Negation (not)\n",
        "* Tests for equality (==)\n",
        "\n",
        "Make sure to practice these operations to be comfortable with them.\n"
      ],
      "metadata": {
        "id": "Q9ydvaRtuSCl"
      }
    },
    {
      "cell_type": "code",
      "source": [
        "# Examples: Basic Math Operations\n",
        "\n",
        "# Addition\n",
        "print(\"3 + 2 =\", 3 + 2)      # Output: 5\n",
        "\n",
        "# Subtraction\n",
        "print(\"7 - 4 =\", 7 - 4)      # Output: 3\n",
        "\n",
        "# Multiplication\n",
        "print(\"5 * 2 =\", 5 * 2)      # Output: 10\n",
        "\n",
        "# Division (returns a float)\n",
        "print(\"8 / 2 =\", 8 / 2)      # Output: 4.0\n",
        "\n",
        "# Floor division (drops the decimal)\n",
        "print(\"9 // 2 =\", 9 // 2)    # Output: 4\n",
        "\n",
        "# Modulo (remainder)\n",
        "print(\"10 % 3 =\", 10 % 3)    # Output: 1\n",
        "\n",
        "# Exponentiation (power)\n",
        "print(\"2 ** 3 =\", 2 ** 3)    # Output: 8\n",
        "\n",
        "# Negation\n",
        "print(\"not True =\", not True)   # Output: False\n",
        "print(\"not False =\", not False) # Output: True\n"
      ],
      "metadata": {
        "colab": {
          "base_uri": "https://localhost:8080/"
        },
        "id": "laNETn8XzdzQ",
        "outputId": "65b974ff-aca7-4848-904f-14db007b4f4d"
      },
      "execution_count": null,
      "outputs": [
        {
          "output_type": "stream",
          "name": "stdout",
          "text": [
            "3 + 2 = 5\n",
            "7 - 4 = 3\n",
            "5 * 2 = 10\n",
            "8 / 2 = 4.0\n",
            "9 // 2 = 4\n",
            "10 % 3 = 1\n",
            "2 ** 3 = 8\n",
            "not True = False\n",
            "not False = True\n"
          ]
        }
      ]
    },
    {
      "cell_type": "markdown",
      "source": [
        "**Comparison operators:**\n",
        "\n",
        "* Greater than (>)\n",
        "* Less than (<)\n",
        "* Greater than or equal to (>=)\n",
        "* Less than or equal to (<=)\n",
        "* Not equal to (!=)"
      ],
      "metadata": {
        "id": "pSO67EIU14mY"
      }
    },
    {
      "cell_type": "code",
      "source": [
        "# Greater than (>)\n",
        "print(\"Is 5 greater than 3?\", 5 > 3)  # True\n",
        "\n",
        "# Less than (<)\n",
        "print(\"Is 2 less than 7?\", 2 < 7)     # True\n",
        "\n",
        "# Greater than or equal to (>=)\n",
        "print(\"Is 6 greater than or equal to 6?\", 6 >= 6)  # True\n",
        "\n",
        "# Less than or equal to (<=)\n",
        "print(\"Is 3 less than or equal to 2?\", 3 <= 2)     # False\n",
        "\n",
        "# Not equal to (!=)\n",
        "print(\"Is 10 not equal to 5?\", 10 != 5)            # True\n"
      ],
      "metadata": {
        "colab": {
          "base_uri": "https://localhost:8080/"
        },
        "id": "pXAIJZ5O0pO0",
        "outputId": "3ca7d13d-07c9-4241-92ff-1dcf49efadf5"
      },
      "execution_count": null,
      "outputs": [
        {
          "output_type": "stream",
          "name": "stdout",
          "text": [
            "Is 5 greater than 3? True\n",
            "Is 2 less than 7? True\n",
            "Is 6 greater than or equal to 6? True\n",
            "Is 3 less than or equal to 2? False\n",
            "Is 10 not equal to 5? True\n"
          ]
        }
      ]
    },
    {
      "cell_type": "markdown",
      "source": [
        "**Logical operators:**\n",
        "\n",
        "* AND (and)\n",
        "* OR (or)\n",
        "\n"
      ],
      "metadata": {
        "id": "iQIbeYUv2FOe"
      }
    },
    {
      "cell_type": "code",
      "source": [
        "# AND (and) — True only if both conditions are True\n",
        "print(\"Is 5 > 3 AND 2 < 7?\", 5 > 3 and 2 < 7)   # True\n",
        "print(\"Is 5 > 3 AND 2 > 7?\", 5 > 3 and 2 > 7)   # False\n",
        "\n",
        "# OR (or) — True if at least one condition is True\n",
        "print(\"Is 5 > 3 OR 2 > 7?\", 5 > 3 or 2 > 7)     # True\n",
        "print(\"Is 5 < 3 OR 2 > 7?\", 5 < 3 or 2 > 7)     # False\n"
      ],
      "metadata": {
        "colab": {
          "base_uri": "https://localhost:8080/"
        },
        "id": "D5LY8TXH023P",
        "outputId": "2cc26a3c-74a3-4830-8e05-9056d51e2634"
      },
      "execution_count": null,
      "outputs": [
        {
          "output_type": "stream",
          "name": "stdout",
          "text": [
            "Is 5 > 3 AND 2 < 7? True\n",
            "Is 5 > 3 AND 2 > 7? False\n",
            "Is 5 > 3 OR 2 > 7? True\n",
            "Is 5 < 3 OR 2 > 7? False\n"
          ]
        }
      ]
    },
    {
      "cell_type": "markdown",
      "source": [
        "**Assignment Operators:**\n",
        "\n",
        "* Assignment (=)\n",
        "* Addition assignment (+=)\n",
        "* Subtraction assignment (-=)\n",
        "* Multiplication assignment (*=)\n",
        "* Division assignment (/=)"
      ],
      "metadata": {
        "id": "DsjSywTm2KHF"
      }
    },
    {
      "cell_type": "code",
      "source": [
        "# Assignment (=)\n",
        "x = 10\n",
        "print(\"x =\", x)  # Output: 10\n",
        "\n",
        "# Addition assignment (+=)\n",
        "x += 5   # Same as x = x + 5\n",
        "print(\"x after += 5:\", x)  # Output: 15\n",
        "\n",
        "# Subtraction assignment (-=)\n",
        "x -= 3   # Same as x = x - 3\n",
        "print(\"x after -= 3:\", x)  # Output: 12\n",
        "\n",
        "# Multiplication assignment (*=)\n",
        "x *= 2   # Same as x = x * 2\n",
        "print(\"x after *= 2:\", x)  # Output: 24\n",
        "\n",
        "# Division assignment (/=)\n",
        "x /= 4   # Same as x = x / 4\n",
        "print(\"x after /= 4:\", x)  # Output: 6.0\n"
      ],
      "metadata": {
        "colab": {
          "base_uri": "https://localhost:8080/"
        },
        "id": "OeK0Yfzp1CjD",
        "outputId": "9cff3a09-7733-4894-8647-7624a8f410ad"
      },
      "execution_count": null,
      "outputs": [
        {
          "output_type": "stream",
          "name": "stdout",
          "text": [
            "x = 10\n",
            "x after += 5: 15\n",
            "x after -= 3: 12\n",
            "x after *= 2: 24\n",
            "x after /= 4: 6.0\n"
          ]
        }
      ]
    },
    {
      "cell_type": "markdown",
      "source": [
        "**Membership operator:**\n",
        "\n",
        "* In (in)\n",
        "* Not in (not in)"
      ],
      "metadata": {
        "id": "1B7z7P4k2VN3"
      }
    },
    {
      "cell_type": "code",
      "source": [
        "# 'in' checks if a value exists in a list (or other collection)\n",
        "fruits = ['apple', 'banana', 'orange']\n",
        "\n",
        "print(\"My fruits list:\", fruits)\n",
        "print(\"Is 'banana' in the list?\", 'banana' in fruits)    # True\n",
        "print(\"Is 'grape' in the list?\", 'grape' in fruits)      # False\n",
        "\n",
        "# 'not in' checks if a value does NOT exist in a list\n",
        "print(\"Is 'grape' not in the list?\", 'grape' not in fruits)  # True\n",
        "print(\"Is 'apple' not in the list?\", 'apple' not in fruits)  # False\n"
      ],
      "metadata": {
        "colab": {
          "base_uri": "https://localhost:8080/"
        },
        "id": "3APlGcRJ1Wh7",
        "outputId": "1860260d-3f8e-4b81-adb9-856237c4d9fc"
      },
      "execution_count": null,
      "outputs": [
        {
          "output_type": "stream",
          "name": "stdout",
          "text": [
            "My fruits list: ['apple', 'banana', 'orange']\n",
            "Is 'banana' in the list? True\n",
            "Is 'grape' in the list? False\n",
            "Is 'grape' not in the list? True\n",
            "Is 'apple' not in the list? False\n"
          ]
        }
      ]
    },
    {
      "cell_type": "markdown",
      "source": [
        "**Identity operators:**\n",
        "\n",
        "* Is (is)\n",
        "* Is not (is not)"
      ],
      "metadata": {
        "id": "wRLfcLc52ZRw"
      }
    },
    {
      "cell_type": "code",
      "source": [
        "# 'is' checks if two variables point to the same object\n",
        "a = [1, 2, 3]\n",
        "b = a          # b points to the same list as a\n",
        "c = [1, 2, 3]  # c is a new list with the same contents\n",
        "\n",
        "print(\"a is b?\", a is b)         # True (same object)\n",
        "print(\"a is c?\", a is c)         # False (different objects)\n",
        "\n",
        "# 'is not' checks if two variables do NOT point to the same object\n",
        "print(\"a is not c?\", a is not c) # True\n",
        "print(\"a is not b?\", a is not b) # False\n"
      ],
      "metadata": {
        "colab": {
          "base_uri": "https://localhost:8080/"
        },
        "id": "MP4Gu-LM1lOY",
        "outputId": "871da515-a3cd-4674-fbd2-c1f42d5c3698"
      },
      "execution_count": null,
      "outputs": [
        {
          "output_type": "stream",
          "name": "stdout",
          "text": [
            "a is b? True\n",
            "a is c? False\n",
            "a is not c? True\n",
            "a is not b? False\n"
          ]
        }
      ]
    },
    {
      "cell_type": "markdown",
      "source": [
        "**Equality Symbols in Equations**\n",
        "\n",
        "* `=` is for equality (values are the same)\n",
        "* `≠` is for inequality (value are not the same)\n",
        "* `≈` is for approximately equal to (`π ≈ 3.14159`)\n",
        "* `:=` is for definition (A is defined as B)"
      ],
      "metadata": {
        "id": "Mtyy0aR4zhfy"
      }
    },
    {
      "cell_type": "markdown",
      "source": [
        "**Mathematical Symbols**\n",
        "\n",
        "For a complete listing of the Mathematical Symbols, click [here](https://en.wikipedia.org/wiki/List_of_mathematical_symbols_by_subject)"
      ],
      "metadata": {
        "id": "4MIe4b5JzGe5"
      }
    },
    {
      "cell_type": "markdown",
      "source": [
        "**Variables**\n",
        "\n",
        "* s - italic lowercase letters for scalars (e.g. a number)\n",
        "* x - bold lowercase letters for vectors (e.g. a 2D point)\n",
        "* A - bold uppercase letters for matrices (e.g. a 3D transformation)\n",
        "* θ - italic lowercase Greek letters for constants and special variables (e.g. [polar angle θ, theta](https://en.wikipedia.org/wiki/Spherical_coordinate_system))\n",
        "* list_name = [a1, a2, a3] - A Python list containing values.\n",
        "* tuple_name = (a1, a2, a3) - A Python tuple containing immutable values.\n",
        "* dict_name = {'key1': value1, 'key2': value2} - A Python dictionary of key-value pairs.\n",
        "* np.array([a1, a2, a3]) - A numpy array, often used for mathematical computations.\n",
        "* x[0] - Accessing the first element of a sequence (list, array, etc.).\n",
        "* A[0, 0] - Accessing the element in row 0, column 0 of a matrix A.\n",
        "* def function_name(x): - Python function definition.\n",
        "* return value - Returning a value from a function.\n",
        "* for item in collection: - Iterating through elements in a collection (e.g., list, array).\n",
        "* range(start, end) - A sequence generator for use in loops."
      ],
      "metadata": {
        "id": "jjSOdDQQzSoA"
      }
    },
    {
      "cell_type": "markdown",
      "source": [
        "## **Examples: Basics**"
      ],
      "metadata": {
        "id": "2-8ypUMvWL8e"
      }
    },
    {
      "cell_type": "code",
      "source": [
        "## equality\n",
        "2 == 3"
      ],
      "metadata": {
        "colab": {
          "base_uri": "https://localhost:8080/"
        },
        "id": "qnKiXAIcWQRJ",
        "outputId": "5753c9f4-74d9-480f-dd9c-068a32a3a3fa"
      },
      "execution_count": null,
      "outputs": [
        {
          "output_type": "execute_result",
          "data": {
            "text/plain": [
              "False"
            ]
          },
          "metadata": {},
          "execution_count": 4
        }
      ]
    },
    {
      "cell_type": "code",
      "source": [
        "## inequality\n",
        "2 != 3"
      ],
      "metadata": {
        "colab": {
          "base_uri": "https://localhost:8080/"
        },
        "id": "D9qDV76XXiVB",
        "outputId": "defd654a-6016-4774-d227-e8233bee4855"
      },
      "execution_count": null,
      "outputs": [
        {
          "output_type": "execute_result",
          "data": {
            "text/plain": [
              "True"
            ]
          },
          "metadata": {},
          "execution_count": 5
        }
      ]
    },
    {
      "cell_type": "code",
      "source": [
        "## approximately equal\n",
        "import math\n",
        "print(math.isclose(math.pi, 3.14, rel_tol = 1e-09, abs_tol = 0.0))\n",
        "print(math.isclose(2.005, 2.125, abs_tol = 0.25))\n",
        "\n",
        "## Documentation:\n",
        "## https://docs.python.org/3/library/math.html\n",
        "## https://www.geeksforgeeks.org/python-math-library-isclose-method/"
      ],
      "metadata": {
        "colab": {
          "base_uri": "https://localhost:8080/"
        },
        "id": "UnqX2_6ZXo3i",
        "outputId": "f1d73a41-f7dc-4c94-d9de-382d7e7bbf2a"
      },
      "execution_count": null,
      "outputs": [
        {
          "output_type": "stream",
          "name": "stdout",
          "text": [
            "False\n",
            "True\n"
          ]
        }
      ]
    },
    {
      "cell_type": "markdown",
      "source": [
        "## **Math As Code: Functions**"
      ],
      "metadata": {
        "id": "6RKlhgz04w4O"
      }
    },
    {
      "cell_type": "markdown",
      "source": [
        "A function is simply **a map of inputs to outputs.** We often think of programmatic functions as reusable pieces of code, but they can be used in the exact same way we use them mathematically. **Math as Code** translates mathematical functions and algorithms into executable code, making these mathematical concepts actionable. It allows for efficient, scalable computation and automation of mathematical processes. By using libraries like `math`, `numpy`, or `scipy`, mathematical formulas are implemented as functions that take inputs and return outputs, providing reusable solutions for real-world problems.\n"
      ],
      "metadata": {
        "id": "dpOOU17-hy5T"
      }
    },
    {
      "cell_type": "markdown",
      "source": [
        "### Representation: Mathematical functions (like equations, formulas) are translated into code.\n",
        "\n",
        "**Example:**\n",
        "Mathematically, we have the equation:  \n",
        "\\( y = mx + b \\)  \n",
        "\n",
        "In code, this can be written as:"
      ],
      "metadata": {
        "id": "c8L5rb0-ivjk"
      }
    },
    {
      "cell_type": "code",
      "source": [
        "def linear_function(m, x, b):\n",
        "  y = m * x + b\n",
        "  return y\n",
        "\n",
        "# Call the function\n",
        "m = 2\n",
        "x = 3\n",
        "b = 5\n",
        "\n",
        "# Print the result\n",
        "result = linear_function(m, x, b)\n",
        "print(f\"The result of the linear function is: {result}\")"
      ],
      "metadata": {
        "colab": {
          "base_uri": "https://localhost:8080/"
        },
        "id": "d7GxA4F9izc1",
        "outputId": "ee761a0e-5cdb-4247-bf32-0eebc44bc191"
      },
      "execution_count": null,
      "outputs": [
        {
          "output_type": "stream",
          "name": "stdout",
          "text": [
            "The result of the linear function is: 11\n"
          ]
        }
      ]
    },
    {
      "cell_type": "markdown",
      "source": [
        "A function represents a formula or algorithm that can take inputs and return outputs.\n",
        "\n",
        "**Example:**  \n",
        "To calculate the area of a circle, the formula is $$ A = \\pi r^2 $$.\n",
        "\n",
        "In Python, the function can be written as:"
      ],
      "metadata": {
        "id": "iLj_7_o3i61N"
      }
    },
    {
      "cell_type": "code",
      "source": [
        "import math\n",
        "\n",
        "def area_of_circle(radius):\n",
        "  return math.pi * radius ** 2\n",
        "\n",
        "# Call the function\n",
        "radius = 5\n",
        "result = area_of_circle(radius)\n",
        "\n",
        "# Print the result\n",
        "print(f\"The area of the circle with radius {radius} is: {result}\")"
      ],
      "metadata": {
        "colab": {
          "base_uri": "https://localhost:8080/"
        },
        "id": "vCVgYcgCi5Va",
        "outputId": "3aa7ab52-a218-4049-faa9-1bd903edbece"
      },
      "execution_count": null,
      "outputs": [
        {
          "output_type": "stream",
          "name": "stdout",
          "text": [
            "The area of the circle with radius 5 is: 78.53981633974483\n"
          ]
        }
      ]
    },
    {
      "cell_type": "markdown",
      "source": [
        "## **Eamples: Function**"
      ],
      "metadata": {
        "id": "ZUA7jmNdhKSt"
      }
    },
    {
      "cell_type": "markdown",
      "source": [
        "1. The Pythagorean theorem is:\n",
        "\n",
        "      \\[ a^2 + b^2 = c^2 \\]\n",
        "\n"
      ],
      "metadata": {
        "id": "KmPYAiUvWsG-"
      }
    },
    {
      "cell_type": "code",
      "source": [
        "# Given sides a and b\n",
        "import math\n",
        "a = 3\n",
        "b = 4\n",
        "\n",
        "# Calculate hypotenuse c\n",
        "c = math.sqrt(a**2 + b**2)\n",
        "print(\"Hypotenuse 'c' is:\", c)"
      ],
      "metadata": {
        "colab": {
          "base_uri": "https://localhost:8080/"
        },
        "id": "cqYNR3rkXK73",
        "outputId": "5f10a547-b9e3-40c9-eeba-51e993a4e502"
      },
      "execution_count": null,
      "outputs": [
        {
          "output_type": "stream",
          "name": "stdout",
          "text": [
            "Hypotenuse 'c' is: 5.0\n"
          ]
        }
      ]
    },
    {
      "cell_type": "markdown",
      "source": [
        "2. Quadratic Equation\n",
        "\n",
        "  $$\\text{quad}(a, b, c) = \\frac{-b \\pm \\sqrt{b^2 - 4ac}}{2a}$$\n",
        "\n",
        "  which in Python code can be written as ..."
      ],
      "metadata": {
        "id": "4YJpPannb40D"
      }
    },
    {
      "cell_type": "code",
      "source": [
        "def quadratic_equation(a, b, c):\n",
        "    # Calculate the radicand\n",
        "    radicand = (b ** 2) - (4 * a * c)\n",
        "    pm_term = radicand ** 0.5\n",
        "    # Return the two roots\n",
        "    return (-b + pm_term) / (2 * a), (-b - pm_term) / (2 * a)"
      ],
      "metadata": {
        "id": "XDRvTFuzrrel"
      },
      "execution_count": 4,
      "outputs": []
    },
    {
      "cell_type": "markdown",
      "source": [
        "So, does it work? What are the roots for:\n",
        "\n",
        "$$f(x) = -2x^2 - 9x + 35$$"
      ],
      "metadata": {
        "id": "069ChJ3IcUv7"
      }
    },
    {
      "cell_type": "code",
      "source": [
        "# Call the function\n",
        "\n",
        "roots = quadratic_equation(-2, -9, 35)\n",
        "print(roots)"
      ],
      "metadata": {
        "id": "BaYfozmWs3eY",
        "colab": {
          "base_uri": "https://localhost:8080/"
        },
        "outputId": "0e7df19e-e9ee-40c3-efc8-e576af6f6819"
      },
      "execution_count": 5,
      "outputs": [
        {
          "output_type": "stream",
          "name": "stdout",
          "text": [
            "(-7.0, 2.5)\n"
          ]
        }
      ]
    },
    {
      "cell_type": "markdown",
      "source": [
        "Lets test this"
      ],
      "metadata": {
        "id": "I530CtGUjfrv"
      }
    },
    {
      "cell_type": "code",
      "source": [
        "# Test the function\n",
        "\n",
        "a, b, c = -2, -9, 35\n",
        "\n",
        "for root in roots:\n",
        "    result = a * root**2 + b * root + c\n",
        "    print(f\"For root {root}, the equation gives: {result}\")"
      ],
      "metadata": {
        "colab": {
          "base_uri": "https://localhost:8080/"
        },
        "id": "-s5zGZ_Vjif_",
        "outputId": "4b39ddb7-2a39-440e-cf42-a46a7540dba3"
      },
      "execution_count": 6,
      "outputs": [
        {
          "output_type": "stream",
          "name": "stdout",
          "text": [
            "For root -7.0, the equation gives: 0.0\n",
            "For root 2.5, the equation gives: 0.0\n"
          ]
        }
      ]
    },
    {
      "cell_type": "markdown",
      "source": [
        "### Piecewise Functions\n",
        "\n",
        "Some functions will use different relationships depending on the input value, *x*.\n",
        "\n",
        "The following function *ƒ* chooses between two \"sub functions\" depending on the input value.\n",
        "\n",
        "\n",
        "$$f(x)=\n",
        "\\begin{cases}\n",
        "    \\frac{x^2-x}{x},& \\text{if } x\\geq 1\\\\\n",
        "    0, & \\text{otherwise}\n",
        "\\end{cases}$$\n",
        "\n",
        "We can implement the same behavior by using `if/else` statements.\n"
      ],
      "metadata": {
        "id": "A8eLFQ2Ucdjo"
      }
    },
    {
      "cell_type": "code",
      "source": [
        "def piece(x):\n",
        "    if (x >= 1):\n",
        "        return (math.pow(x, 2) - x) / x\n",
        "    else:\n",
        "        return 0\n",
        "\n",
        "print(piece(5))\n",
        "print(piece(-3))"
      ],
      "metadata": {
        "id": "1y31nrLirUYe",
        "colab": {
          "base_uri": "https://localhost:8080/"
        },
        "outputId": "4baf1edb-1db6-4128-edb8-941a4f94e8c2"
      },
      "execution_count": null,
      "outputs": [
        {
          "output_type": "stream",
          "name": "stdout",
          "text": [
            "4.0\n",
            "0\n"
          ]
        }
      ]
    },
    {
      "cell_type": "markdown",
      "source": [
        "## **Math As Code: Series**\n",
        "\n",
        "A series in mathematics is the sum or product of the terms in a sequence. It can involve adding (summation) or multiplying (product) the elements of a sequence of numbers."
      ],
      "metadata": {
        "id": "2QQU9gxof8m2"
      }
    },
    {
      "cell_type": "markdown",
      "source": [
        "### Summation\n",
        "\n",
        "The Greek letter $\\Sigma$ (Sigma) is for [Summation](https://en.wikipedia.org/wiki/Summation). In other words: summing up some numbers.\n",
        "\n",
        "$$\\sum_{i=1}^{100}i$$\n",
        "\n",
        "In Python, we can build a sequence of numbers and then use `sum()` to calculate the summation."
      ],
      "metadata": {
        "id": "VxCyEIc0igpO"
      }
    },
    {
      "cell_type": "code",
      "source": [
        "# We need to terminate at 101 because `range()` does not\n",
        "# include the final value.\n",
        "sum(range(1, 101))"
      ],
      "metadata": {
        "colab": {
          "base_uri": "https://localhost:8080/"
        },
        "id": "OPyHiFdrcj2I",
        "outputId": "05eb7826-be42-45bf-d0cf-c302f57a4b15"
      },
      "execution_count": null,
      "outputs": [
        {
          "output_type": "execute_result",
          "data": {
            "text/plain": [
              "5050"
            ]
          },
          "metadata": {},
          "execution_count": 13
        }
      ]
    },
    {
      "cell_type": "markdown",
      "source": [
        "ANother example\n",
        "\n",
        "$$\\sum_{i=1}^{100}(2i+1)$$"
      ],
      "metadata": {
        "id": "QzesIeXfipkq"
      }
    },
    {
      "cell_type": "code",
      "source": [
        "# With a comprehension\n",
        "sum([((2*i) + 1) for i in range(1, 101)])\n",
        "\n",
        "# If we want to use map():\n",
        "numbers = map(lambda i: (2*i) + 1, range(1, 101)) # This is more memory efficient\n",
        "sum(numbers)"
      ],
      "metadata": {
        "colab": {
          "base_uri": "https://localhost:8080/"
        },
        "id": "CIW3qM75inTL",
        "outputId": "2cd41c42-2e5b-4c34-e8b3-bf00c6d4ec08"
      },
      "execution_count": null,
      "outputs": [
        {
          "output_type": "execute_result",
          "data": {
            "text/plain": [
              "10200"
            ]
          },
          "metadata": {},
          "execution_count": 14
        }
      ]
    },
    {
      "cell_type": "markdown",
      "source": [
        "Summations can have multiple variables (which is almost like a \"nested\" summation).\n",
        "\n",
        "This is the same as nesting a `for` loop. You should evaluate the right-most sigma first, unless the author has enclosed them in parentheses to alter the order. Below is a simple example, and since this example deals with with finite sums, the order does not matter. The best practice, however, is to work from right to left in the summations.\n",
        "\n",
        "$$\\sum_{i=1}^{5}\\sum_{j=2}^{10}(8ij)$$"
      ],
      "metadata": {
        "id": "ZB3Ch_IajALN"
      }
    },
    {
      "cell_type": "code",
      "source": [
        "# using for loops\n",
        "x = 0\n",
        "for i in range(1,6):\n",
        "    for j in range(2,11):\n",
        "            x += 8*i*j\n",
        "x"
      ],
      "metadata": {
        "colab": {
          "base_uri": "https://localhost:8080/"
        },
        "id": "AWVyjKt1i84L",
        "outputId": "f3e68be7-5405-4259-baf4-3778523634e8"
      },
      "execution_count": null,
      "outputs": [
        {
          "output_type": "execute_result",
          "data": {
            "text/plain": [
              "6480"
            ]
          },
          "metadata": {},
          "execution_count": 15
        }
      ]
    },
    {
      "cell_type": "code",
      "source": [
        "# using a comprehension\n",
        "sum([sum([(8*i*j) for j in range(2,11)]) for i in range(1,6)])"
      ],
      "metadata": {
        "colab": {
          "base_uri": "https://localhost:8080/"
        },
        "id": "xKQkzcFKjDYM",
        "outputId": "30badae5-3bd4-46a7-c5a6-259712690dce"
      },
      "execution_count": null,
      "outputs": [
        {
          "output_type": "execute_result",
          "data": {
            "text/plain": [
              "6480"
            ]
          },
          "metadata": {},
          "execution_count": 16
        }
      ]
    },
    {
      "cell_type": "markdown",
      "source": [
        "### Products\n",
        "\n",
        "Products are the multiplicative version of a series. We represent them with the uppercase Greek letter $\\Pi$ (Pi), like this:\n",
        "\n",
        "$$ j = \\prod_{i=1}^{10}i$$\n",
        "\n",
        "This is the same as:\n",
        "\n",
        "$$j = 1 * 2 * 3 * 4 * 5 * 6 * 7 * 8 * 9 * 10$$"
      ],
      "metadata": {
        "id": "52uM3ThgjHfu"
      }
    },
    {
      "cell_type": "code",
      "source": [
        "j = 1\n",
        "for i in range(1,11):\n",
        "    j = i*j\n",
        "print(\"Using the range function\", j)\n",
        "\n",
        "# Using the math module\n",
        "from math import prod\n",
        "print(\"Using prod function\", prod(range(1, 11)))"
      ],
      "metadata": {
        "colab": {
          "base_uri": "https://localhost:8080/"
        },
        "id": "AywAgmpYjFs6",
        "outputId": "c8057d1f-c22b-416d-b0b4-dd976b66d38d"
      },
      "execution_count": 2,
      "outputs": [
        {
          "output_type": "stream",
          "name": "stdout",
          "text": [
            "Using the range function 3628800\n",
            "Using prod function 3628800\n"
          ]
        }
      ]
    },
    {
      "cell_type": "markdown",
      "source": [
        "Another example\n",
        "\n",
        "$$\\prod_{i=3}^{7}(2i+1)$$"
      ],
      "metadata": {
        "id": "c3Q2nlZFjVaP"
      }
    },
    {
      "cell_type": "code",
      "source": [
        "prod(map(lambda i: (2 * i) + 1, range(3, 8)))\n",
        "# prod([(2 * i) + 1 for i in range(3, 8)]) # Same idea with a comprehension"
      ],
      "metadata": {
        "colab": {
          "base_uri": "https://localhost:8080/"
        },
        "id": "Ba4zKrrKjS_a",
        "outputId": "d66a34c9-449a-4017-f5c1-9d8f12853b95"
      },
      "execution_count": null,
      "outputs": [
        {
          "output_type": "execute_result",
          "data": {
            "text/plain": [
              "135135"
            ]
          },
          "metadata": {},
          "execution_count": 18
        }
      ]
    },
    {
      "cell_type": "code",
      "source": [
        "# Using loops\n",
        "\n",
        "j = 1\n",
        "for i in range(3, 8):\n",
        "    j *= (2 * i) + 1\n",
        "\n",
        "print(\"Result using loop:\", j)"
      ],
      "metadata": {
        "colab": {
          "base_uri": "https://localhost:8080/"
        },
        "id": "kQcvcobkoQH7",
        "outputId": "a8ec5e34-8713-4f98-cc20-c7bb013cb78a"
      },
      "execution_count": 3,
      "outputs": [
        {
          "output_type": "stream",
          "name": "stdout",
          "text": [
            "Result using loop: 135135\n"
          ]
        }
      ]
    },
    {
      "cell_type": "markdown",
      "source": [
        "### Vectors"
      ],
      "metadata": {
        "id": "BY_Jkaf4k2jM"
      }
    },
    {
      "cell_type": "markdown",
      "source": [
        "#### Norms (or magnitude)\n",
        "\n",
        "For a vector **v**, $\\|\\mathbf{v}\\|$ is the [Euclidean norm](https://en.wikipedia.org/wiki/Norm_%28mathematics%29#Euclidean_norm) of **v**. It is also referred to as the \"magnitude\" or \"length\" of a vector.\n",
        "\n",
        "$$\\left\\| \\mathbf{v} \\right\\|$$\n",
        "\n",
        "\n",
        "\n",
        "We can find the magnitude of a vector by using the built-in **numpy** function `linalg.norm`.\n",
        "- This routines computes various norms, depending on the value of the **ord** parameter passed in.\n",
        "- The default value of the ord parameter in numpy.linalg.norm is 2, which is equal to Euclidean distance (or the l2 norm).\n",
        "\n",
        "See the following for more details:\n",
        "\n",
        "- https://numpy.org/devdocs/reference/generated/numpy.linalg.norm.html\n",
        "- https://www.geeksforgeeks.org/find-a-matrix-or-vector-norm-using-numpy/\n",
        "- https://stackoverflow.com/questions/1401712/how-can-the-euclidean-distance-be-calculated-with-numpy"
      ],
      "metadata": {
        "id": "litcH9ehk9lP"
      }
    },
    {
      "cell_type": "code",
      "source": [
        "import numpy as np\n",
        "v = [0, 4, -3]\n",
        "np.linalg.norm([0, 4, -3])"
      ],
      "metadata": {
        "colab": {
          "base_uri": "https://localhost:8080/"
        },
        "id": "2cTlai8Rk1N4",
        "outputId": "8382878f-3c7e-4499-9da1-484f61fd4105"
      },
      "execution_count": null,
      "outputs": [
        {
          "output_type": "execute_result",
          "data": {
            "text/plain": [
              "np.float64(5.0)"
            ]
          },
          "metadata": {},
          "execution_count": 20
        }
      ]
    },
    {
      "cell_type": "markdown",
      "source": [
        "#### \"Hatted\" Vectors\n",
        "\n",
        "A vector with a \"hat\", $\\hat{\\mathbf{a}}$ typically means one of two things:\n",
        "\n",
        "\n",
        "\n",
        "1. The vector is a [unit vector](https://en.wikipedia.org/wiki/Unit_vector)\n",
        "2. The vector represents \"predictions\" generated by a model\n",
        "   - We'll ignore this second idea for now.\n",
        "\n",
        "In Cartesian space, a unit vector has a magnitude of 1.\n",
        "\n",
        "Let's *normalize* a 3D vector into a unit vector. We will use the sklearn function normalize() to perform this operation."
      ],
      "metadata": {
        "id": "y1G3y48glJW3"
      }
    },
    {
      "cell_type": "code",
      "source": [
        "a = [ 0, 4, -3 ]\n",
        "\n",
        "from sklearn.preprocessing import normalize\n",
        "normalize([a])"
      ],
      "metadata": {
        "colab": {
          "base_uri": "https://localhost:8080/"
        },
        "id": "L9EFr2HklGqd",
        "outputId": "cf5f7aec-09c0-495c-b582-01907822b8b5"
      },
      "execution_count": null,
      "outputs": [
        {
          "output_type": "execute_result",
          "data": {
            "text/plain": [
              "array([[ 0. ,  0.8, -0.6]])"
            ]
          },
          "metadata": {},
          "execution_count": 21
        }
      ]
    },
    {
      "cell_type": "markdown",
      "source": [
        "## **Math As Code: An Example**\n",
        "\n",
        "In this section, we will look at simple examples of how common math concepts translate into code—making them easier to understand and apply in real-world programming."
      ],
      "metadata": {
        "id": "01DzveYedacF"
      }
    },
    {
      "cell_type": "markdown",
      "source": [
        "### Example - **Gravitational Force Calculation**\n",
        "\n",
        "#### **Your Task**\n",
        "Compute the gravitational force between two objects using **Newton's Law of Gravitation**.\n",
        "\n",
        "\n",
        "\n",
        "#### **Equation:**\n",
        "\n",
        "The formula to calculate the gravitational force \\( F \\) between two masses is:\n",
        "\n",
        "$$ F = G \\cdot \\frac{m_1 \\cdot m_2}{r^2} $$\n",
        "\n",
        "where:\n",
        "- \\( F \\) is the **gravitational force** between the two masses (in Newtons, N).\n",
        "- \\( G \\) is the **gravitational constant**, approximately\n",
        "\n",
        "$$6.67430 \\times 10^{-11} \\, \\text{m}^3 \\, \\text{kg}^{-1} \\, \\text{s}^{-2}.$$\n",
        "\n",
        "- \\$ m_1 \\$ and \\$ m_2 \\$ are the **masses** of the two objects (in kilograms, kg).\n",
        "- \\( r \\) is the **distance** between the centers of the two objects (in meters, m).\n",
        "\n",
        "\n",
        "\n",
        "### **Inputs:**\n",
        "\n",
        "- **`m1`**: Mass of the first object (in kg).\n",
        "- **`m2`**: Mass of the second object (in kg).\n",
        "- **`r`**: Distance between the centers of the two masses (in meters).\n",
        "\n",
        "\n",
        "\n",
        "### **Output:**\n",
        "\n",
        "- **`F`**: Gravitational force between the two objects (in Newtons, N).\n",
        "\n",
        "\n",
        "\n",
        "### **Steps for Calculation:**\n",
        "\n",
        "1. **Input the masses** of the two objects and the distance between them.\n",
        "2. **Apply the formula** $$ F = G \\cdot \\frac{m_1 \\cdot m_2}{r^2} $$ to calculate the gravitational force.\n",
        "3. **Output the result**: The gravitational force \\( F \\) in Newtons (N).\n",
        "\n",
        "---\n",
        "\n",
        "**References**\n",
        "- [Encyclopedia Britannica: Newton’s Law of Gravitation](https://www.britannica.com/science/Newtons-law-of-gravitation)\n",
        "- [Physics Classroom: Newton's Law of Universal Gravitation](https://www.physicsclassroom.com/class/circles/Lesson-3/Newton-s-Law-of-Universal-Gravitation)\n",
        "\n"
      ],
      "metadata": {
        "id": "zRjwbCI7lNmJ"
      }
    },
    {
      "cell_type": "code",
      "source": [
        "# Constants\n",
        "G = 6.67430e-11  # Gravitational constant\n",
        "\n",
        "# Input values\n",
        "m1 = 5.972e24  # Mass of the Earth in kg\n",
        "m2 = 7.348e22  # Mass of the Moon in kg\n",
        "r = 3.844e8     # Distance between Earth and Moon in meters\n",
        "\n",
        "# Gravitational force calculation\n",
        "def gravitational_force(m1, m2, r):\n",
        "    F = G * (m1 * m2) / r**2\n",
        "    return F\n",
        "\n",
        "# Compute gravitational force\n",
        "force = gravitational_force(m1, m2, r)\n",
        "\n",
        "# Output the result\n",
        "print(f\"The gravitational force between the Earth and the Moon is {force} N\")\n"
      ],
      "metadata": {
        "colab": {
          "base_uri": "https://localhost:8080/"
        },
        "id": "CiYKecFA0JWL",
        "outputId": "f85c1455-0f92-4dc7-aad3-c1c8b24b3737"
      },
      "execution_count": null,
      "outputs": [
        {
          "output_type": "stream",
          "name": "stdout",
          "text": [
            "The gravitational force between the Earth and the Moon is 1.982110729079252e+20 N\n"
          ]
        }
      ]
    },
    {
      "cell_type": "code",
      "source": [],
      "metadata": {
        "id": "5ze1d7udly_n"
      },
      "execution_count": null,
      "outputs": []
    },
    {
      "cell_type": "code",
      "source": [],
      "metadata": {
        "id": "ekIcOfowkPl1"
      },
      "execution_count": null,
      "outputs": []
    }
  ]
}