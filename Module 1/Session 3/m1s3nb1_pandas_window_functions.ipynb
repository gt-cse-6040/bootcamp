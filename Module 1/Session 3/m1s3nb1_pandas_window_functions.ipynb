{
  "cells": [
    {
      "cell_type": "markdown",
      "metadata": {
        "id": "view-in-github",
        "colab_type": "text"
      },
      "source": [
        "<a href=\"https://colab.research.google.com/github/gt-cse-6040/bootcamp/blob/main/Module%201/Session%203/m1s3nb1_pandas_window_functions.ipynb\" target=\"_parent\"><img src=\"https://colab.research.google.com/assets/colab-badge.svg\" alt=\"Open In Colab\"/></a>"
      ]
    },
    {
      "cell_type": "markdown",
      "metadata": {
        "id": "zxT-4Efmoeh0"
      },
      "source": [
        "# Pandas Window Functions"
      ]
    },
    {
      "cell_type": "markdown",
      "metadata": {
        "id": "PIVNssC7dJ2k"
      },
      "source": [
        "***\n",
        "## This notebook introduces Window functions in Pandas, which are the some of the primary functions that Pandas provides for analyzing time series data.\n",
        "\n",
        "## We are not going to go in depth on analyzing time series data here, as there is a class, ISYE6402, which spends an entire semester on this topic, albeit in the `R` programming language.\n",
        "\n",
        "## Our purpose here is to help students understand how to compute rolling metrics, such as moving average, moving/rolling sum, and other rolling statistical functions.\n",
        "\n",
        "## There are sample exams that use this functionality, and it is a topic that would be in scope as a possible analysis methodology for future exams.\n",
        "***"
      ]
    },
    {
      "cell_type": "markdown",
      "source": [],
      "metadata": {
        "id": "ZDmfnBGadq3j"
      }
    },
    {
      "cell_type": "code",
      "source": [
        "!wget https://raw.githubusercontent.com/gt-cse-6040/bootcamp/main/Module%201/Session%203/LA%20Temp%20Monthly.csv"
      ],
      "metadata": {
        "id": "j1_9EQw9deuk"
      },
      "execution_count": null,
      "outputs": []
    },
    {
      "cell_type": "code",
      "execution_count": null,
      "metadata": {
        "id": "7Cfc-dSSoeh3"
      },
      "outputs": [],
      "source": [
        "import pandas as pd  # Standard idiom for loading pandas\n",
        "import numpy as np"
      ]
    },
    {
      "cell_type": "markdown",
      "metadata": {
        "id": "31lMKijKdJ2n"
      },
      "source": [
        "### Python supports a number of different windowing functions, using the functions `rolling()`, `expanding()`, and `ewm()`.\n",
        "\n",
        "### We will work solely with the `rolling()` function in this class.\n",
        "\n",
        "`Documentation Links:`  https://pandas.pydata.org/pandas-docs/stable/user_guide/window.html\n",
        "\n",
        "https://pandas.pydata.org/pandas-docs/stable/reference/window.html"
      ]
    },
    {
      "cell_type": "markdown",
      "metadata": {
        "id": "caPD5ME0dJ2n"
      },
      "source": [
        "## Pandas rolling() function.\n",
        "\n",
        "### The `rolling()` function in pandas computes statistics which over moving time periods.\n",
        "\n",
        "### At its most basic, the `rolling()` function requires a dataframe with a single numeric data column, over which it will compute the statistics.\n",
        "\n",
        "### Again at its most basic, rolling assumes that the dataframe is sorted from top to bottom in the order desired, so it computes the statistics starting with the first row and going down in the dataframe.\n"
      ]
    },
    {
      "cell_type": "markdown",
      "metadata": {
        "id": "eDQsIUkYdJ2o"
      },
      "source": [
        "## Let's look at the `rolling().mean()` function.\n",
        "\n",
        "## Mathematically, `rolling()` computes a Simple Moving Average, by the commentary and equation below.\n",
        "\n",
        "![SMA.png](https://github.com/gt-cse-6040/bootcamp/blob/main/Module%201/Session%203/SMA.png?raw=1)"
      ]
    },
    {
      "cell_type": "markdown",
      "metadata": {
        "id": "w4rOZUFmdJ2o"
      },
      "source": [
        "Let's look at the documentation, then work through some examples.\n",
        "https://pandas.pydata.org/pandas-docs/stable/reference/api/pandas.DataFrame.rolling.html\n",
        "\n",
        "Note that the only argument that is required is the size of the window.\n",
        "\n",
        "From the equation above, `n` is the number of observations in the entire data set, and `k` is the window size. `p` is the value of each observation."
      ]
    },
    {
      "cell_type": "markdown",
      "metadata": {
        "id": "rI_vxjA4oeh7"
      },
      "source": [
        "#### So let's look at an example.\n",
        "\n",
        "`The data set is the monthly average temperature for Los Angeles from the time period 1950 through 2018.`"
      ]
    },
    {
      "cell_type": "code",
      "execution_count": null,
      "metadata": {
        "id": "-4i2PBjmoeh7"
      },
      "outputs": [],
      "source": [
        "# load the data file\n",
        "# bring in the sample output file\n",
        "LA_temps = pd.read_csv('LA Temp Monthly.csv')\n",
        "LA_temps_copy = LA_temps.copy()  # for use later"
      ]
    },
    {
      "cell_type": "code",
      "execution_count": null,
      "metadata": {
        "id": "GJTSm0tZoeh7"
      },
      "outputs": [],
      "source": [
        "display(LA_temps.head(5))\n",
        "display(LA_temps.info())\n",
        "display(LA_temps.describe())"
      ]
    },
    {
      "cell_type": "markdown",
      "metadata": {
        "id": "OHvsNx5AdJ2q"
      },
      "source": [
        "#### A basic example. Calculate a 3-month rolling average."
      ]
    },
    {
      "cell_type": "code",
      "execution_count": null,
      "metadata": {
        "id": "MQGdW4IxdJ2q"
      },
      "outputs": [],
      "source": [
        "# 3 month rolling average of the dataframe\n",
        "LA_temps.rolling(3).mean()"
      ]
    },
    {
      "cell_type": "markdown",
      "metadata": {
        "id": "ZZb7321rdJ2r"
      },
      "source": [
        "#### What happened here?\n",
        "\n",
        "`The rolling() function calculated the rolling average of both the` **Date** `and` **Temp** `columns.`\n",
        "\n",
        "#### Why?\n",
        "\n",
        "`Recall from above that both columns are numeric, so rolling can operate on each one.`"
      ]
    },
    {
      "cell_type": "markdown",
      "metadata": {
        "id": "ksyhiZAsdJ2r"
      },
      "source": [
        "#### So how do we fix it?\n",
        "\n",
        "`We use the` **on** `parameter, to designate the column that rolling will group the windowed data by. It functions similarly to` **groupby()** `that we have discussed earlier in the Bootcamp.`"
      ]
    },
    {
      "cell_type": "code",
      "execution_count": null,
      "metadata": {
        "id": "d7rl6i8UdJ2r"
      },
      "outputs": [],
      "source": [
        "LA_temps.rolling(3,on='Date').mean()"
      ]
    },
    {
      "cell_type": "markdown",
      "metadata": {
        "id": "lDcTLRQXdJ2r"
      },
      "source": [
        "#### We can see that `rolling()` returns a dataframe object.\n",
        "\n",
        "#### What if we want to add the rolling average as a column to our base dataframe?\n",
        "\n",
        "`Use the pandas syntax to create a new column, and designate the column that the rolling function is to be computed on.`"
      ]
    },
    {
      "cell_type": "code",
      "execution_count": null,
      "metadata": {
        "id": "JcMCGroodJ2s"
      },
      "outputs": [],
      "source": [
        "LA_temps['3_month_avg'] = LA_temps.rolling(3,on='Date').mean()['Temp']"
      ]
    },
    {
      "cell_type": "code",
      "execution_count": null,
      "metadata": {
        "id": "s7LGD5uDdJ2s"
      },
      "outputs": [],
      "source": [
        "LA_temps"
      ]
    },
    {
      "cell_type": "markdown",
      "metadata": {
        "id": "1QNDCHfadJ2s"
      },
      "source": [
        "#### We can see that the first two rows don't have a number in the `3_month_avg` column. Why?\n",
        "\n",
        "#### We have not set the parameter `min_periods`.\n",
        "\n",
        "#### From the documentation:\n",
        "\n",
        "#### min_periods:  int, default None\n",
        "\n",
        "Minimum number of observations in window required to have a value; otherwise, result is np.nan.\n",
        "\n",
        "For a window that is specified by an offset, min_periods will default to 1.\n",
        "\n",
        "`For a window that is specified by an integer, min_periods will default to the size of the window.`\n",
        "\n",
        "#### This latter scenario is what we have. Our periods are set to `3`, so the first two are empty.\n",
        "\n",
        "Let's say that we only need 2 periods to start our rolling average with."
      ]
    },
    {
      "cell_type": "code",
      "execution_count": null,
      "metadata": {
        "id": "NLmjokXNdJ2s"
      },
      "outputs": [],
      "source": [
        "LA_temps['3_month_avg_2'] = LA_temps.rolling(3,on='Date',min_periods = 2).mean()['Temp']"
      ]
    },
    {
      "cell_type": "code",
      "execution_count": null,
      "metadata": {
        "id": "-xIw2Yl-dJ2t"
      },
      "outputs": [],
      "source": [
        "LA_temps"
      ]
    },
    {
      "cell_type": "markdown",
      "metadata": {
        "id": "iFBxLnUedJ2t"
      },
      "source": [
        "## So let's do a simple analysis. Is Los Angeles getting hotter over time?\n",
        "\n",
        "### How do the monthly temperature metrics compare over time, for Los Angeles?\n",
        "\n",
        "#### Compute the 5-year annual rolling average, median, min, and max monthly temperatures for Los Angeles, for comparison.\n",
        "\n",
        "#### Use the LA_temps_copy dataframe as the starting point.\n",
        "\n",
        "Create a dataframe, LA_temps_annual, with the following columns in order from left to right:\n",
        "\n",
        "1. Year -- 4 character string, representing the year\n",
        "\n",
        "2. '12_month_avg' -- Rolling 12 month average monthly average temperature, for that year\n",
        "\n",
        "3. '12_month_median' -- Rolling 12 month median monthly average temperature, for that year\n",
        "\n",
        "4. '12_month_min' -- Rolling 12 month minimum monthly average temperature, for that year\n",
        "\n",
        "5. '12_month_max' -- Rolling 12 month maximum monthly average temperature, for that year\n",
        "\n",
        "6. '5_year_average' -- Rolling 5 year average temperature, of the annual average temperatures computed for the '12_month_average' column."
      ]
    },
    {
      "cell_type": "markdown",
      "metadata": {
        "id": "yB5JB6NkdJ2t"
      },
      "source": [
        "#### So our question is:  How do we compute these annual rolling statistics?\n",
        "\n",
        "With this data set, logically, to compute the annual average (for example), we would take the 12 individual monthly averages for each year and find their average.\n",
        "\n",
        "So in using the `rolling()` function, we want the computed value for each December observation (month 12), which will give us the rolling statistic for that year."
      ]
    },
    {
      "cell_type": "markdown",
      "metadata": {
        "id": "3nHByn3LdJ2t"
      },
      "source": [
        "#### What is our strategy for completing this requirement?\n",
        "\n",
        "1. Create the new dataframe as a copy of the original.\n",
        "\n",
        "2. Compute the rolling statistics for each month, creating the new columns for each.\n",
        "\n",
        "3. Create the `Year` column as a string copy of the `Date` colummn.\n",
        "\n",
        "4. Filter the rows to only include the December observations (Boolean mask for month 12).\n",
        "\n",
        "5. Remove the '12' in each `Year`, so that we only have the 4-digit year.\n",
        "\n",
        "6. Reset the index.\n",
        "\n",
        "7. Compute the 5 year average column."
      ]
    },
    {
      "cell_type": "code",
      "execution_count": null,
      "metadata": {
        "id": "Ae4hVNJNdJ2t"
      },
      "outputs": [],
      "source": [
        "LA_temps_annual = LA_temps_copy.copy()"
      ]
    },
    {
      "cell_type": "code",
      "execution_count": null,
      "metadata": {
        "id": "xZbiz8gxdJ2t"
      },
      "outputs": [],
      "source": [
        "# compute the statistics\n",
        "LA_temps_annual['12_month_avg'] = LA_temps_copy.rolling(12,on='Date').mean()['Temp']\n",
        "\n",
        "LA_temps_annual['12_month_median'] = LA_temps_copy.rolling(12,on='Date').median()['Temp']\n",
        "\n",
        "LA_temps_annual['12_month_min'] = LA_temps_copy.rolling(12,on='Date').min()['Temp']\n",
        "\n",
        "LA_temps_annual['12_month_max'] = LA_temps_copy.rolling(12,on='Date').max()['Temp']\n",
        "\n",
        "LA_temps_annual.head(12)"
      ]
    },
    {
      "cell_type": "code",
      "execution_count": null,
      "metadata": {
        "id": "sxN9w9qAdJ2u"
      },
      "outputs": [],
      "source": [
        "# Create the Year column\n",
        "LA_temps_annual['Year'] = LA_temps_annual['Date'].astype('string')\n",
        "\n",
        "LA_temps_annual.head(5)"
      ]
    },
    {
      "cell_type": "code",
      "execution_count": null,
      "metadata": {
        "id": "44tsJ6_TdJ2u"
      },
      "outputs": [],
      "source": [
        "# Filter for only the December observations\n",
        "# Create the boolean mask\n",
        "december_mask = LA_temps_annual['Year'].str.endswith('12')\n",
        "LA_temps_annual = LA_temps_annual[december_mask]\n",
        "LA_temps_annual"
      ]
    },
    {
      "cell_type": "code",
      "execution_count": null,
      "metadata": {
        "id": "ehGeq4SzdJ2u"
      },
      "outputs": [],
      "source": [
        "# remove the '12' from the Year column\n",
        "LA_temps_annual['Year'] = LA_temps_annual['Year'].str[0:4]\n",
        "LA_temps_annual"
      ]
    },
    {
      "cell_type": "code",
      "execution_count": null,
      "metadata": {
        "id": "11rdzpCBdJ2u"
      },
      "outputs": [],
      "source": [
        "# keep only the columns we want, in the order\n",
        "LA_temps_annual = LA_temps_annual[['Year','12_month_avg','12_month_median','12_month_min','12_month_max']].reset_index()\n",
        "display(LA_temps_annual.head(5))\n",
        "# remove the index column\n",
        "LA_temps_annual = LA_temps_annual[['Year','12_month_avg','12_month_median','12_month_min','12_month_max']]\n",
        "LA_temps_annual"
      ]
    },
    {
      "cell_type": "code",
      "execution_count": null,
      "metadata": {
        "id": "ceOc9SAfdJ2u"
      },
      "outputs": [],
      "source": [
        "# 5 year rolling average of the dataframe\n",
        "LA_temps_annual['5_year_avg'] = LA_temps_annual.rolling(5,on='Year').mean()['12_month_avg']\n",
        "LA_temps_annual"
      ]
    },
    {
      "cell_type": "markdown",
      "metadata": {
        "id": "P9tPE36BdJ2u"
      },
      "source": [
        "### Plot the statistics to view the trends."
      ]
    },
    {
      "cell_type": "code",
      "execution_count": null,
      "metadata": {
        "id": "ntzf3pQidJ2u"
      },
      "outputs": [],
      "source": [
        "import matplotlib.pyplot as plt\n",
        "LA_temps_annual.plot(x=\"Year\", y=[\"5_year_avg\",\"12_month_avg\"])\n",
        "plt.show()"
      ]
    },
    {
      "cell_type": "code",
      "execution_count": null,
      "metadata": {
        "id": "z_wRUMoFdJ2v"
      },
      "outputs": [],
      "source": [
        "LA_temps_annual.plot(x=\"Year\", y=[\"12_month_median\",\"12_month_min\",\"12_month_max\"])\n",
        "plt.show()"
      ]
    },
    {
      "cell_type": "code",
      "execution_count": null,
      "metadata": {
        "id": "WRUcLEB5dJ2v"
      },
      "outputs": [],
      "source": []
    }
  ],
  "metadata": {
    "colab": {
      "provenance": [],
      "include_colab_link": true
    },
    "kernel_info": {
      "name": "python3"
    },
    "kernelspec": {
      "display_name": "Python 3 (ipykernel)",
      "language": "python",
      "name": "python3"
    },
    "language_info": {
      "codemirror_mode": {
        "name": "ipython",
        "version": 3
      },
      "file_extension": ".py",
      "mimetype": "text/x-python",
      "name": "python",
      "nbconvert_exporter": "python",
      "pygments_lexer": "ipython3",
      "version": "3.9.13"
    },
    "nteract": {
      "version": "0.11.7"
    }
  },
  "nbformat": 4,
  "nbformat_minor": 0
}
