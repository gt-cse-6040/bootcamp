{
  "cells": [
    {
      "cell_type": "markdown",
      "metadata": {
        "id": "view-in-github",
        "colab_type": "text"
      },
      "source": [
        "<a href=\"https://colab.research.google.com/github/gt-cse-6040/bootcamp/blob/main/Module%200/Session%206/s6nb_comprehensions_SP25.ipynb\" target=\"_parent\"><img src=\"https://colab.research.google.com/assets/colab-badge.svg\" alt=\"Open In Colab\"/></a>"
      ]
    },
    {
      "cell_type": "markdown",
      "id": "b389798d",
      "metadata": {
        "id": "b389798d"
      },
      "source": [
        "# Comprehensions for Lists and Dicts"
      ]
    },
    {
      "cell_type": "markdown",
      "id": "0c45749d",
      "metadata": {
        "id": "0c45749d"
      },
      "source": [
        "## Quick Recall of Looping over Lists and Dicts"
      ]
    },
    {
      "cell_type": "markdown",
      "id": "d394674b",
      "metadata": {
        "id": "d394674b"
      },
      "source": [
        "### Iterate over a list, using a `for` loop, by element"
      ]
    },
    {
      "cell_type": "code",
      "execution_count": null,
      "id": "e21f5dd8",
      "metadata": {
        "id": "e21f5dd8",
        "scrolled": true
      },
      "outputs": [],
      "source": [
        "# Iterating over a list\n",
        "print(\"List Iteration\")\n",
        "\n",
        "course_list = [\"msa\", \"cse\", \"6040\"]\n",
        "\n",
        "for element in course_list:\n",
        "    print(element)"
      ]
    },
    {
      "cell_type": "markdown",
      "id": "06fb8ec5",
      "metadata": {
        "id": "06fb8ec5"
      },
      "source": [
        "### Iterate over a list, using a `for` loop, using a range() object"
      ]
    },
    {
      "cell_type": "code",
      "execution_count": null,
      "id": "5c18b20c",
      "metadata": {
        "id": "5c18b20c"
      },
      "outputs": [],
      "source": [
        "# output the index number\n",
        "\n",
        "for index in range(len(course_list)):\n",
        "    print(index, course_list[index])"
      ]
    },
    {
      "cell_type": "markdown",
      "id": "4d6e1b89",
      "metadata": {
        "id": "4d6e1b89"
      },
      "source": [
        "### Iterate over a dictionary, using a `for` loop and .items()"
      ]
    },
    {
      "cell_type": "code",
      "execution_count": null,
      "id": "2b759d14",
      "metadata": {
        "id": "2b759d14"
      },
      "outputs": [],
      "source": [
        "# Iterating over dictionary\n",
        "print(\"\\nDictionary Iteration\")\n",
        "\n",
        "course_dict = dict()\n",
        "\n",
        "course_dict['0'] = \"msa\"\n",
        "course_dict['1'] = \"cse\"\n",
        "course_dict['2'] = '6040'\n",
        "\n",
        "for k,v in course_dict.items() :\n",
        "    print(\"{} : {}\".format(k,v))"
      ]
    },
    {
      "cell_type": "markdown",
      "id": "eb5790df",
      "metadata": {
        "id": "eb5790df"
      },
      "source": [
        "# Comprehensions in Python"
      ]
    },
    {
      "cell_type": "markdown",
      "id": "8a994dea",
      "metadata": {
        "id": "8a994dea"
      },
      "source": [
        "1. List Comprehension\n",
        "2. Dictionary Comprehension"
      ]
    },
    {
      "cell_type": "markdown",
      "id": "59485cbe",
      "metadata": {
        "id": "59485cbe"
      },
      "source": [
        "## This material is VERY DENSE!!\n",
        "\n",
        "#### Do not be discouraged if you don't completely understand the below after the first pass tonight. Repetition and practice will be what you will need to do, in order to become proficient."
      ]
    },
    {
      "cell_type": "markdown",
      "id": "90eb44dc",
      "metadata": {
        "id": "90eb44dc"
      },
      "source": [
        "## Comprehensions Pros and Cons\n",
        "\n",
        "#### Using loops is okay, and you don't have to use comprehensions. However, it is worth understanding comprehensions because they have their own benefits.\n",
        "\n",
        "#### Pros:\n",
        "-- Generally faster than for loops, especially for large datasets.\n",
        "\n",
        "-- Takes less code to write and fits in a smaller space than a for loop.\n",
        "\n",
        "#### Cons:\n",
        "-- Can be less legible in certain situations.\n",
        "\n",
        "-- Can be harder to implement for complicated operations in for loops.\n",
        "\n",
        "***************************************************\n",
        "\n",
        "As you progress through the course, you will see problem solutions that use comprehensions whenever possible which will enable you to wrap your head around them.\n",
        "\n",
        "#### Advice – Always pause and think if you can use a comprehension instead of a loop. Practice, Practice, Practice!!!"
      ]
    },
    {
      "cell_type": "markdown",
      "id": "0cb7233f",
      "metadata": {
        "id": "0cb7233f"
      },
      "source": [
        "### 1. List Comprehension"
      ]
    },
    {
      "cell_type": "markdown",
      "id": "df482063",
      "metadata": {
        "id": "df482063"
      },
      "source": [
        "A list comprehension consists of the following parts -\n",
        "1. An Input Sequence.\n",
        "2. A Variable representing members of the input sequence.\n",
        "3. An optional Conditional Expression.\n",
        "4. An Output Expression producing elements of the output list from members of the Input Sequence that satisfy the predicate."
      ]
    },
    {
      "cell_type": "markdown",
      "id": "5e6f2c17",
      "metadata": {
        "id": "5e6f2c17"
      },
      "source": [
        "![list_format.png](https://github.com/gt-cse-6040/bootcamp/blob/main/Module%200/Session%206/list_format.png?raw=1)"
      ]
    },
    {
      "cell_type": "code",
      "execution_count": null,
      "id": "a673591c",
      "metadata": {
        "id": "a673591c"
      },
      "outputs": [],
      "source": [
        "# loop format -- recall from above\n",
        "range_list = []\n",
        "for x in range(10):\n",
        "    range_list.append(x)\n",
        "display(range_list)"
      ]
    },
    {
      "cell_type": "code",
      "execution_count": null,
      "id": "408d1810",
      "metadata": {
        "id": "408d1810"
      },
      "outputs": [],
      "source": [
        "# comprehension format\n",
        "range_list_comp = [x for x in range(10)]\n",
        "display(range_list_comp)"
      ]
    },
    {
      "cell_type": "markdown",
      "id": "dacd23d5",
      "metadata": {
        "id": "dacd23d5"
      },
      "source": [
        "#### Now let's add a level of complexity.\n",
        "\n",
        "Let's create a list of mixed integers and strings, and only output a result if the input is an integer."
      ]
    },
    {
      "cell_type": "code",
      "execution_count": null,
      "id": "69bfcb83",
      "metadata": {
        "id": "69bfcb83"
      },
      "outputs": [],
      "source": [
        "a_list = [1, '4', 9, 'a', 0, 4]\n",
        "a_list"
      ]
    },
    {
      "cell_type": "code",
      "execution_count": null,
      "id": "44853acc",
      "metadata": {
        "id": "44853acc"
      },
      "outputs": [],
      "source": [
        "sq_list = []\n",
        "for e in a_list:\n",
        "    if(type(e) == int):\n",
        "        sq_list.append(e*e)\n",
        "\n",
        "sq_list"
      ]
    },
    {
      "cell_type": "markdown",
      "id": "ac85630d",
      "metadata": {
        "id": "ac85630d"
      },
      "source": [
        "![Screen%20Shot%202022-08-27%20at%206.23.51%20PM.png](https://github.com/gt-cse-6040/bootcamp/blob/main/Module%200/Session%206/list_format_2.png?raw=1)"
      ]
    },
    {
      "cell_type": "code",
      "execution_count": null,
      "id": "0b8beb51",
      "metadata": {
        "id": "0b8beb51"
      },
      "outputs": [],
      "source": [
        "a_list"
      ]
    },
    {
      "cell_type": "code",
      "execution_count": null,
      "id": "ce438b10",
      "metadata": {
        "id": "ce438b10"
      },
      "outputs": [],
      "source": [
        "squared_ints = [e**2 for e in a_list if type(e) == int]\n",
        "print(squared_ints)"
      ]
    },
    {
      "cell_type": "markdown",
      "id": "51287966",
      "metadata": {
        "id": "51287966"
      },
      "source": [
        "#### Another example"
      ]
    },
    {
      "cell_type": "code",
      "execution_count": null,
      "id": "5dbb5ec4",
      "metadata": {
        "id": "5dbb5ec4"
      },
      "outputs": [],
      "source": [
        "my_list = [1,2,3,4,5,6,7,8,9,10]"
      ]
    },
    {
      "cell_type": "code",
      "execution_count": null,
      "id": "6382d698",
      "metadata": {
        "id": "6382d698"
      },
      "outputs": [],
      "source": [
        "# using a loop\n",
        "new_list_loop = []\n",
        "for number in my_list:\n",
        "    # using modulus operator, which returns the remainder of a division\n",
        "    # so this statement only returns even numbers\n",
        "    if number % 2 == 0:\n",
        "        new_list_loop.append(number)\n",
        "\n",
        "new_list_loop"
      ]
    },
    {
      "cell_type": "code",
      "execution_count": null,
      "id": "eeeab2f3",
      "metadata": {
        "id": "eeeab2f3"
      },
      "outputs": [],
      "source": [
        "# list comprehension\n",
        "new_list_comp = [number for number in my_list if number % 2 == 0]\n",
        "new_list_comp"
      ]
    },
    {
      "cell_type": "code",
      "execution_count": null,
      "id": "12a937d5",
      "metadata": {
        "id": "12a937d5"
      },
      "outputs": [],
      "source": [
        "# loop using if else\n",
        "new_list_loop_2 = []\n",
        "for number in my_list:\n",
        "    # using modulus operator, which returns the remainder of a division\n",
        "    # so this statement only returns even numbers\n",
        "    if number % 2 == 0:\n",
        "        new_list_loop_2.append(number)\n",
        "    else:\n",
        "        new_list_loop_2.append(15)\n",
        "\n",
        "new_list_loop_2"
      ]
    },
    {
      "cell_type": "code",
      "execution_count": null,
      "id": "f2a8474d",
      "metadata": {
        "id": "f2a8474d"
      },
      "outputs": [],
      "source": [
        "new_list_1 = [number if number % 2 == 0 else 15 for number in my_list ]\n",
        "new_list_1"
      ]
    },
    {
      "cell_type": "code",
      "execution_count": null,
      "id": "b0682d8d",
      "metadata": {
        "id": "b0682d8d"
      },
      "outputs": [],
      "source": [
        "# string function in the comprehension\n",
        "colors = [\"pink\", \"white\", \"blue\", \"black\", \"purple\"]\n",
        "[color.upper() for color in colors]"
      ]
    },
    {
      "cell_type": "markdown",
      "id": "9ae15e01",
      "metadata": {
        "id": "9ae15e01"
      },
      "source": [
        "#### What if we want to take a list of names and change their format to be last name, first name?\n",
        "\n",
        "Simple two step process, using list comprehensions. Note that there are `many ways` you can perform this operation, and we are just showing a simple way, to illustrate using comprehensions."
      ]
    },
    {
      "cell_type": "code",
      "execution_count": null,
      "id": "ce28c02e",
      "metadata": {
        "id": "ce28c02e"
      },
      "outputs": [],
      "source": [
        "# list of names\n",
        "presidents_usa = [\"George Washington\", \"John Adams\",\"Thomas Jefferson\",\"James Madison\",\"James Monroe\",\"Andrew Jackson\"]"
      ]
    },
    {
      "cell_type": "code",
      "execution_count": null,
      "id": "eb8047d1",
      "metadata": {
        "id": "eb8047d1"
      },
      "outputs": [],
      "source": [
        "# divide the names into first and last name elements\n",
        "split_names = [name.split(\" \") for name in presidents_usa]\n",
        "split_names"
      ]
    },
    {
      "cell_type": "markdown",
      "id": "9ff216b7",
      "metadata": {
        "id": "9ff216b7"
      },
      "source": [
        "#### Now let's put them back together, in a last name, first name format"
      ]
    },
    {
      "cell_type": "code",
      "execution_count": null,
      "id": "db71fc15",
      "metadata": {
        "id": "db71fc15"
      },
      "outputs": [],
      "source": [
        "swapped_list = [split_name[1] + \", \" + split_name[0] for split_name in split_names]\n",
        "swapped_list"
      ]
    },
    {
      "cell_type": "markdown",
      "id": "2a9e5bc0",
      "metadata": {
        "id": "2a9e5bc0"
      },
      "source": [
        "Let's now try to make this matrix using comprehensions. It will need a nested comprehension\n",
        "![Screen%20Shot%202022-08-27%20at%206.35.38%20PM.png](https://github.com/gt-cse-6040/bootcamp/blob/main/Module%200/Session%206/matrix.png?raw=1)"
      ]
    },
    {
      "cell_type": "code",
      "execution_count": null,
      "id": "a1522c5c",
      "metadata": {
        "id": "a1522c5c"
      },
      "outputs": [],
      "source": [
        "cols = []\n",
        "rows = []\n",
        "for row in range(3):\n",
        "    for col in range(3):\n",
        "        if(col == row):\n",
        "            cols.append(1)\n",
        "        else:\n",
        "            cols.append(0)\n",
        "    rows.append(cols)\n",
        "    cols = []\n",
        "rows"
      ]
    },
    {
      "cell_type": "code",
      "execution_count": null,
      "id": "c34440e5",
      "metadata": {
        "id": "c34440e5"
      },
      "outputs": [],
      "source": [
        "identity_matrix = [ [ 1 if item_idx == row_idx else 0 for item_idx in range(0, 3) ] for row_idx in range(0, 3) ]"
      ]
    },
    {
      "cell_type": "code",
      "execution_count": null,
      "id": "5d7d0ae1",
      "metadata": {
        "id": "5d7d0ae1"
      },
      "outputs": [],
      "source": [
        "identity_matrix"
      ]
    },
    {
      "cell_type": "markdown",
      "id": "4473ecb0",
      "metadata": {
        "id": "4473ecb0"
      },
      "source": [
        "### 2. Dictionary Comprehension"
      ]
    },
    {
      "cell_type": "markdown",
      "id": "9dc72bff",
      "metadata": {
        "id": "9dc72bff"
      },
      "source": [
        "![dict_comp_format_2.png](https://github.com/gt-cse-6040/bootcamp/blob/main/Module%200/Session%206/dict_comp_format_2.png?raw=1)"
      ]
    },
    {
      "cell_type": "markdown",
      "id": "98718f75",
      "metadata": {
        "id": "98718f75"
      },
      "source": [
        "#### Let's look at an example, using a single variable to create the key: value pair."
      ]
    },
    {
      "cell_type": "code",
      "execution_count": null,
      "id": "4d51c8f9",
      "metadata": {
        "id": "4d51c8f9"
      },
      "outputs": [],
      "source": [
        "# create dictionary using for loop\n",
        "loop_dict = {}  # create empty dict\n",
        "for num in range(1,11):\n",
        "    loop_dict[num] = num*num\n",
        "\n",
        "loop_dict"
      ]
    },
    {
      "cell_type": "markdown",
      "id": "f6318a3d",
      "metadata": {
        "id": "f6318a3d"
      },
      "source": [
        "![dict_comp_format.png](https://github.com/gt-cse-6040/bootcamp/blob/main/Module%200/Session%206/dict_comp_format.png?raw=1)"
      ]
    },
    {
      "cell_type": "code",
      "execution_count": null,
      "id": "c5332987",
      "metadata": {
        "id": "c5332987"
      },
      "outputs": [],
      "source": [
        "comp_dict = {num: num*num for num in range(1,11)}\n",
        "comp_dict"
      ]
    },
    {
      "cell_type": "markdown",
      "id": "9d0f31a8",
      "metadata": {
        "id": "9d0f31a8"
      },
      "source": [
        "#### What about dictionary comprehension with an if statement?\n",
        "\n",
        "![dict_comp_format_3.png](https://github.com/gt-cse-6040/bootcamp/blob/main/Module%200/Session%206/dict_comp_format_3.png?raw=1)"
      ]
    },
    {
      "cell_type": "code",
      "execution_count": null,
      "id": "5faf82e6",
      "metadata": {
        "id": "5faf82e6"
      },
      "outputs": [],
      "source": [
        "persons = [\n",
        "    {\n",
        "        'name': 'Vuduc',\n",
        "        'age': 40,\n",
        "        'title': 'Data Scientist'\n",
        "    },\n",
        "    {\n",
        "        'name': 'Sokol',\n",
        "        'age': 45,\n",
        "        'title': 'Data Engineer'\n",
        "    },\n",
        "    {\n",
        "        'name': 'Wooley',\n",
        "        'age': 43,\n",
        "        'title': 'Program Director'\n",
        "    }\n",
        "]"
      ]
    },
    {
      "cell_type": "code",
      "execution_count": null,
      "id": "c49d4127",
      "metadata": {
        "id": "c49d4127"
      },
      "outputs": [],
      "source": [
        "# use a loop to create the dictionary\n",
        "data_employees_loop = {}\n",
        "for p in persons:\n",
        "    if 'Data' in p['title']:\n",
        "        data_employees_loop[p['name']] = p['title']\n",
        "#     else:\n",
        "#         print(p['name'])"
      ]
    },
    {
      "cell_type": "code",
      "execution_count": null,
      "id": "234d9d2c",
      "metadata": {
        "id": "234d9d2c"
      },
      "outputs": [],
      "source": [
        "data_employees_loop"
      ]
    },
    {
      "cell_type": "code",
      "execution_count": null,
      "id": "07e8ec51",
      "metadata": {
        "id": "07e8ec51"
      },
      "outputs": [],
      "source": [
        "# create using dictionary comprehension\n",
        "data_employees_comprehension = {p['name']:p['title'] for p in persons if 'Data' in p['title']}"
      ]
    },
    {
      "cell_type": "code",
      "execution_count": null,
      "id": "23151da1",
      "metadata": {
        "id": "23151da1"
      },
      "outputs": [],
      "source": [
        "data_employees_comprehension"
      ]
    },
    {
      "cell_type": "markdown",
      "id": "335c7783",
      "metadata": {
        "id": "335c7783"
      },
      "source": [
        "### What are your questions on list and dictionary comprehensions?"
      ]
    }
  ],
  "metadata": {
    "colab": {
      "provenance": [],
      "include_colab_link": true
    },
    "kernelspec": {
      "display_name": "Python 3 (ipykernel)",
      "language": "python",
      "name": "python3"
    },
    "language_info": {
      "codemirror_mode": {
        "name": "ipython",
        "version": 3
      },
      "file_extension": ".py",
      "mimetype": "text/x-python",
      "name": "python",
      "nbconvert_exporter": "python",
      "pygments_lexer": "ipython3",
      "version": "3.9.13"
    }
  },
  "nbformat": 4,
  "nbformat_minor": 5
}