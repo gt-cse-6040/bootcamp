{
 "cells": [
  {
   "cell_type": "markdown",
   "id": "3e486c9a",
   "metadata": {
    "id": "3e486c9a"
   },
   "source": [
    "# Nested Data Exercises"
   ]
  },
  {
   "cell_type": "markdown",
   "id": "12663b12",
   "metadata": {},
   "source": [
    "## Here is a data structure and some simple questions that require us to retrieve information from it."
   ]
  },
  {
   "cell_type": "markdown",
   "id": "346b2bde",
   "metadata": {},
   "source": [
    "### The notebook presents a complex nested data structure and some practical questions to answer about it.\n",
    "\n",
    "### The complexity of these questions represent what a 1-point exercise on the exam might look like.\n",
    "\n",
    "### Exams have 1-point, 2-point, and 3-point questions, rising in complexity with point value."
   ]
  },
  {
   "cell_type": "code",
   "execution_count": null,
   "id": "f980b351",
   "metadata": {},
   "outputs": [],
   "source": [
    "my_family = [\n",
    "  { \"family_name\": \"Tunnicliffe\",\n",
    "    \"num_people\": 4,\n",
    "    \"local\": True,\n",
    "    \"city\": \"Bethpage, NY\",\n",
    "    \"date_established\": 2014,\n",
    "    \"names\": [\"Diane\", \"Steve\", \"Dylan\", \"Landon\"],\n",
    "    \"number_of_children\": 2,\n",
    "    \"children\": [\n",
    "      {\n",
    "        \"name\": \"Dylan\",\n",
    "        \"age\": 5,\n",
    "        \"favorite_color\": \"black\",\n",
    "        \"nickname\": \"Dillybeans\",\n",
    "        \"loves\": \"Super Mario\",\n",
    "      },\n",
    "      {\n",
    "        \"name\": \"Landon\",\n",
    "        \"age\": 2,\n",
    "        \"favorite_color\": \"blue\",\n",
    "        \"nickname\": \"Landybean\",\n",
    "        \"loves\": \"trucks\",\n",
    "      }\n",
    "    ]\n",
    "  },\n",
    "  { \"family_name\": \"Agulnick\",\n",
    "    \"num_people\": 5,\n",
    "    \"local\": False,\n",
    "    \"city\": \"Newton, MA\",\n",
    "    \"date_established\": 1987,\n",
    "    \"names\": [\"Ellen\", \"Mark\", \"Diane\", \"Joshua\", \"Allison\"],\n",
    "    \"number_of_children\": 3,\n",
    "    \"children\": [\n",
    "      {\n",
    "        \"name\": \"Diane\",\n",
    "        \"age\": 31,\n",
    "        \"favorite_color\": \"pink\",\n",
    "        \"nickname\": \"Dini\",\n",
    "        \"loves\": \"unicorns\",\n",
    "      },\n",
    "      {\n",
    "        \"name\": \"Joshua\",\n",
    "        \"age\": 28,\n",
    "        \"favorite_color\": \"red\",\n",
    "        \"nickname\": \"Joshie\",\n",
    "        \"loves\": \"Super Mario\",\n",
    "      },\n",
    "      {\n",
    "        \"name\": \"Allison\",\n",
    "        \"age\": 26,\n",
    "        \"favorite_color\": \"purple\",\n",
    "        \"nickname\": \"Alli\",\n",
    "        \"loves\": \"candy\",\n",
    "      }\n",
    "    ]\n",
    "  }\n",
    "]"
   ]
  },
  {
   "cell_type": "markdown",
   "id": "b7c1d792",
   "metadata": {},
   "source": [
    "#### Let's go back to PythonTutor for visualizing the data structure. \n",
    "\n",
    "#### Students can use this site on the exams, and we recommend that students use it, for complex data structures that are not easy to understand at a glance.\n",
    "\n",
    "https://pythontutor.com/python-debugger.html#mode=edit"
   ]
  },
  {
   "cell_type": "markdown",
   "id": "9116d22c",
   "metadata": {
    "id": "9116d22c"
   },
   "source": [
    "### Q1. Find the names of all children and put into a list."
   ]
  },
  {
   "cell_type": "code",
   "execution_count": null,
   "id": "07e32824",
   "metadata": {},
   "outputs": [],
   "source": [
    "\"\"\"\n",
    "create an empty list to hold the child names\n",
    "\n",
    "Loop over the 2 families\n",
    "   \n",
    "   loop over the children dictionary in each family unit (children dictionary key)\n",
    "   \n",
    "        append each child name to the list (name dictionary key)\n",
    "      \n",
    "return the list\n",
    "\"\"\""
   ]
  },
  {
   "cell_type": "code",
   "execution_count": null,
   "id": "7988e424",
   "metadata": {
    "id": "7988e424"
   },
   "outputs": [],
   "source": [
    "def children_names(my_family):\n",
    "    \n",
    "    #### YOUR CODE HERE\n",
    "#     children = []\n",
    "\n",
    "#     for unit in my_family:\n",
    "#         print(unit)\n",
    "\n",
    "#         for child in unit['children']:\n",
    "#             print(child)\n",
    "\n",
    "#             children.append(child['name'])\n",
    "\n",
    "#     return children \n",
    "\n",
    "    pass  # comment out when writing code (although does it really matter?)\n",
    "\n",
    "children_names(my_family)"
   ]
  },
  {
   "cell_type": "markdown",
   "id": "bb3a443f",
   "metadata": {
    "id": "bb3a443f"
   },
   "source": [
    "### Q2. Find names and ages of children in the non-local family unit, put each name and age into a tuple, and put the tuples into a list."
   ]
  },
  {
   "cell_type": "code",
   "execution_count": null,
   "id": "d7df38c1",
   "metadata": {},
   "outputs": [],
   "source": [
    "\"\"\"\n",
    "create an empty list to hold the child names\n",
    "\n",
    "Loop over the 2 families\n",
    "   \n",
    "   Look at the \"local\" key and if it is false:\n",
    "   \n",
    "        loop over the children dictionary in each family unit (children dictionary key)\n",
    "   \n",
    "             create the tuple with the chile name and child age values\n",
    "             append each child name/age tuple to the list \n",
    "      \n",
    "return the list\n",
    "\"\"\""
   ]
  },
  {
   "cell_type": "code",
   "execution_count": null,
   "id": "1696348b",
   "metadata": {
    "id": "1696348b"
   },
   "outputs": [],
   "source": [
    "def child_names_ages(my_family):\n",
    "\n",
    "    #### YOUR CODE HERE\n",
    "#     child_ages = []\n",
    "\n",
    "#     for unit in my_family:\n",
    "#         print(unit)\n",
    "        \n",
    "#         if unit['local'] == False:\n",
    "            \n",
    "#             for child in unit['children']:\n",
    "#                 name_and_age = (child['name'], child['age'])\n",
    "#                 child_ages.append(name_and_age)\n",
    "   \n",
    "#     return child_ages\n",
    "\n",
    "    pass    # comment out when writing code (although does it really matter?)\n",
    "\n",
    "child_names_ages(my_family)"
   ]
  },
  {
   "cell_type": "markdown",
   "id": "0edd3e04",
   "metadata": {
    "id": "0edd3e04"
   },
   "source": [
    "### Q3. Which child (or children) loves Super Mario?\n",
    "\n",
    "### Return a list of the name(s) of these children."
   ]
  },
  {
   "cell_type": "code",
   "execution_count": null,
   "id": "9cc683ec",
   "metadata": {},
   "outputs": [],
   "source": [
    "\"\"\"\n",
    "create an empty list to hold the child names\n",
    "\n",
    "Loop over the 2 families\n",
    "   \n",
    "      loop over the children dictionary in each family unit (children dictionary key)\n",
    "   \n",
    "            if the value for the 'loves' key is \"Super Mario\"\n",
    "            \n",
    "                  create the tuple with the chile name and child age values\n",
    "                  append each child name  to the list \n",
    "      \n",
    "return the list\n",
    "\"\"\""
   ]
  },
  {
   "cell_type": "code",
   "execution_count": null,
   "id": "7abe2424",
   "metadata": {
    "id": "7abe2424"
   },
   "outputs": [],
   "source": [
    "def loves_mario (my_family):\n",
    "\n",
    "    #### YOUR CODE HERE\n",
    "#     loves_Mario_child = []\n",
    "    \n",
    "#     for unit in my_family:\n",
    "        \n",
    "#         for child in unit['children']:\n",
    "            \n",
    "#             if child['loves'] == 'Super Mario':\n",
    "                \n",
    "#                 loves_Mario_child.append(child['name'])\n",
    "    \n",
    "#     return loves_Mario_child\n",
    "    \n",
    "    pass # comment out when writing code (although does it really matter?)\n",
    "\n",
    "answer = loves_mario(my_family)\n",
    "# uncomment the below after writing the function\n",
    "# print(answer)\n",
    "\n",
    "# for name in answer:\n",
    "#     print (f\"{name} really loves Super Mario.\")"
   ]
  },
  {
   "cell_type": "markdown",
   "id": "b2c6d161",
   "metadata": {
    "id": "b2c6d161"
   },
   "source": [
    "## What are your questions on nested data structures?"
   ]
  },
  {
   "cell_type": "code",
   "execution_count": null,
   "id": "3a79c97b",
   "metadata": {
    "id": "3a79c97b"
   },
   "outputs": [],
   "source": []
  }
 ],
 "metadata": {
  "colab": {
   "include_colab_link": true,
   "provenance": []
  },
  "kernelspec": {
   "display_name": "Python 3 (ipykernel)",
   "language": "python",
   "name": "python3"
  },
  "language_info": {
   "codemirror_mode": {
    "name": "ipython",
    "version": 3
   },
   "file_extension": ".py",
   "mimetype": "text/x-python",
   "name": "python",
   "nbconvert_exporter": "python",
   "pygments_lexer": "ipython3",
   "version": "3.9.13"
  }
 },
 "nbformat": 4,
 "nbformat_minor": 5
}
