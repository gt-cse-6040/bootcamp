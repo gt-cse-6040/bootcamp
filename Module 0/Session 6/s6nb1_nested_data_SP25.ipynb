{
 "cells": [
  {
   "cell_type": "markdown",
   "id": "3e486c9a",
   "metadata": {
    "id": "3e486c9a"
   },
   "source": [
    "# Intro to Nested Data"
   ]
  },
  {
   "cell_type": "markdown",
   "id": "f676058e",
   "metadata": {
    "id": "f676058e"
   },
   "source": [
    "### Now that we have covered the different data structures that we will use in Module 0, we now introduce `Nested Data`.\n",
    "\n",
    "### If you want to be successful in this course, you `ABSOLUTELY MUST` understand how to work with nested data.\n",
    "\n",
    "### Every notebook and every exam will require you to manipulate nested data in some way."
   ]
  },
  {
   "cell_type": "markdown",
   "id": "ceb30c51",
   "metadata": {
    "id": "ceb30c51"
   },
   "source": [
    "#### Main data structures in Python -\n",
    "1. Lists\n",
    "2. Tuples\n",
    "3. Dictionaries\n",
    "4. Sets\n",
    "\n",
    "#### You can nest these data structures one inside the other. For example -\n",
    "1. List of lists\n",
    "2. List of tuples\n",
    "3. List of dictionaries\n",
    "4. Dictionary of lists\n",
    "5. Dictionary of dictionaries\n",
    "6. Dictionary of lists of dictionaries.....\n",
    "etc.\n",
    "\n",
    "#### You `MUST` know how to handle a complex nested data to get the information you want.\n",
    "\n",
    "#### The methodology (you will want to understand and use) is to go step by step and understand how the complex nested data is structured.\n",
    "\n",
    "\n",
    "Let's see some examples to get more idea about these nested data structures -"
   ]
  },
  {
   "cell_type": "markdown",
   "id": "a1384a96",
   "metadata": {},
   "source": [
    "### LIst of lists"
   ]
  },
  {
   "cell_type": "code",
   "execution_count": null,
   "id": "f980b351",
   "metadata": {},
   "outputs": [],
   "source": [
    "# a fairly simple nested data structure\n",
    "# list of lists\n",
    "\n",
    "# Each child list represents cities in a particular state\n",
    "\n",
    "list_of_lists = [\n",
    "    [\"Atlanta\",\"Savannah\",\"Macon\",\"Columbus\",\"Augusta\"],   # Georgia\n",
    "    [\"New York\",\"Albany\",\"Buffalo\",\"Rochester\",\"Syracuse\"],  #New York\n",
    "    [\"Orlando\",\"Miami\",\"Jacksonville\",\"Tallahassee\",\"Tampa\"],    # Florida\n",
    "    [\"Philadelphia\",\"Pittsburgh\",\"Harrisburg\",\"Scranton\",\"Allentown\"]  # Pennsylvania\n",
    "]"
   ]
  },
  {
   "cell_type": "markdown",
   "id": "b7c1d792",
   "metadata": {},
   "source": [
    "#### The site PythonTutor is fantastic for visualizing these data structures.\n",
    "\n",
    "Let's take our list_of_lists over there and see what it looks like.\n",
    "\n",
    "https://pythontutor.com/python-debugger.html#mode=edit"
   ]
  },
  {
   "cell_type": "markdown",
   "id": "fb115f4f",
   "metadata": {},
   "source": [
    "#### Now let's look at how to address this with code. At each step below, we will go back to Python Tutor to cross-reference the data structure's visual representation with the syntax of how we are addressing each element."
   ]
  },
  {
   "cell_type": "code",
   "execution_count": null,
   "id": "0c70498b",
   "metadata": {},
   "outputs": [],
   "source": [
    "type(list_of_lists)"
   ]
  },
  {
   "cell_type": "markdown",
   "id": "159d9b45",
   "metadata": {},
   "source": [
    "#### Recall that for lists, we are addressing each element using the index position of each list element."
   ]
  },
  {
   "cell_type": "code",
   "execution_count": null,
   "id": "fa02c536",
   "metadata": {},
   "outputs": [],
   "source": [
    "display(list_of_lists[0])\n",
    "display(type(list_of_lists[0]))"
   ]
  },
  {
   "cell_type": "markdown",
   "id": "094c1e1b",
   "metadata": {
    "id": "ca6afedd"
   },
   "source": [
    "#### So what about the first element in this child list?\n",
    "\n",
    "We do this by adding the index of the child list as the next reference syntax to its parent."
   ]
  },
  {
   "cell_type": "code",
   "execution_count": null,
   "id": "fbcb8c7d",
   "metadata": {},
   "outputs": [],
   "source": [
    "display(list_of_lists[0][0])\n",
    "display(type(list_of_lists[0][0]))"
   ]
  },
  {
   "cell_type": "markdown",
   "id": "e4395a9e",
   "metadata": {},
   "source": [
    "#### How about the 4th city in the list of Florida cities?"
   ]
  },
  {
   "cell_type": "code",
   "execution_count": null,
   "id": "1b0f2345",
   "metadata": {},
   "outputs": [],
   "source": [
    "list_of_lists[2][3]"
   ]
  },
  {
   "cell_type": "markdown",
   "id": "3d00ed48",
   "metadata": {},
   "source": [
    "#### How would we loop over all of the cities in the entire list of lists?\n",
    "\n",
    "We will use a pair of nested `for` loops."
   ]
  },
  {
   "cell_type": "code",
   "execution_count": null,
   "id": "be9d8cbd",
   "metadata": {},
   "outputs": [],
   "source": [
    "# execute and walk through how the two loops operate\n",
    "# the outer loop goes goes to each of the child lists\n",
    "# the inner loop goes to each element/city of each child list\n",
    "\n",
    "for state in list_of_lists:    # loop over each item in the parent list\n",
    "    for city in state:         # Loop over each item in each child list\n",
    "        print(city)\n",
    "    print('\\n')                # leave a space between each group of cities"
   ]
  },
  {
   "cell_type": "markdown",
   "id": "7e871e7a",
   "metadata": {},
   "source": [
    "#### Questions on list of lists?"
   ]
  },
  {
   "cell_type": "markdown",
   "id": "e5ab70ce",
   "metadata": {},
   "source": [
    "### LIst of tuples"
   ]
  },
  {
   "cell_type": "code",
   "execution_count": null,
   "id": "f7e58c60",
   "metadata": {},
   "outputs": [],
   "source": [
    "# a fairly simple nested data structure\n",
    "# list of tuples\n",
    "\n",
    "# Each child tuple represents cities in a particular state\n",
    "\n",
    "list_of_tuples = [\n",
    "    (\"Atlanta\",\"Savannah\",\"Macon\",\"Columbus\",\"Augusta\"),   # Georgia\n",
    "    (\"New York\",\"Albany\",\"Buffalo\",\"Rochester\",\"Syracuse\"),  #New York\n",
    "    (\"Orlando\",\"Miami\",\"Jacksonville\",\"Tallahassee\",\"Tampa\"),    # Florida\n",
    "    (\"Philadelphia\",\"Pittsburgh\",\"Harrisburg\",\"Scranton\",\"Allentown\")  # Pennsylvania\n",
    "]"
   ]
  },
  {
   "cell_type": "code",
   "execution_count": null,
   "id": "ad92dbfa",
   "metadata": {},
   "outputs": [],
   "source": [
    "# what is the parent data type?\n",
    "\n",
    "type(list_of_tuples)"
   ]
  },
  {
   "cell_type": "code",
   "execution_count": null,
   "id": "b59ee3df",
   "metadata": {},
   "outputs": [],
   "source": [
    "# what about the first child element?\n",
    "\n",
    "display(list_of_tuples[0])\n",
    "display(type(list_of_tuples[0]))"
   ]
  },
  {
   "cell_type": "markdown",
   "id": "8162fd91",
   "metadata": {},
   "source": [
    "#### Recall that for tuples, we are addressing each element using the index position of each tuple element."
   ]
  },
  {
   "cell_type": "code",
   "execution_count": null,
   "id": "1f418deb",
   "metadata": {},
   "outputs": [],
   "source": [
    "# What about the first element of the first child tuple?\n",
    "\n",
    "display(list_of_lists[0][0])\n",
    "display(type(list_of_lists[0][0]))"
   ]
  },
  {
   "cell_type": "markdown",
   "id": "64fecd7c",
   "metadata": {},
   "source": [
    "#### How would we loop over all of the cities in the entire list of tuples?\n",
    "\n",
    "We will use a pair of nested `for` loops."
   ]
  },
  {
   "cell_type": "code",
   "execution_count": null,
   "id": "e369b503",
   "metadata": {},
   "outputs": [],
   "source": [
    "# execute and walk through how the two loops operate\n",
    "# the outer loop goes goes to each of the child lists\n",
    "# the inner loop goes to each element/city of each child list\n",
    "\n",
    "for state in list_of_tuples:    # loop over each item in the parent list\n",
    "    for city in state:         # Loop over each item in each child list\n",
    "        print(city)\n",
    "    print('\\n')                # leave a space between each group of cities"
   ]
  },
  {
   "cell_type": "markdown",
   "id": "d7964c33",
   "metadata": {},
   "source": [
    "### What is the pattern that you can see from these two examples?\n",
    "\n",
    "1.  You will address each level in the nested data structure by how its data type is referenced.\n",
    "\n",
    "2.  The parent data structure is addressed in square brackets immediately after the variable name.\n",
    "\n",
    "3.  For each subsequent child data structure, add a pair of square brackets and address each element according to its data type.\n",
    "\n",
    "4.  So your first task is to identify the data type of each level. Python Tutor is very good for this."
   ]
  },
  {
   "cell_type": "markdown",
   "id": "c08d5770",
   "metadata": {},
   "source": [
    "### Now let's look at a more complex example.\n",
    "\n",
    "### A list of dictionaries with tuples as the values of the key-value pair."
   ]
  },
  {
   "cell_type": "code",
   "execution_count": null,
   "id": "722e14c9",
   "metadata": {},
   "outputs": [],
   "source": [
    "list_of_dicts = [\n",
    "    \n",
    "    {\"Georgia\":(\"Atlanta\",\"Savannah\",\"Macon\",\"Columbus\",\"Augusta\")},   # Georgia\n",
    "    {\"New York\":(\"New York\",\"Albany\",\"Buffalo\",\"Rochester\",\"Syracuse\")},  #New York\n",
    "    {\"Florida\":(\"Orlando\",\"Miami\",\"Jacksonville\",\"Tallahassee\",\"Tampa\")},    # Florida\n",
    "    {\"Pennsylvania\":(\"Philadelphia\",\"Pittsburgh\",\"Harrisburg\",\"Scranton\",\"Allentown\")}  # Pennsylvania\n",
    "\n",
    "]"
   ]
  },
  {
   "cell_type": "markdown",
   "id": "16acb3ad",
   "metadata": {
    "id": "16acb3ad"
   },
   "source": [
    "#### What does it look like in Python Tutor?\n",
    "\n",
    "https://pythontutor.com/python-debugger.html#mode=edit\n",
    "\n",
    "*****************************************************\n",
    "\n",
    "#### Now let's look at how to address this with code. "
   ]
  },
  {
   "cell_type": "code",
   "execution_count": null,
   "id": "54e154c7",
   "metadata": {
    "id": "54e154c7"
   },
   "outputs": [],
   "source": [
    "# What is the parent data type?\n",
    "\n",
    "type(list_of_dicts)"
   ]
  },
  {
   "cell_type": "code",
   "execution_count": null,
   "id": "2500b029",
   "metadata": {},
   "outputs": [],
   "source": [
    "# what about the first child element?\n",
    "\n",
    "display(list_of_dicts[0])\n",
    "display(type(list_of_dicts[0]))"
   ]
  },
  {
   "cell_type": "code",
   "execution_count": null,
   "id": "eb529e35",
   "metadata": {},
   "outputs": [],
   "source": [
    "# What about the first element of the first child dictionary?\n",
    "# Uncomment to run the code\n",
    "# This throws an error.\n",
    "# Why?\n",
    "\n",
    "# display(list_of_dicts[0][0])\n",
    "# display(type(list_of_dicts[0][0]))"
   ]
  },
  {
   "cell_type": "code",
   "execution_count": null,
   "id": "72a92240",
   "metadata": {},
   "outputs": [],
   "source": [
    "# What about the first element of the first child dictionary?\n",
    "\n",
    "display(list_of_dicts[0][\"Georgia\"])\n",
    "display(type(list_of_dicts[0][\"Georgia\"]))"
   ]
  },
  {
   "cell_type": "code",
   "execution_count": null,
   "id": "1ba9f2a2",
   "metadata": {},
   "outputs": [],
   "source": [
    "# What about the first city in the Georgia dictionary?\n",
    "\n",
    "display(list_of_dicts[0][\"Georgia\"][0])\n",
    "display(type(list_of_dicts[0][\"Georgia\"][0]))"
   ]
  },
  {
   "cell_type": "markdown",
   "id": "134a848b",
   "metadata": {},
   "source": [
    "#### How would we loop over all of the cities in the entire list of dictionaries with tuples for values?\n",
    "\n",
    "We will use three nested `for` loops."
   ]
  },
  {
   "cell_type": "code",
   "execution_count": null,
   "id": "5005a24b",
   "metadata": {},
   "outputs": [],
   "source": [
    "# uncomment each loop individually, to see how each works\n",
    "# execute and walk through how the three loops operate\n",
    "# the outer loop goes goes to each of the child lists\n",
    "# the inner loop goes to each element/city of each child list\n",
    "\n",
    "for state in list_of_dicts: # loop over each item in the parent list\n",
    "    print(state)     # this is the actual state-level dictionary\n",
    "\n",
    "#*********************************************\n",
    "# Either one of these two for loops will work\n",
    "# One uses .items() to give the key-value pair and then loops over the values\n",
    "# The other gets the the values directly, using .values()\n",
    "#\n",
    "#     for key, value in state.items():         # Loop over each key-value pair in the dictionary\n",
    "#         print(\"key: \", key)\n",
    "#         print(\"value: \", value)\n",
    "        \n",
    "#     for city in state.values():\n",
    "#         print(city)\n",
    "\n",
    "#**********************************************\n",
    "\n",
    "#         for city in value:    # loop over the elements of the tuple, which are the value of the key-value pair\n",
    "#             print(city)\n",
    "                        \n",
    "    print('\\n')                # leave a space between each group of cities"
   ]
  },
  {
   "cell_type": "markdown",
   "id": "ba0af029",
   "metadata": {},
   "source": [
    "### Useful link to understand nested data structures more deeply - https://web.stanford.edu/class/archive/cs/cs106ap/cs106ap.1198/lectures/15-NestedCollections/15-Nested_Data_Structures.pdf"
   ]
  },
  {
   "cell_type": "markdown",
   "id": "02271d12",
   "metadata": {},
   "source": [
    "## What are your questions on this introduction to nested data structures?"
   ]
  },
  {
   "cell_type": "markdown",
   "id": "a66c825f",
   "metadata": {},
   "source": [
    "### The next notebook is going to present a complex nested data structure and some practical questions to answer about it.\n",
    "\n",
    "### The notebook represents a complexity similar to how you will be asked to manipulate nested data structures on the exam."
   ]
  },
  {
   "cell_type": "code",
   "execution_count": null,
   "id": "ae9ded99",
   "metadata": {},
   "outputs": [],
   "source": []
  }
 ],
 "metadata": {
  "colab": {
   "include_colab_link": true,
   "provenance": []
  },
  "kernelspec": {
   "display_name": "Python 3 (ipykernel)",
   "language": "python",
   "name": "python3"
  },
  "language_info": {
   "codemirror_mode": {
    "name": "ipython",
    "version": 3
   },
   "file_extension": ".py",
   "mimetype": "text/x-python",
   "name": "python",
   "nbconvert_exporter": "python",
   "pygments_lexer": "ipython3",
   "version": "3.9.13"
  }
 },
 "nbformat": 4,
 "nbformat_minor": 5
}
