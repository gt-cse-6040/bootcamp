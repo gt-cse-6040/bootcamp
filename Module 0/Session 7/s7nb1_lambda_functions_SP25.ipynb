{
  "cells": [
    {
      "cell_type": "markdown",
      "metadata": {
        "id": "view-in-github",
        "colab_type": "text"
      },
      "source": [
        "<a href=\"https://colab.research.google.com/github/gt-cse-6040/bootcamp/blob/main/Module%200/Session%207/s7nb1_lambda_functions_SP25.ipynb\" target=\"_parent\"><img src=\"https://colab.research.google.com/assets/colab-badge.svg\" alt=\"Open In Colab\"/></a>"
      ]
    },
    {
      "cell_type": "markdown",
      "metadata": {
        "id": "Kv3f85gTPc0E"
      },
      "source": [
        "# Lambda functions (or, anonymous functions)"
      ]
    },
    {
      "cell_type": "markdown",
      "metadata": {
        "id": "18foSOmXPc0M"
      },
      "source": [
        "## Introduction"
      ]
    },
    {
      "cell_type": "markdown",
      "metadata": {
        "id": "wJhC9UxPPc0N"
      },
      "source": [
        "By now, you should appreciate how important functions are for structuring your code. Frequent use of functions helps with all of the following:\n",
        "\n",
        "- You repeat yourself less often\n",
        "- Your code is more modular\n",
        "- Your code has fewer unintended side-effects\n",
        "\n",
        "However, sometimes we just want to use a function to quickly transform some inputs into new outputs. The function has very little importance in terms of the *structure* of the program. We'd just like to use it to quickly calculate something.\n",
        "\n",
        "So, if you find yourself thinking, \"do I really have to write out a full function definition here?\" you might be able to use an anonymous function."
      ]
    },
    {
      "cell_type": "markdown",
      "metadata": {
        "id": "NQ-gqNVv1bVv"
      },
      "source": [
        "**lambda functions** are a way of writing functions consisting of a single statement, the result of which is the return value.\n",
        "\n",
        "They are defined with the `lambda` keyword, which has no meaning other than “we are declaring an anonymous function”."
      ]
    },
    {
      "cell_type": "markdown",
      "metadata": {
        "id": "lF7vhFeTPc0P"
      },
      "source": [
        "## An Example"
      ]
    },
    {
      "cell_type": "markdown",
      "metadata": {
        "id": "-Rzo_5MIPc0P"
      },
      "source": [
        "The [lambda syntax](https://docs.python.org/3/reference/expressions.html#lambda) is interpreted as follows:\n",
        "\n",
        "- Take the variables passed and bind them to the names *before* the semicolon. Commonly referred to as `arguments`.\n",
        "- Return the result of the expression *after* the semicolon\n",
        "\n",
        "\n",
        "\n",
        "We create \"anonymous functions\" by using the `lambda` keyword, which has no meaning other than “we are declaring an anonymous function.”\n",
        "\n",
        "Let's walk through a simple example."
      ]
    },
    {
      "cell_type": "markdown",
      "metadata": {
        "id": "Gw0GD-n21bVw"
      },
      "source": [
        "#### `lambda x: x*2`\n",
        "\n",
        "In this equation, the expression is composed of:\n",
        "\n",
        "The `keyword`: lambda\n",
        "\n",
        "The `bound variable` (or `argument`): x      \n",
        "\n",
        "The `function body`: x*2\n",
        "\n",
        "So what we are doing here is saying:  Take the variable `x`, apply the function `x*2` to it, and return the result."
      ]
    },
    {
      "cell_type": "code",
      "execution_count": null,
      "metadata": {
        "id": "axPkxQRHPc0R"
      },
      "outputs": [],
      "source": [
        "# How would we even define this function without giving it\n",
        "# a name? (we cannot do this without using lambda expressions)\n",
        "def multiply_function(x):\n",
        "   return x * 2\n",
        "\n",
        "print(multiply_function(2))"
      ]
    },
    {
      "cell_type": "code",
      "execution_count": null,
      "metadata": {
        "id": "ipJmY3VF1bVx"
      },
      "outputs": [],
      "source": [
        "# Here, we define the function, and then assign it to the\n",
        "# variable name `equivalent_lambda`\n",
        "equivalent_lambda = lambda x: x * 2\n",
        "\n",
        "print(equivalent_lambda(2))"
      ]
    },
    {
      "cell_type": "markdown",
      "metadata": {
        "id": "XCEJhGgrPc0T"
      },
      "source": [
        "If we print the functions themselves, you'll see that our \"lambda\" function has no name associated with it. This is why we call them \"anonymous functions.\""
      ]
    },
    {
      "cell_type": "code",
      "execution_count": null,
      "metadata": {
        "id": "UkmzAt58Pc0U"
      },
      "outputs": [],
      "source": [
        "print(\"Our function is named:\")\n",
        "print(multiply_function)\n",
        "print(\"Our lambda function is named... <lambda>?\")\n",
        "print(equivalent_lambda)"
      ]
    },
    {
      "cell_type": "markdown",
      "metadata": {
        "id": "aU-GRd731bVx"
      },
      "source": [
        "#### Note the difference in syntax between the last two code cells.\n",
        "\n",
        "When we simply call `print(equivalent_lambda)`, it gives us the location in memory of where the function is stored.\n",
        "\n",
        "When we pass a parameter to the lambda function, `print(equivalent_lambda(2))`, it executes the function."
      ]
    },
    {
      "cell_type": "markdown",
      "metadata": {
        "id": "uUqoOTS21bVy"
      },
      "source": [
        "#### lambda functions can take more than one argument to pass into the function.\n",
        "\n",
        "For example, consider this lambda function:  `lambda x, y: x + y`"
      ]
    },
    {
      "cell_type": "code",
      "execution_count": null,
      "metadata": {
        "id": "u9zR53j-1bVy"
      },
      "outputs": [],
      "source": [
        "x=4\n",
        "y=5\n",
        "\n",
        "result = lambda x, y: x + y\n",
        "print(result(x,y))"
      ]
    },
    {
      "cell_type": "markdown",
      "metadata": {
        "id": "LoI8W-8o1bVy"
      },
      "source": [
        "Would we really want to do this, create a lambda function for something so simple?\n",
        "\n",
        "Probably not, but we use the simple example just to show that lambda functions can contain (and take) multiple arguments."
      ]
    },
    {
      "cell_type": "markdown",
      "metadata": {
        "id": "AQFoCeBVPc0W"
      },
      "source": [
        "## Use Cases"
      ]
    },
    {
      "cell_type": "markdown",
      "metadata": {
        "id": "9nm76jiHPc0X"
      },
      "source": [
        "lambda functions are very good when being used as arguments for other, built-in, Python functions.\n",
        "\n",
        "Some examples of built-in functions where this is useful include:\n",
        "\n",
        "- `upper()` and `lower()` string functions\n",
        "- `min()` and `max()`\n",
        "- some `comparison` operations\n",
        "- `sorted()` -- We will use this functionality **A LOT** in this class, and the next notebook will work through some examples. And to be fair this will be single the USE CASE in which most students will use a lambda function."
      ]
    },
    {
      "cell_type": "code",
      "execution_count": null,
      "metadata": {
        "id": "STVIuW_H1bVy"
      },
      "outputs": [],
      "source": [
        "str1 = 'Professor Vuduc'\n",
        "\n",
        "upper = lambda string: string.upper()\n",
        "\n",
        "print(upper(str1))"
      ]
    },
    {
      "cell_type": "code",
      "execution_count": null,
      "metadata": {
        "id": "S9HERoOK1bVy"
      },
      "outputs": [],
      "source": [
        "compare_list = [1,2,3,4,5,6,7,8]\n",
        "\n",
        "min_value = lambda val : min(val)\n",
        "\n",
        "print(min_value(compare_list))"
      ]
    },
    {
      "cell_type": "code",
      "execution_count": null,
      "metadata": {
        "id": "oj5-1urD1bVy"
      },
      "outputs": [],
      "source": [
        "a=9\n",
        "b=7\n",
        "\n",
        "Max = lambda a, b : a if(a > b) else b\n",
        "\n",
        "print(Max(a,b))"
      ]
    },
    {
      "cell_type": "markdown",
      "metadata": {
        "id": "M3_Hi2k_Pc0Z"
      },
      "source": [
        "And to be fair, all of the above are trivial examples, that you probably would not use is a real program.\n",
        "\n",
        "We are showing them simply to provide some examples of how lambda functions operate.\n",
        "\n",
        "**`Sorting`** is the use case where students will get the most out of lambda functions.\n",
        "\n",
        "- We will be showing entire notebook dedicated to sorting sequences in Python, later in this session."
      ]
    },
    {
      "cell_type": "markdown",
      "metadata": {
        "id": "uKoTWXvxPc0Z"
      },
      "source": [
        "## Limitations"
      ]
    },
    {
      "cell_type": "markdown",
      "metadata": {
        "id": "ji5iM2fKPc0Z"
      },
      "source": [
        "You cannot do either of the following inside of a lambda function:\n",
        "\n",
        "- Leave annotations\n",
        "- Variable assignment\n",
        "\n",
        "If you have a sufficiently complicated function, it may be worth writing it out in the more traditional way."
      ]
    },
    {
      "cell_type": "markdown",
      "metadata": {
        "id": "dPy8LN_tPc0a"
      },
      "source": [
        "## Summary and References"
      ]
    },
    {
      "cell_type": "markdown",
      "metadata": {
        "id": "7lcNr1wmPc0a"
      },
      "source": [
        "Lambda functions make it easy to:\n",
        "\n",
        "- Quickly create functions which aren't important for your program's structure\n",
        "- Make your code easier to read (use fewer lines for unimportant work)\n",
        "\n",
        "The following resources may be useful if you have additional questions.\n",
        "\n",
        "- https://realpython.com/python-lambda/\n",
        "- https://www.w3schools.com/python/python_lambda.asp\n",
        "\n",
        "This final link is very good for different use case examples:\n",
        "\n",
        "- https://www.geeksforgeeks.org/python-lambda-anonymous-functions-filter-map-reduce/"
      ]
    },
    {
      "cell_type": "code",
      "execution_count": null,
      "metadata": {
        "id": "XiTmAbQP1bVz"
      },
      "outputs": [],
      "source": []
    }
  ],
  "metadata": {
    "colab": {
      "provenance": [],
      "include_colab_link": true
    },
    "kernelspec": {
      "display_name": "Python 3 (ipykernel)",
      "language": "python",
      "name": "python3"
    },
    "language_info": {
      "codemirror_mode": {
        "name": "ipython",
        "version": 3
      },
      "file_extension": ".py",
      "mimetype": "text/x-python",
      "name": "python",
      "nbconvert_exporter": "python",
      "pygments_lexer": "ipython3",
      "version": "3.9.13"
    }
  },
  "nbformat": 4,
  "nbformat_minor": 0
}