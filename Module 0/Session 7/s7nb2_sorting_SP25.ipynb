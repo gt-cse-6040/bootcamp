{
 "cells": [
  {
   "cell_type": "markdown",
   "metadata": {
    "id": "hynQdyc-OnwA"
   },
   "source": [
    "# Sorting"
   ]
  },
  {
   "cell_type": "markdown",
   "metadata": {
    "id": "_HGIF5WhOnwH"
   },
   "source": [
    "## Introduction\n",
    "\n",
    "### Tap tap tap.................  You can be guaranteed that you will be required to do sorting on all of the exams in the course."
   ]
  },
  {
   "cell_type": "markdown",
   "metadata": {
    "id": "NLfq3nj8OnwI"
   },
   "source": [
    "It's common for programmer to want to sort groups of data. For example, we might want to sort a list of employees by their start date. Python provides a built in function for doing this sort of work: `sorted()` (see the [documentation](https://docs.python.org/3/library/functions.html#sorted) for more details).\n",
    "\n",
    "- Python has an entire tutorial dedicated to [Sorting](https://docs.python.org/3/howto/sorting.html).\n",
    "  - Many of the examples, and even some of the text in this notebook, are taken directly from this tutorial."
   ]
  },
  {
   "cell_type": "markdown",
   "metadata": {
    "id": "63C6bvDuOnwJ"
   },
   "source": [
    "## Simple Sorting"
   ]
  },
  {
   "cell_type": "markdown",
   "metadata": {
    "id": "0OnCalhTOnwK"
   },
   "source": [
    "A simple ascending sort is very easy: just call the `sorted()` function. It returns a new sorted list:"
   ]
  },
  {
   "cell_type": "code",
   "execution_count": null,
   "metadata": {
    "id": "VdNQQ84NOnwK",
    "outputId": "4284775a-020e-4ad2-daa4-87c74752ab9e"
   },
   "outputs": [],
   "source": [
    "my_tuple = (5, 2, 3, 1, 4)\n",
    "sorted(my_tuple)"
   ]
  },
  {
   "cell_type": "markdown",
   "metadata": {
    "id": "cl8lLH1DOnwL"
   },
   "source": [
    "- You can pass any iterable to `sorted()`.\n",
    "- Notice that `sorted()` returns a `list`.\n",
    "  - If you need a different type, you'll need to cast it to the new type.\n",
    "\n",
    "If we want, we can use the `reverse` keyword to return the items in reverse order:"
   ]
  },
  {
   "cell_type": "code",
   "execution_count": null,
   "metadata": {
    "id": "JsRqwgjcOnwM",
    "outputId": "c0e223b5-1a05-4ec7-94df-1cec58664b10"
   },
   "outputs": [],
   "source": [
    "my_tuple = (5, 2, 3, 1, 4)\n",
    "sorted(my_tuple, reverse=True)"
   ]
  },
  {
   "cell_type": "markdown",
   "metadata": {
    "id": "TI7fSjilOnwM"
   },
   "source": [
    "## Key Functions"
   ]
  },
  {
   "cell_type": "markdown",
   "metadata": {
    "id": "CT-8NarxOnwM"
   },
   "source": [
    "By default, Python will simply use the `<` operator to compare values. So, when determining order of integers, `sorted()` will evaluate the expression `a < b` for various values and use the results to order the items.\n",
    "\n",
    "However, we can call a function on each item *before* this comparison is made. This gives us a lot of power to arbitrarily order our iterables. \n",
    "\n",
    "**For example, we can sort a list of tuples by checking the 3rd element in the list.**"
   ]
  },
  {
   "cell_type": "code",
   "execution_count": null,
   "metadata": {
    "id": "kWRFJLFeOnwN",
    "outputId": "1d245fce-b22d-453f-f69a-8b3adb7c46d1"
   },
   "outputs": [],
   "source": [
    "# Define the list of tuples\n",
    "# each tuple has name, grade, credits earned\n",
    "student_tuples = [\n",
    "    ('john', 'A', 15),\n",
    "    ('jane', 'B', 12),\n",
    "    ('dave', 'B', 10),\n",
    "]\n",
    "\n",
    "# Method 1: Create the function traditionally --------------------------\n",
    "def sorting_func(tup):\n",
    "    return tup[2]\n",
    "\n",
    "# Return the sorted tuples\n",
    "sorted(student_tuples, key=sorting_func)"
   ]
  },
  {
   "cell_type": "markdown",
   "metadata": {},
   "source": [
    "### Tap tap tap, you want to know this one very well!!"
   ]
  },
  {
   "cell_type": "code",
   "execution_count": null,
   "metadata": {},
   "outputs": [],
   "source": [
    "# Method 2: Use a lambda function --------------------------------------\n",
    "\n",
    "# sort in ascending order\n",
    "print(sorted(student_tuples, key=lambda tup: tup[2]))\n",
    "\n",
    "# sort in descending order\n",
    "print(sorted(student_tuples, key=lambda tup: -tup[2]))"
   ]
  },
  {
   "cell_type": "code",
   "execution_count": null,
   "metadata": {},
   "outputs": [],
   "source": [
    "# sort by name, in descending order\n",
    "\n",
    "# this one throws an error. Why?\n",
    "# sorted(student_tuples, key=lambda tup: -tup[0])\n",
    "\n",
    "# this one is correct\n",
    "# sorted(student_tuples, key=lambda tup: tup[0], reverse=True)"
   ]
  },
  {
   "cell_type": "markdown",
   "metadata": {},
   "source": [
    "#### If you are asked sort strings in descending order, you must use the `reverse=True` parameter."
   ]
  },
  {
   "cell_type": "markdown",
   "metadata": {},
   "source": [
    "### What if we want to sort by a specific index, and break any ties using a different index?\n",
    "\n",
    "### Tap tap tap........................\n",
    "\n",
    "#### For example, sort the `student_tuples` list first by grade ascending and break any ties by credits earned in descending order."
   ]
  },
  {
   "cell_type": "code",
   "execution_count": null,
   "metadata": {},
   "outputs": [],
   "source": [
    "sorted(student_tuples, key=lambda tup: (tup[1], -tup[2]))"
   ]
  },
  {
   "cell_type": "markdown",
   "metadata": {},
   "source": [
    "**As above Note that the `-` syntax only works for numeric (integer and float) variables.**\n",
    "\n",
    "If we were to try to do a descending sort with `-` using one of the string variables, it would throw an error."
   ]
  },
  {
   "cell_type": "code",
   "execution_count": null,
   "metadata": {},
   "outputs": [],
   "source": [
    "# uncomment to see the error\n",
    "# sorted(student_tuples, key=lambda tup: (tup[1], -tup[0]))"
   ]
  },
  {
   "cell_type": "code",
   "execution_count": null,
   "metadata": {},
   "outputs": [],
   "source": [
    "# you have to use the \"reverse\" keyword, but it applies to all the sorting\n",
    "# sorted(student_tuples, key=lambda tup: (tup[1], tup[0]), reverse=True)"
   ]
  },
  {
   "cell_type": "markdown",
   "metadata": {},
   "source": [
    "### On an exam, you will not be asked to sort by multiple elements, in which the element in descending order is not a numeric variable."
   ]
  },
  {
   "cell_type": "markdown",
   "metadata": {
    "id": "f7Cn6K9LOnwN"
   },
   "source": [
    "## A more complex example, using `sorted()`\n",
    "\n",
    "### Recall this complex data structure, from the nested data notebook."
   ]
  },
  {
   "cell_type": "code",
   "execution_count": null,
   "metadata": {},
   "outputs": [],
   "source": [
    "my_family = [\n",
    "  { \"family_name\": \"Tunnicliffe\",\n",
    "    \"num_people\": 4,\n",
    "    \"local\": True,\n",
    "    \"city\": \"Bethpage, NY\",\n",
    "    \"date_established\": 2014,\n",
    "    \"names\": [\"Diane\", \"Steve\", \"Dylan\", \"Landon\"],\n",
    "    \"number_of_children\": 2,\n",
    "    \"children\": [\n",
    "      {\n",
    "        \"name\": \"Dylan\",\n",
    "        \"age\": 5,\n",
    "        \"favorite_color\": \"black\",\n",
    "        \"nickname\": \"Dillybeans\",\n",
    "        \"loves\": \"Super Mario\",\n",
    "      },\n",
    "      {\n",
    "        \"name\": \"Landon\",\n",
    "        \"age\": 2,\n",
    "        \"favorite_color\": \"blue\",\n",
    "        \"nickname\": \"Landybean\",\n",
    "        \"loves\": \"trucks\",\n",
    "      }\n",
    "    ]\n",
    "  },\n",
    "  { \"family_name\": \"Agulnick\",\n",
    "    \"num_people\": 5,\n",
    "    \"local\": False,\n",
    "    \"city\": \"Newton, MA\",\n",
    "    \"date_established\": 1987,\n",
    "    \"names\": [\"Ellen\", \"Mark\", \"Diane\", \"Joshua\", \"Allison\"],\n",
    "    \"number_of_children\": 3,\n",
    "    \"children\": [\n",
    "      {\n",
    "        \"name\": \"Diane\",\n",
    "        \"age\": 31,\n",
    "        \"favorite_color\": \"pink\",\n",
    "        \"nickname\": \"Dini\",\n",
    "        \"loves\": \"unicorns\",\n",
    "      },\n",
    "      {\n",
    "        \"name\": \"Joshua\",\n",
    "        \"age\": 28,\n",
    "        \"favorite_color\": \"red\",\n",
    "        \"nickname\": \"Joshie\",\n",
    "        \"loves\": \"trains\",\n",
    "      },\n",
    "      {\n",
    "        \"name\": \"Allison\",\n",
    "        \"age\": 26,\n",
    "        \"favorite_color\": \"purple\",\n",
    "        \"nickname\": \"Alli\",\n",
    "        \"loves\": \"candy\",\n",
    "      }\n",
    "    ]\n",
    "  }\n",
    "]"
   ]
  },
  {
   "cell_type": "markdown",
   "metadata": {},
   "source": [
    "As before, we can go to Python Tutor to visualize the data.\n",
    "\n",
    "https://pythontutor.com/python-debugger.html#mode=edit"
   ]
  },
  {
   "cell_type": "markdown",
   "metadata": {},
   "source": [
    "### Find the Oldest and Youngest child\n",
    "\n",
    "#### This question uses sorting and a lambda function, in conjunction with other programming logic.\n",
    "\n",
    "#### The code here represents what might be required to solve a (simple or easy) 2-point question on an exam."
   ]
  },
  {
   "cell_type": "markdown",
   "metadata": {},
   "source": [
    "### Requirement:\n",
    "\n",
    "Return a tuple with two string elements.\n",
    "\n",
    "The first element is the name of the oldest child.\n",
    "\n",
    "The second element is the name of the youngest child."
   ]
  },
  {
   "cell_type": "code",
   "execution_count": null,
   "metadata": {},
   "outputs": [],
   "source": [
    "'''\n",
    "define the variables required, set to empty values\n",
    "    oldest child\n",
    "    youngest child\n",
    "    list of children\n",
    "    \n",
    "loop over the input list\n",
    "    for each child\n",
    "        append the child dictionary to the list\n",
    "        \n",
    "sort the list by child age, from oldest to youngest\n",
    "\n",
    "the first child in the list will be the oldest, so assign their name to the oldest child variable\n",
    "\n",
    "the last child in the list will be the youngest, so assign their name the youngest child varilable\n",
    "\n",
    "create and return the tuple\n",
    "\n",
    "'''"
   ]
  },
  {
   "cell_type": "code",
   "execution_count": null,
   "metadata": {},
   "outputs": [],
   "source": [
    "def oldest_youngest(my_family):\n",
    "    \n",
    "    #### YOUR CODE HERE\n",
    "#     oldest_child = None\n",
    "#     youngest_child = None\n",
    "#     children = []\n",
    "\n",
    "#     for unit in my_family:\n",
    "#         for child in unit['children']:\n",
    "#             children.append(child)\n",
    "            \n",
    "#     print(children)\n",
    "\n",
    "#     sorted_children = (sorted(children, key = lambda child: child['age'], reverse = True))\n",
    "\n",
    "#     oldest_child = sorted_children[0]['name']\n",
    "#     youngest_child = sorted_children[-1]['name']\n",
    "    \n",
    "#     return (oldest_child, youngest_child)\n",
    "\n",
    "    pass   # placeholder"
   ]
  },
  {
   "cell_type": "code",
   "execution_count": null,
   "metadata": {},
   "outputs": [],
   "source": [
    "# will return error until function above is written\n",
    "(oldest,youngest) = oldest_youngest(my_family)\n",
    "\n",
    "print(f\"The oldest child is {oldest}. The youngest child is {youngest}.\")"
   ]
  },
  {
   "cell_type": "markdown",
   "metadata": {
    "id": "9JhNxCZ-OnwN"
   },
   "source": [
    "## Final Thoughts: Sorting in Place"
   ]
  },
  {
   "cell_type": "markdown",
   "metadata": {
    "id": "hayAnW42OnwN"
   },
   "source": [
    "Using `sorted()` **does not change the original iterable.** It simply returns a new list.\n",
    "\n",
    "However, Python lists have a method, `list.sort()`, which **does** change the original list. This means you will be modifing your original data!\n",
    "\n",
    "- **Do not use this unless you know *for a fact* that you will not need the original list.**"
   ]
  },
  {
   "cell_type": "code",
   "execution_count": null,
   "metadata": {
    "id": "UddyabT-OnwN",
    "outputId": "e709232a-90ed-44a4-9a8c-728aaf2622ef"
   },
   "outputs": [],
   "source": [
    "first_list = [2, 7, 3, 9, 10, 1]\n",
    "second_list = first_list.copy()\n",
    "\n",
    "# Are these the *same* list, or are they different?\n",
    "print(\"First list ID:\", id(first_list))\n",
    "print(\"Second list ID:\", id(second_list))\n",
    "\n",
    "if id(first_list) == id(second_list):\n",
    "    print(\"Wait, these are the same list!\")\n",
    "else:\n",
    "    print(\"OK, modifying the first list won't impact the second list.\")"
   ]
  },
  {
   "cell_type": "code",
   "execution_count": null,
   "metadata": {},
   "outputs": [],
   "source": [
    "first_list_sorted = sorted(first_list)\n",
    "print(\"What does our sorted first_list look like?\", first_list_sorted)\n",
    "print(\"What does our original first_list look like?\", first_list)"
   ]
  },
  {
   "cell_type": "code",
   "execution_count": null,
   "metadata": {},
   "outputs": [],
   "source": [
    "second_list_output = second_list.sort()\n",
    "print(\"What does the return value of the .sort() method look like?\", second_list_output)\n",
    "print(\"What does our original second_list look like?\", second_list)"
   ]
  },
  {
   "cell_type": "markdown",
   "metadata": {
    "id": "CW8Hz23XOnwO"
   },
   "source": [
    "### Tap tap tap, this is important!!\n",
    "\n",
    "We can see from the output above that the `.sort()` method will change the original list. Keep this in mind if you need to sort something.\n",
    "\n",
    "For this reason, we generally recommend to use the `sorted()` function and assign the result to a **NEW VARIABLE**.\n",
    "\n",
    "**This is one of the scenarios that we typically see in exams, when the test case variables return a failure because the student has modified an input variable.**\n",
    "\n",
    "**The student has modified an input variable using `sort()`, when they should have created a new variable using `sorted()`.**"
   ]
  },
  {
   "cell_type": "markdown",
   "metadata": {},
   "source": [
    "## What are your questions on sorting?"
   ]
  },
  {
   "cell_type": "code",
   "execution_count": null,
   "metadata": {},
   "outputs": [],
   "source": []
  }
 ],
 "metadata": {
  "colab": {
   "include_colab_link": true,
   "provenance": []
  },
  "kernelspec": {
   "display_name": "Python 3 (ipykernel)",
   "language": "python",
   "name": "python3"
  },
  "language_info": {
   "codemirror_mode": {
    "name": "ipython",
    "version": 3
   },
   "file_extension": ".py",
   "mimetype": "text/x-python",
   "name": "python",
   "nbconvert_exporter": "python",
   "pygments_lexer": "ipython3",
   "version": "3.9.13"
  }
 },
 "nbformat": 4,
 "nbformat_minor": 1
}
