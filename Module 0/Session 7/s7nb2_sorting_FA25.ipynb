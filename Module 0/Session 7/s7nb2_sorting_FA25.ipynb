{
 "cells": [
  {
   "cell_type": "markdown",
   "metadata": {
    "id": "hynQdyc-OnwA"
   },
   "source": [
    "# Sorting"
   ]
  },
  {
   "cell_type": "markdown",
   "metadata": {
    "id": "_HGIF5WhOnwH"
   },
   "source": [
    "## Introduction\n",
    "\n",
    "### If you look at past exams, every one of them (bar the SP25 MT1 as an exception) has one or more sorting exercises on them. Just sayin............"
   ]
  },
  {
   "cell_type": "markdown",
   "metadata": {
    "id": "NLfq3nj8OnwI"
   },
   "source": [
    "It's common for programmer to want to sort groups of data. For example, we might want to sort a list of employees by their start date. Python provides a built in function for doing this sort of work: `sorted()` (see the [documentation](https://docs.python.org/3/library/functions.html#sorted) for more details).\n",
    "\n",
    "- Python has an entire tutorial dedicated to [Sorting](https://docs.python.org/3/howto/sorting.html).\n",
    "  - Many of the examples, and even some of the text in this notebook, are taken directly from this tutorial."
   ]
  },
  {
   "cell_type": "markdown",
   "metadata": {
    "id": "63C6bvDuOnwJ"
   },
   "source": [
    "## Simple Sorting"
   ]
  },
  {
   "cell_type": "markdown",
   "metadata": {
    "id": "0OnCalhTOnwK"
   },
   "source": [
    "A simple ascending sort is very easy: just call the `sorted()` function. It returns a new sorted list:"
   ]
  },
  {
   "cell_type": "code",
   "execution_count": null,
   "metadata": {
    "id": "VdNQQ84NOnwK"
   },
   "outputs": [],
   "source": [
    "my_tuple = (5, 2, 3, 1, 4)\n",
    "sorted(my_tuple)"
   ]
  },
  {
   "cell_type": "markdown",
   "metadata": {
    "id": "cl8lLH1DOnwL"
   },
   "source": [
    "- You can pass any iterable to `sorted()`.\n",
    "- Notice that `sorted()` returns a `list`.\n",
    "  - If you need a different type, you'll need to cast it to the new type.\n",
    "\n",
    "If we want, we can use the `reverse` keyword to return the items in reverse order:"
   ]
  },
  {
   "cell_type": "code",
   "execution_count": null,
   "metadata": {
    "id": "JsRqwgjcOnwM"
   },
   "outputs": [],
   "source": [
    "my_tuple = (5, 2, 3, 1, 4)\n",
    "sorted(my_tuple, reverse=True)"
   ]
  },
  {
   "cell_type": "markdown",
   "metadata": {
    "id": "TI7fSjilOnwM"
   },
   "source": [
    "## Key Functions"
   ]
  },
  {
   "cell_type": "markdown",
   "metadata": {
    "id": "CT-8NarxOnwM"
   },
   "source": [
    "By default, Python will simply use the `<` operator to compare values. So, when determining order of integers, `sorted()` will evaluate the expression `a < b` for various values and use the results to order the items.\n",
    "\n",
    "However, we can call a function on each item *before* this comparison is made. This gives us a lot of power to arbitrarily order our iterables.\n",
    "\n",
    "**For example, we can sort a list of tuples by checking the 3rd element in the list.**"
   ]
  },
  {
   "cell_type": "code",
   "execution_count": null,
   "metadata": {
    "id": "kWRFJLFeOnwN"
   },
   "outputs": [],
   "source": [
    "# Define the list of tuples\n",
    "# each tuple has name, grade, credits earned\n",
    "student_tuples = [\n",
    "    ('zzz', 'Z', 1),\n",
    "    ('Jeffrey', 'A', 15),\n",
    "    ('Alyssa', 'B', 12),\n",
    "    ('Padmaja', 'B', 10),\n",
    "]\n",
    "\n",
    "# Method 1: Create the function traditionally --------------------------\n",
    "def sorting_func(tup):\n",
    "    return tup[0]  #sort by name\n",
    "    # return tup[2]  #sort by credits earned\n",
    "\n",
    "# Return the sorted tuples\n",
    "sorted(student_tuples, key=sorting_func)"
   ]
  },
  {
   "cell_type": "markdown",
   "metadata": {
    "id": "JUHSGLKj1cBO"
   },
   "source": [
    "### This one below is a good one to know."
   ]
  },
  {
   "cell_type": "code",
   "execution_count": null,
   "metadata": {
    "id": "KpqnoLRp1cBP"
   },
   "outputs": [],
   "source": [
    "# Method 2: Use a lambda function --------------------------------------\n",
    "\n",
    "# sort in ascending order, for credits earned\n",
    "print(sorted(student_tuples, key=lambda tup: tup[2]))\n",
    "# sort in descending order, for credits earned\n",
    "print(sorted(student_tuples, key=lambda tup: -tup[2]))\n",
    "\n",
    "# sort in ascending order, by name\n",
    "print(sorted(student_tuples, key=lambda tup: tup[0]))\n",
    "# sort in descending order, by name\n",
    "print(sorted(student_tuples, key=lambda tup: tup[0],reverse=True))"
   ]
  },
  {
   "cell_type": "code",
   "execution_count": null,
   "metadata": {
    "id": "acLda7zt1cBP"
   },
   "outputs": [],
   "source": [
    "# sort by name, in descending order\n",
    "\n",
    "# this one throws an error. Why?\n",
    "# sorted(student_tuples, key=lambda tup: -tup[0])\n",
    "\n",
    "# this one is correct\n",
    "# sorted(student_tuples, key=lambda tup: tup[0], reverse=True)"
   ]
  },
  {
   "cell_type": "markdown",
   "metadata": {
    "id": "FoTyhQJZ1cBP"
   },
   "source": [
    "#### If you are asked sort strings in descending order, you must use the `reverse=True` parameter."
   ]
  },
  {
   "cell_type": "markdown",
   "metadata": {
    "id": "TQ8MErUz1cBP"
   },
   "source": [
    "### What if we want to sort by a specific index, and break any ties using a different index?\n",
    "\n",
    "### Again, something good to know how to do.\n",
    "\n",
    "#### For example, sort the `student_tuples` list first by grade ascending and break any ties by credits earned in descending order."
   ]
  },
  {
   "cell_type": "code",
   "execution_count": null,
   "metadata": {
    "id": "fXbLcJai1cBP"
   },
   "outputs": [],
   "source": [
    "sorted(student_tuples, key=lambda tup: (tup[1], -tup[2]))"
   ]
  },
  {
   "cell_type": "markdown",
   "metadata": {
    "id": "iGVioBMM1cBP"
   },
   "source": [
    "**As above Note that the `-` syntax only works for numeric (integer and float) variables.**\n",
    "\n",
    "If we were to try to do a descending sort with `-` using one of the string variables, it would throw an error."
   ]
  },
  {
   "cell_type": "code",
   "execution_count": null,
   "metadata": {
    "id": "kV5dz6r01cBP"
   },
   "outputs": [],
   "source": [
    "# uncomment to see the error\n",
    "# sorted(student_tuples, key=lambda tup: (tup[1], -tup[0]))"
   ]
  },
  {
   "cell_type": "markdown",
   "metadata": {},
   "source": [
    "### So let's say that you have a list of tuples, in which all of the elements are strings.\n",
    "\n",
    "#### Here is an example to sort alphabetically with the first tuple element, and then alphabetically descending with the second tuple element.\n",
    "\n",
    "Because we cannot sort a \"tie-breaker\" (secondary sort condition) that is a string, in descending order, we have to do this in **2 STEPS**.\n",
    "\n",
    "The steps are:\n",
    "\n",
    "1.  Sort the element in the secondary sort condition in your initial step, into a new variable.\n",
    "\n",
    "2.  Sort the new variable that you just created, using the primary sort condition, again into a new variable. "
   ]
  },
  {
   "cell_type": "code",
   "execution_count": null,
   "metadata": {},
   "outputs": [],
   "source": [
    "data = [('apple','apple'),('apple', 'orange'), ('banana', 'grape'),\n",
    "          ('apple', 'banana'), ('banana', 'apple'),('banana','banana')]\n",
    "display(data)"
   ]
  },
  {
   "cell_type": "code",
   "execution_count": null,
   "metadata": {},
   "outputs": [],
   "source": [
    "# Requirement:  Sort by the first string (ascending) and second string (descending)\n",
    "\n",
    "# First step, sort by the secondary condition (string descending)\n",
    "s=sorted(data,key=lambda x:x[1],reverse=True) #secondary sort condition\n",
    "\n",
    "# Second step, sort by the primary condition (string ascending)\n",
    "sorted_data=sorted(s,key=lambda x:x[0]) #primary sort condition\n",
    " \n",
    "print(sorted_data)"
   ]
  },
  {
   "cell_type": "markdown",
   "metadata": {},
   "source": [
    "## Now let's look at sorting a dictionary.\n",
    "\n",
    "### A common use case is to sort a dictionary by value descending, then key ascending if there is a tie in the values. \n",
    "\n",
    "### After the sort, you might be asked to return the top 5 most elements. \n",
    "\n",
    "### Let's look at how we might do this."
   ]
  },
  {
   "cell_type": "markdown",
   "metadata": {},
   "source": [
    "#### Assume a dictionary d counts the occurrences that each number gets called. \n",
    "\n",
    "*  Return a list of the 5 most prevalent values. If the counts are the same, sort by key ascending."
   ]
  },
  {
   "cell_type": "code",
   "execution_count": null,
   "metadata": {},
   "outputs": [],
   "source": [
    "d={}\n",
    "# don't worry about how the multiple loops work, just look at the output\n",
    "for size in range(1,10):\n",
    "  for i in range(0,20,size):\n",
    "    if i not in d.keys():\n",
    "      d[i]=0\n",
    "    d[i]+=1\n",
    "\n",
    "display(d)"
   ]
  },
  {
   "cell_type": "code",
   "execution_count": null,
   "metadata": {},
   "outputs": [],
   "source": [
    "# what does the items() function do?\n",
    "display(d.items())\n",
    "\n",
    "sorted(d.items(),key=lambda x:(-x[1],x[0]))[:5]"
   ]
  },
  {
   "cell_type": "markdown",
   "metadata": {
    "id": "f7Cn6K9LOnwN"
   },
   "source": [
    "## A more complex example, using `sorted()`\n",
    "\n",
    "### Recall this complex data structure, from the nested data notebook."
   ]
  },
  {
   "cell_type": "code",
   "execution_count": null,
   "metadata": {
    "id": "ePUnbB3J1cBP"
   },
   "outputs": [],
   "source": [
    "my_family = [\n",
    "  { \"family_name\": \"Tunnicliffe\",\n",
    "    \"num_people\": 4,\n",
    "    \"local\": True,\n",
    "    \"city\": \"Bethpage, NY\",\n",
    "    \"date_established\": 2014,\n",
    "    \"names\": [\"Diane\", \"Steve\", \"Dylan\", \"Landon\"],\n",
    "    \"number_of_children\": 2,\n",
    "    \"children\": [\n",
    "      {\n",
    "        \"name\": \"Dylan\",\n",
    "        \"age\": 2,\n",
    "        \"favorite_color\": \"black\",\n",
    "        \"nickname\": \"Dillybeans\",\n",
    "        \"loves\": \"Super Mario\",\n",
    "      },\n",
    "      {\n",
    "        \"name\": \"Landon\",\n",
    "        \"age\": 5,\n",
    "        \"favorite_color\": \"blue\",\n",
    "        \"nickname\": \"Landybean\",\n",
    "        \"loves\": \"trucks\",\n",
    "      }\n",
    "    ]\n",
    "  },\n",
    "  { \"family_name\": \"Agulnick\",\n",
    "    \"num_people\": 5,\n",
    "    \"local\": False,\n",
    "    \"city\": \"Newton, MA\",\n",
    "    \"date_established\": 1987,\n",
    "    \"names\": [\"Ellen\", \"Mark\", \"Diane\", \"Joshua\", \"Allison\"],\n",
    "    \"number_of_children\": 3,\n",
    "    \"children\": [\n",
    "      {\n",
    "        \"name\": \"Diane\",   # note that Diane and Joshua are the same age, so are twins\n",
    "        \"age\": 31,\n",
    "        \"favorite_color\": \"pink\",\n",
    "        \"nickname\": \"Dini\",\n",
    "        \"loves\": \"unicorns\",\n",
    "      },\n",
    "      {\n",
    "        \"name\": \"Joshua\",  # note that Diane and Joshua are the same age, so are twins\n",
    "        \"age\": 31,\n",
    "        \"favorite_color\": \"red\",\n",
    "        \"nickname\": \"Joshie\",\n",
    "        \"loves\": \"trains\",\n",
    "      },\n",
    "      {\n",
    "        \"name\": \"Allison\",\n",
    "        \"age\": 26,\n",
    "        \"favorite_color\": \"purple\",\n",
    "        \"nickname\": \"Alli\",\n",
    "        \"loves\": \"candy\",\n",
    "      }\n",
    "    ]\n",
    "  }\n",
    "]"
   ]
  },
  {
   "cell_type": "markdown",
   "metadata": {
    "id": "ZhPZYV6D1cBP"
   },
   "source": [
    "As before, we can go to Python Tutor to visualize the data.\n",
    "\n",
    "https://pythontutor.com/python-debugger.html#mode=edit"
   ]
  },
  {
   "cell_type": "markdown",
   "metadata": {
    "id": "0ySutxTL1cBQ"
   },
   "source": [
    "### Find the Oldest and Youngest child\n",
    "\n",
    "#### This question uses sorting and a lambda function, in conjunction with other programming logic.\n",
    "\n",
    "#### The code here represents what might be required to solve a 2-point question on an exam."
   ]
  },
  {
   "cell_type": "markdown",
   "metadata": {
    "id": "lFS9ps4e1cBQ"
   },
   "source": [
    "### Requirement:\n",
    "\n",
    "Return a tuple with two string elements.\n",
    "\n",
    "The first element is the name of the oldest child.\n",
    "\n",
    "The second element is the name of the youngest child.\n",
    "\n",
    "If there are two or more children with the same age, return the name of the child whose name is last alphabetically.\n",
    "\n",
    "Because of the risk of coding complexity, you can assume that the only possibility of an \"age tie\" is for the oldest children."
   ]
  },
  {
   "cell_type": "code",
   "execution_count": null,
   "metadata": {
    "id": "8Dit8_D_1cBQ"
   },
   "outputs": [],
   "source": [
    "def oldest_youngest(my_family):\n",
    "\n",
    "    #### YOUR CODE HERE\n",
    "    # oldest_child = None\n",
    "    # youngest_child = None\n",
    "    # children = []\n",
    "\n",
    "    # for unit in my_family:\n",
    "    #     for child in unit['children']:\n",
    "    #         children.append(child)\n",
    "\n",
    "    # # print(children)\n",
    "\n",
    "    # # because we cannot sort strings descending as the secondary sort, just sort in ascending/alphabetical order\n",
    "    # sorted_children = (sorted(children, key = lambda child: (child['age'],child['name'])))\n",
    "    # # what does this look like?\n",
    "    # # print(sorted_children)\n",
    "\n",
    "    # let's see what this looks like, a bit simpler\n",
    "    # rl=[(i['name'],i['age']) for i in sorted_children]\n",
    "    # display(rl)\n",
    "    \n",
    "    # # oldest child, with tie breaker, will be the last one in the list of dicts\n",
    "    # oldest_child = sorted_children[-1]['name']\n",
    "    \n",
    "    # # youngest child will be the first in the list of dicts\n",
    "    # youngest_child = sorted_children[0]['name']\n",
    "\n",
    "    # return (oldest_child, youngest_child)\n",
    "    \n",
    "    pass   # placeholder"
   ]
  },
  {
   "cell_type": "code",
   "execution_count": null,
   "metadata": {
    "id": "ykxFOAhY1cBQ"
   },
   "outputs": [],
   "source": [
    "# will return error until function above is written\n",
    "# so comment out for deployment and uncomment when teaching\n",
    "# (oldest,youngest) = oldest_youngest(my_family)\n",
    "\n",
    "# print(f\"The oldest child is {oldest}. The youngest child is {youngest}.\")"
   ]
  },
  {
   "cell_type": "markdown",
   "metadata": {
    "id": "9JhNxCZ-OnwN"
   },
   "source": [
    "## Final Thoughts: Sorting in Place"
   ]
  },
  {
   "cell_type": "markdown",
   "metadata": {
    "id": "hayAnW42OnwN"
   },
   "source": [
    "Using `sorted()` **does not change the original iterable.** It simply returns a new list.\n",
    "\n",
    "However, Python lists have a method, `list.sort()`, which **does** change the original list. This means you will be modifing your original data!\n",
    "\n",
    "- **Do not use this unless you know *for a fact* that you will not need the original list.**"
   ]
  },
  {
   "cell_type": "code",
   "execution_count": null,
   "metadata": {
    "id": "UddyabT-OnwN"
   },
   "outputs": [],
   "source": [
    "first_list = [2, 7, 3, 9, 10, 1]\n",
    "second_list = first_list.copy()\n",
    "\n",
    "# Are these the *same* list, or are they different?\n",
    "print(\"First list ID:\", id(first_list))\n",
    "print(\"Second list ID:\", id(second_list))\n",
    "\n",
    "if id(first_list) == id(second_list):\n",
    "    print(\"Wait, these are the same list!\")\n",
    "else:\n",
    "    print(\"OK, modifying the first list won't impact the second list.\")"
   ]
  },
  {
   "cell_type": "code",
   "execution_count": null,
   "metadata": {
    "id": "MgsSWBzM1cBQ"
   },
   "outputs": [],
   "source": [
    "first_list_sorted = sorted(first_list)\n",
    "print(\"What does our sorted first_list look like?\", first_list_sorted)\n",
    "print(\"What does our original first_list look like?\", first_list)"
   ]
  },
  {
   "cell_type": "code",
   "execution_count": null,
   "metadata": {
    "id": "_Fvs3Tu21cBQ"
   },
   "outputs": [],
   "source": [
    "second_list_output = second_list.sort()\n",
    "print(\"What does the return value of the .sort() method look like?\", second_list_output)\n",
    "print(\"What does our original second_list look like?\", second_list)"
   ]
  },
  {
   "cell_type": "markdown",
   "metadata": {
    "id": "CW8Hz23XOnwO"
   },
   "source": [
    "## This is important for you to understand, for the exams!!\n",
    "\n",
    "We can see from the output above that the `.sort()` method will change the original list. Keep this in mind if you need to sort something.\n",
    "\n",
    "For this reason, we generally recommend to use the `sorted()` function and assign the result to a **NEW VARIABLE**.\n",
    "\n",
    "**This is one of the scenarios that we typically see in exams, when the test case variables return a failure because the student has modified an input variable.**\n",
    "\n",
    "**The student has modified an input variable using `sort()`, when they should have created a new variable using `sorted()`.**"
   ]
  },
  {
   "cell_type": "markdown",
   "metadata": {
    "id": "AIu8Hqnz1cBQ"
   },
   "source": [
    "## What are your questions on sorting?"
   ]
  },
  {
   "cell_type": "code",
   "execution_count": null,
   "metadata": {
    "id": "x7e28Xez1cBQ"
   },
   "outputs": [],
   "source": []
  }
 ],
 "metadata": {
  "colab": {
   "include_colab_link": true,
   "provenance": []
  },
  "kernelspec": {
   "display_name": "Python 3 (ipykernel)",
   "language": "python",
   "name": "python3"
  },
  "language_info": {
   "codemirror_mode": {
    "name": "ipython",
    "version": 3
   },
   "file_extension": ".py",
   "mimetype": "text/x-python",
   "name": "python",
   "nbconvert_exporter": "python",
   "pygments_lexer": "ipython3",
   "version": "3.12.7"
  }
 },
 "nbformat": 4,
 "nbformat_minor": 4
}
