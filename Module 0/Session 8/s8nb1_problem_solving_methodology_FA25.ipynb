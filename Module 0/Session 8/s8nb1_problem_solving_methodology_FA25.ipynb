{
  "cells": [
    {
      "cell_type": "markdown",
      "metadata": {
        "id": "x667P5yRPm70"
      },
      "source": [
        "# Bootcamp Problem Solving Method"
      ]
    },
    {
      "cell_type": "markdown",
      "metadata": {
        "id": "uvhHHpy3Pm72"
      },
      "source": [
        "## Introduction"
      ]
    },
    {
      "cell_type": "markdown",
      "metadata": {
        "id": "_l3pT03QPm72"
      },
      "source": [
        "We will be using this problem solving method throughout the Bootcamp, as a recommended approach for the students to use.\n",
        "\n",
        "The students are free to use any approach that they desire, however we are presenting this approach as one alternative for the students to consider."
      ]
    },
    {
      "cell_type": "markdown",
      "metadata": {
        "id": "4hL3gDpssEBh"
      },
      "source": [
        "### -- The purpose of the method is to provide the students with a \"cookbook-style\" approach to solving the exercises in the exams and homework notebooks.\n",
        "\n",
        "### -- This is intended to be a REPEATABLE process that allows the students to organize their thoughts and work through a standard series of steps that they can develop proficiency in.\n",
        "\n",
        "### -- There are 4 steps in the process:\n",
        "\n",
        "#### 1. GOAL\n",
        "\n",
        "#### 2. INPUT\n",
        "\n",
        "#### 3. STRATEGY\n",
        "\n",
        "#### 4. SOLUTION"
      ]
    },
    {
      "cell_type": "markdown",
      "metadata": {
        "id": "4O0ctK2dsEBi"
      },
      "source": [
        "### GOAL"
      ]
    },
    {
      "cell_type": "markdown",
      "metadata": {
        "id": "kiA2g6cGsEBi"
      },
      "source": [
        "Understand and define what the exercise is asking the student to do.\n",
        "\n",
        "What is the output/result of the exercise, and what does the student's code need to return as a solution? Write the expected output."
      ]
    },
    {
      "cell_type": "markdown",
      "metadata": {
        "id": "AK70w7hNsEBi"
      },
      "source": [
        "### INPUT"
      ]
    },
    {
      "cell_type": "markdown",
      "metadata": {
        "id": "iBaaQu4nsEBi"
      },
      "source": [
        "Understand and list what the exercise provides as input.\n",
        "\n",
        "If the requirement is to write a function, what is being passed to the function as inputs?\n",
        "\n",
        "What examples are provided?\n",
        "\n",
        "Is there any test data that the exercise gives to work with?"
      ]
    },
    {
      "cell_type": "markdown",
      "metadata": {
        "id": "AKcnGk9esEBi"
      },
      "source": [
        "### STRATEGY -- This is your pseudocode."
      ]
    },
    {
      "cell_type": "markdown",
      "metadata": {
        "id": "keJS7wP9sEBj"
      },
      "source": [
        "List, in plain language (not code), the steps that you will take to get from input to output.\n",
        "\n",
        "List the steps in order, numbering them from (1) to (X).\n",
        "\n",
        "Many students find it helpful to also indent the steps, in the manner that they will do with the actual code. This helps to provide a visual representation of the code dependencies, loops, and conditional logic.\n",
        "\n",
        "Initially, this step should be a complete listing of the steps that the student will follow. However, as the student is working through the actual coding (in step 4 below), they may determine that the order of steps may change, or that steps may need to be added or removed, **so they may come back to this step and edit appropriately.**\n",
        "\n",
        "By the end of the exercise, this listing should be a plain language reference of what the actual code is doing, step by step.\n",
        "\n",
        "While going back and forth to this step during coding may seem tedious, the value in doing so is that **the code becomes self-documenting**, and this documentation in the code greatly assists the student to understand what they have done and their thought process, when they come back to the notebook at a later time."
      ]
    },
    {
      "cell_type": "markdown",
      "metadata": {
        "id": "xIrmEHGBsEBj"
      },
      "source": [
        "### SOLUTION -- This is your actual code."
      ]
    },
    {
      "cell_type": "markdown",
      "metadata": {
        "id": "iRdrWBDYsEBj"
      },
      "source": [
        "Write the code here.\n",
        "\n",
        "If writing a function, **start by defining the data structure (variable) to be returned by the function and the return statement at the end of the function.**\n",
        "\n",
        "Then code through the steps in the Strategy, with liberal use of print() statements to understand what the code is doing at the various steps of the process."
      ]
    },
    {
      "cell_type": "markdown",
      "metadata": {
        "id": "YFkaHK8wsEBj"
      },
      "source": [
        "## Now let's look at how this works in practice, and three potential implementation methods.\n",
        "\n",
        "### Each of the example methods has its strengths and weaknesses, and it is up to each individual student to determine which might work best for them.\n",
        "\n",
        "This example is taken from the \"More Python Exercises\" assignment in Vocareum, and is from Notebook 3 of this assignment."
      ]
    },
    {
      "cell_type": "markdown",
      "metadata": {
        "id": "HmFFRZUvsEBj"
      },
      "source": [
        "# 1 Problem 3 Methods\n",
        "\n",
        "This problem has a single exercise worth a total of ten (10) points.\n",
        "\n",
        "**Exercise 0** (10 points). Define a function, `UniqueCharacters(s)`, that given a string `s` returns a tuple of two elements: the first element is the number of unique alphabetic characters in the string and the second is the number of unique digits (base-10) in the string.\n",
        "\n",
        "For example, the string `'ewwwffioj122434'` should output the following tuple: `(6, 4)`. The `6` occurs because there are 6 unique letters (`'e'`, `'w'`, `'f'`, `'i'`, `'o'`, and `'j'`) and `4` because there are 4 unique decimal digits (`'1'`,  `'2'`, `'3'`, `'4'`). Special characters may appear in the string but do not count as a letter or number."
      ]
    },
    {
      "cell_type": "markdown",
      "metadata": {
        "id": "2o3mHxwlsEBj"
      },
      "source": [
        "## Method #1:  Write the GOAL/INPUT/STRATEGY in a cell above the code, then the SOLUTION in the actual code cell."
      ]
    },
    {
      "cell_type": "code",
      "execution_count": null,
      "metadata": {
        "id": "05ym0-ShsEBj"
      },
      "outputs": [],
      "source": [
        "#     GOAL\n",
        "#         Tuple of 2 elements:\n",
        "#         the first element is the number of unique alphabetic characters in the string and\n",
        "#         the second is the number of unique digits (base-10) in the string.\n",
        "\n",
        "#     INPUT\n",
        "#           string called s\n",
        "\n",
        "#     STRATEGY\n",
        "#             create letter and number list variables\n",
        "#             loop over the input string\n",
        "#             detect if the character is a letter or number\n",
        "#                 https://duckduckgo.com/?q=python+is+character+alphabetic&t=chromentp&ia=web\n",
        "\n",
        "#             append the letter or number to the correct list variable\n",
        "#             after the loop take the unique values of the two variables\n",
        "#                     https://duckduckgo.com/?q=python+unique+values+in+a+list&t=chromentp&ia=web\n",
        "\n",
        "#             create tuple of the lengths of each variable\n",
        "#             return the tuple"
      ]
    },
    {
      "cell_type": "code",
      "execution_count": null,
      "metadata": {
        "id": "UgYPAxqxsEBk"
      },
      "outputs": [],
      "source": [
        "def UniqueCharacters(s):\n",
        "    ### YOUR CODE HERE\n",
        "\n",
        "#     SOLUTION\n",
        "\n",
        "    lets = []\n",
        "    nums = []\n",
        "\n",
        "    for char in s:\n",
        "        if char.isalpha():\n",
        "            lets.append(char)\n",
        "        if char.isdigit():\n",
        "            nums.append(char)\n",
        "\n",
        "    set_lets = set(lets)\n",
        "    set_nums = set(nums)\n",
        "\n",
        "    ret_var = (len(set_lets),len(set_nums))\n",
        "\n",
        "    return ret_var\n",
        "\n",
        "\n",
        "# test case\n",
        "UniqueCharacters('ewwwffioj122434')"
      ]
    },
    {
      "cell_type": "markdown",
      "metadata": {
        "id": "2Cw8MZfpsEBk"
      },
      "source": [
        "## Method #2:  Write the GOAL/INPUT/STRATEGY in the same cell above the code, then write the code below the SOLUTION heading."
      ]
    },
    {
      "cell_type": "code",
      "execution_count": null,
      "metadata": {
        "id": "mm_LsNIksEBk"
      },
      "outputs": [],
      "source": [
        "def UniqueCharacters(s):\n",
        "    ### YOUR CODE HERE\n",
        "\n",
        "#     GOAL\n",
        "#         Tuple of 2 elements:\n",
        "#         the first element is the number of unique alphabetic characters in the string and\n",
        "#         the second is the number of unique digits (base-10) in the string.\n",
        "\n",
        "#     INPUT\n",
        "#           string called s\n",
        "\n",
        "#     STRATEGY\n",
        "#             create letter and number list variables\n",
        "#             loop over the input string\n",
        "#             detect if the character is a letter or number\n",
        "#                 https://duckduckgo.com/?q=python+is+character+alphabetic&t=chromentp&ia=web\n",
        "\n",
        "#             append the letter or number to the correct list variable\n",
        "#             after the loop take the unique values of the two variables\n",
        "#                     https://duckduckgo.com/?q=python+unique+values+in+a+list&t=chromentp&ia=web\n",
        "\n",
        "#             create tuple of the lengths of each variable\n",
        "#             return the tuple\n",
        "#     SOLUTION\n",
        "\n",
        "    lets = []\n",
        "    nums = []\n",
        "\n",
        "    for char in s:\n",
        "        if char.isalpha():\n",
        "            lets.append(char)\n",
        "        if char.isdigit():\n",
        "            nums.append(char)\n",
        "\n",
        "    set_lets = set(lets)\n",
        "    set_nums = set(nums)\n",
        "\n",
        "    ret_var = (len(set_lets),len(set_nums))\n",
        "\n",
        "    return ret_var\n",
        "\n",
        "\n",
        "# test case\n",
        "UniqueCharacters('ewwwffioj122434')"
      ]
    },
    {
      "cell_type": "markdown",
      "metadata": {
        "id": "NJiTYgRgsEBk"
      },
      "source": [
        "## Method #3:  Write the GOAL/INPUT/STRATEGY in the same cell above the code, and intersperse the actual code with the STRATEGY steps."
      ]
    },
    {
      "cell_type": "code",
      "execution_count": null,
      "metadata": {
        "id": "qu4sYd1IsEBk"
      },
      "outputs": [],
      "source": [
        "def UniqueCharacters(s):\n",
        "    ### YOUR CODE HERE\n",
        "\n",
        "#     GOAL\n",
        "#         Tuple of 2 elements:\n",
        "#         the first element is the number of unique alphabetic characters in the string and\n",
        "#         the second is the number of unique digits (base-10) in the string.\n",
        "\n",
        "#     INPUT\n",
        "#           string called s\n",
        "\n",
        "#     STRATEGY/SOLUTION\n",
        "#             create letter and number list variables\n",
        "    lets = []\n",
        "    nums = []\n",
        "\n",
        "# loop over the input string\n",
        "    for char in s:\n",
        "#       detect if the character is a letter or number\n",
        "#                 https://duckduckgo.com/?q=python+is+character+alphabetic&t=chromentp&ia=web\n",
        "        if char.isalpha():    # is a letter\n",
        "#            append the letter or number to the correct list variable\n",
        "            lets.append(char)\n",
        "#       detect if the character is a letter or number\n",
        "        if char.isdigit():   # is a number\n",
        "#           append the letter or number to the correct list variable\n",
        "            nums.append(char)\n",
        "\n",
        "#   after the loop take the unique values of the two variables\n",
        "#                     https://duckduckgo.com/?q=python+unique+values+in+a+list&t=chromentp&ia=web\n",
        "    set_lets = set(lets)\n",
        "    set_nums = set(nums)\n",
        "\n",
        "#   create tuple of the lengths of each variable\n",
        "    ret_var = (len(set_lets),len(set_nums))\n",
        "\n",
        "#   return the tuple\n",
        "    return ret_var\n",
        "\n",
        "\n",
        "# test case\n",
        "UniqueCharacters('ewwwffioj122434')"
      ]
    },
    {
      "cell_type": "markdown",
      "source": [
        "### Note 1:\n",
        "\n",
        "There are often multiple valid approaches to solving a problem. For example, some students may prefer using +=, while others might use .join() or regular expressions. All approaches are acceptable as long as they produce the **correct output** and t**he problem statement does not restrict the use of specific methods or functions**."
      ],
      "metadata": {
        "id": "0COD9lVrWDan"
      }
    },
    {
      "cell_type": "markdown",
      "source": [
        "### Note 2\n",
        "Functions That Modify in Place vs. Those That Return\n",
        "\n",
        "Example: Methods like .append() modify the list in place, changing the original object. In contrast, using the + operator creates and returns a new list without altering the original. Knowing which approach a function uses is important for managing your data correctly."
      ],
      "metadata": {
        "id": "Yqxmq-boXABk"
      }
    },
    {
      "cell_type": "code",
      "source": [
        "# In-place modification\n",
        "def modify_in_place(my_list):\n",
        "    my_list.append(100)\n",
        "\n",
        "# Returns a new list\n",
        "def return_new_list(my_list):\n",
        "    return my_list + [100]\n",
        "\n",
        "# Test\n",
        "original = [1, 2, 3]\n",
        "\n",
        "modify_in_place(original)\n",
        "print(\"After in-place modification, original list is:\", original)  # Output: [1, 2, 3, 100]\n",
        "\n",
        "original = [1, 2, 3]\n",
        "new_list = return_new_list(original)\n",
        "print(\"After returning a new list, original list remains:\", original)  # Output: [1, 2, 3]\n",
        "print(\"The new list is:\", new_list)                                     # Output: [1, 2, 3, 100]\n"
      ],
      "metadata": {
        "id": "JZQZ7vILXGsI",
        "outputId": "ffe90abe-a4c5-41d7-db36-943f9aa428fe",
        "colab": {
          "base_uri": "https://localhost:8080/"
        }
      },
      "execution_count": 2,
      "outputs": [
        {
          "output_type": "stream",
          "name": "stdout",
          "text": [
            "After in-place modification, original list is: [1, 2, 3, 100]\n",
            "After returning a new list, original list remains: [1, 2, 3]\n",
            "The new list is: [1, 2, 3, 100]\n"
          ]
        }
      ]
    },
    {
      "cell_type": "markdown",
      "metadata": {
        "id": "-QIRpfCvsEBk"
      },
      "source": [
        "## What are your questions on the problem solving methodology?"
      ]
    },
    {
      "cell_type": "code",
      "execution_count": null,
      "metadata": {
        "id": "1aLICoBssEBk"
      },
      "outputs": [],
      "source": []
    }
  ],
  "metadata": {
    "colab": {
      "provenance": []
    },
    "kernelspec": {
      "display_name": "Python 3 (ipykernel)",
      "language": "python",
      "name": "python3"
    },
    "language_info": {
      "codemirror_mode": {
        "name": "ipython",
        "version": 3
      },
      "file_extension": ".py",
      "mimetype": "text/x-python",
      "name": "python",
      "nbconvert_exporter": "python",
      "pygments_lexer": "ipython3",
      "version": "3.9.13"
    }
  },
  "nbformat": 4,
  "nbformat_minor": 0
}