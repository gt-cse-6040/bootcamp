{
 "cells": [
  {
   "cell_type": "markdown",
   "metadata": {
    "id": "x667P5yRPm70"
   },
   "source": [
    "# Bootcamp Problem Solving Method"
   ]
  },
  {
   "cell_type": "markdown",
   "metadata": {
    "id": "uvhHHpy3Pm72"
   },
   "source": [
    "## Introduction"
   ]
  },
  {
   "cell_type": "markdown",
   "metadata": {
    "id": "_l3pT03QPm72"
   },
   "source": [
    "We will be using this problem solving method throughout the Bootcamp, as a recommended approach for the students to use. \n",
    "\n",
    "The students are free to use any approach that they desire, however we are presenting this approach as one alternative for the students to consider."
   ]
  },
  {
   "cell_type": "markdown",
   "metadata": {},
   "source": [
    "### -- The purpose of the method is to provide the students with a \"cookbook-style\" approach to solving the exercises in the exams and homework notebooks.\n",
    "\n",
    "### -- This is intended to be a REPEATABLE process that allows the students to organize their thoughts and work through a standard series of steps that they can develop proficiency in.\n",
    "\n",
    "### -- There are 4 steps in the process:\n",
    "\n",
    "#### 1. GOAL\n",
    "\n",
    "#### 2. INPUT\n",
    "\n",
    "#### 3. STRATEGY\n",
    "\n",
    "#### 4. SOLUTION"
   ]
  },
  {
   "cell_type": "markdown",
   "metadata": {},
   "source": [
    "### GOAL"
   ]
  },
  {
   "cell_type": "markdown",
   "metadata": {},
   "source": [
    "Understand and define what the exercise is asking the student to do. \n",
    "\n",
    "What is the output/result of the exercise, and what does the student's code need to return as a solution?"
   ]
  },
  {
   "cell_type": "markdown",
   "metadata": {},
   "source": [
    "### INPUT"
   ]
  },
  {
   "cell_type": "markdown",
   "metadata": {},
   "source": [
    "Understand and list what the exercise provides as input. \n",
    "\n",
    "If the requirement is to write a function, what is being passed to the function as inputs? \n",
    "\n",
    "What examples are provided? \n",
    "\n",
    "Is there any test data that the exercise gives to work with?"
   ]
  },
  {
   "cell_type": "markdown",
   "metadata": {},
   "source": [
    "### STRATEGY -- This is your pseudocode."
   ]
  },
  {
   "cell_type": "markdown",
   "metadata": {},
   "source": [
    "List, in plain language (not code), the steps that you will take to get from input to output. \n",
    "\n",
    "List the steps in order, numbering them from (1) to (X). \n",
    "\n",
    "Many students find it helpful to also indent the steps, in the manner that they will do with the actual code. This helps to provide a visual representation of the code dependencies, loops, and conditional logic.\n",
    "\n",
    "Initially, this step should be a complete listing of the steps that the student will follow. However, as the student is working through the actual coding (in step 4 below), they may determine that the order of steps may change, or that steps may need to be added or removed, **so they may come back to this step and edit appropriately.** \n",
    "\n",
    "By the end of the exercise, this listing should be a plain language reference of what the actual code is doing, step by step. \n",
    "\n",
    "While going back and forth to this step during coding may seem tedious, the value in doing so is that **the code becomes self-documenting**, and this documentation in the code greatly assists the student to understand what they have done and their thought process, when they come back to the notebook at a later time."
   ]
  },
  {
   "cell_type": "markdown",
   "metadata": {},
   "source": [
    "### SOLUTION -- This is your actual code."
   ]
  },
  {
   "cell_type": "markdown",
   "metadata": {},
   "source": [
    "Write the code here. \n",
    "\n",
    "If writing a function, **start by defining the data structure (variable) to be returned by the function and the return statement at the end of the function.** \n",
    "\n",
    "Then code through the steps in the Strategy, with liberal use of print() statements to understand what the code is doing at the various steps of the process."
   ]
  },
  {
   "cell_type": "markdown",
   "metadata": {},
   "source": [
    "## Now let's look at how this works in practice, and three potential implementation methods.\n",
    "\n",
    "### Each of the example methods has its strengths and weaknesses, and it is up to each individual student to determine which might work best for them.\n",
    "\n",
    "This example is taken from the \"More Python Exercises\" assignment in Vocareum, and is from Notebook 3 of this assignment."
   ]
  },
  {
   "cell_type": "markdown",
   "metadata": {},
   "source": [
    "# Problem 3\n",
    "\n",
    "This problem has a single exercise worth a total of ten (10) points.\n",
    "\n",
    "**Exercise 0** (10 points). Define a function, `UniqueCharacters(s)`, that given a string `s` returns a tuple of two elements: the first element is the number of unique alphabetic characters in the string and the second is the number of unique digits (base-10) in the string.\n",
    "\n",
    "For example, the string `'ewwwffioj122434'` should output the following tuple: `(6, 4)`. The `6` occurs because there are 6 unique letters (`'e'`, `'w'`, `'f'`, `'i'`, `'o'`, and `'j'`) and `4` because there are 4 unique decimal digits (`'1'`,  `'2'`, `'3'`, `'4'`). Special characters may appear in the string but do not count as a letter or number."
   ]
  },
  {
   "cell_type": "markdown",
   "metadata": {},
   "source": [
    "## Method #1:  Write the GOAL/INPUT/STRATEGY in a cell above the code, then the SOLUTION in the actual code cell."
   ]
  },
  {
   "cell_type": "code",
   "execution_count": null,
   "metadata": {},
   "outputs": [],
   "source": [
    "#     GOAL\n",
    "#         Tuple of 2 elements:\n",
    "#         the first element is the number of unique alphabetic characters in the string and\n",
    "#         the second is the number of unique digits (base-10) in the string.\n",
    "\n",
    "#     INPUT\n",
    "#           string called s\n",
    "\n",
    "#     STRATEGY\n",
    "#             create letter and number list variables\n",
    "#             loop over the input string\n",
    "#             detect if the character is a letter or number\n",
    "#                 https://duckduckgo.com/?q=python+is+character+alphabetic&t=chromentp&ia=web\n",
    "\n",
    "#             append the letter or number to the correct list variable\n",
    "#             after the loop take the unique values of the two variables\n",
    "#                     https://duckduckgo.com/?q=python+unique+values+in+a+list&t=chromentp&ia=web\n",
    "\n",
    "#             create tuple of the lengths of each variable\n",
    "#             return the tuple"
   ]
  },
  {
   "cell_type": "code",
   "execution_count": null,
   "metadata": {},
   "outputs": [],
   "source": [
    "def UniqueCharacters(s):\n",
    "    ### YOUR CODE HERE\n",
    "\n",
    "#     SOLUTION\n",
    "\n",
    "    lets = []\n",
    "    nums = []\n",
    "\n",
    "    for char in s:\n",
    "        if char.isalpha():\n",
    "            lets.append(char)\n",
    "        if char.isdigit():\n",
    "            nums.append(char)\n",
    "\n",
    "    set_lets = set(lets)\n",
    "    set_nums = set(nums)\n",
    "\n",
    "    ret_var = (len(set_lets),len(set_nums))\n",
    "\n",
    "    return ret_var\n",
    "\n",
    "\n",
    "# test case\n",
    "UniqueCharacters('ewwwffioj122434')"
   ]
  },
  {
   "cell_type": "markdown",
   "metadata": {},
   "source": [
    "## Method #2:  Write the GOAL/INPUT/STRATEGY in the same cell above the code, then write the code below the SOLUTION heading."
   ]
  },
  {
   "cell_type": "code",
   "execution_count": null,
   "metadata": {},
   "outputs": [],
   "source": [
    "def UniqueCharacters(s):\n",
    "    ### YOUR CODE HERE\n",
    "\n",
    "#     GOAL\n",
    "#         Tuple of 2 elements:\n",
    "#         the first element is the number of unique alphabetic characters in the string and\n",
    "#         the second is the number of unique digits (base-10) in the string.\n",
    "\n",
    "#     INPUT\n",
    "#           string called s\n",
    "\n",
    "#     STRATEGY\n",
    "#             create letter and number list variables\n",
    "#             loop over the input string\n",
    "#             detect if the character is a letter or number\n",
    "#                 https://duckduckgo.com/?q=python+is+character+alphabetic&t=chromentp&ia=web\n",
    "\n",
    "#             append the letter or number to the correct list variable\n",
    "#             after the loop take the unique values of the two variables\n",
    "#                     https://duckduckgo.com/?q=python+unique+values+in+a+list&t=chromentp&ia=web\n",
    "\n",
    "#             create tuple of the lengths of each variable\n",
    "#             return the tuple\n",
    "#     SOLUTION\n",
    "\n",
    "    lets = []\n",
    "    nums = []\n",
    "\n",
    "    for char in s:\n",
    "        if char.isalpha():\n",
    "            lets.append(char)\n",
    "        if char.isdigit():\n",
    "            nums.append(char)\n",
    "\n",
    "    set_lets = set(lets)\n",
    "    set_nums = set(nums)\n",
    "\n",
    "    ret_var = (len(set_lets),len(set_nums))\n",
    "\n",
    "    return ret_var\n",
    "\n",
    "\n",
    "# test case\n",
    "UniqueCharacters('ewwwffioj122434')"
   ]
  },
  {
   "cell_type": "markdown",
   "metadata": {},
   "source": [
    "## Method #3:  Write the GOAL/INPUT/STRATEGY in the same cell above the code, and intersperse the actual code with the STRATEGY steps."
   ]
  },
  {
   "cell_type": "code",
   "execution_count": null,
   "metadata": {},
   "outputs": [],
   "source": [
    "def UniqueCharacters(s):\n",
    "    ### YOUR CODE HERE\n",
    "\n",
    "#     GOAL\n",
    "#         Tuple of 2 elements:\n",
    "#         the first element is the number of unique alphabetic characters in the string and\n",
    "#         the second is the number of unique digits (base-10) in the string.\n",
    "\n",
    "#     INPUT\n",
    "#           string called s\n",
    "\n",
    "#     STRATEGY/SOLUTION\n",
    "#             create letter and number list variables\n",
    "    lets = []\n",
    "    nums = []\n",
    "\n",
    "# loop over the input string\n",
    "    for char in s:\n",
    "#       detect if the character is a letter or number\n",
    "#                 https://duckduckgo.com/?q=python+is+character+alphabetic&t=chromentp&ia=web\n",
    "        if char.isalpha():    # is a letter\n",
    "#            append the letter or number to the correct list variable\n",
    "            lets.append(char)\n",
    "#       detect if the character is a letter or number\n",
    "        if char.isdigit():   # is a number\n",
    "#           append the letter or number to the correct list variable\n",
    "            nums.append(char)\n",
    "\n",
    "#   after the loop take the unique values of the two variables\n",
    "#                     https://duckduckgo.com/?q=python+unique+values+in+a+list&t=chromentp&ia=web\n",
    "    set_lets = set(lets)\n",
    "    set_nums = set(nums)\n",
    "\n",
    "#   create tuple of the lengths of each variable\n",
    "    ret_var = (len(set_lets),len(set_nums))\n",
    "\n",
    "#   return the tuple\n",
    "    return ret_var\n",
    "\n",
    "\n",
    "# test case\n",
    "UniqueCharacters('ewwwffioj122434')"
   ]
  },
  {
   "cell_type": "markdown",
   "metadata": {},
   "source": [
    "## What are your questions on the problem solving methodology?"
   ]
  },
  {
   "cell_type": "code",
   "execution_count": null,
   "metadata": {},
   "outputs": [],
   "source": []
  }
 ],
 "metadata": {
  "colab": {
   "include_colab_link": true,
   "provenance": []
  },
  "kernelspec": {
   "display_name": "Python 3 (ipykernel)",
   "language": "python",
   "name": "python3"
  },
  "language_info": {
   "codemirror_mode": {
    "name": "ipython",
    "version": 3
   },
   "file_extension": ".py",
   "mimetype": "text/x-python",
   "name": "python",
   "nbconvert_exporter": "python",
   "pygments_lexer": "ipython3",
   "version": "3.9.13"
  }
 },
 "nbformat": 4,
 "nbformat_minor": 1
}
