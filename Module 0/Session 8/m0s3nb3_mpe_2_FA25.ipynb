{
 "cells": [
  {
   "cell_type": "markdown",
   "metadata": {
    "id": "-O7XQXs3viOp",
    "nbgrader": {
     "grade": false,
     "grade_id": "cell-4fce7ca91263737d",
     "locked": true,
     "schema_version": 1,
     "solution": false
    }
   },
   "source": [
    "# Problem 2: DNA Sequence Analysis\n",
    "\n",
    "This problem is about strings and regular expressions. It has two (2) exercises worth nine (9) points."
   ]
  },
  {
   "cell_type": "code",
   "execution_count": null,
   "metadata": {
    "id": "o5IO6hUyviOr",
    "nbgrader": {
     "grade": false,
     "grade_id": "cell-aa03dd5fc9b9152c",
     "locked": true,
     "schema_version": 1,
     "solution": false
    }
   },
   "outputs": [],
   "source": [
    "import re # You'll need this module"
   ]
  },
  {
   "cell_type": "markdown",
   "metadata": {
    "id": "P4ZSNexQviOs",
    "nbgrader": {
     "grade": false,
     "grade_id": "cell-01ba015f8a69796f",
     "locked": true,
     "schema_version": 1,
     "solution": false
    }
   },
   "source": [
    "## DNA Sequence Analysis\n",
    "\n",
    "Your friend is a biologist who is studying a particular DNA sequence. The sequence is a string built from an alphabet of four possible letters, `A`, `G`, `C`, and `T`. Biologists refer to each of these letters a _base_.\n",
    "\n",
    "Here is an example of a DNA fragment as a string of bases."
   ]
  },
  {
   "cell_type": "code",
   "execution_count": null,
   "metadata": {
    "id": "-eHCXaTQviOs",
    "nbgrader": {
     "grade": false,
     "grade_id": "cell-810b7b128aa44f68",
     "locked": true,
     "schema_version": 1,
     "solution": false
    },
    "outputId": "f2fd2c3e-09c3-4c7e-a0ee-58ed1b827b74"
   },
   "outputs": [],
   "source": [
    "dna_seq = 'ATGGCAATAACCCCCCGTTTCTACTTCTAGAGGAGAAAAGTATTGACATGAGCGCTCCCGGCACAAGGGCCAAAGAAGTCTCCAATTTCTTATTTCCGAATGACATGCGTCTCCTTGCGGGTAAATCACCGACCGCAATTCATAGAAGCCTGGGGGAACAGATAGGTCTAATTAGCTTAAGAGAGTAAATCCTGGGATCATTCAGTAGTAACCATAAACTTACGCTGGGGCTTCTTCGGCGGATTTTTACAGTTACCAACCAGGAGATTTGAAGTAAATCAGTTGAGGATTTAGCCGCGCTATCCGGTAATCTCCAAATTAAAACATACCGTTCCATGAAGGCTAGAATTACTTACCGGCCTTTTCCATGCCTGCGCTATACCCCCCCACTCTCCCGCTTATCCGTCCGAGCGGAGGCAGTGCGATCCTCCGTTAAGATATTCTTACGTGTGACGTAGCTATGTATTTTGCAGAGCTGGCGAACGCGTTGAACACTTCACAGATGGTAGGGATTCGGGTAAAGGGCGTATAATTGGGGACTAACATAGGCGTAGACTACGATGGCGCCAACTCAATCGCAGCTCGAGCGCCCTGAATAACGTACTCATCTCAACTCATTCTCGGCAATCTACCGAGCGACTCGATTATCAACGGCTGTCTAGCAGTTCTAATCTTTTGCCAGCATCGTAATAGCCTCCAAGAGATTGATGATAGCTATCGGCACAGAACTGAGACGGCGCCGATGGATAGCGGACTTTCGGTCAACCACAATTCCCCACGGGACAGGTCCTGCGGTGCGCATCACTCTGAATGTACAAGCAACCCAAGTGGGCCGAGCCTGGACTCAGCTGGTTCCTGCGTGAGCTCGAGACTCGGGATGACAGCTCTTTAAACATAGAGCGGGGGCGTCGAACGGTCGAGAAAGTCATAGTACCTCGGGTACCAACTTACTCAGGTTATTGCTTGAAGCTGTACTATTTTAGGGGGGGAGCGCTGAAGGTCTCTTCTTCTCATGACTGAACTCGCGAGGGTCGTGAAGTCGGTTCCTTCAATGGTTAAAAAACAAAGGCTTACTGTGCGCAGAGGAACGCCCATCTAGCGGCTGGCGTCTTGAATGCTCGGTCCCCTTTGTCATTCCGGATTAATCCATTTCCCTCATTCACGAGCTTGCGAAGTCTACATTGGTATATGAATGCGACCTAGAAGAGGGCGCTTAAAATTGGCAGTGGTTGATGCTCTAAACTCCATTTGGTTTACTCGTGCATCACCGCGATAGGCTGACAAAGGTTTAACATTGAATAGCAAGGCACTTCCGGTCTCAATGAACGGCCGGGAAAGGTACGCGCGCGGTATGGGAGGATCAAGGGGCCAATAGAGAGGCTCCTCTCTCACTCGCTAGGAGGCAAATGTAAAACAATGGTTACTGCATCGATACATAAAACATGTCCATCGGTTGCCCAAAGTGTTAAGTGTCTATCACCCCTAGGGCCGTTTCCCGCATATAAACGCCAGGTTGTATCCGCATTTGATGCTACCGTGGATGAGTCTGCGTCGAGCGCGCCGCACGAATGTTGCAATGTATTGCATGAGTAGGGTTGACTAAGAGCCGTTAGATGCGTCGCTGTACTAATAGTTGTCGACAGACCGTCGAGATTAGAAAATGGTACCAGCATTTTCGGAGGTTCTCTAACTAGTATGGATTGCGGTGTCTTCACTGTGCTGCGGCTACCCATCGCCTGAAATCCAGCTGGTGTCAAGCCATCCCCTCTCCGGGACGCCGCATGTAGTGAAACATATACGTTGCACGGGTTCACCGCGGTCCGTTCTGAGTCGACCAAGGACACAATCGAGCTCCGATCCGTACCCTCGACAAACTTGTACCCGACCCCCGGAGCTTGCCAGCTCCTCGGGTATCATGGAGCCTGTGGTTCATCGCGTCCGATATCAAACTTCGTCATGATAAAGTCCCCCCCTCGGGAGTACCAGAGAAGATGACTACTGAGTTGTGCGAT'\n",
    "print(\"=== Sequence (Number of bases: {}) ===\\n\\n{}\".format(len(dna_seq), dna_seq))"
   ]
  },
  {
   "cell_type": "markdown",
   "metadata": {
    "id": "qrl2XPLmviOt",
    "nbgrader": {
     "grade": false,
     "grade_id": "cell-98ef92ff55dcf06f",
     "locked": true,
     "schema_version": 1,
     "solution": false
    }
   },
   "source": [
    "In this problem, you will help your friend analyze this sequence."
   ]
  },
  {
   "cell_type": "markdown",
   "metadata": {
    "id": "r_V15fhkviOt",
    "nbgrader": {
     "grade": false,
     "grade_id": "cell-98785d6efa53b434",
     "locked": true,
     "schema_version": 1,
     "solution": false
    }
   },
   "source": [
    "**Enzyme \"scissors.\"** Your friend is interested in what will happen to the sequence if she uses certain \"restriction enzymes\" to cut it. The enzymes work by scanning the DNA sequence from left to right for a particular pattern. It then cuts the DNA wherever it finds a match."
   ]
  },
  {
   "cell_type": "markdown",
   "metadata": {
    "id": "Pj-xYY12viOu",
    "nbgrader": {
     "grade": false,
     "grade_id": "cell-3285a6df9ec17e38",
     "locked": true,
     "schema_version": 1,
     "solution": false
    }
   },
   "source": [
    "**A biologist's notation.** Your friend does not know about regular expressions. Instead, she uses a [special notation](https://en.wikipedia.org/wiki/Nucleic_acid_sequence) that other biologists use to describe base patterns. These are \"extra letters\" that have a special meaning.\n",
    "\n",
    "For example, the special letter `N` denotes any base, i.e., any single occurrence of an `A`, `C`, `G`, or `T`. Therefore, when a biologist writes, `ANT`, that means `AAT`, `ACT`, `AGT`, or `ATT`.\n",
    "\n",
    "Here is the complete set of special letters:\n",
    "\n",
    "* `R`: Either `G` or `A`\n",
    "* `Y`: Either `T` or `C`\n",
    "* `K`: Either `G` or `T`\n",
    "* `M`: Either `A` or `C`\n",
    "* `S`: Either `G` or `C`\n",
    "* `W`: Either `A` or `T`\n",
    "* `B`: Anything but `A` (i.e., `G`, `T`, or `C`)\n",
    "* `D`: Anything but `C`\n",
    "* `H`: Anything but `G`\n",
    "* `V`: Anything but `T`\n",
    "* `N`: Anything, i.e., `A`, `C`, `G`, or `T`"
   ]
  },
  {
   "cell_type": "markdown",
   "metadata": {
    "id": "JEvPXmTuviOu"
   },
   "source": [
    "**Exercise 0** (4 points). Given a string in the biologist's notation, complete the function `bio_to_regex(pattern_bio)` so that it returns an equivalent pattern in Python's regular expression language.\n",
    "\n",
    "If your function is correct, then the following code would also work:\n",
    "\n",
    "```python\n",
    "  assert re.search(bio_to_regex('ANT'), 'AGATTA') is not None\n",
    "```\n",
    "\n",
    "That's because `ANT` matches `ATT`, which is contained in `AGATTA`."
   ]
  },
  {
   "cell_type": "code",
   "execution_count": null,
   "metadata": {
    "id": "aCfr9Q4NviOv",
    "nbgrader": {
     "grade": false,
     "grade_id": "exercise_1",
     "locked": false,
     "schema_version": 1,
     "solution": true
    }
   },
   "outputs": [],
   "source": [
    "def bio_to_regex(pattern_bio):\n",
    "    ### BEGIN SOLUTION\n",
    "    # A handy conversion table, to map bio letters to regex subpatterns:\n",
    "    translation_table = {'R': '[AG]', 'Y': '[TC]', 'K': '[GT]', 'M': '[AC]', 'S': '[GC]', 'W': '[AT]',\n",
    "                         'B': '[^A]', 'D': '[^C]', 'H': '[^G]', 'V': '[^T]', 'N': '.'}\n",
    "\n",
    "    # Here is the most compact solution we came up with:\n",
    "    translator = str.maketrans(translation_table)\n",
    "    return pattern_bio.translate(translator)\n",
    "\n",
    "    # However, the following loop-based code would also work:\n",
    "    pattern_regex = ''\n",
    "    for c in pattern_bio:\n",
    "        if c in translation_table:\n",
    "            pattern_regex += translation_table[c]\n",
    "        else:\n",
    "            pattern_regex += c\n",
    "    return pattern_regex\n",
    "    ### END SOLUTION\n",
    "\n",
    "answer_bio_to_regex = bio_to_regex('ANT')\n",
    "display(answer_bio_to_regex)\n",
    "assert re.search(bio_to_regex('ANT'), 'AGATTA') is not None"
   ]
  },
  {
   "cell_type": "code",
   "execution_count": null,
   "metadata": {
    "id": "FkLf1IjkviOz",
    "nbgrader": {
     "grade": true,
     "grade_id": "exercise_1_test_0",
     "locked": true,
     "points": 2,
     "schema_version": 1,
     "solution": false
    },
    "outputId": "55ccddbb-963f-4041-9fa7-12a50352d0e2"
   },
   "outputs": [],
   "source": [
    "# Test cell: `exercise_0_test_0`\n",
    "\n",
    "assert re.search(bio_to_regex('ANT'), 'AGATTA') is not None\n",
    "assert set(re.findall(bio_to_regex('ANTAAT'), dna_seq)) == {'ATTAAT', 'ACTAAT'}\n",
    "assert set(re.findall(bio_to_regex('GCRWTG'), dna_seq)) == {'GCGTTG', 'GCAATG'}\n",
    "assert len(re.findall(bio_to_regex('CDCHA'), dna_seq)) == 18\n",
    "\n",
    "print(\"\\n(Passed first group of tests!)\")"
   ]
  },
  {
   "cell_type": "code",
   "execution_count": null,
   "metadata": {
    "id": "CEdtnRyqviO0",
    "nbgrader": {
     "grade": true,
     "grade_id": "exercise_1_test_1",
     "locked": true,
     "points": 1,
     "schema_version": 1,
     "solution": false
    },
    "outputId": "07aecb7a-6d8a-4bff-975e-d4d34e061306"
   },
   "outputs": [],
   "source": [
    "# Test cell: `exercise_0_test_1`\n",
    "if False:\n",
    "    for c in {'Y', 'K', 'M', 'S', 'B', 'D', 'V'}:\n",
    "        from random import sample\n",
    "        x = ''.join([sample('ACGT', 1)[0] for _ in range(2)])\n",
    "        y = ''.join([sample('ACGT', 1)[0] for _ in range(2)])\n",
    "        pattern = '{}{}{}'.format(x, c, y)\n",
    "        ans = set(re.findall(bio_to_regex(pattern), dna_seq))\n",
    "        print(\"assert set(re.findall(bio_to_regex('{}'), dna_seq)) == {}\".format(pattern, ans))\n",
    "\n",
    "assert set(re.findall(bio_to_regex('GABAT'), dna_seq)) == {'GACAT', 'GAGAT', 'GATAT'}\n",
    "assert set(re.findall(bio_to_regex('GAVCA'), dna_seq)) == {'GACCA', 'GAACA'}\n",
    "assert set(re.findall(bio_to_regex('TGYGG'), dna_seq)) == {'TGTGG', 'TGCGG'}\n",
    "assert set(re.findall(bio_to_regex('GCKAA'), dna_seq)) == {'GCGAA'}\n",
    "assert set(re.findall(bio_to_regex('ATSCA'), dna_seq)) == {'ATCCA'}\n",
    "assert set(re.findall(bio_to_regex('GCMTT'), dna_seq)) == {'GCCTT', 'GCATT'}\n",
    "assert set(re.findall(bio_to_regex('AGDCC'), dna_seq)) == {'AGTCC', 'AGACC'}\n",
    "\n",
    "print(\"\\n(Passed second set of tests!)\")"
   ]
  },
  {
   "cell_type": "markdown",
   "metadata": {
    "id": "l-DcfEl-viO0"
   },
   "source": [
    "**Restriction sites.** When an enzyme cuts the string, it does it in a certain location with respect to the target pattern. This information is encoded as a _restriction site_.\n",
    "\n",
    "The way a biologist specifies the restriction site is with a special notation that embeds the cut in the pattern. For example, there is one enzyme that has a restriction site of the form, `ANT|AAT`, where the vertical bar, `'|'`, shows where the enzyme will split the sequence. So, if the input DNA sequence were\n",
    "\n",
    "```\n",
    "   GCATAGTAATGTATTAATGGC\n",
    "```\n",
    "\n",
    "then there would two matches:\n",
    "\n",
    "```\n",
    "   GCATAGTAATGTATTAATGGC\n",
    "       ^^^^^^  ^^^^^^\n",
    "       match!  match!\n",
    "```\n",
    "\n",
    "Furthermore, there would be two cuts, since this enzyme splits its pattern in the middle (between `ANT` and `AAT`):\n",
    "\n",
    "```\n",
    "   GCATAGT|AATGTATT|AATGGC\n",
    "       ^^^ ^^^  ^^^ ^^^\n",
    "```\n",
    "\n",
    "That would result in three fragments: `GCATAGT`, `AATGTATT`, and `AATGGC`."
   ]
  },
  {
   "cell_type": "markdown",
   "metadata": {},
   "source": [
    "**Exercise 1** (5 points). Complete the function, `sim_cuts(site_pattern, s)`, below. \n",
    "\n",
    "The first argument, `site_pattern`, is the biologist's restriction site pattern, e.g., `ANT|AAT`, where there may be an embedded cut. \n",
    "\n",
    "The second argument, `s`, is the DNA sequence to cut. The function should return the fragments in the sequence order.\n",
    "\n",
    "For the preceding example,\n",
    "\n",
    "```python\n",
    "  sim_cuts('ANT|AAT', 'GCATAGTAATGTATTAATGGC') == ['GCATAGT', 'AATGTATT', 'AATGGC']\n",
    "```\n",
    "\n",
    "> **Note.** There are *two* test cells, below. Both must pass for full credit, but if only one passes, you'll at least get some partial credit."
   ]
  },
  {
   "cell_type": "code",
   "execution_count": null,
   "metadata": {
    "id": "elvg1UHpviO0",
    "nbgrader": {
     "grade": false,
     "grade_id": "exercise_2",
     "locked": false,
     "schema_version": 1,
     "solution": true
    }
   },
   "outputs": [],
   "source": [
    "def sim_cuts(site_pattern, s):\n",
    "\n",
    "    \"\"\"\n",
    "    We want to use re.sub to find the \"site_pattern\" in s and return\n",
    "        the text on either side of the site_pattern.\n",
    "    So what we need to do is put together the components that re.sub will\n",
    "        need, to return the result.\n",
    "    The components for re.sub are:\n",
    "    1. The pattern that it will look for, which we call regex_pattern. This is \n",
    "        the regex version of what the site_pattern is. So the site_pattern\n",
    "        translated into something that regex can use. We already wrote a function\n",
    "        above to do this, so we will use it here also. Note that for the example code,\n",
    "        the first \"sub-pattern\" passed in is 'ANT', and we see from the definitions\n",
    "        above that 'N' can be any letter, so the regex pattern will substitute\n",
    "        \".\" in for it.\n",
    "    2. The backreferences (2nd component for re.sub). See the note below\n",
    "        for a detailed explanation of backreferences.\n",
    "    3. The actual text we are going to search.\n",
    "\n",
    "    Because we don't know what will be passed in, we cannot hard code what \n",
    "        we will pass to re.sub. \n",
    "\n",
    "    So what we need to do is put together each portion of what we will pass\n",
    "        to re.sub, using the variables passed into the function.\n",
    "    \n",
    "    ********************************************\n",
    "    The site_pattern passed in are the way that we want to split s (item 1 above).\n",
    "    \n",
    "    So what we want to do is take each \"component\" of the site_pattern\n",
    "        and convert it into what regex needs passed into it, to detect that pattern.\n",
    "\n",
    "    site_pattern is divided up by the | character, so what we need to do is\n",
    "        split the string on the pipe and use bio_to_regex to return the regex\n",
    "        equivalent of each portion of site_pattern. This will be the regex_pattern.\n",
    "\n",
    "    The regex pattern defines the consecutive text groups that re.sub will look for.\n",
    "        In the example below, it will look for \"A.T\", followed by \"AAT\" (converting\n",
    "        (ANT|AAT) to its corresponding regex pattern.\n",
    "    *********************************************\n",
    "    When re.sub finds this pattern, we need to tell it what to do. This is the\n",
    "        variable repl_pattern.\n",
    "\n",
    "    The exercise requirement tells us that we want to split the string \"s\" between the \n",
    "        two elements of the repl_pattern found, put the left of the split in a list, then\n",
    "        continue on with the remainder of the string, finding the pattern and splitting\n",
    "        the string.\n",
    "\n",
    "    The way we do this, using re.sub, is to find the pattern and add a pipe character (\"|\") \n",
    "        between the two groups, then continue on with the same behavior to the end of \n",
    "        the string \"s\". We use the backreferences to tell regex to do this. \n",
    "\n",
    "    Our final step is to split the string on \"|\", creating a list of the component strings\n",
    "        on either side of each pipe.\n",
    "    # ***********************************************\n",
    "    \"\"\"\n",
    "    ### BEGIN SOLUTION\n",
    "    # ************************************\n",
    "    # split s into its component parts, on |\n",
    "    cut_parts = site_pattern.split('|')\n",
    "    print(cut_parts)\n",
    "\n",
    "    # create list of the cut_parts, with each list element a string with parenthesis as first and last in the string\n",
    "    pure_bio_parts = ['(' + p + ')' for p in cut_parts]\n",
    "    # print(pure_bio_parts)\n",
    "\n",
    "    # join the pure bio_parts_into a single string\n",
    "    pure_bio_pattern = ''.join(pure_bio_parts)\n",
    "    # print(pure_bio_pattern)\n",
    "\n",
    "    # what is(are) the regex version of the pattern(s) we want to look for, and that we will use in our final regex?\n",
    "    regex_pattern = bio_to_regex(pure_bio_pattern)\n",
    "    print(regex_pattern)\n",
    "    # ***********************************\n",
    "    \n",
    "    # create the capturing groups. These are based on the length of the cut_parts variable\n",
    "    repl_parts = [r'\\{}'.format(i+1) for i in range(len(cut_parts))]\n",
    "    print(repl_parts)\n",
    "    \n",
    "    # format the repl_parts into a pattern that can be passed to regex\n",
    "    repl_pattern = '|'.join(repl_parts)\n",
    "    print(repl_pattern)\n",
    "    \n",
    "    # now pass it all to re.sub, to put the | between each detected \n",
    "    # component of the patterns\n",
    "    s_with_cuts = re.sub(regex_pattern, repl_pattern, s)\n",
    "    print(s_with_cuts)\n",
    "   \n",
    "    # format the result into a list of strings, as required by the exercise\n",
    "    return s_with_cuts.split('|')\n",
    "    \n",
    "    # **************************************\n",
    "    pass\n",
    "    ### END SOLUTION\n",
    "\n",
    "answer_sim_cuts = sim_cuts('ANT|AAT', 'GCATAGTAATGTATTAATGGC')\n",
    "display(answer_sim_cuts)"
   ]
  },
  {
   "cell_type": "markdown",
   "metadata": {},
   "source": [
    "#### Explanation of the variables in our code\n",
    "\n",
    "1. In Python regular expressions, \\1, \\2, etc., are backreferences. They refer to the text matched by the corresponding capturing group in the regex pattern.\n",
    "\n",
    "2. Capturing Groups -- This is the variable regex_pattern in our code.\n",
    "\n",
    "       --Capturing groups are created using parentheses ( ) in a regular expression. \n",
    "\n",
    "       --The text matched by each group can be referenced later in the pattern itself or in a replacement string.\n",
    "\n",
    "       --Groups are numbered from left to right, starting from 1.\n",
    "\n",
    "3. Backreferences\n",
    "\n",
    "       --\\1 refers to the text captured by the first group.\n",
    "\n",
    "       --\\2 refers to the text captured by the second group, and so on."
   ]
  },
  {
   "cell_type": "code",
   "execution_count": null,
   "metadata": {
    "id": "hzt4QQAtviO0",
    "nbgrader": {
     "grade": true,
     "grade_id": "exercise_2_test_0",
     "locked": true,
     "points": 3,
     "schema_version": 1,
     "solution": false
    },
    "outputId": "fb46b795-2d4e-4f43-a032-56a59a46823f"
   },
   "outputs": [],
   "source": [
    "# Test cell: `exercise_1_test_0`\n",
    "\n",
    "def check_sim_cuts(bio_pattern, s, true_cuts):\n",
    "    print(\"\\nChecking: '{}'...\".format(bio_pattern))\n",
    "    your_cuts = sim_cuts(bio_pattern, s)\n",
    "    print(\"   Your result ({} fragments): {}\".format(len(your_cuts), your_cuts))\n",
    "    print(\"   True result ({}): {}\".format(len(true_cuts), true_cuts))\n",
    "    assert your_cuts == true_cuts, \"Did not match!\"\n",
    "    print(\"   ==> Matched!\")\n",
    "\n",
    "# Check a simple case:\n",
    "check_sim_cuts('ANT|AAT', 'GCATAGTAATGTATTAATGGC', ['GCATAGT', 'AATGTATT', 'AATGGC'])\n",
    "\n",
    "print(\"\\n(Passed first test of Exercise 1; two more to go in the next cell.)\")"
   ]
  },
  {
   "cell_type": "code",
   "execution_count": null,
   "metadata": {
    "id": "WFbVASgGviO0",
    "nbgrader": {
     "grade": true,
     "grade_id": "exercise_2_test_1",
     "locked": true,
     "points": 2,
     "schema_version": 1,
     "solution": false
    },
    "outputId": "0d181b70-aa27-454f-c1cc-876c1c7eed56"
   },
   "outputs": [],
   "source": [
    "# Test cell: `exercise_1_test_1`\n",
    "\n",
    "check_sim_cuts('ANT|AAT', dna_seq, ['ATGGCAATAACCCCCCGTTTCTACTTCTAGAGGAGAAAAGTATTGACATGAGCGCTCCCGGCACAAGGGCCAAAGAAGTCTCCAATTTCTTATTTCCGAATGACATGCGTCTCCTTGCGGGTAAATCACCGACCGCAATTCATAGAAGCCTGGGGGAACAGATAGGTCTAATTAGCTTAAGAGAGTAAATCCTGGGATCATTCAGTAGTAACCATAAACTTACGCTGGGGCTTCTTCGGCGGATTTTTACAGTTACCAACCAGGAGATTTGAAGTAAATCAGTTGAGGATTTAGCCGCGCTATCCGGTAATCTCCAAATTAAAACATACCGTTCCATGAAGGCTAGAATTACTTACCGGCCTTTTCCATGCCTGCGCTATACCCCCCCACTCTCCCGCTTATCCGTCCGAGCGGAGGCAGTGCGATCCTCCGTTAAGATATTCTTACGTGTGACGTAGCTATGTATTTTGCAGAGCTGGCGAACGCGTTGAACACTTCACAGATGGTAGGGATTCGGGTAAAGGGCGTATAATTGGGGACTAACATAGGCGTAGACTACGATGGCGCCAACTCAATCGCAGCTCGAGCGCCCTGAATAACGTACTCATCTCAACTCATTCTCGGCAATCTACCGAGCGACTCGATTATCAACGGCTGTCTAGCAGTTCTAATCTTTTGCCAGCATCGTAATAGCCTCCAAGAGATTGATGATAGCTATCGGCACAGAACTGAGACGGCGCCGATGGATAGCGGACTTTCGGTCAACCACAATTCCCCACGGGACAGGTCCTGCGGTGCGCATCACTCTGAATGTACAAGCAACCCAAGTGGGCCGAGCCTGGACTCAGCTGGTTCCTGCGTGAGCTCGAGACTCGGGATGACAGCTCTTTAAACATAGAGCGGGGGCGTCGAACGGTCGAGAAAGTCATAGTACCTCGGGTACCAACTTACTCAGGTTATTGCTTGAAGCTGTACTATTTTAGGGGGGGAGCGCTGAAGGTCTCTTCTTCTCATGACTGAACTCGCGAGGGTCGTGAAGTCGGTTCCTTCAATGGTTAAAAAACAAAGGCTTACTGTGCGCAGAGGAACGCCCATCTAGCGGCTGGCGTCTTGAATGCTCGGTCCCCTTTGTCATTCCGGATT',\n",
    " 'AATCCATTTCCCTCATTCACGAGCTTGCGAAGTCTACATTGGTATATGAATGCGACCTAGAAGAGGGCGCTTAAAATTGGCAGTGGTTGATGCTCTAAACTCCATTTGGTTTACTCGTGCATCACCGCGATAGGCTGACAAAGGTTTAACATTGAATAGCAAGGCACTTCCGGTCTCAATGAACGGCCGGGAAAGGTACGCGCGCGGTATGGGAGGATCAAGGGGCCAATAGAGAGGCTCCTCTCTCACTCGCTAGGAGGCAAATGTAAAACAATGGTTACTGCATCGATACATAAAACATGTCCATCGGTTGCCCAAAGTGTTAAGTGTCTATCACCCCTAGGGCCGTTTCCCGCATATAAACGCCAGGTTGTATCCGCATTTGATGCTACCGTGGATGAGTCTGCGTCGAGCGCGCCGCACGAATGTTGCAATGTATTGCATGAGTAGGGTTGACTAAGAGCCGTTAGATGCGTCGCTGTACT',\n",
    " 'AATAGTTGTCGACAGACCGTCGAGATTAGAAAATGGTACCAGCATTTTCGGAGGTTCTCTAACTAGTATGGATTGCGGTGTCTTCACTGTGCTGCGGCTACCCATCGCCTGAAATCCAGCTGGTGTCAAGCCATCCCCTCTCCGGGACGCCGCATGTAGTGAAACATATACGTTGCACGGGTTCACCGCGGTCCGTTCTGAGTCGACCAAGGACACAATCGAGCTCCGATCCGTACCCTCGACAAACTTGTACCCGACCCCCGGAGCTTGCCAGCTCCTCGGGTATCATGGAGCCTGTGGTTCATCGCGTCCGATATCAAACTTCGTCATGATAAAGTCCCCCCCTCGGGAGTACCAGAGAAGATGACTACTGAGTTGTGCGAT'])\n",
    "check_sim_cuts('GCRW|TG', dna_seq, ['ATGGCAATAACCCCCCGTTTCTACTTCTAGAGGAGAAAAGTATTGACATGAGCGCTCCCGGCACAAGGGCCAAAGAAGTCTCCAATTTCTTATTTCCGAATGACATGCGTCTCCTTGCGGGTAAATCACCGACCGCAATTCATAGAAGCCTGGGGGAACAGATAGGTCTAATTAGCTTAAGAGAGTAAATCCTGGGATCATTCAGTAGTAACCATAAACTTACGCTGGGGCTTCTTCGGCGGATTTTTACAGTTACCAACCAGGAGATTTGAAGTAAATCAGTTGAGGATTTAGCCGCGCTATCCGGTAATCTCCAAATTAAAACATACCGTTCCATGAAGGCTAGAATTACTTACCGGCCTTTTCCATGCCTGCGCTATACCCCCCCACTCTCCCGCTTATCCGTCCGAGCGGAGGCAGTGCGATCCTCCGTTAAGATATTCTTACGTGTGACGTAGCTATGTATTTTGCAGAGCTGGCGAACGCGT',\n",
    " 'TGAACACTTCACAGATGGTAGGGATTCGGGTAAAGGGCGTATAATTGGGGACTAACATAGGCGTAGACTACGATGGCGCCAACTCAATCGCAGCTCGAGCGCCCTGAATAACGTACTCATCTCAACTCATTCTCGGCAATCTACCGAGCGACTCGATTATCAACGGCTGTCTAGCAGTTCTAATCTTTTGCCAGCATCGTAATAGCCTCCAAGAGATTGATGATAGCTATCGGCACAGAACTGAGACGGCGCCGATGGATAGCGGACTTTCGGTCAACCACAATTCCCCACGGGACAGGTCCTGCGGTGCGCATCACTCTGAATGTACAAGCAACCCAAGTGGGCCGAGCCTGGACTCAGCTGGTTCCTGCGTGAGCTCGAGACTCGGGATGACAGCTCTTTAAACATAGAGCGGGGGCGTCGAACGGTCGAGAAAGTCATAGTACCTCGGGTACCAACTTACTCAGGTTATTGCTTGAAGCTGTACTATTTTAGGGGGGGAGCGCTGAAGGTCTCTTCTTCTCATGACTGAACTCGCGAGGGTCGTGAAGTCGGTTCCTTCAATGGTTAAAAAACAAAGGCTTACTGTGCGCAGAGGAACGCCCATCTAGCGGCTGGCGTCTTGAATGCTCGGTCCCCTTTGTCATTCCGGATTAATCCATTTCCCTCATTCACGAGCTTGCGAAGTCTACATTGGTATATGAATGCGACCTAGAAGAGGGCGCTTAAAATTGGCAGTGGTTGATGCTCTAAACTCCATTTGGTTTACTCGTGCATCACCGCGATAGGCTGACAAAGGTTTAACATTGAATAGCAAGGCACTTCCGGTCTCAATGAACGGCCGGGAAAGGTACGCGCGCGGTATGGGAGGATCAAGGGGCCAATAGAGAGGCTCCTCTCTCACTCGCTAGGAGGCAAATGTAAAACAATGGTTACTGCATCGATACATAAAACATGTCCATCGGTTGCCCAAAGTGTTAAGTGTCTATCACCCCTAGGGCCGTTTCCCGCATATAAACGCCAGGTTGTATCCGCATTTGATGCTACCGTGGATGAGTCTGCGTCGAGCGCGCCGCACGAATGTTGCAA',\n",
    " 'TGTATTGCATGAGTAGGGTTGACTAAGAGCCGTTAGATGCGTCGCTGTACTAATAGTTGTCGACAGACCGTCGAGATTAGAAAATGGTACCAGCATTTTCGGAGGTTCTCTAACTAGTATGGATTGCGGTGTCTTCACTGTGCTGCGGCTACCCATCGCCTGAAATCCAGCTGGTGTCAAGCCATCCCCTCTCCGGGACGCCGCATGTAGTGAAACATATACGTTGCACGGGTTCACCGCGGTCCGTTCTGAGTCGACCAAGGACACAATCGAGCTCCGATCCGTACCCTCGACAAACTTGTACCCGACCCCCGGAGCTTGCCAGCTCCTCGGGTATCATGGAGCCTGTGGTTCATCGCGTCCGATATCAAACTTCGTCATGATAAAGTCCCCCCCTCGGGAGTACCAGAGAAGATGACTACTGAGTTGTGCGAT'])\n",
    "\n",
    "print(\"\\n(Passed second tests of Exercise 1!)\")"
   ]
  },
  {
   "cell_type": "markdown",
   "metadata": {
    "id": "6UBtu1ToviO0",
    "nbgrader": {
     "grade": false,
     "grade_id": "cell-4383bcff86fc7c83",
     "locked": true,
     "schema_version": 1,
     "solution": false
    }
   },
   "source": [
    "**Fin!** If you've reached this point and all tests above pass, your biologist friend thanks you and you are ready to submit your solution to this problem. Don't forget to save you work prior to submitting.\n",
    "\n",
    "Portions of this problem were inspired by a fun book called [Python for Biologists](https://pythonforbiologists.com/python-books)."
   ]
  }
 ],
 "metadata": {
  "celltoolbar": "Create Assignment",
  "colab": {
   "include_colab_link": true,
   "provenance": []
  },
  "kernelspec": {
   "display_name": "Python 3 (ipykernel)",
   "language": "python",
   "name": "python3"
  },
  "language_info": {
   "codemirror_mode": {
    "name": "ipython",
    "version": 3
   },
   "file_extension": ".py",
   "mimetype": "text/x-python",
   "name": "python",
   "nbconvert_exporter": "python",
   "pygments_lexer": "ipython3",
   "version": "3.12.7"
  }
 },
 "nbformat": 4,
 "nbformat_minor": 4
}
