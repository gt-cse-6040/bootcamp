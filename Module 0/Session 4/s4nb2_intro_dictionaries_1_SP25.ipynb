{
  "cells": [
    {
      "cell_type": "markdown",
      "metadata": {
        "id": "view-in-github",
        "colab_type": "text"
      },
      "source": [
        "<a href=\"https://colab.research.google.com/github/gt-cse-6040/bootcamp/blob/main/Module%200/Session%204/s4nb2_intro_dictionaries_1_SP25.ipynb\" target=\"_parent\"><img src=\"https://colab.research.google.com/assets/colab-badge.svg\" alt=\"Open In Colab\"/></a>"
      ]
    },
    {
      "cell_type": "markdown",
      "metadata": {
        "id": "xUZ9IPTzd5KD"
      },
      "source": [
        "# Python Data Structures: Dictionaries"
      ]
    },
    {
      "cell_type": "markdown",
      "metadata": {
        "id": "4KQqgA-5d5KI"
      },
      "source": [
        "### What Data Structures Have we Already Discussed?"
      ]
    },
    {
      "cell_type": "markdown",
      "metadata": {
        "id": "uwJ8YI9ad5KI"
      },
      "source": [
        "You should already be familiar with the following data structures:\n",
        "\n",
        "- Tuples\n",
        "  - Immutable\n",
        "  - Ordered (in a \"sequence\")\n",
        "  - Indexed by position\n",
        "- Lists\n",
        "  - Mutable\n",
        "  - Ordered (in a \"sequence\")\n",
        "  - Indexed by position\n",
        "- Sets\n",
        "  - Mutable\n",
        "  - Unordered\n",
        "  - Unique (no repeated values)\n",
        "\n",
        "We have already discussed some of the key properties of these data structures in this bootcamp. Please see the relevant notebooks for further details, or check the relevant sections of the [Types Page in the Python Documentation](https://docs.python.org/3/library/stdtypes.html) if you want even more information."
      ]
    },
    {
      "cell_type": "markdown",
      "metadata": {
        "id": "Iv9t96QOd5KJ"
      },
      "source": [
        "## Overview of Dictionaries"
      ]
    },
    {
      "cell_type": "markdown",
      "metadata": {
        "id": "A-lz29dAd5KJ"
      },
      "source": [
        "### Dictionaries Map \"Keys\" to \"Values\""
      ]
    },
    {
      "cell_type": "markdown",
      "metadata": {
        "id": "gZn9Xmvpd5KJ"
      },
      "source": [
        "Dictionaries are Python's implementation of a [hash table data structure](https://en.wikipedia.org/wiki/Hash_table). (Reference and link for folks who want to know the \"under the covers\" details.)\n",
        "\n",
        "They make it easy to pair a **key** with a **value**. This makes it possible for us to group similar pieces of information together *and* give them some sort of name, or ID. For example:"
      ]
    },
    {
      "cell_type": "code",
      "execution_count": null,
      "metadata": {
        "id": "gXHdqGbBd5KJ"
      },
      "outputs": [],
      "source": [
        "exam_scores = {\n",
        "    \"Student 1\": 0.89,\n",
        "    \"Student 2\": 0.74,\n",
        "    \"Student 3\": 0.97,\n",
        "    \"Student 4\": 0.83\n",
        "}"
      ]
    },
    {
      "cell_type": "code",
      "execution_count": null,
      "metadata": {
        "id": "cCyTBAcXmCfk"
      },
      "outputs": [],
      "source": [
        "exam_scores"
      ]
    },
    {
      "cell_type": "markdown",
      "metadata": {
        "id": "63yXhOVDd5KJ"
      },
      "source": [
        "This is similar to how dictionaries work in real life! If we know a **word**, we can look up the **definition**.\n",
        "\n",
        "In Python, if we know the **key**, we can look up the **value**."
      ]
    },
    {
      "cell_type": "markdown",
      "metadata": {
        "id": "Oc4jn2HjmCfm"
      },
      "source": [
        "#### The site PythonTutor is fantastic for visualizing data structures.\n",
        "\n",
        "Let's take our exam_scores dictionary over there and see what it looks like.\n",
        "\n",
        "https://pythontutor.com/python-debugger.html#mode=edit\n"
      ]
    },
    {
      "cell_type": "markdown",
      "metadata": {
        "id": "wvnSqdtid5KJ"
      },
      "source": [
        "### Examples of Key-Value Pairs"
      ]
    },
    {
      "cell_type": "markdown",
      "metadata": {
        "id": "KUMF1UsLd5KJ"
      },
      "source": [
        "We see relationships between keys and values in a myriad of places in the real world. Here are a few examples.\n",
        "\n",
        "- Matching employee email addresses (keys) with their legal names (values)\n",
        "- Matching a sports team (key) with their season record (value)\n",
        "- Matching a TV show (key) with its episode ratings (values)"
      ]
    },
    {
      "cell_type": "markdown",
      "metadata": {
        "id": "Pxm3oGAhd5KJ"
      },
      "source": [
        "### Properties of Dictionaries"
      ]
    },
    {
      "cell_type": "markdown",
      "metadata": {
        "id": "QO6hlGSvd5KJ"
      },
      "source": [
        "Dictionaries have the following properties, relevant to our use in this class:\n",
        "\n",
        "- **Ordered**\n",
        "  - Dictionaries can be ordered, as of Python 3.7.\n",
        "  - In this class, we don't work with ordering of dictionaries, for the most part\n",
        "  - See this article, for a good overview of ordered dictionaries:\n",
        "         https://www.geeksforgeeks.org/are-python-dictionaries-ordered/\n",
        "         \n",
        "- **Unique Keys, Arbitrary Values**\n",
        "  - **A dictionary can only contain one value for a given key.**\n",
        "  - A dictionary can have many keys pointing to the same value.\n",
        "\n",
        "\n",
        "- **Indexable through a key-based index**\n",
        "  - They allow you to access their values by using keys.\n",
        "\n",
        "\n",
        "- **Mutable**\n",
        "  - They support in-place mutations and changes to their contained values.\n",
        "  - They support growing or shrinking operations.\n",
        "\n",
        "\n",
        "- **Heterogeneous**\n",
        "  - They can store keys and values of different data types and domains.\n",
        "    - Dictionary values may be mutable or immutable.\n",
        "    - Dictionary keys **must be immutable**.\n",
        "\n",
        "\n",
        "- **Nestable**\n",
        "  - Their values can consist of arbitrary data. For example, you may build a dictionary of dictionaries.\n",
        "\n",
        "\n",
        "- **Iterable**\n",
        "  - They support iteration, so you can traverse them using a loop or comprehension while you perform operations on **each of their keys**.\n",
        "\n",
        "\n",
        "- **Unsliceable**\n",
        "  - Extracting a subset of elements from a dictionary will require using filtering.\n",
        "\n",
        "\n",
        "- **Combinable**\n",
        "  - They support concatenation operations, so you can combine two or more dictionaries using the merge operation.\n",
        "  - This can be done to update the existing dictionary, or create a new dictionary.\n",
        "\n",
        "\n",
        "Let's look at some examples of how to use dictionaries in Python."
      ]
    },
    {
      "cell_type": "markdown",
      "metadata": {
        "id": "PGg5cf1ud5KJ"
      },
      "source": [
        "## Basic Dictionary Use"
      ]
    },
    {
      "cell_type": "markdown",
      "metadata": {
        "id": "L2C7fWe5d5KK"
      },
      "source": [
        "### Construction"
      ]
    },
    {
      "cell_type": "markdown",
      "metadata": {
        "id": "ucou8f5gd5KK"
      },
      "source": [
        "There are two main ways to create a Python dictionary:\n",
        "\n",
        "1. Using Curly Braces (also called a \"literal\")\n",
        "2. Using the `dict()` function\n",
        "\n",
        "Let's see some examples. The following code will create two empty dictionaries, and then populate them with values."
      ]
    },
    {
      "cell_type": "code",
      "execution_count": null,
      "metadata": {
        "id": "3W4EdgPAd5KK"
      },
      "outputs": [],
      "source": [
        "# Constructing a new Dictionary\n",
        "dictionary1 = {} # Curly braces method\n",
        "dictionary2 = dict() # Dict method\n",
        "\n",
        "# Populate the dictionary\n",
        "dictionary1[\"key1\"] = \"value1\"\n",
        "dictionary2[\"key2\"] = \"value2\"\n",
        "\n",
        "# remember f strings?\n",
        "print(f\"Dictionary 1: {dictionary1}\")\n",
        "print(f\"Dictionary 2: {dictionary2}\")"
      ]
    },
    {
      "cell_type": "markdown",
      "metadata": {
        "id": "SXXjkMCVd5KK"
      },
      "source": [
        "We'll talk more about lines 4-6 (\"Populate the Dictionary\") in the [Growing and Shrinking](#growing-and-shrinking) section.\n",
        "\n",
        "What if we already have a collection of keys and values? We can use any of the following methods to create the dictionary:"
      ]
    },
    {
      "cell_type": "code",
      "execution_count": null,
      "metadata": {
        "id": "-O15y2sed5KK"
      },
      "outputs": [],
      "source": [
        "# Keyword argument list\n",
        "dictionary1 = dict(key1=\"value1\", key2=\"value2\")\n",
        "\n",
        "# Dictionary literal\n",
        "dictionary2 = {\"key3\":\"value3\", \"key4\":\"value4\"}\n",
        "\n",
        "# List of tuples\n",
        "dictionary3 = dict([\n",
        "    (\"key5\", \"value5\"),\n",
        "    (\"key6\", \"value6\")\n",
        "])\n",
        "\n",
        "# Display the dictionary\n",
        "print(f\"Dictionary 1: {dictionary1}\")\n",
        "print(f\"Dictionary 2: {dictionary2}\")\n",
        "print(f\"Dictionary 3: {dictionary3}\")"
      ]
    },
    {
      "cell_type": "markdown",
      "metadata": {
        "id": "guiwMj-Id5KK"
      },
      "source": [
        "### Indexing"
      ]
    },
    {
      "cell_type": "markdown",
      "metadata": {
        "id": "0Kgx9ondd5KK"
      },
      "source": [
        "We can think of the act of \"looking up\" a value for a given key as a type of **indexing**. Actually, we've already seen indexing when we looked at lists and tuples! Let's recap how that works.\n",
        "\n",
        "- Lists and tuples facilitate **indexing** by *ordering* their values.\n",
        "- We can use the order of the sequence to index by using integers.\n",
        "  - The index is the *position* of the value in the sequence. For example:"
      ]
    },
    {
      "cell_type": "code",
      "execution_count": null,
      "metadata": {
        "id": "Bx9Bj_4qd5KK"
      },
      "outputs": [],
      "source": [
        "# Say we have a list of four food items\n",
        "food_items = [\"apple\" , \"chicken\" , \"eggs\" , \"bread\"]\n",
        "# What is the value in position 2? (remember, we start at 0)\n",
        "food_items[2]"
      ]
    },
    {
      "cell_type": "markdown",
      "metadata": {
        "id": "3OxBu8Kvd5KK"
      },
      "source": [
        "Python's syntax for indexing values from a list/tuple and a dictionary are identical! However, instead of using a *position* (remember, dictionaries have *no order*), we use the **key** to index the **value**."
      ]
    },
    {
      "cell_type": "code",
      "execution_count": null,
      "metadata": {
        "id": "hwyPYyDKd5KK"
      },
      "outputs": [],
      "source": [
        "# Maybe we want to keep track of how many containers we have of each food?\n",
        "food_items = {\n",
        "    \"apple\": 2,\n",
        "    \"chicken\": 1,\n",
        "    \"eggs\": 4,\n",
        "    \"bread\": 2\n",
        "}\n",
        "# How many containers of eggs do we have?\n",
        "food_items[\"eggs\"]"
      ]
    },
    {
      "cell_type": "markdown",
      "metadata": {
        "id": "DBbKojiYd5KK"
      },
      "source": [
        "What happens if we try to index on a key which isn't in the dictionary?"
      ]
    },
    {
      "cell_type": "code",
      "execution_count": null,
      "metadata": {
        "id": "zPlMwNHmd5KK"
      },
      "outputs": [],
      "source": [
        "# How much candy do we have?\n",
        "try:\n",
        "    food_items[\"candy\"]\n",
        "except KeyError:\n",
        "    print(\"Uh oh! This will give you an error!\")"
      ]
    },
    {
      "cell_type": "markdown",
      "metadata": {
        "id": "LS1S16AUd5KK"
      },
      "source": [
        "We can see that this causes Python to raise an KeyError! One way to avoid this problem is to use the `.get()` method.\n",
        "\n",
        "This allows you to specify a default value if the key is not present in the dictionary.\n",
        "\n",
        "You could also use a Default Dictionary, which we will discuss later."
      ]
    },
    {
      "cell_type": "markdown",
      "metadata": {
        "id": "_aAA4cx9CXUe"
      },
      "source": [
        "See this document for a good overview of the dictionary .get() method:  https://www.geeksforgeeks.org/python-dictionary-get-method/"
      ]
    },
    {
      "cell_type": "code",
      "execution_count": null,
      "metadata": {
        "id": "ztQsdO9td5KK"
      },
      "outputs": [],
      "source": [
        "# Let's use .get() instead\n",
        "food_items.get(\"candy\", 0)"
      ]
    },
    {
      "cell_type": "markdown",
      "metadata": {
        "id": "cDweur3zCXUe"
      },
      "source": [
        "Note that the .get() method **does not** actually add the new key to the dictionary.\n",
        "\n",
        "It returns either the value at the key, or the default value, if the key does not exist in the dictionary."
      ]
    },
    {
      "cell_type": "code",
      "execution_count": null,
      "metadata": {
        "id": "1f3q-OqmCXUe"
      },
      "outputs": [],
      "source": [
        "# raises a key error, uncomment to run the cell\n",
        "# display(food_items[\"candy\"])"
      ]
    },
    {
      "cell_type": "markdown",
      "metadata": {
        "id": "0Q87kJrYd5KL"
      },
      "source": [
        "### Iteration"
      ]
    },
    {
      "cell_type": "markdown",
      "metadata": {
        "id": "zN4krn0Od5KL"
      },
      "source": [
        "We can treat Python Dictionaries as *iterables*. This means we can loop over them like we can with lists or tuples.\n",
        "\n",
        "- You **should not rely on the elements being presented in a certain order**.\n",
        "- Iterating over a dictionary will iterate over the **keys**, not the values!"
      ]
    },
    {
      "cell_type": "code",
      "execution_count": null,
      "metadata": {
        "id": "wp-KuUdyd5KL"
      },
      "outputs": [],
      "source": [
        "# Create a Harry Potter dictionary\n",
        "harry_potter_dict = {\n",
        "    \"Harry Potter\": \"Gryffindor\",\n",
        "    \"Ron Weasley\": \"Gryffindor\",\n",
        "    \"Hermione Granger\": \"Gryffindor\",\n",
        "    \"Draco Malfoy\": \"Slytherin\"\n",
        "}\n",
        "\n",
        "# Let's see which house each character belongs to\n",
        "for character in harry_potter_dict:\n",
        "    # We can use the key to get the value when we iterate!\n",
        "    house = harry_potter_dict[character]\n",
        "    # Print the result\n",
        "    print(f\"{character} belongs to {house} house.\")"
      ]
    },
    {
      "cell_type": "markdown",
      "metadata": {
        "id": "NmhYHzUWd5KO"
      },
      "source": [
        "### Dictionary Size and Checking for Membership"
      ]
    },
    {
      "cell_type": "markdown",
      "metadata": {
        "id": "M_CGrXOvd5KO"
      },
      "source": [
        "- We can use the `len()` function to determine how many keys are in our dictionary.\n",
        "- We can use the `key in d` expression to determine whether a key is in a dictionary."
      ]
    },
    {
      "cell_type": "code",
      "execution_count": null,
      "metadata": {
        "id": "16ma6BSOd5KO"
      },
      "outputs": [],
      "source": [
        "# How many characters are in our dictionary?\n",
        "print(len(harry_potter_dict))\n",
        "\n",
        "# Is Harry Potter one of the keys?\n",
        "print(\"Harry Potter\" in harry_potter_dict)"
      ]
    },
    {
      "cell_type": "markdown",
      "metadata": {
        "id": "q84F7JvLd5KO"
      },
      "source": [
        "### Adding Elements"
      ]
    },
    {
      "cell_type": "markdown",
      "metadata": {
        "id": "S_uwcgmmd5KO"
      },
      "source": [
        "We can dynamically add elements to a Python dictionary. Let's look at how we can do that.\n",
        "\n",
        "- Method 1: \"Assign\" a value to a non-existent key.\n",
        "- Method 2: Use the `.update()` method to add many keys and values at the same time.\n",
        "  - We can store new key-value pairs in a dictionary or an iterable\n",
        "- Method 3: Use the `.setdefault()` method to add a key and value, but *only if the key does not already exist.*\n",
        "\n",
        "**IMPORTANT**: Methods 1 and 2 will **remap** the existing values for the given keys! If this is not what you want to have happen, you should implement a check where you see whether a key is already in the dictionary before assigning a value (or use Method 3)."
      ]
    },
    {
      "cell_type": "code",
      "execution_count": null,
      "metadata": {
        "id": "pLzSkeljd5KO"
      },
      "outputs": [],
      "source": [
        "# This is a helper function for printing our dictionaries\n",
        "from pprint import pprint\n",
        "\n",
        "# Create a Harry Potter dictionary\n",
        "harry_potter_dict = {\n",
        "    \"Harry Potter\": \"Gryffindor\",\n",
        "    \"Hermione Granger\": \"Gryffindor\"\n",
        "}\n",
        "\n",
        "# Custom printer (ignore)\n",
        "def pretty_print(text):\n",
        "    print(text)\n",
        "    pprint(harry_potter_dict)\n",
        "\n",
        "# Display the dictionary\n",
        "pretty_print(\"Starting Dictionary: \")"
      ]
    },
    {
      "cell_type": "code",
      "execution_count": null,
      "metadata": {
        "id": "Tg27uy_Xd5KP"
      },
      "outputs": [],
      "source": [
        "# METHOD 1 ------------------------------------------------------------\n",
        "harry_potter_dict[\"Ron Weasley\"] = \"Gryffindor\"\n",
        "\n",
        "# Display the dictionary\n",
        "pretty_print(\"After Method 1:\")"
      ]
    },
    {
      "cell_type": "code",
      "execution_count": null,
      "metadata": {
        "id": "lPLJGN6Yd5KP"
      },
      "outputs": [],
      "source": [
        "# METHOD 2 ------------------------------------------------------------\n",
        "# Use a dictionary to update a dictionary\n",
        "add_characters_1 = {\n",
        "    \"Albus Dumbledore\": \"Gryffindor\",\n",
        "    \"Luna Lovegood\": \"Ravenclaw\"\n",
        "}\n",
        "\n",
        "# Use iterables to update a dictionary\n",
        "add_characters_2 = [\n",
        "    [\"Draco Malfoy\", \"Slytherin\"],\n",
        "    [\"Cedric Diggory\", \"Hufflepuff\"]\n",
        "]\n",
        "\n",
        "# Merge dictionaries\n",
        "harry_potter_dict.update(add_characters_1)\n",
        "harry_potter_dict.update(add_characters_2)\n",
        "\n",
        "# Display the dictionary\n",
        "pretty_print(\"After Method 2:\")"
      ]
    },
    {
      "cell_type": "code",
      "execution_count": null,
      "metadata": {
        "id": "SWfmP5L6d5KP"
      },
      "outputs": [],
      "source": [
        "# METHOD 3 ------------------------------------------------------------\n",
        "# Adding a new character, but only if the key doesn't already exist\n",
        "harry_potter_dict.setdefault(\"Rubeus Hagrid\", \"Gryffindor\")\n",
        "\n",
        "# Let's try to add a character to the wrong house\n",
        "harry_potter_dict.setdefault(\"Harry Potter\", \"Slytherin\")\n",
        "\n",
        "# Display the dictionary (Notice Harry Potter's House hasn't changed)\n",
        "pretty_print(\"After Method 3:\")"
      ]
    },
    {
      "cell_type": "markdown",
      "metadata": {
        "id": "C21mMK1wd5KP"
      },
      "source": [
        "### Removing Elements"
      ]
    },
    {
      "cell_type": "markdown",
      "metadata": {
        "id": "X4Sr4FpDd5KP"
      },
      "source": [
        "We can also dynamically remove elements from a Python dictionary.\n",
        "\n",
        "- Method 1: Use the `del` keyword.\n",
        "  - **WARNING:** This will cause Python to raise an error if the key does not exist in your dictionary already!\n",
        "- Method 2: Use the `.pop()` method.\n",
        "  - If you specify a default value, this will not raise an error if the key does not exist."
      ]
    },
    {
      "cell_type": "code",
      "execution_count": null,
      "metadata": {
        "id": "gkdpkxUmd5KP"
      },
      "outputs": [],
      "source": [
        "# METHOD 1 ------------------------------------------------------------\n",
        "if \"Ron Weasley\" in harry_potter_dict:\n",
        "    del harry_potter_dict[\"Ron Weasley\"]\n",
        "\n",
        "# Display the dictionary\n",
        "pretty_print(\"After Method 1:\")"
      ]
    },
    {
      "cell_type": "code",
      "execution_count": null,
      "metadata": {
        "id": "pUHTmlYgd5KP"
      },
      "outputs": [],
      "source": [
        "# METHOD 2 ------------------------------------------------------------\n",
        "harry_potter_dict.pop(\"Draco Malfoy\", None)\n",
        "\n",
        "# This key isn't in the dictionary, so if we don't specify a \"Default\"\n",
        "# value (specified as None here), Python will raise an error\n",
        "harry_potter_dict.pop(\"Bilbo Baggins\", None)\n",
        "\n",
        "# Display the dictionary\n",
        "pretty_print(\"After Method 2:\")"
      ]
    },
    {
      "cell_type": "markdown",
      "metadata": {
        "id": "icqGxj1Id5KP"
      },
      "source": [
        "### Mutating"
      ]
    },
    {
      "cell_type": "markdown",
      "metadata": {
        "id": "RGjDG2NGd5KP"
      },
      "source": [
        "Remember, dictionary keys must be *unique*. If we assign a new value to an existing key, the dictionary will remap the relationship!"
      ]
    },
    {
      "cell_type": "code",
      "execution_count": null,
      "metadata": {
        "id": "uhzDEzhcd5KP"
      },
      "outputs": [],
      "source": [
        "# Remapping with assignment\n",
        "harry_potter_dict[\"Harry Potter\"] = \"GRADUATED\"\n",
        "\n",
        "# Remapping with .update()\n",
        "harry_potter_dict.update({\n",
        "    \"Hermione Granger\": \"GRADUATED\",\n",
        "    \"Albus Dumbledore\": \"INSTRUCTOR\",\n",
        "    \"Rubeus Hagrid\": \"INSTRUCTOR\"\n",
        "})\n",
        "\n",
        "# Display the dictionary\n",
        "pretty_print(\"Harry Potter has now graduated!\")"
      ]
    },
    {
      "cell_type": "markdown",
      "metadata": {
        "id": "LFv3Ftfvd5KQ"
      },
      "source": [
        "If the value associated with a key is mutable, we can change the value and the dictionary value will reflect those changes. Here's an example."
      ]
    },
    {
      "cell_type": "code",
      "execution_count": null,
      "metadata": {
        "id": "czp_QXRUd5KQ"
      },
      "outputs": [],
      "source": [
        "# Create a list, which is mutable\n",
        "fruits = [\"apple\", \"pear\", \"blueberry\"]\n",
        "\n",
        "# Create a dictionary, where one of the values is the list\n",
        "food_types = {\n",
        "    \"fruits\": fruits\n",
        "}\n",
        "\n",
        "# Add a new value to the list\n",
        "fruits.append(\"kiwi\")\n",
        "# Do the same thing by indexing into the dictionary\n",
        "food_types[\"fruits\"].append(\"banana\")\n",
        "\n",
        "# What does the dictionary contain now?\n",
        "print(food_types)"
      ]
    },
    {
      "cell_type": "markdown",
      "metadata": {
        "id": "g_-neo2Sd5KQ"
      },
      "source": [
        "### .keys(), .values(), and .items()"
      ]
    },
    {
      "cell_type": "markdown",
      "metadata": {
        "id": "e__Y4iNvd5KQ"
      },
      "source": [
        "Each of these methods will let you access the contents of the dictionary as a *sequence*.\n",
        "\n",
        "- `.keys()` will fetch the keys.\n",
        "- `.values()` will fetch the values.\n",
        "- `.items()` will return 2-element tuples containing the key and the value."
      ]
    },
    {
      "cell_type": "code",
      "execution_count": null,
      "metadata": {
        "id": "BlvTrguPd5KQ"
      },
      "outputs": [],
      "source": [
        "print(harry_potter_dict.keys())"
      ]
    },
    {
      "cell_type": "code",
      "execution_count": null,
      "metadata": {
        "id": "AYQxmX42CXUj"
      },
      "outputs": [],
      "source": [
        "# loop over the keys\n",
        "for key in harry_potter_dict.keys():\n",
        "    print(key)"
      ]
    },
    {
      "cell_type": "code",
      "execution_count": null,
      "metadata": {
        "id": "mgkWDAUXd5KQ"
      },
      "outputs": [],
      "source": [
        "print(harry_potter_dict.values())"
      ]
    },
    {
      "cell_type": "code",
      "execution_count": null,
      "metadata": {
        "id": "A-hRU06kCXUj"
      },
      "outputs": [],
      "source": [
        "# loop over the values\n",
        "for value in (harry_potter_dict.values()):\n",
        "    print(value)"
      ]
    },
    {
      "cell_type": "code",
      "execution_count": null,
      "metadata": {
        "id": "_VoiGsVnd5KQ"
      },
      "outputs": [],
      "source": [
        "print(harry_potter_dict.items())"
      ]
    },
    {
      "cell_type": "code",
      "execution_count": null,
      "metadata": {
        "id": "ZbKbW-MeCXUj"
      },
      "outputs": [],
      "source": [
        "for k,v in harry_potter_dict.items():\n",
        "    print(\"key:\", k)\n",
        "    print(\"value:\", v)\n",
        "    print(\"returned tuple:\",(k,v))\n",
        "    print(\"\\n\")"
      ]
    },
    {
      "cell_type": "markdown",
      "metadata": {
        "id": "qBUMA0NVCXUj"
      },
      "source": [
        "### Heterogeneous Python Dictionaries"
      ]
    },
    {
      "cell_type": "markdown",
      "metadata": {
        "id": "oFWmrj6vCXUj"
      },
      "source": [
        "So far, we have mainly seen dictionaries which consistently map one *type* of data to another type.\n",
        "\n",
        "- For example, the key is a string and the value is an integer.\n",
        "\n",
        "However, we can use any hashable (which usually means immutable) type as a key in a dictionary, and *any* type as a value.\n",
        "\n",
        "Python dictionaries allow you to mix and match within a dictionary. The dictionary below has two entries with the following structure:\n",
        "\n",
        "- Key: tuple -> Value: list\n",
        "- Key: string -> Value: dictionary\n",
        "  - Key: string -> Value: int\n",
        "  - Key: int -> Value: tuple"
      ]
    },
    {
      "cell_type": "code",
      "execution_count": null,
      "metadata": {
        "id": "vsZR5RACCXUj"
      },
      "outputs": [],
      "source": [
        "messy_dictionary = {\n",
        "    (1, 2): [\"This\", \"is\", \"a\", \"list\", \"with\", \"a\", \"tuple\", \"key\"],\n",
        "    \"dict key\": {\n",
        "        \"example_key\": 1,\n",
        "        0: (3, \"10\")\n",
        "    }\n",
        "}"
      ]
    },
    {
      "cell_type": "code",
      "execution_count": null,
      "metadata": {
        "id": "lkoSluCLCXUj"
      },
      "outputs": [],
      "source": [
        "messy_dictionary"
      ]
    },
    {
      "cell_type": "markdown",
      "metadata": {
        "id": "0uW1TJo7CXUj"
      },
      "source": [
        "- We're showing you this to point out that you *can* do it.\n",
        "- However, you should probably be thinking very carefully before you do something like this.\n",
        "- Remember, the point of data structures is usually to **group similar pieces of data together**. If you're mixing and matching data types to this degree, your data might not be meaningfully similar enough to store it in one place.\n",
        "  - If you do this sort of thing, you should be acutely aware of how your code might produce unexpected results."
      ]
    },
    {
      "cell_type": "markdown",
      "metadata": {
        "id": "GCetnBAcd5KQ"
      },
      "source": [
        "## Summary"
      ]
    },
    {
      "cell_type": "markdown",
      "metadata": {
        "id": "246TdK5Sd5KQ"
      },
      "source": [
        "- Dictionaries let you map keys to values.\n",
        "  - You can use them to group similar collections of data and associate the data with meaningful IDs, such as names.\n",
        "- Dictionaries are mutable.\n",
        "  - You can easily add, change, and remove their contents.\n",
        "- There are often several ways to perform the same task with dictionaries.\n",
        "  - Check the documentation if you're not sure how to do a specific operation."
      ]
    }
  ],
  "metadata": {
    "colab": {
      "provenance": [],
      "include_colab_link": true
    },
    "kernelspec": {
      "display_name": "Python 3 (ipykernel)",
      "language": "python",
      "name": "python3"
    },
    "language_info": {
      "codemirror_mode": {
        "name": "ipython",
        "version": 3
      },
      "file_extension": ".py",
      "mimetype": "text/x-python",
      "name": "python",
      "nbconvert_exporter": "python",
      "pygments_lexer": "ipython3",
      "version": "3.9.13"
    }
  },
  "nbformat": 4,
  "nbformat_minor": 0
}