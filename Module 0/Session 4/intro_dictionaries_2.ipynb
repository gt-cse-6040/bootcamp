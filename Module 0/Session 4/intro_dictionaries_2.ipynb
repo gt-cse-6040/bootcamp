{
 "cells": [
  {
   "cell_type": "markdown",
   "metadata": {
    "id": "CBoCSgXveH5t"
   },
   "source": [
    "# Python Data Structures: Dictionaries Pt. 2"
   ]
  },
  {
   "cell_type": "markdown",
   "metadata": {
    "id": "T3_Z66exeH5v"
   },
   "source": [
    "## More Complex Dictionary Use"
   ]
  },
  {
   "cell_type": "markdown",
   "metadata": {
    "id": "mzk5bsK1eH51"
   },
   "source": [
    "### Heterogeneous Python Dictionaries"
   ]
  },
  {
   "cell_type": "markdown",
   "metadata": {
    "id": "Rj7ecdyBeH52"
   },
   "source": [
    "So far, we have mainly seen dictionaries which consistently map one *type* of data to another type.\n",
    "\n",
    "- For example, the key is a string and the value is an integer.\n",
    "\n",
    "However, we can use any hashable (which usually means immutable) type as a key in a dictionary, and *any* type as a value.\n",
    "\n",
    "Python dictionaries allow you to mix and match within a dictionary. The dictionary below has two entries with the following structure:\n",
    "\n",
    "- Key: tuple -> Value: list\n",
    "- Key: string -> Value: dictionary\n",
    "  - Key: string -> Value: int\n",
    "  - Key: int -> Value: tuple"
   ]
  },
  {
   "cell_type": "code",
   "execution_count": null,
   "metadata": {
    "id": "Az0udTCneH52"
   },
   "outputs": [],
   "source": [
    "messy_dictionary = {\n",
    "    (1, 2): [\"This\", \"is\", \"a\", \"list\", \"with\", \"a\", \"tuple\", \"key\"],\n",
    "    \"dict key\": {\n",
    "        \"example_key\": 1,\n",
    "        0: (3, \"10\")\n",
    "    }\n",
    "}"
   ]
  },
  {
   "cell_type": "code",
   "execution_count": null,
   "metadata": {},
   "outputs": [],
   "source": [
    "messy_dictionary"
   ]
  },
  {
   "cell_type": "markdown",
   "metadata": {
    "id": "umS7uL6JeH53"
   },
   "source": [
    "- We're showing you this to point out that you *can* do it.\n",
    "- However, you should probably be thinking very carefully before you do something like this.\n",
    "- Remember, the point of data structures is usually to **group similar pieces of data together**. If you're mixing and matching data types to this degree, your data might not be meaningfully similar enough to store it in one place.\n",
    "  - If you do this sort of thing, you should be acutely aware of how your code might produce unexpected results."
   ]
  },
  {
   "cell_type": "markdown",
   "metadata": {
    "id": "WLfNL0aJeH54"
   },
   "source": [
    "## Dictionary-Like Containers: Counters and Default Dictionaries"
   ]
  },
  {
   "cell_type": "markdown",
   "metadata": {
    "id": "TamMblqceH54"
   },
   "source": [
    "### Why Do These Exist?"
   ]
  },
  {
   "cell_type": "markdown",
   "metadata": {
    "id": "wendG1k_eH54"
   },
   "source": [
    "Dictionaries are very flexible data structures. There are a few common use-cases for them, and it might be nice to have something slightly customized for those purposes.\n",
    "- These types are provided through Python's built-in [Collections module](https://docs.python.org/3/library/collections.html#). Follow this link for more details.\n",
    "- We'll be focusing on the following types here:\n",
    "  - Counters\n",
    "  - Default Dictionaries\n",
    "- **N.B.** Counters and Default Dictionaries are just subclasses of dictionaries\n",
    "  - We can verify this by running the following code cell\n",
    "  - It shows us that counters and default dictionaries are, in fact, dictionaries"
   ]
  },
  {
   "cell_type": "code",
   "execution_count": null,
   "metadata": {
    "id": "xQrRkuRTeH54",
    "outputId": "f32ebc1b-daf4-455e-d693-b2435912099f"
   },
   "outputs": [],
   "source": [
    "from collections import Counter, defaultdict\n",
    "print(\"Is a counter a dictionary?\", isinstance(Counter(), dict))\n",
    "print(\"Is a default dictionary a dictionary?\", isinstance(defaultdict(), dict))"
   ]
  },
  {
   "cell_type": "markdown",
   "metadata": {
    "id": "8p-lTpjOeH54"
   },
   "source": [
    "### Counters"
   ]
  },
  {
   "cell_type": "markdown",
   "metadata": {
    "id": "TEdDCtmweH54"
   },
   "source": [
    "[Counters](https://docs.python.org/3/library/collections.html#collections.Counter) allow us to quickly and easily build dictionaries which store the count of elements contained in an iterable.\n",
    "- For example, suppose we wish to count the number of occurrences of a character in a string.\n",
    "  - Here's a sample string: `s = \"bbbaaaabaaa\"`\n",
    "  - In this case, `'a'` occurs 7 times and `'b'` occurs 4 times.\n",
    "- Let's say we want to construct a dictionary `count` such that `count['a'] == 7` and `count['b'] == 4`.\n",
    "  - Method 1 in the cell below does _not_ work! Try uncommenting it to see.\n",
    "    - We need to initialize the count to 0 for every new unique key.\n",
    "  - Method 2 works, but is pretty verbose. Do we really have to write all of this every time we want to count elements and store them in a dictionary?"
   ]
  },
  {
   "cell_type": "code",
   "execution_count": null,
   "metadata": {
    "id": "WS_7VWGyeH54",
    "outputId": "2950d3bf-2192-4ca5-86a2-1b067086b83d"
   },
   "outputs": [],
   "source": [
    "# Defining our string\n",
    "s = \"bbbaaaabaaa\"\n",
    "\n",
    "# METHOD 1 (does not work!) -------------------------------------------\n",
    "#count = {}\n",
    "#for c in s:\n",
    "#    count[c] += 1\n",
    "#count\n",
    "\n",
    "# METHOD 2 (works, but pretty long!) ----------------------------------\n",
    "# Create an empty dictionary\n",
    "count = {}\n",
    "for c in s:\n",
    "    # Check for membership\n",
    "    if c not in count:\n",
    "        count[c] = 0\n",
    "    assert c in count\n",
    "    # Update the count\n",
    "    count[c] += 1\n",
    "count"
   ]
  },
  {
   "cell_type": "markdown",
   "metadata": {
    "id": "Rks7VGsseH54"
   },
   "source": [
    "Counters let us do this automatically. Here's the same task, but by using a counter."
   ]
  },
  {
   "cell_type": "code",
   "execution_count": null,
   "metadata": {
    "id": "-Kt_tyzceH54",
    "outputId": "37d8d4e5-bf79-4ba6-cd31-f4a6761bfaba"
   },
   "outputs": [],
   "source": [
    "from collections import Counter\n",
    "\n",
    "# Create the counter\n",
    "count = Counter(s)\n",
    "print ('Initial :', count)\n",
    "\n",
    "# We can add to it by supplying a new iterable and using .update()\n",
    "count.update('abcdaab')\n",
    "print ('Updated:', count)\n",
    "\n",
    "# If a value hasn't occurred, our counter won't throw an error!\n",
    "print('How many times have we seen the letter \"z\"? ', count[\"z\"])"
   ]
  },
  {
   "cell_type": "markdown",
   "metadata": {
    "id": "Tk5QgjdieH55"
   },
   "source": [
    "### Default Dictionaries"
   ]
  },
  {
   "cell_type": "markdown",
   "metadata": {
    "id": "v104O9EqeH55"
   },
   "source": [
    "Sometimes, you might want to create a dictionary which is guaranteed to behave in certain ways when you try to index on a non-existent key. We can do this with [Default Dictionaries](https://docs.python.org/3/library/collections.html#defaultdict-objects).\n",
    "\n",
    "- Remember, we can use `.get()` to get a default value.\n",
    "  - However, we'll need to specify the default value *each time* we try to retrieve a value\n",
    "  - The default value will *not* be automatically added to the dictionary\n",
    "- Default Dictionaries let us automatically insert a value into the dictionary when we try to index on a non-existent key.\n",
    "  - We do this by giving it a function, which will return some value by default.\n",
    "  - Let's look at an example."
   ]
  },
  {
   "cell_type": "code",
   "execution_count": null,
   "metadata": {
    "id": "wPVOPGhBeH55",
    "outputId": "521780f2-943d-419b-c37a-bafa2be3f9ff"
   },
   "outputs": [],
   "source": [
    "# Let's create a counter-like dictionary\n",
    "default_count = defaultdict(int)\n",
    "\n",
    "# If a key doesn't exist, it will default to 0 and be added to the\n",
    "# dictionary\n",
    "for c in s:\n",
    "    default_count[c] += 1\n",
    "\n",
    "display(default_count)"
   ]
  },
  {
   "cell_type": "code",
   "execution_count": null,
   "metadata": {},
   "outputs": [],
   "source": [
    "# What if we want to create a dictionary which returns a string?\n",
    "# Let's assume we have a starting dictionary\n",
    "harry_potter_dict = {\n",
    "    \"Harry Potter\": \"Gryffindor\",\n",
    "    \"Ron Weasley\": \"Gryffindor\",\n",
    "    \"Hermione Granger\": \"Gryffindor\",\n",
    "    \"Luna Lovegood\": \"Ravenclaw\",\n",
    "    \"Draco Malfoy\": \"Slytherin\",\n",
    "    \"Cedric Diggory\": \"Hufflepuff\"\n",
    "}"
   ]
  },
  {
   "cell_type": "code",
   "execution_count": null,
   "metadata": {},
   "outputs": [],
   "source": [
    "# Now, create a default dictionary\n",
    "harry_potter_default = defaultdict(str, harry_potter_dict)\n",
    "display(harry_potter_default)\n",
    "\n",
    "# What happens if we try to index on a non-existent key?\n",
    "print(\"Dumbledore's house is:\", harry_potter_default[\"Albus Dumbeldore\"])\n",
    "display(harry_potter_default)"
   ]
  },
  {
   "cell_type": "markdown",
   "metadata": {},
   "source": [
    "Note that the default dictionary created the new key, with an empty string as the value.\n",
    "\n",
    "There is a way to define an actual default value, using a **lambda** function. As we have not yet covered what **lambda** functions are or how to use them, we will reference this article and leave it for students to review on their own.\n",
    "\n",
    "https://www.geeksforgeeks.org/defaultdict-in-python/\n"
   ]
  },
  {
   "cell_type": "markdown",
   "metadata": {
    "id": "9uc3hH8WeH59"
   },
   "source": [
    "## Summary"
   ]
  },
  {
   "cell_type": "markdown",
   "metadata": {
    "id": "FeSCQJNVeH5-"
   },
   "source": [
    "- Dictionaries can be used to group other data containers, like lists, tuples, and even other dictionaries.\n",
    "- The [Collections module](https://docs.python.org/3/library/collections.html#) gives us access to Counters and Default Dictionaries.\n",
    "  - These make common tasks which use dictionaries even easier."
   ]
  },
  {
   "cell_type": "code",
   "execution_count": null,
   "metadata": {},
   "outputs": [],
   "source": []
  }
 ],
 "metadata": {
  "colab": {
   "include_colab_link": true,
   "provenance": []
  },
  "kernelspec": {
   "display_name": "Python 3 (ipykernel)",
   "language": "python",
   "name": "python3"
  },
  "language_info": {
   "codemirror_mode": {
    "name": "ipython",
    "version": 3
   },
   "file_extension": ".py",
   "mimetype": "text/x-python",
   "name": "python",
   "nbconvert_exporter": "python",
   "pygments_lexer": "ipython3",
   "version": "3.9.13"
  }
 },
 "nbformat": 4,
 "nbformat_minor": 1
}
