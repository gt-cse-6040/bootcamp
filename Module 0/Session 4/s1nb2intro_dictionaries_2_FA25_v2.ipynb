{
 "cells": [
  {
   "cell_type": "markdown",
   "metadata": {
    "id": "CBoCSgXveH5t"
   },
   "source": [
    "# Python Data Structures: Dictionaries Pt. 2"
   ]
  },
  {
   "cell_type": "markdown",
   "metadata": {
    "id": "WLfNL0aJeH54"
   },
   "source": [
    "## Dictionary-Like Containers: Counters and Default Dictionaries"
   ]
  },
  {
   "cell_type": "markdown",
   "metadata": {
    "id": "TamMblqceH54"
   },
   "source": [
    "### Why Do These Exist?"
   ]
  },
  {
   "cell_type": "markdown",
   "metadata": {
    "id": "wendG1k_eH54"
   },
   "source": [
    "Dictionaries are very flexible data structures. There are a few common use-cases for them, and it might be nice to have something slightly customized for those purposes.\n",
    "- These types are provided through Python's built-in [Collections module](https://docs.python.org/3/library/collections.html#). Follow this link for more details.\n",
    "- We'll be focusing on the following types here:\n",
    "  - Counters: Counts the number of times each item appears.\n",
    "  - Default Dictionaries: A special kind of dictionary that provides a default value when a key doesn’t exist, so the code doesn't break because of non-existent key.\n",
    "- **N.B.** Counters and Default Dictionaries are just subclasses of dictionaries\n",
    "  - We can verify this by running the following code cell\n",
    "  - It shows us that counters and default dictionaries are, in fact, dictionaries"
   ]
  },
  {
   "cell_type": "markdown",
   "metadata": {},
   "source": [
    "#### You will see these two structures used in many homework notebooks and practice exams.\n",
    "\n",
    "#### What you will want to do is understand the scenarios when these two data structures are most useful, and apply them.\n",
    "\n",
    "#### We are introducing the two data structures here, with the expectation that students will become proficient in their applicability and usage through their own practice, with the homework notebooks and practice exams."
   ]
  },
  {
   "cell_type": "code",
   "execution_count": null,
   "metadata": {
    "id": "xQrRkuRTeH54"
   },
   "outputs": [],
   "source": [
    "from collections import Counter, defaultdict\n",
    "print(\"Is a counter a dictionary?\", isinstance(Counter(), dict))\n",
    "print(\"Is a default dictionary a dictionary?\", isinstance(defaultdict(), dict))"
   ]
  },
  {
   "cell_type": "markdown",
   "metadata": {
    "id": "8p-lTpjOeH54"
   },
   "source": [
    "### Counters"
   ]
  },
  {
   "cell_type": "markdown",
   "metadata": {
    "id": "TEdDCtmweH54"
   },
   "source": [
    "[Counters](https://docs.python.org/3/library/collections.html#collections.Counter) allow us to quickly and easily build dictionaries which store the count of elements contained in an iterable.\n",
    "- For example, suppose we wish to count the number of occurrences of a character in a string.\n",
    "  - Here's a sample string: `s = \"bbbaaaabaaa\"`\n",
    "  - In this case, `'a'` occurs 7 times and `'b'` occurs 4 times.\n",
    "- Let's say we want to construct a dictionary `count` such that `count['a'] == 7` and `count['b'] == 4`.\n",
    "  - The method below works, but is pretty verbose. Do we really have to write all of this every time we want to count elements and store them in a dictionary?"
   ]
  },
  {
   "cell_type": "markdown",
   "metadata": {
    "id": "RxKpBHbwCYVH"
   },
   "source": [
    "### NB: You want to be proficient with counters"
   ]
  },
  {
   "cell_type": "code",
   "execution_count": null,
   "metadata": {
    "id": "WS_7VWGyeH54"
   },
   "outputs": [],
   "source": [
    "# Defining our string\n",
    "s = \"bbbaaaabaaa\"\n",
    "\n",
    "# Create an empty dictionary to count the letters\n",
    "count = {}\n",
    "\n",
    "for c in s:\n",
    "    # Check for membership\n",
    "    if c not in count:\n",
    "        count[c] = 0\n",
    "    assert c in count\n",
    "    # Update the count\n",
    "    count[c] += 1\n",
    "count"
   ]
  },
  {
   "cell_type": "markdown",
   "metadata": {
    "id": "Rks7VGsseH54"
   },
   "source": [
    "Counters let us do this automatically and efficiently. Here's the same task, but by using a counter."
   ]
  },
  {
   "cell_type": "code",
   "execution_count": null,
   "metadata": {
    "id": "-Kt_tyzceH54"
   },
   "outputs": [],
   "source": [
    "from collections import Counter\n",
    "\n",
    "# Create the counter\n",
    "# remember that the variable \"s\" is the string\n",
    "count = Counter(s)\n",
    "print ('Initial :', count)"
   ]
  },
  {
   "cell_type": "code",
   "execution_count": null,
   "metadata": {
    "id": "JNrVI_MwCYVI"
   },
   "outputs": [],
   "source": [
    "# We can add to it by supplying a new iterable and using .update()\n",
    "count.update('abcdaab')\n",
    "print ('Updated:', count)\n",
    "\n",
    "# If a value hasn't occurred, our counter won't throw an error!\n",
    "print('How many times have we seen the letter \"z\"? ', count[\"z\"])"
   ]
  },
  {
   "cell_type": "markdown",
   "metadata": {
    "id": "Tk5QgjdieH55"
   },
   "source": [
    "### Default Dictionaries"
   ]
  },
  {
   "cell_type": "markdown",
   "metadata": {
    "id": "v104O9EqeH55"
   },
   "source": [
    "Sometimes, you might want to create a dictionary that won't break when you use a key that does not exist (aka, when you try to index on a non-existent key). We can do this with [Default Dictionaries](https://docs.python.org/3/library/collections.html#defaultdict-objects).\n",
    "\n",
    "- A **default dictionary** lets us automatically add a value for a missing key, so we don’t get a `KeyError`.\n",
    "- Instead of checking if a key exists, we just use it — and it gets a default value!\n",
    "- We give it a **function** that returns the value we want by default.\n",
    "\n",
    "**Default Dictionaries** are useful for:\n",
    "  - Keeping a count of items using the keys\n",
    "  - Grouping data easily\n",
    "  - Building complex or nested data structures"
   ]
  },
  {
   "cell_type": "markdown",
   "metadata": {
    "id": "6sK8-QfkCYVI"
   },
   "source": [
    "## NB: Default dictionaries are your friend"
   ]
  },
  {
   "cell_type": "code",
   "execution_count": null,
   "metadata": {
    "id": "wPVOPGhBeH55"
   },
   "outputs": [],
   "source": [
    "# Let's create a counter-like dictionary\n",
    "default_count = defaultdict(int)\n",
    "\n",
    "# If a key doesn't exist, it will default to 0 and be added to the dictionary\n",
    "# walk through the logic of what this does\n",
    "for c in s:\n",
    "    default_count[c] += 1\n",
    "\n",
    "display(default_count)"
   ]
  },
  {
   "cell_type": "code",
   "execution_count": null,
   "metadata": {
    "id": "WKRUaDW1mDaE"
   },
   "outputs": [],
   "source": [
    "# What if we want to create a dictionary which returns a string?\n",
    "# Let's assume we have a starting dictionary\n",
    "harry_potter_dict = {\n",
    "    \"Harry Potter\": \"Gryffindor\",\n",
    "    \"Ron Weasley\": \"Gryffindor\",\n",
    "    \"Hermione Granger\": \"Gryffindor\",\n",
    "    \"Luna Lovegood\": \"Ravenclaw\",\n",
    "    \"Draco Malfoy\": \"Slytherin\",\n",
    "    \"Cedric Diggory\": \"Hufflepuff\"\n",
    "}"
   ]
  },
  {
   "cell_type": "markdown",
   "metadata": {
    "id": "BlzxnrPMN5EF"
   },
   "source": [
    "In this cell below we will show an example of default dictionary with a default string datatype"
   ]
  },
  {
   "cell_type": "code",
   "execution_count": null,
   "metadata": {
    "id": "_wwMrAwnmDaF"
   },
   "outputs": [],
   "source": [
    "# Now, create a default dictionary\n",
    "\n",
    "harry_potter_default = defaultdict(str, harry_potter_dict)\n",
    "display(harry_potter_default)"
   ]
  },
  {
   "cell_type": "code",
   "execution_count": null,
   "metadata": {
    "id": "rwcjmEIPCYVI"
   },
   "outputs": [],
   "source": [
    "# What happens if we try to index on a non-existent key?\n",
    "# what happened here?\n",
    "print(\"Dumbledore's house is:\", harry_potter_default[\"Albus Dumbeldore\"])\n",
    "display(harry_potter_default)"
   ]
  },
  {
   "cell_type": "markdown",
   "metadata": {
    "id": "-pyTMJQAmDaF"
   },
   "source": [
    "Note that the default dictionary created the new key, with an empty string as the value.\n",
    "\n",
    "There is a way to define an actual default value, using a **lambda** function. As we have not yet covered what **lambda** functions are or how to use them, we will reference this article and leave it for students to review on their own.\n",
    "\n",
    "https://www.geeksforgeeks.org/defaultdict-in-python/\n"
   ]
  },
  {
   "cell_type": "markdown",
   "metadata": {
    "id": "9uc3hH8WeH59"
   },
   "source": [
    "## Summary"
   ]
  },
  {
   "cell_type": "markdown",
   "metadata": {
    "id": "FeSCQJNVeH5-"
   },
   "source": [
    "- Dictionaries can be used to group other data containers, like lists, tuples, and even other dictionaries.\n",
    "- The [Collections module](https://docs.python.org/3/library/collections.html#) gives us access to Counters and Default Dictionaries.\n",
    "  - These make common tasks which use dictionaries even easier."
   ]
  },
  {
   "cell_type": "code",
   "execution_count": null,
   "metadata": {
    "id": "H1qR9ohEmDaF"
   },
   "outputs": [],
   "source": []
  }
 ],
 "metadata": {
  "colab": {
   "provenance": []
  },
  "kernelspec": {
   "display_name": "Python 3 (ipykernel)",
   "language": "python",
   "name": "python3"
  },
  "language_info": {
   "codemirror_mode": {
    "name": "ipython",
    "version": 3
   },
   "file_extension": ".py",
   "mimetype": "text/x-python",
   "name": "python",
   "nbconvert_exporter": "python",
   "pygments_lexer": "ipython3",
   "version": "3.12.7"
  }
 },
 "nbformat": 4,
 "nbformat_minor": 4
}
