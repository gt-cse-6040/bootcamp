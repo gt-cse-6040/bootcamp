{
 "cells": [
  {
   "cell_type": "markdown",
   "metadata": {
    "id": "hynQdyc-OnwA"
   },
   "source": [
    "# Sorting"
   ]
  },
  {
   "cell_type": "markdown",
   "metadata": {
    "id": "_HGIF5WhOnwH"
   },
   "source": [
    "## Introduction"
   ]
  },
  {
   "cell_type": "markdown",
   "metadata": {
    "id": "NLfq3nj8OnwI"
   },
   "source": [
    "It's common for programmer to want to sort groups of data. For example, we might want to sort a list of employees by their start date. Python provides a built in function for doing this sort of work: `sorted()` (see the [documentation](https://docs.python.org/3/library/functions.html#sorted) for more details).\n",
    "\n",
    "#### Note that the `sorted()` function returns a LIST.\n",
    "- If you need a different type, you'll need to cast it to the new type.\n",
    "\n",
    "\n",
    "Python has an entire tutorial dedicated to [Sorting](https://docs.python.org/3/howto/sorting.html).\n",
    "  - Many of the examples, and even some of the text in this notebook, are taken directly from this tutorial."
   ]
  },
  {
   "cell_type": "markdown",
   "metadata": {},
   "source": [
    "#### This article is also a very good introduction to the `sorted()` function:\n",
    "\n",
    "https://www.w3schools.com/python/ref_func_sorted.asp\n"
   ]
  },
  {
   "cell_type": "markdown",
   "metadata": {
    "id": "63C6bvDuOnwJ"
   },
   "source": [
    "## Simple Sorting, to sort a tuple"
   ]
  },
  {
   "cell_type": "markdown",
   "metadata": {
    "id": "0OnCalhTOnwK"
   },
   "source": [
    "A simple ascending sort is very easy: just call the `sorted()` function. It returns a new sorted list:"
   ]
  },
  {
   "cell_type": "code",
   "execution_count": null,
   "metadata": {
    "id": "VdNQQ84NOnwK",
    "outputId": "4284775a-020e-4ad2-daa4-87c74752ab9e"
   },
   "outputs": [],
   "source": [
    "my_tuple = (5, 2, 3, 1, 4)\n",
    "sorted(my_tuple)"
   ]
  },
  {
   "cell_type": "markdown",
   "metadata": {
    "id": "cl8lLH1DOnwL"
   },
   "source": [
    "- You can pass any iterable to `sorted()`.\n",
    "\n",
    "If we want, we can use the `reverse` keyword to return the items in reverse order:"
   ]
  },
  {
   "cell_type": "code",
   "execution_count": null,
   "metadata": {
    "id": "JsRqwgjcOnwM",
    "outputId": "c0e223b5-1a05-4ec7-94df-1cec58664b10"
   },
   "outputs": [],
   "source": [
    "my_tuple = (5, 2, 3, 1, 4)\n",
    "sorted(my_tuple, reverse=True)"
   ]
  },
  {
   "cell_type": "markdown",
   "metadata": {
    "id": "TI7fSjilOnwM"
   },
   "source": [
    "## Key Functions"
   ]
  },
  {
   "cell_type": "markdown",
   "metadata": {
    "id": "CT-8NarxOnwM"
   },
   "source": [
    "By default, Python will simply use the `<` operator to compare values. So, when determining order of integers, `sorted()` will evaluate the expression `a < b` for various values and use the results to order the items.\n",
    "\n",
    "However, we can call a function on each item *before* this comparison is made. This gives us a lot of power to arbitrarily order our iterables. For example, we can sort a list of tuples by checking the element at the 2nd index."
   ]
  },
  {
   "cell_type": "markdown",
   "metadata": {},
   "source": [
    "We typically do this by using a `lambda` function (which we learned about previously).\n",
    "\n",
    "### This method of sorting, with a `lambda` function, is something that students should know how to use.\n",
    "\n",
    "### Students will have the `OPPORTUNITY` to demonstrate their proficiency with it, throughout the course."
   ]
  },
  {
   "cell_type": "markdown",
   "metadata": {},
   "source": [
    "#### This article has a good walk-through of using `sorted()` with a lambda function:\n",
    "\n",
    "https://www.geeksforgeeks.org/python-program-to-sort-the-list-according-to-the-column-using-lambda/"
   ]
  },
  {
   "cell_type": "markdown",
   "metadata": {},
   "source": [
    "## Sort a list of tuples, using a lambda function"
   ]
  },
  {
   "cell_type": "code",
   "execution_count": null,
   "metadata": {
    "id": "kWRFJLFeOnwN",
    "outputId": "1d245fce-b22d-453f-f69a-8b3adb7c46d1"
   },
   "outputs": [],
   "source": [
    "# Define the list of tuples\n",
    "student_tuples = [\n",
    "    ('Rich', 'A', 15),\n",
    "    ('Chris', 'B', 12),\n",
    "    ('Katie', 'B', 10),\n",
    "    ('Jen', 'A', 14)\n",
    "]"
   ]
  },
  {
   "cell_type": "code",
   "execution_count": null,
   "metadata": {},
   "outputs": [],
   "source": [
    "# Sort in ascending order, by the 3rd element in each tuple --------------------------------------\n",
    "asc_sort = sorted(student_tuples, key=lambda tup: tup[2])\n",
    "asc_sort"
   ]
  },
  {
   "cell_type": "code",
   "execution_count": null,
   "metadata": {},
   "outputs": [],
   "source": [
    "# Sort in descending order, by the 3rd element in each tuple --------------------------------------\n",
    "desc_sort = sorted(student_tuples, key=lambda tup: -tup[2])\n",
    "desc_sort"
   ]
  },
  {
   "cell_type": "markdown",
   "metadata": {},
   "source": [
    "## Sort a list of tuples, using a lambda function, and break a tie if there is one."
   ]
  },
  {
   "cell_type": "markdown",
   "metadata": {},
   "source": [
    "#### This is a very common scenario,  both in this class and out `in the wild`.  HINT, HINT....................\n",
    "\n",
    "- Sort the list in descending order by the second element in ascending order, with ties broken by the third element in descending order"
   ]
  },
  {
   "cell_type": "code",
   "execution_count": null,
   "metadata": {},
   "outputs": [],
   "source": [
    "# Sort in ascending order, by the 2rd element in each tuple\n",
    "# Break any ties by soring on the 3rd element, in descending order\n",
    "# Note that we have to put the two sorts in parenthesis,to define the sorts\n",
    "tiebreaker_sort = sorted(student_tuples, key=lambda tup: (tup[1], -tup[2]))\n",
    "tiebreaker_sort"
   ]
  },
  {
   "cell_type": "markdown",
   "metadata": {},
   "source": [
    "#### What about the scenario in which we not only want to sort the list of tuples, but we only want to return A `TOP` or `BOTTOM` number of tuples (and not the entire list)? HINT, HINT................\n",
    "\n",
    "- Use `SLICING` to return the correct elements."
   ]
  },
  {
   "cell_type": "code",
   "execution_count": null,
   "metadata": {},
   "outputs": [],
   "source": [
    "# return the top X number of elements in the list\n",
    "X = 2\n",
    "tiebreaker_sort_top_X = tiebreaker_sort[:X]\n",
    "tiebreaker_sort_top_X "
   ]
  },
  {
   "cell_type": "code",
   "execution_count": null,
   "metadata": {},
   "outputs": [],
   "source": [
    "# return the bottom X number of elements in the list\n",
    "tiebreaker_sort_bottom_X = tiebreaker_sort[-X:]\n",
    "tiebreaker_sort_bottom_X "
   ]
  },
  {
   "cell_type": "markdown",
   "metadata": {},
   "source": [
    "#### These two articles have a good walk-throughs of using `SLICING` to get the first/last number of elements of a list:\n",
    "\n",
    "https://www.geeksforgeeks.org/how-to-get-first-n-items-from-a-list-in-python/\n",
    "\n",
    "https://www.geeksforgeeks.org/python-get-last-n-elements-from-given-list/"
   ]
  },
  {
   "cell_type": "markdown",
   "metadata": {
    "id": "f7Cn6K9LOnwN"
   },
   "source": [
    "## Sorting a dictionary (basic)"
   ]
  },
  {
   "cell_type": "markdown",
   "metadata": {
    "id": "dH5BOjEqOnwN"
   },
   "source": [
    "Remember that dictionaries are iterable! This means we can sort their contents and put them into a list. Here's a basic example."
   ]
  },
  {
   "cell_type": "code",
   "execution_count": null,
   "metadata": {
    "id": "qJ62_09HOnwN",
    "outputId": "bb6a6c73-9689-4241-a7bb-0fe05b8f3ae5"
   },
   "outputs": [],
   "source": [
    "students = {\n",
    "    'Aditi': 98,\n",
    "    'Li': 86,\n",
    "    'John': 93\n",
    "}"
   ]
  },
  {
   "cell_type": "code",
   "execution_count": null,
   "metadata": {},
   "outputs": [],
   "source": [
    "# Let's sort them by their grades in descending order\n",
    "# We have broken out the components of the sorted()\n",
    "# function, so that students can easily understand each component.\n",
    "sorted_students = sorted(students,\n",
    "                            # For each name, use the value from `students`\n",
    "                            # to order the results\n",
    "                            key=lambda name: students[name],\n",
    "                            \n",
    "                             reverse=True\n",
    ")\n",
    "print(\"Students, ranked by highest grades to lowest:\", sorted_students)"
   ]
  },
  {
   "cell_type": "markdown",
   "metadata": {},
   "source": [
    "## Sorting a Counter dictionary (advanced)"
   ]
  },
  {
   "cell_type": "markdown",
   "metadata": {},
   "source": [
    "#### Recall that a `Counter` object returns a dictionary in which the keys are the items in question (words, names, numbers, for example) and the value is the number/count of the items.\n",
    "\n",
    "We may want to sort some list of items and return the TOP or BOTTOM number of those items.  **HINT, HINT...........**"
   ]
  },
  {
   "cell_type": "code",
   "execution_count": null,
   "metadata": {},
   "outputs": [],
   "source": [
    "# define a basic Counter dictionary\n",
    "from collections import Counter\n",
    "a = Counter([1, 2, 21, 12, 2, 44, 5,\n",
    "              13, 15, 5, 19, 21, 5,\n",
    "              1, 2, 21, 12, 2, 44, 5,\n",
    "               2, 12, 44, 19])\n",
    "display(a)\n",
    "display(dict(a))"
   ]
  },
  {
   "cell_type": "code",
   "execution_count": null,
   "metadata": {},
   "outputs": [],
   "source": [
    "# recall that the items() function of a dictionary\n",
    "# returns an iterable list of tuples, of the key-value pairs\n",
    "# the key is the first tuple element, and the value is the second tuple element\n",
    "a.items()"
   ]
  },
  {
   "cell_type": "markdown",
   "metadata": {},
   "source": [
    "**A couple of basic operations.**"
   ]
  },
  {
   "cell_type": "code",
   "execution_count": null,
   "metadata": {},
   "outputs": [],
   "source": [
    "# sort the counter by the key, which is the first element of the tuple output\n",
    "sorted_counter_first = sorted(a.items(), key = lambda x: x[0])  \n",
    "sorted_counter_first"
   ]
  },
  {
   "cell_type": "code",
   "execution_count": null,
   "metadata": {},
   "outputs": [],
   "source": [
    "# sort the counter by the value, which is the second element of the tuple output, in descending order\n",
    "sorted_counter_second = sorted(a.items(), key = lambda x: -x[1])\n",
    "sorted_counter_second"
   ]
  },
  {
   "cell_type": "markdown",
   "metadata": {},
   "source": [
    "**Sort the Counter object by the count in descending order, break the ties by the key in ascending order, and return the top and bottom 4 tuples in the list.**"
   ]
  },
  {
   "cell_type": "code",
   "execution_count": null,
   "metadata": {},
   "outputs": [],
   "source": [
    "sorted_counter_complex = sorted(a.items(), key = lambda x: (-x[1], x[0]))\n",
    "sorted_counter_complex"
   ]
  },
  {
   "cell_type": "code",
   "execution_count": null,
   "metadata": {},
   "outputs": [],
   "source": [
    "Y = 4\n",
    "tiebreaker_sort_top_Y = sorted_counter_complex[:Y]\n",
    "tiebreaker_sort_top_Y "
   ]
  },
  {
   "cell_type": "code",
   "execution_count": null,
   "metadata": {},
   "outputs": [],
   "source": [
    "tiebreaker_sort_bottom_Y = sorted_counter_complex[-Y:]\n",
    "tiebreaker_sort_bottom_Y "
   ]
  },
  {
   "cell_type": "markdown",
   "metadata": {
    "id": "9JhNxCZ-OnwN"
   },
   "source": [
    "## Final Thoughts: Using `sorted()`"
   ]
  },
  {
   "cell_type": "markdown",
   "metadata": {
    "id": "hayAnW42OnwN"
   },
   "source": [
    "Using `sorted()` **does not change the original iterable.** It simply returns a new list.\n",
    "\n",
    "### We `HIGHLY RECOMMEND` that students use the `sorted()` function with basic Python data structures in this course.\n",
    "\n",
    "**Python contains other means of sorting its basic data structures, which we will not cover here.**\n",
    "\n",
    "### Again, students should look to use the `sorted()` function for lists/tuples/dictionaries throughout this course."
   ]
  },
  {
   "cell_type": "markdown",
   "metadata": {
    "id": "CW8Hz23XOnwO"
   },
   "source": [
    "### What are your questions on sorting?"
   ]
  },
  {
   "cell_type": "code",
   "execution_count": null,
   "metadata": {},
   "outputs": [],
   "source": []
  }
 ],
 "metadata": {
  "colab": {
   "include_colab_link": true,
   "provenance": []
  },
  "kernelspec": {
   "display_name": "Python 3 (ipykernel)",
   "language": "python",
   "name": "python3"
  },
  "language_info": {
   "codemirror_mode": {
    "name": "ipython",
    "version": 3
   },
   "file_extension": ".py",
   "mimetype": "text/x-python",
   "name": "python",
   "nbconvert_exporter": "python",
   "pygments_lexer": "ipython3",
   "version": "3.9.13"
  }
 },
 "nbformat": 4,
 "nbformat_minor": 1
}
