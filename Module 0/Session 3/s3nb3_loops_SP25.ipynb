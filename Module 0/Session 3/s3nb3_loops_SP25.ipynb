{
  "cells": [
    {
      "cell_type": "markdown",
      "metadata": {
        "id": "view-in-github",
        "colab_type": "text"
      },
      "source": [
        "<a href=\"https://colab.research.google.com/github/gt-cse-6040/bootcamp/blob/main/Module%200/Session%203/s3nb3_loops_SP25.ipynb\" target=\"_parent\"><img src=\"https://colab.research.google.com/assets/colab-badge.svg\" alt=\"Open In Colab\"/></a>"
      ]
    },
    {
      "cell_type": "markdown",
      "id": "b389798d",
      "metadata": {
        "id": "b389798d"
      },
      "source": [
        "# Loops"
      ]
    },
    {
      "cell_type": "markdown",
      "id": "0c45749d",
      "metadata": {
        "id": "0c45749d"
      },
      "source": [
        "## Python Loop Types\n",
        "\n",
        "#### `for` loops\n",
        "\n",
        "#### `while` loops"
      ]
    },
    {
      "cell_type": "markdown",
      "id": "d394674b",
      "metadata": {
        "id": "d394674b"
      },
      "source": [
        "### `for` loops\n",
        "\n",
        "`for` loops are for iterating over a collection (like a list or tuple) or an iterater. The standard syntax for a for loop is:\n",
        "\n",
        "**********************\n",
        "\n",
        "`for` value in collection:\n",
        "    \n",
        "    # do something with value"
      ]
    },
    {
      "cell_type": "code",
      "execution_count": null,
      "id": "e21f5dd8",
      "metadata": {
        "id": "e21f5dd8",
        "scrolled": true
      },
      "outputs": [],
      "source": [
        "# Simple example\n",
        "# Iterating over a list\n",
        "print(\"List Iteration\")\n",
        "\n",
        "l = [\"msa\", \"cse\", \"6040\"]\n",
        "for i in l:\n",
        "    print(i)"
      ]
    },
    {
      "cell_type": "markdown",
      "id": "2ce96519",
      "metadata": {
        "id": "2ce96519"
      },
      "source": [
        "#### You can advance a `for` loop to the next iteration, skipping the remainder of the block, using the `continue` keyword.\n",
        "\n",
        "See the below example, which sums up integers in a list and skips None values:"
      ]
    },
    {
      "cell_type": "code",
      "execution_count": null,
      "id": "cca0b30a",
      "metadata": {
        "id": "cca0b30a"
      },
      "outputs": [],
      "source": [
        "lst_example = [1, 2, None, 4, None, 5]\n",
        "total = 0\n",
        "\n",
        "for value in lst_example:\n",
        "    if value is None:\n",
        "        continue\n",
        "    total += value\n",
        "\n",
        "display(total)"
      ]
    },
    {
      "cell_type": "markdown",
      "id": "096fb688",
      "metadata": {
        "id": "096fb688"
      },
      "source": [
        "#### A `for` loop can be exited altogether with the `break` keyword.\n",
        "\n",
        "This code sums elements of the list until a 5 is reached:"
      ]
    },
    {
      "cell_type": "code",
      "execution_count": null,
      "id": "c342cba6",
      "metadata": {
        "id": "c342cba6"
      },
      "outputs": [],
      "source": [
        "lst_example_2 = [1, 2, 0, 4, 6, 5, 2, 1]\n",
        "total_up_to_5 = 0\n",
        "\n",
        "for value in lst_example_2:\n",
        "    if value == 5:\n",
        "        break\n",
        "    total_up_to_5 += value\n",
        "\n",
        "display(total_up_to_5)"
      ]
    },
    {
      "cell_type": "markdown",
      "id": "241de4bb",
      "metadata": {
        "id": "241de4bb"
      },
      "source": [
        "#### Note that the `break` keyword only terminates the innermost loop, if the loop running is an interior loop in a series of nested loops.\n",
        "\n",
        "#### Outer for loops in the nested loop structure will continue to run. We will show an example of this in the next notebook, with ranges."
      ]
    },
    {
      "cell_type": "markdown",
      "id": "f4d30267",
      "metadata": {
        "id": "f4d30267"
      },
      "source": [
        "## `while` loops\n",
        "\n",
        "#### A `while` loop specifies a condition and a block of code that is to be executed until the condition evaluates to `False` or the loop is explicitly ended with `break.`\n",
        "\n",
        "#### When the condition becomes false, the line immediately after the loop in the program is executed.\n",
        "\n",
        "The standard syntax for a `while` loop is as follows:\n",
        "\n",
        "*************************************\n",
        "\n",
        "`while` (expression to evaluate):\n",
        "    \n",
        "    statement(s) that do/does something"
      ]
    },
    {
      "cell_type": "code",
      "execution_count": null,
      "id": "0b9075e2",
      "metadata": {
        "id": "0b9075e2"
      },
      "outputs": [],
      "source": [
        "# Simple example\n",
        "\n",
        "count = 0\n",
        "\n",
        "while (count < 3):\n",
        "    count = count + 1\n",
        "    print(count)\n",
        "\n",
        "print(\"the end\")"
      ]
    },
    {
      "cell_type": "code",
      "execution_count": null,
      "id": "4c786317",
      "metadata": {
        "id": "4c786317"
      },
      "outputs": [],
      "source": [
        "# Simple example with break\n",
        "# Walk through the logic\n",
        "x = 256\n",
        "total = 0\n",
        "\n",
        "while x > 0:\n",
        "    if total > 500:\n",
        "        break\n",
        "    total += x\n",
        "    print(total)\n",
        "\n",
        "print(\"out of the while loop\")\n",
        "print(total)"
      ]
    },
    {
      "cell_type": "markdown",
      "id": "f4ff1d48",
      "metadata": {
        "id": "f4ff1d48"
      },
      "source": [
        "### A `while` loop can be used with an `else` statement.\n",
        "\n",
        "#### The `else` clause is only executed when your `while` condition becomes `False`. If you break out of the loop, or if an exception is raised, it won’t be executed.\n",
        "\n",
        "#### Why would you want to use a `while..else` conditional structure?\n",
        "\n",
        "This allows you to control what happens when the `while` condition fails, directly in the `while` loop itself. This is very good for readability and control in your code, because you can see, **right there in the loop** what happens when the condition fails.\n",
        "\n",
        "So this is actually a **very good way** of executing your `while` loops.\n"
      ]
    },
    {
      "cell_type": "markdown",
      "id": "27687a4e",
      "metadata": {
        "id": "27687a4e"
      },
      "source": [
        "This is the syntax:\n",
        "\n",
        "********************************\n",
        "\n",
        "while condition:\n",
        "     \n",
        "     # execute these statements\n",
        "\n",
        "else:\n",
        "    \n",
        "     # execute these statements"
      ]
    },
    {
      "cell_type": "code",
      "execution_count": null,
      "id": "ec61d09b",
      "metadata": {
        "id": "ec61d09b"
      },
      "outputs": [],
      "source": [
        "# simple example\n",
        "# walk through the logic after running the cell\n",
        "count = 0\n",
        "\n",
        "while (count < 3):\n",
        "    count = count + 1\n",
        "    print(count)\n",
        "else:\n",
        "    print(\"In else block\")\n",
        "    print(count)"
      ]
    },
    {
      "cell_type": "markdown",
      "id": "65036242",
      "metadata": {
        "id": "65036242"
      },
      "source": [
        "### What are your questions on `for` and `while` loops?"
      ]
    }
  ],
  "metadata": {
    "colab": {
      "provenance": [],
      "include_colab_link": true
    },
    "kernelspec": {
      "display_name": "Python 3 (ipykernel)",
      "language": "python",
      "name": "python3"
    },
    "language_info": {
      "codemirror_mode": {
        "name": "ipython",
        "version": 3
      },
      "file_extension": ".py",
      "mimetype": "text/x-python",
      "name": "python",
      "nbconvert_exporter": "python",
      "pygments_lexer": "ipython3",
      "version": "3.9.13"
    }
  },
  "nbformat": 4,
  "nbformat_minor": 5
}