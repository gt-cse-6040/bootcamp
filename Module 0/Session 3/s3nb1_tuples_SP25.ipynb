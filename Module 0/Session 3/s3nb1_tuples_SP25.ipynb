{
 "cells": [
  {
   "cell_type": "markdown",
   "id": "945c9b8f",
   "metadata": {
    "id": "945c9b8f"
   },
   "source": [
    "# Python Sequences:  Tuples"
   ]
  },
  {
   "cell_type": "markdown",
   "id": "8ad7d700",
   "metadata": {
    "id": "8ad7d700"
   },
   "source": [
    "### Sequence Types in Python\n",
    "\n",
    "#### Sequences are containers with items stored in a deterministic ordering. The individual items can be addressed by their position within the sequence.\n",
    "\n",
    "#### Each sequence data type comes with its unique capabilities. `Tuples`, `ranges`, `lists`, and `strings` are all sequence types. We covered strings last session, and we will be covering the other three in this session.\n",
    "\n",
    "#### Sequence Type documentation link:  https://docs.python.org/3/library/stdtypes.html#typesseq"
   ]
  },
  {
   "cell_type": "markdown",
   "id": "67b6f9a5",
   "metadata": {
    "id": "67b6f9a5"
   },
   "source": [
    "#### Sequences types can be either mutable or immutable.\n",
    "\n",
    "Tuples and range objects are immutable (they cannot be changed).\n",
    "\n",
    "Lists are mutable (they can be changed)."
   ]
  },
  {
   "cell_type": "markdown",
   "id": "1ce6c6ff",
   "metadata": {
    "id": "1ce6c6ff"
   },
   "source": [
    "#### Sequences support operations which are common across the different types of sequences, for both mutable and immutable types. You will use most all of these operations in the class, either in homework notebooks or exams.\n",
    "\n",
    "The screen shot below is from the Python documentation (link above). These common operations can be done on both mutable (`lists`) and immutable (`tuples`, `ranges`, `strings`) sequence types. We will demonstrate some of them in the session today.\n",
    "\n",
    "![seq_ops.png](https://github.com/gt-cse-6040/bootcamp/blob/main/Module%200/Session%203/seq_ops.png?raw=1)"
   ]
  },
  {
   "cell_type": "markdown",
   "id": "f214b0c4",
   "metadata": {
    "id": "f214b0c4"
   },
   "source": [
    "### Now let's look at `tuples`."
   ]
  },
  {
   "cell_type": "markdown",
   "id": "ff96c14e",
   "metadata": {
    "id": "ff96c14e"
   },
   "source": [
    "In Python, a tuple is a built-in data type that allows you to create immutable sequences of values. The values or items in a tuple can be of any type. This makes tuples pretty useful in those situations where you need to store heterogeneous data, like that in a database record, for example.\n",
    "\n",
    "#### Tuple documentation link:  https://docs.python.org/3/tutorial/datastructures.html#tuples-and-sequences\n",
    "\n",
    "#### Some good pages on tuples:  \n",
    "\n",
    "https://www.geeksforgeeks.org/tuples-in-python/\n",
    "\n",
    "https://www.w3schools.com/python/python_tuples.asp\n",
    "\n",
    "https://realpython.com/python-tuple/"
   ]
  },
  {
   "cell_type": "markdown",
   "id": "579dda09",
   "metadata": {
    "id": "579dda09"
   },
   "source": [
    "### Tuples have the following properties, relevant to our use in the class:\n",
    "\n",
    "**Ordered**: They contain elements that are sequentially arranged according to their specific insertion order.\n",
    "\n",
    "**Indexable through a zero-based index**: They allow you to access their elements by integer indices that start from zero.\n",
    "\n",
    "**Immutable**: They don’t support in-place mutations or changes to their contained elements. They don’t support growing or shrinking operations.\n",
    "\n",
    "**Heterogeneous**: They can store objects of different data types and domains, including mutable objects.\n",
    "\n",
    "**Nestable**: They can contain other tuples, so you can have tuples of tuples.\n",
    "\n",
    "**Iterable**: They support iteration, so you can traverse them using a loop or comprehension while you perform operations with each of their elements.\n",
    "\n",
    "**Sliceable**: They support slicing operations, meaning that you can extract a series of elements from a tuple.\n",
    "\n",
    "**Combinable**: They support concatenation operations, so you can combine two or more tuples using the concatenation operators, which creates a new tuple.\n",
    "\n",
    "**Hashable**: They can work as keys in dictionaries when all the tuple items are immutable.\n",
    "\n",
    "### So let's look at some examples."
   ]
  },
  {
   "cell_type": "code",
   "execution_count": null,
   "id": "33ae94e5",
   "metadata": {
    "id": "33ae94e5"
   },
   "outputs": [],
   "source": [
    "# note the different data types\n",
    "tuple_1 = (\"CSE6040\", 29, 15.4, True)\n",
    "\n",
    "display(type(tuple_1))"
   ]
  },
  {
   "cell_type": "code",
   "execution_count": null,
   "id": "c0acd53e",
   "metadata": {
    "id": "c0acd53e"
   },
   "outputs": [],
   "source": [
    "# addressing elements of a tuple\n",
    "display(tuple_1[0])\n",
    "display(tuple_1[3])"
   ]
  },
  {
   "cell_type": "code",
   "execution_count": null,
   "id": "e9b06573",
   "metadata": {
    "id": "e9b06573"
   },
   "outputs": [],
   "source": [
    "# tuples are immutable\n",
    "# commented out to prevent error\n",
    "# uncomment to show\n",
    "# tuple_1[0] = \"ISYE6501\""
   ]
  },
  {
   "cell_type": "code",
   "execution_count": null,
   "id": "c29a5829",
   "metadata": {
    "id": "c29a5829"
   },
   "outputs": [],
   "source": [
    "# slicing notation for a tuple\n",
    "display(tuple_1[:2])\n",
    "display(tuple_1[0:5:2])"
   ]
  },
  {
   "cell_type": "code",
   "execution_count": null,
   "id": "4a7b64fe",
   "metadata": {
    "id": "4a7b64fe"
   },
   "outputs": [],
   "source": [
    "# length operation\n",
    "display(len(tuple_1))"
   ]
  },
  {
   "cell_type": "code",
   "execution_count": null,
   "id": "38e9bb07",
   "metadata": {
    "id": "38e9bb07"
   },
   "outputs": [],
   "source": [
    "# tuples can be nested\n",
    "tuple_2 = (\"CSE6040\", 29, 15.4, True,(\"ISYE6501\",\"MGT8803\"))"
   ]
  },
  {
   "cell_type": "code",
   "execution_count": null,
   "id": "788ebc07",
   "metadata": {
    "id": "788ebc07"
   },
   "outputs": [],
   "source": [
    "display(tuple_2[4])\n",
    "display(type(tuple_2[4]))"
   ]
  },
  {
   "cell_type": "code",
   "execution_count": null,
   "id": "92dbcd2a",
   "metadata": {
    "id": "92dbcd2a"
   },
   "outputs": [],
   "source": [
    "# nested tuples can hold other data types in their nesting\n",
    "tuple_3 = (\"CSE6040\", 29, 15.4, True,(\"ISYE6501\",\"MGT8803\"),[33,44,55])\n",
    "display(tuple_3[5])\n",
    "display(type(tuple_3[5]))"
   ]
  },
  {
   "cell_type": "markdown",
   "id": "83021064",
   "metadata": {
    "id": "83021064"
   },
   "source": [
    "One last note on tuples and immutability.\n",
    "\n",
    "Tuples are immutable, but if you store a mutable object within a tuple, then you can change that object within the tuple. The tuple will not let you change that element of the tuple to something different, but you can change the object elements themselves.\n",
    "\n",
    "This is not a tuple capability that we will be requiring you to do in this class, but we show it simply for completeness of functionality.\n",
    "\n",
    "Also, the example addresses nested data elements and uses nesting syntax, which we will cover in detail in the next notebook on lists, so don't worry about picking it up yet.\n",
    "\n",
    "See this example."
   ]
  },
  {
   "cell_type": "code",
   "execution_count": null,
   "id": "8c3453a0",
   "metadata": {
    "id": "8c3453a0"
   },
   "outputs": [],
   "source": [
    "# nested tuples can hold other data types in their nesting\n",
    "tuple_4 = (\"CSE6040\", 29, 15.4, True,(\"ISYE6501\",\"MGT8803\"),[33,44,55])\n",
    "display(tuple_4[5])\n",
    "display(tuple_4[5][2])"
   ]
  },
  {
   "cell_type": "code",
   "execution_count": null,
   "id": "c6c7d396",
   "metadata": {
    "id": "c6c7d396"
   },
   "outputs": [],
   "source": [
    "# change the value of the 3rd item in the list\n",
    "tuple_4[5][2] = 66\n",
    "display(tuple_4[5])"
   ]
  },
  {
   "cell_type": "markdown",
   "id": "90d4387e",
   "metadata": {
    "id": "90d4387e"
   },
   "source": [
    "#### What are your questions on tuples?"
   ]
  }
 ],
 "metadata": {
  "colab": {
   "include_colab_link": true,
   "provenance": []
  },
  "kernelspec": {
   "display_name": "Python 3 (ipykernel)",
   "language": "python",
   "name": "python3"
  },
  "language_info": {
   "codemirror_mode": {
    "name": "ipython",
    "version": 3
   },
   "file_extension": ".py",
   "mimetype": "text/x-python",
   "name": "python",
   "nbconvert_exporter": "python",
   "pygments_lexer": "ipython3",
   "version": "3.9.13"
  }
 },
 "nbformat": 4,
 "nbformat_minor": 5
}
