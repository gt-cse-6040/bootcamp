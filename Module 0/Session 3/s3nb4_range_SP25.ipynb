{
 "cells": [
  {
   "cell_type": "markdown",
   "id": "945c9b8f",
   "metadata": {
    "id": "945c9b8f"
   },
   "source": [
    "# Python Sequences:  Range Objects"
   ]
  },
  {
   "cell_type": "markdown",
   "id": "633f54f6",
   "metadata": {
    "id": "633f54f6"
   },
   "source": [
    "### Range Objects\n",
    "\n",
    "#### The `range()` function returns a sequence of numbers, starting from 0 by default, and increments by 1 (by default), and stops before a specified number.\n",
    "\n",
    "**Range objects are typically used in looping operations.**\n",
    "\n",
    "The `range()` syntax is:  range(start, stop, step). The `start` and `step` parameters are optional. If not specified, `start` will be 0 and `step` will be 1.\n",
    "\n",
    "#### Range object documentation links:  https://docs.python.org/3/library/stdtypes.html#ranges\n",
    "\n",
    "https://docs.python.org/3/library/functions.html#func-range\n",
    "\n"
   ]
  },
  {
   "cell_type": "code",
   "execution_count": null,
   "id": "289bab01",
   "metadata": {
    "id": "289bab01"
   },
   "outputs": [],
   "source": [
    "range_1 = range(5)\n",
    "display(range_1)"
   ]
  },
  {
   "cell_type": "code",
   "execution_count": null,
   "id": "6937b81d",
   "metadata": {
    "id": "6937b81d"
   },
   "outputs": [],
   "source": [
    "for number in range_1:\n",
    "    print(number)"
   ]
  },
  {
   "cell_type": "code",
   "execution_count": null,
   "id": "cd3f6e6d",
   "metadata": {
    "id": "cd3f6e6d"
   },
   "outputs": [],
   "source": [
    "range_2 = range(0,10,2)\n",
    "display(range_2)"
   ]
  },
  {
   "cell_type": "code",
   "execution_count": null,
   "id": "84a2bf90",
   "metadata": {
    "id": "84a2bf90"
   },
   "outputs": [],
   "source": [
    "for number in range_2:\n",
    "    print(number)"
   ]
  },
  {
   "cell_type": "markdown",
   "id": "2d4e31a8",
   "metadata": {},
   "source": [
    "## Ranges are useful for looping over iterable objects. And this is how you will generally use range objects in this class"
   ]
  },
  {
   "cell_type": "markdown",
   "id": "fab50a4c",
   "metadata": {},
   "source": [
    "### Iterating over a sequence (list in this case) by index, using a `for` loop"
   ]
  },
  {
   "cell_type": "code",
   "execution_count": null,
   "id": "3c5b92d9",
   "metadata": {},
   "outputs": [],
   "source": [
    "course_list = ['msa' , 'cse' , '6040']\n",
    "\n",
    "# output the index number\n",
    "for index in range(len(course_list)):\n",
    "    print(index)"
   ]
  },
  {
   "cell_type": "code",
   "execution_count": null,
   "id": "b7d80549",
   "metadata": {},
   "outputs": [],
   "source": [
    "# output the value at the index\n",
    "for index in range(len(course_list)):\n",
    "    print(course_list[index])"
   ]
  },
  {
   "cell_type": "code",
   "execution_count": null,
   "id": "c2711ae2",
   "metadata": {},
   "outputs": [],
   "source": [
    "# add elements to the list\n",
    "range_list = []\n",
    "\n",
    "for x in range(10):\n",
    "    range_list.append(x)\n",
    "    \n",
    "display(range_list)"
   ]
  },
  {
   "cell_type": "markdown",
   "id": "0009dcbc",
   "metadata": {},
   "source": [
    "### Iterating over a sequence (tuple in this case) by index, using a `for` loop"
   ]
  },
  {
   "cell_type": "code",
   "execution_count": null,
   "id": "c7a85e77",
   "metadata": {
    "id": "c7a85e77"
   },
   "outputs": [],
   "source": [
    "# what is the length of the tuple?\n",
    "tpl_example = (1,2,3,4,5)\n",
    "display(len(tpl_example))"
   ]
  },
  {
   "cell_type": "code",
   "execution_count": null,
   "id": "0b57dd72",
   "metadata": {},
   "outputs": [],
   "source": [
    "# loop over the items in the tuple using a range object\n",
    "for item in range(len(tpl_example)):\n",
    "# so the line of code is equivalent to this one\n",
    "# for item in range(6):\n",
    "    print(item)\n",
    "    print(tpl_example[item])\n",
    "    print('\\n')"
   ]
  },
  {
   "cell_type": "markdown",
   "id": "53b64314",
   "metadata": {},
   "source": [
    "### A quick look at nested loops, using a range() object."
   ]
  },
  {
   "cell_type": "code",
   "execution_count": null,
   "id": "c8f54712",
   "metadata": {},
   "outputs": [],
   "source": [
    "for i in range(4):\n",
    "    for j in range(4):\n",
    "        print((i, j))"
   ]
  },
  {
   "cell_type": "markdown",
   "id": "3730f2e0",
   "metadata": {},
   "source": [
    "#### Recall in the last notebook, we mentioned the `break` keywork in nested loops.\n",
    "\n",
    "#### Note that the `break` keyword only terminates the innermost for loop, if the loop running is an interior loop in a series of nested loops.\n",
    "\n",
    "#### Outer for loops in the nested loop structure will continue to run. "
   ]
  },
  {
   "cell_type": "code",
   "execution_count": null,
   "id": "35438eb1",
   "metadata": {},
   "outputs": [],
   "source": [
    "# what is happening here?\n",
    "for i in range(4):\n",
    "    for j in range(4):\n",
    "        if j > i:\n",
    "            break\n",
    "        print((i, j))"
   ]
  },
  {
   "cell_type": "markdown",
   "id": "45cbd8c3",
   "metadata": {
    "id": "45cbd8c3"
   },
   "source": [
    "### What are your questions on range objects?"
   ]
  }
 ],
 "metadata": {
  "colab": {
   "include_colab_link": true,
   "provenance": []
  },
  "kernelspec": {
   "display_name": "Python 3 (ipykernel)",
   "language": "python",
   "name": "python3"
  },
  "language_info": {
   "codemirror_mode": {
    "name": "ipython",
    "version": 3
   },
   "file_extension": ".py",
   "mimetype": "text/x-python",
   "name": "python",
   "nbconvert_exporter": "python",
   "pygments_lexer": "ipython3",
   "version": "3.9.13"
  }
 },
 "nbformat": 4,
 "nbformat_minor": 5
}
