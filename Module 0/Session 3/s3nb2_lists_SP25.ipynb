{
 "cells": [
  {
   "cell_type": "markdown",
   "id": "945c9b8f",
   "metadata": {
    "id": "945c9b8f"
   },
   "source": [
    "# Python Sequences:  Lists"
   ]
  },
  {
   "cell_type": "markdown",
   "id": "8ad7d700",
   "metadata": {
    "id": "8ad7d700"
   },
   "source": [
    "### Lists in Python\n",
    "\n",
    "#### We wil work with lists extensively in the class.\n",
    "\n",
    "#### Lists are used to store multiple items in a single variable. Lists are created using square brackets, or using the list() method.\n",
    "\n",
    "#### List items are:\n",
    "\n",
    "1. Ordered, mutable/changeable, and allow duplicate values.\n",
    "\n",
    "2. Addressed by their index, which is their position within the list.\n",
    "\n",
    "3. Can be of any data type, and can be different data types. This property of lists allows us to nest other data structures within lists (nested data). **We will be covering nested data later in the bootcamp.**"
   ]
  },
  {
   "cell_type": "markdown",
   "id": "53851f10",
   "metadata": {
    "id": "53851f10"
   },
   "source": [
    "**Ordered:**  When we say that lists are ordered, it means that the items have a defined order, and that order will not change.\n",
    "\n",
    "Note: There are some list methods that will change the order, but in general, the order of the items will not change. `Sort()` and `reverse()` change the list order, and we will reference those methods below.\n",
    "\n",
    "**Mutable/Changeable:**  The list is mutable/changeable, meaning that we can change, add, and remove items in a list after it has been created. When adding new items to a list, the new items will be placed at the end of the list.\n",
    "\n",
    "**Allow Duplicates:**  Since lists are indexed, lists can have items with the same value\n",
    "\n",
    "**Indexed:**  List items are indexed, the first item has index `[0]`, the second item has index `[1]`, etc."
   ]
  },
  {
   "cell_type": "markdown",
   "id": "8b9606bf",
   "metadata": {
    "id": "8b9606bf"
   },
   "source": [
    "#### Intro to List documentation link: https://docs.python.org/3/tutorial/introduction.html#lists\n"
   ]
  },
  {
   "cell_type": "markdown",
   "id": "1ce6c6ff",
   "metadata": {
    "id": "1ce6c6ff"
   },
   "source": [
    "#### Recall from the previous notebook the operations that can be performed on sequences, and also that lists are sequences.\n",
    "\n",
    "![seq_ops.png](https://github.com/gt-cse-6040/bootcamp/blob/main/Module%200/Session%203/seq_ops.png?raw=1)"
   ]
  },
  {
   "cell_type": "markdown",
   "id": "d2314d22",
   "metadata": {
    "id": "d2314d22"
   },
   "source": [
    "#### Lists also have some operations that are specific to lists themselves. We will cover a subset of these below, specifically including those which students will be asked to do in the class."
   ]
  },
  {
   "cell_type": "markdown",
   "id": "f214b0c4",
   "metadata": {
    "id": "f214b0c4"
   },
   "source": [
    "### Now let's look at `lists` in some detail."
   ]
  },
  {
   "cell_type": "code",
   "execution_count": null,
   "id": "c8d37150",
   "metadata": {
    "id": "c8d37150"
   },
   "outputs": [],
   "source": [
    "# Ways of creating lists\n",
    "\n",
    "lst_1 = list()  # creates an empty list\n",
    "lst_2 = []  # also creates an empty list\n",
    "lst_3 = [1,2,3,4,5]  # creates a populated list\n",
    "lst_squares = [1, 4, 9, 16, 25, 36, 49]  # another populated list\n",
    "\n",
    "# creates a list with different data types for the items.\n",
    "# Note that the last element is also a nested list element\n",
    "lst_diff_data_types = [True, 'CSE6040', 12.77, (2,4,6)]"
   ]
  },
  {
   "cell_type": "code",
   "execution_count": null,
   "id": "2078f24c",
   "metadata": {
    "id": "2078f24c"
   },
   "outputs": [],
   "source": [
    "display(lst_1)\n",
    "display(lst_2)\n",
    "display(lst_3)\n",
    "display(lst_squares)\n",
    "display(lst_diff_data_types)\n",
    "\n",
    "# all of them are a list data type\n",
    "display(type(lst_1))\n",
    "display(type(lst_3))\n",
    "display(type(lst_diff_data_types))"
   ]
  },
  {
   "cell_type": "code",
   "execution_count": null,
   "id": "c0acd53e",
   "metadata": {
    "id": "c0acd53e"
   },
   "outputs": [],
   "source": [
    "# addressing elements of a list\n",
    "# note that elements are zero-indexed\n",
    "display(lst_squares)\n",
    "display(lst_squares[0])\n",
    "display(lst_squares[3])"
   ]
  },
  {
   "cell_type": "markdown",
   "id": "272b824b",
   "metadata": {
    "id": "272b824b"
   },
   "source": [
    "### Python Tutor is a fantastic online tool to visualize your code. Let's take a look at what this list looks like there, and help to understand zero-based indexes.\n",
    "\n",
    "#### https://pythontutor.com/render.html#mode=edit\n",
    "\n",
    "Copy and paste the lst_squares definition into the code window.\n",
    "\n",
    "See how the the list indexes are zero-based."
   ]
  },
  {
   "cell_type": "markdown",
   "id": "ece63f5e",
   "metadata": {
    "id": "ece63f5e"
   },
   "source": [
    "#### Negative indexing\n",
    "\n",
    "In Python, negative sequence indexes represent positions from the end of the array.  \n",
    "\n",
    "Negative indexing means we start from the end:\n",
    "1. `[-1]` refers to the last item,\n",
    "2. `[-2]` refers to the second-last item, etc."
   ]
  },
  {
   "cell_type": "code",
   "execution_count": null,
   "id": "ea942057",
   "metadata": {
    "id": "ea942057"
   },
   "outputs": [],
   "source": [
    "# create the list\n",
    "neg_list = [11,3,-4,6,90,23,5,25,16,15]"
   ]
  },
  {
   "cell_type": "code",
   "execution_count": null,
   "id": "467a3483",
   "metadata": {
    "id": "467a3483"
   },
   "outputs": [],
   "source": [
    "# negative indexing\n",
    "display(neg_list[3])\n",
    "display(neg_list[-7])"
   ]
  },
  {
   "cell_type": "markdown",
   "id": "66e62128",
   "metadata": {
    "id": "66e62128"
   },
   "source": [
    "![list_negative_index.png](https://github.com/gt-cse-6040/bootcamp/blob/main/Module%200/Session%203/list_negative_index.png?raw=1)"
   ]
  },
  {
   "cell_type": "markdown",
   "id": "f70f73db",
   "metadata": {
    "id": "f70f73db"
   },
   "source": [
    "Recall that lists are mutable.\n",
    "\n",
    "To change the value of a list item, simply assign the new value to it."
   ]
  },
  {
   "cell_type": "code",
   "execution_count": null,
   "id": "003c8264",
   "metadata": {
    "id": "003c8264"
   },
   "outputs": [],
   "source": [
    "display(lst_3)\n",
    "\n",
    "# change a list value\n",
    "lst_3[1] = 9\n",
    "display(lst_3)"
   ]
  },
  {
   "cell_type": "markdown",
   "id": "e3189b22",
   "metadata": {
    "id": "e3189b22"
   },
   "source": [
    "#### Slicing a list, syntax/notation\n",
    "\n",
    "![slice_notation.png](https://github.com/gt-cse-6040/bootcamp/blob/main/Module%200/Session%203/slice_notation.png?raw=1)\n",
    "\n",
    "If `Lst` is a list, then the above expression returns the portion of the list from index `Initial` to index `End -1`, at a step size `IndexJump`.\n",
    "\n",
    "Note that the `End` value always stops at the element **before** the number specified.\n",
    "\n",
    "The `IndexJump` parameter is commonly referred to as the `step size`.\n",
    "\n",
    "**Slicing always goes `from left to right` in the list. (Lowest positive index to highest)**"
   ]
  },
  {
   "cell_type": "markdown",
   "id": "5e0729f1",
   "metadata": {
    "id": "5e0729f1"
   },
   "source": [
    "**None** of the parameter values are **required** in the slice notation.\n",
    "\n",
    "If `Initial` is not specified then `0` is assumed (start at the beginning).\n",
    "\n",
    "If `End` value is not specified, then the (last value + 1) is assumed (go to the end of the list).\n",
    "\n",
    "If `IndexJump` is not specified, then `1` is assumed (step to the next element)."
   ]
  },
  {
   "cell_type": "code",
   "execution_count": null,
   "id": "c29a5829",
   "metadata": {
    "id": "c29a5829"
   },
   "outputs": [],
   "source": [
    "# slicing notation for a list\n",
    "display(neg_list)\n",
    "display(neg_list[:5])\n",
    "display(neg_list[0:5])\n",
    "display(neg_list[0:5:2])"
   ]
  },
  {
   "cell_type": "code",
   "execution_count": null,
   "id": "fa2fc10f",
   "metadata": {
    "id": "fa2fc10f"
   },
   "outputs": [],
   "source": [
    "# negative slicing\n",
    "display(neg_list[:-5])\n",
    "display(neg_list[-5:])\n",
    "display(neg_list[-5:-1])\n",
    "display(neg_list[-5:-1:2])"
   ]
  },
  {
   "cell_type": "code",
   "execution_count": null,
   "id": "c7b3820e",
   "metadata": {
    "id": "c7b3820e"
   },
   "outputs": [],
   "source": [
    "# more negative slicing\n",
    "display(neg_list[-1:])  # why only 1 value?\n",
    "display(neg_list[-1:-5])  # why empty?"
   ]
  },
  {
   "cell_type": "code",
   "execution_count": null,
   "id": "4a7b64fe",
   "metadata": {
    "id": "4a7b64fe"
   },
   "outputs": [],
   "source": [
    "# length operation\n",
    "# Note that a length of 10 uses indexes 0-9\n",
    "display(len(neg_list))"
   ]
  },
  {
   "cell_type": "code",
   "execution_count": null,
   "id": "38e9bb07",
   "metadata": {
    "id": "38e9bb07"
   },
   "outputs": [],
   "source": [
    "# recall that lists can be nested\n",
    "\n",
    "# same code as above, for easy reference\n",
    "# creates a list with different data types for the items.\n",
    "# Note that the last element is also a nested list element\n",
    "lst_diff_data_types = [True, 'CSE6040', 12.77, (2,4,6)]\n",
    "\n",
    "display(lst_diff_data_types)"
   ]
  },
  {
   "cell_type": "markdown",
   "id": "32a71921",
   "metadata": {
    "id": "32a71921"
   },
   "source": [
    "#### Let's view this data structure in Python Tutor.\n",
    "\n",
    "Open the link, copy in the list definition code, then execute to see the visualization.\n",
    "\n",
    "#### https://pythontutor.com/render.html#mode=display"
   ]
  },
  {
   "cell_type": "code",
   "execution_count": null,
   "id": "788ebc07",
   "metadata": {
    "id": "788ebc07"
   },
   "outputs": [],
   "source": [
    "display(lst_diff_data_types[3])\n",
    "display(type(lst_diff_data_types[3]))"
   ]
  },
  {
   "cell_type": "code",
   "execution_count": null,
   "id": "bd04b462",
   "metadata": {
    "id": "bd04b462"
   },
   "outputs": [],
   "source": [
    "# addressing nested data elements\n",
    "display(lst_diff_data_types)\n",
    "display(lst_diff_data_types[3])\n",
    "display(lst_diff_data_types[3][1])"
   ]
  },
  {
   "cell_type": "markdown",
   "id": "a650dfa9",
   "metadata": {
    "id": "a650dfa9"
   },
   "source": [
    "#### In addressing the elements of a nested list item, we use multiple brackets.\n",
    "\n",
    "The first bracket (in this case `[3]`), identifies the element within the list.\n",
    "\n",
    "The second bracket (in this case `[1]`), identifies the element within the list item itself.\n",
    "\n",
    "If there are additional nested elements, we would add bracket numbers to address them.\n",
    "\n",
    "#### <span style=\"background-color: #FFFF00\"> It is IMPERATIVE that students understand this method of addressing nested data elements.</span>  We will show multiple nesting examples, with different data types, in the bootcamp session covering nested data."
   ]
  },
  {
   "cell_type": "markdown",
   "id": "82aa5855",
   "metadata": {
    "id": "82aa5855"
   },
   "source": [
    "### `List` operations, part 1\n",
    "\n",
    "Let's start with some operations that are common to all sequences, that we may use in this class."
   ]
  },
  {
   "cell_type": "code",
   "execution_count": null,
   "id": "8a5ea409",
   "metadata": {
    "id": "8a5ea409"
   },
   "outputs": [],
   "source": [
    "# recall our list of squares\n",
    "display(lst_squares)\n",
    "\n",
    "# length\n",
    "display(len(lst_squares))"
   ]
  },
  {
   "cell_type": "code",
   "execution_count": null,
   "id": "e02db996",
   "metadata": {
    "id": "e02db996"
   },
   "outputs": [],
   "source": [
    "# min value\n",
    "display(min(lst_squares))\n",
    "\n",
    "# max value\n",
    "display(max(lst_squares))"
   ]
  },
  {
   "cell_type": "code",
   "execution_count": null,
   "id": "4515049b",
   "metadata": {
    "id": "4515049b"
   },
   "outputs": [],
   "source": [
    "# count occurrences of a value in a list\n",
    "display(lst_squares.count(16))\n",
    "\n",
    "# Is value in a list?\n",
    "display(9 in lst_squares)\n",
    "display(8 in lst_squares)"
   ]
  },
  {
   "cell_type": "code",
   "execution_count": null,
   "id": "1afd9d0d",
   "metadata": {
    "id": "1afd9d0d"
   },
   "outputs": [],
   "source": [
    "# concatenation of two lists\n",
    "lst_concat = lst_squares + lst_diff_data_types\n",
    "display(lst_concat)"
   ]
  },
  {
   "cell_type": "markdown",
   "id": "d337a4ae",
   "metadata": {
    "id": "d337a4ae"
   },
   "source": [
    "#### `List` operations, part 2.\n",
    "\n",
    "Now let's look at operations that are specific to `lists.`\n",
    "\n",
    "List operations documentation link: https://docs.python.org/3/tutorial/datastructures.html"
   ]
  },
  {
   "cell_type": "markdown",
   "id": "9e5f0bc8",
   "metadata": {
    "id": "9e5f0bc8"
   },
   "source": [
    "#### There are three ways of adding elements to a list, using list methods:\n",
    "\n",
    "The `append()` method. `append()` adds the element to the end of the list. **This will be the main method that we will use in this class to add elements to a list.**\n",
    "\n",
    "The other two methods are `insert()` and `extend()`. **Because you will seldom (if ever) have the need to use one of these methods in this class, we will not cover them here.**\n",
    "\n",
    "#### https://docs.python.org/3/tutorial/datastructures.html"
   ]
  },
  {
   "cell_type": "code",
   "execution_count": null,
   "id": "b9ae3e39",
   "metadata": {
    "id": "b9ae3e39"
   },
   "outputs": [],
   "source": [
    "display(lst_3)\n",
    "\n",
    "# append method\n",
    "lst_3.append(50)\n",
    "display(lst_3)\n",
    "\n",
    "# another append\n",
    "lst_3.append(5*7)\n",
    "display(lst_3)"
   ]
  },
  {
   "cell_type": "code",
   "execution_count": null,
   "id": "a1062cf7",
   "metadata": {
    "id": "a1062cf7"
   },
   "outputs": [],
   "source": [
    "# what is the length of the list?\n",
    "display(len(lst_3))"
   ]
  },
  {
   "cell_type": "markdown",
   "id": "666dc720",
   "metadata": {
    "id": "666dc720"
   },
   "source": [
    "#### Use the `copy()` method to make a copy of a list.\n",
    "\n",
    "Note that this method makes a `shallow copy` of the list, and not a `deep copy`. Don't worry about that at this time, and we will cover shallow and deep copies later in the bootcamp."
   ]
  },
  {
   "cell_type": "code",
   "execution_count": null,
   "id": "58b18ada",
   "metadata": {
    "id": "58b18ada"
   },
   "outputs": [],
   "source": [
    "# make 4 copies of the list, to use in code examples below\n",
    "lst_3_copy_1 = lst_3.copy()\n",
    "lst_3_copy_2 = lst_3.copy()\n",
    "lst_3_copy_3 = lst_3.copy()\n",
    "lst_3_copy_4 = lst_3.copy()\n",
    "display(lst_3_copy_1)"
   ]
  },
  {
   "cell_type": "markdown",
   "id": "e94df5f1",
   "metadata": {
    "id": "e94df5f1"
   },
   "source": [
    "#### There are three list methods to remove elements from a list. We can also use a Python keyword, `del`, which is not a list method.\n",
    "\n",
    "1. The `remove(x)` method removes the first item from the list whose value is equal to x. It raises a ValueError if there is no such item.\n",
    "\n",
    "2. The `pop([i])` method removes the item at the given position in the list, and returns it.\n",
    "\n",
    "     a. If no index is specified, a.pop() removes and returns the last item in the list.\n",
    "     \n",
    "     b. The square brackets around the i in the method signature denote that the parameter is optional, not that you should type square brackets at that position.\n",
    "     \n",
    "3. The `clear()` method simply removes all of the list items, so that it becomes an empty list.\n",
    "     \n",
    "4. The `del` Python keyword requires an object as the next code element, and it deletes whatever is specified by that code element.\n",
    "\n",
    "     a. We can use `index` notation to specify a particular element to delete.\n",
    "     \n",
    "     b. We can use `slicing` notation to delete multiple elements.\n",
    "     \n",
    "     c. **If no elements are specified, the list itself is removed.**"
   ]
  },
  {
   "cell_type": "code",
   "execution_count": null,
   "id": "e1ae624f",
   "metadata": {
    "id": "e1ae624f"
   },
   "outputs": [],
   "source": [
    "display(lst_3_copy_1)"
   ]
  },
  {
   "cell_type": "markdown",
   "id": "14facaca",
   "metadata": {
    "id": "14facaca"
   },
   "source": [
    "Using `remove()`"
   ]
  },
  {
   "cell_type": "code",
   "execution_count": null,
   "id": "5f406cb2",
   "metadata": {
    "id": "5f406cb2"
   },
   "outputs": [],
   "source": [
    "# remove a value from the list\n",
    "lst_3_copy_1.remove(50)\n",
    "display(lst_3_copy_1)"
   ]
  },
  {
   "cell_type": "code",
   "execution_count": null,
   "id": "5f81edb8",
   "metadata": {
    "id": "5f81edb8"
   },
   "outputs": [],
   "source": [
    "# remove a value from the list, that has multiple elements with the same value\n",
    "# note that there are two values of 3, and this will remove the first value\n",
    "lst_3_copy_1.remove(3)\n",
    "display(lst_3_copy_1)"
   ]
  },
  {
   "cell_type": "markdown",
   "id": "1aada89b",
   "metadata": {
    "id": "1aada89b"
   },
   "source": [
    "Using `pop()`"
   ]
  },
  {
   "cell_type": "code",
   "execution_count": null,
   "id": "fd1b535a",
   "metadata": {
    "id": "fd1b535a"
   },
   "outputs": [],
   "source": [
    "# use pop to remove the last list item\n",
    "remove_last = lst_3_copy_1.pop()\n",
    "display(remove_last)\n",
    "display(lst_3_copy_1)"
   ]
  },
  {
   "cell_type": "code",
   "execution_count": null,
   "id": "0b1b7bcf",
   "metadata": {
    "id": "0b1b7bcf"
   },
   "outputs": [],
   "source": [
    "# remove the value at a particular location\n",
    "lst_3_copy_1.pop(3)\n",
    "display(lst_3_copy_1)"
   ]
  },
  {
   "cell_type": "markdown",
   "id": "906ab7e6",
   "metadata": {
    "id": "906ab7e6"
   },
   "source": [
    "Using `clear()`"
   ]
  },
  {
   "cell_type": "code",
   "execution_count": null,
   "id": "09e16aa9",
   "metadata": {
    "id": "09e16aa9"
   },
   "outputs": [],
   "source": [
    "# clear the list\n",
    "display(lst_3_copy_2)\n",
    "\n",
    "lst_3_copy_2.clear()\n",
    "display(lst_3_copy_2)"
   ]
  },
  {
   "cell_type": "markdown",
   "id": "3a827b0d",
   "metadata": {
    "id": "3a827b0d"
   },
   "source": [
    "Using `del` Python keyword"
   ]
  },
  {
   "cell_type": "code",
   "execution_count": null,
   "id": "c3d142d3",
   "metadata": {
    "id": "c3d142d3"
   },
   "outputs": [],
   "source": [
    "# using the del keyword\n",
    "display(lst_3_copy_3)\n",
    "\n",
    "# delete the 2nd element of the list\n",
    "del lst_3_copy_3[1]\n",
    "display(lst_3_copy_3)"
   ]
  },
  {
   "cell_type": "code",
   "execution_count": null,
   "id": "23f60a20",
   "metadata": {
    "id": "23f60a20"
   },
   "outputs": [],
   "source": [
    "# delete the second and third elements of the list\n",
    "# using slicing notation\n",
    "del lst_3_copy_3[1:3]\n",
    "display(lst_3_copy_3)"
   ]
  },
  {
   "cell_type": "code",
   "execution_count": null,
   "id": "75a75c3e",
   "metadata": {
    "id": "75a75c3e"
   },
   "outputs": [],
   "source": [
    "# delete ALL elements of the list\n",
    "# using slicing notation\n",
    "del lst_3_copy_3[:]\n",
    "display(lst_3_copy_3)"
   ]
  },
  {
   "cell_type": "code",
   "execution_count": null,
   "id": "9edcb115",
   "metadata": {
    "id": "9edcb115"
   },
   "outputs": [],
   "source": [
    "# delete the list itself\n",
    "del lst_3_copy_3\n",
    "\n",
    "# throws an error, because the variable no longer exists\n",
    "# display(lst_3_copy_3)"
   ]
  },
  {
   "cell_type": "markdown",
   "id": "2905111d",
   "metadata": {
    "id": "2905111d"
   },
   "source": [
    "#### `reverse()` and `sort()` do exactly what they say. They operate on the list IN PLACE, meaning that they change the variable directly.\n",
    "\n",
    "1. `reverse()` takes no arguments, and it simply reverses the order of the list items.\n",
    "\n",
    "2. `sort()` takes one optional argument, `reverse=False`.\n",
    "\n",
    "     a. If the argument is not specified, then the list is sorted in ascending order.\n",
    "     \n",
    "      `list.sort()` and `list.sort(reverse=False)` are equivalent.\n",
    "     \n",
    "     b. If `reverse=True` is specified, then the list is sorted in descending order.\n"
   ]
  },
  {
   "cell_type": "code",
   "execution_count": null,
   "id": "e33feae7",
   "metadata": {
    "id": "e33feae7"
   },
   "outputs": [],
   "source": [
    "# reverse the list\n",
    "display(lst_3_copy_4)\n",
    "\n",
    "lst_3_copy_4.reverse()\n",
    "display(lst_3_copy_4)"
   ]
  },
  {
   "cell_type": "code",
   "execution_count": null,
   "id": "f0311d9c",
   "metadata": {
    "id": "f0311d9c"
   },
   "outputs": [],
   "source": [
    "# sorting the list\n",
    "display(lst_3_copy_4)\n",
    "\n",
    "# sort in ascending order\n",
    "lst_3_copy_4.sort()\n",
    "display(lst_3_copy_4)\n",
    "\n",
    "# sort in descending order\n",
    "lst_3_copy_4.sort(reverse=True)\n",
    "display(lst_3_copy_4)"
   ]
  },
  {
   "cell_type": "markdown",
   "id": "90d4387e",
   "metadata": {
    "id": "90d4387e"
   },
   "source": [
    "#### What are your questions on lists?"
   ]
  }
 ],
 "metadata": {
  "colab": {
   "include_colab_link": true,
   "provenance": []
  },
  "kernelspec": {
   "display_name": "Python 3 (ipykernel)",
   "language": "python",
   "name": "python3"
  },
  "language_info": {
   "codemirror_mode": {
    "name": "ipython",
    "version": 3
   },
   "file_extension": ".py",
   "mimetype": "text/x-python",
   "name": "python",
   "nbconvert_exporter": "python",
   "pygments_lexer": "ipython3",
   "version": "3.9.13"
  }
 },
 "nbformat": 4,
 "nbformat_minor": 5
}
