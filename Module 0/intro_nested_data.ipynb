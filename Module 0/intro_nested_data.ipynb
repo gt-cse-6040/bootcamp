{
 "cells": [
  {
   "cell_type": "markdown",
   "id": "3e486c9a",
   "metadata": {
    "id": "3e486c9a"
   },
   "source": [
    "# Intro to Nested Data"
   ]
  },
  {
   "cell_type": "markdown",
   "id": "f676058e",
   "metadata": {
    "id": "f676058e"
   },
   "source": [
    "### Now that we have covered the different data structures that we will use in Module 0, we now introduce `Nested Data`.\n",
    "\n",
    "### If you want to be successful in this course, you `ABSOLUTELY MUST` understand how to work with nested data.\n",
    "\n",
    "### Every notebook and every exam will require you to manipulate nested data in some way."
   ]
  },
  {
   "cell_type": "markdown",
   "id": "ceb30c51",
   "metadata": {
    "id": "ceb30c51"
   },
   "source": [
    "#### Main data structures in Python -\n",
    "1. Lists\n",
    "2. Tuples\n",
    "3. Dictionaries\n",
    "4. Sets\n",
    "\n",
    "#### You can nest these data structures one inside the other. For example -\n",
    "1. List of lists\n",
    "2. List of tuples\n",
    "3. List of dictionaries\n",
    "4. Dictionary of lists\n",
    "5. Dictionary of dictionaries\n",
    "6. Dictionary of lists of dictionaries.....\n",
    "etc.\n",
    "\n",
    "#### You `MUST` know how to handle a complex nested data to get the information you want.\n",
    "\n",
    "#### The methodology (you will want to understand and use) is to go step by step with how the complex nested data is structured.\n",
    "\n",
    "#### At each level of nesting, you must understand how to correctly addres/access the elements at that level.\n",
    "\n",
    "#### What we will do here is work through a methodology for determining and addressing nested structures.\n",
    "\n",
    "\n",
    "Let's see some examples to get a better understanding about these nested data structures."
   ]
  },
  {
   "cell_type": "markdown",
   "id": "8ec65095",
   "metadata": {},
   "source": [
    "## Note that `FOR THIS CLASS AND ON EXAMS`, we will generally only work with data that has one or two levels of nesting.\n",
    "\n",
    "#### It is very common `in the wild` to work with data that is nested to many levels (10 or more)."
   ]
  },
  {
   "cell_type": "markdown",
   "id": "59db6fa6",
   "metadata": {},
   "source": [
    "#### `Dictionary of dictionaries`"
   ]
  },
  {
   "cell_type": "code",
   "execution_count": null,
   "id": "ca6afedd",
   "metadata": {
    "id": "ca6afedd"
   },
   "outputs": [],
   "source": [
    "nested_data = {\n",
    "  \"first_name\": \"John\",\n",
    "  \"last_name\": \"Smith\",\n",
    "\n",
    "    \"address\": {\n",
    "    \"street_address\": \"21 2nd Street\",\n",
    "    \"city\": \"New York\",\n",
    "    \"state\": \"NY\",\n",
    "    \"postal_code\": \"10021-3100\"},\n",
    "}"
   ]
  },
  {
   "cell_type": "markdown",
   "id": "13966d35",
   "metadata": {
    "id": "13966d35"
   },
   "source": [
    "#### The site PythonTutor is fantastic for visualizing these data structures.\n",
    "\n",
    "Let's take our details_dict over there and see what it looks like.\n",
    "\n",
    "https://pythontutor.com/python-debugger.html#mode=edit\n"
   ]
  },
  {
   "cell_type": "markdown",
   "id": "16acb3ad",
   "metadata": {
    "id": "16acb3ad"
   },
   "source": [
    "#### Now let's look at how to address this with code. At each step below, we will go back to Python Tutor to cross-reference the data structure's visual representation with the syntax of how we are addressing each element."
   ]
  },
  {
   "cell_type": "code",
   "execution_count": null,
   "id": "54e154c7",
   "metadata": {
    "id": "54e154c7"
   },
   "outputs": [],
   "source": [
    "type(nested_data)"
   ]
  },
  {
   "cell_type": "code",
   "execution_count": null,
   "id": "4f8acefd",
   "metadata": {
    "id": "4f8acefd"
   },
   "outputs": [],
   "source": [
    "# note that the dictionary contains three key-value pairs\n",
    "# the last key's value is a dictionary with 4 key-value pairs\n",
    "for key , value in nested_data.items():\n",
    "    print(\"Key : {} ,\\n Value : {}\\n\".format(key,value))"
   ]
  },
  {
   "cell_type": "code",
   "execution_count": null,
   "id": "d524bd7e",
   "metadata": {
    "id": "d524bd7e"
   },
   "outputs": [],
   "source": [
    "len(nested_data)"
   ]
  },
  {
   "cell_type": "markdown",
   "id": "3b633f5b",
   "metadata": {
    "id": "3b633f5b"
   },
   "source": [
    "Addressing the highest level key in the overall dictionary."
   ]
  },
  {
   "cell_type": "code",
   "execution_count": null,
   "id": "3d9605fd",
   "metadata": {
    "id": "3d9605fd"
   },
   "outputs": [],
   "source": [
    "# What are the data types of the values?\n",
    "display(type(nested_data['first_name']))\n",
    "display(type(nested_data['last_name']))\n",
    "display(type(nested_data['address']))"
   ]
  },
  {
   "cell_type": "markdown",
   "id": "ce085606",
   "metadata": {
    "id": "ce085606"
   },
   "source": [
    "Now let's see how to address the dictionary that is the value of the `address` key."
   ]
  },
  {
   "cell_type": "code",
   "execution_count": null,
   "id": "6a659f63",
   "metadata": {
    "id": "6a659f63"
   },
   "outputs": [],
   "source": [
    "for key , value in nested_data['address'].items():\n",
    "    print(\"Key : {} | Value : {}\\n\".format(key,value))"
   ]
  },
  {
   "cell_type": "markdown",
   "id": "2fdb4d2e",
   "metadata": {},
   "source": [
    "How do we address the nested dictionary, within the `address` dictionary?\n",
    "\n",
    "Note that we simply add the next level of data onto our data reference."
   ]
  },
  {
   "cell_type": "code",
   "execution_count": null,
   "id": "ff47ce5b",
   "metadata": {
    "id": "ff47ce5b"
   },
   "outputs": [],
   "source": [
    "nested_data['address']['street_address']"
   ]
  },
  {
   "cell_type": "markdown",
   "id": "66b5fdb3",
   "metadata": {},
   "source": [
    "Let's go back to Python Tutor to see this visually.\n",
    "\n",
    "And we can see below the other 4 keys in the nested dictionary, and how to get to the value of each of them.\n",
    "\n",
    "Notice that all we are doing is adding the next level down, in this case a dictionary, to the end of the code."
   ]
  },
  {
   "cell_type": "code",
   "execution_count": null,
   "id": "7097ec92",
   "metadata": {},
   "outputs": [],
   "source": [
    "display(nested_data['address']['city'])\n",
    "display(nested_data['address']['state'])\n",
    "display(nested_data['address']['postal_code'])"
   ]
  },
  {
   "cell_type": "markdown",
   "id": "64d74f87",
   "metadata": {},
   "source": [
    "### So the foundations of being able to work with `NESTED DATA` are:\n",
    "\n",
    "    1. Understand the nesting structure (use Python Tutor to visualize).\n",
    "    2. Get to the data at the desired level, by just adding the correct method for addressing that level (dict, list, tuple, etc) to the end of the code."
   ]
  },
  {
   "cell_type": "markdown",
   "id": "f24123eb",
   "metadata": {},
   "source": [
    "## So what are the common nested data structures that you will see in this class?\n",
    "\n",
    "    1. Dictionary of dictionaries (what we just showed)\n",
    "    2. Dictionary of lists\n",
    "    3. List of lists\n",
    "    4. List of dictionaries\n",
    "    5. List of tuples\n",
    "\n",
    "This listing is a sample, so don't take it as the `ONLY` nestings that you will see in the class.\n",
    "\n",
    "Let's take a quick look at some simple examples of the last 4."
   ]
  },
  {
   "cell_type": "markdown",
   "id": "b8260279",
   "metadata": {},
   "source": [
    "#### `Dictionary of lists`"
   ]
  },
  {
   "cell_type": "code",
   "execution_count": null,
   "id": "f7e2bac5",
   "metadata": {},
   "outputs": [],
   "source": [
    "dict_of_lists = {\n",
    "    \"names\":[\"Rich\",\"Chris\",\"Katie\"],\n",
    "    \"cities\":[\"Atlanta\",\"Los Angeles\",[\"Chattanooga\",\"Nashville\"]] \n",
    "}"
   ]
  },
  {
   "cell_type": "markdown",
   "id": "f1953390",
   "metadata": {},
   "source": [
    "Let's take this out to Python Tutor.\n",
    "\n",
    "So how do we address the nested list elements?"
   ]
  },
  {
   "cell_type": "code",
   "execution_count": null,
   "id": "15506f55",
   "metadata": {},
   "outputs": [],
   "source": [
    "# address the appropriate dictionary key,\n",
    "# then the appropriate list location\n",
    "dict_of_lists[\"names\"][0]"
   ]
  },
  {
   "cell_type": "markdown",
   "id": "5ddf4324",
   "metadata": {},
   "source": [
    "Notice in the value of the `cities` key, the 3rd element in the list is another list -- a nested list within the list.\n",
    "\n",
    "If we wanted to return the string `Nashville`, how would we do that?\n",
    "\n",
    "    1. It is in the \"cities\" key.\n",
    "    2. The list is the 3rd element within the list that is the dictionary value.\n",
    "    3. The string \"Nashville\" is the 2nd element in the list."
   ]
  },
  {
   "cell_type": "code",
   "execution_count": null,
   "id": "c2d53a42",
   "metadata": {},
   "outputs": [],
   "source": [
    "dict_of_lists[\"cities\"][2][1]"
   ]
  },
  {
   "cell_type": "markdown",
   "id": "46fbf16e",
   "metadata": {},
   "source": [
    "#### `List of lists`"
   ]
  },
  {
   "cell_type": "code",
   "execution_count": null,
   "id": "17413b06",
   "metadata": {},
   "outputs": [],
   "source": [
    "list_of_lists = [\n",
    "    [\"Rich\",\"Chris\",\"Katie\"],\n",
    "    [\"Atlanta\",\"Los Angeles\",[\"Chattanooga\",\"Nashville\"]] \n",
    "]"
   ]
  },
  {
   "cell_type": "markdown",
   "id": "1133d8fa",
   "metadata": {},
   "source": [
    "Let's take this out to Python Tutor.\n",
    "\n",
    "So how do we address the nested list elements?"
   ]
  },
  {
   "cell_type": "code",
   "execution_count": null,
   "id": "a39cae78",
   "metadata": {},
   "outputs": [],
   "source": [
    "# access the individual lists within the parent list\n",
    "display(list_of_lists[0])\n",
    "display(list_of_lists[1])"
   ]
  },
  {
   "cell_type": "code",
   "execution_count": null,
   "id": "b4c4cae4",
   "metadata": {},
   "outputs": [],
   "source": [
    "# access an element within one of the child lists\n",
    "display(list_of_lists[1][1])"
   ]
  },
  {
   "cell_type": "code",
   "execution_count": null,
   "id": "d8fcf793",
   "metadata": {},
   "outputs": [],
   "source": [
    "# access an element in the lowest level list\n",
    "display(list_of_lists[1][2])\n",
    "display(list_of_lists[1][2][1])"
   ]
  },
  {
   "cell_type": "markdown",
   "id": "98ed726e",
   "metadata": {},
   "source": [
    "#### `List of dictionaries`"
   ]
  },
  {
   "cell_type": "code",
   "execution_count": null,
   "id": "3deeab0e",
   "metadata": {},
   "outputs": [],
   "source": [
    "list_of_dicts = [\n",
    "    {\"names\":\"Rich\",\n",
    "     \"cities\":\"Atlanta\"},\n",
    "    {\"names\":\"Chris\",\n",
    "     \"cities\":\"Los Angeles\"},\n",
    "    {\"names\":\"Katie\",\n",
    "     \"cities\":[\"Chattanooga\",\"Nashville\"]},\n",
    "]"
   ]
  },
  {
   "cell_type": "markdown",
   "id": "a2506fa4",
   "metadata": {},
   "source": [
    "Let's take this out to Python Tutor.\n",
    "\n",
    "So how do we address the nested list elements?"
   ]
  },
  {
   "cell_type": "code",
   "execution_count": null,
   "id": "dd9fcbae",
   "metadata": {},
   "outputs": [],
   "source": [
    "list_of_dicts[0]"
   ]
  },
  {
   "cell_type": "code",
   "execution_count": null,
   "id": "2bb38c5e",
   "metadata": {},
   "outputs": [],
   "source": [
    "list_of_dicts[2]"
   ]
  },
  {
   "cell_type": "code",
   "execution_count": null,
   "id": "c52f4b27",
   "metadata": {},
   "outputs": [],
   "source": [
    "display(list_of_dicts[2]['cities'])\n",
    "display(list_of_dicts[2]['cities'][1])"
   ]
  },
  {
   "cell_type": "markdown",
   "id": "0bfc6324",
   "metadata": {},
   "source": [
    "#### `List of tuples`"
   ]
  },
  {
   "cell_type": "code",
   "execution_count": null,
   "id": "fc254a55",
   "metadata": {},
   "outputs": [],
   "source": [
    "list_of_tuples = [\n",
    "    (\"Rich\",\"Atlanta\"),\n",
    "    (\"Chris\",\"Los Angeles\"),\n",
    "    (\"Katie\",[\"Chattanooga\",\"Nashville\"])   \n",
    "]"
   ]
  },
  {
   "cell_type": "markdown",
   "id": "3aa41675",
   "metadata": {},
   "source": [
    "Let's take this out to Python Tutor.\n",
    "\n",
    "So how do we address the nested list elements?"
   ]
  },
  {
   "cell_type": "code",
   "execution_count": null,
   "id": "2b21f18a",
   "metadata": {},
   "outputs": [],
   "source": [
    "list_of_tuples[0]"
   ]
  },
  {
   "cell_type": "code",
   "execution_count": null,
   "id": "75f12c40",
   "metadata": {},
   "outputs": [],
   "source": [
    "display(list_of_tuples[2][0])\n",
    "display(list_of_tuples[2][1][1])"
   ]
  },
  {
   "cell_type": "markdown",
   "id": "b2c6d161",
   "metadata": {
    "id": "b2c6d161"
   },
   "source": [
    "### Useful link to understand nested data structures more deeply - \n",
    "\n",
    "#### https://web.stanford.edu/class/archive/cs/cs106ap/cs106ap.1198/lectures/15-NestedCollections/15-Nested_Data_Structures.pdf"
   ]
  },
  {
   "cell_type": "markdown",
   "id": "18784337",
   "metadata": {
    "id": "3a79c97b"
   },
   "source": [
    "## What are your questions on basic nested data structures?"
   ]
  },
  {
   "cell_type": "code",
   "execution_count": null,
   "id": "f6e7f966",
   "metadata": {},
   "outputs": [],
   "source": []
  }
 ],
 "metadata": {
  "colab": {
   "include_colab_link": true,
   "provenance": []
  },
  "kernelspec": {
   "display_name": "Python 3 (ipykernel)",
   "language": "python",
   "name": "python3"
  },
  "language_info": {
   "codemirror_mode": {
    "name": "ipython",
    "version": 3
   },
   "file_extension": ".py",
   "mimetype": "text/x-python",
   "name": "python",
   "nbconvert_exporter": "python",
   "pygments_lexer": "ipython3",
   "version": "3.9.13"
  }
 },
 "nbformat": 4,
 "nbformat_minor": 5
}
