{
  "cells": [
    {
      "cell_type": "markdown",
      "metadata": {
        "id": "view-in-github",
        "colab_type": "text"
      },
      "source": [
        "<a href=\"https://colab.research.google.com/github/gt-cse-6040/bootcamp/blob/main/Module%200/Session%202/m0s2nb2_python_data_types_functions_v2.ipynb\" target=\"_parent\"><img src=\"https://colab.research.google.com/assets/colab-badge.svg\" alt=\"Open In Colab\"/></a>"
      ]
    },
    {
      "cell_type": "markdown",
      "id": "945c9b8f",
      "metadata": {
        "id": "945c9b8f"
      },
      "source": [
        "# Python Functions and Scalar Data Types"
      ]
    },
    {
      "cell_type": "markdown",
      "id": "ff96c14e",
      "metadata": {
        "id": "ff96c14e"
      },
      "source": [
        "### Functions\n",
        "\n",
        "#### Python functions enable us to write reusable code and define our own algorithms.\n",
        "\n",
        "#### We will use functions from the very first homework notebook, and almost every exam exercise will involve creating a function to solve the exercise."
      ]
    },
    {
      "cell_type": "markdown",
      "id": "633f54f6",
      "metadata": {
        "id": "633f54f6"
      },
      "source": [
        "### Function syntax is as follows:\n",
        "\n",
        "#### Define the function:\n",
        "\n",
        "`def function_name (input parameters):`\n",
        "    \n",
        "    code to execute within the function\n",
        "    \n",
        "    return statement\n",
        "    \n",
        "#### Call the function:\n",
        "\n",
        "`return_value = function_name(parameters)`\n",
        "\n",
        "![functions.png](https://github.com/gt-cse-6040/bootcamp/blob/main/Module%200/Session%202/functions.png?raw=1)"
      ]
    },
    {
      "cell_type": "markdown",
      "source": [],
      "metadata": {
        "id": "_xvf9fJnxEZa"
      },
      "id": "_xvf9fJnxEZa"
    },
    {
      "cell_type": "markdown",
      "id": "57aef72e",
      "metadata": {
        "id": "57aef72e"
      },
      "source": [
        "Input variables can be required or optional, and they can also have default values.\n",
        "\n",
        "If a variable has a default value, then it will take on that value in the function, if an actual value is not passed into it."
      ]
    },
    {
      "cell_type": "code",
      "execution_count": 1,
      "id": "4a6787de",
      "metadata": {
        "id": "4a6787de"
      },
      "outputs": [],
      "source": [
        "def raise_to_power(input_number, power = 2):\n",
        "\n",
        "    result = input_number ** power\n",
        "\n",
        "    return result"
      ]
    },
    {
      "cell_type": "code",
      "execution_count": 2,
      "id": "373703c2",
      "metadata": {
        "id": "373703c2",
        "outputId": "8a88856a-c10b-4f8a-84b3-be01e5be1041",
        "colab": {
          "base_uri": "https://localhost:8080/"
        }
      },
      "outputs": [
        {
          "output_type": "execute_result",
          "data": {
            "text/plain": [
              "25"
            ]
          },
          "metadata": {},
          "execution_count": 2
        }
      ],
      "source": [
        "# call the function, do not pass in a power variable\n",
        "power_value = raise_to_power(5)\n",
        "power_value"
      ]
    },
    {
      "cell_type": "code",
      "execution_count": 3,
      "id": "d0242fe9",
      "metadata": {
        "id": "d0242fe9",
        "outputId": "ab90507e-1134-4a6f-f364-3d54b60f1ed4",
        "colab": {
          "base_uri": "https://localhost:8080/"
        }
      },
      "outputs": [
        {
          "output_type": "execute_result",
          "data": {
            "text/plain": [
              "125"
            ]
          },
          "metadata": {},
          "execution_count": 3
        }
      ],
      "source": [
        "# call the function, pass in a power variable\n",
        "power_value2 = raise_to_power(5,3)\n",
        "power_value2"
      ]
    },
    {
      "cell_type": "markdown",
      "id": "c5b467a5",
      "metadata": {
        "id": "c5b467a5"
      },
      "source": [
        "One issue that students traditionally have is using `print()` instead of `return`.\n",
        "\n",
        "`print()` will output something to the screen, and the student will see it displayed.\n",
        "\n",
        "The student thinks that `print()` has given the required result. However, only `return` actually enables the notebook to work with the output value of the function."
      ]
    },
    {
      "cell_type": "markdown",
      "id": "30f4adf7",
      "metadata": {
        "id": "30f4adf7"
      },
      "source": [
        "#### Here is a good page on working with functions:  https://www.geeksforgeeks.org/python-functions/\n",
        "\n",
        "Questions on functions?"
      ]
    },
    {
      "cell_type": "markdown",
      "id": "4a9bd493",
      "metadata": {
        "id": "4a9bd493"
      },
      "source": [
        "### Mutable and immutable objects\n",
        "Many objects in Python, such as lists, dictionaries, NumPy arrays, and most user-defined types (classes), are mutable. This means that the object or values that they contain can be modified.\n",
        "\n",
        "Others, like strings and tuples, are immutable, which means their internal data cannot be changed."
      ]
    },
    {
      "cell_type": "markdown",
      "id": "56e6eb88",
      "metadata": {
        "id": "56e6eb88"
      },
      "source": [
        "### Scalar Types\n",
        "Python has a small set of built-in types for handling numerical data, strings, Boolean (True or False) values, and dates and time. These \"single value\" types are sometimes called scalar types, and we refer to them as scalars, or simply as data types.\n",
        "\n",
        "The main data types we will be working with in the class are `None`, `bool`, `int`, `float`, and `str`.\n",
        "\n",
        "#### Python Documentation page for standard types:  https://docs.python.org/3/library/stdtypes.html#  (Note the Table of Contents on the left, to jump directly to the desired topic.)\n",
        "\n",
        "![data_types.png](https://github.com/gt-cse-6040/bootcamp/blob/main/Module%200/Session%202/data_types.png?raw=1)"
      ]
    },
    {
      "cell_type": "markdown",
      "id": "cb85c5ad",
      "metadata": {
        "id": "cb85c5ad"
      },
      "source": [
        "#### None\n",
        "`None` is the Python null value type."
      ]
    },
    {
      "cell_type": "code",
      "execution_count": 4,
      "id": "8ffe33dd",
      "metadata": {
        "id": "8ffe33dd",
        "outputId": "63c2ffc8-f66c-4c8d-fdc1-f4d3b62156cf",
        "colab": {
          "base_uri": "https://localhost:8080/",
          "height": 53
        }
      },
      "outputs": [
        {
          "output_type": "display_data",
          "data": {
            "text/plain": [
              "True"
            ]
          },
          "metadata": {}
        },
        {
          "output_type": "display_data",
          "data": {
            "text/plain": [
              "True"
            ]
          },
          "metadata": {}
        }
      ],
      "source": [
        "var_none = None\n",
        "display(var_none is None)\n",
        "\n",
        "var_not_none = 5\n",
        "display(var_not_none is not None)"
      ]
    },
    {
      "cell_type": "markdown",
      "id": "ae87c32d",
      "metadata": {
        "id": "ae87c32d"
      },
      "source": [
        "#### Booleans\n",
        "The two Boolean values in Python are written as `True` and `False`. Comparisons and other conditional expressions evaluate to either `True` or `False`. Boolean values can be combined with the `and` and `or` keywords:"
      ]
    },
    {
      "cell_type": "code",
      "execution_count": 5,
      "id": "d773e7ed",
      "metadata": {
        "id": "d773e7ed",
        "outputId": "cb5b9264-2a39-4739-c664-5cf1876ad0aa",
        "colab": {
          "base_uri": "https://localhost:8080/",
          "height": 53
        }
      },
      "outputs": [
        {
          "output_type": "display_data",
          "data": {
            "text/plain": [
              "True"
            ]
          },
          "metadata": {}
        },
        {
          "output_type": "display_data",
          "data": {
            "text/plain": [
              "True"
            ]
          },
          "metadata": {}
        }
      ],
      "source": [
        "display(True and True)\n",
        "display(False or True)"
      ]
    },
    {
      "cell_type": "markdown",
      "id": "e3e58d81",
      "metadata": {
        "id": "e3e58d81"
      },
      "source": [
        "When converted to numbers, `False` becomes 0 and `True` becomes 1:"
      ]
    },
    {
      "cell_type": "code",
      "execution_count": 6,
      "id": "53249dd2",
      "metadata": {
        "id": "53249dd2",
        "outputId": "f86bc2ef-f767-4176-8725-f6f8705258f6",
        "colab": {
          "base_uri": "https://localhost:8080/",
          "height": 53
        }
      },
      "outputs": [
        {
          "output_type": "display_data",
          "data": {
            "text/plain": [
              "0"
            ]
          },
          "metadata": {}
        },
        {
          "output_type": "display_data",
          "data": {
            "text/plain": [
              "1"
            ]
          },
          "metadata": {}
        }
      ],
      "source": [
        "display(int(False))\n",
        "display(int(True))"
      ]
    },
    {
      "cell_type": "markdown",
      "id": "0c3e5d42",
      "metadata": {
        "id": "0c3e5d42"
      },
      "source": [
        "The keyword `not` flips a Boolean value from True to False or vice versa:"
      ]
    },
    {
      "cell_type": "code",
      "execution_count": 7,
      "id": "5b052f22",
      "metadata": {
        "id": "5b052f22",
        "outputId": "7b80fabd-445c-470b-8b64-859cd4365f23",
        "colab": {
          "base_uri": "https://localhost:8080/",
          "height": 53
        }
      },
      "outputs": [
        {
          "output_type": "display_data",
          "data": {
            "text/plain": [
              "False"
            ]
          },
          "metadata": {}
        },
        {
          "output_type": "display_data",
          "data": {
            "text/plain": [
              "True"
            ]
          },
          "metadata": {}
        }
      ],
      "source": [
        "a = True\n",
        "b = False\n",
        "\n",
        "display(not a)\n",
        "display(not b)"
      ]
    },
    {
      "cell_type": "markdown",
      "id": "29bc922e",
      "metadata": {
        "id": "29bc922e"
      },
      "source": [
        "#### Numeric types\n",
        "The primary Python types for numbers are `int` and `float`.\n",
        "\n",
        "Floating-point numbers are represented with the Python float type. We will be looking at floats in detail in Homework Notebook 4, so will not cover them in detail here.\n",
        "\n",
        "Integers can be very large numbers."
      ]
    },
    {
      "cell_type": "code",
      "execution_count": 8,
      "id": "fb44b849",
      "metadata": {
        "id": "fb44b849",
        "outputId": "b16112d3-07ad-463c-f18e-1d07fc53dced",
        "colab": {
          "base_uri": "https://localhost:8080/"
        }
      },
      "outputs": [
        {
          "output_type": "execute_result",
          "data": {
            "text/plain": [
              "31436883236579585706727194138728127078010100795244254269674187629843361"
            ]
          },
          "metadata": {},
          "execution_count": 8
        }
      ],
      "source": [
        "int_val = 648903229\n",
        "# use the ** to raise a number to that power\n",
        "int_val ** 8"
      ]
    },
    {
      "cell_type": "markdown",
      "id": "51aa3dfe",
      "metadata": {
        "id": "51aa3dfe"
      },
      "source": [
        "#### Strings\n",
        "Python has extensive built-in string handling capabilities.\n",
        "\n",
        "You can write string literals using either single quotes ' or double quotes \".\n",
        "\n",
        "The Python string type is `str`.\n",
        "\n",
        "For multiline strings with line breaks, you can use triple quotes, either ''' or \"\"\"."
      ]
    },
    {
      "cell_type": "markdown",
      "id": "89738a77",
      "metadata": {
        "id": "89738a77"
      },
      "source": [
        "#### String processing in this class includes both Python string manipulation functions and using regex.\n",
        "\n",
        "#### We will cover the former here and the latter in a future bootcamp session.\n",
        "\n",
        "#### Homework notebook 5 is where regex is introduced as a graded topic."
      ]
    },
    {
      "cell_type": "code",
      "execution_count": 9,
      "id": "e237f14f",
      "metadata": {
        "id": "e237f14f"
      },
      "outputs": [],
      "source": [
        "single_str = 'string using single quotes '\n",
        "double_str = \"string using double quotes\"\n",
        "\n",
        "multi_line_str = \"\"\"\n",
        "This is a longer string that\n",
        "contains multiple lines\n",
        "\"\"\""
      ]
    },
    {
      "cell_type": "markdown",
      "id": "3fe429b6",
      "metadata": {
        "id": "3fe429b6"
      },
      "source": [
        "Strings are a sequence of characters and therefore can be treated like other sequences, such as lists and tuples.\n",
        "\n",
        "The individual elements in a string can be addressed by their position.\n",
        "\n",
        "Note that Python uses square bracket notation in addressing individual elements of an object/variable."
      ]
    },
    {
      "cell_type": "code",
      "execution_count": 10,
      "id": "1437a55e",
      "metadata": {
        "id": "1437a55e",
        "outputId": "36cf0cfc-535f-45f4-99ca-2f97761b8d21",
        "colab": {
          "base_uri": "https://localhost:8080/",
          "height": 36
        }
      },
      "outputs": [
        {
          "output_type": "execute_result",
          "data": {
            "text/plain": [
              "'n'"
            ],
            "application/vnd.google.colaboratory.intrinsic+json": {
              "type": "string"
            }
          },
          "metadata": {},
          "execution_count": 10
        }
      ],
      "source": [
        "# Python uses zero-based addressing, so the element below\n",
        "# is actually the 11th element in the string.\n",
        "single_str[10]"
      ]
    },
    {
      "cell_type": "markdown",
      "id": "b73d24d5",
      "metadata": {
        "id": "b73d24d5"
      },
      "source": [
        "Python strings are immutable, so you cannot modify a string."
      ]
    },
    {
      "cell_type": "code",
      "execution_count": null,
      "id": "678697c7",
      "metadata": {
        "id": "678697c7"
      },
      "outputs": [],
      "source": [
        "# this will throw an error, uncomment to illustrate\n",
        "# single_str[10] = 'z'"
      ]
    },
    {
      "cell_type": "markdown",
      "id": "4abb82fb",
      "metadata": {
        "id": "4abb82fb"
      },
      "source": [
        "Adding two strings together concatenates them and produces a new string."
      ]
    },
    {
      "cell_type": "code",
      "execution_count": 11,
      "id": "4469116c",
      "metadata": {
        "id": "4469116c",
        "outputId": "6a2232c5-e211-4cdb-9311-608a5a37d6b0",
        "colab": {
          "base_uri": "https://localhost:8080/",
          "height": 36
        }
      },
      "outputs": [
        {
          "output_type": "execute_result",
          "data": {
            "text/plain": [
              "'string using single quotes string using double quotes'"
            ],
            "application/vnd.google.colaboratory.intrinsic+json": {
              "type": "string"
            }
          },
          "metadata": {},
          "execution_count": 11
        }
      ],
      "source": [
        "single_str + double_str"
      ]
    },
    {
      "cell_type": "markdown",
      "id": "139b8aea",
      "metadata": {
        "id": "139b8aea"
      },
      "source": [
        "### String documentation pages -- bookmark these for reference throughout the class.\n",
        "\n",
        "#### Main documentation page:  https://docs.python.org/3/library/string.html\n",
        "\n",
        "#### String methods:  https://docs.python.org/3/library/stdtypes.html#string-methods"
      ]
    },
    {
      "cell_type": "markdown",
      "id": "a7cb3c9f",
      "metadata": {
        "id": "a7cb3c9f"
      },
      "source": [
        "### String formatting\n",
        "\n",
        "This is a relatively new feature in Python, and it will be useful throughout the class. You will see string formatting exercises on multiple midterm practice problems (previous semester exams), and it is likely that you will need to do this on at least one of your exams in the class.\n",
        "\n",
        "There are two main ways of doing string formatting:  str.format() method, and f-strings. You will see examples of each throughout the class. It would be good for students to have an understanding of each method.\n",
        "\n",
        "`str.format()` method:  https://docs.python.org/3/library/string.html#format-string-syntax\n",
        "\n",
        "`f-strings`:  https://docs.python.org/3/tutorial/inputoutput.html"
      ]
    },
    {
      "cell_type": "markdown",
      "id": "896dea73",
      "metadata": {
        "id": "896dea73"
      },
      "source": [
        "#### Both string formatting methods use a substitution paradigm. The portions of the string to be substituted in are enclosed in squiggly brackets `{}` and those values are passed to the method when printing or displaying."
      ]
    },
    {
      "cell_type": "markdown",
      "id": "1160148b",
      "metadata": {
        "id": "1160148b"
      },
      "source": [
        "`format()` is a method of a string. The manner of calling it is to define a string template that includes the required substitutions, then calling the `format()` method, passing in the desired text to be substituted in."
      ]
    },
    {
      "cell_type": "code",
      "execution_count": 12,
      "id": "210d5459",
      "metadata": {
        "id": "210d5459",
        "outputId": "7729ce6f-9fe0-43a7-dc63-4afa44ab07fa",
        "colab": {
          "base_uri": "https://localhost:8080/",
          "height": 36
        }
      },
      "outputs": [
        {
          "output_type": "execute_result",
          "data": {
            "text/plain": [
              "'Professor Vuduc is the professor for the class CSE6040.'"
            ],
            "application/vnd.google.colaboratory.intrinsic+json": {
              "type": "string"
            }
          },
          "metadata": {},
          "execution_count": 12
        }
      ],
      "source": [
        "# define the template\n",
        "string_template = \"{} is the professor for the class {}.\"\n",
        "string_template.format(\"Professor Vuduc\", \"CSE6040\")"
      ]
    },
    {
      "cell_type": "code",
      "execution_count": 13,
      "id": "3610d5ed",
      "metadata": {
        "id": "3610d5ed",
        "outputId": "d03564e6-8621-4dbf-8d50-cc2a0a6874fb",
        "colab": {
          "base_uri": "https://localhost:8080/",
          "height": 36
        }
      },
      "outputs": [
        {
          "output_type": "execute_result",
          "data": {
            "text/plain": [
              "'To achieve an A in CSE6040, students must attain 90.00% or higher.'"
            ],
            "application/vnd.google.colaboratory.intrinsic+json": {
              "type": "string"
            }
          },
          "metadata": {},
          "execution_count": 13
        }
      ],
      "source": [
        "string_template2 = \"To achieve an A in {}, students must attain {:.2%} or higher.\"\n",
        "string_template2.format(\"CSE6040\", .9)\n",
        "\n",
        "# {:.2%} means to format the argument as a floating-point percentage with two decimal places.\n",
        "# See the documentation for different formatting options."
      ]
    },
    {
      "cell_type": "markdown",
      "id": "ba5ceaf6",
      "metadata": {
        "id": "ba5ceaf6"
      },
      "source": [
        "`f-strings` use substitution, but in the opposite order than `format()`.\n",
        "\n",
        "First define the variables (and values) to be substituted in, then the `f-string` itself."
      ]
    },
    {
      "cell_type": "code",
      "execution_count": 14,
      "id": "c14efd0e",
      "metadata": {
        "id": "c14efd0e",
        "outputId": "1ef33f29-e02b-41b3-83cc-0f881dccf788",
        "colab": {
          "base_uri": "https://localhost:8080/",
          "height": 36
        }
      },
      "outputs": [
        {
          "output_type": "execute_result",
          "data": {
            "text/plain": [
              "'Professor Vuduc is the professor for the class CSE6040.'"
            ],
            "application/vnd.google.colaboratory.intrinsic+json": {
              "type": "string"
            }
          },
          "metadata": {},
          "execution_count": 14
        }
      ],
      "source": [
        "professor = \"Professor Vuduc\"\n",
        "OMSA_class = \"CSE6040\"\n",
        "\n",
        "result = f\"{professor} is the professor for the class {OMSA_class}.\"\n",
        "result"
      ]
    },
    {
      "cell_type": "code",
      "source": [
        "my_grade = 98.98888888\n",
        "result2 = f\"I have received a {my_grade:.2f} in {OMSA_class}!\"\n",
        "result2"
      ],
      "metadata": {
        "id": "LBPlYqZRwwQe",
        "outputId": "784fe1a7-18bb-4f79-a007-5fd092dbd752",
        "colab": {
          "base_uri": "https://localhost:8080/",
          "height": 36
        }
      },
      "id": "LBPlYqZRwwQe",
      "execution_count": 21,
      "outputs": [
        {
          "output_type": "execute_result",
          "data": {
            "text/plain": [
              "'I have received a 98.99 in CSE6040!'"
            ],
            "application/vnd.google.colaboratory.intrinsic+json": {
              "type": "string"
            }
          },
          "metadata": {},
          "execution_count": 21
        }
      ]
    },
    {
      "cell_type": "markdown",
      "id": "290b3a18",
      "metadata": {
        "id": "290b3a18"
      },
      "source": [
        "#### Below are some common string functions that students will be required to use in the class. See the documentation for examples of how to use them.\n",
        "\n",
        "`upper()` and `lower()`\n",
        "\n",
        "`split()` and `join()`\n",
        "\n",
        "`replace()`\n",
        "\n",
        "`count()`\n",
        "\n",
        "`find()`\n",
        "\n",
        "`is*()` functions\n",
        "\n",
        "`strip()` and `lstrip()` and `rstrip()`\n",
        "\n",
        "String Methods Documentation:  https://docs.python.org/3/library/stdtypes.html#text-sequence-type-str\n",
        "\n",
        "More Documentation:  https://docs.python.org/3/library/string.html"
      ]
    },
    {
      "cell_type": "markdown",
      "id": "d1882214",
      "metadata": {
        "id": "d1882214"
      },
      "source": [
        "**`upper()`** and **`lower()`** -- These methods convert letters in the string to either upper or lower case. They ignore non-letter characters. These methods do not take any arguments.\n",
        "\n",
        "https://www.geeksforgeeks.org/python-string-upper/\n",
        "https://www.w3schools.com/python/ref_string_upper.asp\n",
        "\n",
        "https://www.geeksforgeeks.org/python-string-lower/\n",
        "https://www.w3schools.com/python/ref_string_lower.asp"
      ]
    },
    {
      "cell_type": "code",
      "execution_count": 22,
      "id": "265500fd",
      "metadata": {
        "id": "265500fd"
      },
      "outputs": [],
      "source": [
        "potter_text = '''Mr. and Mrs. Dursley, of number four, Privet Drive, were proud to say that they were perfectly normal, thank you very much. They were the last people you’d expect to be in­volved in anything strange or mysterious, because they just didn’t hold with such nonsense. Mr. Dursley was the director of a firm called Grunnings, which made drills. He was a big, beefy man with hardly any neck, although he did have a very large mustache. Mrs. Dursley was thin and blonde and had nearly twice the usual amount of neck, which came in very useful as she spent so much of her time craning over garden fences, spying on the neighbors. The Dursleys had a small son called Dudley and in their opinion there was no finer boy anywhere. The Dursleys had everything they wanted, but they also had a secret, and their greatest fear was that somebody would discover it. They didn’t think they could bear it if anyone found out about the Potters. Mrs. Potter was Mrs. Dursley’s sister, but they hadn’t met for several years; in fact, Mrs. Dursley pretended she didn’t have a sister, because her sister and her good-for-nothing husband were as unDursleyish as it was possible to be. The Dursleys shuddered to think what the neighbors would say if the Potters arrived in the street. The Dursleys knew that the Potters had a small son, too, but they had never even seen him. This boy was another good reason for keeping the Potters away; they didn’t want Dudley mixing with a child like that. When Mr. and Mrs. Dursley woke up on the dull, gray Tuesday our story starts, there was nothing about the cloudy sky outside to suggest that strange and mysterious things would soon be happening all over the country. Mr. Dursley hummed as he picked out his most boring tie for work, and Mrs. Dursley gossiped away happily as she wrestled a screaming Dudley into his high chair. None of them noticed a large, tawny owl flutter past the window.'''"
      ]
    },
    {
      "cell_type": "code",
      "execution_count": 25,
      "id": "3d4f7393",
      "metadata": {
        "id": "3d4f7393",
        "outputId": "5b0e4b25-18c5-493c-f1ee-112a8228fcbe",
        "colab": {
          "base_uri": "https://localhost:8080/",
          "height": 36
        }
      },
      "outputs": [
        {
          "output_type": "execute_result",
          "data": {
            "text/plain": [
              "'Mr. and Mrs. Dursley, of number four, Privet Drive'"
            ],
            "application/vnd.google.colaboratory.intrinsic+json": {
              "type": "string"
            }
          },
          "metadata": {},
          "execution_count": 25
        }
      ],
      "source": [
        "first_50 = potter_text[:50]\n",
        "first_50"
      ]
    },
    {
      "cell_type": "code",
      "execution_count": 26,
      "id": "19b57ddd",
      "metadata": {
        "id": "19b57ddd",
        "outputId": "08a0ce0a-9ecb-4b57-e34c-a8318745d22c",
        "colab": {
          "base_uri": "https://localhost:8080/",
          "height": 36
        }
      },
      "outputs": [
        {
          "output_type": "execute_result",
          "data": {
            "text/plain": [
              "'MR. AND MRS. DURSLEY, OF NUMBER FOUR, PRIVET DRIVE'"
            ],
            "application/vnd.google.colaboratory.intrinsic+json": {
              "type": "string"
            }
          },
          "metadata": {},
          "execution_count": 26
        }
      ],
      "source": [
        "first_50_caps = first_50.upper()\n",
        "first_50_caps"
      ]
    },
    {
      "cell_type": "code",
      "execution_count": 27,
      "id": "3c600d08",
      "metadata": {
        "id": "3c600d08",
        "outputId": "285e35f1-e725-4b5b-a77d-691cf59291ba",
        "colab": {
          "base_uri": "https://localhost:8080/",
          "height": 36
        }
      },
      "outputs": [
        {
          "output_type": "execute_result",
          "data": {
            "text/plain": [
              "'mr. and mrs. dursley, of number four, privet drive'"
            ],
            "application/vnd.google.colaboratory.intrinsic+json": {
              "type": "string"
            }
          },
          "metadata": {},
          "execution_count": 27
        }
      ],
      "source": [
        "first_50_smalls = first_50.lower()\n",
        "first_50_smalls"
      ]
    },
    {
      "cell_type": "markdown",
      "id": "db2eb085",
      "metadata": {
        "id": "db2eb085"
      },
      "source": [
        "**`split()`**\n",
        "\n",
        "`split(separator, maxsplit = -1)` -- This method splits a string into a list of strings, after breaking the given string by the specified separator. Both of the parameters are optional.\n",
        "\n",
        "1. The `separator` parameter is a delimiter. The string splits at this specified separator. If is not provided then any white space is a separator.\n",
        "\n",
        "2. If multiple return variables are provided, and the number of return variables equals the number of items after the split is performed, then each return variable will be a string, and no list will be returned.\n",
        "\n",
        "3. The `maxsplits` parameter is a number, which tells us to split the string into maximum of provided number of times. If it is not provided then the default is -1 that means there is no limit.\n",
        "\n",
        "In this class, we will generally not be specifying the maxsplits parameter."
      ]
    },
    {
      "cell_type": "code",
      "execution_count": 28,
      "id": "03406b14",
      "metadata": {
        "id": "03406b14",
        "outputId": "a677395e-fba5-431b-acd4-8b8d8612fea7",
        "colab": {
          "base_uri": "https://localhost:8080/"
        }
      },
      "outputs": [
        {
          "output_type": "execute_result",
          "data": {
            "text/plain": [
              "['Mr.', 'and', 'Mrs.', 'Dursley,', 'of', 'number', 'four,', 'Privet', 'Drive']"
            ]
          },
          "metadata": {},
          "execution_count": 28
        }
      ],
      "source": [
        "# split with parameters not specified,\n",
        "# so will split on white space\n",
        "lst_first_50 = first_50.split()\n",
        "lst_first_50"
      ]
    },
    {
      "cell_type": "code",
      "execution_count": 29,
      "id": "24daf0c0",
      "metadata": {
        "id": "24daf0c0",
        "outputId": "e2420dea-d2d3-4eec-c371-83967f6dd109",
        "colab": {
          "base_uri": "https://localhost:8080/",
          "height": 91
        }
      },
      "outputs": [
        {
          "output_type": "display_data",
          "data": {
            "text/plain": [
              "['11', '24', '46']"
            ]
          },
          "metadata": {}
        },
        {
          "output_type": "display_data",
          "data": {
            "text/plain": [
              "'11'"
            ],
            "application/vnd.google.colaboratory.intrinsic+json": {
              "type": "string"
            }
          },
          "metadata": {}
        },
        {
          "output_type": "display_data",
          "data": {
            "text/plain": [
              "'24'"
            ],
            "application/vnd.google.colaboratory.intrinsic+json": {
              "type": "string"
            }
          },
          "metadata": {}
        },
        {
          "output_type": "display_data",
          "data": {
            "text/plain": [
              "'46'"
            ],
            "application/vnd.google.colaboratory.intrinsic+json": {
              "type": "string"
            }
          },
          "metadata": {}
        }
      ],
      "source": [
        "# a method to break down a time string into its components\n",
        "# of hours, minutes, and seconds\n",
        "current_time = '11:24:46'\n",
        "\n",
        "# split into a list, single return variable\n",
        "lst_time = current_time.split(':')\n",
        "display(lst_time)\n",
        "\n",
        "# three return variables, each its own string\n",
        "hours, mins, secs = current_time.split(':')\n",
        "display(hours, mins, secs)"
      ]
    },
    {
      "cell_type": "markdown",
      "id": "f5681aac",
      "metadata": {
        "id": "f5681aac"
      },
      "source": [
        "**`join()`**\n",
        "\n",
        "`'element_to_join_on'.join(iterable)` -- This method is used to join elements of the sequence separated by a string separator. This function joins elements of a sequence and makes it a string.\n",
        "\n",
        "`Iterable` – These are objects capable of returning their members one at a time. Some examples are `List`, `Tuple`, `String`, `Dictionary`, and `Set`.\n",
        "\n",
        "The `element_to_join_on` in the above is telling Python to use that as the separator when joining the items to create the string."
      ]
    },
    {
      "cell_type": "code",
      "execution_count": 30,
      "id": "fc3011f3",
      "metadata": {
        "id": "fc3011f3",
        "outputId": "10521748-36c2-4011-a0e7-d20ae315f9d0",
        "colab": {
          "base_uri": "https://localhost:8080/",
          "height": 35
        }
      },
      "outputs": [
        {
          "output_type": "display_data",
          "data": {
            "text/plain": [
              "['11', '24', '46']"
            ]
          },
          "metadata": {}
        }
      ],
      "source": [
        "# recall that we made a variable that split a time string\n",
        "display(lst_time)"
      ]
    },
    {
      "cell_type": "code",
      "execution_count": 31,
      "id": "4982d5dd",
      "metadata": {
        "id": "4982d5dd",
        "outputId": "0eb2416c-dea8-4ad9-8f86-358f9144c539",
        "colab": {
          "base_uri": "https://localhost:8080/",
          "height": 36
        }
      },
      "outputs": [
        {
          "output_type": "display_data",
          "data": {
            "text/plain": [
              "'11:24:46'"
            ],
            "application/vnd.google.colaboratory.intrinsic+json": {
              "type": "string"
            }
          },
          "metadata": {}
        }
      ],
      "source": [
        "# now join the elements back together\n",
        "str_time = ':'.join(lst_time)\n",
        "display(str_time)"
      ]
    },
    {
      "cell_type": "code",
      "execution_count": 32,
      "id": "7cff55e7",
      "metadata": {
        "id": "7cff55e7",
        "outputId": "b2c59313-7057-4664-bb47-28a2c3c78167",
        "colab": {
          "base_uri": "https://localhost:8080/",
          "height": 35
        }
      },
      "outputs": [
        {
          "output_type": "display_data",
          "data": {
            "text/plain": [
              "['Mr.', 'and', 'Mrs.', 'Dursley,', 'of', 'number', 'four,', 'Privet', 'Drive']"
            ]
          },
          "metadata": {}
        }
      ],
      "source": [
        "# recall the potter text list\n",
        "display(lst_first_50)"
      ]
    },
    {
      "cell_type": "code",
      "execution_count": 33,
      "id": "0e0122f3",
      "metadata": {
        "id": "0e0122f3",
        "outputId": "217586a5-e3cf-4cdc-fb38-fc27f0e01f20",
        "colab": {
          "base_uri": "https://localhost:8080/",
          "height": 36
        }
      },
      "outputs": [
        {
          "output_type": "display_data",
          "data": {
            "text/plain": [
              "'Mr. and Mrs. Dursley, of number four, Privet Drive'"
            ],
            "application/vnd.google.colaboratory.intrinsic+json": {
              "type": "string"
            }
          },
          "metadata": {}
        }
      ],
      "source": [
        "# note that we are joining with a space\n",
        "sentence_text = ' '.join(lst_first_50)\n",
        "display(sentence_text)"
      ]
    },
    {
      "cell_type": "markdown",
      "id": "b6066124",
      "metadata": {
        "id": "b6066124"
      },
      "source": [
        "#### Now let's look at a couple of example string manipulation notebook exercises.\n",
        "\n",
        "#### We will do More Python Exercises Notebook 6, and More Python Exercises Notebook 7, exercises 0 and 1.\n",
        "\n",
        "#### The actual working notebooks are in Vocareum (see Canvas/edX for link).\n",
        "\n",
        "#### We provide the Google Colab notebooks with solutions for the students to reference."
      ]
    }
  ],
  "metadata": {
    "kernelspec": {
      "display_name": "Python 3 (ipykernel)",
      "language": "python",
      "name": "python3"
    },
    "language_info": {
      "codemirror_mode": {
        "name": "ipython",
        "version": 3
      },
      "file_extension": ".py",
      "mimetype": "text/x-python",
      "name": "python",
      "nbconvert_exporter": "python",
      "pygments_lexer": "ipython3",
      "version": "3.9.13"
    },
    "colab": {
      "provenance": [],
      "include_colab_link": true
    }
  },
  "nbformat": 4,
  "nbformat_minor": 5
}