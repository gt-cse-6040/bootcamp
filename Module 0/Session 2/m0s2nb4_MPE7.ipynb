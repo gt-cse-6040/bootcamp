{
  "cells": [
    {
      "cell_type": "markdown",
      "metadata": {
        "id": "view-in-github",
        "colab_type": "text"
      },
      "source": [
        "<a href=\"https://colab.research.google.com/github/gt-cse-6040/bootcamp/blob/main/Module%200/Session%202/m0s2nb4_MPE7.ipynb\" target=\"_parent\"><img src=\"https://colab.research.google.com/assets/colab-badge.svg\" alt=\"Open In Colab\"/></a>"
      ]
    },
    {
      "cell_type": "markdown",
      "metadata": {
        "nbgrader": {
          "grade": false,
          "locked": false,
          "solution": false
        },
        "id": "zRIbcMBSali1"
      },
      "source": [
        "# Problem 7\n",
        "\n",
        "**Letter frequencies.** This problem has three (3) exercises worth a total of ten (10) points."
      ]
    },
    {
      "cell_type": "markdown",
      "metadata": {
        "id": "t1e5P_3pali3"
      },
      "source": [
        "Letter frequency in text has been studied in cryptoanalysis, in particular frequency analysis. Linguists use letter frequency analysis as a rudimentary technique for language identification, where it's particularly effective as an indicator of whether an unknown writing system is alphabetic, syllablic, or ideographic.\n",
        "\n",
        "Primarily, three different ways exist for letter frequency analysis. Each way generally results in very different charts for common letters. Based on the provided text, the first method is to count letter frequency in root words of a dictionary. The second way is to include all word variants when counting, such as gone, going and goes and not just the root word go. Such a system results in letters like \"s\" appearing much more frequently. The last variant is to count letters based on their frequency in the actual text that is being studied.\n",
        "\n",
        "For more details, refer to the link:\n",
        "https://en.wikipedia.org/wiki/Letter_frequency\n",
        "\n",
        "In this problem, we will focus on the 3rd methodology."
      ]
    },
    {
      "cell_type": "markdown",
      "metadata": {
        "id": "evoLHhbwali4"
      },
      "source": [
        "**Exercise 0** (2 points). First, given a string input, define a function  `preprocess` that returns a string with non-alphabetic characters removed and all the alphabets converted into a lower case.\n",
        "\n",
        "For example, 'We are coding letter Frequency! Yay!\" would be transformed into \"wearecodingletterfrequencyyay\""
      ]
    },
    {
      "cell_type": "code",
      "execution_count": 6,
      "metadata": {
        "id": "eVry6oOFali4"
      },
      "outputs": [],
      "source": [
        "def preprocess(S):\n",
        "    ### YOUR CODE HERE\n",
        "\n",
        "#   GOAL:\n",
        "#   Return a string with non-alphabetic characters removed and all the alphabets converted into a lower case.\n",
        "\n",
        "#   INPUT:\n",
        "#   A string named 'S' to be processed.\n",
        "\n",
        "#   STRATEGY:\n",
        "#   1. Create an empty string. Let's call this 'final_string'\n",
        "#   2. Get lowercase version of input 'S'. Let's call this 'S_lower'\n",
        "#   2. Iterate over all of the characters in 'S_lower'\n",
        "#        3. If the character is a letter, add it to 'final_string'\n",
        "#   4. Return 'final_string'\n",
        "\n",
        "#   My Google Search: 'python find if letter'\n",
        "#   Link I found: https://www.geeksforgeeks.org/python-program-to-check-if-a-string-has-at-least-one-letter-and-one-number/\n",
        "\n",
        "#   SOLUTION:\n",
        "    final_string = ''\n",
        "    S_lower = S.lower()\n",
        "\n",
        "    for character in S_lower:\n",
        "        if character.isalpha():\n",
        "            final_string += character\n",
        "\n",
        "    return final_string\n"
      ]
    },
    {
      "cell_type": "code",
      "execution_count": 7,
      "metadata": {
        "nbgrader": {
          "grade": true,
          "grade_id": "valid_string",
          "locked": true,
          "points": "2",
          "solution": false
        },
        "id": "hZLpJExXali5",
        "outputId": "a6bbec76-1658-4462-a5aa-8416bfffcb92",
        "colab": {
          "base_uri": "https://localhost:8080/"
        }
      },
      "outputs": [
        {
          "output_type": "stream",
          "name": "stdout",
          "text": [
            "Input String:  n&#YVYVx0`h&-rl\\`fYF*zm3T8{w.q78@sqI?U\"d?0>yNzNyD%3`,R__rcz>T~Ph\\y7%A{{fsSyB{<?dKDc%*I|+NY|5>U:}g/ni\n",
            "|----Your function seems to work correct for the string----|\n",
            "\n",
            "Input String:  ZqG?P;hi+.3F=gEz2aiVh=&KAZk%209sCYTE3<Q]8)xqG9]8W=>Jc1v#kyOqN\\},!\\u'kETYtb]D~jrL\"cSyr55.?c0B7{8-iOf(\n",
            "|----Your function seems to work correct for the string----|\n",
            "\n",
            "Input String:  jO^4L9[v6'LF!uv=}9:iuYJ8TkZVzgN)j*SrmXPW.x0]>X+u?*X=>XfsXR6T?brwM#G)l&)(;:J=[h_}023XUyOU\"2y+@^cGl_~<\n",
            "|----Your function seems to work correct for the string----|\n",
            "\n",
            "\n",
            "(Passed)!\n"
          ]
        }
      ],
      "source": [
        "# Test cell: valid_string\n",
        "import random, string\n",
        "\n",
        "N_str = 100 #Length of random string\n",
        "\n",
        "def generate_str(n):\n",
        "    random_str = ''.join(random.choice(string.ascii_lowercase + string.ascii_uppercase + string.digits + string.punctuation) for _ in range(n))\n",
        "    return random_str\n",
        "\n",
        "def check_preprocess_str(n):\n",
        "    random_str = generate_str(n)\n",
        "    print(\"Input String: \",random_str)\n",
        "    assert preprocess(random_str).islower() == True\n",
        "    assert preprocess(random_str).isalpha() == True\n",
        "    print(\"|----Your function seems to work correct for the string----|\"+\"\\n\")\n",
        "\n",
        "check_preprocess_str(N_str)\n",
        "check_preprocess_str(N_str)\n",
        "check_preprocess_str(N_str)\n",
        "\n",
        "print(\"\\n(Passed)!\")"
      ]
    },
    {
      "cell_type": "markdown",
      "metadata": {
        "id": "eekpVNZ0ali5"
      },
      "source": [
        "**Exercise 1** (4 points). With the necessary pre-processing complete, the next step is to write a function `count_letters(S)` to count the number of occurrences of each letter in the alphabet.  \n",
        "\n",
        "You can assume that only letters will be present in the input string. It should output a dictionary and if any alphabet (a-z) is missing in the input string, it should still be a part of the output dictionary and its corresponding value should be equal to zero.\n"
      ]
    },
    {
      "cell_type": "code",
      "execution_count": 8,
      "metadata": {
        "id": "q-SjNZj9ali6"
      },
      "outputs": [],
      "source": [
        "def count_letters(S):\n",
        "    ### YOUR CODE HERE\n",
        "\n",
        "#   GOAL:\n",
        "#   Count the number of occurrences of each letter in the alphabet.\n",
        "#   Output a dictionary, and if any alphabet (a-z) is missing in the input string,\n",
        "#   it should still be a part of the output dictionary,\n",
        "#   and its corresponding value should be equal to zero.\n",
        "\n",
        "#   INPUT:\n",
        "#   A string 'S' which contains only letters.\n",
        "\n",
        "#   STRATEGY:\n",
        "#   1. Create an empty dictionary. Let's call this 'final_dict'\n",
        "#   2. Create string with all letters a-z, which will become the keys in our final dictionary. Let's call this 'all_letters'\n",
        "#   3. Iterate over each letter in 'all_letters' string.\n",
        "#         4. Count the number of times that letter appears in our input string 'S'\n",
        "#         5. Create a key, value pair in 'final_dict' where the key is the letter and its value is the count found in Step 4.\n",
        "#   6. Return 'final_dict'\n",
        "\n",
        "#   My Google Searches: 'python get all letters' and 'python count occurrences in string'\n",
        "#   Links I found:\n",
        "#   https://www.javatpoint.com/alphabet-in-python\n",
        "#   https://www.programiz.com/python-programming/methods/string/count#google_vignette\n",
        "\n",
        "#   SOLUTION:\n",
        "    final_dict = {}\n",
        "\n",
        "    # create the string of all lowercase letters\n",
        "    all_letters = string.ascii_lowercase\n",
        "\n",
        "    for letter in all_letters:\n",
        "        final_dict[letter] = S.count(letter) # why don't we need to detect if the key is already there?\n",
        "\n",
        "    return final_dict"
      ]
    },
    {
      "cell_type": "code",
      "execution_count": 9,
      "metadata": {
        "nbgrader": {
          "grade": true,
          "grade_id": "count_letters",
          "locked": true,
          "points": "4",
          "solution": false
        },
        "scrolled": true,
        "id": "dj0snU3eali6",
        "outputId": "39e7de98-a983-4510-fa18-0569a09f7f05",
        "colab": {
          "base_uri": "https://localhost:8080/"
        }
      },
      "outputs": [
        {
          "output_type": "stream",
          "name": "stdout",
          "text": [
            "Input String:  mwxeprerggajebuvgjtbbuzsyllkkwsuumjcpzaqzjugujsohaxfoualezwuotzropuzpktzklgehssnfcrmeyccwchqgdkerzty\n",
            "Character frequency evaluated for:  d\n",
            "|----Your function seems to return correct freq for the char----|\n",
            "\n",
            "Input String:  kuiiouqamsypoxsmxjuxcklzrhaeigmlflcrvqxoabihujaealoyvgrpbpuhcwrrlloxvtqrwdygnexqlrqlduuzqnknnjuenkul\n",
            "Character frequency evaluated for:  h\n",
            "|----Your function seems to return correct freq for the char----|\n",
            "\n",
            "Input String:  dsgwfvmhzdflqimzolppgcidwdwypzuetkqtivlniykjpbmliwpjjtlkdfcguyuuhpcukfzthpgvhuzwkdmswawqwzokhnjaaidw\n",
            "Character frequency evaluated for:  l\n",
            "|----Your function seems to return correct freq for the char----|\n",
            "\n",
            "\n",
            "(Passed)!\n"
          ]
        }
      ],
      "source": [
        "# Test cell: count_letters\n",
        "import collections\n",
        "\n",
        "N_processed_str = 100\n",
        "\n",
        "def generate_processed_str(n):\n",
        "    random_processed_str = ''.join(random.choice(string.ascii_lowercase) for _ in range(n))\n",
        "    return random_processed_str\n",
        "\n",
        "def check_count_letters(S):\n",
        "    print(\"Input String: \",S)\n",
        "    random_char = chr(random.randint(97,122))\n",
        "    print(\"Character frequency evaluated for: \", random_char)\n",
        "    if(random_char in S):\n",
        "        assert count_letters(S)[random_char] == collections.Counter(S)[random_char]\n",
        "        print(\"|----Your function seems to return correct freq for the char----|\"+\"\\n\")\n",
        "    else:\n",
        "        assert count_letters(S)[random_char] == 0\n",
        "        print(\"|----Your function seems to return correct freq for the char----|\"+\"\\n\")\n",
        "\n",
        "check_count_letters(generate_processed_str(N_processed_str))\n",
        "check_count_letters(generate_processed_str(N_processed_str))\n",
        "check_count_letters(generate_processed_str(N_processed_str))\n",
        "print(\"\\n(Passed)!\")"
      ]
    },
    {
      "cell_type": "markdown",
      "metadata": {
        "id": "JngZvUJVali7"
      },
      "source": [
        "**Exercise 2** (4 points). The next step is to sort the distribution of a dictionary containing all the letters in the alphabet as keys and number of occurrences in text as associated value.\n",
        "\n",
        "Sorting should be first done in decreasing order by occurrence count and for two elements with same count, the order should be alphabetic. The function  `find_top_letter(d)` should return the 1st character in the order."
      ]
    },
    {
      "cell_type": "code",
      "execution_count": 22,
      "metadata": {
        "id": "SSgp5Y9rali7"
      },
      "outputs": [],
      "source": [
        "def find_top_letter(d):\n",
        "    ### YOUR CODE HERE\n",
        "\n",
        "#   GOAL:\n",
        "#   Return the letter with the highest frequency in the input dictionary.\n",
        "#   If two letters are tied in frequency, the one to return is the\n",
        "#   one that appears first in the alphabet. So the letter to return will be the\n",
        "#   key of the first element in the dictionary, after sorting.\n",
        "\n",
        "#   INPUT:\n",
        "#   A dictionary 'd' with letters as keys and frequencies as values\n",
        "\n",
        "#   STRATEGY:\n",
        "#   1. Figure out how to sort 'd' by values (frequency) in descending order and then by key (letter) in ascending order\n",
        "#   2. Return the first letter (highest frequency, first in alphabetical order) from Step 1\n",
        "\n",
        "#   My Google Searches: 'python sort dictionary' and 'python sort dictionary by value then key'\n",
        "#   Links you could use:\n",
        "#   A Fantastic Guide on Sorting Dictionaries in General:\n",
        "#   https://realpython.com/sort-python-dictionary/\n",
        "\n",
        "#   https://stackoverflow.com/questions/15371691/how-to-sort-a-dictionary-by-value-desc-then-by-key-asc\n",
        "#   https://www.geeksforgeeks.org/python-sort-python-dictionaries-by-key-or-value/\n",
        "#   https://www.geeksforgeeks.org/python-sort-dictionary-by-values-and-keys/\n",
        "#   https://www.geeksforgeeks.org/python-get-the-first-key-in-dictionary/\n",
        "\n",
        "#   SOLUTION:\n",
        "    # First way:\n",
        "    sorted_list = sorted(d.items(), key=lambda kv:(-kv[1], kv[0]))\n",
        "    return sorted_list[0][0]\n",
        "\n",
        "    # Second way:\n",
        "    #sorted_dict = {val[0] : val[1] for val in sorted(d.items(), key = lambda x: (-x[1], x[0]))}\n",
        "    #list_of_keys = list(sorted_dict.keys())\n",
        "    #return list_of_keys[0]\n"
      ]
    },
    {
      "cell_type": "code",
      "execution_count": 23,
      "metadata": {
        "nbgrader": {
          "grade": true,
          "grade_id": "highest_freq_letter",
          "locked": true,
          "points": "4",
          "solution": false
        },
        "scrolled": true,
        "id": "-CJXbxUsali8",
        "outputId": "4e84506c-9bab-47cd-fbd9-c857a9d625f0",
        "colab": {
          "base_uri": "https://localhost:8080/"
        }
      },
      "outputs": [
        {
          "output_type": "stream",
          "name": "stdout",
          "text": [
            "Input Dictionary:  {'a': 2, 'b': 12, 'c': 8, 'd': 4, 'e': 1, 'f': 6, 'g': 5, 'h': 2, 'i': 15, 'j': 3, 'k': 18, 'l': 13, 'm': 13, 'n': 6, 'o': 14, 'p': 11, 'q': 18, 'r': 1, 's': 14, 't': 13, 'u': 14, 'v': 3, 'w': 5, 'x': 11, 'y': 6, 'z': 12}\n",
            "Your function correctly returned most frequent letter: k \n",
            "\n",
            "Input Dictionary:  {'a': 13, 'b': 7, 'c': 13, 'd': 14, 'e': 11, 'f': 5, 'g': 15, 'h': 14, 'i': 5, 'j': 0, 'k': 1, 'l': 14, 'm': 8, 'n': 11, 'o': 10, 'p': 15, 'q': 0, 'r': 11, 's': 13, 't': 4, 'u': 3, 'v': 11, 'w': 14, 'x': 8, 'y': 3, 'z': 11}\n",
            "Your function correctly returned most frequent letter: g \n",
            "\n",
            "Input Dictionary:  {'a': 8, 'b': 0, 'c': 7, 'd': 0, 'e': 1, 'f': 1, 'g': 2, 'h': 0, 'i': 9, 'j': 9, 'k': 7, 'l': 1, 'm': 2, 'n': 4, 'o': 3, 'p': 5, 'q': 2, 'r': 4, 's': 6, 't': 3, 'u': 0, 'v': 3, 'w': 6, 'x': 0, 'y': 0, 'z': 2}\n",
            "Your function correctly returned most frequent letter: i \n",
            "\n",
            "\n",
            "(Passed)!\n"
          ]
        }
      ],
      "source": [
        "# Test cell: highest_freq_letter\n",
        "\n",
        "def create_random_dict():\n",
        "    max_char_value = random.randint(5, 20)\n",
        "    random_dict = {c:random.randint(0,max_char_value-1) for c in string.ascii_lowercase}\n",
        "    random_letter1, random_letter2 = random.sample(string.ascii_lowercase, 2)\n",
        "    random_dict[random_letter1], random_dict[random_letter2] = max_char_value, max_char_value\n",
        "    if(random_letter1 < random_letter2):\n",
        "        return random_letter1, random_dict\n",
        "    else:\n",
        "        return random_letter2, random_dict\n",
        "\n",
        "def check_top_letter():\n",
        "    top_letter, random_dict = create_random_dict()\n",
        "    user_letter = find_top_letter(random_dict)\n",
        "    assert user_letter == top_letter\n",
        "    print(\"Input Dictionary: \", random_dict)\n",
        "    print(\"Your function correctly returned most frequent letter: {} \\n\".format(user_letter))\n",
        "\n",
        "check_top_letter()\n",
        "check_top_letter()\n",
        "check_top_letter()\n",
        "print(\"\\n(Passed)!\")"
      ]
    },
    {
      "cell_type": "markdown",
      "metadata": {
        "id": "9NHS0TKsali8"
      },
      "source": [
        "**Fin!** You've reached the end of this problem. Don't forget to restart the kernel and run the entire notebook from top-to-bottom to make sure you did everything correctly. If that is working, try submitting this problem. (Recall that you *must* submit and pass the autograder to get credit for your work!)"
      ]
    }
  ],
  "metadata": {
    "kernelspec": {
      "display_name": "Python 3 (ipykernel)",
      "language": "python",
      "name": "python3"
    },
    "language_info": {
      "codemirror_mode": {
        "name": "ipython",
        "version": 3
      },
      "file_extension": ".py",
      "mimetype": "text/x-python",
      "name": "python",
      "nbconvert_exporter": "python",
      "pygments_lexer": "ipython3",
      "version": "3.9.13"
    },
    "colab": {
      "provenance": [],
      "include_colab_link": true
    }
  },
  "nbformat": 4,
  "nbformat_minor": 0
}