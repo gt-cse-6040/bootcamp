{
 "cells": [
  {
   "cell_type": "markdown",
   "id": "945c9b8f",
   "metadata": {
    "id": "945c9b8f"
   },
   "source": [
    "# Python Functions and Scalar Data Types"
   ]
  },
  {
   "cell_type": "markdown",
   "id": "ff96c14e",
   "metadata": {
    "id": "ff96c14e"
   },
   "source": [
    "## Functions\n",
    "\n",
    "#### Python functions enable us to write reusable code and define our own algorithms."
   ]
  },
  {
   "cell_type": "markdown",
   "id": "8dcbfaca",
   "metadata": {},
   "source": [
    "## Why do we start the bootcamp with functions?\n",
    "\n",
    "### Because we will use functions from the very first homework notebook, and every exam exercise will involve creating a function to solve the exercise.\n",
    "\n",
    "### So student ABSOLUTELY MUST understand how to use functions."
   ]
  },
  {
   "cell_type": "markdown",
   "id": "633f54f6",
   "metadata": {
    "id": "633f54f6"
   },
   "source": [
    "### Function syntax is as follows:\n",
    "\n",
    "#### Define the function:\n",
    "\n",
    "`def function_name (input parameters):`\n",
    "    \n",
    "    code to execute within the function\n",
    "    \n",
    "    return statement\n",
    "    \n",
    "#### Call the function:\n",
    "\n",
    "`return_value = function_name(parameters)`\n",
    "\n",
    "![functions.png](https://github.com/gt-cse-6040/bootcamp/blob/main/Module%200/Session%202/functions.png?raw=1)"
   ]
  },
  {
   "cell_type": "markdown",
   "id": "57aef72e",
   "metadata": {
    "id": "57aef72e"
   },
   "source": [
    "#### Input variables can be required or optional, and they can also have default values.\n",
    "\n",
    "#### If a variable has a default value, then it will take on that value in the function, if an actual value is not passed into it."
   ]
  },
  {
   "cell_type": "code",
   "execution_count": null,
   "id": "4a6787de",
   "metadata": {
    "id": "4a6787de"
   },
   "outputs": [],
   "source": [
    "def raise_to_power(input_number, power = 2):\n",
    "\n",
    "    result = input_number ** power\n",
    "\n",
    "    return result"
   ]
  },
  {
   "cell_type": "markdown",
   "id": "9104c70f",
   "metadata": {},
   "source": [
    "### How do we call a function?\n",
    "\n",
    "#### Note that every function has a *return* statement.\n",
    "\n",
    "#### So the function is *returning* some value, that needs to be assigned to a variable."
   ]
  },
  {
   "cell_type": "markdown",
   "id": "453b9f5c",
   "metadata": {},
   "source": [
    "power_value = raise_to_power(5)\n",
    "\n",
    "#### In this case, power_value is the variable that we are assigning the function result to."
   ]
  },
  {
   "cell_type": "code",
   "execution_count": null,
   "id": "373703c2",
   "metadata": {
    "colab": {
     "base_uri": "https://localhost:8080/"
    },
    "id": "373703c2",
    "outputId": "8a88856a-c10b-4f8a-84b3-be01e5be1041"
   },
   "outputs": [],
   "source": [
    "# call the function, do not pass in a power variable\n",
    "power_value = raise_to_power(5)\n",
    "power_value"
   ]
  },
  {
   "cell_type": "code",
   "execution_count": null,
   "id": "d0242fe9",
   "metadata": {
    "colab": {
     "base_uri": "https://localhost:8080/"
    },
    "id": "d0242fe9",
    "outputId": "ab90507e-1134-4a6f-f364-3d54b60f1ed4"
   },
   "outputs": [],
   "source": [
    "# call the function, pass in a power variable\n",
    "power_value2 = raise_to_power(5,3)\n",
    "power_value2"
   ]
  },
  {
   "cell_type": "markdown",
   "id": "c5b467a5",
   "metadata": {
    "id": "c5b467a5"
   },
   "source": [
    "One issue that students traditionally have is using `print()` instead of `return`.\n",
    "\n",
    "`print()` will output something to the screen, and the student will see it displayed.\n",
    "\n",
    "The student thinks that `print()` has given the required result. However, only `return` actually enables the notebook to work with the output value of the function."
   ]
  },
  {
   "cell_type": "markdown",
   "id": "30f4adf7",
   "metadata": {
    "id": "30f4adf7"
   },
   "source": [
    "#### Here is a good page on working with functions:  https://www.geeksforgeeks.org/python-functions/\n",
    "\n",
    "Questions on functions?"
   ]
  },
  {
   "cell_type": "markdown",
   "id": "4a9bd493",
   "metadata": {
    "id": "4a9bd493"
   },
   "source": [
    "### Mutable and immutable objects\n",
    "Many objects in Python, such as lists, dictionaries, NumPy arrays, and most user-defined types (classes), are mutable. This means that the object or values that they contain can be modified.\n",
    "\n",
    "Others, like strings and tuples, are immutable, which means their internal data cannot be changed."
   ]
  },
  {
   "cell_type": "markdown",
   "id": "56e6eb88",
   "metadata": {
    "id": "56e6eb88"
   },
   "source": [
    "### Scalar Types\n",
    "Python has a small set of built-in types for handling numerical data, strings, Boolean (True or False) values, and dates and time. These \"single value\" types are sometimes called scalar types, and we refer to them as scalars, or simply as data types.\n",
    "\n",
    "The main data types we will be working with in the class are `None`, `bool`, `int`, `float`, and `str`.\n",
    "\n",
    "#### Python Documentation page for standard types:  https://docs.python.org/3/library/stdtypes.html#  (Note the Table of Contents on the left, to jump directly to the desired topic.)\n",
    "\n",
    "![data_types.png](https://github.com/gt-cse-6040/bootcamp/blob/main/Module%200/Session%202/data_types.png?raw=1)"
   ]
  },
  {
   "cell_type": "markdown",
   "id": "cb85c5ad",
   "metadata": {
    "id": "cb85c5ad"
   },
   "source": [
    "#### None\n",
    "`None` is the Python null value type."
   ]
  },
  {
   "cell_type": "code",
   "execution_count": null,
   "id": "8ffe33dd",
   "metadata": {
    "colab": {
     "base_uri": "https://localhost:8080/",
     "height": 53
    },
    "id": "8ffe33dd",
    "outputId": "63c2ffc8-f66c-4c8d-fdc1-f4d3b62156cf"
   },
   "outputs": [],
   "source": [
    "var_none = None\n",
    "display(var_none is None)\n",
    "\n",
    "var_not_none = 5\n",
    "display(var_not_none is not None)"
   ]
  },
  {
   "cell_type": "markdown",
   "id": "ae87c32d",
   "metadata": {
    "id": "ae87c32d"
   },
   "source": [
    "#### Booleans\n",
    "The two Boolean values in Python are written as `True` and `False`. Comparisons and other conditional expressions evaluate to either `True` or `False`. Boolean values can be combined with the `and` and `or` keywords:"
   ]
  },
  {
   "cell_type": "code",
   "execution_count": null,
   "id": "d773e7ed",
   "metadata": {
    "colab": {
     "base_uri": "https://localhost:8080/",
     "height": 53
    },
    "id": "d773e7ed",
    "outputId": "cb5b9264-2a39-4739-c664-5cf1876ad0aa"
   },
   "outputs": [],
   "source": [
    "display(True and True)\n",
    "display(False or True)\n",
    "display(False and True)  # why does this display False?"
   ]
  },
  {
   "cell_type": "markdown",
   "id": "e3e58d81",
   "metadata": {
    "id": "e3e58d81"
   },
   "source": [
    "When converted to numbers, `False` becomes 0 and `True` becomes 1:"
   ]
  },
  {
   "cell_type": "code",
   "execution_count": null,
   "id": "53249dd2",
   "metadata": {
    "colab": {
     "base_uri": "https://localhost:8080/",
     "height": 53
    },
    "id": "53249dd2",
    "outputId": "f86bc2ef-f767-4176-8725-f6f8705258f6"
   },
   "outputs": [],
   "source": [
    "display(int(False))\n",
    "display(int(True))"
   ]
  },
  {
   "cell_type": "markdown",
   "id": "0c3e5d42",
   "metadata": {
    "id": "0c3e5d42"
   },
   "source": [
    "The keyword `not` flips a Boolean value from True to False or vice versa:"
   ]
  },
  {
   "cell_type": "code",
   "execution_count": null,
   "id": "5b052f22",
   "metadata": {
    "colab": {
     "base_uri": "https://localhost:8080/",
     "height": 53
    },
    "id": "5b052f22",
    "outputId": "7b80fabd-445c-470b-8b64-859cd4365f23"
   },
   "outputs": [],
   "source": [
    "a = True\n",
    "b = False\n",
    "\n",
    "display(not a)\n",
    "display(not b)"
   ]
  },
  {
   "cell_type": "markdown",
   "id": "29bc922e",
   "metadata": {
    "id": "29bc922e"
   },
   "source": [
    "#### Numeric types\n",
    "The primary Python types for numbers are `int` and `float`.\n",
    "\n",
    "Floating-point numbers are represented with the Python float type. We will be looking at floats in detail in Homework Notebook 4, so will not cover them in detail here.\n",
    "\n",
    "Integers can be very large numbers."
   ]
  },
  {
   "cell_type": "code",
   "execution_count": null,
   "id": "fb44b849",
   "metadata": {
    "colab": {
     "base_uri": "https://localhost:8080/"
    },
    "id": "fb44b849",
    "outputId": "b16112d3-07ad-463c-f18e-1d07fc53dced"
   },
   "outputs": [],
   "source": [
    "int_val = 648903229\n",
    "# use the ** to raise a number to that power\n",
    "int_val ** 8"
   ]
  },
  {
   "cell_type": "markdown",
   "id": "51aa3dfe",
   "metadata": {
    "id": "51aa3dfe"
   },
   "source": [
    "#### Strings\n",
    "Python has extensive built-in string handling capabilities.\n",
    "\n",
    "You can write string literals using either single quotes ' or double quotes \".\n",
    "\n",
    "The Python string type is `str`.\n",
    "\n",
    "For multiline strings with line breaks, you can use triple quotes, either ''' or \"\"\"."
   ]
  },
  {
   "cell_type": "markdown",
   "id": "89738a77",
   "metadata": {
    "id": "89738a77"
   },
   "source": [
    "#### String processing in this class includes both Python string manipulation functions and using regex.\n",
    "\n",
    "#### We will cover the former here and the latter in a future bootcamp session.\n",
    "\n",
    "#### Homework notebook 5 is where regex is introduced as a graded topic."
   ]
  },
  {
   "cell_type": "code",
   "execution_count": null,
   "id": "e237f14f",
   "metadata": {
    "id": "e237f14f"
   },
   "outputs": [],
   "source": [
    "single_str = 'string using single quotes '\n",
    "double_str = \"string using double quotes\"\n",
    "\n",
    "multi_line_str = \"\"\"\n",
    "This is a longer string that\n",
    "contains multiple lines\n",
    "\"\"\""
   ]
  },
  {
   "cell_type": "markdown",
   "id": "3fe429b6",
   "metadata": {
    "id": "3fe429b6"
   },
   "source": [
    "Strings are a sequence of characters and therefore can be treated like other sequences, such as lists and tuples.\n",
    "\n",
    "The individual elements in a string can be addressed by their position.\n",
    "\n",
    "Note that Python uses square bracket notation in addressing individual elements of an object/variable."
   ]
  },
  {
   "cell_type": "code",
   "execution_count": null,
   "id": "1437a55e",
   "metadata": {
    "colab": {
     "base_uri": "https://localhost:8080/",
     "height": 36
    },
    "id": "1437a55e",
    "outputId": "36cf0cfc-535f-45f4-99ca-2f97761b8d21"
   },
   "outputs": [],
   "source": [
    "# Python uses zero-based addressing, so the element below\n",
    "# is actually the 11th element in the string.\n",
    "display(single_str)\n",
    "display(single_str[10])"
   ]
  },
  {
   "cell_type": "markdown",
   "id": "b73d24d5",
   "metadata": {
    "id": "b73d24d5"
   },
   "source": [
    "Python strings are immutable, so you cannot modify a string."
   ]
  },
  {
   "cell_type": "code",
   "execution_count": null,
   "id": "678697c7",
   "metadata": {
    "id": "678697c7"
   },
   "outputs": [],
   "source": [
    "# this will throw an error, uncomment to illustrate\n",
    "# single_str[10] = 'z'"
   ]
  },
  {
   "cell_type": "markdown",
   "id": "4abb82fb",
   "metadata": {
    "id": "4abb82fb"
   },
   "source": [
    "Adding two strings together concatenates them and produces a new string."
   ]
  },
  {
   "cell_type": "code",
   "execution_count": null,
   "id": "4469116c",
   "metadata": {
    "colab": {
     "base_uri": "https://localhost:8080/",
     "height": 36
    },
    "id": "4469116c",
    "outputId": "6a2232c5-e211-4cdb-9311-608a5a37d6b0"
   },
   "outputs": [],
   "source": [
    "new_string = single_str + double_str\n",
    "display(new_string)"
   ]
  },
  {
   "cell_type": "markdown",
   "id": "139b8aea",
   "metadata": {
    "id": "139b8aea"
   },
   "source": [
    "### String documentation pages -- bookmark these for reference throughout the class.\n",
    "\n",
    "#### Main documentation page:  https://docs.python.org/3/library/string.html\n",
    "\n",
    "#### String methods:  https://docs.python.org/3/library/stdtypes.html#string-methods"
   ]
  },
  {
   "cell_type": "markdown",
   "id": "a7cb3c9f",
   "metadata": {
    "id": "a7cb3c9f"
   },
   "source": [
    "### String formatting\n",
    "\n",
    "This is a relatively new feature in Python, and it will be useful throughout the class. You will see string formatting exercises on multiple midterm practice problems (previous semester exams), and it is likely that you will need to do this on at least one of your exams in the class.\n",
    "\n",
    "There are two main ways of doing string formatting:  str.format() method, and f-strings. You will see examples of each throughout the class. It would be good for students to have an understanding of each method.\n",
    "\n",
    "`str.format()` method:  https://docs.python.org/3/library/string.html#format-string-syntax\n",
    "\n",
    "`f-strings`:  https://docs.python.org/3/tutorial/inputoutput.html"
   ]
  },
  {
   "cell_type": "markdown",
   "id": "896dea73",
   "metadata": {
    "id": "896dea73"
   },
   "source": [
    "#### Both string formatting methods use a substitution paradigm. The portions of the string to be substituted in are enclosed in squiggly brackets `{}` and those values are passed to the method when printing or displaying."
   ]
  },
  {
   "cell_type": "markdown",
   "id": "34dfd9ff",
   "metadata": {},
   "source": [
    "### We generally recommend using f-strings in your functions, simply because they are easier to understand when reviewing your code flow.\n",
    "\n",
    "#### But whichever one to use is totally up to the student, as they both produce the same result, in the end."
   ]
  },
  {
   "cell_type": "markdown",
   "id": "1160148b",
   "metadata": {
    "id": "1160148b"
   },
   "source": [
    "`format()` is a method of a string. The manner of calling it is to define a string template that includes the required substitutions, then calling the `format()` method, passing in the desired text to be substituted in."
   ]
  },
  {
   "cell_type": "code",
   "execution_count": null,
   "id": "210d5459",
   "metadata": {
    "colab": {
     "base_uri": "https://localhost:8080/",
     "height": 36
    },
    "id": "210d5459",
    "outputId": "7729ce6f-9fe0-43a7-dc63-4afa44ab07fa"
   },
   "outputs": [],
   "source": [
    "# define the template\n",
    "string_template = \"{} is the professor for the class {}.\"\n",
    "string_template.format(\"Professor Vuduc\", \"CSE6040\")"
   ]
  },
  {
   "cell_type": "code",
   "execution_count": null,
   "id": "3610d5ed",
   "metadata": {
    "colab": {
     "base_uri": "https://localhost:8080/",
     "height": 36
    },
    "id": "3610d5ed",
    "outputId": "d03564e6-8621-4dbf-8d50-cc2a0a6874fb"
   },
   "outputs": [],
   "source": [
    "string_template2 = \"To achieve an A in {}, students must attain {:.2%} or higher.\"\n",
    "string_template2.format(\"CSE6040\", .9)\n",
    "\n",
    "# {:.2%} means to format the argument as a floating-point percentage with two decimal places.\n",
    "# See the documentation for different formatting options."
   ]
  },
  {
   "cell_type": "markdown",
   "id": "ba5ceaf6",
   "metadata": {
    "id": "ba5ceaf6"
   },
   "source": [
    "`f-strings` use substitution, but in the opposite order than `format()`.\n",
    "\n",
    "First define the variables (and values) to be substituted in, then the `f-string` itself.\n"
   ]
  },
  {
   "cell_type": "code",
   "execution_count": null,
   "id": "c14efd0e",
   "metadata": {
    "colab": {
     "base_uri": "https://localhost:8080/",
     "height": 36
    },
    "id": "c14efd0e",
    "outputId": "1ef33f29-e02b-41b3-83cc-0f881dccf788"
   },
   "outputs": [],
   "source": [
    "professor = \"Professor Vuduc\"\n",
    "OMSA_class = \"CSE6040\"\n",
    "\n",
    "result = f\"{professor} is the professor for the class {OMSA_class}.\"\n",
    "result"
   ]
  },
  {
   "cell_type": "code",
   "execution_count": null,
   "id": "LBPlYqZRwwQe",
   "metadata": {
    "colab": {
     "base_uri": "https://localhost:8080/",
     "height": 36
    },
    "id": "LBPlYqZRwwQe",
    "outputId": "784fe1a7-18bb-4f79-a007-5fd092dbd752"
   },
   "outputs": [],
   "source": [
    "my_grade = 98.98888888\n",
    "result2 = f\"I have received a {my_grade:.2f} in {OMSA_class}!\"\n",
    "result2"
   ]
  },
  {
   "cell_type": "markdown",
   "id": "290b3a18",
   "metadata": {
    "id": "290b3a18"
   },
   "source": [
    "### The upper() and lower() functions are ones that you will see extensively in this course, so we will introduce them here."
   ]
  },
  {
   "cell_type": "markdown",
   "id": "d1882214",
   "metadata": {
    "id": "d1882214"
   },
   "source": [
    "**`upper()`** and **`lower()`** -- These methods convert letters in the string to either upper or lower case. They ignore non-letter characters. These methods do not take any arguments.\n",
    "\n",
    "https://www.geeksforgeeks.org/python-string-upper/\n",
    "https://www.w3schools.com/python/ref_string_upper.asp\n",
    "\n",
    "https://www.geeksforgeeks.org/python-string-lower/\n",
    "https://www.w3schools.com/python/ref_string_lower.asp"
   ]
  },
  {
   "cell_type": "code",
   "execution_count": null,
   "id": "265500fd",
   "metadata": {
    "id": "265500fd"
   },
   "outputs": [],
   "source": [
    "# First sentence of the first book in the Harry Potter series.\n",
    "potter_text = '''Mr. and Mrs. Dursley, of number four, Privet Drive, were proud to say that they were perfectly normal, thank you very much.'''\n",
    "display(potter_text)"
   ]
  },
  {
   "cell_type": "code",
   "execution_count": null,
   "id": "19b57ddd",
   "metadata": {
    "colab": {
     "base_uri": "https://localhost:8080/",
     "height": 36
    },
    "id": "19b57ddd",
    "outputId": "08a0ce0a-9ecb-4b57-e34c-a8318745d22c"
   },
   "outputs": [],
   "source": [
    "potter_text_caps = potter_text.upper()\n",
    "display(potter_text_caps)"
   ]
  },
  {
   "cell_type": "code",
   "execution_count": null,
   "id": "3c600d08",
   "metadata": {
    "colab": {
     "base_uri": "https://localhost:8080/",
     "height": 36
    },
    "id": "3c600d08",
    "outputId": "285e35f1-e725-4b5b-a77d-691cf59291ba"
   },
   "outputs": [],
   "source": [
    "potter_text_smalls = potter_text.lower()\n",
    "display(potter_text_smalls)"
   ]
  },
  {
   "cell_type": "markdown",
   "id": "9baeb93c",
   "metadata": {},
   "source": [
    "### The split() and join() functions are also ones that you will see extensively in this course, so we will introduce them here.\n",
    "\n",
    "### Tap tap tap..............  You will definitely have multiple opportunities to demonstrate your proficiency with these functions on exams in the course."
   ]
  },
  {
   "cell_type": "markdown",
   "id": "ebf22800",
   "metadata": {},
   "source": [
    "## Tap tap tap -- What does that mean? In the bootcamp, when a TA Instructor says this before some topic or exercise, it means that you are going to see this, or something very similar, on the upcoming exam. You should ensure that you fully understand the topic, and you should be able to produce something similar under the timed exam scenario."
   ]
  },
  {
   "cell_type": "markdown",
   "id": "db2eb085",
   "metadata": {
    "id": "db2eb085"
   },
   "source": [
    "**`split()`**\n",
    "\n",
    "`split(separator, maxsplit = -1)` -- This method splits a string into a list of strings, after breaking the given string by the specified separator. Both of the parameters are optional.\n",
    "\n",
    "1. The `separator` parameter is a delimiter. The string splits at this specified separator. If is not provided then any white space is a separator.\n",
    "\n",
    "2. If multiple return variables are provided, and the number of return variables equals the number of items after the split is performed, then each return variable will be a string, and no list will be returned.\n",
    "\n",
    "3. The `maxsplits` parameter is a number, which tells us to split the string into maximum of provided number of times. If it is not provided then the default is -1 that means there is no limit.\n",
    "\n",
    "In this class, we will generally not be specifying the maxsplits parameter."
   ]
  },
  {
   "cell_type": "markdown",
   "id": "226da512",
   "metadata": {},
   "source": [
    "#### Don't worry that we have not yet covered lists, as we will do so in the next session."
   ]
  },
  {
   "cell_type": "code",
   "execution_count": null,
   "id": "03406b14",
   "metadata": {
    "colab": {
     "base_uri": "https://localhost:8080/"
    },
    "id": "03406b14",
    "outputId": "a677395e-fba5-431b-acd4-8b8d8612fea7"
   },
   "outputs": [],
   "source": [
    "# split with parameters not specified,\n",
    "# so will split on white space\n",
    "potter_text_split = potter_text.split()\n",
    "print(potter_text_split)"
   ]
  },
  {
   "cell_type": "code",
   "execution_count": null,
   "id": "24daf0c0",
   "metadata": {
    "colab": {
     "base_uri": "https://localhost:8080/",
     "height": 91
    },
    "id": "24daf0c0",
    "outputId": "e2420dea-d2d3-4eec-c371-83967f6dd109"
   },
   "outputs": [],
   "source": [
    "# a method to break down a time string into its components\n",
    "# of hours, minutes, and seconds\n",
    "current_time = '11:24:46'\n",
    "\n",
    "# split into a list, single return variable\n",
    "lst_time = current_time.split(':')\n",
    "display(lst_time)\n",
    "\n",
    "# three return variables, each its own string\n",
    "hours, mins, secs = current_time.split(':')\n",
    "display(hours, mins, secs)"
   ]
  },
  {
   "cell_type": "markdown",
   "id": "f5681aac",
   "metadata": {
    "id": "f5681aac"
   },
   "source": [
    "**`join()`**\n",
    "\n",
    "`'element_to_join_on'.join(iterable)` -- This method is used to join elements of the sequence separated by a string separator. This function joins elements of a sequence and makes it a string.\n",
    "\n",
    "`Iterable` – These are objects capable of returning their members one at a time. Some examples are `List`, `Tuple`, `String`, `Dictionary`, and `Set`.\n",
    "\n",
    "The `element_to_join_on` in the above is telling Python to use that as the separator when joining the items to create the string.\n",
    "\n",
    "#### Again, don't worry about the fact that we have not yet covered iterables and lists, as we will do so in the next session."
   ]
  },
  {
   "cell_type": "code",
   "execution_count": null,
   "id": "fc3011f3",
   "metadata": {
    "colab": {
     "base_uri": "https://localhost:8080/",
     "height": 35
    },
    "id": "fc3011f3",
    "outputId": "10521748-36c2-4011-a0e7-d20ae315f9d0"
   },
   "outputs": [],
   "source": [
    "# recall that we made a variable that split a time string\n",
    "display(lst_time)"
   ]
  },
  {
   "cell_type": "code",
   "execution_count": null,
   "id": "4982d5dd",
   "metadata": {
    "colab": {
     "base_uri": "https://localhost:8080/",
     "height": 36
    },
    "id": "4982d5dd",
    "outputId": "0eb2416c-dea8-4ad9-8f86-358f9144c539"
   },
   "outputs": [],
   "source": [
    "# now join the elements back together\n",
    "str_time = ':'.join(lst_time)\n",
    "display(str_time)"
   ]
  },
  {
   "cell_type": "code",
   "execution_count": null,
   "id": "7cff55e7",
   "metadata": {
    "colab": {
     "base_uri": "https://localhost:8080/",
     "height": 35
    },
    "id": "7cff55e7",
    "outputId": "b2c59313-7057-4664-bb47-28a2c3c78167"
   },
   "outputs": [],
   "source": [
    "# recall the potter text list\n",
    "print(potter_text_split)"
   ]
  },
  {
   "cell_type": "code",
   "execution_count": null,
   "id": "0e0122f3",
   "metadata": {
    "colab": {
     "base_uri": "https://localhost:8080/",
     "height": 36
    },
    "id": "0e0122f3",
    "outputId": "217586a5-e3cf-4cdc-fb38-fc27f0e01f20"
   },
   "outputs": [],
   "source": [
    "# note that we are joining with a space\n",
    "sentence_text = ' '.join(potter_text_split)\n",
    "display(sentence_text)"
   ]
  },
  {
   "cell_type": "markdown",
   "id": "14cd8810",
   "metadata": {},
   "source": [
    "### We recommend that students come back to this notebook after the sessions on iterables and lists, if they have questions on how these functions operate."
   ]
  },
  {
   "cell_type": "markdown",
   "id": "4f2973bf",
   "metadata": {},
   "source": [
    "## Below are some common string functions that students will be required to use in the class. See the documentation for examples of how to use them.\n",
    "\n",
    "### We are not covering these functions in detail in the bootcamp, and we expect students to learn them on their own.\n",
    "\n",
    "`replace()`\n",
    "\n",
    "`count()`\n",
    "\n",
    "`find()`\n",
    "\n",
    "`is*()` functions\n",
    "\n",
    "`strip()` and `lstrip()` and `rstrip()`\n",
    "\n",
    "String Methods Documentation:  https://docs.python.org/3/library/stdtypes.html#text-sequence-type-str\n",
    "\n",
    "More Documentation:  https://docs.python.org/3/library/string.html"
   ]
  },
  {
   "cell_type": "code",
   "execution_count": null,
   "id": "00c6fb70",
   "metadata": {},
   "outputs": [],
   "source": []
  }
 ],
 "metadata": {
  "colab": {
   "include_colab_link": true,
   "provenance": []
  },
  "kernelspec": {
   "display_name": "Python 3 (ipykernel)",
   "language": "python",
   "name": "python3"
  },
  "language_info": {
   "codemirror_mode": {
    "name": "ipython",
    "version": 3
   },
   "file_extension": ".py",
   "mimetype": "text/x-python",
   "name": "python",
   "nbconvert_exporter": "python",
   "pygments_lexer": "ipython3",
   "version": "3.9.13"
  }
 },
 "nbformat": 4,
 "nbformat_minor": 5
}
